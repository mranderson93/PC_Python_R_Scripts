{
 "cells": [
  {
   "cell_type": "markdown",
   "id": "7c5d34a1-7373-4024-b594-4ae1e0dbfa30",
   "metadata": {},
   "source": [
    "# Import Libraries"
   ]
  },
  {
   "cell_type": "code",
   "execution_count": 7,
   "id": "243f21fc-5535-40cf-8654-5eaeb23607c9",
   "metadata": {},
   "outputs": [],
   "source": [
    "import pandas as pd\n",
    "import numpy as np\n",
    "import os\n",
    "import matplotlib.pyplot as plt\n",
    "import seaborn as sns\n",
    "\n",
    "import torch\n",
    "from torch import nn\n",
    "from torch.utils.data import DataLoader, TensorDataset\n",
    "from torchvision import datasets, transforms\n",
    "from typing import Union\n",
    "import random\n",
    "from pathlib import Path"
   ]
  },
  {
   "cell_type": "markdown",
   "id": "d8df245b-1bca-4732-a652-9df2a9a543f3",
   "metadata": {},
   "source": [
    "## Import Models and Data Loaders"
   ]
  },
  {
   "cell_type": "code",
   "execution_count": 8,
   "id": "f0e05785-e9b7-49af-b003-6faa598914fd",
   "metadata": {},
   "outputs": [],
   "source": [
    "from Return_dataloader import pass_dataloader\n",
    "from Transformer_model import TabTransformer\n",
    "from Plot_Accuracies import plot_loss_curves\n",
    "from engine import train"
   ]
  },
  {
   "cell_type": "markdown",
   "id": "3c45adc4-48db-4efb-806a-b87db600d898",
   "metadata": {},
   "source": [
    "# Device Agnostics"
   ]
  },
  {
   "cell_type": "code",
   "execution_count": 9,
   "id": "cfda076a-e620-4160-aaf2-c113a484ca83",
   "metadata": {},
   "outputs": [
    {
     "name": "stdout",
     "output_type": "stream",
     "text": [
      "Available device is: cpu\n"
     ]
    }
   ],
   "source": [
    "# Clear Cache\n",
    "torch.cuda.empty_cache()\n",
    "\n",
    "device = torch.device(\"cuda\" if torch.cuda.is_available() else \"cpu\")\n",
    "print(f\"Available device is: {device}\")"
   ]
  },
  {
   "cell_type": "markdown",
   "id": "f6486c3e-1e1b-440f-838c-0faf48ff50bf",
   "metadata": {},
   "source": [
    "### Data Loader"
   ]
  },
  {
   "cell_type": "code",
   "execution_count": 10,
   "id": "62501939-4e5e-4ab1-949e-a38897032f54",
   "metadata": {},
   "outputs": [],
   "source": [
    "train_dataloader, test_dataloader = pass_dataloader()"
   ]
  },
  {
   "cell_type": "markdown",
   "id": "81127839-be94-4c7e-aa3e-85f7ec65dc2a",
   "metadata": {},
   "source": [
    "### Parameter Tune Function"
   ]
  },
  {
   "cell_type": "code",
   "execution_count": 11,
   "id": "31b1a850-72a8-43c9-9e07-31dd3a97fcf5",
   "metadata": {},
   "outputs": [],
   "source": [
    "from copy import deepcopy\n",
    "\n",
    "def hyperparameter_tuning(param_grid,\n",
    "                          train_dataloader,\n",
    "                          test_dataloader,\n",
    "                          device,\n",
    "                          epochs=50):\n",
    "\n",
    "    best_val_score = -float('inf')\n",
    "    best_params = None\n",
    "    best_results = None\n",
    "\n",
    "    for params in param_grid:\n",
    "        print(f\"Training with d_model={params['d_model']}, nhead={params['nhead']}, \"\n",
    "              f\"num_layers={params['num_layers']}, dropout={params['dropout']}, lr={params['lr']}\")\n",
    "\n",
    "        # Create model with given hyperparameters\n",
    "        model = TabTransformer(input_dim=100,\n",
    "                               d_model=params['d_model'],\n",
    "                               nhead=params['nhead'],\n",
    "                               num_layers=params['num_layers'],\n",
    "                               dropout=params['dropout']).to(device)\n",
    "\n",
    "        loss_fn = nn.BCEWithLogitsLoss()\n",
    "        optimizer = torch.optim.Adam(model.parameters(),\n",
    "                                     lr=params['lr'],\n",
    "                                     weight_decay=1e-4)\n",
    "\n",
    "        # Train model and get results dictionary\n",
    "        results = train(model=model,\n",
    "                        train_dataloader=train_dataloader,\n",
    "                        test_dataloader=test_dataloader,\n",
    "                        optimizer=optimizer,\n",
    "                        loss_fn=loss_fn,\n",
    "                        device=device,\n",
    "                        epochs=epochs)\n",
    "\n",
    "        # Pick best validation score (ROC-AUC here) from all epochs\n",
    "        max_val_roc_auc = max(results['test_roc_auc'])\n",
    "\n",
    "        print(f\"Max val ROC-AUC: {max_val_roc_auc:.4f}\")\n",
    "\n",
    "        if max_val_roc_auc > best_val_score:\n",
    "            best_val_score = max_val_roc_auc\n",
    "            best_params = params\n",
    "            best_results = deepcopy(results)\n",
    "\n",
    "    print(f\"\\nBest params: {best_params}\")\n",
    "    print(f\"Best validation ROC-AUC: {best_val_score:.4f}\")\n",
    "\n",
    "    return best_params, best_results\n"
   ]
  },
  {
   "cell_type": "markdown",
   "id": "d6a5d9a0-a4a4-4807-898f-4cadd8764799",
   "metadata": {},
   "source": [
    "## Hyperparameter Tuning"
   ]
  },
  {
   "cell_type": "code",
   "execution_count": null,
   "id": "409af98c-2c9d-4045-9875-7e23cfd0841e",
   "metadata": {
    "scrolled": true
   },
   "outputs": [
    {
     "name": "stdout",
     "output_type": "stream",
     "text": [
      "Training with d_model=64, nhead=2, num_layers=2, dropout=0.0, lr=0.1\n"
     ]
    },
    {
     "name": "stderr",
     "output_type": "stream",
     "text": [
      "G:\\M.Sc_Neaz\\08_TCGA_Prostate_Data\\Prostate_Cancer_Challenge\\Python Scripts\\pcvenv\\Lib\\site-packages\\torch\\nn\\modules\\transformer.py:382: UserWarning: enable_nested_tensor is True, but self.use_nested_tensor is False because encoder_layer.norm_first was True\n",
      "  warnings.warn(\n"
     ]
    },
    {
     "data": {
      "application/vnd.jupyter.widget-view+json": {
       "model_id": "05906715e0654637b4bf6b998a003755",
       "version_major": 2,
       "version_minor": 0
      },
      "text/plain": [
       "  0%|          | 0/10 [00:00<?, ?it/s]"
      ]
     },
     "metadata": {},
     "output_type": "display_data"
    },
    {
     "name": "stdout",
     "output_type": "stream",
     "text": [
      "Epoch: 10 | Train Loss: 0.1702 | Acc: 0.9434 | Prec: 0.9549 | Recall: 0.9216 | F1: 0.9379 | ROC-AUC: 0.9691 || Test Loss: 0.2882 | Acc: 0.9047 | Prec: 0.9812 | Recall: 0.9148 | F1: 0.9468 | ROC-AUC: 0.9220\n",
      "Max val ROC-AUC: 0.9276\n",
      "Training with d_model=64, nhead=2, num_layers=2, dropout=0.0, lr=0.1\n"
     ]
    },
    {
     "data": {
      "application/vnd.jupyter.widget-view+json": {
       "model_id": "4eaefcaa71414758ba28bb1c9348bcfb",
       "version_major": 2,
       "version_minor": 0
      },
      "text/plain": [
       "  0%|          | 0/10 [00:00<?, ?it/s]"
      ]
     },
     "metadata": {},
     "output_type": "display_data"
    },
    {
     "name": "stdout",
     "output_type": "stream",
     "text": [
      "Epoch: 10 | Train Loss: 0.1830 | Acc: 0.9400 | Prec: 0.9622 | Recall: 0.9063 | F1: 0.9334 | ROC-AUC: 0.9783 || Test Loss: 0.2551 | Acc: 0.9372 | Prec: 0.9869 | Recall: 0.9449 | F1: 0.9654 | ROC-AUC: 0.9601\n",
      "Max val ROC-AUC: 0.9620\n",
      "Training with d_model=64, nhead=2, num_layers=2, dropout=0.0, lr=0.1\n"
     ]
    },
    {
     "data": {
      "application/vnd.jupyter.widget-view+json": {
       "model_id": "ec6d042401b148e2a1c26dc84c8f0c63",
       "version_major": 2,
       "version_minor": 0
      },
      "text/plain": [
       "  0%|          | 0/10 [00:00<?, ?it/s]"
      ]
     },
     "metadata": {},
     "output_type": "display_data"
    },
    {
     "name": "stdout",
     "output_type": "stream",
     "text": [
      "Epoch: 10 | Train Loss: 0.1418 | Acc: 0.9569 | Prec: 0.9664 | Recall: 0.9397 | F1: 0.9529 | ROC-AUC: 0.9866 || Test Loss: 0.4261 | Acc: 0.8698 | Prec: 0.9942 | Recall: 0.8647 | F1: 0.9249 | ROC-AUC: 0.9546\n",
      "Max val ROC-AUC: 0.9690\n",
      "Training with d_model=64, nhead=2, num_layers=2, dropout=0.0, lr=0.1\n"
     ]
    },
    {
     "data": {
      "application/vnd.jupyter.widget-view+json": {
       "model_id": "33092c53386f47b4b93f3bf7d592b248",
       "version_major": 2,
       "version_minor": 0
      },
      "text/plain": [
       "  0%|          | 0/10 [00:00<?, ?it/s]"
      ]
     },
     "metadata": {},
     "output_type": "display_data"
    },
    {
     "name": "stdout",
     "output_type": "stream",
     "text": [
      "Epoch: 10 | Train Loss: 0.1755 | Acc: 0.9424 | Prec: 0.9561 | Recall: 0.9179 | F1: 0.9366 | ROC-AUC: 0.9783 || Test Loss: 0.3036 | Acc: 0.8884 | Prec: 0.9835 | Recall: 0.8947 | F1: 0.9370 | ROC-AUC: 0.9295\n",
      "Max val ROC-AUC: 0.9302\n",
      "Training with d_model=64, nhead=2, num_layers=2, dropout=0.0, lr=0.1\n"
     ]
    },
    {
     "data": {
      "application/vnd.jupyter.widget-view+json": {
       "model_id": "737fe5574af74c86ab2af9073e4df2e6",
       "version_major": 2,
       "version_minor": 0
      },
      "text/plain": [
       "  0%|          | 0/10 [00:00<?, ?it/s]"
      ]
     },
     "metadata": {},
     "output_type": "display_data"
    },
    {
     "name": "stdout",
     "output_type": "stream",
     "text": [
      "Epoch: 10 | Train Loss: 0.1739 | Acc: 0.9438 | Prec: 0.9727 | Recall: 0.9041 | F1: 0.9371 | ROC-AUC: 0.9701 || Test Loss: 0.4443 | Acc: 0.8442 | Prec: 0.9826 | Recall: 0.8471 | F1: 0.9098 | ROC-AUC: 0.8909\n",
      "Max val ROC-AUC: 0.9507\n",
      "Training with d_model=64, nhead=2, num_layers=2, dropout=0.0, lr=0.1\n"
     ]
    },
    {
     "data": {
      "application/vnd.jupyter.widget-view+json": {
       "model_id": "03090168ba7346e7a99fd137208b2c1a",
       "version_major": 2,
       "version_minor": 0
      },
      "text/plain": [
       "  0%|          | 0/10 [00:00<?, ?it/s]"
      ]
     },
     "metadata": {},
     "output_type": "display_data"
    },
    {
     "name": "stdout",
     "output_type": "stream",
     "text": [
      "Epoch: 10 | Train Loss: 0.1390 | Acc: 0.9603 | Prec: 0.9744 | Recall: 0.9390 | F1: 0.9564 | ROC-AUC: 0.9776 || Test Loss: 0.8087 | Acc: 0.7116 | Prec: 0.9928 | Recall: 0.6942 | F1: 0.8171 | ROC-AUC: 0.9337\n",
      "Max val ROC-AUC: 0.9431\n",
      "Training with d_model=64, nhead=2, num_layers=2, dropout=0.0, lr=0.1\n"
     ]
    },
    {
     "data": {
      "application/vnd.jupyter.widget-view+json": {
       "model_id": "1d87a1403b2c4d2599a604a759982124",
       "version_major": 2,
       "version_minor": 0
      },
      "text/plain": [
       "  0%|          | 0/10 [00:00<?, ?it/s]"
      ]
     },
     "metadata": {},
     "output_type": "display_data"
    },
    {
     "name": "stdout",
     "output_type": "stream",
     "text": [
      "Epoch: 10 | Train Loss: 0.2186 | Acc: 0.9299 | Prec: 0.9570 | Recall: 0.8889 | F1: 0.9217 | ROC-AUC: 0.9618 || Test Loss: 0.2795 | Acc: 0.9233 | Prec: 0.9841 | Recall: 0.9323 | F1: 0.9575 | ROC-AUC: 0.9053\n",
      "Max val ROC-AUC: 0.9517\n",
      "Training with d_model=64, nhead=2, num_layers=2, dropout=0.0, lr=0.1\n"
     ]
    },
    {
     "data": {
      "application/vnd.jupyter.widget-view+json": {
       "model_id": "1782f27a4ed7437da0416561f199ecd6",
       "version_major": 2,
       "version_minor": 0
      },
      "text/plain": [
       "  0%|          | 0/10 [00:00<?, ?it/s]"
      ]
     },
     "metadata": {},
     "output_type": "display_data"
    },
    {
     "name": "stdout",
     "output_type": "stream",
     "text": [
      "Epoch: 10 | Train Loss: 0.1539 | Acc: 0.9518 | Prec: 0.9710 | Recall: 0.9237 | F1: 0.9468 | ROC-AUC: 0.9786 || Test Loss: 0.4201 | Acc: 0.8395 | Prec: 0.9911 | Recall: 0.8346 | F1: 0.9061 | ROC-AUC: 0.9432\n",
      "Max val ROC-AUC: 0.9743\n",
      "Training with d_model=64, nhead=2, num_layers=2, dropout=0.0, lr=0.1\n"
     ]
    },
    {
     "data": {
      "application/vnd.jupyter.widget-view+json": {
       "model_id": "780ca6dbdcfd4d90911473e7c0370add",
       "version_major": 2,
       "version_minor": 0
      },
      "text/plain": [
       "  0%|          | 0/10 [00:00<?, ?it/s]"
      ]
     },
     "metadata": {},
     "output_type": "display_data"
    },
    {
     "name": "stdout",
     "output_type": "stream",
     "text": [
      "Epoch: 10 | Train Loss: 0.1818 | Acc: 0.9431 | Prec: 0.9726 | Recall: 0.9027 | F1: 0.9363 | ROC-AUC: 0.9698 || Test Loss: 0.4845 | Acc: 0.8791 | Prec: 0.9806 | Recall: 0.8872 | F1: 0.9316 | ROC-AUC: 0.8995\n",
      "Max val ROC-AUC: 0.9562\n",
      "Training with d_model=64, nhead=2, num_layers=2, dropout=0.0, lr=0.1\n"
     ]
    },
    {
     "data": {
      "application/vnd.jupyter.widget-view+json": {
       "model_id": "54057b244a0a42c3bed8f74dc5e05d48",
       "version_major": 2,
       "version_minor": 0
      },
      "text/plain": [
       "  0%|          | 0/10 [00:00<?, ?it/s]"
      ]
     },
     "metadata": {},
     "output_type": "display_data"
    },
    {
     "name": "stdout",
     "output_type": "stream",
     "text": [
      "Epoch: 10 | Train Loss: 0.1580 | Acc: 0.9502 | Prec: 0.9694 | Recall: 0.9216 | F1: 0.9449 | ROC-AUC: 0.9775 || Test Loss: 0.3985 | Acc: 0.8814 | Prec: 0.9807 | Recall: 0.8897 | F1: 0.9330 | ROC-AUC: 0.8773\n",
      "Max val ROC-AUC: 0.9600\n",
      "Training with d_model=64, nhead=2, num_layers=2, dropout=0.0, lr=0.01\n"
     ]
    },
    {
     "data": {
      "application/vnd.jupyter.widget-view+json": {
       "model_id": "4fe551e0d03c4a39bb92218adebabeef",
       "version_major": 2,
       "version_minor": 0
      },
      "text/plain": [
       "  0%|          | 0/10 [00:00<?, ?it/s]"
      ]
     },
     "metadata": {},
     "output_type": "display_data"
    },
    {
     "name": "stdout",
     "output_type": "stream",
     "text": [
      "Epoch: 10 | Train Loss: 0.0406 | Acc: 0.9879 | Prec: 0.9862 | Recall: 0.9877 | F1: 0.9869 | ROC-AUC: 0.9986 || Test Loss: 0.6322 | Acc: 0.8651 | Prec: 0.9858 | Recall: 0.8672 | F1: 0.9227 | ROC-AUC: 0.9273\n",
      "Max val ROC-AUC: 0.9466\n",
      "Training with d_model=64, nhead=2, num_layers=2, dropout=0.0, lr=0.01\n"
     ]
    },
    {
     "data": {
      "application/vnd.jupyter.widget-view+json": {
       "model_id": "59f657bf18674e399e378a4e4ec2c482",
       "version_major": 2,
       "version_minor": 0
      },
      "text/plain": [
       "  0%|          | 0/10 [00:00<?, ?it/s]"
      ]
     },
     "metadata": {},
     "output_type": "display_data"
    },
    {
     "name": "stdout",
     "output_type": "stream",
     "text": [
      "Epoch: 10 | Train Loss: 0.0526 | Acc: 0.9842 | Prec: 0.9812 | Recall: 0.9847 | F1: 0.9830 | ROC-AUC: 0.9973 || Test Loss: 0.3243 | Acc: 0.9163 | Prec: 0.9919 | Recall: 0.9173 | F1: 0.9531 | ROC-AUC: 0.9613\n",
      "Max val ROC-AUC: 0.9639\n",
      "Training with d_model=64, nhead=2, num_layers=2, dropout=0.0, lr=0.01\n"
     ]
    },
    {
     "data": {
      "application/vnd.jupyter.widget-view+json": {
       "model_id": "3ee538a70d2e473387fec26cb4c5b464",
       "version_major": 2,
       "version_minor": 0
      },
      "text/plain": [
       "  0%|          | 0/10 [00:00<?, ?it/s]"
      ]
     },
     "metadata": {},
     "output_type": "display_data"
    },
    {
     "name": "stdout",
     "output_type": "stream",
     "text": [
      "Epoch: 10 | Train Loss: 0.0496 | Acc: 0.9865 | Prec: 0.9897 | Recall: 0.9811 | F1: 0.9854 | ROC-AUC: 0.9973 || Test Loss: 0.4243 | Acc: 0.9116 | Prec: 0.9892 | Recall: 0.9148 | F1: 0.9505 | ROC-AUC: 0.9552\n",
      "Max val ROC-AUC: 0.9758\n",
      "Training with d_model=64, nhead=2, num_layers=2, dropout=0.0, lr=0.01\n"
     ]
    },
    {
     "data": {
      "application/vnd.jupyter.widget-view+json": {
       "model_id": "44c220f2fc034ea384a6b1e737795016",
       "version_major": 2,
       "version_minor": 0
      },
      "text/plain": [
       "  0%|          | 0/10 [00:00<?, ?it/s]"
      ]
     },
     "metadata": {},
     "output_type": "display_data"
    },
    {
     "name": "stdout",
     "output_type": "stream",
     "text": [
      "Epoch: 10 | Train Loss: 0.0336 | Acc: 0.9899 | Prec: 0.9891 | Recall: 0.9891 | F1: 0.9891 | ROC-AUC: 0.9992 || Test Loss: 0.2670 | Acc: 0.9442 | Prec: 0.9820 | Recall: 0.9574 | F1: 0.9695 | ROC-AUC: 0.9171\n",
      "Max val ROC-AUC: 0.9335\n",
      "Training with d_model=64, nhead=2, num_layers=2, dropout=0.0, lr=0.01\n"
     ]
    },
    {
     "data": {
      "application/vnd.jupyter.widget-view+json": {
       "model_id": "b25d7b75fd6e4983996fa75b3e04e217",
       "version_major": 2,
       "version_minor": 0
      },
      "text/plain": [
       "  0%|          | 0/10 [00:00<?, ?it/s]"
      ]
     },
     "metadata": {},
     "output_type": "display_data"
    },
    {
     "name": "stdout",
     "output_type": "stream",
     "text": [
      "Epoch: 10 | Train Loss: 0.0399 | Acc: 0.9869 | Prec: 0.9876 | Recall: 0.9840 | F1: 0.9858 | ROC-AUC: 0.9984 || Test Loss: 0.3978 | Acc: 0.9279 | Prec: 0.9920 | Recall: 0.9298 | F1: 0.9599 | ROC-AUC: 0.9626\n",
      "Max val ROC-AUC: 0.9724\n",
      "Training with d_model=64, nhead=2, num_layers=2, dropout=0.0, lr=0.01\n"
     ]
    },
    {
     "data": {
      "application/vnd.jupyter.widget-view+json": {
       "model_id": "714fd29b89d444a08f142cdc64ade3f7",
       "version_major": 2,
       "version_minor": 0
      },
      "text/plain": [
       "  0%|          | 0/10 [00:00<?, ?it/s]"
      ]
     },
     "metadata": {},
     "output_type": "display_data"
    },
    {
     "name": "stdout",
     "output_type": "stream",
     "text": [
      "Epoch: 10 | Train Loss: 0.0545 | Acc: 0.9845 | Prec: 0.9904 | Recall: 0.9760 | F1: 0.9832 | ROC-AUC: 0.9956 || Test Loss: 0.4507 | Acc: 0.9116 | Prec: 0.9918 | Recall: 0.9123 | F1: 0.9504 | ROC-AUC: 0.9573\n",
      "Max val ROC-AUC: 0.9711\n",
      "Training with d_model=64, nhead=2, num_layers=2, dropout=0.0, lr=0.01\n"
     ]
    },
    {
     "data": {
      "application/vnd.jupyter.widget-view+json": {
       "model_id": "66b9ff08b4264e56a86b548515157d2a",
       "version_major": 2,
       "version_minor": 0
      },
      "text/plain": [
       "  0%|          | 0/10 [00:00<?, ?it/s]"
      ]
     },
     "metadata": {},
     "output_type": "display_data"
    },
    {
     "name": "stdout",
     "output_type": "stream",
     "text": [
      "Epoch: 10 | Train Loss: 0.0334 | Acc: 0.9889 | Prec: 0.9905 | Recall: 0.9855 | F1: 0.9880 | ROC-AUC: 0.9991 || Test Loss: 0.3684 | Acc: 0.9093 | Prec: 0.9891 | Recall: 0.9123 | F1: 0.9492 | ROC-AUC: 0.9542\n",
      "Max val ROC-AUC: 0.9764\n",
      "Training with d_model=64, nhead=2, num_layers=2, dropout=0.0, lr=0.01\n"
     ]
    },
    {
     "data": {
      "application/vnd.jupyter.widget-view+json": {
       "model_id": "7cbfa3d0d6c54f4183675568c8cef51c",
       "version_major": 2,
       "version_minor": 0
      },
      "text/plain": [
       "  0%|          | 0/10 [00:00<?, ?it/s]"
      ]
     },
     "metadata": {},
     "output_type": "display_data"
    },
    {
     "name": "stdout",
     "output_type": "stream",
     "text": [
      "Epoch: 10 | Train Loss: 0.0483 | Acc: 0.9848 | Prec: 0.9861 | Recall: 0.9811 | F1: 0.9836 | ROC-AUC: 0.9981 || Test Loss: 0.3822 | Acc: 0.9070 | Prec: 0.9918 | Recall: 0.9073 | F1: 0.9476 | ROC-AUC: 0.9464\n",
      "Max val ROC-AUC: 0.9698\n",
      "Training with d_model=64, nhead=2, num_layers=2, dropout=0.0, lr=0.01\n"
     ]
    },
    {
     "data": {
      "application/vnd.jupyter.widget-view+json": {
       "model_id": "5e11d3ec61e14117a52cececf756013d",
       "version_major": 2,
       "version_minor": 0
      },
      "text/plain": [
       "  0%|          | 0/10 [00:00<?, ?it/s]"
      ]
     },
     "metadata": {},
     "output_type": "display_data"
    },
    {
     "name": "stdout",
     "output_type": "stream",
     "text": [
      "Epoch: 10 | Train Loss: 0.0799 | Acc: 0.9717 | Prec: 0.9879 | Recall: 0.9506 | F1: 0.9689 | ROC-AUC: 0.9939 || Test Loss: 0.3408 | Acc: 0.8767 | Prec: 0.9943 | Recall: 0.8722 | F1: 0.9292 | ROC-AUC: 0.9584\n",
      "Max val ROC-AUC: 0.9592\n",
      "Training with d_model=64, nhead=2, num_layers=2, dropout=0.0, lr=0.01\n"
     ]
    },
    {
     "data": {
      "application/vnd.jupyter.widget-view+json": {
       "model_id": "26fa2c7c6887424da4fcdb2424fb2e91",
       "version_major": 2,
       "version_minor": 0
      },
      "text/plain": [
       "  0%|          | 0/10 [00:00<?, ?it/s]"
      ]
     },
     "metadata": {},
     "output_type": "display_data"
    },
    {
     "name": "stdout",
     "output_type": "stream",
     "text": [
      "Epoch: 10 | Train Loss: 0.0470 | Acc: 0.9845 | Prec: 0.9819 | Recall: 0.9847 | F1: 0.9833 | ROC-AUC: 0.9980 || Test Loss: 0.2475 | Acc: 0.9209 | Prec: 0.9867 | Recall: 0.9273 | F1: 0.9561 | ROC-AUC: 0.9681\n",
      "Max val ROC-AUC: 0.9750\n",
      "Training with d_model=64, nhead=2, num_layers=2, dropout=0.0, lr=0.001\n"
     ]
    },
    {
     "data": {
      "application/vnd.jupyter.widget-view+json": {
       "model_id": "16ff6a4c0ab04eec9d42e753be9a595c",
       "version_major": 2,
       "version_minor": 0
      },
      "text/plain": [
       "  0%|          | 0/10 [00:00<?, ?it/s]"
      ]
     },
     "metadata": {},
     "output_type": "display_data"
    },
    {
     "name": "stdout",
     "output_type": "stream",
     "text": [
      "Epoch: 10 | Train Loss: 0.0242 | Acc: 0.9923 | Prec: 0.9934 | Recall: 0.9898 | F1: 0.9916 | ROC-AUC: 0.9996 || Test Loss: 0.2944 | Acc: 0.9302 | Prec: 0.9743 | Recall: 0.9499 | F1: 0.9619 | ROC-AUC: 0.9149\n",
      "Max val ROC-AUC: 0.9440\n",
      "Training with d_model=64, nhead=2, num_layers=2, dropout=0.0, lr=0.001\n"
     ]
    },
    {
     "data": {
      "application/vnd.jupyter.widget-view+json": {
       "model_id": "0e152d14f15d44b2a1025154f34b440b",
       "version_major": 2,
       "version_minor": 0
      },
      "text/plain": [
       "  0%|          | 0/10 [00:00<?, ?it/s]"
      ]
     },
     "metadata": {},
     "output_type": "display_data"
    },
    {
     "name": "stdout",
     "output_type": "stream",
     "text": [
      "Epoch: 10 | Train Loss: 0.0121 | Acc: 0.9963 | Prec: 0.9964 | Recall: 0.9956 | F1: 0.9960 | ROC-AUC: 0.9998 || Test Loss: 0.4405 | Acc: 0.9140 | Prec: 0.9840 | Recall: 0.9223 | F1: 0.9521 | ROC-AUC: 0.9416\n",
      "Max val ROC-AUC: 0.9515\n",
      "Training with d_model=64, nhead=2, num_layers=2, dropout=0.0, lr=0.001\n"
     ]
    },
    {
     "data": {
      "application/vnd.jupyter.widget-view+json": {
       "model_id": "9660f7c490dd4a62b2feb9668bce750d",
       "version_major": 2,
       "version_minor": 0
      },
      "text/plain": [
       "  0%|          | 0/10 [00:00<?, ?it/s]"
      ]
     },
     "metadata": {},
     "output_type": "display_data"
    },
    {
     "name": "stdout",
     "output_type": "stream",
     "text": [
      "Epoch: 10 | Train Loss: 0.0299 | Acc: 0.9919 | Prec: 0.9906 | Recall: 0.9920 | F1: 0.9913 | ROC-AUC: 0.9989 || Test Loss: 0.2912 | Acc: 0.9349 | Prec: 0.9818 | Recall: 0.9474 | F1: 0.9643 | ROC-AUC: 0.9538\n",
      "Max val ROC-AUC: 0.9656\n",
      "Training with d_model=64, nhead=2, num_layers=2, dropout=0.0, lr=0.001\n"
     ]
    },
    {
     "data": {
      "application/vnd.jupyter.widget-view+json": {
       "model_id": "72e213b67f004698a73b1e5a429f7a82",
       "version_major": 2,
       "version_minor": 0
      },
      "text/plain": [
       "  0%|          | 0/10 [00:00<?, ?it/s]"
      ]
     },
     "metadata": {},
     "output_type": "display_data"
    },
    {
     "name": "stdout",
     "output_type": "stream",
     "text": [
      "Epoch: 10 | Train Loss: 0.0150 | Acc: 0.9963 | Prec: 0.9964 | Recall: 0.9956 | F1: 0.9960 | ROC-AUC: 0.9998 || Test Loss: 0.4879 | Acc: 0.9233 | Prec: 0.9841 | Recall: 0.9323 | F1: 0.9575 | ROC-AUC: 0.9240\n",
      "Max val ROC-AUC: 0.9421\n",
      "Training with d_model=64, nhead=2, num_layers=2, dropout=0.0, lr=0.001\n"
     ]
    },
    {
     "data": {
      "application/vnd.jupyter.widget-view+json": {
       "model_id": "77d0aad4fc924a1ca291ba03769e45a7",
       "version_major": 2,
       "version_minor": 0
      },
      "text/plain": [
       "  0%|          | 0/10 [00:00<?, ?it/s]"
      ]
     },
     "metadata": {},
     "output_type": "display_data"
    },
    {
     "name": "stdout",
     "output_type": "stream",
     "text": [
      "Epoch: 10 | Train Loss: 0.0225 | Acc: 0.9939 | Prec: 0.9956 | Recall: 0.9913 | F1: 0.9934 | ROC-AUC: 0.9994 || Test Loss: 0.4022 | Acc: 0.9256 | Prec: 0.9791 | Recall: 0.9398 | F1: 0.9591 | ROC-AUC: 0.9310\n",
      "Max val ROC-AUC: 0.9445\n",
      "Training with d_model=64, nhead=2, num_layers=2, dropout=0.0, lr=0.001\n"
     ]
    },
    {
     "data": {
      "application/vnd.jupyter.widget-view+json": {
       "model_id": "153f5c569051435daaa1fe4d5ac0438b",
       "version_major": 2,
       "version_minor": 0
      },
      "text/plain": [
       "  0%|          | 0/10 [00:00<?, ?it/s]"
      ]
     },
     "metadata": {},
     "output_type": "display_data"
    },
    {
     "name": "stdout",
     "output_type": "stream",
     "text": [
      "Epoch: 10 | Train Loss: 0.0202 | Acc: 0.9946 | Prec: 0.9935 | Recall: 0.9949 | F1: 0.9942 | ROC-AUC: 0.9993 || Test Loss: 0.3058 | Acc: 0.9279 | Prec: 0.9894 | Recall: 0.9323 | F1: 0.9600 | ROC-AUC: 0.9486\n",
      "Max val ROC-AUC: 0.9765\n",
      "Training with d_model=64, nhead=2, num_layers=2, dropout=0.0, lr=0.001\n"
     ]
    },
    {
     "data": {
      "application/vnd.jupyter.widget-view+json": {
       "model_id": "53fc4633dde849989761a5cff0535e84",
       "version_major": 2,
       "version_minor": 0
      },
      "text/plain": [
       "  0%|          | 0/10 [00:00<?, ?it/s]"
      ]
     },
     "metadata": {},
     "output_type": "display_data"
    },
    {
     "name": "stdout",
     "output_type": "stream",
     "text": [
      "Epoch: 10 | Train Loss: 0.0087 | Acc: 0.9987 | Prec: 0.9985 | Recall: 0.9985 | F1: 0.9985 | ROC-AUC: 0.9995 || Test Loss: 0.3513 | Acc: 0.9442 | Prec: 0.9820 | Recall: 0.9574 | F1: 0.9695 | ROC-AUC: 0.9238\n",
      "Max val ROC-AUC: 0.9548\n",
      "Training with d_model=64, nhead=2, num_layers=2, dropout=0.0, lr=0.001\n"
     ]
    },
    {
     "data": {
      "application/vnd.jupyter.widget-view+json": {
       "model_id": "c9b259326bb6412e9bd01d9df749cefe",
       "version_major": 2,
       "version_minor": 0
      },
      "text/plain": [
       "  0%|          | 0/10 [00:00<?, ?it/s]"
      ]
     },
     "metadata": {},
     "output_type": "display_data"
    },
    {
     "name": "stdout",
     "output_type": "stream",
     "text": [
      "Epoch: 10 | Train Loss: 0.0256 | Acc: 0.9906 | Prec: 0.9927 | Recall: 0.9869 | F1: 0.9898 | ROC-AUC: 0.9995 || Test Loss: 0.3533 | Acc: 0.9233 | Prec: 0.9791 | Recall: 0.9373 | F1: 0.9577 | ROC-AUC: 0.9320\n",
      "Max val ROC-AUC: 0.9588\n",
      "Training with d_model=64, nhead=2, num_layers=2, dropout=0.0, lr=0.001\n"
     ]
    },
    {
     "data": {
      "application/vnd.jupyter.widget-view+json": {
       "model_id": "6d7b63bcfd08425993736639a5a38ae0",
       "version_major": 2,
       "version_minor": 0
      },
      "text/plain": [
       "  0%|          | 0/10 [00:00<?, ?it/s]"
      ]
     },
     "metadata": {},
     "output_type": "display_data"
    },
    {
     "name": "stdout",
     "output_type": "stream",
     "text": [
      "Epoch: 10 | Train Loss: 0.0430 | Acc: 0.9865 | Prec: 0.9834 | Recall: 0.9877 | F1: 0.9855 | ROC-AUC: 0.9979 || Test Loss: 0.3902 | Acc: 0.9233 | Prec: 0.9841 | Recall: 0.9323 | F1: 0.9575 | ROC-AUC: 0.9602\n",
      "Max val ROC-AUC: 0.9602\n",
      "Training with d_model=64, nhead=2, num_layers=2, dropout=0.0, lr=0.001\n"
     ]
    },
    {
     "data": {
      "application/vnd.jupyter.widget-view+json": {
       "model_id": "8c934f7d8dcb41d48652d34b0cb047c6",
       "version_major": 2,
       "version_minor": 0
      },
      "text/plain": [
       "  0%|          | 0/10 [00:00<?, ?it/s]"
      ]
     },
     "metadata": {},
     "output_type": "display_data"
    },
    {
     "name": "stdout",
     "output_type": "stream",
     "text": [
      "Epoch: 10 | Train Loss: 0.0240 | Acc: 0.9933 | Prec: 0.9963 | Recall: 0.9891 | F1: 0.9927 | ROC-AUC: 0.9989 || Test Loss: 0.3633 | Acc: 0.9349 | Prec: 0.9720 | Recall: 0.9574 | F1: 0.9646 | ROC-AUC: 0.9204\n",
      "Max val ROC-AUC: 0.9558\n",
      "Training with d_model=64, nhead=2, num_layers=2, dropout=0.1, lr=0.1\n"
     ]
    },
    {
     "data": {
      "application/vnd.jupyter.widget-view+json": {
       "model_id": "53987c6952e449cd841bb4df6801f016",
       "version_major": 2,
       "version_minor": 0
      },
      "text/plain": [
       "  0%|          | 0/10 [00:00<?, ?it/s]"
      ]
     },
     "metadata": {},
     "output_type": "display_data"
    },
    {
     "name": "stdout",
     "output_type": "stream",
     "text": [
      "Epoch: 10 | Train Loss: 0.2987 | Acc: 0.8963 | Prec: 0.9465 | Recall: 0.8228 | F1: 0.8803 | ROC-AUC: 0.9401 || Test Loss: 0.3389 | Acc: 0.8395 | Prec: 0.9825 | Recall: 0.8421 | F1: 0.9069 | ROC-AUC: 0.8800\n",
      "Max val ROC-AUC: 0.9603\n",
      "Training with d_model=64, nhead=2, num_layers=2, dropout=0.1, lr=0.1\n"
     ]
    },
    {
     "data": {
      "application/vnd.jupyter.widget-view+json": {
       "model_id": "683bdddfafa3490bb1e8f62ed1c9cec8",
       "version_major": 2,
       "version_minor": 0
      },
      "text/plain": [
       "  0%|          | 0/10 [00:00<?, ?it/s]"
      ]
     },
     "metadata": {},
     "output_type": "display_data"
    },
    {
     "name": "stdout",
     "output_type": "stream",
     "text": [
      "Epoch: 10 | Train Loss: 0.3700 | Acc: 0.8545 | Prec: 0.8783 | Recall: 0.7967 | F1: 0.8355 | ROC-AUC: 0.9290 || Test Loss: 0.2264 | Acc: 0.9163 | Prec: 0.9814 | Recall: 0.9273 | F1: 0.9536 | ROC-AUC: 0.9325\n",
      "Max val ROC-AUC: 0.9325\n",
      "Training with d_model=64, nhead=2, num_layers=2, dropout=0.1, lr=0.1\n"
     ]
    },
    {
     "data": {
      "application/vnd.jupyter.widget-view+json": {
       "model_id": "9c9ad71d4f6f41ddbe97016ec19abc4a",
       "version_major": 2,
       "version_minor": 0
      },
      "text/plain": [
       "  0%|          | 0/10 [00:00<?, ?it/s]"
      ]
     },
     "metadata": {},
     "output_type": "display_data"
    },
    {
     "name": "stdout",
     "output_type": "stream",
     "text": [
      "Epoch: 10 | Train Loss: 0.2548 | Acc: 0.9074 | Prec: 0.9561 | Recall: 0.8388 | F1: 0.8936 | ROC-AUC: 0.9491 || Test Loss: 0.4484 | Acc: 0.8465 | Prec: 0.9912 | Recall: 0.8421 | F1: 0.9106 | ROC-AUC: 0.9028\n",
      "Max val ROC-AUC: 0.9547\n",
      "Training with d_model=64, nhead=2, num_layers=2, dropout=0.1, lr=0.1\n"
     ]
    },
    {
     "data": {
      "application/vnd.jupyter.widget-view+json": {
       "model_id": "f9f75c005db142e590761b88c757a102",
       "version_major": 2,
       "version_minor": 0
      },
      "text/plain": [
       "  0%|          | 0/10 [00:00<?, ?it/s]"
      ]
     },
     "metadata": {},
     "output_type": "display_data"
    },
    {
     "name": "stdout",
     "output_type": "stream",
     "text": [
      "Epoch: 10 | Train Loss: 0.2343 | Acc: 0.9155 | Prec: 0.9364 | Recall: 0.8773 | F1: 0.9059 | ROC-AUC: 0.9659 || Test Loss: 0.3882 | Acc: 0.7930 | Prec: 0.9905 | Recall: 0.7845 | F1: 0.8755 | ROC-AUC: 0.9098\n",
      "Max val ROC-AUC: 0.9601\n",
      "Training with d_model=64, nhead=2, num_layers=2, dropout=0.1, lr=0.1\n"
     ]
    },
    {
     "data": {
      "application/vnd.jupyter.widget-view+json": {
       "model_id": "006afda4b2534f298b6ad4251deba22b",
       "version_major": 2,
       "version_minor": 0
      },
      "text/plain": [
       "  0%|          | 0/10 [00:00<?, ?it/s]"
      ]
     },
     "metadata": {},
     "output_type": "display_data"
    },
    {
     "name": "stdout",
     "output_type": "stream",
     "text": [
      "Epoch: 10 | Train Loss: 0.2486 | Acc: 0.9225 | Prec: 0.9220 | Recall: 0.9099 | F1: 0.9159 | ROC-AUC: 0.9597 || Test Loss: 0.5585 | Acc: 0.8023 | Prec: 0.9906 | Recall: 0.7945 | F1: 0.8818 | ROC-AUC: 0.9243\n",
      "Max val ROC-AUC: 0.9531\n",
      "Training with d_model=64, nhead=2, num_layers=2, dropout=0.1, lr=0.1\n"
     ]
    },
    {
     "data": {
      "application/vnd.jupyter.widget-view+json": {
       "model_id": "88113c3a3206454b8b1c62f1b15d7004",
       "version_major": 2,
       "version_minor": 0
      },
      "text/plain": [
       "  0%|          | 0/10 [00:00<?, ?it/s]"
      ]
     },
     "metadata": {},
     "output_type": "display_data"
    },
    {
     "name": "stdout",
     "output_type": "stream",
     "text": [
      "Epoch: 10 | Train Loss: 0.3551 | Acc: 0.8575 | Prec: 0.8816 | Recall: 0.8003 | F1: 0.8390 | ROC-AUC: 0.9279 || Test Loss: 0.4075 | Acc: 0.8000 | Prec: 0.9937 | Recall: 0.7895 | F1: 0.8799 | ROC-AUC: 0.9326\n",
      "Max val ROC-AUC: 0.9390\n",
      "Training with d_model=64, nhead=2, num_layers=2, dropout=0.1, lr=0.1\n"
     ]
    },
    {
     "data": {
      "application/vnd.jupyter.widget-view+json": {
       "model_id": "026bb5f39f924cb99bd0ea14f56832e5",
       "version_major": 2,
       "version_minor": 0
      },
      "text/plain": [
       "  0%|          | 0/10 [00:00<?, ?it/s]"
      ]
     },
     "metadata": {},
     "output_type": "display_data"
    },
    {
     "name": "stdout",
     "output_type": "stream",
     "text": [
      "Epoch: 10 | Train Loss: 0.2410 | Acc: 0.9205 | Prec: 0.9496 | Recall: 0.8751 | F1: 0.9108 | ROC-AUC: 0.9484 || Test Loss: 1.9476 | Acc: 0.7930 | Prec: 0.9936 | Recall: 0.7820 | F1: 0.8752 | ROC-AUC: 0.8866\n",
      "Max val ROC-AUC: 0.9337\n",
      "Training with d_model=64, nhead=2, num_layers=2, dropout=0.1, lr=0.1\n"
     ]
    },
    {
     "data": {
      "application/vnd.jupyter.widget-view+json": {
       "model_id": "7d5f462c45054259887d22e3a2a931fa",
       "version_major": 2,
       "version_minor": 0
      },
      "text/plain": [
       "  0%|          | 0/10 [00:00<?, ?it/s]"
      ]
     },
     "metadata": {},
     "output_type": "display_data"
    },
    {
     "name": "stdout",
     "output_type": "stream",
     "text": [
      "Epoch: 10 | Train Loss: 0.3488 | Acc: 0.8892 | Prec: 0.8738 | Recall: 0.8896 | F1: 0.8816 | ROC-AUC: 0.9207 || Test Loss: 0.3662 | Acc: 0.8674 | Prec: 0.9914 | Recall: 0.8647 | F1: 0.9237 | ROC-AUC: 0.9024\n",
      "Max val ROC-AUC: 0.9525\n",
      "Training with d_model=64, nhead=2, num_layers=2, dropout=0.1, lr=0.1\n"
     ]
    },
    {
     "data": {
      "application/vnd.jupyter.widget-view+json": {
       "model_id": "7da80b4d10164b32a009609c810e416f",
       "version_major": 2,
       "version_minor": 0
      },
      "text/plain": [
       "  0%|          | 0/10 [00:00<?, ?it/s]"
      ]
     },
     "metadata": {},
     "output_type": "display_data"
    },
    {
     "name": "stdout",
     "output_type": "stream",
     "text": [
      "Epoch: 10 | Train Loss: 0.3004 | Acc: 0.9091 | Prec: 0.9140 | Recall: 0.8874 | F1: 0.9005 | ROC-AUC: 0.9426 || Test Loss: 0.4304 | Acc: 0.8930 | Prec: 0.9732 | Recall: 0.9098 | F1: 0.9404 | ROC-AUC: 0.8085\n",
      "Max val ROC-AUC: 0.9570\n",
      "Training with d_model=64, nhead=2, num_layers=2, dropout=0.1, lr=0.1\n"
     ]
    },
    {
     "data": {
      "application/vnd.jupyter.widget-view+json": {
       "model_id": "9feecc2f1aa84217888f8d38830bd9a2",
       "version_major": 2,
       "version_minor": 0
      },
      "text/plain": [
       "  0%|          | 0/10 [00:00<?, ?it/s]"
      ]
     },
     "metadata": {},
     "output_type": "display_data"
    },
    {
     "name": "stdout",
     "output_type": "stream",
     "text": [
      "Epoch: 10 | Train Loss: 0.2937 | Acc: 0.9000 | Prec: 0.9463 | Recall: 0.8315 | F1: 0.8852 | ROC-AUC: 0.9367 || Test Loss: 1.0761 | Acc: 0.8442 | Prec: 0.9911 | Recall: 0.8396 | F1: 0.9091 | ROC-AUC: 0.9020\n",
      "Max val ROC-AUC: 0.9302\n",
      "Training with d_model=64, nhead=2, num_layers=2, dropout=0.1, lr=0.01\n"
     ]
    },
    {
     "data": {
      "application/vnd.jupyter.widget-view+json": {
       "model_id": "d750df550ee64d85bcee50a2e5f593e6",
       "version_major": 2,
       "version_minor": 0
      },
      "text/plain": [
       "  0%|          | 0/10 [00:00<?, ?it/s]"
      ]
     },
     "metadata": {},
     "output_type": "display_data"
    },
    {
     "name": "stdout",
     "output_type": "stream",
     "text": [
      "Epoch: 10 | Train Loss: 0.1398 | Acc: 0.9555 | Prec: 0.9698 | Recall: 0.9332 | F1: 0.9511 | ROC-AUC: 0.9843 || Test Loss: 0.3751 | Acc: 0.9047 | Prec: 0.9864 | Recall: 0.9098 | F1: 0.9465 | ROC-AUC: 0.9155\n",
      "Max val ROC-AUC: 0.9340\n",
      "Training with d_model=64, nhead=2, num_layers=2, dropout=0.1, lr=0.01\n"
     ]
    },
    {
     "data": {
      "application/vnd.jupyter.widget-view+json": {
       "model_id": "af48f549f44c466da448ce925f05dff1",
       "version_major": 2,
       "version_minor": 0
      },
      "text/plain": [
       "  0%|          | 0/10 [00:00<?, ?it/s]"
      ]
     },
     "metadata": {},
     "output_type": "display_data"
    },
    {
     "name": "stdout",
     "output_type": "stream",
     "text": [
      "Epoch: 10 | Train Loss: 0.1068 | Acc: 0.9633 | Prec: 0.9767 | Recall: 0.9434 | F1: 0.9597 | ROC-AUC: 0.9907 || Test Loss: 0.4058 | Acc: 0.8930 | Prec: 0.9916 | Recall: 0.8922 | F1: 0.9393 | ROC-AUC: 0.9481\n",
      "Max val ROC-AUC: 0.9533\n",
      "Training with d_model=64, nhead=2, num_layers=2, dropout=0.1, lr=0.01\n"
     ]
    },
    {
     "data": {
      "application/vnd.jupyter.widget-view+json": {
       "model_id": "90267173ec72422d9ffa27734ba85470",
       "version_major": 2,
       "version_minor": 0
      },
      "text/plain": [
       "  0%|          | 0/10 [00:00<?, ?it/s]"
      ]
     },
     "metadata": {},
     "output_type": "display_data"
    },
    {
     "name": "stdout",
     "output_type": "stream",
     "text": [
      "Epoch: 10 | Train Loss: 0.1639 | Acc: 0.9481 | Prec: 0.9500 | Recall: 0.9375 | F1: 0.9437 | ROC-AUC: 0.9820 || Test Loss: 0.3019 | Acc: 0.9256 | Prec: 0.9742 | Recall: 0.9449 | F1: 0.9593 | ROC-AUC: 0.9095\n",
      "Max val ROC-AUC: 0.9577\n",
      "Training with d_model=64, nhead=2, num_layers=2, dropout=0.1, lr=0.01\n"
     ]
    },
    {
     "data": {
      "application/vnd.jupyter.widget-view+json": {
       "model_id": "b8779ddd609349939686d64f590c735b",
       "version_major": 2,
       "version_minor": 0
      },
      "text/plain": [
       "  0%|          | 0/10 [00:00<?, ?it/s]"
      ]
     },
     "metadata": {},
     "output_type": "display_data"
    },
    {
     "name": "stdout",
     "output_type": "stream",
     "text": [
      "Epoch: 10 | Train Loss: 0.1020 | Acc: 0.9670 | Prec: 0.9848 | Recall: 0.9434 | F1: 0.9636 | ROC-AUC: 0.9912 || Test Loss: 0.3841 | Acc: 0.9093 | Prec: 0.9839 | Recall: 0.9173 | F1: 0.9494 | ROC-AUC: 0.9224\n",
      "Max val ROC-AUC: 0.9561\n",
      "Training with d_model=64, nhead=2, num_layers=2, dropout=0.1, lr=0.01\n"
     ]
    },
    {
     "data": {
      "application/vnd.jupyter.widget-view+json": {
       "model_id": "762675d7b9ef46269ac75254bf5f622d",
       "version_major": 2,
       "version_minor": 0
      },
      "text/plain": [
       "  0%|          | 0/10 [00:00<?, ?it/s]"
      ]
     },
     "metadata": {},
     "output_type": "display_data"
    },
    {
     "name": "stdout",
     "output_type": "stream",
     "text": [
      "Epoch: 10 | Train Loss: 0.1830 | Acc: 0.9353 | Prec: 0.9533 | Recall: 0.9049 | F1: 0.9285 | ROC-AUC: 0.9759 || Test Loss: 0.1982 | Acc: 0.9209 | Prec: 0.9765 | Recall: 0.9373 | F1: 0.9565 | ROC-AUC: 0.9379\n",
      "Max val ROC-AUC: 0.9728\n",
      "Training with d_model=64, nhead=2, num_layers=2, dropout=0.1, lr=0.01\n"
     ]
    },
    {
     "data": {
      "application/vnd.jupyter.widget-view+json": {
       "model_id": "4c0c6b68fc44493586077d3e126e7150",
       "version_major": 2,
       "version_minor": 0
      },
      "text/plain": [
       "  0%|          | 0/10 [00:00<?, ?it/s]"
      ]
     },
     "metadata": {},
     "output_type": "display_data"
    },
    {
     "name": "stdout",
     "output_type": "stream",
     "text": [
      "Epoch: 10 | Train Loss: 0.1128 | Acc: 0.9616 | Prec: 0.9802 | Recall: 0.9361 | F1: 0.9577 | ROC-AUC: 0.9896 || Test Loss: 0.4068 | Acc: 0.8744 | Prec: 0.9887 | Recall: 0.8747 | F1: 0.9282 | ROC-AUC: 0.9136\n",
      "Max val ROC-AUC: 0.9428\n",
      "Training with d_model=64, nhead=2, num_layers=2, dropout=0.1, lr=0.01\n"
     ]
    },
    {
     "data": {
      "application/vnd.jupyter.widget-view+json": {
       "model_id": "f93e28b5ea3440fc9e4517cb641d8a38",
       "version_major": 2,
       "version_minor": 0
      },
      "text/plain": [
       "  0%|          | 0/10 [00:00<?, ?it/s]"
      ]
     },
     "metadata": {},
     "output_type": "display_data"
    },
    {
     "name": "stdout",
     "output_type": "stream",
     "text": [
      "Epoch: 10 | Train Loss: 0.1080 | Acc: 0.9609 | Prec: 0.9824 | Recall: 0.9325 | F1: 0.9568 | ROC-AUC: 0.9900 || Test Loss: 0.4238 | Acc: 0.8791 | Prec: 0.9860 | Recall: 0.8822 | F1: 0.9312 | ROC-AUC: 0.9397\n",
      "Max val ROC-AUC: 0.9580\n",
      "Training with d_model=64, nhead=2, num_layers=2, dropout=0.1, lr=0.01\n"
     ]
    },
    {
     "data": {
      "application/vnd.jupyter.widget-view+json": {
       "model_id": "8efc49c53201453fa70ccf4afd1ec2a4",
       "version_major": 2,
       "version_minor": 0
      },
      "text/plain": [
       "  0%|          | 0/10 [00:00<?, ?it/s]"
      ]
     },
     "metadata": {},
     "output_type": "display_data"
    },
    {
     "name": "stdout",
     "output_type": "stream",
     "text": [
      "Epoch: 10 | Train Loss: 0.1069 | Acc: 0.9630 | Prec: 0.9840 | Recall: 0.9354 | F1: 0.9590 | ROC-AUC: 0.9904 || Test Loss: 0.3203 | Acc: 0.9093 | Prec: 0.9813 | Recall: 0.9198 | F1: 0.9495 | ROC-AUC: 0.9445\n",
      "Max val ROC-AUC: 0.9517\n",
      "Training with d_model=64, nhead=2, num_layers=2, dropout=0.1, lr=0.01\n"
     ]
    },
    {
     "data": {
      "application/vnd.jupyter.widget-view+json": {
       "model_id": "7e80fa0be01a4844a4c6b5b143ca0476",
       "version_major": 2,
       "version_minor": 0
      },
      "text/plain": [
       "  0%|          | 0/10 [00:00<?, ?it/s]"
      ]
     },
     "metadata": {},
     "output_type": "display_data"
    },
    {
     "name": "stdout",
     "output_type": "stream",
     "text": [
      "Epoch: 10 | Train Loss: 0.1256 | Acc: 0.9495 | Prec: 0.9782 | Recall: 0.9114 | F1: 0.9436 | ROC-AUC: 0.9879 || Test Loss: 0.4048 | Acc: 0.8907 | Prec: 0.9731 | Recall: 0.9073 | F1: 0.9390 | ROC-AUC: 0.8432\n",
      "Max val ROC-AUC: 0.9479\n",
      "Training with d_model=64, nhead=2, num_layers=2, dropout=0.1, lr=0.01\n"
     ]
    },
    {
     "data": {
      "application/vnd.jupyter.widget-view+json": {
       "model_id": "bff17b234f7a4ed4886bee20f5efeba1",
       "version_major": 2,
       "version_minor": 0
      },
      "text/plain": [
       "  0%|          | 0/10 [00:00<?, ?it/s]"
      ]
     },
     "metadata": {},
     "output_type": "display_data"
    },
    {
     "name": "stdout",
     "output_type": "stream",
     "text": [
      "Epoch: 10 | Train Loss: 0.1176 | Acc: 0.9596 | Prec: 0.9743 | Recall: 0.9375 | F1: 0.9556 | ROC-AUC: 0.9891 || Test Loss: 0.3521 | Acc: 0.9349 | Prec: 0.9843 | Recall: 0.9449 | F1: 0.9642 | ROC-AUC: 0.9354\n",
      "Max val ROC-AUC: 0.9533\n",
      "Training with d_model=64, nhead=2, num_layers=2, dropout=0.1, lr=0.001\n"
     ]
    },
    {
     "data": {
      "application/vnd.jupyter.widget-view+json": {
       "model_id": "f8d964085937443aaad958549da8543d",
       "version_major": 2,
       "version_minor": 0
      },
      "text/plain": [
       "  0%|          | 0/10 [00:00<?, ?it/s]"
      ]
     },
     "metadata": {},
     "output_type": "display_data"
    },
    {
     "name": "stdout",
     "output_type": "stream",
     "text": [
      "Epoch: 10 | Train Loss: 0.0309 | Acc: 0.9929 | Prec: 0.9920 | Recall: 0.9927 | F1: 0.9924 | ROC-AUC: 0.9990 || Test Loss: 0.3549 | Acc: 0.9116 | Prec: 0.9688 | Recall: 0.9348 | F1: 0.9515 | ROC-AUC: 0.9334\n",
      "Max val ROC-AUC: 0.9480\n",
      "Training with d_model=64, nhead=2, num_layers=2, dropout=0.1, lr=0.001\n"
     ]
    },
    {
     "data": {
      "application/vnd.jupyter.widget-view+json": {
       "model_id": "88504bf07cd74024af89ea138de0cf4b",
       "version_major": 2,
       "version_minor": 0
      },
      "text/plain": [
       "  0%|          | 0/10 [00:00<?, ?it/s]"
      ]
     },
     "metadata": {},
     "output_type": "display_data"
    },
    {
     "name": "stdout",
     "output_type": "stream",
     "text": [
      "Epoch: 10 | Train Loss: 0.0157 | Acc: 0.9953 | Prec: 0.9949 | Recall: 0.9949 | F1: 0.9949 | ROC-AUC: 0.9994 || Test Loss: 0.4524 | Acc: 0.9140 | Prec: 0.9738 | Recall: 0.9323 | F1: 0.9526 | ROC-AUC: 0.9496\n",
      "Max val ROC-AUC: 0.9496\n",
      "Training with d_model=64, nhead=2, num_layers=2, dropout=0.1, lr=0.001\n"
     ]
    },
    {
     "data": {
      "application/vnd.jupyter.widget-view+json": {
       "model_id": "dd145d6ead8f491895e0568850b4a171",
       "version_major": 2,
       "version_minor": 0
      },
      "text/plain": [
       "  0%|          | 0/10 [00:00<?, ?it/s]"
      ]
     },
     "metadata": {},
     "output_type": "display_data"
    },
    {
     "name": "stdout",
     "output_type": "stream",
     "text": [
      "Epoch: 10 | Train Loss: 0.0212 | Acc: 0.9939 | Prec: 0.9935 | Recall: 0.9935 | F1: 0.9935 | ROC-AUC: 0.9994 || Test Loss: 0.4705 | Acc: 0.9256 | Prec: 0.9842 | Recall: 0.9348 | F1: 0.9589 | ROC-AUC: 0.9471\n",
      "Max val ROC-AUC: 0.9741\n",
      "Training with d_model=64, nhead=2, num_layers=2, dropout=0.1, lr=0.001\n"
     ]
    },
    {
     "data": {
      "application/vnd.jupyter.widget-view+json": {
       "model_id": "090a74fccf354e39adf76e6d43a9cc73",
       "version_major": 2,
       "version_minor": 0
      },
      "text/plain": [
       "  0%|          | 0/10 [00:00<?, ?it/s]"
      ]
     },
     "metadata": {},
     "output_type": "display_data"
    },
    {
     "name": "stdout",
     "output_type": "stream",
     "text": [
      "Epoch: 10 | Train Loss: 0.0196 | Acc: 0.9939 | Prec: 0.9963 | Recall: 0.9906 | F1: 0.9934 | ROC-AUC: 0.9998 || Test Loss: 0.4177 | Acc: 0.9395 | Prec: 0.9674 | Recall: 0.9674 | F1: 0.9674 | ROC-AUC: 0.8790\n",
      "Max val ROC-AUC: 0.9500\n",
      "Training with d_model=64, nhead=2, num_layers=2, dropout=0.1, lr=0.001\n"
     ]
    },
    {
     "data": {
      "application/vnd.jupyter.widget-view+json": {
       "model_id": "f4cc335c4a204eb392f4406c03a6079c",
       "version_major": 2,
       "version_minor": 0
      },
      "text/plain": [
       "  0%|          | 0/10 [00:00<?, ?it/s]"
      ]
     },
     "metadata": {},
     "output_type": "display_data"
    },
    {
     "name": "stdout",
     "output_type": "stream",
     "text": [
      "Epoch: 10 | Train Loss: 0.0403 | Acc: 0.9875 | Prec: 0.9898 | Recall: 0.9833 | F1: 0.9865 | ROC-AUC: 0.9987 || Test Loss: 0.3759 | Acc: 0.9349 | Prec: 0.9696 | Recall: 0.9599 | F1: 0.9647 | ROC-AUC: 0.9342\n",
      "Max val ROC-AUC: 0.9477\n",
      "Training with d_model=64, nhead=2, num_layers=2, dropout=0.1, lr=0.001\n"
     ]
    },
    {
     "data": {
      "application/vnd.jupyter.widget-view+json": {
       "model_id": "e4774d6b90ab48aeb916142f37dfdbf4",
       "version_major": 2,
       "version_minor": 0
      },
      "text/plain": [
       "  0%|          | 0/10 [00:00<?, ?it/s]"
      ]
     },
     "metadata": {},
     "output_type": "display_data"
    },
    {
     "name": "stdout",
     "output_type": "stream",
     "text": [
      "Epoch: 10 | Train Loss: 0.0147 | Acc: 0.9963 | Prec: 0.9956 | Recall: 0.9964 | F1: 0.9960 | ROC-AUC: 0.9998 || Test Loss: 0.4367 | Acc: 0.9349 | Prec: 0.9744 | Recall: 0.9549 | F1: 0.9646 | ROC-AUC: 0.9367\n",
      "Max val ROC-AUC: 0.9550\n",
      "Training with d_model=64, nhead=2, num_layers=2, dropout=0.1, lr=0.001\n"
     ]
    },
    {
     "data": {
      "application/vnd.jupyter.widget-view+json": {
       "model_id": "5155408ef6d94ad79b6026724f8ab16f",
       "version_major": 2,
       "version_minor": 0
      },
      "text/plain": [
       "  0%|          | 0/10 [00:00<?, ?it/s]"
      ]
     },
     "metadata": {},
     "output_type": "display_data"
    },
    {
     "name": "stdout",
     "output_type": "stream",
     "text": [
      "Epoch: 10 | Train Loss: 0.0147 | Acc: 0.9949 | Prec: 0.9964 | Recall: 0.9927 | F1: 0.9945 | ROC-AUC: 0.9999 || Test Loss: 0.4384 | Acc: 0.9302 | Prec: 0.9767 | Recall: 0.9474 | F1: 0.9618 | ROC-AUC: 0.9331\n",
      "Max val ROC-AUC: 0.9503\n",
      "Training with d_model=64, nhead=2, num_layers=2, dropout=0.1, lr=0.001\n"
     ]
    },
    {
     "data": {
      "application/vnd.jupyter.widget-view+json": {
       "model_id": "a592adb50b0f4c35aeff12009c11621d",
       "version_major": 2,
       "version_minor": 0
      },
      "text/plain": [
       "  0%|          | 0/10 [00:00<?, ?it/s]"
      ]
     },
     "metadata": {},
     "output_type": "display_data"
    },
    {
     "name": "stdout",
     "output_type": "stream",
     "text": [
      "Epoch: 10 | Train Loss: 0.0246 | Acc: 0.9939 | Prec: 0.9942 | Recall: 0.9927 | F1: 0.9935 | ROC-AUC: 0.9993 || Test Loss: 0.3100 | Acc: 0.9349 | Prec: 0.9696 | Recall: 0.9599 | F1: 0.9647 | ROC-AUC: 0.9445\n",
      "Max val ROC-AUC: 0.9517\n",
      "Training with d_model=64, nhead=2, num_layers=2, dropout=0.1, lr=0.001\n"
     ]
    },
    {
     "data": {
      "application/vnd.jupyter.widget-view+json": {
       "model_id": "914c5b852bda44e688467917dfc8ecf7",
       "version_major": 2,
       "version_minor": 0
      },
      "text/plain": [
       "  0%|          | 0/10 [00:00<?, ?it/s]"
      ]
     },
     "metadata": {},
     "output_type": "display_data"
    },
    {
     "name": "stdout",
     "output_type": "stream",
     "text": [
      "Epoch: 10 | Train Loss: 0.0095 | Acc: 0.9976 | Prec: 0.9985 | Recall: 0.9964 | F1: 0.9975 | ROC-AUC: 0.9999 || Test Loss: 0.4288 | Acc: 0.9256 | Prec: 0.9867 | Recall: 0.9323 | F1: 0.9588 | ROC-AUC: 0.9518\n",
      "Max val ROC-AUC: 0.9639\n",
      "Training with d_model=64, nhead=2, num_layers=2, dropout=0.1, lr=0.001\n"
     ]
    },
    {
     "data": {
      "application/vnd.jupyter.widget-view+json": {
       "model_id": "5e3701904ffa43339da89598c98837b0",
       "version_major": 2,
       "version_minor": 0
      },
      "text/plain": [
       "  0%|          | 0/10 [00:00<?, ?it/s]"
      ]
     },
     "metadata": {},
     "output_type": "display_data"
    },
    {
     "name": "stdout",
     "output_type": "stream",
     "text": [
      "Epoch: 10 | Train Loss: 0.0147 | Acc: 0.9963 | Prec: 0.9971 | Recall: 0.9949 | F1: 0.9960 | ROC-AUC: 0.9996 || Test Loss: 0.3367 | Acc: 0.9488 | Prec: 0.9796 | Recall: 0.9649 | F1: 0.9722 | ROC-AUC: 0.9573\n",
      "Max val ROC-AUC: 0.9582\n",
      "Training with d_model=64, nhead=2, num_layers=2, dropout=0.3, lr=0.1\n"
     ]
    },
    {
     "data": {
      "application/vnd.jupyter.widget-view+json": {
       "model_id": "b2ef8850426248b6a5b85fe34e089286",
       "version_major": 2,
       "version_minor": 0
      },
      "text/plain": [
       "  0%|          | 0/10 [00:00<?, ?it/s]"
      ]
     },
     "metadata": {},
     "output_type": "display_data"
    },
    {
     "name": "stdout",
     "output_type": "stream",
     "text": [
      "Epoch: 10 | Train Loss: 0.6765 | Acc: 0.6820 | Prec: 0.8336 | Recall: 0.3929 | F1: 0.5341 | ROC-AUC: 0.7242 || Test Loss: 0.8410 | Acc: 0.0721 | Prec: 0.0000 | Recall: 0.0000 | F1: 0.0000 | ROC-AUC: 0.5000\n",
      "Max val ROC-AUC: 0.9441\n",
      "Training with d_model=64, nhead=2, num_layers=2, dropout=0.3, lr=0.1\n"
     ]
    },
    {
     "data": {
      "application/vnd.jupyter.widget-view+json": {
       "model_id": "5998321734cf4795a3a64b1bb630d284",
       "version_major": 2,
       "version_minor": 0
      },
      "text/plain": [
       "  0%|          | 0/10 [00:00<?, ?it/s]"
      ]
     },
     "metadata": {},
     "output_type": "display_data"
    },
    {
     "name": "stdout",
     "output_type": "stream",
     "text": [
      "Epoch: 10 | Train Loss: 0.6950 | Acc: 0.5298 | Prec: 0.4828 | Recall: 0.1939 | F1: 0.2767 | ROC-AUC: 0.4893 || Test Loss: 0.9733 | Acc: 0.0721 | Prec: 0.0000 | Recall: 0.0000 | F1: 0.0000 | ROC-AUC: 0.7698\n",
      "Max val ROC-AUC: 0.9536\n",
      "Training with d_model=64, nhead=2, num_layers=2, dropout=0.3, lr=0.1\n"
     ]
    },
    {
     "data": {
      "application/vnd.jupyter.widget-view+json": {
       "model_id": "b30d1f274cb64ad582f9f3fb6cde5350",
       "version_major": 2,
       "version_minor": 0
      },
      "text/plain": [
       "  0%|          | 0/10 [00:00<?, ?it/s]"
      ]
     },
     "metadata": {},
     "output_type": "display_data"
    },
    {
     "name": "stdout",
     "output_type": "stream",
     "text": [
      "Epoch: 10 | Train Loss: 0.4496 | Acc: 0.8346 | Prec: 0.7685 | Recall: 0.9208 | F1: 0.8378 | ROC-AUC: 0.8585 || Test Loss: 0.4239 | Acc: 0.9302 | Prec: 0.9671 | Recall: 0.9574 | F1: 0.9622 | ROC-AUC: 0.7693\n",
      "Max val ROC-AUC: 0.8974\n",
      "Training with d_model=64, nhead=2, num_layers=2, dropout=0.3, lr=0.1\n"
     ]
    },
    {
     "data": {
      "application/vnd.jupyter.widget-view+json": {
       "model_id": "80757bbeab1140b4ab1b8db0cf9a081a",
       "version_major": 2,
       "version_minor": 0
      },
      "text/plain": [
       "  0%|          | 0/10 [00:00<?, ?it/s]"
      ]
     },
     "metadata": {},
     "output_type": "display_data"
    },
    {
     "name": "stdout",
     "output_type": "stream",
     "text": [
      "Epoch: 10 | Train Loss: 0.4986 | Acc: 0.8107 | Prec: 0.7529 | Recall: 0.8809 | F1: 0.8119 | ROC-AUC: 0.8455 || Test Loss: 0.5667 | Acc: 0.8302 | Prec: 0.9880 | Recall: 0.8271 | F1: 0.9004 | ROC-AUC: 0.8501\n",
      "Max val ROC-AUC: 0.9500\n",
      "Training with d_model=64, nhead=2, num_layers=2, dropout=0.3, lr=0.1\n"
     ]
    },
    {
     "data": {
      "application/vnd.jupyter.widget-view+json": {
       "model_id": "f907c86f30fd4412bfe064a64bf69797",
       "version_major": 2,
       "version_minor": 0
      },
      "text/plain": [
       "  0%|          | 0/10 [00:00<?, ?it/s]"
      ]
     },
     "metadata": {},
     "output_type": "display_data"
    },
    {
     "name": "stdout",
     "output_type": "stream",
     "text": [
      "Epoch: 10 | Train Loss: 0.4973 | Acc: 0.7885 | Prec: 0.9652 | Recall: 0.5643 | F1: 0.7122 | ROC-AUC: 0.7879 || Test Loss: 0.6128 | Acc: 0.6140 | Prec: 0.9957 | Recall: 0.5865 | F1: 0.7382 | ROC-AUC: 0.8898\n",
      "Max val ROC-AUC: 0.9412\n",
      "Training with d_model=64, nhead=2, num_layers=2, dropout=0.3, lr=0.1\n"
     ]
    },
    {
     "data": {
      "application/vnd.jupyter.widget-view+json": {
       "model_id": "f8cb4d1f9f3f4a80970c5f8321eb8044",
       "version_major": 2,
       "version_minor": 0
      },
      "text/plain": [
       "  0%|          | 0/10 [00:00<?, ?it/s]"
      ]
     },
     "metadata": {},
     "output_type": "display_data"
    },
    {
     "name": "stdout",
     "output_type": "stream",
     "text": [
      "Epoch: 10 | Train Loss: 0.6558 | Acc: 0.6541 | Prec: 0.6328 | Recall: 0.6057 | F1: 0.6189 | ROC-AUC: 0.6867 || Test Loss: 0.7038 | Acc: 0.7442 | Prec: 0.9966 | Recall: 0.7268 | F1: 0.8406 | ROC-AUC: 0.9169\n",
      "Max val ROC-AUC: 0.9676\n",
      "Training with d_model=64, nhead=2, num_layers=2, dropout=0.3, lr=0.1\n"
     ]
    },
    {
     "data": {
      "application/vnd.jupyter.widget-view+json": {
       "model_id": "ca0f1664455c46989070bf3ed923d732",
       "version_major": 2,
       "version_minor": 0
      },
      "text/plain": [
       "  0%|          | 0/10 [00:00<?, ?it/s]"
      ]
     },
     "metadata": {},
     "output_type": "display_data"
    },
    {
     "name": "stdout",
     "output_type": "stream",
     "text": [
      "Epoch: 10 | Train Loss: 0.3828 | Acc: 0.8703 | Prec: 0.8833 | Recall: 0.8301 | F1: 0.8559 | ROC-AUC: 0.9037 || Test Loss: 0.4298 | Acc: 0.8163 | Prec: 0.9938 | Recall: 0.8070 | F1: 0.8907 | ROC-AUC: 0.8713\n",
      "Max val ROC-AUC: 0.9048\n",
      "Training with d_model=64, nhead=2, num_layers=2, dropout=0.3, lr=0.1\n"
     ]
    },
    {
     "data": {
      "application/vnd.jupyter.widget-view+json": {
       "model_id": "a3d35e3e2b2742e881473b20f28b597b",
       "version_major": 2,
       "version_minor": 0
      },
      "text/plain": [
       "  0%|          | 0/10 [00:00<?, ?it/s]"
      ]
     },
     "metadata": {},
     "output_type": "display_data"
    },
    {
     "name": "stdout",
     "output_type": "stream",
     "text": [
      "Epoch: 10 | Train Loss: 0.5547 | Acc: 0.7504 | Prec: 0.6695 | Recall: 0.9121 | F1: 0.7722 | ROC-AUC: 0.7820 || Test Loss: 0.8070 | Acc: 0.7791 | Prec: 0.9967 | Recall: 0.7644 | F1: 0.8652 | ROC-AUC: 0.9020\n",
      "Max val ROC-AUC: 0.9426\n",
      "Training with d_model=64, nhead=2, num_layers=2, dropout=0.3, lr=0.1\n"
     ]
    },
    {
     "data": {
      "application/vnd.jupyter.widget-view+json": {
       "model_id": "d270d25c28f44b69ba7644aef79a0e1a",
       "version_major": 2,
       "version_minor": 0
      },
      "text/plain": [
       "  0%|          | 0/10 [00:00<?, ?it/s]"
      ]
     },
     "metadata": {},
     "output_type": "display_data"
    },
    {
     "name": "stdout",
     "output_type": "stream",
     "text": [
      "Epoch: 10 | Train Loss: 0.3979 | Acc: 0.8430 | Prec: 0.9376 | Recall: 0.7088 | F1: 0.8073 | ROC-AUC: 0.8962 || Test Loss: 0.4488 | Acc: 0.8302 | Prec: 0.9851 | Recall: 0.8296 | F1: 0.9007 | ROC-AUC: 0.9027\n",
      "Max val ROC-AUC: 0.9470\n",
      "Training with d_model=64, nhead=2, num_layers=2, dropout=0.3, lr=0.1\n"
     ]
    },
    {
     "data": {
      "application/vnd.jupyter.widget-view+json": {
       "model_id": "61b8d598c47440f09593061b5e2280be",
       "version_major": 2,
       "version_minor": 0
      },
      "text/plain": [
       "  0%|          | 0/10 [00:00<?, ?it/s]"
      ]
     },
     "metadata": {},
     "output_type": "display_data"
    },
    {
     "name": "stdout",
     "output_type": "stream",
     "text": [
      "Epoch: 10 | Train Loss: 0.7005 | Acc: 0.5470 | Prec: 0.5537 | Recall: 0.1198 | F1: 0.1970 | ROC-AUC: 0.5257 || Test Loss: 0.5802 | Acc: 0.7837 | Prec: 0.9904 | Recall: 0.7744 | F1: 0.8692 | ROC-AUC: 0.9139\n",
      "Max val ROC-AUC: 0.9467\n",
      "Training with d_model=64, nhead=2, num_layers=2, dropout=0.3, lr=0.01\n"
     ]
    },
    {
     "data": {
      "application/vnd.jupyter.widget-view+json": {
       "model_id": "2ca7cf7c93db48cb9b7708f4d81612d6",
       "version_major": 2,
       "version_minor": 0
      },
      "text/plain": [
       "  0%|          | 0/10 [00:00<?, ?it/s]"
      ]
     },
     "metadata": {},
     "output_type": "display_data"
    },
    {
     "name": "stdout",
     "output_type": "stream",
     "text": [
      "Epoch: 10 | Train Loss: 0.1426 | Acc: 0.9539 | Prec: 0.9791 | Recall: 0.9201 | F1: 0.9487 | ROC-AUC: 0.9832 || Test Loss: 0.3705 | Acc: 0.8837 | Prec: 0.9915 | Recall: 0.8822 | F1: 0.9337 | ROC-AUC: 0.9398\n",
      "Max val ROC-AUC: 0.9451\n",
      "Training with d_model=64, nhead=2, num_layers=2, dropout=0.3, lr=0.01\n"
     ]
    },
    {
     "data": {
      "application/vnd.jupyter.widget-view+json": {
       "model_id": "9f46454ac1e945359664dd07f8cfdede",
       "version_major": 2,
       "version_minor": 0
      },
      "text/plain": [
       "  0%|          | 0/10 [00:00<?, ?it/s]"
      ]
     },
     "metadata": {},
     "output_type": "display_data"
    },
    {
     "name": "stdout",
     "output_type": "stream",
     "text": [
      "Epoch: 10 | Train Loss: 0.1735 | Acc: 0.9444 | Prec: 0.9727 | Recall: 0.9056 | F1: 0.9379 | ROC-AUC: 0.9777 || Test Loss: 0.2625 | Acc: 0.8977 | Prec: 0.9733 | Recall: 0.9148 | F1: 0.9432 | ROC-AUC: 0.8954\n",
      "Max val ROC-AUC: 0.9271\n",
      "Training with d_model=64, nhead=2, num_layers=2, dropout=0.3, lr=0.01\n"
     ]
    },
    {
     "data": {
      "application/vnd.jupyter.widget-view+json": {
       "model_id": "1a391884874b49b6adb52ce42d45fd1c",
       "version_major": 2,
       "version_minor": 0
      },
      "text/plain": [
       "  0%|          | 0/10 [00:00<?, ?it/s]"
      ]
     },
     "metadata": {},
     "output_type": "display_data"
    },
    {
     "name": "stdout",
     "output_type": "stream",
     "text": [
      "Epoch: 10 | Train Loss: 0.1333 | Acc: 0.9626 | Prec: 0.9795 | Recall: 0.9390 | F1: 0.9588 | ROC-AUC: 0.9847 || Test Loss: 0.3237 | Acc: 0.8814 | Prec: 0.9807 | Recall: 0.8897 | F1: 0.9330 | ROC-AUC: 0.9062\n",
      "Max val ROC-AUC: 0.9397\n",
      "Training with d_model=64, nhead=2, num_layers=2, dropout=0.3, lr=0.01\n"
     ]
    },
    {
     "data": {
      "application/vnd.jupyter.widget-view+json": {
       "model_id": "4d1d02bd6ccb466db74922bb487cddbe",
       "version_major": 2,
       "version_minor": 0
      },
      "text/plain": [
       "  0%|          | 0/10 [00:00<?, ?it/s]"
      ]
     },
     "metadata": {},
     "output_type": "display_data"
    },
    {
     "name": "stdout",
     "output_type": "stream",
     "text": [
      "Epoch: 10 | Train Loss: 0.1445 | Acc: 0.9555 | Prec: 0.9822 | Recall: 0.9208 | F1: 0.9505 | ROC-AUC: 0.9812 || Test Loss: 0.3574 | Acc: 0.9302 | Prec: 0.9817 | Recall: 0.9424 | F1: 0.9616 | ROC-AUC: 0.9339\n",
      "Max val ROC-AUC: 0.9453\n",
      "Training with d_model=64, nhead=2, num_layers=2, dropout=0.3, lr=0.01\n"
     ]
    },
    {
     "data": {
      "application/vnd.jupyter.widget-view+json": {
       "model_id": "85cc5ebed44141df99e04139fca05f6c",
       "version_major": 2,
       "version_minor": 0
      },
      "text/plain": [
       "  0%|          | 0/10 [00:00<?, ?it/s]"
      ]
     },
     "metadata": {},
     "output_type": "display_data"
    },
    {
     "name": "stdout",
     "output_type": "stream",
     "text": [
      "Epoch: 10 | Train Loss: 0.1512 | Acc: 0.9616 | Prec: 0.9847 | Recall: 0.9317 | F1: 0.9575 | ROC-AUC: 0.9803 || Test Loss: 0.4527 | Acc: 0.8326 | Prec: 0.9910 | Recall: 0.8271 | F1: 0.9016 | ROC-AUC: 0.9333\n",
      "Max val ROC-AUC: 0.9440\n",
      "Training with d_model=64, nhead=2, num_layers=2, dropout=0.3, lr=0.01\n"
     ]
    },
    {
     "data": {
      "application/vnd.jupyter.widget-view+json": {
       "model_id": "29d7647da1cd46438012ada64164f91a",
       "version_major": 2,
       "version_minor": 0
      },
      "text/plain": [
       "  0%|          | 0/10 [00:00<?, ?it/s]"
      ]
     },
     "metadata": {},
     "output_type": "display_data"
    },
    {
     "name": "stdout",
     "output_type": "stream",
     "text": [
      "Epoch: 10 | Train Loss: 0.1304 | Acc: 0.9592 | Prec: 0.9801 | Recall: 0.9310 | F1: 0.9549 | ROC-AUC: 0.9867 || Test Loss: 0.3975 | Acc: 0.8814 | Prec: 0.9888 | Recall: 0.8822 | F1: 0.9325 | ROC-AUC: 0.9502\n",
      "Max val ROC-AUC: 0.9502\n",
      "Training with d_model=64, nhead=2, num_layers=2, dropout=0.3, lr=0.01\n"
     ]
    },
    {
     "data": {
      "application/vnd.jupyter.widget-view+json": {
       "model_id": "7484793f56de440a868b492f3fa407e9",
       "version_major": 2,
       "version_minor": 0
      },
      "text/plain": [
       "  0%|          | 0/10 [00:00<?, ?it/s]"
      ]
     },
     "metadata": {},
     "output_type": "display_data"
    },
    {
     "name": "stdout",
     "output_type": "stream",
     "text": [
      "Epoch: 10 | Train Loss: 0.1336 | Acc: 0.9606 | Prec: 0.9780 | Recall: 0.9361 | F1: 0.9566 | ROC-AUC: 0.9851 || Test Loss: 0.3815 | Acc: 0.9209 | Prec: 0.9841 | Recall: 0.9298 | F1: 0.9562 | ROC-AUC: 0.9407\n",
      "Max val ROC-AUC: 0.9565\n",
      "Training with d_model=64, nhead=2, num_layers=2, dropout=0.3, lr=0.01\n"
     ]
    },
    {
     "data": {
      "application/vnd.jupyter.widget-view+json": {
       "model_id": "c8dd97889d1a453089e5a2dd9b7f16ab",
       "version_major": 2,
       "version_minor": 0
      },
      "text/plain": [
       "  0%|          | 0/10 [00:00<?, ?it/s]"
      ]
     },
     "metadata": {},
     "output_type": "display_data"
    },
    {
     "name": "stdout",
     "output_type": "stream",
     "text": [
      "Epoch: 10 | Train Loss: 0.1105 | Acc: 0.9646 | Prec: 0.9833 | Recall: 0.9397 | F1: 0.9610 | ROC-AUC: 0.9886 || Test Loss: 0.5639 | Acc: 0.8837 | Prec: 0.9781 | Recall: 0.8947 | F1: 0.9346 | ROC-AUC: 0.9166\n",
      "Max val ROC-AUC: 0.9455\n",
      "Training with d_model=64, nhead=2, num_layers=2, dropout=0.3, lr=0.01\n"
     ]
    },
    {
     "data": {
      "application/vnd.jupyter.widget-view+json": {
       "model_id": "7f528fcddd8744298d48d22fc7713174",
       "version_major": 2,
       "version_minor": 0
      },
      "text/plain": [
       "  0%|          | 0/10 [00:00<?, ?it/s]"
      ]
     },
     "metadata": {},
     "output_type": "display_data"
    },
    {
     "name": "stdout",
     "output_type": "stream",
     "text": [
      "Epoch: 10 | Train Loss: 0.1662 | Acc: 0.9454 | Prec: 0.9669 | Recall: 0.9136 | F1: 0.9395 | ROC-AUC: 0.9781 || Test Loss: 0.3869 | Acc: 0.8930 | Prec: 0.9889 | Recall: 0.8947 | F1: 0.9395 | ROC-AUC: 0.9043\n",
      "Max val ROC-AUC: 0.9597\n",
      "Training with d_model=64, nhead=2, num_layers=2, dropout=0.3, lr=0.01\n"
     ]
    },
    {
     "data": {
      "application/vnd.jupyter.widget-view+json": {
       "model_id": "7e0a4565b8ca470dbb035622ebaad01f",
       "version_major": 2,
       "version_minor": 0
      },
      "text/plain": [
       "  0%|          | 0/10 [00:00<?, ?it/s]"
      ]
     },
     "metadata": {},
     "output_type": "display_data"
    },
    {
     "name": "stdout",
     "output_type": "stream",
     "text": [
      "Epoch: 10 | Train Loss: 0.1341 | Acc: 0.9619 | Prec: 0.9766 | Recall: 0.9405 | F1: 0.9582 | ROC-AUC: 0.9849 || Test Loss: 0.3798 | Acc: 0.8860 | Prec: 0.9808 | Recall: 0.8947 | F1: 0.9358 | ROC-AUC: 0.9608\n",
      "Max val ROC-AUC: 0.9679\n",
      "Training with d_model=64, nhead=2, num_layers=2, dropout=0.3, lr=0.001\n"
     ]
    },
    {
     "data": {
      "application/vnd.jupyter.widget-view+json": {
       "model_id": "d0aa5d89791d41ea8de459ae4d25d10f",
       "version_major": 2,
       "version_minor": 0
      },
      "text/plain": [
       "  0%|          | 0/10 [00:00<?, ?it/s]"
      ]
     },
     "metadata": {},
     "output_type": "display_data"
    },
    {
     "name": "stdout",
     "output_type": "stream",
     "text": [
      "Epoch: 10 | Train Loss: 0.0414 | Acc: 0.9879 | Prec: 0.9934 | Recall: 0.9804 | F1: 0.9868 | ROC-AUC: 0.9981 || Test Loss: 0.3224 | Acc: 0.9163 | Prec: 0.9840 | Recall: 0.9248 | F1: 0.9535 | ROC-AUC: 0.9316\n",
      "Max val ROC-AUC: 0.9486\n",
      "Training with d_model=64, nhead=2, num_layers=2, dropout=0.3, lr=0.001\n"
     ]
    },
    {
     "data": {
      "application/vnd.jupyter.widget-view+json": {
       "model_id": "c072782a9c9d41ae9e5f7b1131fac6ab",
       "version_major": 2,
       "version_minor": 0
      },
      "text/plain": [
       "  0%|          | 0/10 [00:00<?, ?it/s]"
      ]
     },
     "metadata": {},
     "output_type": "display_data"
    },
    {
     "name": "stdout",
     "output_type": "stream",
     "text": [
      "Epoch: 10 | Train Loss: 0.0375 | Acc: 0.9885 | Prec: 0.9927 | Recall: 0.9826 | F1: 0.9876 | ROC-AUC: 0.9987 || Test Loss: 0.4198 | Acc: 0.9256 | Prec: 0.9791 | Recall: 0.9398 | F1: 0.9591 | ROC-AUC: 0.9471\n",
      "Max val ROC-AUC: 0.9577\n",
      "Training with d_model=64, nhead=2, num_layers=2, dropout=0.3, lr=0.001\n"
     ]
    },
    {
     "data": {
      "application/vnd.jupyter.widget-view+json": {
       "model_id": "0b738788572b49d7b8d983969a696924",
       "version_major": 2,
       "version_minor": 0
      },
      "text/plain": [
       "  0%|          | 0/10 [00:00<?, ?it/s]"
      ]
     },
     "metadata": {},
     "output_type": "display_data"
    },
    {
     "name": "stdout",
     "output_type": "stream",
     "text": [
      "Epoch: 10 | Train Loss: 0.0359 | Acc: 0.9896 | Prec: 0.9905 | Recall: 0.9869 | F1: 0.9887 | ROC-AUC: 0.9988 || Test Loss: 0.5261 | Acc: 0.9372 | Prec: 0.9794 | Recall: 0.9524 | F1: 0.9657 | ROC-AUC: 0.9086\n",
      "Max val ROC-AUC: 0.9536\n",
      "Training with d_model=64, nhead=2, num_layers=2, dropout=0.3, lr=0.001\n"
     ]
    },
    {
     "data": {
      "application/vnd.jupyter.widget-view+json": {
       "model_id": "017bf2c1a8484225a26933376e6d3f4b",
       "version_major": 2,
       "version_minor": 0
      },
      "text/plain": [
       "  0%|          | 0/10 [00:00<?, ?it/s]"
      ]
     },
     "metadata": {},
     "output_type": "display_data"
    },
    {
     "name": "stdout",
     "output_type": "stream",
     "text": [
      "Epoch: 10 | Train Loss: 0.0437 | Acc: 0.9885 | Prec: 0.9927 | Recall: 0.9826 | F1: 0.9876 | ROC-AUC: 0.9975 || Test Loss: 0.4201 | Acc: 0.9256 | Prec: 0.9742 | Recall: 0.9449 | F1: 0.9593 | ROC-AUC: 0.9221\n",
      "Max val ROC-AUC: 0.9547\n",
      "Training with d_model=64, nhead=2, num_layers=2, dropout=0.3, lr=0.001\n"
     ]
    },
    {
     "data": {
      "application/vnd.jupyter.widget-view+json": {
       "model_id": "58811c78b94742c09418f48c8845e085",
       "version_major": 2,
       "version_minor": 0
      },
      "text/plain": [
       "  0%|          | 0/10 [00:00<?, ?it/s]"
      ]
     },
     "metadata": {},
     "output_type": "display_data"
    },
    {
     "name": "stdout",
     "output_type": "stream",
     "text": [
      "Epoch: 10 | Train Loss: 0.0341 | Acc: 0.9926 | Prec: 0.9927 | Recall: 0.9913 | F1: 0.9920 | ROC-AUC: 0.9981 || Test Loss: 0.4745 | Acc: 0.9233 | Prec: 0.9791 | Recall: 0.9373 | F1: 0.9577 | ROC-AUC: 0.9230\n",
      "Max val ROC-AUC: 0.9617\n",
      "Training with d_model=64, nhead=2, num_layers=2, dropout=0.3, lr=0.001\n"
     ]
    },
    {
     "data": {
      "application/vnd.jupyter.widget-view+json": {
       "model_id": "c033ec01a60b422baab64eac4824bedc",
       "version_major": 2,
       "version_minor": 0
      },
      "text/plain": [
       "  0%|          | 0/10 [00:00<?, ?it/s]"
      ]
     },
     "metadata": {},
     "output_type": "display_data"
    },
    {
     "name": "stdout",
     "output_type": "stream",
     "text": [
      "Epoch: 10 | Train Loss: 0.0239 | Acc: 0.9946 | Prec: 0.9949 | Recall: 0.9935 | F1: 0.9942 | ROC-AUC: 0.9991 || Test Loss: 0.5654 | Acc: 0.8907 | Prec: 0.9783 | Recall: 0.9023 | F1: 0.9387 | ROC-AUC: 0.8905\n",
      "Max val ROC-AUC: 0.9356\n",
      "Training with d_model=64, nhead=2, num_layers=2, dropout=0.3, lr=0.001\n"
     ]
    },
    {
     "data": {
      "application/vnd.jupyter.widget-view+json": {
       "model_id": "42eb102c8dd54cd9b3c278449fdfcadb",
       "version_major": 2,
       "version_minor": 0
      },
      "text/plain": [
       "  0%|          | 0/10 [00:00<?, ?it/s]"
      ]
     },
     "metadata": {},
     "output_type": "display_data"
    },
    {
     "name": "stdout",
     "output_type": "stream",
     "text": [
      "Epoch: 10 | Train Loss: 0.0214 | Acc: 0.9943 | Prec: 0.9978 | Recall: 0.9898 | F1: 0.9938 | ROC-AUC: 0.9994 || Test Loss: 0.4698 | Acc: 0.9209 | Prec: 0.9790 | Recall: 0.9348 | F1: 0.9564 | ROC-AUC: 0.9455\n",
      "Max val ROC-AUC: 0.9515\n",
      "Training with d_model=64, nhead=2, num_layers=2, dropout=0.3, lr=0.001\n"
     ]
    },
    {
     "data": {
      "application/vnd.jupyter.widget-view+json": {
       "model_id": "5c4233179ff549a7bb3eea62f2918ac4",
       "version_major": 2,
       "version_minor": 0
      },
      "text/plain": [
       "  0%|          | 0/10 [00:00<?, ?it/s]"
      ]
     },
     "metadata": {},
     "output_type": "display_data"
    },
    {
     "name": "stdout",
     "output_type": "stream",
     "text": [
      "Epoch: 10 | Train Loss: 0.0305 | Acc: 0.9902 | Prec: 0.9934 | Recall: 0.9855 | F1: 0.9894 | ROC-AUC: 0.9993 || Test Loss: 0.5123 | Acc: 0.9279 | Prec: 0.9792 | Recall: 0.9424 | F1: 0.9604 | ROC-AUC: 0.9318\n",
      "Max val ROC-AUC: 0.9558\n",
      "Training with d_model=64, nhead=2, num_layers=2, dropout=0.3, lr=0.001\n"
     ]
    },
    {
     "data": {
      "application/vnd.jupyter.widget-view+json": {
       "model_id": "f7b6f25c445d4d49804caa58791c00df",
       "version_major": 2,
       "version_minor": 0
      },
      "text/plain": [
       "  0%|          | 0/10 [00:00<?, ?it/s]"
      ]
     },
     "metadata": {},
     "output_type": "display_data"
    },
    {
     "name": "stdout",
     "output_type": "stream",
     "text": [
      "Epoch: 10 | Train Loss: 0.0144 | Acc: 0.9963 | Prec: 0.9971 | Recall: 0.9949 | F1: 0.9960 | ROC-AUC: 0.9997 || Test Loss: 0.4901 | Acc: 0.9279 | Prec: 0.9767 | Recall: 0.9449 | F1: 0.9605 | ROC-AUC: 0.9212\n",
      "Max val ROC-AUC: 0.9445\n",
      "Training with d_model=64, nhead=2, num_layers=2, dropout=0.3, lr=0.001\n"
     ]
    },
    {
     "data": {
      "application/vnd.jupyter.widget-view+json": {
       "model_id": "2a813cb822be46c8b8b0709af20d94f8",
       "version_major": 2,
       "version_minor": 0
      },
      "text/plain": [
       "  0%|          | 0/10 [00:00<?, ?it/s]"
      ]
     },
     "metadata": {},
     "output_type": "display_data"
    },
    {
     "name": "stdout",
     "output_type": "stream",
     "text": [
      "Epoch: 10 | Train Loss: 0.0418 | Acc: 0.9896 | Prec: 0.9920 | Recall: 0.9855 | F1: 0.9887 | ROC-AUC: 0.9980 || Test Loss: 0.5853 | Acc: 0.8767 | Prec: 0.9806 | Recall: 0.8847 | F1: 0.9302 | ROC-AUC: 0.9114\n",
      "Max val ROC-AUC: 0.9537\n",
      "Training with d_model=64, nhead=2, num_layers=2, dropout=0.5, lr=0.1\n"
     ]
    },
    {
     "data": {
      "application/vnd.jupyter.widget-view+json": {
       "model_id": "0227e162055343e5903c0284f90df319",
       "version_major": 2,
       "version_minor": 0
      },
      "text/plain": [
       "  0%|          | 0/10 [00:00<?, ?it/s]"
      ]
     },
     "metadata": {},
     "output_type": "display_data"
    },
    {
     "name": "stdout",
     "output_type": "stream",
     "text": [
      "Epoch: 10 | Train Loss: 0.6931 | Acc: 0.5217 | Prec: 0.4581 | Recall: 0.1707 | F1: 0.2487 | ROC-AUC: 0.5106 || Test Loss: 0.8629 | Acc: 0.0721 | Prec: 0.0000 | Recall: 0.0000 | F1: 0.0000 | ROC-AUC: 0.5000\n",
      "Max val ROC-AUC: 0.5000\n",
      "Training with d_model=64, nhead=2, num_layers=2, dropout=0.5, lr=0.1\n"
     ]
    },
    {
     "data": {
      "application/vnd.jupyter.widget-view+json": {
       "model_id": "c2c659a09e9b4ae99adc68018fc9b943",
       "version_major": 2,
       "version_minor": 0
      },
      "text/plain": [
       "  0%|          | 0/10 [00:00<?, ?it/s]"
      ]
     },
     "metadata": {},
     "output_type": "display_data"
    },
    {
     "name": "stdout",
     "output_type": "stream",
     "text": [
      "Epoch: 10 | Train Loss: 0.6918 | Acc: 0.5342 | Prec: 0.4918 | Recall: 0.1314 | F1: 0.2074 | ROC-AUC: 0.5012 || Test Loss: 0.8455 | Acc: 0.0721 | Prec: 0.0000 | Recall: 0.0000 | F1: 0.0000 | ROC-AUC: 0.5000\n",
      "Max val ROC-AUC: 0.5000\n",
      "Training with d_model=64, nhead=2, num_layers=2, dropout=0.5, lr=0.1\n"
     ]
    },
    {
     "data": {
      "application/vnd.jupyter.widget-view+json": {
       "model_id": "fde49fa99a454cc49654cc8d07028423",
       "version_major": 2,
       "version_minor": 0
      },
      "text/plain": [
       "  0%|          | 0/10 [00:00<?, ?it/s]"
      ]
     },
     "metadata": {},
     "output_type": "display_data"
    },
    {
     "name": "stdout",
     "output_type": "stream",
     "text": [
      "Epoch: 10 | Train Loss: 0.6944 | Acc: 0.5153 | Prec: 0.4365 | Recall: 0.1547 | F1: 0.2284 | ROC-AUC: 0.4925 || Test Loss: 0.7183 | Acc: 0.0721 | Prec: 0.0000 | Recall: 0.0000 | F1: 0.0000 | ROC-AUC: 0.5000\n",
      "Max val ROC-AUC: 0.5000\n",
      "Training with d_model=64, nhead=2, num_layers=2, dropout=0.5, lr=0.1\n"
     ]
    },
    {
     "data": {
      "application/vnd.jupyter.widget-view+json": {
       "model_id": "c299da8558db46ff8e996f2b1fc46d0b",
       "version_major": 2,
       "version_minor": 0
      },
      "text/plain": [
       "  0%|          | 0/10 [00:00<?, ?it/s]"
      ]
     },
     "metadata": {},
     "output_type": "display_data"
    },
    {
     "name": "stdout",
     "output_type": "stream",
     "text": [
      "Epoch: 10 | Train Loss: 0.6972 | Acc: 0.5248 | Prec: 0.4627 | Recall: 0.1532 | F1: 0.2302 | ROC-AUC: 0.4872 || Test Loss: 0.7468 | Acc: 0.0721 | Prec: 0.0000 | Recall: 0.0000 | F1: 0.0000 | ROC-AUC: 0.2845\n",
      "Max val ROC-AUC: 0.9612\n",
      "Training with d_model=64, nhead=2, num_layers=2, dropout=0.5, lr=0.1\n"
     ]
    },
    {
     "data": {
      "application/vnd.jupyter.widget-view+json": {
       "model_id": "0597c5ddadac4b3787ba7edfad975c2b",
       "version_major": 2,
       "version_minor": 0
      },
      "text/plain": [
       "  0%|          | 0/10 [00:00<?, ?it/s]"
      ]
     },
     "metadata": {},
     "output_type": "display_data"
    },
    {
     "name": "stdout",
     "output_type": "stream",
     "text": [
      "Epoch: 10 | Train Loss: 0.6929 | Acc: 0.5271 | Prec: 0.4802 | Recall: 0.2375 | F1: 0.3178 | ROC-AUC: 0.5105 || Test Loss: 0.6351 | Acc: 0.9279 | Prec: 0.9279 | Recall: 1.0000 | F1: 0.9626 | ROC-AUC: 0.5000\n",
      "Max val ROC-AUC: 0.9214\n",
      "Training with d_model=64, nhead=2, num_layers=2, dropout=0.5, lr=0.1\n"
     ]
    },
    {
     "data": {
      "application/vnd.jupyter.widget-view+json": {
       "model_id": "1876487021d04a9f88fe26e0e53a7e41",
       "version_major": 2,
       "version_minor": 0
      },
      "text/plain": [
       "  0%|          | 0/10 [00:00<?, ?it/s]"
      ]
     },
     "metadata": {},
     "output_type": "display_data"
    },
    {
     "name": "stdout",
     "output_type": "stream",
     "text": [
      "Epoch: 10 | Train Loss: 0.7211 | Acc: 0.5086 | Prec: 0.3915 | Recall: 0.1075 | F1: 0.1687 | ROC-AUC: 0.4923 || Test Loss: 0.7129 | Acc: 0.0721 | Prec: 0.0000 | Recall: 0.0000 | F1: 0.0000 | ROC-AUC: 0.5000\n",
      "Max val ROC-AUC: 0.5000\n",
      "Training with d_model=64, nhead=2, num_layers=2, dropout=0.5, lr=0.1\n"
     ]
    },
    {
     "data": {
      "application/vnd.jupyter.widget-view+json": {
       "model_id": "7ba900605a934c2fb1fda7134c5a27ae",
       "version_major": 2,
       "version_minor": 0
      },
      "text/plain": [
       "  0%|          | 0/10 [00:00<?, ?it/s]"
      ]
     },
     "metadata": {},
     "output_type": "display_data"
    },
    {
     "name": "stdout",
     "output_type": "stream",
     "text": [
      "Epoch: 10 | Train Loss: 0.6947 | Acc: 0.5190 | Prec: 0.4602 | Recall: 0.2142 | F1: 0.2924 | ROC-AUC: 0.4962 || Test Loss: 0.7923 | Acc: 0.0721 | Prec: 0.0000 | Recall: 0.0000 | F1: 0.0000 | ROC-AUC: 0.5000\n",
      "Max val ROC-AUC: 0.9378\n",
      "Training with d_model=64, nhead=2, num_layers=2, dropout=0.5, lr=0.1\n"
     ]
    },
    {
     "data": {
      "application/vnd.jupyter.widget-view+json": {
       "model_id": "ffdb48de575d42b9a76a6bfc5705c8de",
       "version_major": 2,
       "version_minor": 0
      },
      "text/plain": [
       "  0%|          | 0/10 [00:00<?, ?it/s]"
      ]
     },
     "metadata": {},
     "output_type": "display_data"
    },
    {
     "name": "stdout",
     "output_type": "stream",
     "text": [
      "Epoch: 10 | Train Loss: 0.6995 | Acc: 0.5147 | Prec: 0.4604 | Recall: 0.2702 | F1: 0.3405 | ROC-AUC: 0.4800 || Test Loss: 0.8243 | Acc: 0.0721 | Prec: 0.0000 | Recall: 0.0000 | F1: 0.0000 | ROC-AUC: 0.5000\n",
      "Max val ROC-AUC: 0.5000\n",
      "Training with d_model=64, nhead=2, num_layers=2, dropout=0.5, lr=0.1\n"
     ]
    },
    {
     "data": {
      "application/vnd.jupyter.widget-view+json": {
       "model_id": "26a7bc4620d54eeaa59e1f1345d9ee00",
       "version_major": 2,
       "version_minor": 0
      },
      "text/plain": [
       "  0%|          | 0/10 [00:00<?, ?it/s]"
      ]
     },
     "metadata": {},
     "output_type": "display_data"
    },
    {
     "name": "stdout",
     "output_type": "stream",
     "text": [
      "Epoch: 10 | Train Loss: 0.6973 | Acc: 0.5147 | Prec: 0.4459 | Recall: 0.1917 | F1: 0.2682 | ROC-AUC: 0.4789 || Test Loss: 0.7522 | Acc: 0.0721 | Prec: 0.0000 | Recall: 0.0000 | F1: 0.0000 | ROC-AUC: 0.5000\n",
      "Max val ROC-AUC: 0.5000\n",
      "Training with d_model=64, nhead=2, num_layers=2, dropout=0.5, lr=0.1\n"
     ]
    },
    {
     "data": {
      "application/vnd.jupyter.widget-view+json": {
       "model_id": "d4403c87ed234d2391c3334e8f270848",
       "version_major": 2,
       "version_minor": 0
      },
      "text/plain": [
       "  0%|          | 0/10 [00:00<?, ?it/s]"
      ]
     },
     "metadata": {},
     "output_type": "display_data"
    },
    {
     "name": "stdout",
     "output_type": "stream",
     "text": [
      "Epoch: 10 | Train Loss: 0.6929 | Acc: 0.5113 | Prec: 0.4662 | Recall: 0.3711 | F1: 0.4133 | ROC-AUC: 0.5210 || Test Loss: 1.0140 | Acc: 0.0721 | Prec: 0.0000 | Recall: 0.0000 | F1: 0.0000 | ROC-AUC: 0.5000\n",
      "Max val ROC-AUC: 0.9152\n",
      "Training with d_model=64, nhead=2, num_layers=2, dropout=0.5, lr=0.01\n"
     ]
    },
    {
     "data": {
      "application/vnd.jupyter.widget-view+json": {
       "model_id": "be564aca59004885ae6b0efa56211763",
       "version_major": 2,
       "version_minor": 0
      },
      "text/plain": [
       "  0%|          | 0/10 [00:00<?, ?it/s]"
      ]
     },
     "metadata": {},
     "output_type": "display_data"
    },
    {
     "name": "stdout",
     "output_type": "stream",
     "text": [
      "Epoch: 10 | Train Loss: 0.1340 | Acc: 0.9613 | Prec: 0.9802 | Recall: 0.9354 | F1: 0.9573 | ROC-AUC: 0.9829 || Test Loss: 0.5160 | Acc: 0.8558 | Prec: 0.9856 | Recall: 0.8571 | F1: 0.9169 | ROC-AUC: 0.9185\n",
      "Max val ROC-AUC: 0.9533\n",
      "Training with d_model=64, nhead=2, num_layers=2, dropout=0.5, lr=0.01\n"
     ]
    },
    {
     "data": {
      "application/vnd.jupyter.widget-view+json": {
       "model_id": "83a0ebcd434047b79eda47c15a4efdc4",
       "version_major": 2,
       "version_minor": 0
      },
      "text/plain": [
       "  0%|          | 0/10 [00:00<?, ?it/s]"
      ]
     },
     "metadata": {},
     "output_type": "display_data"
    },
    {
     "name": "stdout",
     "output_type": "stream",
     "text": [
      "Epoch: 10 | Train Loss: 0.1461 | Acc: 0.9582 | Prec: 0.9764 | Recall: 0.9325 | F1: 0.9539 | ROC-AUC: 0.9850 || Test Loss: 0.4183 | Acc: 0.8628 | Prec: 0.9830 | Recall: 0.8672 | F1: 0.9214 | ROC-AUC: 0.9176\n",
      "Max val ROC-AUC: 0.9379\n",
      "Training with d_model=64, nhead=2, num_layers=2, dropout=0.5, lr=0.01\n"
     ]
    },
    {
     "data": {
      "application/vnd.jupyter.widget-view+json": {
       "model_id": "fc97167dd3e54ed2a3614c39bc9ee633",
       "version_major": 2,
       "version_minor": 0
      },
      "text/plain": [
       "  0%|          | 0/10 [00:00<?, ?it/s]"
      ]
     },
     "metadata": {},
     "output_type": "display_data"
    },
    {
     "name": "stdout",
     "output_type": "stream",
     "text": [
      "Epoch: 10 | Train Loss: 0.1926 | Acc: 0.9340 | Prec: 0.9646 | Recall: 0.8903 | F1: 0.9260 | ROC-AUC: 0.9706 || Test Loss: 0.5107 | Acc: 0.8674 | Prec: 0.9858 | Recall: 0.8697 | F1: 0.9241 | ROC-AUC: 0.9082\n",
      "Max val ROC-AUC: 0.9420\n",
      "Training with d_model=64, nhead=2, num_layers=2, dropout=0.5, lr=0.01\n"
     ]
    },
    {
     "data": {
      "application/vnd.jupyter.widget-view+json": {
       "model_id": "8009ee4307e74794ba55eb226152f3bc",
       "version_major": 2,
       "version_minor": 0
      },
      "text/plain": [
       "  0%|          | 0/10 [00:00<?, ?it/s]"
      ]
     },
     "metadata": {},
     "output_type": "display_data"
    },
    {
     "name": "stdout",
     "output_type": "stream",
     "text": [
      "Epoch: 10 | Train Loss: 0.2115 | Acc: 0.9279 | Prec: 0.9648 | Recall: 0.8765 | F1: 0.9186 | ROC-AUC: 0.9685 || Test Loss: 0.3209 | Acc: 0.8814 | Prec: 0.9888 | Recall: 0.8822 | F1: 0.9325 | ROC-AUC: 0.9320\n",
      "Max val ROC-AUC: 0.9566\n",
      "Training with d_model=64, nhead=2, num_layers=2, dropout=0.5, lr=0.01\n"
     ]
    },
    {
     "data": {
      "application/vnd.jupyter.widget-view+json": {
       "model_id": "518925bc20274330a28c1832f165f40d",
       "version_major": 2,
       "version_minor": 0
      },
      "text/plain": [
       "  0%|          | 0/10 [00:00<?, ?it/s]"
      ]
     },
     "metadata": {},
     "output_type": "display_data"
    },
    {
     "name": "stdout",
     "output_type": "stream",
     "text": [
      "Epoch: 10 | Train Loss: 0.1636 | Acc: 0.9586 | Prec: 0.9736 | Recall: 0.9361 | F1: 0.9545 | ROC-AUC: 0.9826 || Test Loss: 0.4104 | Acc: 0.9023 | Prec: 0.9864 | Recall: 0.9073 | F1: 0.9452 | ROC-AUC: 0.9113\n",
      "Max val ROC-AUC: 0.9330\n",
      "Training with d_model=64, nhead=2, num_layers=2, dropout=0.5, lr=0.01\n"
     ]
    },
    {
     "data": {
      "application/vnd.jupyter.widget-view+json": {
       "model_id": "f6df7262d9114709ae78af1e4c372df6",
       "version_major": 2,
       "version_minor": 0
      },
      "text/plain": [
       "  0%|          | 0/10 [00:00<?, ?it/s]"
      ]
     },
     "metadata": {},
     "output_type": "display_data"
    },
    {
     "name": "stdout",
     "output_type": "stream",
     "text": [
      "Epoch: 10 | Train Loss: 0.1639 | Acc: 0.9572 | Prec: 0.9699 | Recall: 0.9368 | F1: 0.9531 | ROC-AUC: 0.9813 || Test Loss: 0.2817 | Acc: 0.9070 | Prec: 0.9864 | Recall: 0.9123 | F1: 0.9479 | ROC-AUC: 0.9637\n",
      "Max val ROC-AUC: 0.9637\n",
      "Training with d_model=64, nhead=2, num_layers=2, dropout=0.5, lr=0.01\n"
     ]
    },
    {
     "data": {
      "application/vnd.jupyter.widget-view+json": {
       "model_id": "a2ecd54c7f574aa5944aba767cfa19a4",
       "version_major": 2,
       "version_minor": 0
      },
      "text/plain": [
       "  0%|          | 0/10 [00:00<?, ?it/s]"
      ]
     },
     "metadata": {},
     "output_type": "display_data"
    },
    {
     "name": "stdout",
     "output_type": "stream",
     "text": [
      "Epoch: 10 | Train Loss: 0.1241 | Acc: 0.9653 | Prec: 0.9855 | Recall: 0.9390 | F1: 0.9617 | ROC-AUC: 0.9838 || Test Loss: 0.5383 | Acc: 0.8977 | Prec: 0.9810 | Recall: 0.9073 | F1: 0.9427 | ROC-AUC: 0.9065\n",
      "Max val ROC-AUC: 0.9673\n",
      "Training with d_model=64, nhead=2, num_layers=2, dropout=0.5, lr=0.01\n"
     ]
    },
    {
     "data": {
      "application/vnd.jupyter.widget-view+json": {
       "model_id": "fcfaa626c4de4b27adf13d7b4d8770f8",
       "version_major": 2,
       "version_minor": 0
      },
      "text/plain": [
       "  0%|          | 0/10 [00:00<?, ?it/s]"
      ]
     },
     "metadata": {},
     "output_type": "display_data"
    },
    {
     "name": "stdout",
     "output_type": "stream",
     "text": [
      "Epoch: 10 | Train Loss: 0.1263 | Acc: 0.9653 | Prec: 0.9833 | Recall: 0.9412 | F1: 0.9618 | ROC-AUC: 0.9844 || Test Loss: 0.4896 | Acc: 0.8721 | Prec: 0.9831 | Recall: 0.8772 | F1: 0.9272 | ROC-AUC: 0.9226\n",
      "Max val ROC-AUC: 0.9415\n",
      "Training with d_model=64, nhead=2, num_layers=2, dropout=0.5, lr=0.01\n"
     ]
    },
    {
     "data": {
      "application/vnd.jupyter.widget-view+json": {
       "model_id": "31665ac00478412c84b4c4390615e397",
       "version_major": 2,
       "version_minor": 0
      },
      "text/plain": [
       "  0%|          | 0/10 [00:00<?, ?it/s]"
      ]
     },
     "metadata": {},
     "output_type": "display_data"
    },
    {
     "name": "stdout",
     "output_type": "stream",
     "text": [
      "Epoch: 10 | Train Loss: 0.1145 | Acc: 0.9656 | Prec: 0.9841 | Recall: 0.9412 | F1: 0.9621 | ROC-AUC: 0.9891 || Test Loss: 0.4639 | Acc: 0.8698 | Prec: 0.9831 | Recall: 0.8747 | F1: 0.9257 | ROC-AUC: 0.9196\n",
      "Max val ROC-AUC: 0.9486\n",
      "Training with d_model=64, nhead=2, num_layers=2, dropout=0.5, lr=0.01\n"
     ]
    },
    {
     "data": {
      "application/vnd.jupyter.widget-view+json": {
       "model_id": "fadb9a68f0a74ba9beb84fd4b6886242",
       "version_major": 2,
       "version_minor": 0
      },
      "text/plain": [
       "  0%|          | 0/10 [00:00<?, ?it/s]"
      ]
     },
     "metadata": {},
     "output_type": "display_data"
    },
    {
     "name": "stdout",
     "output_type": "stream",
     "text": [
      "Epoch: 10 | Train Loss: 0.1506 | Acc: 0.9559 | Prec: 0.9741 | Recall: 0.9296 | F1: 0.9513 | ROC-AUC: 0.9824 || Test Loss: 0.6201 | Acc: 0.8837 | Prec: 0.9861 | Recall: 0.8872 | F1: 0.9340 | ROC-AUC: 0.9543\n",
      "Max val ROC-AUC: 0.9543\n",
      "Training with d_model=64, nhead=2, num_layers=2, dropout=0.5, lr=0.001\n"
     ]
    },
    {
     "data": {
      "application/vnd.jupyter.widget-view+json": {
       "model_id": "9e1f4f3fc2444fd7a959ad3edea8f4c8",
       "version_major": 2,
       "version_minor": 0
      },
      "text/plain": [
       "  0%|          | 0/10 [00:00<?, ?it/s]"
      ]
     },
     "metadata": {},
     "output_type": "display_data"
    },
    {
     "name": "stdout",
     "output_type": "stream",
     "text": [
      "Epoch: 10 | Train Loss: 0.0533 | Acc: 0.9821 | Prec: 0.9882 | Recall: 0.9731 | F1: 0.9806 | ROC-AUC: 0.9976 || Test Loss: 0.5268 | Acc: 0.9140 | Prec: 0.9866 | Recall: 0.9198 | F1: 0.9520 | ROC-AUC: 0.9449\n",
      "Max val ROC-AUC: 0.9609\n",
      "Training with d_model=64, nhead=2, num_layers=2, dropout=0.5, lr=0.001\n"
     ]
    },
    {
     "data": {
      "application/vnd.jupyter.widget-view+json": {
       "model_id": "848186f38769471697a93d26a80b113c",
       "version_major": 2,
       "version_minor": 0
      },
      "text/plain": [
       "  0%|          | 0/10 [00:00<?, ?it/s]"
      ]
     },
     "metadata": {},
     "output_type": "display_data"
    },
    {
     "name": "stdout",
     "output_type": "stream",
     "text": [
      "Epoch: 10 | Train Loss: 0.0551 | Acc: 0.9842 | Prec: 0.9890 | Recall: 0.9768 | F1: 0.9828 | ROC-AUC: 0.9974 || Test Loss: 0.3759 | Acc: 0.9186 | Prec: 0.9866 | Recall: 0.9248 | F1: 0.9547 | ROC-AUC: 0.9584\n",
      "Max val ROC-AUC: 0.9584\n",
      "Training with d_model=64, nhead=2, num_layers=2, dropout=0.5, lr=0.001\n"
     ]
    },
    {
     "data": {
      "application/vnd.jupyter.widget-view+json": {
       "model_id": "e59be408bda549ed9b96053194cd1171",
       "version_major": 2,
       "version_minor": 0
      },
      "text/plain": [
       "  0%|          | 0/10 [00:00<?, ?it/s]"
      ]
     },
     "metadata": {},
     "output_type": "display_data"
    },
    {
     "name": "stdout",
     "output_type": "stream",
     "text": [
      "Epoch: 10 | Train Loss: 0.0565 | Acc: 0.9842 | Prec: 0.9897 | Recall: 0.9760 | F1: 0.9828 | ROC-AUC: 0.9967 || Test Loss: 0.4499 | Acc: 0.9140 | Prec: 0.9840 | Recall: 0.9223 | F1: 0.9521 | ROC-AUC: 0.9249\n",
      "Max val ROC-AUC: 0.9609\n",
      "Training with d_model=64, nhead=2, num_layers=2, dropout=0.5, lr=0.001\n"
     ]
    },
    {
     "data": {
      "application/vnd.jupyter.widget-view+json": {
       "model_id": "2bfa0548ad6e4dc2ab344e80202a88bd",
       "version_major": 2,
       "version_minor": 0
      },
      "text/plain": [
       "  0%|          | 0/10 [00:00<?, ?it/s]"
      ]
     },
     "metadata": {},
     "output_type": "display_data"
    },
    {
     "name": "stdout",
     "output_type": "stream",
     "text": [
      "Epoch: 10 | Train Loss: 0.0682 | Acc: 0.9808 | Prec: 0.9889 | Recall: 0.9695 | F1: 0.9791 | ROC-AUC: 0.9954 || Test Loss: 0.4079 | Acc: 0.9163 | Prec: 0.9789 | Recall: 0.9298 | F1: 0.9537 | ROC-AUC: 0.9137\n",
      "Max val ROC-AUC: 0.9484\n",
      "Training with d_model=64, nhead=2, num_layers=2, dropout=0.5, lr=0.001\n"
     ]
    },
    {
     "data": {
      "application/vnd.jupyter.widget-view+json": {
       "model_id": "bdbc469aedd849d3940d1c6ea2725ae7",
       "version_major": 2,
       "version_minor": 0
      },
      "text/plain": [
       "  0%|          | 0/10 [00:00<?, ?it/s]"
      ]
     },
     "metadata": {},
     "output_type": "display_data"
    },
    {
     "name": "stdout",
     "output_type": "stream",
     "text": [
      "Epoch: 10 | Train Loss: 0.0507 | Acc: 0.9832 | Prec: 0.9875 | Recall: 0.9760 | F1: 0.9817 | ROC-AUC: 0.9979 || Test Loss: 0.5117 | Acc: 0.9256 | Prec: 0.9766 | Recall: 0.9424 | F1: 0.9592 | ROC-AUC: 0.9371\n",
      "Max val ROC-AUC: 0.9389\n",
      "Training with d_model=64, nhead=2, num_layers=2, dropout=0.5, lr=0.001\n"
     ]
    },
    {
     "data": {
      "application/vnd.jupyter.widget-view+json": {
       "model_id": "276d1ca087ec4151831e13fda4af4889",
       "version_major": 2,
       "version_minor": 0
      },
      "text/plain": [
       "  0%|          | 0/10 [00:00<?, ?it/s]"
      ]
     },
     "metadata": {},
     "output_type": "display_data"
    },
    {
     "name": "stdout",
     "output_type": "stream",
     "text": [
      "Epoch: 10 | Train Loss: 0.0505 | Acc: 0.9801 | Prec: 0.9846 | Recall: 0.9724 | F1: 0.9784 | ROC-AUC: 0.9981 || Test Loss: 0.5942 | Acc: 0.9000 | Prec: 0.9811 | Recall: 0.9098 | F1: 0.9441 | ROC-AUC: 0.9214\n",
      "Max val ROC-AUC: 0.9521\n",
      "Training with d_model=64, nhead=2, num_layers=2, dropout=0.5, lr=0.001\n"
     ]
    },
    {
     "data": {
      "application/vnd.jupyter.widget-view+json": {
       "model_id": "5f6966d3751142bfba113dd0fd9213ef",
       "version_major": 2,
       "version_minor": 0
      },
      "text/plain": [
       "  0%|          | 0/10 [00:00<?, ?it/s]"
      ]
     },
     "metadata": {},
     "output_type": "display_data"
    },
    {
     "name": "stdout",
     "output_type": "stream",
     "text": [
      "Epoch: 10 | Train Loss: 0.0410 | Acc: 0.9882 | Prec: 0.9934 | Recall: 0.9811 | F1: 0.9872 | ROC-AUC: 0.9980 || Test Loss: 0.4639 | Acc: 0.9209 | Prec: 0.9815 | Recall: 0.9323 | F1: 0.9563 | ROC-AUC: 0.9026\n",
      "Max val ROC-AUC: 0.9477\n",
      "Training with d_model=64, nhead=2, num_layers=2, dropout=0.5, lr=0.001\n"
     ]
    },
    {
     "data": {
      "application/vnd.jupyter.widget-view+json": {
       "model_id": "6a39d2e42556429eb1a2f2926b3b5439",
       "version_major": 2,
       "version_minor": 0
      },
      "text/plain": [
       "  0%|          | 0/10 [00:00<?, ?it/s]"
      ]
     },
     "metadata": {},
     "output_type": "display_data"
    },
    {
     "name": "stdout",
     "output_type": "stream",
     "text": [
      "Epoch: 10 | Train Loss: 0.0561 | Acc: 0.9855 | Prec: 0.9883 | Recall: 0.9804 | F1: 0.9843 | ROC-AUC: 0.9961 || Test Loss: 0.4010 | Acc: 0.9256 | Prec: 0.9791 | Recall: 0.9398 | F1: 0.9591 | ROC-AUC: 0.9321\n",
      "Max val ROC-AUC: 0.9541\n",
      "Training with d_model=64, nhead=2, num_layers=2, dropout=0.5, lr=0.001\n"
     ]
    },
    {
     "data": {
      "application/vnd.jupyter.widget-view+json": {
       "model_id": "8c24bac5131d4b52a813fb78f99518a7",
       "version_major": 2,
       "version_minor": 0
      },
      "text/plain": [
       "  0%|          | 0/10 [00:00<?, ?it/s]"
      ]
     },
     "metadata": {},
     "output_type": "display_data"
    },
    {
     "name": "stdout",
     "output_type": "stream",
     "text": [
      "Epoch: 10 | Train Loss: 0.0448 | Acc: 0.9875 | Prec: 0.9919 | Recall: 0.9811 | F1: 0.9865 | ROC-AUC: 0.9976 || Test Loss: 0.4474 | Acc: 0.9349 | Prec: 0.9769 | Recall: 0.9524 | F1: 0.9645 | ROC-AUC: 0.9198\n",
      "Max val ROC-AUC: 0.9578\n",
      "Training with d_model=64, nhead=2, num_layers=2, dropout=0.5, lr=0.001\n"
     ]
    },
    {
     "data": {
      "application/vnd.jupyter.widget-view+json": {
       "model_id": "509085d18f26488ba836300e8dbf3a76",
       "version_major": 2,
       "version_minor": 0
      },
      "text/plain": [
       "  0%|          | 0/10 [00:00<?, ?it/s]"
      ]
     },
     "metadata": {},
     "output_type": "display_data"
    },
    {
     "name": "stdout",
     "output_type": "stream",
     "text": [
      "Epoch: 10 | Train Loss: 0.0565 | Acc: 0.9842 | Prec: 0.9933 | Recall: 0.9724 | F1: 0.9828 | ROC-AUC: 0.9970 || Test Loss: 0.4531 | Acc: 0.9302 | Prec: 0.9843 | Recall: 0.9398 | F1: 0.9615 | ROC-AUC: 0.9375\n",
      "Max val ROC-AUC: 0.9375\n",
      "Training with d_model=64, nhead=2, num_layers=4, dropout=0.0, lr=0.1\n"
     ]
    },
    {
     "data": {
      "application/vnd.jupyter.widget-view+json": {
       "model_id": "7af02dd8e18b482b916352576c514cf0",
       "version_major": 2,
       "version_minor": 0
      },
      "text/plain": [
       "  0%|          | 0/10 [00:00<?, ?it/s]"
      ]
     },
     "metadata": {},
     "output_type": "display_data"
    },
    {
     "name": "stdout",
     "output_type": "stream",
     "text": [
      "Epoch: 10 | Train Loss: 0.1971 | Acc: 0.9350 | Prec: 0.9625 | Recall: 0.8947 | F1: 0.9274 | ROC-AUC: 0.9730 || Test Loss: 0.5678 | Acc: 0.9488 | Prec: 0.9821 | Recall: 0.9624 | F1: 0.9722 | ROC-AUC: 0.9002\n",
      "Max val ROC-AUC: 0.9821\n",
      "Training with d_model=64, nhead=2, num_layers=4, dropout=0.0, lr=0.1\n"
     ]
    },
    {
     "data": {
      "application/vnd.jupyter.widget-view+json": {
       "model_id": "f54bdb8203bd4c789cd98e1c05a81ff5",
       "version_major": 2,
       "version_minor": 0
      },
      "text/plain": [
       "  0%|          | 0/10 [00:00<?, ?it/s]"
      ]
     },
     "metadata": {},
     "output_type": "display_data"
    },
    {
     "name": "stdout",
     "output_type": "stream",
     "text": [
      "Epoch: 10 | Train Loss: 0.1815 | Acc: 0.9481 | Prec: 0.9781 | Recall: 0.9085 | F1: 0.9420 | ROC-AUC: 0.9624 || Test Loss: 0.5640 | Acc: 0.7930 | Prec: 0.9936 | Recall: 0.7820 | F1: 0.8752 | ROC-AUC: 0.8833\n",
      "Max val ROC-AUC: 0.9522\n",
      "Training with d_model=64, nhead=2, num_layers=4, dropout=0.0, lr=0.1\n"
     ]
    },
    {
     "data": {
      "application/vnd.jupyter.widget-view+json": {
       "model_id": "22c316c5b99049a2bc5d5a39b4c96c1e",
       "version_major": 2,
       "version_minor": 0
      },
      "text/plain": [
       "  0%|          | 0/10 [00:00<?, ?it/s]"
      ]
     },
     "metadata": {},
     "output_type": "display_data"
    },
    {
     "name": "stdout",
     "output_type": "stream",
     "text": [
      "Epoch: 10 | Train Loss: 0.2648 | Acc: 0.9128 | Prec: 0.9313 | Recall: 0.8765 | F1: 0.9031 | ROC-AUC: 0.9592 || Test Loss: 0.2867 | Acc: 0.9279 | Prec: 0.9444 | Recall: 0.9799 | F1: 0.9619 | ROC-AUC: 0.9294\n",
      "Max val ROC-AUC: 0.9570\n",
      "Training with d_model=64, nhead=2, num_layers=4, dropout=0.0, lr=0.1\n"
     ]
    },
    {
     "data": {
      "application/vnd.jupyter.widget-view+json": {
       "model_id": "33587c4b4d52401eb2ba968d42b90f9e",
       "version_major": 2,
       "version_minor": 0
      },
      "text/plain": [
       "  0%|          | 0/10 [00:00<?, ?it/s]"
      ]
     },
     "metadata": {},
     "output_type": "display_data"
    },
    {
     "name": "stdout",
     "output_type": "stream",
     "text": [
      "Epoch: 10 | Train Loss: 0.1620 | Acc: 0.9444 | Prec: 0.9543 | Recall: 0.9245 | F1: 0.9391 | ROC-AUC: 0.9755 || Test Loss: 0.2935 | Acc: 0.8953 | Prec: 0.9836 | Recall: 0.9023 | F1: 0.9412 | ROC-AUC: 0.8966\n",
      "Max val ROC-AUC: 0.9460\n",
      "Training with d_model=64, nhead=2, num_layers=4, dropout=0.0, lr=0.1\n"
     ]
    },
    {
     "data": {
      "application/vnd.jupyter.widget-view+json": {
       "model_id": "1b533ed34a8f45c08ab0dd1bee1c98eb",
       "version_major": 2,
       "version_minor": 0
      },
      "text/plain": [
       "  0%|          | 0/10 [00:00<?, ?it/s]"
      ]
     },
     "metadata": {},
     "output_type": "display_data"
    },
    {
     "name": "stdout",
     "output_type": "stream",
     "text": [
      "Epoch: 10 | Train Loss: 0.1129 | Acc: 0.9619 | Prec: 0.9661 | Recall: 0.9513 | F1: 0.9587 | ROC-AUC: 0.9904 || Test Loss: 0.2891 | Acc: 0.9000 | Prec: 0.9944 | Recall: 0.8972 | F1: 0.9433 | ROC-AUC: 0.9542\n",
      "Max val ROC-AUC: 0.9705\n",
      "Training with d_model=64, nhead=2, num_layers=4, dropout=0.0, lr=0.1\n"
     ]
    },
    {
     "data": {
      "application/vnd.jupyter.widget-view+json": {
       "model_id": "3833dd40a84e4e9a868f35a1c811c124",
       "version_major": 2,
       "version_minor": 0
      },
      "text/plain": [
       "  0%|          | 0/10 [00:00<?, ?it/s]"
      ]
     },
     "metadata": {},
     "output_type": "display_data"
    },
    {
     "name": "stdout",
     "output_type": "stream",
     "text": [
      "Epoch: 10 | Train Loss: 0.6938 | Acc: 0.5268 | Prec: 0.4635 | Recall: 0.1293 | F1: 0.2022 | ROC-AUC: 0.4908 || Test Loss: 0.8544 | Acc: 0.0721 | Prec: 0.0000 | Recall: 0.0000 | F1: 0.0000 | ROC-AUC: 0.5000\n",
      "Max val ROC-AUC: 0.9486\n",
      "Training with d_model=64, nhead=2, num_layers=4, dropout=0.0, lr=0.1\n"
     ]
    },
    {
     "data": {
      "application/vnd.jupyter.widget-view+json": {
       "model_id": "18cbbc7ddc3a4909bb04dbbb132a9b1a",
       "version_major": 2,
       "version_minor": 0
      },
      "text/plain": [
       "  0%|          | 0/10 [00:00<?, ?it/s]"
      ]
     },
     "metadata": {},
     "output_type": "display_data"
    },
    {
     "name": "stdout",
     "output_type": "stream",
     "text": [
      "Epoch: 10 | Train Loss: 0.1396 | Acc: 0.9522 | Prec: 0.9632 | Recall: 0.9325 | F1: 0.9476 | ROC-AUC: 0.9868 || Test Loss: 0.8928 | Acc: 0.6721 | Prec: 1.0000 | Recall: 0.6466 | F1: 0.7854 | ROC-AUC: 0.9673\n",
      "Max val ROC-AUC: 0.9673\n",
      "Training with d_model=64, nhead=2, num_layers=4, dropout=0.0, lr=0.1\n"
     ]
    },
    {
     "data": {
      "application/vnd.jupyter.widget-view+json": {
       "model_id": "a9e426f360854994b1004ec06e29de20",
       "version_major": 2,
       "version_minor": 0
      },
      "text/plain": [
       "  0%|          | 0/10 [00:00<?, ?it/s]"
      ]
     },
     "metadata": {},
     "output_type": "display_data"
    },
    {
     "name": "stdout",
     "output_type": "stream",
     "text": [
      "Epoch: 10 | Train Loss: 0.1495 | Acc: 0.9532 | Prec: 0.9592 | Recall: 0.9390 | F1: 0.9490 | ROC-AUC: 0.9810 || Test Loss: 1.4528 | Acc: 0.0721 | Prec: 0.0000 | Recall: 0.0000 | F1: 0.0000 | ROC-AUC: 0.9497\n",
      "Max val ROC-AUC: 0.9623\n",
      "Training with d_model=64, nhead=2, num_layers=4, dropout=0.0, lr=0.1\n"
     ]
    },
    {
     "data": {
      "application/vnd.jupyter.widget-view+json": {
       "model_id": "cb4c57ea0dd443cbb3715333fe95c2dc",
       "version_major": 2,
       "version_minor": 0
      },
      "text/plain": [
       "  0%|          | 0/10 [00:00<?, ?it/s]"
      ]
     },
     "metadata": {},
     "output_type": "display_data"
    },
    {
     "name": "stdout",
     "output_type": "stream",
     "text": [
      "Epoch: 10 | Train Loss: 0.4340 | Acc: 0.8424 | Prec: 0.9759 | Recall: 0.6768 | F1: 0.7993 | ROC-AUC: 0.8551 || Test Loss: 0.5266 | Acc: 0.7930 | Prec: 0.9905 | Recall: 0.7845 | F1: 0.8755 | ROC-AUC: 0.8776\n",
      "Max val ROC-AUC: 0.9386\n",
      "Training with d_model=64, nhead=2, num_layers=4, dropout=0.0, lr=0.1\n"
     ]
    },
    {
     "data": {
      "application/vnd.jupyter.widget-view+json": {
       "model_id": "e1ea607108c04ab1a392f5048b0b2878",
       "version_major": 2,
       "version_minor": 0
      },
      "text/plain": [
       "  0%|          | 0/10 [00:00<?, ?it/s]"
      ]
     },
     "metadata": {},
     "output_type": "display_data"
    },
    {
     "name": "stdout",
     "output_type": "stream",
     "text": [
      "Epoch: 10 | Train Loss: 0.2565 | Acc: 0.9286 | Prec: 0.9605 | Recall: 0.8824 | F1: 0.9198 | ROC-AUC: 0.9457 || Test Loss: 0.2661 | Acc: 0.9233 | Prec: 0.9766 | Recall: 0.9398 | F1: 0.9579 | ROC-AUC: 0.8719\n",
      "Max val ROC-AUC: 0.9559\n",
      "Training with d_model=64, nhead=2, num_layers=4, dropout=0.0, lr=0.01\n"
     ]
    },
    {
     "data": {
      "application/vnd.jupyter.widget-view+json": {
       "model_id": "750105f90b6e47cda0c3020d345b864b",
       "version_major": 2,
       "version_minor": 0
      },
      "text/plain": [
       "  0%|          | 0/10 [00:00<?, ?it/s]"
      ]
     },
     "metadata": {},
     "output_type": "display_data"
    },
    {
     "name": "stdout",
     "output_type": "stream",
     "text": [
      "Epoch: 10 | Train Loss: 0.0481 | Acc: 0.9832 | Prec: 0.9804 | Recall: 0.9833 | F1: 0.9819 | ROC-AUC: 0.9981 || Test Loss: 0.3212 | Acc: 0.9256 | Prec: 0.9791 | Recall: 0.9398 | F1: 0.9591 | ROC-AUC: 0.9375\n",
      "Max val ROC-AUC: 0.9439\n",
      "Training with d_model=64, nhead=2, num_layers=4, dropout=0.0, lr=0.01\n"
     ]
    },
    {
     "data": {
      "application/vnd.jupyter.widget-view+json": {
       "model_id": "f25961eda0684c92bdd524cbff8be526",
       "version_major": 2,
       "version_minor": 0
      },
      "text/plain": [
       "  0%|          | 0/10 [00:00<?, ?it/s]"
      ]
     },
     "metadata": {},
     "output_type": "display_data"
    },
    {
     "name": "stdout",
     "output_type": "stream",
     "text": [
      "Epoch: 10 | Train Loss: 0.0660 | Acc: 0.9778 | Prec: 0.9859 | Recall: 0.9659 | F1: 0.9758 | ROC-AUC: 0.9958 || Test Loss: 0.2892 | Acc: 0.9140 | Prec: 0.9814 | Recall: 0.9248 | F1: 0.9523 | ROC-AUC: 0.9285\n",
      "Max val ROC-AUC: 0.9493\n",
      "Training with d_model=64, nhead=2, num_layers=4, dropout=0.0, lr=0.01\n"
     ]
    },
    {
     "data": {
      "application/vnd.jupyter.widget-view+json": {
       "model_id": "ba7d184975c247d1829eb5b8b279eb45",
       "version_major": 2,
       "version_minor": 0
      },
      "text/plain": [
       "  0%|          | 0/10 [00:00<?, ?it/s]"
      ]
     },
     "metadata": {},
     "output_type": "display_data"
    },
    {
     "name": "stdout",
     "output_type": "stream",
     "text": [
      "Epoch: 10 | Train Loss: 0.0651 | Acc: 0.9805 | Prec: 0.9824 | Recall: 0.9753 | F1: 0.9789 | ROC-AUC: 0.9949 || Test Loss: 0.2832 | Acc: 0.9163 | Prec: 0.9892 | Recall: 0.9198 | F1: 0.9532 | ROC-AUC: 0.9521\n",
      "Max val ROC-AUC: 0.9580\n",
      "Training with d_model=64, nhead=2, num_layers=4, dropout=0.0, lr=0.01\n"
     ]
    },
    {
     "data": {
      "application/vnd.jupyter.widget-view+json": {
       "model_id": "8a65e8ae54824bd180451a765d67bb4b",
       "version_major": 2,
       "version_minor": 0
      },
      "text/plain": [
       "  0%|          | 0/10 [00:00<?, ?it/s]"
      ]
     },
     "metadata": {},
     "output_type": "display_data"
    },
    {
     "name": "stdout",
     "output_type": "stream",
     "text": [
      "Epoch: 10 | Train Loss: 0.0614 | Acc: 0.9821 | Prec: 0.9860 | Recall: 0.9753 | F1: 0.9806 | ROC-AUC: 0.9962 || Test Loss: 0.2532 | Acc: 0.9140 | Prec: 0.9892 | Recall: 0.9173 | F1: 0.9519 | ROC-AUC: 0.9686\n",
      "Max val ROC-AUC: 0.9686\n",
      "Training with d_model=64, nhead=2, num_layers=4, dropout=0.0, lr=0.01\n"
     ]
    },
    {
     "data": {
      "application/vnd.jupyter.widget-view+json": {
       "model_id": "a9343351450a4d9d9de687db61cb4950",
       "version_major": 2,
       "version_minor": 0
      },
      "text/plain": [
       "  0%|          | 0/10 [00:00<?, ?it/s]"
      ]
     },
     "metadata": {},
     "output_type": "display_data"
    },
    {
     "name": "stdout",
     "output_type": "stream",
     "text": [
      "Epoch: 10 | Train Loss: 0.0453 | Acc: 0.9879 | Prec: 0.9898 | Recall: 0.9840 | F1: 0.9869 | ROC-AUC: 0.9979 || Test Loss: 0.4755 | Acc: 0.8651 | Prec: 0.9885 | Recall: 0.8647 | F1: 0.9225 | ROC-AUC: 0.9468\n",
      "Max val ROC-AUC: 0.9601\n",
      "Training with d_model=64, nhead=2, num_layers=4, dropout=0.0, lr=0.01\n"
     ]
    },
    {
     "data": {
      "application/vnd.jupyter.widget-view+json": {
       "model_id": "0684563b32e74f469968cbdf15762e82",
       "version_major": 2,
       "version_minor": 0
      },
      "text/plain": [
       "  0%|          | 0/10 [00:00<?, ?it/s]"
      ]
     },
     "metadata": {},
     "output_type": "display_data"
    },
    {
     "name": "stdout",
     "output_type": "stream",
     "text": [
      "Epoch: 10 | Train Loss: 0.0406 | Acc: 0.9872 | Prec: 0.9862 | Recall: 0.9862 | F1: 0.9862 | ROC-AUC: 0.9985 || Test Loss: 0.2319 | Acc: 0.9419 | Prec: 0.9895 | Recall: 0.9474 | F1: 0.9680 | ROC-AUC: 0.9636\n",
      "Max val ROC-AUC: 0.9731\n",
      "Training with d_model=64, nhead=2, num_layers=4, dropout=0.0, lr=0.01\n"
     ]
    },
    {
     "data": {
      "application/vnd.jupyter.widget-view+json": {
       "model_id": "80473db3d67f47678e45f7e2670c1605",
       "version_major": 2,
       "version_minor": 0
      },
      "text/plain": [
       "  0%|          | 0/10 [00:00<?, ?it/s]"
      ]
     },
     "metadata": {},
     "output_type": "display_data"
    },
    {
     "name": "stdout",
     "output_type": "stream",
     "text": [
      "Epoch: 10 | Train Loss: 0.0426 | Acc: 0.9869 | Prec: 0.9876 | Recall: 0.9840 | F1: 0.9858 | ROC-AUC: 0.9984 || Test Loss: 0.2637 | Acc: 0.9326 | Prec: 0.9744 | Recall: 0.9524 | F1: 0.9632 | ROC-AUC: 0.9576\n",
      "Max val ROC-AUC: 0.9576\n",
      "Training with d_model=64, nhead=2, num_layers=4, dropout=0.0, lr=0.01\n"
     ]
    },
    {
     "data": {
      "application/vnd.jupyter.widget-view+json": {
       "model_id": "5e356a1916874171bb1065276f6eb26c",
       "version_major": 2,
       "version_minor": 0
      },
      "text/plain": [
       "  0%|          | 0/10 [00:00<?, ?it/s]"
      ]
     },
     "metadata": {},
     "output_type": "display_data"
    },
    {
     "name": "stdout",
     "output_type": "stream",
     "text": [
      "Epoch: 10 | Train Loss: 0.0512 | Acc: 0.9842 | Prec: 0.9840 | Recall: 0.9818 | F1: 0.9829 | ROC-AUC: 0.9976 || Test Loss: 0.1762 | Acc: 0.9512 | Prec: 0.9922 | Recall: 0.9549 | F1: 0.9732 | ROC-AUC: 0.9779\n",
      "Max val ROC-AUC: 0.9779\n",
      "Training with d_model=64, nhead=2, num_layers=4, dropout=0.0, lr=0.01\n"
     ]
    },
    {
     "data": {
      "application/vnd.jupyter.widget-view+json": {
       "model_id": "88cf4080e5c743508fcf59d2c3c5afa5",
       "version_major": 2,
       "version_minor": 0
      },
      "text/plain": [
       "  0%|          | 0/10 [00:00<?, ?it/s]"
      ]
     },
     "metadata": {},
     "output_type": "display_data"
    },
    {
     "name": "stdout",
     "output_type": "stream",
     "text": [
      "Epoch: 10 | Train Loss: 0.0504 | Acc: 0.9865 | Prec: 0.9883 | Recall: 0.9826 | F1: 0.9854 | ROC-AUC: 0.9973 || Test Loss: 0.2655 | Acc: 0.9372 | Prec: 0.9769 | Recall: 0.9549 | F1: 0.9658 | ROC-AUC: 0.9386\n",
      "Max val ROC-AUC: 0.9481\n",
      "Training with d_model=64, nhead=2, num_layers=4, dropout=0.0, lr=0.01\n"
     ]
    },
    {
     "data": {
      "application/vnd.jupyter.widget-view+json": {
       "model_id": "2fc0bb469e434047a21e830066358bfa",
       "version_major": 2,
       "version_minor": 0
      },
      "text/plain": [
       "  0%|          | 0/10 [00:00<?, ?it/s]"
      ]
     },
     "metadata": {},
     "output_type": "display_data"
    },
    {
     "name": "stdout",
     "output_type": "stream",
     "text": [
      "Epoch: 10 | Train Loss: 0.0528 | Acc: 0.9865 | Prec: 0.9890 | Recall: 0.9818 | F1: 0.9854 | ROC-AUC: 0.9968 || Test Loss: 0.3166 | Acc: 0.9419 | Prec: 0.9820 | Recall: 0.9549 | F1: 0.9682 | ROC-AUC: 0.9605\n",
      "Max val ROC-AUC: 0.9694\n",
      "Training with d_model=64, nhead=2, num_layers=4, dropout=0.0, lr=0.001\n"
     ]
    },
    {
     "data": {
      "application/vnd.jupyter.widget-view+json": {
       "model_id": "038f352431f642959b5983f90bc42c90",
       "version_major": 2,
       "version_minor": 0
      },
      "text/plain": [
       "  0%|          | 0/10 [00:00<?, ?it/s]"
      ]
     },
     "metadata": {},
     "output_type": "display_data"
    },
    {
     "name": "stdout",
     "output_type": "stream",
     "text": [
      "Epoch: 10 | Train Loss: 0.0211 | Acc: 0.9966 | Prec: 0.9964 | Recall: 0.9964 | F1: 0.9964 | ROC-AUC: 0.9991 || Test Loss: 0.4057 | Acc: 0.9256 | Prec: 0.9816 | Recall: 0.9373 | F1: 0.9590 | ROC-AUC: 0.9354\n",
      "Max val ROC-AUC: 0.9443\n",
      "Training with d_model=64, nhead=2, num_layers=4, dropout=0.0, lr=0.001\n"
     ]
    },
    {
     "data": {
      "application/vnd.jupyter.widget-view+json": {
       "model_id": "5f96a9cd87384fb8b1ebbce0135ac771",
       "version_major": 2,
       "version_minor": 0
      },
      "text/plain": [
       "  0%|          | 0/10 [00:00<?, ?it/s]"
      ]
     },
     "metadata": {},
     "output_type": "display_data"
    },
    {
     "name": "stdout",
     "output_type": "stream",
     "text": [
      "Epoch: 10 | Train Loss: 0.0205 | Acc: 0.9936 | Prec: 0.9942 | Recall: 0.9920 | F1: 0.9931 | ROC-AUC: 0.9995 || Test Loss: 0.3147 | Acc: 0.9395 | Prec: 0.9722 | Recall: 0.9624 | F1: 0.9673 | ROC-AUC: 0.9307\n",
      "Max val ROC-AUC: 0.9563\n",
      "Training with d_model=64, nhead=2, num_layers=4, dropout=0.0, lr=0.001\n"
     ]
    },
    {
     "data": {
      "application/vnd.jupyter.widget-view+json": {
       "model_id": "fce167f3e06a479d84b6fe3586ae17b8",
       "version_major": 2,
       "version_minor": 0
      },
      "text/plain": [
       "  0%|          | 0/10 [00:00<?, ?it/s]"
      ]
     },
     "metadata": {},
     "output_type": "display_data"
    },
    {
     "name": "stdout",
     "output_type": "stream",
     "text": [
      "Epoch: 10 | Train Loss: 0.0638 | Acc: 0.9828 | Prec: 0.9749 | Recall: 0.9884 | F1: 0.9816 | ROC-AUC: 0.9961 || Test Loss: 0.5028 | Acc: 0.8628 | Prec: 0.9802 | Recall: 0.8697 | F1: 0.9216 | ROC-AUC: 0.8909\n",
      "Max val ROC-AUC: 0.9572\n",
      "Training with d_model=64, nhead=2, num_layers=4, dropout=0.0, lr=0.001\n"
     ]
    },
    {
     "data": {
      "application/vnd.jupyter.widget-view+json": {
       "model_id": "7ac97b440701430d86a18d37ed14ae1f",
       "version_major": 2,
       "version_minor": 0
      },
      "text/plain": [
       "  0%|          | 0/10 [00:00<?, ?it/s]"
      ]
     },
     "metadata": {},
     "output_type": "display_data"
    },
    {
     "name": "stdout",
     "output_type": "stream",
     "text": [
      "Epoch: 10 | Train Loss: 0.0422 | Acc: 0.9879 | Prec: 0.9891 | Recall: 0.9847 | F1: 0.9869 | ROC-AUC: 0.9982 || Test Loss: 0.3585 | Acc: 0.9116 | Prec: 0.9892 | Recall: 0.9148 | F1: 0.9505 | ROC-AUC: 0.9333\n",
      "Max val ROC-AUC: 0.9591\n",
      "Training with d_model=64, nhead=2, num_layers=4, dropout=0.0, lr=0.001\n"
     ]
    },
    {
     "data": {
      "application/vnd.jupyter.widget-view+json": {
       "model_id": "658fa0d3493d48e7bcf77d3f5d25bb40",
       "version_major": 2,
       "version_minor": 0
      },
      "text/plain": [
       "  0%|          | 0/10 [00:00<?, ?it/s]"
      ]
     },
     "metadata": {},
     "output_type": "display_data"
    },
    {
     "name": "stdout",
     "output_type": "stream",
     "text": [
      "Epoch: 10 | Train Loss: 0.0135 | Acc: 0.9960 | Prec: 0.9964 | Recall: 0.9949 | F1: 0.9956 | ROC-AUC: 0.9998 || Test Loss: 0.3623 | Acc: 0.9326 | Prec: 0.9818 | Recall: 0.9449 | F1: 0.9630 | ROC-AUC: 0.9223\n",
      "Max val ROC-AUC: 0.9599\n",
      "Training with d_model=64, nhead=2, num_layers=4, dropout=0.0, lr=0.001\n"
     ]
    },
    {
     "data": {
      "application/vnd.jupyter.widget-view+json": {
       "model_id": "c4113ecd6b6b43769669a48097d22d6b",
       "version_major": 2,
       "version_minor": 0
      },
      "text/plain": [
       "  0%|          | 0/10 [00:00<?, ?it/s]"
      ]
     },
     "metadata": {},
     "output_type": "display_data"
    },
    {
     "name": "stdout",
     "output_type": "stream",
     "text": [
      "Epoch: 10 | Train Loss: 0.0225 | Acc: 0.9939 | Prec: 0.9913 | Recall: 0.9956 | F1: 0.9935 | ROC-AUC: 0.9992 || Test Loss: 0.4496 | Acc: 0.9070 | Prec: 0.9812 | Recall: 0.9173 | F1: 0.9482 | ROC-AUC: 0.9533\n",
      "Max val ROC-AUC: 0.9661\n",
      "Training with d_model=64, nhead=2, num_layers=4, dropout=0.0, lr=0.001\n"
     ]
    },
    {
     "data": {
      "application/vnd.jupyter.widget-view+json": {
       "model_id": "fcac1ac26c084c42856ed0576a574ff6",
       "version_major": 2,
       "version_minor": 0
      },
      "text/plain": [
       "  0%|          | 0/10 [00:00<?, ?it/s]"
      ]
     },
     "metadata": {},
     "output_type": "display_data"
    },
    {
     "name": "stdout",
     "output_type": "stream",
     "text": [
      "Epoch: 10 | Train Loss: 0.0149 | Acc: 0.9946 | Prec: 0.9942 | Recall: 0.9942 | F1: 0.9942 | ROC-AUC: 0.9997 || Test Loss: 0.5797 | Acc: 0.8930 | Prec: 0.9809 | Recall: 0.9023 | F1: 0.9399 | ROC-AUC: 0.9217\n",
      "Max val ROC-AUC: 0.9527\n",
      "Training with d_model=64, nhead=2, num_layers=4, dropout=0.0, lr=0.001\n"
     ]
    },
    {
     "data": {
      "application/vnd.jupyter.widget-view+json": {
       "model_id": "09a27a72222a4d869ad70d6b3def240e",
       "version_major": 2,
       "version_minor": 0
      },
      "text/plain": [
       "  0%|          | 0/10 [00:00<?, ?it/s]"
      ]
     },
     "metadata": {},
     "output_type": "display_data"
    },
    {
     "name": "stdout",
     "output_type": "stream",
     "text": [
      "Epoch: 10 | Train Loss: 0.0276 | Acc: 0.9923 | Prec: 0.9927 | Recall: 0.9906 | F1: 0.9916 | ROC-AUC: 0.9988 || Test Loss: 0.3527 | Acc: 0.9209 | Prec: 0.9815 | Recall: 0.9323 | F1: 0.9563 | ROC-AUC: 0.9409\n",
      "Max val ROC-AUC: 0.9587\n",
      "Training with d_model=64, nhead=2, num_layers=4, dropout=0.0, lr=0.001\n"
     ]
    },
    {
     "data": {
      "application/vnd.jupyter.widget-view+json": {
       "model_id": "068172cfc4d24efe891a053954c1b6d8",
       "version_major": 2,
       "version_minor": 0
      },
      "text/plain": [
       "  0%|          | 0/10 [00:00<?, ?it/s]"
      ]
     },
     "metadata": {},
     "output_type": "display_data"
    },
    {
     "name": "stdout",
     "output_type": "stream",
     "text": [
      "Epoch: 10 | Train Loss: 0.0289 | Acc: 0.9916 | Prec: 0.9913 | Recall: 0.9906 | F1: 0.9909 | ROC-AUC: 0.9994 || Test Loss: 0.5522 | Acc: 0.9023 | Prec: 0.9811 | Recall: 0.9123 | F1: 0.9455 | ROC-AUC: 0.9383\n",
      "Max val ROC-AUC: 0.9552\n",
      "Training with d_model=64, nhead=2, num_layers=4, dropout=0.0, lr=0.001\n"
     ]
    },
    {
     "data": {
      "application/vnd.jupyter.widget-view+json": {
       "model_id": "26529f80589f46a09b8664295afd6767",
       "version_major": 2,
       "version_minor": 0
      },
      "text/plain": [
       "  0%|          | 0/10 [00:00<?, ?it/s]"
      ]
     },
     "metadata": {},
     "output_type": "display_data"
    },
    {
     "name": "stdout",
     "output_type": "stream",
     "text": [
      "Epoch: 10 | Train Loss: 0.0134 | Acc: 0.9973 | Prec: 0.9971 | Recall: 0.9971 | F1: 0.9971 | ROC-AUC: 0.9996 || Test Loss: 0.4025 | Acc: 0.9279 | Prec: 0.9842 | Recall: 0.9373 | F1: 0.9602 | ROC-AUC: 0.9360\n",
      "Max val ROC-AUC: 0.9618\n",
      "Training with d_model=64, nhead=2, num_layers=4, dropout=0.1, lr=0.1\n"
     ]
    },
    {
     "data": {
      "application/vnd.jupyter.widget-view+json": {
       "model_id": "8fbc7412f21b497fb629c9cd85589485",
       "version_major": 2,
       "version_minor": 0
      },
      "text/plain": [
       "  0%|          | 0/10 [00:00<?, ?it/s]"
      ]
     },
     "metadata": {},
     "output_type": "display_data"
    },
    {
     "name": "stdout",
     "output_type": "stream",
     "text": [
      "Epoch: 10 | Train Loss: 0.2293 | Acc: 0.9340 | Prec: 0.9631 | Recall: 0.8918 | F1: 0.9261 | ROC-AUC: 0.9648 || Test Loss: 0.4298 | Acc: 0.8209 | Prec: 0.9909 | Recall: 0.8145 | F1: 0.8941 | ROC-AUC: 0.9066\n",
      "Max val ROC-AUC: 0.9460\n",
      "Training with d_model=64, nhead=2, num_layers=4, dropout=0.1, lr=0.1\n"
     ]
    },
    {
     "data": {
      "application/vnd.jupyter.widget-view+json": {
       "model_id": "ed31691015754651b7dfb79be5fc1eab",
       "version_major": 2,
       "version_minor": 0
      },
      "text/plain": [
       "  0%|          | 0/10 [00:00<?, ?it/s]"
      ]
     },
     "metadata": {},
     "output_type": "display_data"
    },
    {
     "name": "stdout",
     "output_type": "stream",
     "text": [
      "Epoch: 10 | Train Loss: 0.2373 | Acc: 0.9259 | Prec: 0.9753 | Recall: 0.8620 | F1: 0.9152 | ROC-AUC: 0.9465 || Test Loss: 0.5209 | Acc: 0.8163 | Prec: 0.9908 | Recall: 0.8095 | F1: 0.8910 | ROC-AUC: 0.8763\n",
      "Max val ROC-AUC: 0.9068\n",
      "Training with d_model=64, nhead=2, num_layers=4, dropout=0.1, lr=0.1\n"
     ]
    },
    {
     "data": {
      "application/vnd.jupyter.widget-view+json": {
       "model_id": "d4edeb72aa534b96a587c8dd867452cb",
       "version_major": 2,
       "version_minor": 0
      },
      "text/plain": [
       "  0%|          | 0/10 [00:00<?, ?it/s]"
      ]
     },
     "metadata": {},
     "output_type": "display_data"
    },
    {
     "name": "stdout",
     "output_type": "stream",
     "text": [
      "Epoch: 10 | Train Loss: 0.3504 | Acc: 0.8747 | Prec: 0.9491 | Recall: 0.7712 | F1: 0.8510 | ROC-AUC: 0.9121 || Test Loss: 0.4995 | Acc: 0.7023 | Prec: 0.9927 | Recall: 0.6842 | F1: 0.8101 | ROC-AUC: 0.8388\n",
      "Max val ROC-AUC: 0.9416\n",
      "Training with d_model=64, nhead=2, num_layers=4, dropout=0.1, lr=0.1\n"
     ]
    },
    {
     "data": {
      "application/vnd.jupyter.widget-view+json": {
       "model_id": "d339e634484b42ffac60abf0ddd7afcb",
       "version_major": 2,
       "version_minor": 0
      },
      "text/plain": [
       "  0%|          | 0/10 [00:00<?, ?it/s]"
      ]
     },
     "metadata": {},
     "output_type": "display_data"
    },
    {
     "name": "stdout",
     "output_type": "stream",
     "text": [
      "Epoch: 10 | Train Loss: 0.4048 | Acc: 0.8602 | Prec: 0.8099 | Recall: 0.9129 | F1: 0.8583 | ROC-AUC: 0.9095 || Test Loss: 0.6704 | Acc: 0.9279 | Prec: 0.9842 | Recall: 0.9373 | F1: 0.9602 | ROC-AUC: 0.8799\n",
      "Max val ROC-AUC: 0.9586\n",
      "Training with d_model=64, nhead=2, num_layers=4, dropout=0.1, lr=0.1\n"
     ]
    },
    {
     "data": {
      "application/vnd.jupyter.widget-view+json": {
       "model_id": "07b36418bdb544bd93c8d760ed9f4770",
       "version_major": 2,
       "version_minor": 0
      },
      "text/plain": [
       "  0%|          | 0/10 [00:00<?, ?it/s]"
      ]
     },
     "metadata": {},
     "output_type": "display_data"
    },
    {
     "name": "stdout",
     "output_type": "stream",
     "text": [
      "Epoch: 10 | Train Loss: 0.2619 | Acc: 0.9017 | Prec: 0.9400 | Recall: 0.8417 | F1: 0.8881 | ROC-AUC: 0.9557 || Test Loss: 0.4021 | Acc: 0.8000 | Prec: 0.9937 | Recall: 0.7895 | F1: 0.8799 | ROC-AUC: 0.9163\n",
      "Max val ROC-AUC: 0.9472\n",
      "Training with d_model=64, nhead=2, num_layers=4, dropout=0.1, lr=0.1\n"
     ]
    },
    {
     "data": {
      "application/vnd.jupyter.widget-view+json": {
       "model_id": "2c9a4fd856da4191879f39249309df1d",
       "version_major": 2,
       "version_minor": 0
      },
      "text/plain": [
       "  0%|          | 0/10 [00:00<?, ?it/s]"
      ]
     },
     "metadata": {},
     "output_type": "display_data"
    },
    {
     "name": "stdout",
     "output_type": "stream",
     "text": [
      "Epoch: 10 | Train Loss: 0.2530 | Acc: 0.9087 | Prec: 0.8777 | Recall: 0.9332 | F1: 0.9046 | ROC-AUC: 0.9650 || Test Loss: 0.2699 | Acc: 0.9326 | Prec: 0.9768 | Recall: 0.9499 | F1: 0.9632 | ROC-AUC: 0.9275\n",
      "Max val ROC-AUC: 0.9550\n",
      "Training with d_model=64, nhead=2, num_layers=4, dropout=0.1, lr=0.1\n"
     ]
    },
    {
     "data": {
      "application/vnd.jupyter.widget-view+json": {
       "model_id": "362a26ed02534e989852f6ae7f4ebf15",
       "version_major": 2,
       "version_minor": 0
      },
      "text/plain": [
       "  0%|          | 0/10 [00:00<?, ?it/s]"
      ]
     },
     "metadata": {},
     "output_type": "display_data"
    },
    {
     "name": "stdout",
     "output_type": "stream",
     "text": [
      "Epoch: 10 | Train Loss: 0.6958 | Acc: 0.5069 | Prec: 0.4383 | Recall: 0.2244 | F1: 0.2968 | ROC-AUC: 0.4982 || Test Loss: 0.7983 | Acc: 0.0721 | Prec: 0.0000 | Recall: 0.0000 | F1: 0.0000 | ROC-AUC: 0.5000\n",
      "Max val ROC-AUC: 0.5000\n",
      "Training with d_model=64, nhead=2, num_layers=4, dropout=0.1, lr=0.1\n"
     ]
    },
    {
     "data": {
      "application/vnd.jupyter.widget-view+json": {
       "model_id": "5223c5aac9934d7fa359bee52643b28e",
       "version_major": 2,
       "version_minor": 0
      },
      "text/plain": [
       "  0%|          | 0/10 [00:00<?, ?it/s]"
      ]
     },
     "metadata": {},
     "output_type": "display_data"
    },
    {
     "name": "stdout",
     "output_type": "stream",
     "text": [
      "Epoch: 10 | Train Loss: 0.2525 | Acc: 0.9128 | Prec: 0.9530 | Recall: 0.8540 | F1: 0.9008 | ROC-AUC: 0.9476 || Test Loss: 0.5329 | Acc: 0.7372 | Prec: 0.9965 | Recall: 0.7193 | F1: 0.8355 | ROC-AUC: 0.8448\n",
      "Max val ROC-AUC: 0.9357\n",
      "Training with d_model=64, nhead=2, num_layers=4, dropout=0.1, lr=0.1\n"
     ]
    },
    {
     "data": {
      "application/vnd.jupyter.widget-view+json": {
       "model_id": "26141548f453433caa5938f78dbf91e9",
       "version_major": 2,
       "version_minor": 0
      },
      "text/plain": [
       "  0%|          | 0/10 [00:00<?, ?it/s]"
      ]
     },
     "metadata": {},
     "output_type": "display_data"
    },
    {
     "name": "stdout",
     "output_type": "stream",
     "text": [
      "Epoch: 10 | Train Loss: 0.2278 | Acc: 0.9272 | Prec: 0.9510 | Recall: 0.8889 | F1: 0.9189 | ROC-AUC: 0.9656 || Test Loss: 0.4117 | Acc: 0.7744 | Prec: 0.9903 | Recall: 0.7644 | F1: 0.8628 | ROC-AUC: 0.9213\n",
      "Max val ROC-AUC: 0.9424\n",
      "Training with d_model=64, nhead=2, num_layers=4, dropout=0.1, lr=0.1\n"
     ]
    },
    {
     "data": {
      "application/vnd.jupyter.widget-view+json": {
       "model_id": "429c22b31fc44463af79d1a5e98d474f",
       "version_major": 2,
       "version_minor": 0
      },
      "text/plain": [
       "  0%|          | 0/10 [00:00<?, ?it/s]"
      ]
     },
     "metadata": {},
     "output_type": "display_data"
    },
    {
     "name": "stdout",
     "output_type": "stream",
     "text": [
      "Epoch: 10 | Train Loss: 0.2770 | Acc: 0.9107 | Prec: 0.9399 | Recall: 0.8627 | F1: 0.8997 | ROC-AUC: 0.9469 || Test Loss: 0.4873 | Acc: 0.7419 | Prec: 0.9932 | Recall: 0.7268 | F1: 0.8394 | ROC-AUC: 0.8737\n",
      "Max val ROC-AUC: 0.9536\n",
      "Training with d_model=64, nhead=2, num_layers=4, dropout=0.1, lr=0.01\n"
     ]
    },
    {
     "data": {
      "application/vnd.jupyter.widget-view+json": {
       "model_id": "4939cff6b2c142edb5eb88b30776124e",
       "version_major": 2,
       "version_minor": 0
      },
      "text/plain": [
       "  0%|          | 0/10 [00:00<?, ?it/s]"
      ]
     },
     "metadata": {},
     "output_type": "display_data"
    },
    {
     "name": "stdout",
     "output_type": "stream",
     "text": [
      "Epoch: 10 | Train Loss: 0.1405 | Acc: 0.9572 | Prec: 0.9786 | Recall: 0.9281 | F1: 0.9527 | ROC-AUC: 0.9824 || Test Loss: 0.2874 | Acc: 0.9093 | Prec: 0.9839 | Recall: 0.9173 | F1: 0.9494 | ROC-AUC: 0.9327\n",
      "Max val ROC-AUC: 0.9599\n",
      "Training with d_model=64, nhead=2, num_layers=4, dropout=0.1, lr=0.01\n"
     ]
    },
    {
     "data": {
      "application/vnd.jupyter.widget-view+json": {
       "model_id": "d22569e5061a4a0eab15c380df4162aa",
       "version_major": 2,
       "version_minor": 0
      },
      "text/plain": [
       "  0%|          | 0/10 [00:00<?, ?it/s]"
      ]
     },
     "metadata": {},
     "output_type": "display_data"
    },
    {
     "name": "stdout",
     "output_type": "stream",
     "text": [
      "Epoch: 10 | Train Loss: 0.1621 | Acc: 0.9424 | Prec: 0.9548 | Recall: 0.9194 | F1: 0.9367 | ROC-AUC: 0.9826 || Test Loss: 0.3820 | Acc: 0.8884 | Prec: 0.9808 | Recall: 0.8972 | F1: 0.9372 | ROC-AUC: 0.8820\n",
      "Max val ROC-AUC: 0.9618\n",
      "Training with d_model=64, nhead=2, num_layers=4, dropout=0.1, lr=0.01\n"
     ]
    },
    {
     "data": {
      "application/vnd.jupyter.widget-view+json": {
       "model_id": "1550a11a91074bae9b5a91ca911caede",
       "version_major": 2,
       "version_minor": 0
      },
      "text/plain": [
       "  0%|          | 0/10 [00:00<?, ?it/s]"
      ]
     },
     "metadata": {},
     "output_type": "display_data"
    },
    {
     "name": "stdout",
     "output_type": "stream",
     "text": [
      "Epoch: 10 | Train Loss: 0.1349 | Acc: 0.9579 | Prec: 0.9793 | Recall: 0.9288 | F1: 0.9534 | ROC-AUC: 0.9847 || Test Loss: 0.3056 | Acc: 0.8953 | Prec: 0.9863 | Recall: 0.8997 | F1: 0.9410 | ROC-AUC: 0.9076\n",
      "Max val ROC-AUC: 0.9557\n",
      "Training with d_model=64, nhead=2, num_layers=4, dropout=0.1, lr=0.01\n"
     ]
    },
    {
     "data": {
      "application/vnd.jupyter.widget-view+json": {
       "model_id": "10439a77d4f142208be9e778942b96d8",
       "version_major": 2,
       "version_minor": 0
      },
      "text/plain": [
       "  0%|          | 0/10 [00:00<?, ?it/s]"
      ]
     },
     "metadata": {},
     "output_type": "display_data"
    },
    {
     "name": "stdout",
     "output_type": "stream",
     "text": [
      "Epoch: 10 | Train Loss: 0.0811 | Acc: 0.9754 | Prec: 0.9902 | Recall: 0.9564 | F1: 0.9730 | ROC-AUC: 0.9931 || Test Loss: 0.3718 | Acc: 0.9256 | Prec: 0.9816 | Recall: 0.9373 | F1: 0.9590 | ROC-AUC: 0.8911\n",
      "Max val ROC-AUC: 0.9358\n",
      "Training with d_model=64, nhead=2, num_layers=4, dropout=0.1, lr=0.01\n"
     ]
    },
    {
     "data": {
      "application/vnd.jupyter.widget-view+json": {
       "model_id": "93f448031c314d3f816a9b11a86f981c",
       "version_major": 2,
       "version_minor": 0
      },
      "text/plain": [
       "  0%|          | 0/10 [00:00<?, ?it/s]"
      ]
     },
     "metadata": {},
     "output_type": "display_data"
    },
    {
     "name": "stdout",
     "output_type": "stream",
     "text": [
      "Epoch: 10 | Train Loss: 0.1125 | Acc: 0.9606 | Prec: 0.9751 | Recall: 0.9390 | F1: 0.9567 | ROC-AUC: 0.9888 || Test Loss: 0.2811 | Acc: 0.8721 | Prec: 0.9914 | Recall: 0.8697 | F1: 0.9266 | ROC-AUC: 0.9450\n",
      "Max val ROC-AUC: 0.9450\n",
      "Training with d_model=64, nhead=2, num_layers=4, dropout=0.1, lr=0.01\n"
     ]
    },
    {
     "data": {
      "application/vnd.jupyter.widget-view+json": {
       "model_id": "3fadf2b0e5d14aa9b9504564aecca5dd",
       "version_major": 2,
       "version_minor": 0
      },
      "text/plain": [
       "  0%|          | 0/10 [00:00<?, ?it/s]"
      ]
     },
     "metadata": {},
     "output_type": "display_data"
    },
    {
     "name": "stdout",
     "output_type": "stream",
     "text": [
      "Epoch: 10 | Train Loss: 0.0946 | Acc: 0.9741 | Prec: 0.9851 | Recall: 0.9586 | F1: 0.9717 | ROC-AUC: 0.9902 || Test Loss: 0.2778 | Acc: 0.9349 | Prec: 0.9869 | Recall: 0.9424 | F1: 0.9641 | ROC-AUC: 0.9610\n",
      "Max val ROC-AUC: 0.9610\n",
      "Training with d_model=64, nhead=2, num_layers=4, dropout=0.1, lr=0.01\n"
     ]
    },
    {
     "data": {
      "application/vnd.jupyter.widget-view+json": {
       "model_id": "ae0f75d62533462bacfd3720fa54ca8f",
       "version_major": 2,
       "version_minor": 0
      },
      "text/plain": [
       "  0%|          | 0/10 [00:00<?, ?it/s]"
      ]
     },
     "metadata": {},
     "output_type": "display_data"
    },
    {
     "name": "stdout",
     "output_type": "stream",
     "text": [
      "Epoch: 10 | Train Loss: 0.1308 | Acc: 0.9552 | Prec: 0.9770 | Recall: 0.9252 | F1: 0.9504 | ROC-AUC: 0.9851 || Test Loss: 0.5684 | Acc: 0.6698 | Prec: 0.9923 | Recall: 0.6491 | F1: 0.7848 | ROC-AUC: 0.9268\n",
      "Max val ROC-AUC: 0.9452\n",
      "Training with d_model=64, nhead=2, num_layers=4, dropout=0.1, lr=0.01\n"
     ]
    },
    {
     "data": {
      "application/vnd.jupyter.widget-view+json": {
       "model_id": "f4f17a7d047a44489b049d4166afb64a",
       "version_major": 2,
       "version_minor": 0
      },
      "text/plain": [
       "  0%|          | 0/10 [00:00<?, ?it/s]"
      ]
     },
     "metadata": {},
     "output_type": "display_data"
    },
    {
     "name": "stdout",
     "output_type": "stream",
     "text": [
      "Epoch: 10 | Train Loss: 0.1421 | Acc: 0.9542 | Prec: 0.9792 | Recall: 0.9208 | F1: 0.9491 | ROC-AUC: 0.9829 || Test Loss: 0.3814 | Acc: 0.9093 | Prec: 0.9865 | Recall: 0.9148 | F1: 0.9493 | ROC-AUC: 0.9238\n",
      "Max val ROC-AUC: 0.9561\n",
      "Training with d_model=64, nhead=2, num_layers=4, dropout=0.1, lr=0.01\n"
     ]
    },
    {
     "data": {
      "application/vnd.jupyter.widget-view+json": {
       "model_id": "8cc2af9ed050483b9f4b8e6119758adc",
       "version_major": 2,
       "version_minor": 0
      },
      "text/plain": [
       "  0%|          | 0/10 [00:00<?, ?it/s]"
      ]
     },
     "metadata": {},
     "output_type": "display_data"
    },
    {
     "name": "stdout",
     "output_type": "stream",
     "text": [
      "Epoch: 10 | Train Loss: 0.1717 | Acc: 0.9394 | Prec: 0.9701 | Recall: 0.8969 | F1: 0.9321 | ROC-AUC: 0.9767 || Test Loss: 0.4019 | Acc: 0.8767 | Prec: 0.9887 | Recall: 0.8772 | F1: 0.9296 | ROC-AUC: 0.9333\n",
      "Max val ROC-AUC: 0.9509\n",
      "Training with d_model=64, nhead=2, num_layers=4, dropout=0.1, lr=0.01\n"
     ]
    },
    {
     "data": {
      "application/vnd.jupyter.widget-view+json": {
       "model_id": "31fec1aece2244259c8f00281dc4d0a1",
       "version_major": 2,
       "version_minor": 0
      },
      "text/plain": [
       "  0%|          | 0/10 [00:00<?, ?it/s]"
      ]
     },
     "metadata": {},
     "output_type": "display_data"
    },
    {
     "name": "stdout",
     "output_type": "stream",
     "text": [
      "Epoch: 10 | Train Loss: 0.1086 | Acc: 0.9673 | Prec: 0.9834 | Recall: 0.9455 | F1: 0.9641 | ROC-AUC: 0.9904 || Test Loss: 0.3626 | Acc: 0.9023 | Prec: 0.9837 | Recall: 0.9098 | F1: 0.9453 | ROC-AUC: 0.9517\n",
      "Max val ROC-AUC: 0.9517\n",
      "Training with d_model=64, nhead=2, num_layers=4, dropout=0.1, lr=0.001\n"
     ]
    },
    {
     "data": {
      "application/vnd.jupyter.widget-view+json": {
       "model_id": "9fd7d49b66924138a77ef0e2acb88d68",
       "version_major": 2,
       "version_minor": 0
      },
      "text/plain": [
       "  0%|          | 0/10 [00:00<?, ?it/s]"
      ]
     },
     "metadata": {},
     "output_type": "display_data"
    },
    {
     "name": "stdout",
     "output_type": "stream",
     "text": [
      "Epoch: 10 | Train Loss: 0.0552 | Acc: 0.9825 | Prec: 0.9875 | Recall: 0.9746 | F1: 0.9810 | ROC-AUC: 0.9972 || Test Loss: 0.4550 | Acc: 0.8977 | Prec: 0.9784 | Recall: 0.9098 | F1: 0.9429 | ROC-AUC: 0.9234\n",
      "Max val ROC-AUC: 0.9568\n",
      "Training with d_model=64, nhead=2, num_layers=4, dropout=0.1, lr=0.001\n"
     ]
    },
    {
     "data": {
      "application/vnd.jupyter.widget-view+json": {
       "model_id": "a20f91a614b74420b760555ef2870b3f",
       "version_major": 2,
       "version_minor": 0
      },
      "text/plain": [
       "  0%|          | 0/10 [00:00<?, ?it/s]"
      ]
     },
     "metadata": {},
     "output_type": "display_data"
    },
    {
     "name": "stdout",
     "output_type": "stream",
     "text": [
      "Epoch: 10 | Train Loss: 0.0358 | Acc: 0.9879 | Prec: 0.9876 | Recall: 0.9862 | F1: 0.9869 | ROC-AUC: 0.9987 || Test Loss: 0.2921 | Acc: 0.9326 | Prec: 0.9818 | Recall: 0.9449 | F1: 0.9630 | ROC-AUC: 0.9112\n",
      "Max val ROC-AUC: 0.9537\n",
      "Training with d_model=64, nhead=2, num_layers=4, dropout=0.1, lr=0.001\n"
     ]
    },
    {
     "data": {
      "application/vnd.jupyter.widget-view+json": {
       "model_id": "5fb938904f1a41009fb8f8b29b9e681f",
       "version_major": 2,
       "version_minor": 0
      },
      "text/plain": [
       "  0%|          | 0/10 [00:00<?, ?it/s]"
      ]
     },
     "metadata": {},
     "output_type": "display_data"
    },
    {
     "name": "stdout",
     "output_type": "stream",
     "text": [
      "Epoch: 10 | Train Loss: 0.0187 | Acc: 0.9946 | Prec: 0.9978 | Recall: 0.9906 | F1: 0.9942 | ROC-AUC: 0.9995 || Test Loss: 0.5126 | Acc: 0.9256 | Prec: 0.9766 | Recall: 0.9424 | F1: 0.9592 | ROC-AUC: 0.9319\n",
      "Max val ROC-AUC: 0.9707\n",
      "Training with d_model=64, nhead=2, num_layers=4, dropout=0.1, lr=0.001\n"
     ]
    },
    {
     "data": {
      "application/vnd.jupyter.widget-view+json": {
       "model_id": "67caa50c946744db8a5137ff9e3f2346",
       "version_major": 2,
       "version_minor": 0
      },
      "text/plain": [
       "  0%|          | 0/10 [00:00<?, ?it/s]"
      ]
     },
     "metadata": {},
     "output_type": "display_data"
    },
    {
     "name": "stdout",
     "output_type": "stream",
     "text": [
      "Epoch: 10 | Train Loss: 0.0085 | Acc: 0.9976 | Prec: 0.9985 | Recall: 0.9964 | F1: 0.9975 | ROC-AUC: 0.9999 || Test Loss: 0.5757 | Acc: 0.9163 | Prec: 0.9789 | Recall: 0.9298 | F1: 0.9537 | ROC-AUC: 0.8991\n",
      "Max val ROC-AUC: 0.9476\n",
      "Training with d_model=64, nhead=2, num_layers=4, dropout=0.1, lr=0.001\n"
     ]
    },
    {
     "data": {
      "application/vnd.jupyter.widget-view+json": {
       "model_id": "59a157dbafa344f49a92cddf70c5f093",
       "version_major": 2,
       "version_minor": 0
      },
      "text/plain": [
       "  0%|          | 0/10 [00:00<?, ?it/s]"
      ]
     },
     "metadata": {},
     "output_type": "display_data"
    },
    {
     "name": "stdout",
     "output_type": "stream",
     "text": [
      "Epoch: 10 | Train Loss: 0.0407 | Acc: 0.9882 | Prec: 0.9912 | Recall: 0.9833 | F1: 0.9872 | ROC-AUC: 0.9983 || Test Loss: 0.4432 | Acc: 0.8721 | Prec: 0.9859 | Recall: 0.8747 | F1: 0.9270 | ROC-AUC: 0.9374\n",
      "Max val ROC-AUC: 0.9404\n",
      "Training with d_model=64, nhead=2, num_layers=4, dropout=0.1, lr=0.001\n"
     ]
    },
    {
     "data": {
      "application/vnd.jupyter.widget-view+json": {
       "model_id": "82ec9a706d8a43afbfd7a4c3e2777477",
       "version_major": 2,
       "version_minor": 0
      },
      "text/plain": [
       "  0%|          | 0/10 [00:00<?, ?it/s]"
      ]
     },
     "metadata": {},
     "output_type": "display_data"
    },
    {
     "name": "stdout",
     "output_type": "stream",
     "text": [
      "Epoch: 10 | Train Loss: 0.0253 | Acc: 0.9919 | Prec: 0.9920 | Recall: 0.9906 | F1: 0.9913 | ROC-AUC: 0.9993 || Test Loss: 0.4121 | Acc: 0.9326 | Prec: 0.9843 | Recall: 0.9424 | F1: 0.9629 | ROC-AUC: 0.9382\n",
      "Max val ROC-AUC: 0.9382\n",
      "Training with d_model=64, nhead=2, num_layers=4, dropout=0.1, lr=0.001\n"
     ]
    },
    {
     "data": {
      "application/vnd.jupyter.widget-view+json": {
       "model_id": "2ec9ae4594d546258c7964483480f61b",
       "version_major": 2,
       "version_minor": 0
      },
      "text/plain": [
       "  0%|          | 0/10 [00:00<?, ?it/s]"
      ]
     },
     "metadata": {},
     "output_type": "display_data"
    },
    {
     "name": "stdout",
     "output_type": "stream",
     "text": [
      "Epoch: 10 | Train Loss: 0.0287 | Acc: 0.9899 | Prec: 0.9877 | Recall: 0.9906 | F1: 0.9891 | ROC-AUC: 0.9994 || Test Loss: 0.4529 | Acc: 0.9093 | Prec: 0.9813 | Recall: 0.9198 | F1: 0.9495 | ROC-AUC: 0.9264\n",
      "Max val ROC-AUC: 0.9553\n",
      "Training with d_model=64, nhead=2, num_layers=4, dropout=0.1, lr=0.001\n"
     ]
    },
    {
     "data": {
      "application/vnd.jupyter.widget-view+json": {
       "model_id": "bd39342a73374ea882caaffb8d025141",
       "version_major": 2,
       "version_minor": 0
      },
      "text/plain": [
       "  0%|          | 0/10 [00:00<?, ?it/s]"
      ]
     },
     "metadata": {},
     "output_type": "display_data"
    },
    {
     "name": "stdout",
     "output_type": "stream",
     "text": [
      "Epoch: 10 | Train Loss: 0.0283 | Acc: 0.9923 | Prec: 0.9906 | Recall: 0.9927 | F1: 0.9917 | ROC-AUC: 0.9993 || Test Loss: 0.4645 | Acc: 0.9163 | Prec: 0.9840 | Recall: 0.9248 | F1: 0.9535 | ROC-AUC: 0.9449\n",
      "Max val ROC-AUC: 0.9449\n",
      "Training with d_model=64, nhead=2, num_layers=4, dropout=0.1, lr=0.001\n"
     ]
    },
    {
     "data": {
      "application/vnd.jupyter.widget-view+json": {
       "model_id": "c04307567895489c83e1212cf7f39553",
       "version_major": 2,
       "version_minor": 0
      },
      "text/plain": [
       "  0%|          | 0/10 [00:00<?, ?it/s]"
      ]
     },
     "metadata": {},
     "output_type": "display_data"
    },
    {
     "name": "stdout",
     "output_type": "stream",
     "text": [
      "Epoch: 10 | Train Loss: 0.0521 | Acc: 0.9848 | Prec: 0.9819 | Recall: 0.9855 | F1: 0.9837 | ROC-AUC: 0.9972 || Test Loss: 0.5553 | Acc: 0.8977 | Prec: 0.9863 | Recall: 0.9023 | F1: 0.9424 | ROC-AUC: 0.9262\n",
      "Max val ROC-AUC: 0.9549\n",
      "Training with d_model=64, nhead=2, num_layers=4, dropout=0.1, lr=0.001\n"
     ]
    },
    {
     "data": {
      "application/vnd.jupyter.widget-view+json": {
       "model_id": "e0c27d70ca224b1096edc9f7995a64d4",
       "version_major": 2,
       "version_minor": 0
      },
      "text/plain": [
       "  0%|          | 0/10 [00:00<?, ?it/s]"
      ]
     },
     "metadata": {},
     "output_type": "display_data"
    },
    {
     "name": "stdout",
     "output_type": "stream",
     "text": [
      "Epoch: 10 | Train Loss: 0.0218 | Acc: 0.9939 | Prec: 0.9963 | Recall: 0.9906 | F1: 0.9934 | ROC-AUC: 0.9994 || Test Loss: 0.3476 | Acc: 0.9349 | Prec: 0.9720 | Recall: 0.9574 | F1: 0.9646 | ROC-AUC: 0.9332\n",
      "Max val ROC-AUC: 0.9511\n",
      "Training with d_model=64, nhead=2, num_layers=4, dropout=0.3, lr=0.1\n"
     ]
    },
    {
     "data": {
      "application/vnd.jupyter.widget-view+json": {
       "model_id": "746d32c762374da1941f8de997c0abb8",
       "version_major": 2,
       "version_minor": 0
      },
      "text/plain": [
       "  0%|          | 0/10 [00:00<?, ?it/s]"
      ]
     },
     "metadata": {},
     "output_type": "display_data"
    },
    {
     "name": "stdout",
     "output_type": "stream",
     "text": [
      "Epoch: 10 | Train Loss: 0.4789 | Acc: 0.7868 | Prec: 0.7004 | Recall: 0.9441 | F1: 0.8042 | ROC-AUC: 0.8381 || Test Loss: 0.6883 | Acc: 0.9442 | Prec: 0.9820 | Recall: 0.9574 | F1: 0.9695 | ROC-AUC: 0.8643\n",
      "Max val ROC-AUC: 0.9324\n",
      "Training with d_model=64, nhead=2, num_layers=4, dropout=0.3, lr=0.1\n"
     ]
    },
    {
     "data": {
      "application/vnd.jupyter.widget-view+json": {
       "model_id": "295c599d2dbb44d5ac018a5d415fead9",
       "version_major": 2,
       "version_minor": 0
      },
      "text/plain": [
       "  0%|          | 0/10 [00:00<?, ?it/s]"
      ]
     },
     "metadata": {},
     "output_type": "display_data"
    },
    {
     "name": "stdout",
     "output_type": "stream",
     "text": [
      "Epoch: 10 | Train Loss: 0.5764 | Acc: 0.7127 | Prec: 0.6454 | Recall: 0.8446 | F1: 0.7317 | ROC-AUC: 0.7723 || Test Loss: 0.6319 | Acc: 0.7326 | Prec: 0.9931 | Recall: 0.7168 | F1: 0.8326 | ROC-AUC: 0.9142\n",
      "Max val ROC-AUC: 0.9365\n",
      "Training with d_model=64, nhead=2, num_layers=4, dropout=0.3, lr=0.1\n"
     ]
    },
    {
     "data": {
      "application/vnd.jupyter.widget-view+json": {
       "model_id": "90515b25ff49402b9e15daa5f4becd39",
       "version_major": 2,
       "version_minor": 0
      },
      "text/plain": [
       "  0%|          | 0/10 [00:00<?, ?it/s]"
      ]
     },
     "metadata": {},
     "output_type": "display_data"
    },
    {
     "name": "stdout",
     "output_type": "stream",
     "text": [
      "Epoch: 10 | Train Loss: 0.7017 | Acc: 0.5285 | Prec: 0.4744 | Recall: 0.1547 | F1: 0.2333 | ROC-AUC: 0.5068 || Test Loss: 0.7713 | Acc: 0.0721 | Prec: 0.0000 | Recall: 0.0000 | F1: 0.0000 | ROC-AUC: 0.5000\n",
      "Max val ROC-AUC: 0.7672\n",
      "Training with d_model=64, nhead=2, num_layers=4, dropout=0.3, lr=0.1\n"
     ]
    },
    {
     "data": {
      "application/vnd.jupyter.widget-view+json": {
       "model_id": "c2a2194cf889458a8876341dafdfad44",
       "version_major": 2,
       "version_minor": 0
      },
      "text/plain": [
       "  0%|          | 0/10 [00:00<?, ?it/s]"
      ]
     },
     "metadata": {},
     "output_type": "display_data"
    },
    {
     "name": "stdout",
     "output_type": "stream",
     "text": [
      "Epoch: 10 | Train Loss: 0.6575 | Acc: 0.6093 | Prec: 0.5752 | Recall: 0.6028 | F1: 0.5887 | ROC-AUC: 0.6561 || Test Loss: 0.4197 | Acc: 0.9186 | Prec: 0.9840 | Recall: 0.9273 | F1: 0.9548 | ROC-AUC: 0.8909\n",
      "Max val ROC-AUC: 0.9616\n",
      "Training with d_model=64, nhead=2, num_layers=4, dropout=0.3, lr=0.1\n"
     ]
    },
    {
     "data": {
      "application/vnd.jupyter.widget-view+json": {
       "model_id": "bb6c251a6de545dcbd19e1939bc00db4",
       "version_major": 2,
       "version_minor": 0
      },
      "text/plain": [
       "  0%|          | 0/10 [00:00<?, ?it/s]"
      ]
     },
     "metadata": {},
     "output_type": "display_data"
    },
    {
     "name": "stdout",
     "output_type": "stream",
     "text": [
      "Epoch: 10 | Train Loss: 0.5136 | Acc: 0.7578 | Prec: 0.8257 | Recall: 0.6057 | F1: 0.6988 | ROC-AUC: 0.8390 || Test Loss: 0.8099 | Acc: 0.0721 | Prec: 0.0000 | Recall: 0.0000 | F1: 0.0000 | ROC-AUC: 0.5002\n",
      "Max val ROC-AUC: 0.9537\n",
      "Training with d_model=64, nhead=2, num_layers=4, dropout=0.3, lr=0.1\n"
     ]
    },
    {
     "data": {
      "application/vnd.jupyter.widget-view+json": {
       "model_id": "4cd7d6f197e34dab8f5c2c9f2b2072e4",
       "version_major": 2,
       "version_minor": 0
      },
      "text/plain": [
       "  0%|          | 0/10 [00:00<?, ?it/s]"
      ]
     },
     "metadata": {},
     "output_type": "display_data"
    },
    {
     "name": "stdout",
     "output_type": "stream",
     "text": [
      "Epoch: 10 | Train Loss: 0.6979 | Acc: 0.5258 | Prec: 0.4793 | Recall: 0.2600 | F1: 0.3371 | ROC-AUC: 0.4930 || Test Loss: 0.6736 | Acc: 0.9279 | Prec: 0.9279 | Recall: 1.0000 | F1: 0.9626 | ROC-AUC: 0.5000\n",
      "Max val ROC-AUC: 0.9324\n",
      "Training with d_model=64, nhead=2, num_layers=4, dropout=0.3, lr=0.1\n"
     ]
    },
    {
     "data": {
      "application/vnd.jupyter.widget-view+json": {
       "model_id": "661132170ddb435a82a2079c73ddcfdd",
       "version_major": 2,
       "version_minor": 0
      },
      "text/plain": [
       "  0%|          | 0/10 [00:00<?, ?it/s]"
      ]
     },
     "metadata": {},
     "output_type": "display_data"
    },
    {
     "name": "stdout",
     "output_type": "stream",
     "text": [
      "Epoch: 10 | Train Loss: 0.4847 | Acc: 0.8107 | Prec: 0.9249 | Recall: 0.6442 | F1: 0.7594 | ROC-AUC: 0.8499 || Test Loss: 0.3572 | Acc: 0.7070 | Prec: 0.9928 | Recall: 0.6892 | F1: 0.8136 | ROC-AUC: 0.9050\n",
      "Max val ROC-AUC: 0.9485\n",
      "Training with d_model=64, nhead=2, num_layers=4, dropout=0.3, lr=0.1\n"
     ]
    },
    {
     "data": {
      "application/vnd.jupyter.widget-view+json": {
       "model_id": "650880e9f6d443dfb38f6a7db6873502",
       "version_major": 2,
       "version_minor": 0
      },
      "text/plain": [
       "  0%|          | 0/10 [00:00<?, ?it/s]"
      ]
     },
     "metadata": {},
     "output_type": "display_data"
    },
    {
     "name": "stdout",
     "output_type": "stream",
     "text": [
      "Epoch: 10 | Train Loss: 0.4571 | Acc: 0.8249 | Prec: 0.8219 | Recall: 0.7945 | F1: 0.8080 | ROC-AUC: 0.8808 || Test Loss: 0.9840 | Acc: 0.6860 | Prec: 0.9962 | Recall: 0.6642 | F1: 0.7970 | ROC-AUC: 0.9244\n",
      "Max val ROC-AUC: 0.9546\n",
      "Training with d_model=64, nhead=2, num_layers=4, dropout=0.3, lr=0.1\n"
     ]
    },
    {
     "data": {
      "application/vnd.jupyter.widget-view+json": {
       "model_id": "6e04e8625dfd432ca0c4e2301f498f9c",
       "version_major": 2,
       "version_minor": 0
      },
      "text/plain": [
       "  0%|          | 0/10 [00:00<?, ?it/s]"
      ]
     },
     "metadata": {},
     "output_type": "display_data"
    },
    {
     "name": "stdout",
     "output_type": "stream",
     "text": [
      "Epoch: 10 | Train Loss: 0.6948 | Acc: 0.5224 | Prec: 0.4489 | Recall: 0.1307 | F1: 0.2025 | ROC-AUC: 0.4945 || Test Loss: 0.8076 | Acc: 0.0837 | Prec: 1.0000 | Recall: 0.0125 | F1: 0.0248 | ROC-AUC: 0.5075\n",
      "Max val ROC-AUC: 0.7643\n",
      "Training with d_model=64, nhead=2, num_layers=4, dropout=0.3, lr=0.1\n"
     ]
    },
    {
     "data": {
      "application/vnd.jupyter.widget-view+json": {
       "model_id": "91835eb7b628403bb2da98fb6f5306b5",
       "version_major": 2,
       "version_minor": 0
      },
      "text/plain": [
       "  0%|          | 0/10 [00:00<?, ?it/s]"
      ]
     },
     "metadata": {},
     "output_type": "display_data"
    },
    {
     "name": "stdout",
     "output_type": "stream",
     "text": [
      "Epoch: 10 | Train Loss: 0.5516 | Acc: 0.7305 | Prec: 0.6627 | Recall: 0.8533 | F1: 0.7460 | ROC-AUC: 0.7811 || Test Loss: 0.7272 | Acc: 0.0721 | Prec: 0.0000 | Recall: 0.0000 | F1: 0.0000 | ROC-AUC: 0.7826\n",
      "Max val ROC-AUC: 0.9325\n",
      "Training with d_model=64, nhead=2, num_layers=4, dropout=0.3, lr=0.01\n"
     ]
    },
    {
     "data": {
      "application/vnd.jupyter.widget-view+json": {
       "model_id": "4534b1460bd34768a30c2e953fbc5953",
       "version_major": 2,
       "version_minor": 0
      },
      "text/plain": [
       "  0%|          | 0/10 [00:00<?, ?it/s]"
      ]
     },
     "metadata": {},
     "output_type": "display_data"
    },
    {
     "name": "stdout",
     "output_type": "stream",
     "text": [
      "Epoch: 10 | Train Loss: 0.1663 | Acc: 0.9498 | Prec: 0.9637 | Recall: 0.9267 | F1: 0.9448 | ROC-AUC: 0.9784 || Test Loss: 0.8269 | Acc: 0.7953 | Prec: 0.9875 | Recall: 0.7895 | F1: 0.8774 | ROC-AUC: 0.8976\n",
      "Max val ROC-AUC: 0.9514\n",
      "Training with d_model=64, nhead=2, num_layers=4, dropout=0.3, lr=0.01\n"
     ]
    },
    {
     "data": {
      "application/vnd.jupyter.widget-view+json": {
       "model_id": "1fd52a6695194b0195f6e0757475e199",
       "version_major": 2,
       "version_minor": 0
      },
      "text/plain": [
       "  0%|          | 0/10 [00:00<?, ?it/s]"
      ]
     },
     "metadata": {},
     "output_type": "display_data"
    },
    {
     "name": "stdout",
     "output_type": "stream",
     "text": [
      "Epoch: 10 | Train Loss: 0.1692 | Acc: 0.9464 | Prec: 0.9656 | Recall: 0.9172 | F1: 0.9408 | ROC-AUC: 0.9800 || Test Loss: 0.6767 | Acc: 0.8372 | Prec: 0.9910 | Recall: 0.8321 | F1: 0.9046 | ROC-AUC: 0.8951\n",
      "Max val ROC-AUC: 0.9648\n",
      "Training with d_model=64, nhead=2, num_layers=4, dropout=0.3, lr=0.01\n"
     ]
    },
    {
     "data": {
      "application/vnd.jupyter.widget-view+json": {
       "model_id": "aa16d111bcd14b17b58651c82c368c14",
       "version_major": 2,
       "version_minor": 0
      },
      "text/plain": [
       "  0%|          | 0/10 [00:00<?, ?it/s]"
      ]
     },
     "metadata": {},
     "output_type": "display_data"
    },
    {
     "name": "stdout",
     "output_type": "stream",
     "text": [
      "Epoch: 10 | Train Loss: 0.2078 | Acc: 0.9326 | Prec: 0.9455 | Recall: 0.9070 | F1: 0.9259 | ROC-AUC: 0.9741 || Test Loss: 0.4386 | Acc: 0.7930 | Prec: 0.9905 | Recall: 0.7845 | F1: 0.8755 | ROC-AUC: 0.9191\n",
      "Max val ROC-AUC: 0.9241\n",
      "Training with d_model=64, nhead=2, num_layers=4, dropout=0.3, lr=0.01\n"
     ]
    },
    {
     "data": {
      "application/vnd.jupyter.widget-view+json": {
       "model_id": "5a89147b4ce74fd886bdcbbbe208b189",
       "version_major": 2,
       "version_minor": 0
      },
      "text/plain": [
       "  0%|          | 0/10 [00:00<?, ?it/s]"
      ]
     },
     "metadata": {},
     "output_type": "display_data"
    },
    {
     "name": "stdout",
     "output_type": "stream",
     "text": [
      "Epoch: 10 | Train Loss: 0.1191 | Acc: 0.9673 | Prec: 0.9769 | Recall: 0.9521 | F1: 0.9643 | ROC-AUC: 0.9883 || Test Loss: 0.3409 | Acc: 0.9093 | Prec: 0.9813 | Recall: 0.9198 | F1: 0.9495 | ROC-AUC: 0.9358\n",
      "Max val ROC-AUC: 0.9466\n",
      "Training with d_model=64, nhead=2, num_layers=4, dropout=0.3, lr=0.01\n"
     ]
    },
    {
     "data": {
      "application/vnd.jupyter.widget-view+json": {
       "model_id": "7449560d047d48429d730b04e998d620",
       "version_major": 2,
       "version_minor": 0
      },
      "text/plain": [
       "  0%|          | 0/10 [00:00<?, ?it/s]"
      ]
     },
     "metadata": {},
     "output_type": "display_data"
    },
    {
     "name": "stdout",
     "output_type": "stream",
     "text": [
      "Epoch: 10 | Train Loss: 0.1270 | Acc: 0.9572 | Prec: 0.9742 | Recall: 0.9325 | F1: 0.9529 | ROC-AUC: 0.9857 || Test Loss: 0.4631 | Acc: 0.8465 | Prec: 0.9883 | Recall: 0.8446 | F1: 0.9108 | ROC-AUC: 0.9266\n",
      "Max val ROC-AUC: 0.9500\n",
      "Training with d_model=64, nhead=2, num_layers=4, dropout=0.3, lr=0.01\n"
     ]
    },
    {
     "data": {
      "application/vnd.jupyter.widget-view+json": {
       "model_id": "170947a4bdd0476381d859608bb29e26",
       "version_major": 2,
       "version_minor": 0
      },
      "text/plain": [
       "  0%|          | 0/10 [00:00<?, ?it/s]"
      ]
     },
     "metadata": {},
     "output_type": "display_data"
    },
    {
     "name": "stdout",
     "output_type": "stream",
     "text": [
      "Epoch: 10 | Train Loss: 0.1610 | Acc: 0.9502 | Prec: 0.9731 | Recall: 0.9179 | F1: 0.9447 | ROC-AUC: 0.9801 || Test Loss: 0.3519 | Acc: 0.8953 | Prec: 0.9863 | Recall: 0.8997 | F1: 0.9410 | ROC-AUC: 0.9412\n",
      "Max val ROC-AUC: 0.9530\n",
      "Training with d_model=64, nhead=2, num_layers=4, dropout=0.3, lr=0.01\n"
     ]
    },
    {
     "data": {
      "application/vnd.jupyter.widget-view+json": {
       "model_id": "3fe80732d3964146afc0e05b94d5dcb0",
       "version_major": 2,
       "version_minor": 0
      },
      "text/plain": [
       "  0%|          | 0/10 [00:00<?, ?it/s]"
      ]
     },
     "metadata": {},
     "output_type": "display_data"
    },
    {
     "name": "stdout",
     "output_type": "stream",
     "text": [
      "Epoch: 10 | Train Loss: 0.1346 | Acc: 0.9552 | Prec: 0.9698 | Recall: 0.9325 | F1: 0.9508 | ROC-AUC: 0.9852 || Test Loss: 0.4376 | Acc: 0.8744 | Prec: 0.9805 | Recall: 0.8822 | F1: 0.9288 | ROC-AUC: 0.8827\n",
      "Max val ROC-AUC: 0.9377\n",
      "Training with d_model=64, nhead=2, num_layers=4, dropout=0.3, lr=0.01\n"
     ]
    },
    {
     "data": {
      "application/vnd.jupyter.widget-view+json": {
       "model_id": "be54750c63264915bb814696ecdd43a2",
       "version_major": 2,
       "version_minor": 0
      },
      "text/plain": [
       "  0%|          | 0/10 [00:00<?, ?it/s]"
      ]
     },
     "metadata": {},
     "output_type": "display_data"
    },
    {
     "name": "stdout",
     "output_type": "stream",
     "text": [
      "Epoch: 10 | Train Loss: 0.1124 | Acc: 0.9667 | Prec: 0.9812 | Recall: 0.9463 | F1: 0.9634 | ROC-AUC: 0.9868 || Test Loss: 0.3896 | Acc: 0.8930 | Prec: 0.9836 | Recall: 0.8997 | F1: 0.9398 | ROC-AUC: 0.9138\n",
      "Max val ROC-AUC: 0.9416\n",
      "Training with d_model=64, nhead=2, num_layers=4, dropout=0.3, lr=0.01\n"
     ]
    },
    {
     "data": {
      "application/vnd.jupyter.widget-view+json": {
       "model_id": "cfea3501bedb40f2b079fc9b3c3f23de",
       "version_major": 2,
       "version_minor": 0
      },
      "text/plain": [
       "  0%|          | 0/10 [00:00<?, ?it/s]"
      ]
     },
     "metadata": {},
     "output_type": "display_data"
    },
    {
     "name": "stdout",
     "output_type": "stream",
     "text": [
      "Epoch: 10 | Train Loss: 0.1322 | Acc: 0.9562 | Prec: 0.9822 | Recall: 0.9223 | F1: 0.9513 | ROC-AUC: 0.9860 || Test Loss: 0.3372 | Acc: 0.8884 | Prec: 0.9889 | Recall: 0.8897 | F1: 0.9367 | ROC-AUC: 0.9556\n",
      "Max val ROC-AUC: 0.9556\n",
      "Training with d_model=64, nhead=2, num_layers=4, dropout=0.3, lr=0.01\n"
     ]
    },
    {
     "data": {
      "application/vnd.jupyter.widget-view+json": {
       "model_id": "a1b32518f04f417baaa7ae8b9975dc84",
       "version_major": 2,
       "version_minor": 0
      },
      "text/plain": [
       "  0%|          | 0/10 [00:00<?, ?it/s]"
      ]
     },
     "metadata": {},
     "output_type": "display_data"
    },
    {
     "name": "stdout",
     "output_type": "stream",
     "text": [
      "Epoch: 10 | Train Loss: 0.1975 | Acc: 0.9293 | Prec: 0.9281 | Recall: 0.9187 | F1: 0.9234 | ROC-AUC: 0.9755 || Test Loss: 0.5688 | Acc: 0.8465 | Prec: 0.9941 | Recall: 0.8396 | F1: 0.9103 | ROC-AUC: 0.9264\n",
      "Max val ROC-AUC: 0.9610\n",
      "Training with d_model=64, nhead=2, num_layers=4, dropout=0.3, lr=0.001\n"
     ]
    },
    {
     "data": {
      "application/vnd.jupyter.widget-view+json": {
       "model_id": "2fd2652b0aea4118a9a68042ee1e1f2b",
       "version_major": 2,
       "version_minor": 0
      },
      "text/plain": [
       "  0%|          | 0/10 [00:00<?, ?it/s]"
      ]
     },
     "metadata": {},
     "output_type": "display_data"
    },
    {
     "name": "stdout",
     "output_type": "stream",
     "text": [
      "Epoch: 10 | Train Loss: 0.0547 | Acc: 0.9848 | Prec: 0.9890 | Recall: 0.9782 | F1: 0.9836 | ROC-AUC: 0.9970 || Test Loss: 0.2271 | Acc: 0.9233 | Prec: 0.9741 | Recall: 0.9424 | F1: 0.9580 | ROC-AUC: 0.9517\n",
      "Max val ROC-AUC: 0.9678\n",
      "Training with d_model=64, nhead=2, num_layers=4, dropout=0.3, lr=0.001\n"
     ]
    },
    {
     "data": {
      "application/vnd.jupyter.widget-view+json": {
       "model_id": "2e78d4bdb6794e73a68cba92cec94e00",
       "version_major": 2,
       "version_minor": 0
      },
      "text/plain": [
       "  0%|          | 0/10 [00:00<?, ?it/s]"
      ]
     },
     "metadata": {},
     "output_type": "display_data"
    },
    {
     "name": "stdout",
     "output_type": "stream",
     "text": [
      "Epoch: 10 | Train Loss: 0.0544 | Acc: 0.9838 | Prec: 0.9904 | Recall: 0.9746 | F1: 0.9824 | ROC-AUC: 0.9977 || Test Loss: 0.3840 | Acc: 0.9395 | Prec: 0.9794 | Recall: 0.9549 | F1: 0.9670 | ROC-AUC: 0.9228\n",
      "Max val ROC-AUC: 0.9568\n",
      "Training with d_model=64, nhead=2, num_layers=4, dropout=0.3, lr=0.001\n"
     ]
    },
    {
     "data": {
      "application/vnd.jupyter.widget-view+json": {
       "model_id": "dbada24b2b0a495fa390073954feee53",
       "version_major": 2,
       "version_minor": 0
      },
      "text/plain": [
       "  0%|          | 0/10 [00:00<?, ?it/s]"
      ]
     },
     "metadata": {},
     "output_type": "display_data"
    },
    {
     "name": "stdout",
     "output_type": "stream",
     "text": [
      "Epoch: 10 | Train Loss: 0.0683 | Acc: 0.9784 | Prec: 0.9874 | Recall: 0.9659 | F1: 0.9765 | ROC-AUC: 0.9950 || Test Loss: 0.3499 | Acc: 0.9163 | Prec: 0.9789 | Recall: 0.9298 | F1: 0.9537 | ROC-AUC: 0.9392\n",
      "Max val ROC-AUC: 0.9545\n",
      "Training with d_model=64, nhead=2, num_layers=4, dropout=0.3, lr=0.001\n"
     ]
    },
    {
     "data": {
      "application/vnd.jupyter.widget-view+json": {
       "model_id": "53cc60a25e3840c8ae61dc188291df99",
       "version_major": 2,
       "version_minor": 0
      },
      "text/plain": [
       "  0%|          | 0/10 [00:00<?, ?it/s]"
      ]
     },
     "metadata": {},
     "output_type": "display_data"
    },
    {
     "name": "stdout",
     "output_type": "stream",
     "text": [
      "Epoch: 10 | Train Loss: 0.0602 | Acc: 0.9821 | Prec: 0.9790 | Recall: 0.9826 | F1: 0.9808 | ROC-AUC: 0.9972 || Test Loss: 0.4620 | Acc: 0.8953 | Prec: 0.9784 | Recall: 0.9073 | F1: 0.9415 | ROC-AUC: 0.8581\n",
      "Max val ROC-AUC: 0.9404\n",
      "Training with d_model=64, nhead=2, num_layers=4, dropout=0.3, lr=0.001\n"
     ]
    },
    {
     "data": {
      "application/vnd.jupyter.widget-view+json": {
       "model_id": "669461953e6749ab8850679d61f8d8de",
       "version_major": 2,
       "version_minor": 0
      },
      "text/plain": [
       "  0%|          | 0/10 [00:00<?, ?it/s]"
      ]
     },
     "metadata": {},
     "output_type": "display_data"
    },
    {
     "name": "stdout",
     "output_type": "stream",
     "text": [
      "Epoch: 10 | Train Loss: 0.0520 | Acc: 0.9852 | Prec: 0.9904 | Recall: 0.9775 | F1: 0.9839 | ROC-AUC: 0.9967 || Test Loss: 0.2862 | Acc: 0.9256 | Prec: 0.9693 | Recall: 0.9499 | F1: 0.9595 | ROC-AUC: 0.9145\n",
      "Max val ROC-AUC: 0.9414\n",
      "Training with d_model=64, nhead=2, num_layers=4, dropout=0.3, lr=0.001\n"
     ]
    },
    {
     "data": {
      "application/vnd.jupyter.widget-view+json": {
       "model_id": "72366839d20448fdb5e8dd3a9a03fc52",
       "version_major": 2,
       "version_minor": 0
      },
      "text/plain": [
       "  0%|          | 0/10 [00:00<?, ?it/s]"
      ]
     },
     "metadata": {},
     "output_type": "display_data"
    },
    {
     "name": "stdout",
     "output_type": "stream",
     "text": [
      "Epoch: 10 | Train Loss: 0.0307 | Acc: 0.9902 | Prec: 0.9934 | Recall: 0.9855 | F1: 0.9894 | ROC-AUC: 0.9990 || Test Loss: 0.5119 | Acc: 0.9000 | Prec: 0.9837 | Recall: 0.9073 | F1: 0.9439 | ROC-AUC: 0.9553\n",
      "Max val ROC-AUC: 0.9553\n",
      "Training with d_model=64, nhead=2, num_layers=4, dropout=0.3, lr=0.001\n"
     ]
    },
    {
     "data": {
      "application/vnd.jupyter.widget-view+json": {
       "model_id": "eb4e13c8f23a4ab2903ffc532ac0a118",
       "version_major": 2,
       "version_minor": 0
      },
      "text/plain": [
       "  0%|          | 0/10 [00:00<?, ?it/s]"
      ]
     },
     "metadata": {},
     "output_type": "display_data"
    },
    {
     "name": "stdout",
     "output_type": "stream",
     "text": [
      "Epoch: 10 | Train Loss: 0.0287 | Acc: 0.9926 | Prec: 0.9934 | Recall: 0.9906 | F1: 0.9920 | ROC-AUC: 0.9987 || Test Loss: 0.5382 | Acc: 0.9023 | Prec: 0.9837 | Recall: 0.9098 | F1: 0.9453 | ROC-AUC: 0.9023\n",
      "Max val ROC-AUC: 0.9677\n",
      "Training with d_model=64, nhead=2, num_layers=4, dropout=0.3, lr=0.001\n"
     ]
    },
    {
     "data": {
      "application/vnd.jupyter.widget-view+json": {
       "model_id": "c7236634d72f466faa885d13f777a32a",
       "version_major": 2,
       "version_minor": 0
      },
      "text/plain": [
       "  0%|          | 0/10 [00:00<?, ?it/s]"
      ]
     },
     "metadata": {},
     "output_type": "display_data"
    },
    {
     "name": "stdout",
     "output_type": "stream",
     "text": [
      "Epoch: 10 | Train Loss: 0.0412 | Acc: 0.9889 | Prec: 0.9934 | Recall: 0.9826 | F1: 0.9880 | ROC-AUC: 0.9981 || Test Loss: 0.4646 | Acc: 0.9209 | Prec: 0.9765 | Recall: 0.9373 | F1: 0.9565 | ROC-AUC: 0.9126\n",
      "Max val ROC-AUC: 0.9348\n",
      "Training with d_model=64, nhead=2, num_layers=4, dropout=0.3, lr=0.001\n"
     ]
    },
    {
     "data": {
      "application/vnd.jupyter.widget-view+json": {
       "model_id": "ffe4e26a75c94abfa786e43cbfe39a9c",
       "version_major": 2,
       "version_minor": 0
      },
      "text/plain": [
       "  0%|          | 0/10 [00:00<?, ?it/s]"
      ]
     },
     "metadata": {},
     "output_type": "display_data"
    },
    {
     "name": "stdout",
     "output_type": "stream",
     "text": [
      "Epoch: 10 | Train Loss: 0.0391 | Acc: 0.9885 | Prec: 0.9934 | Recall: 0.9818 | F1: 0.9876 | ROC-AUC: 0.9982 || Test Loss: 0.2688 | Acc: 0.9488 | Prec: 0.9846 | Recall: 0.9599 | F1: 0.9721 | ROC-AUC: 0.9568\n",
      "Max val ROC-AUC: 0.9568\n",
      "Training with d_model=64, nhead=2, num_layers=4, dropout=0.3, lr=0.001\n"
     ]
    },
    {
     "data": {
      "application/vnd.jupyter.widget-view+json": {
       "model_id": "0678391c970e4391bf53eca1777d0c1d",
       "version_major": 2,
       "version_minor": 0
      },
      "text/plain": [
       "  0%|          | 0/10 [00:00<?, ?it/s]"
      ]
     },
     "metadata": {},
     "output_type": "display_data"
    },
    {
     "name": "stdout",
     "output_type": "stream",
     "text": [
      "Epoch: 10 | Train Loss: 0.0449 | Acc: 0.9875 | Prec: 0.9912 | Recall: 0.9818 | F1: 0.9865 | ROC-AUC: 0.9974 || Test Loss: 0.3914 | Acc: 0.9186 | Prec: 0.9840 | Recall: 0.9273 | F1: 0.9548 | ROC-AUC: 0.9403\n",
      "Max val ROC-AUC: 0.9605\n",
      "Training with d_model=64, nhead=2, num_layers=4, dropout=0.5, lr=0.1\n"
     ]
    },
    {
     "data": {
      "application/vnd.jupyter.widget-view+json": {
       "model_id": "b69c3ed93f8c444d92def77fe6f66e48",
       "version_major": 2,
       "version_minor": 0
      },
      "text/plain": [
       "  0%|          | 0/10 [00:00<?, ?it/s]"
      ]
     },
     "metadata": {},
     "output_type": "display_data"
    },
    {
     "name": "stdout",
     "output_type": "stream",
     "text": [
      "Epoch: 10 | Train Loss: 0.6916 | Acc: 0.5453 | Prec: 0.5228 | Recall: 0.2251 | F1: 0.3147 | ROC-AUC: 0.5146 || Test Loss: 0.8173 | Acc: 0.0721 | Prec: 0.0000 | Recall: 0.0000 | F1: 0.0000 | ROC-AUC: 0.5000\n",
      "Max val ROC-AUC: 0.5000\n",
      "Training with d_model=64, nhead=2, num_layers=4, dropout=0.5, lr=0.1\n"
     ]
    },
    {
     "data": {
      "application/vnd.jupyter.widget-view+json": {
       "model_id": "cf15fb514fa84b94b942f45cf53b25e3",
       "version_major": 2,
       "version_minor": 0
      },
      "text/plain": [
       "  0%|          | 0/10 [00:00<?, ?it/s]"
      ]
     },
     "metadata": {},
     "output_type": "display_data"
    },
    {
     "name": "stdout",
     "output_type": "stream",
     "text": [
      "Epoch: 10 | Train Loss: 0.7014 | Acc: 0.5224 | Prec: 0.4529 | Recall: 0.1431 | F1: 0.2174 | ROC-AUC: 0.4892 || Test Loss: 0.7397 | Acc: 0.0721 | Prec: 0.0000 | Recall: 0.0000 | F1: 0.0000 | ROC-AUC: 0.5000\n",
      "Max val ROC-AUC: 0.5000\n",
      "Training with d_model=64, nhead=2, num_layers=4, dropout=0.5, lr=0.1\n"
     ]
    },
    {
     "data": {
      "application/vnd.jupyter.widget-view+json": {
       "model_id": "68634b9d32af4a6383ac79c239ebdf49",
       "version_major": 2,
       "version_minor": 0
      },
      "text/plain": [
       "  0%|          | 0/10 [00:00<?, ?it/s]"
      ]
     },
     "metadata": {},
     "output_type": "display_data"
    },
    {
     "name": "stdout",
     "output_type": "stream",
     "text": [
      "Epoch: 10 | Train Loss: 0.7237 | Acc: 0.5349 | Prec: 0.4938 | Recall: 0.1147 | F1: 0.1862 | ROC-AUC: 0.5098 || Test Loss: 0.8602 | Acc: 0.0721 | Prec: 0.0000 | Recall: 0.0000 | F1: 0.0000 | ROC-AUC: 0.5000\n",
      "Max val ROC-AUC: 0.5002\n",
      "Training with d_model=64, nhead=2, num_layers=4, dropout=0.5, lr=0.1\n"
     ]
    },
    {
     "data": {
      "application/vnd.jupyter.widget-view+json": {
       "model_id": "620240dd1c05415facb6fed78a7be2a7",
       "version_major": 2,
       "version_minor": 0
      },
      "text/plain": [
       "  0%|          | 0/10 [00:00<?, ?it/s]"
      ]
     },
     "metadata": {},
     "output_type": "display_data"
    },
    {
     "name": "stdout",
     "output_type": "stream",
     "text": [
      "Epoch: 10 | Train Loss: 0.7560 | Acc: 0.5227 | Prec: 0.4623 | Recall: 0.1779 | F1: 0.2569 | ROC-AUC: 0.4916 || Test Loss: 0.8164 | Acc: 0.0721 | Prec: 0.0000 | Recall: 0.0000 | F1: 0.0000 | ROC-AUC: 0.5000\n",
      "Max val ROC-AUC: 0.6638\n",
      "Training with d_model=64, nhead=2, num_layers=4, dropout=0.5, lr=0.1\n"
     ]
    },
    {
     "data": {
      "application/vnd.jupyter.widget-view+json": {
       "model_id": "32f68f44d25c49f2860093f1f8e3f0d8",
       "version_major": 2,
       "version_minor": 0
      },
      "text/plain": [
       "  0%|          | 0/10 [00:00<?, ?it/s]"
      ]
     },
     "metadata": {},
     "output_type": "display_data"
    },
    {
     "name": "stdout",
     "output_type": "stream",
     "text": [
      "Epoch: 10 | Train Loss: 0.6967 | Acc: 0.5217 | Prec: 0.4512 | Recall: 0.1445 | F1: 0.2189 | ROC-AUC: 0.4863 || Test Loss: 0.6970 | Acc: 0.0721 | Prec: 0.0000 | Recall: 0.0000 | F1: 0.0000 | ROC-AUC: 0.5000\n",
      "Max val ROC-AUC: 0.5000\n",
      "Training with d_model=64, nhead=2, num_layers=4, dropout=0.5, lr=0.1\n"
     ]
    },
    {
     "data": {
      "application/vnd.jupyter.widget-view+json": {
       "model_id": "9b47e0ff655345fb88d82b9a668d181e",
       "version_major": 2,
       "version_minor": 0
      },
      "text/plain": [
       "  0%|          | 0/10 [00:00<?, ?it/s]"
      ]
     },
     "metadata": {},
     "output_type": "display_data"
    },
    {
     "name": "stdout",
     "output_type": "stream",
     "text": [
      "Epoch: 10 | Train Loss: 0.6939 | Acc: 0.5234 | Prec: 0.4340 | Recall: 0.0908 | F1: 0.1502 | ROC-AUC: 0.4825 || Test Loss: 0.7979 | Acc: 0.0721 | Prec: 0.0000 | Recall: 0.0000 | F1: 0.0000 | ROC-AUC: 0.5000\n",
      "Max val ROC-AUC: 0.6496\n",
      "Training with d_model=64, nhead=2, num_layers=4, dropout=0.5, lr=0.1\n"
     ]
    },
    {
     "data": {
      "application/vnd.jupyter.widget-view+json": {
       "model_id": "2b102b86b6f442b88d65e32f7f8ffe73",
       "version_major": 2,
       "version_minor": 0
      },
      "text/plain": [
       "  0%|          | 0/10 [00:00<?, ?it/s]"
      ]
     },
     "metadata": {},
     "output_type": "display_data"
    },
    {
     "name": "stdout",
     "output_type": "stream",
     "text": [
      "Epoch: 10 | Train Loss: 0.6976 | Acc: 0.5211 | Prec: 0.4450 | Recall: 0.1322 | F1: 0.2038 | ROC-AUC: 0.5040 || Test Loss: 0.6397 | Acc: 0.9279 | Prec: 0.9279 | Recall: 1.0000 | F1: 0.9626 | ROC-AUC: 0.5000\n",
      "Max val ROC-AUC: 0.5000\n",
      "Training with d_model=64, nhead=2, num_layers=4, dropout=0.5, lr=0.1\n"
     ]
    },
    {
     "data": {
      "application/vnd.jupyter.widget-view+json": {
       "model_id": "e97b2477734d48d48c6b56498d8581d8",
       "version_major": 2,
       "version_minor": 0
      },
      "text/plain": [
       "  0%|          | 0/10 [00:00<?, ?it/s]"
      ]
     },
     "metadata": {},
     "output_type": "display_data"
    },
    {
     "name": "stdout",
     "output_type": "stream",
     "text": [
      "Epoch: 10 | Train Loss: 0.6954 | Acc: 0.5254 | Prec: 0.4677 | Recall: 0.1685 | F1: 0.2477 | ROC-AUC: 0.4899 || Test Loss: 0.7558 | Acc: 0.0721 | Prec: 0.0000 | Recall: 0.0000 | F1: 0.0000 | ROC-AUC: 0.5000\n",
      "Max val ROC-AUC: 0.5715\n",
      "Training with d_model=64, nhead=2, num_layers=4, dropout=0.5, lr=0.1\n"
     ]
    },
    {
     "data": {
      "application/vnd.jupyter.widget-view+json": {
       "model_id": "ce6e4b2a6e5c4efbafed257086de5073",
       "version_major": 2,
       "version_minor": 0
      },
      "text/plain": [
       "  0%|          | 0/10 [00:00<?, ?it/s]"
      ]
     },
     "metadata": {},
     "output_type": "display_data"
    },
    {
     "name": "stdout",
     "output_type": "stream",
     "text": [
      "Epoch: 10 | Train Loss: 0.7120 | Acc: 0.5133 | Prec: 0.4469 | Recall: 0.2077 | F1: 0.2836 | ROC-AUC: 0.4920 || Test Loss: 0.7201 | Acc: 0.0721 | Prec: 0.0000 | Recall: 0.0000 | F1: 0.0000 | ROC-AUC: 0.5000\n",
      "Max val ROC-AUC: 0.5013\n",
      "Training with d_model=64, nhead=2, num_layers=4, dropout=0.5, lr=0.1\n"
     ]
    },
    {
     "data": {
      "application/vnd.jupyter.widget-view+json": {
       "model_id": "3c6ba4987f7846eb9ff4fb32746373ef",
       "version_major": 2,
       "version_minor": 0
      },
      "text/plain": [
       "  0%|          | 0/10 [00:00<?, ?it/s]"
      ]
     },
     "metadata": {},
     "output_type": "display_data"
    },
    {
     "name": "stdout",
     "output_type": "stream",
     "text": [
      "Epoch: 10 | Train Loss: 0.7008 | Acc: 0.5231 | Prec: 0.4657 | Recall: 0.1924 | F1: 0.2724 | ROC-AUC: 0.5023 || Test Loss: 0.6204 | Acc: 0.9279 | Prec: 0.9279 | Recall: 1.0000 | F1: 0.9626 | ROC-AUC: 0.5000\n",
      "Max val ROC-AUC: 0.5000\n",
      "Training with d_model=64, nhead=2, num_layers=4, dropout=0.5, lr=0.01\n"
     ]
    },
    {
     "data": {
      "application/vnd.jupyter.widget-view+json": {
       "model_id": "372750a8993e4aab827fbac9593f4854",
       "version_major": 2,
       "version_minor": 0
      },
      "text/plain": [
       "  0%|          | 0/10 [00:00<?, ?it/s]"
      ]
     },
     "metadata": {},
     "output_type": "display_data"
    },
    {
     "name": "stdout",
     "output_type": "stream",
     "text": [
      "Epoch: 10 | Train Loss: 0.1849 | Acc: 0.9353 | Prec: 0.9568 | Recall: 0.9012 | F1: 0.9282 | ROC-AUC: 0.9772 || Test Loss: 0.3155 | Acc: 0.9302 | Prec: 0.9843 | Recall: 0.9398 | F1: 0.9615 | ROC-AUC: 0.8889\n",
      "Max val ROC-AUC: 0.9593\n",
      "Training with d_model=64, nhead=2, num_layers=4, dropout=0.5, lr=0.01\n"
     ]
    },
    {
     "data": {
      "application/vnd.jupyter.widget-view+json": {
       "model_id": "3d2ee7c59b28442680210cc37ed392d2",
       "version_major": 2,
       "version_minor": 0
      },
      "text/plain": [
       "  0%|          | 0/10 [00:00<?, ?it/s]"
      ]
     },
     "metadata": {},
     "output_type": "display_data"
    },
    {
     "name": "stdout",
     "output_type": "stream",
     "text": [
      "Epoch: 10 | Train Loss: 0.1418 | Acc: 0.9549 | Prec: 0.9770 | Recall: 0.9245 | F1: 0.9500 | ROC-AUC: 0.9832 || Test Loss: 0.6230 | Acc: 0.8488 | Prec: 0.9855 | Recall: 0.8496 | F1: 0.9125 | ROC-AUC: 0.9291\n",
      "Max val ROC-AUC: 0.9597\n",
      "Training with d_model=64, nhead=2, num_layers=4, dropout=0.5, lr=0.01\n"
     ]
    },
    {
     "data": {
      "application/vnd.jupyter.widget-view+json": {
       "model_id": "fafe012a4d654ea7b3a036e0563877b0",
       "version_major": 2,
       "version_minor": 0
      },
      "text/plain": [
       "  0%|          | 0/10 [00:00<?, ?it/s]"
      ]
     },
     "metadata": {},
     "output_type": "display_data"
    },
    {
     "name": "stdout",
     "output_type": "stream",
     "text": [
      "Epoch: 10 | Train Loss: 0.1712 | Acc: 0.9508 | Prec: 0.9760 | Recall: 0.9165 | F1: 0.9453 | ROC-AUC: 0.9770 || Test Loss: 0.3886 | Acc: 0.8814 | Prec: 0.9860 | Recall: 0.8847 | F1: 0.9326 | ROC-AUC: 0.9100\n",
      "Max val ROC-AUC: 0.9423\n",
      "Training with d_model=64, nhead=2, num_layers=4, dropout=0.5, lr=0.01\n"
     ]
    },
    {
     "data": {
      "application/vnd.jupyter.widget-view+json": {
       "model_id": "85df41de8fca4331bac1a93ae8844f33",
       "version_major": 2,
       "version_minor": 0
      },
      "text/plain": [
       "  0%|          | 0/10 [00:00<?, ?it/s]"
      ]
     },
     "metadata": {},
     "output_type": "display_data"
    },
    {
     "name": "stdout",
     "output_type": "stream",
     "text": [
      "Epoch: 10 | Train Loss: 0.1571 | Acc: 0.9572 | Prec: 0.9800 | Recall: 0.9267 | F1: 0.9526 | ROC-AUC: 0.9813 || Test Loss: 0.3189 | Acc: 0.9186 | Prec: 0.9892 | Recall: 0.9223 | F1: 0.9546 | ROC-AUC: 0.9434\n",
      "Max val ROC-AUC: 0.9572\n",
      "Training with d_model=64, nhead=2, num_layers=4, dropout=0.5, lr=0.01\n"
     ]
    },
    {
     "data": {
      "application/vnd.jupyter.widget-view+json": {
       "model_id": "a3d81bb9d16c43e19c95bb5168f1c9f5",
       "version_major": 2,
       "version_minor": 0
      },
      "text/plain": [
       "  0%|          | 0/10 [00:00<?, ?it/s]"
      ]
     },
     "metadata": {},
     "output_type": "display_data"
    },
    {
     "name": "stdout",
     "output_type": "stream",
     "text": [
      "Epoch: 10 | Train Loss: 0.1623 | Acc: 0.9491 | Prec: 0.9701 | Recall: 0.9187 | F1: 0.9437 | ROC-AUC: 0.9799 || Test Loss: 0.3195 | Acc: 0.8674 | Prec: 0.9914 | Recall: 0.8647 | F1: 0.9237 | ROC-AUC: 0.9580\n",
      "Max val ROC-AUC: 0.9580\n",
      "Training with d_model=64, nhead=2, num_layers=4, dropout=0.5, lr=0.01\n"
     ]
    },
    {
     "data": {
      "application/vnd.jupyter.widget-view+json": {
       "model_id": "2911e1e0b59848009439e45beeb1489e",
       "version_major": 2,
       "version_minor": 0
      },
      "text/plain": [
       "  0%|          | 0/10 [00:00<?, ?it/s]"
      ]
     },
     "metadata": {},
     "output_type": "display_data"
    },
    {
     "name": "stdout",
     "output_type": "stream",
     "text": [
      "Epoch: 10 | Train Loss: 0.1533 | Acc: 0.9518 | Prec: 0.9724 | Recall: 0.9223 | F1: 0.9467 | ROC-AUC: 0.9819 || Test Loss: 0.5962 | Acc: 0.8326 | Prec: 0.9910 | Recall: 0.8271 | F1: 0.9016 | ROC-AUC: 0.9473\n",
      "Max val ROC-AUC: 0.9513\n",
      "Training with d_model=64, nhead=2, num_layers=4, dropout=0.5, lr=0.01\n"
     ]
    },
    {
     "data": {
      "application/vnd.jupyter.widget-view+json": {
       "model_id": "41886f1465514ecd8f0e811cb771913d",
       "version_major": 2,
       "version_minor": 0
      },
      "text/plain": [
       "  0%|          | 0/10 [00:00<?, ?it/s]"
      ]
     },
     "metadata": {},
     "output_type": "display_data"
    },
    {
     "name": "stdout",
     "output_type": "stream",
     "text": [
      "Epoch: 10 | Train Loss: 0.1490 | Acc: 0.9562 | Prec: 0.9763 | Recall: 0.9281 | F1: 0.9516 | ROC-AUC: 0.9815 || Test Loss: 0.3387 | Acc: 0.8860 | Prec: 0.9888 | Recall: 0.8872 | F1: 0.9353 | ROC-AUC: 0.9635\n",
      "Max val ROC-AUC: 0.9635\n",
      "Training with d_model=64, nhead=2, num_layers=4, dropout=0.5, lr=0.01\n"
     ]
    },
    {
     "data": {
      "application/vnd.jupyter.widget-view+json": {
       "model_id": "a4dd6a4dca1a40e5998c0a37ed8b6518",
       "version_major": 2,
       "version_minor": 0
      },
      "text/plain": [
       "  0%|          | 0/10 [00:00<?, ?it/s]"
      ]
     },
     "metadata": {},
     "output_type": "display_data"
    },
    {
     "name": "stdout",
     "output_type": "stream",
     "text": [
      "Epoch: 10 | Train Loss: 0.1725 | Acc: 0.9498 | Prec: 0.9738 | Recall: 0.9165 | F1: 0.9443 | ROC-AUC: 0.9774 || Test Loss: 0.4733 | Acc: 0.8767 | Prec: 0.9832 | Recall: 0.8822 | F1: 0.9300 | ROC-AUC: 0.9239\n",
      "Max val ROC-AUC: 0.9496\n",
      "Training with d_model=64, nhead=2, num_layers=4, dropout=0.5, lr=0.01\n"
     ]
    },
    {
     "data": {
      "application/vnd.jupyter.widget-view+json": {
       "model_id": "0dcc2fb640c746b682de2b32cf9cd8fe",
       "version_major": 2,
       "version_minor": 0
      },
      "text/plain": [
       "  0%|          | 0/10 [00:00<?, ?it/s]"
      ]
     },
     "metadata": {},
     "output_type": "display_data"
    },
    {
     "name": "stdout",
     "output_type": "stream",
     "text": [
      "Epoch: 10 | Train Loss: 0.1562 | Acc: 0.9566 | Prec: 0.9629 | Recall: 0.9426 | F1: 0.9527 | ROC-AUC: 0.9840 || Test Loss: 0.4361 | Acc: 0.9140 | Prec: 0.9866 | Recall: 0.9198 | F1: 0.9520 | ROC-AUC: 0.9273\n",
      "Max val ROC-AUC: 0.9550\n",
      "Training with d_model=64, nhead=2, num_layers=4, dropout=0.5, lr=0.01\n"
     ]
    },
    {
     "data": {
      "application/vnd.jupyter.widget-view+json": {
       "model_id": "211215d66636401e8e32e6ca291b716a",
       "version_major": 2,
       "version_minor": 0
      },
      "text/plain": [
       "  0%|          | 0/10 [00:00<?, ?it/s]"
      ]
     },
     "metadata": {},
     "output_type": "display_data"
    },
    {
     "name": "stdout",
     "output_type": "stream",
     "text": [
      "Epoch: 10 | Train Loss: 0.1669 | Acc: 0.9478 | Prec: 0.9629 | Recall: 0.9230 | F1: 0.9425 | ROC-AUC: 0.9809 || Test Loss: 0.3802 | Acc: 0.8744 | Prec: 0.9943 | Recall: 0.8697 | F1: 0.9278 | ROC-AUC: 0.9481\n",
      "Max val ROC-AUC: 0.9512\n",
      "Training with d_model=64, nhead=2, num_layers=4, dropout=0.5, lr=0.001\n"
     ]
    },
    {
     "data": {
      "application/vnd.jupyter.widget-view+json": {
       "model_id": "bbe35d31f1654eec8e7cbf060d51e784",
       "version_major": 2,
       "version_minor": 0
      },
      "text/plain": [
       "  0%|          | 0/10 [00:00<?, ?it/s]"
      ]
     },
     "metadata": {},
     "output_type": "display_data"
    },
    {
     "name": "stdout",
     "output_type": "stream",
     "text": [
      "Epoch: 10 | Train Loss: 0.0746 | Acc: 0.9791 | Prec: 0.9896 | Recall: 0.9651 | F1: 0.9772 | ROC-AUC: 0.9946 || Test Loss: 0.4853 | Acc: 0.9163 | Prec: 0.9840 | Recall: 0.9248 | F1: 0.9535 | ROC-AUC: 0.9346\n",
      "Max val ROC-AUC: 0.9413\n",
      "Training with d_model=64, nhead=2, num_layers=4, dropout=0.5, lr=0.001\n"
     ]
    },
    {
     "data": {
      "application/vnd.jupyter.widget-view+json": {
       "model_id": "971cd02ce93e4d309bb330def711f8a9",
       "version_major": 2,
       "version_minor": 0
      },
      "text/plain": [
       "  0%|          | 0/10 [00:00<?, ?it/s]"
      ]
     },
     "metadata": {},
     "output_type": "display_data"
    },
    {
     "name": "stdout",
     "output_type": "stream",
     "text": [
      "Epoch: 10 | Train Loss: 0.0655 | Acc: 0.9808 | Prec: 0.9889 | Recall: 0.9695 | F1: 0.9791 | ROC-AUC: 0.9961 || Test Loss: 0.4336 | Acc: 0.9163 | Prec: 0.9764 | Recall: 0.9323 | F1: 0.9538 | ROC-AUC: 0.9018\n",
      "Max val ROC-AUC: 0.9420\n",
      "Training with d_model=64, nhead=2, num_layers=4, dropout=0.5, lr=0.001\n"
     ]
    },
    {
     "data": {
      "application/vnd.jupyter.widget-view+json": {
       "model_id": "949cbd8d6e6e414fb361b6245690c70d",
       "version_major": 2,
       "version_minor": 0
      },
      "text/plain": [
       "  0%|          | 0/10 [00:00<?, ?it/s]"
      ]
     },
     "metadata": {},
     "output_type": "display_data"
    },
    {
     "name": "stdout",
     "output_type": "stream",
     "text": [
      "Epoch: 10 | Train Loss: 0.0766 | Acc: 0.9798 | Prec: 0.9903 | Recall: 0.9659 | F1: 0.9779 | ROC-AUC: 0.9943 || Test Loss: 0.4637 | Acc: 0.9116 | Prec: 0.9738 | Recall: 0.9298 | F1: 0.9513 | ROC-AUC: 0.9146\n",
      "Max val ROC-AUC: 0.9490\n",
      "Training with d_model=64, nhead=2, num_layers=4, dropout=0.5, lr=0.001\n"
     ]
    },
    {
     "data": {
      "application/vnd.jupyter.widget-view+json": {
       "model_id": "d387f4ecaef8420f904420d30b06f513",
       "version_major": 2,
       "version_minor": 0
      },
      "text/plain": [
       "  0%|          | 0/10 [00:00<?, ?it/s]"
      ]
     },
     "metadata": {},
     "output_type": "display_data"
    },
    {
     "name": "stdout",
     "output_type": "stream",
     "text": [
      "Epoch: 10 | Train Loss: 0.0634 | Acc: 0.9828 | Prec: 0.9897 | Recall: 0.9731 | F1: 0.9813 | ROC-AUC: 0.9959 || Test Loss: 0.5187 | Acc: 0.9093 | Prec: 0.9787 | Recall: 0.9223 | F1: 0.9497 | ROC-AUC: 0.9179\n",
      "Max val ROC-AUC: 0.9555\n",
      "Training with d_model=64, nhead=2, num_layers=4, dropout=0.5, lr=0.001\n"
     ]
    },
    {
     "data": {
      "application/vnd.jupyter.widget-view+json": {
       "model_id": "932e9f0233ff472d98545572b7d0c2f4",
       "version_major": 2,
       "version_minor": 0
      },
      "text/plain": [
       "  0%|          | 0/10 [00:00<?, ?it/s]"
      ]
     },
     "metadata": {},
     "output_type": "display_data"
    },
    {
     "name": "stdout",
     "output_type": "stream",
     "text": [
      "Epoch: 10 | Train Loss: 0.0679 | Acc: 0.9798 | Prec: 0.9874 | Recall: 0.9688 | F1: 0.9780 | ROC-AUC: 0.9957 || Test Loss: 0.6361 | Acc: 0.8465 | Prec: 0.9854 | Recall: 0.8471 | F1: 0.9111 | ROC-AUC: 0.9369\n",
      "Max val ROC-AUC: 0.9466\n",
      "Training with d_model=64, nhead=2, num_layers=4, dropout=0.5, lr=0.001\n"
     ]
    },
    {
     "data": {
      "application/vnd.jupyter.widget-view+json": {
       "model_id": "8e18bd7db1f440d8beb3a4b30bd35177",
       "version_major": 2,
       "version_minor": 0
      },
      "text/plain": [
       "  0%|          | 0/10 [00:00<?, ?it/s]"
      ]
     },
     "metadata": {},
     "output_type": "display_data"
    },
    {
     "name": "stdout",
     "output_type": "stream",
     "text": [
      "Epoch: 10 | Train Loss: 0.0917 | Acc: 0.9731 | Prec: 0.9917 | Recall: 0.9499 | F1: 0.9703 | ROC-AUC: 0.9927 || Test Loss: 0.4836 | Acc: 0.9140 | Prec: 0.9814 | Recall: 0.9248 | F1: 0.9523 | ROC-AUC: 0.9428\n",
      "Max val ROC-AUC: 0.9518\n",
      "Training with d_model=64, nhead=2, num_layers=4, dropout=0.5, lr=0.001\n"
     ]
    },
    {
     "data": {
      "application/vnd.jupyter.widget-view+json": {
       "model_id": "3e3e98c410ba402abb605e0537455e8b",
       "version_major": 2,
       "version_minor": 0
      },
      "text/plain": [
       "  0%|          | 0/10 [00:00<?, ?it/s]"
      ]
     },
     "metadata": {},
     "output_type": "display_data"
    },
    {
     "name": "stdout",
     "output_type": "stream",
     "text": [
      "Epoch: 10 | Train Loss: 0.0857 | Acc: 0.9764 | Prec: 0.9881 | Recall: 0.9608 | F1: 0.9742 | ROC-AUC: 0.9936 || Test Loss: 0.6565 | Acc: 0.8395 | Prec: 0.9797 | Recall: 0.8446 | F1: 0.9071 | ROC-AUC: 0.9112\n",
      "Max val ROC-AUC: 0.9432\n",
      "Training with d_model=64, nhead=2, num_layers=4, dropout=0.5, lr=0.001\n"
     ]
    },
    {
     "data": {
      "application/vnd.jupyter.widget-view+json": {
       "model_id": "8ea6fd7504b2437aa4f0ae3b06299006",
       "version_major": 2,
       "version_minor": 0
      },
      "text/plain": [
       "  0%|          | 0/10 [00:00<?, ?it/s]"
      ]
     },
     "metadata": {},
     "output_type": "display_data"
    },
    {
     "name": "stdout",
     "output_type": "stream",
     "text": [
      "Epoch: 10 | Train Loss: 0.0666 | Acc: 0.9838 | Prec: 0.9911 | Recall: 0.9739 | F1: 0.9824 | ROC-AUC: 0.9951 || Test Loss: 0.4411 | Acc: 0.9233 | Prec: 0.9841 | Recall: 0.9323 | F1: 0.9575 | ROC-AUC: 0.9366\n",
      "Max val ROC-AUC: 0.9366\n",
      "Training with d_model=64, nhead=2, num_layers=4, dropout=0.5, lr=0.001\n"
     ]
    },
    {
     "data": {
      "application/vnd.jupyter.widget-view+json": {
       "model_id": "fc927f518b364b84af92e718376e71db",
       "version_major": 2,
       "version_minor": 0
      },
      "text/plain": [
       "  0%|          | 0/10 [00:00<?, ?it/s]"
      ]
     },
     "metadata": {},
     "output_type": "display_data"
    },
    {
     "name": "stdout",
     "output_type": "stream",
     "text": [
      "Epoch: 10 | Train Loss: 0.0537 | Acc: 0.9845 | Prec: 0.9904 | Recall: 0.9760 | F1: 0.9832 | ROC-AUC: 0.9970 || Test Loss: 0.5166 | Acc: 0.9047 | Prec: 0.9812 | Recall: 0.9148 | F1: 0.9468 | ROC-AUC: 0.9429\n",
      "Max val ROC-AUC: 0.9643\n",
      "Training with d_model=64, nhead=2, num_layers=4, dropout=0.5, lr=0.001\n"
     ]
    },
    {
     "data": {
      "application/vnd.jupyter.widget-view+json": {
       "model_id": "f98b8d1e216a42378141da4b3a14f3e2",
       "version_major": 2,
       "version_minor": 0
      },
      "text/plain": [
       "  0%|          | 0/10 [00:00<?, ?it/s]"
      ]
     },
     "metadata": {},
     "output_type": "display_data"
    },
    {
     "name": "stdout",
     "output_type": "stream",
     "text": [
      "Epoch: 10 | Train Loss: 0.0656 | Acc: 0.9811 | Prec: 0.9925 | Recall: 0.9666 | F1: 0.9794 | ROC-AUC: 0.9967 || Test Loss: 0.4588 | Acc: 0.9233 | Prec: 0.9791 | Recall: 0.9373 | F1: 0.9577 | ROC-AUC: 0.9242\n",
      "Max val ROC-AUC: 0.9310\n",
      "Training with d_model=64, nhead=2, num_layers=6, dropout=0.0, lr=0.1\n"
     ]
    },
    {
     "data": {
      "application/vnd.jupyter.widget-view+json": {
       "model_id": "7f96b79110a446558251174991b4eebf",
       "version_major": 2,
       "version_minor": 0
      },
      "text/plain": [
       "  0%|          | 0/10 [00:00<?, ?it/s]"
      ]
     },
     "metadata": {},
     "output_type": "display_data"
    },
    {
     "name": "stdout",
     "output_type": "stream",
     "text": [
      "Epoch: 10 | Train Loss: 0.3048 | Acc: 0.9054 | Prec: 0.9145 | Recall: 0.8780 | F1: 0.8959 | ROC-AUC: 0.9327 || Test Loss: 0.4140 | Acc: 0.8791 | Prec: 0.9833 | Recall: 0.8847 | F1: 0.9314 | ROC-AUC: 0.9075\n",
      "Max val ROC-AUC: 0.9269\n",
      "Training with d_model=64, nhead=2, num_layers=6, dropout=0.0, lr=0.1\n"
     ]
    },
    {
     "data": {
      "application/vnd.jupyter.widget-view+json": {
       "model_id": "9a0387080287453bb198ebf3dcc265c2",
       "version_major": 2,
       "version_minor": 0
      },
      "text/plain": [
       "  0%|          | 0/10 [00:00<?, ?it/s]"
      ]
     },
     "metadata": {},
     "output_type": "display_data"
    },
    {
     "name": "stdout",
     "output_type": "stream",
     "text": [
      "Epoch: 10 | Train Loss: 0.1583 | Acc: 0.9505 | Prec: 0.9569 | Recall: 0.9354 | F1: 0.9460 | ROC-AUC: 0.9825 || Test Loss: 0.4704 | Acc: 0.8488 | Prec: 0.9883 | Recall: 0.8471 | F1: 0.9123 | ROC-AUC: 0.9306\n",
      "Max val ROC-AUC: 0.9622\n",
      "Training with d_model=64, nhead=2, num_layers=6, dropout=0.0, lr=0.1\n"
     ]
    },
    {
     "data": {
      "application/vnd.jupyter.widget-view+json": {
       "model_id": "36db1e316f2b4d09be3713ea92d042cf",
       "version_major": 2,
       "version_minor": 0
      },
      "text/plain": [
       "  0%|          | 0/10 [00:00<?, ?it/s]"
      ]
     },
     "metadata": {},
     "output_type": "display_data"
    },
    {
     "name": "stdout",
     "output_type": "stream",
     "text": [
      "Epoch: 10 | Train Loss: 0.3745 | Acc: 0.8020 | Prec: 0.7986 | Recall: 0.7662 | F1: 0.7821 | ROC-AUC: 0.9084 || Test Loss: 0.5875 | Acc: 0.7581 | Prec: 1.0000 | Recall: 0.7393 | F1: 0.8501 | ROC-AUC: 0.9029\n",
      "Max val ROC-AUC: 0.9601\n",
      "Training with d_model=64, nhead=2, num_layers=6, dropout=0.0, lr=0.1\n"
     ]
    },
    {
     "data": {
      "application/vnd.jupyter.widget-view+json": {
       "model_id": "6e2f561385f844499aa7247729a05dbe",
       "version_major": 2,
       "version_minor": 0
      },
      "text/plain": [
       "  0%|          | 0/10 [00:00<?, ?it/s]"
      ]
     },
     "metadata": {},
     "output_type": "display_data"
    },
    {
     "name": "stdout",
     "output_type": "stream",
     "text": [
      "Epoch: 10 | Train Loss: 0.2361 | Acc: 0.9188 | Prec: 0.9271 | Recall: 0.8954 | F1: 0.9110 | ROC-AUC: 0.9696 || Test Loss: 0.6399 | Acc: 0.7581 | Prec: 0.9900 | Recall: 0.7469 | F1: 0.8514 | ROC-AUC: 0.9202\n",
      "Max val ROC-AUC: 0.9374\n",
      "Training with d_model=64, nhead=2, num_layers=6, dropout=0.0, lr=0.1\n"
     ]
    },
    {
     "data": {
      "application/vnd.jupyter.widget-view+json": {
       "model_id": "65010cf950d346489c77ce379a1e067b",
       "version_major": 2,
       "version_minor": 0
      },
      "text/plain": [
       "  0%|          | 0/10 [00:00<?, ?it/s]"
      ]
     },
     "metadata": {},
     "output_type": "display_data"
    },
    {
     "name": "stdout",
     "output_type": "stream",
     "text": [
      "Epoch: 10 | Train Loss: 0.1211 | Acc: 0.9613 | Prec: 0.9688 | Recall: 0.9470 | F1: 0.9578 | ROC-AUC: 0.9882 || Test Loss: 0.2376 | Acc: 0.9326 | Prec: 0.9868 | Recall: 0.9398 | F1: 0.9628 | ROC-AUC: 0.9566\n",
      "Max val ROC-AUC: 0.9736\n",
      "Training with d_model=64, nhead=2, num_layers=6, dropout=0.0, lr=0.1\n"
     ]
    },
    {
     "data": {
      "application/vnd.jupyter.widget-view+json": {
       "model_id": "a129e299a4414f99b1634e641c435c91",
       "version_major": 2,
       "version_minor": 0
      },
      "text/plain": [
       "  0%|          | 0/10 [00:00<?, ?it/s]"
      ]
     },
     "metadata": {},
     "output_type": "display_data"
    },
    {
     "name": "stdout",
     "output_type": "stream",
     "text": [
      "Epoch: 10 | Train Loss: 0.1505 | Acc: 0.9532 | Prec: 0.9626 | Recall: 0.9354 | F1: 0.9488 | ROC-AUC: 0.9788 || Test Loss: 0.4315 | Acc: 0.8651 | Prec: 0.9885 | Recall: 0.8647 | F1: 0.9225 | ROC-AUC: 0.9268\n",
      "Max val ROC-AUC: 0.9605\n",
      "Training with d_model=64, nhead=2, num_layers=6, dropout=0.0, lr=0.1\n"
     ]
    },
    {
     "data": {
      "application/vnd.jupyter.widget-view+json": {
       "model_id": "31f2929619f94c68bb674b0149b68885",
       "version_major": 2,
       "version_minor": 0
      },
      "text/plain": [
       "  0%|          | 0/10 [00:00<?, ?it/s]"
      ]
     },
     "metadata": {},
     "output_type": "display_data"
    },
    {
     "name": "stdout",
     "output_type": "stream",
     "text": [
      "Epoch: 10 | Train Loss: 0.1987 | Acc: 0.9400 | Prec: 0.9709 | Recall: 0.8976 | F1: 0.9328 | ROC-AUC: 0.9594 || Test Loss: 0.2454 | Acc: 0.9233 | Prec: 0.9766 | Recall: 0.9398 | F1: 0.9579 | ROC-AUC: 0.9224\n",
      "Max val ROC-AUC: 0.9399\n",
      "Training with d_model=64, nhead=2, num_layers=6, dropout=0.0, lr=0.1\n"
     ]
    },
    {
     "data": {
      "application/vnd.jupyter.widget-view+json": {
       "model_id": "6ab4732581234b8688107706262c1815",
       "version_major": 2,
       "version_minor": 0
      },
      "text/plain": [
       "  0%|          | 0/10 [00:00<?, ?it/s]"
      ]
     },
     "metadata": {},
     "output_type": "display_data"
    },
    {
     "name": "stdout",
     "output_type": "stream",
     "text": [
      "Epoch: 10 | Train Loss: 0.1552 | Acc: 0.9562 | Prec: 0.9792 | Recall: 0.9252 | F1: 0.9515 | ROC-AUC: 0.9658 || Test Loss: 0.3756 | Acc: 0.8767 | Prec: 0.9806 | Recall: 0.8847 | F1: 0.9302 | ROC-AUC: 0.9053\n",
      "Max val ROC-AUC: 0.9322\n",
      "Training with d_model=64, nhead=2, num_layers=6, dropout=0.0, lr=0.1\n"
     ]
    },
    {
     "data": {
      "application/vnd.jupyter.widget-view+json": {
       "model_id": "2e1f536d95e648ec80545a83b726358f",
       "version_major": 2,
       "version_minor": 0
      },
      "text/plain": [
       "  0%|          | 0/10 [00:00<?, ?it/s]"
      ]
     },
     "metadata": {},
     "output_type": "display_data"
    },
    {
     "name": "stdout",
     "output_type": "stream",
     "text": [
      "Epoch: 10 | Train Loss: 0.1795 | Acc: 0.9485 | Prec: 0.9650 | Recall: 0.9223 | F1: 0.9432 | ROC-AUC: 0.9638 || Test Loss: 0.6479 | Acc: 0.7837 | Prec: 0.9904 | Recall: 0.7744 | F1: 0.8692 | ROC-AUC: 0.8959\n",
      "Max val ROC-AUC: 0.9542\n",
      "Training with d_model=64, nhead=2, num_layers=6, dropout=0.0, lr=0.1\n"
     ]
    },
    {
     "data": {
      "application/vnd.jupyter.widget-view+json": {
       "model_id": "c741f16e776f4da5809395cf1daf9eec",
       "version_major": 2,
       "version_minor": 0
      },
      "text/plain": [
       "  0%|          | 0/10 [00:00<?, ?it/s]"
      ]
     },
     "metadata": {},
     "output_type": "display_data"
    },
    {
     "name": "stdout",
     "output_type": "stream",
     "text": [
      "Epoch: 10 | Train Loss: 0.2857 | Acc: 0.9131 | Prec: 0.9472 | Recall: 0.8606 | F1: 0.9018 | ROC-AUC: 0.9274 || Test Loss: 0.4554 | Acc: 0.8419 | Prec: 0.9853 | Recall: 0.8421 | F1: 0.9081 | ROC-AUC: 0.8432\n",
      "Max val ROC-AUC: 0.9563\n",
      "Training with d_model=64, nhead=2, num_layers=6, dropout=0.0, lr=0.01\n"
     ]
    },
    {
     "data": {
      "application/vnd.jupyter.widget-view+json": {
       "model_id": "e2282c9c6de041baa3befc368cb91ab0",
       "version_major": 2,
       "version_minor": 0
      },
      "text/plain": [
       "  0%|          | 0/10 [00:00<?, ?it/s]"
      ]
     },
     "metadata": {},
     "output_type": "display_data"
    },
    {
     "name": "stdout",
     "output_type": "stream",
     "text": [
      "Epoch: 10 | Train Loss: 0.0511 | Acc: 0.9818 | Prec: 0.9868 | Recall: 0.9739 | F1: 0.9803 | ROC-AUC: 0.9976 || Test Loss: 0.2355 | Acc: 0.9372 | Prec: 0.9769 | Recall: 0.9549 | F1: 0.9658 | ROC-AUC: 0.9497\n",
      "Max val ROC-AUC: 0.9610\n",
      "Training with d_model=64, nhead=2, num_layers=6, dropout=0.0, lr=0.01\n"
     ]
    },
    {
     "data": {
      "application/vnd.jupyter.widget-view+json": {
       "model_id": "e3ee11caa1334a37a256d09c4ae5a609",
       "version_major": 2,
       "version_minor": 0
      },
      "text/plain": [
       "  0%|          | 0/10 [00:00<?, ?it/s]"
      ]
     },
     "metadata": {},
     "output_type": "display_data"
    },
    {
     "name": "stdout",
     "output_type": "stream",
     "text": [
      "Epoch: 10 | Train Loss: 0.0570 | Acc: 0.9784 | Prec: 0.9782 | Recall: 0.9753 | F1: 0.9767 | ROC-AUC: 0.9976 || Test Loss: 0.3735 | Acc: 0.9093 | Prec: 0.9891 | Recall: 0.9123 | F1: 0.9492 | ROC-AUC: 0.9735\n",
      "Max val ROC-AUC: 0.9755\n",
      "Training with d_model=64, nhead=2, num_layers=6, dropout=0.0, lr=0.01\n"
     ]
    },
    {
     "data": {
      "application/vnd.jupyter.widget-view+json": {
       "model_id": "ba68444b625342fe8515b0fe6c6607da",
       "version_major": 2,
       "version_minor": 0
      },
      "text/plain": [
       "  0%|          | 0/10 [00:00<?, ?it/s]"
      ]
     },
     "metadata": {},
     "output_type": "display_data"
    },
    {
     "name": "stdout",
     "output_type": "stream",
     "text": [
      "Epoch: 10 | Train Loss: 0.0698 | Acc: 0.9791 | Prec: 0.9810 | Recall: 0.9739 | F1: 0.9774 | ROC-AUC: 0.9957 || Test Loss: 0.2582 | Acc: 0.9372 | Prec: 0.9921 | Recall: 0.9398 | F1: 0.9653 | ROC-AUC: 0.9725\n",
      "Max val ROC-AUC: 0.9725\n",
      "Training with d_model=64, nhead=2, num_layers=6, dropout=0.0, lr=0.01\n"
     ]
    },
    {
     "data": {
      "application/vnd.jupyter.widget-view+json": {
       "model_id": "4728c2ac3b424b1089e75088f40f93c3",
       "version_major": 2,
       "version_minor": 0
      },
      "text/plain": [
       "  0%|          | 0/10 [00:00<?, ?it/s]"
      ]
     },
     "metadata": {},
     "output_type": "display_data"
    },
    {
     "name": "stdout",
     "output_type": "stream",
     "text": [
      "Epoch: 10 | Train Loss: 0.0730 | Acc: 0.9771 | Prec: 0.9788 | Recall: 0.9717 | F1: 0.9752 | ROC-AUC: 0.9949 || Test Loss: 0.2925 | Acc: 0.9186 | Prec: 0.9973 | Recall: 0.9148 | F1: 0.9542 | ROC-AUC: 0.9736\n",
      "Max val ROC-AUC: 0.9736\n",
      "Training with d_model=64, nhead=2, num_layers=6, dropout=0.0, lr=0.01\n"
     ]
    },
    {
     "data": {
      "application/vnd.jupyter.widget-view+json": {
       "model_id": "03301119c88b44a6be69141a0fc5da64",
       "version_major": 2,
       "version_minor": 0
      },
      "text/plain": [
       "  0%|          | 0/10 [00:00<?, ?it/s]"
      ]
     },
     "metadata": {},
     "output_type": "display_data"
    },
    {
     "name": "stdout",
     "output_type": "stream",
     "text": [
      "Epoch: 10 | Train Loss: 0.0548 | Acc: 0.9865 | Prec: 0.9855 | Recall: 0.9855 | F1: 0.9855 | ROC-AUC: 0.9972 || Test Loss: 0.3148 | Acc: 0.9372 | Prec: 0.9794 | Recall: 0.9524 | F1: 0.9657 | ROC-AUC: 0.9467\n",
      "Max val ROC-AUC: 0.9723\n",
      "Training with d_model=64, nhead=2, num_layers=6, dropout=0.0, lr=0.01\n"
     ]
    },
    {
     "data": {
      "application/vnd.jupyter.widget-view+json": {
       "model_id": "7cab6a28389545429b8beffd57e4ea88",
       "version_major": 2,
       "version_minor": 0
      },
      "text/plain": [
       "  0%|          | 0/10 [00:00<?, ?it/s]"
      ]
     },
     "metadata": {},
     "output_type": "display_data"
    },
    {
     "name": "stdout",
     "output_type": "stream",
     "text": [
      "Epoch: 10 | Train Loss: 0.0417 | Acc: 0.9845 | Prec: 0.9840 | Recall: 0.9826 | F1: 0.9833 | ROC-AUC: 0.9986 || Test Loss: 0.3344 | Acc: 0.9070 | Prec: 0.9918 | Recall: 0.9073 | F1: 0.9476 | ROC-AUC: 0.9626\n",
      "Max val ROC-AUC: 0.9626\n",
      "Training with d_model=64, nhead=2, num_layers=6, dropout=0.0, lr=0.01\n"
     ]
    },
    {
     "data": {
      "application/vnd.jupyter.widget-view+json": {
       "model_id": "4b034eab9ebd47b7ac7c86dfb795d3c1",
       "version_major": 2,
       "version_minor": 0
      },
      "text/plain": [
       "  0%|          | 0/10 [00:00<?, ?it/s]"
      ]
     },
     "metadata": {},
     "output_type": "display_data"
    },
    {
     "name": "stdout",
     "output_type": "stream",
     "text": [
      "Epoch: 10 | Train Loss: 0.0494 | Acc: 0.9852 | Prec: 0.9876 | Recall: 0.9804 | F1: 0.9840 | ROC-AUC: 0.9979 || Test Loss: 0.3463 | Acc: 0.9186 | Prec: 0.9919 | Recall: 0.9198 | F1: 0.9545 | ROC-AUC: 0.9643\n",
      "Max val ROC-AUC: 0.9741\n",
      "Training with d_model=64, nhead=2, num_layers=6, dropout=0.0, lr=0.01\n"
     ]
    },
    {
     "data": {
      "application/vnd.jupyter.widget-view+json": {
       "model_id": "a5666287547e428794fca305585f13f5",
       "version_major": 2,
       "version_minor": 0
      },
      "text/plain": [
       "  0%|          | 0/10 [00:00<?, ?it/s]"
      ]
     },
     "metadata": {},
     "output_type": "display_data"
    },
    {
     "name": "stdout",
     "output_type": "stream",
     "text": [
      "Epoch: 10 | Train Loss: 0.0774 | Acc: 0.9707 | Prec: 0.9864 | Recall: 0.9499 | F1: 0.9678 | ROC-AUC: 0.9946 || Test Loss: 0.3731 | Acc: 0.8884 | Prec: 0.9756 | Recall: 0.9023 | F1: 0.9375 | ROC-AUC: 0.9215\n",
      "Max val ROC-AUC: 0.9289\n",
      "Training with d_model=64, nhead=2, num_layers=6, dropout=0.0, lr=0.01\n"
     ]
    },
    {
     "data": {
      "application/vnd.jupyter.widget-view+json": {
       "model_id": "f70d2127b8a348f2a978dcc5e5e5b94e",
       "version_major": 2,
       "version_minor": 0
      },
      "text/plain": [
       "  0%|          | 0/10 [00:00<?, ?it/s]"
      ]
     },
     "metadata": {},
     "output_type": "display_data"
    },
    {
     "name": "stdout",
     "output_type": "stream",
     "text": [
      "Epoch: 10 | Train Loss: 0.0589 | Acc: 0.9821 | Prec: 0.9860 | Recall: 0.9753 | F1: 0.9806 | ROC-AUC: 0.9961 || Test Loss: 0.4164 | Acc: 0.9186 | Prec: 0.9740 | Recall: 0.9373 | F1: 0.9553 | ROC-AUC: 0.9164\n",
      "Max val ROC-AUC: 0.9462\n",
      "Training with d_model=64, nhead=2, num_layers=6, dropout=0.0, lr=0.01\n"
     ]
    },
    {
     "data": {
      "application/vnd.jupyter.widget-view+json": {
       "model_id": "544226579e27419c9d1d7a8427b44fe0",
       "version_major": 2,
       "version_minor": 0
      },
      "text/plain": [
       "  0%|          | 0/10 [00:00<?, ?it/s]"
      ]
     },
     "metadata": {},
     "output_type": "display_data"
    },
    {
     "name": "stdout",
     "output_type": "stream",
     "text": [
      "Epoch: 10 | Train Loss: 0.0606 | Acc: 0.9798 | Prec: 0.9824 | Recall: 0.9739 | F1: 0.9781 | ROC-AUC: 0.9972 || Test Loss: 0.4680 | Acc: 0.9023 | Prec: 0.9890 | Recall: 0.9048 | F1: 0.9450 | ROC-AUC: 0.9497\n",
      "Max val ROC-AUC: 0.9698\n",
      "Training with d_model=64, nhead=2, num_layers=6, dropout=0.0, lr=0.001\n"
     ]
    },
    {
     "data": {
      "application/vnd.jupyter.widget-view+json": {
       "model_id": "b31d3bc6337c40648e39a2593593de29",
       "version_major": 2,
       "version_minor": 0
      },
      "text/plain": [
       "  0%|          | 0/10 [00:00<?, ?it/s]"
      ]
     },
     "metadata": {},
     "output_type": "display_data"
    },
    {
     "name": "stdout",
     "output_type": "stream",
     "text": [
      "Epoch: 10 | Train Loss: 0.0366 | Acc: 0.9882 | Prec: 0.9855 | Recall: 0.9891 | F1: 0.9873 | ROC-AUC: 0.9988 || Test Loss: 0.4154 | Acc: 0.9070 | Prec: 0.9864 | Recall: 0.9123 | F1: 0.9479 | ROC-AUC: 0.9341\n",
      "Max val ROC-AUC: 0.9501\n",
      "Training with d_model=64, nhead=2, num_layers=6, dropout=0.0, lr=0.001\n"
     ]
    },
    {
     "data": {
      "application/vnd.jupyter.widget-view+json": {
       "model_id": "c12c99080c6747789e0617d697dc56fe",
       "version_major": 2,
       "version_minor": 0
      },
      "text/plain": [
       "  0%|          | 0/10 [00:00<?, ?it/s]"
      ]
     },
     "metadata": {},
     "output_type": "display_data"
    },
    {
     "name": "stdout",
     "output_type": "stream",
     "text": [
      "Epoch: 10 | Train Loss: 0.0581 | Acc: 0.9828 | Prec: 0.9839 | Recall: 0.9789 | F1: 0.9814 | ROC-AUC: 0.9967 || Test Loss: 0.5154 | Acc: 0.8814 | Prec: 0.9833 | Recall: 0.8872 | F1: 0.9328 | ROC-AUC: 0.9140\n",
      "Max val ROC-AUC: 0.9601\n",
      "Training with d_model=64, nhead=2, num_layers=6, dropout=0.0, lr=0.001\n"
     ]
    },
    {
     "data": {
      "application/vnd.jupyter.widget-view+json": {
       "model_id": "a77161151f5344919374618089e7661d",
       "version_major": 2,
       "version_minor": 0
      },
      "text/plain": [
       "  0%|          | 0/10 [00:00<?, ?it/s]"
      ]
     },
     "metadata": {},
     "output_type": "display_data"
    },
    {
     "name": "stdout",
     "output_type": "stream",
     "text": [
      "Epoch: 10 | Train Loss: 0.0065 | Acc: 0.9980 | Prec: 0.9985 | Recall: 0.9971 | F1: 0.9978 | ROC-AUC: 0.9998 || Test Loss: 0.4803 | Acc: 0.9395 | Prec: 0.9794 | Recall: 0.9549 | F1: 0.9670 | ROC-AUC: 0.9001\n",
      "Max val ROC-AUC: 0.9528\n",
      "Training with d_model=64, nhead=2, num_layers=6, dropout=0.0, lr=0.001\n"
     ]
    },
    {
     "data": {
      "application/vnd.jupyter.widget-view+json": {
       "model_id": "02323efac3e5474d8f5c4714938a1c40",
       "version_major": 2,
       "version_minor": 0
      },
      "text/plain": [
       "  0%|          | 0/10 [00:00<?, ?it/s]"
      ]
     },
     "metadata": {},
     "output_type": "display_data"
    },
    {
     "name": "stdout",
     "output_type": "stream",
     "text": [
      "Epoch: 10 | Train Loss: 0.0072 | Acc: 0.9987 | Prec: 0.9993 | Recall: 0.9978 | F1: 0.9985 | ROC-AUC: 0.9997 || Test Loss: 0.3737 | Acc: 0.9349 | Prec: 0.9793 | Recall: 0.9499 | F1: 0.9644 | ROC-AUC: 0.9468\n",
      "Max val ROC-AUC: 0.9553\n",
      "Training with d_model=64, nhead=2, num_layers=6, dropout=0.0, lr=0.001\n"
     ]
    },
    {
     "data": {
      "application/vnd.jupyter.widget-view+json": {
       "model_id": "6fa099ff40de405b9206dc1d91e03de8",
       "version_major": 2,
       "version_minor": 0
      },
      "text/plain": [
       "  0%|          | 0/10 [00:00<?, ?it/s]"
      ]
     },
     "metadata": {},
     "output_type": "display_data"
    },
    {
     "name": "stdout",
     "output_type": "stream",
     "text": [
      "Epoch: 10 | Train Loss: 0.0092 | Acc: 0.9980 | Prec: 0.9993 | Recall: 0.9964 | F1: 0.9978 | ROC-AUC: 0.9999 || Test Loss: 0.4246 | Acc: 0.9302 | Prec: 0.9767 | Recall: 0.9474 | F1: 0.9618 | ROC-AUC: 0.9311\n",
      "Max val ROC-AUC: 0.9502\n",
      "Training with d_model=64, nhead=2, num_layers=6, dropout=0.0, lr=0.001\n"
     ]
    },
    {
     "data": {
      "application/vnd.jupyter.widget-view+json": {
       "model_id": "236eff80521944af95b508f0e49b1946",
       "version_major": 2,
       "version_minor": 0
      },
      "text/plain": [
       "  0%|          | 0/10 [00:00<?, ?it/s]"
      ]
     },
     "metadata": {},
     "output_type": "display_data"
    },
    {
     "name": "stdout",
     "output_type": "stream",
     "text": [
      "Epoch: 10 | Train Loss: 0.0359 | Acc: 0.9882 | Prec: 0.9934 | Recall: 0.9811 | F1: 0.9872 | ROC-AUC: 0.9988 || Test Loss: 0.4248 | Acc: 0.9302 | Prec: 0.9843 | Recall: 0.9398 | F1: 0.9615 | ROC-AUC: 0.9506\n",
      "Max val ROC-AUC: 0.9647\n",
      "Training with d_model=64, nhead=2, num_layers=6, dropout=0.0, lr=0.001\n"
     ]
    },
    {
     "data": {
      "application/vnd.jupyter.widget-view+json": {
       "model_id": "92d5d9cb2d3e4be9b8289e13a091043b",
       "version_major": 2,
       "version_minor": 0
      },
      "text/plain": [
       "  0%|          | 0/10 [00:00<?, ?it/s]"
      ]
     },
     "metadata": {},
     "output_type": "display_data"
    },
    {
     "name": "stdout",
     "output_type": "stream",
     "text": [
      "Epoch: 10 | Train Loss: 0.0227 | Acc: 0.9933 | Prec: 0.9956 | Recall: 0.9898 | F1: 0.9927 | ROC-AUC: 0.9992 || Test Loss: 0.3570 | Acc: 0.9419 | Prec: 0.9795 | Recall: 0.9574 | F1: 0.9683 | ROC-AUC: 0.9143\n",
      "Max val ROC-AUC: 0.9539\n",
      "Training with d_model=64, nhead=2, num_layers=6, dropout=0.0, lr=0.001\n"
     ]
    },
    {
     "data": {
      "application/vnd.jupyter.widget-view+json": {
       "model_id": "af7d972641be40f69a4845e5035f0842",
       "version_major": 2,
       "version_minor": 0
      },
      "text/plain": [
       "  0%|          | 0/10 [00:00<?, ?it/s]"
      ]
     },
     "metadata": {},
     "output_type": "display_data"
    },
    {
     "name": "stdout",
     "output_type": "stream",
     "text": [
      "Epoch: 10 | Train Loss: 0.0129 | Acc: 0.9976 | Prec: 0.9993 | Recall: 0.9956 | F1: 0.9975 | ROC-AUC: 0.9993 || Test Loss: 0.4318 | Acc: 0.9302 | Prec: 0.9743 | Recall: 0.9499 | F1: 0.9619 | ROC-AUC: 0.9445\n",
      "Max val ROC-AUC: 0.9579\n",
      "Training with d_model=64, nhead=2, num_layers=6, dropout=0.0, lr=0.001\n"
     ]
    },
    {
     "data": {
      "application/vnd.jupyter.widget-view+json": {
       "model_id": "c2d2c75f85d64a908a9e6fc92d27593e",
       "version_major": 2,
       "version_minor": 0
      },
      "text/plain": [
       "  0%|          | 0/10 [00:00<?, ?it/s]"
      ]
     },
     "metadata": {},
     "output_type": "display_data"
    },
    {
     "name": "stdout",
     "output_type": "stream",
     "text": [
      "Epoch: 10 | Train Loss: 0.0406 | Acc: 0.9875 | Prec: 0.9941 | Recall: 0.9789 | F1: 0.9865 | ROC-AUC: 0.9986 || Test Loss: 0.3118 | Acc: 0.9442 | Prec: 0.9845 | Recall: 0.9549 | F1: 0.9695 | ROC-AUC: 0.9480\n",
      "Max val ROC-AUC: 0.9651\n",
      "Training with d_model=64, nhead=2, num_layers=6, dropout=0.0, lr=0.001\n"
     ]
    },
    {
     "data": {
      "application/vnd.jupyter.widget-view+json": {
       "model_id": "38a86202fe084953bea80d1aa4ff3bcf",
       "version_major": 2,
       "version_minor": 0
      },
      "text/plain": [
       "  0%|          | 0/10 [00:00<?, ?it/s]"
      ]
     },
     "metadata": {},
     "output_type": "display_data"
    },
    {
     "name": "stdout",
     "output_type": "stream",
     "text": [
      "Epoch: 10 | Train Loss: 0.0176 | Acc: 0.9966 | Prec: 0.9985 | Recall: 0.9942 | F1: 0.9964 | ROC-AUC: 0.9988 || Test Loss: 0.3977 | Acc: 0.9349 | Prec: 0.9818 | Recall: 0.9474 | F1: 0.9643 | ROC-AUC: 0.9249\n",
      "Max val ROC-AUC: 0.9449\n",
      "Training with d_model=64, nhead=2, num_layers=6, dropout=0.1, lr=0.1\n"
     ]
    },
    {
     "data": {
      "application/vnd.jupyter.widget-view+json": {
       "model_id": "bff5f1bf77af4a96afb00da240866f9c",
       "version_major": 2,
       "version_minor": 0
      },
      "text/plain": [
       "  0%|          | 0/10 [00:00<?, ?it/s]"
      ]
     },
     "metadata": {},
     "output_type": "display_data"
    },
    {
     "name": "stdout",
     "output_type": "stream",
     "text": [
      "Epoch: 10 | Train Loss: 0.2554 | Acc: 0.9087 | Prec: 0.9300 | Recall: 0.8686 | F1: 0.8982 | ROC-AUC: 0.9648 || Test Loss: 0.4977 | Acc: 0.8605 | Prec: 0.9857 | Recall: 0.8622 | F1: 0.9198 | ROC-AUC: 0.9265\n",
      "Max val ROC-AUC: 0.9602\n",
      "Training with d_model=64, nhead=2, num_layers=6, dropout=0.1, lr=0.1\n"
     ]
    },
    {
     "data": {
      "application/vnd.jupyter.widget-view+json": {
       "model_id": "5444608902da4d81bbd47a2e4c9eb2b6",
       "version_major": 2,
       "version_minor": 0
      },
      "text/plain": [
       "  0%|          | 0/10 [00:00<?, ?it/s]"
      ]
     },
     "metadata": {},
     "output_type": "display_data"
    },
    {
     "name": "stdout",
     "output_type": "stream",
     "text": [
      "Epoch: 10 | Train Loss: 0.3159 | Acc: 0.8949 | Prec: 0.9540 | Recall: 0.8126 | F1: 0.8776 | ROC-AUC: 0.9168 || Test Loss: 0.4272 | Acc: 0.7605 | Prec: 0.9966 | Recall: 0.7444 | F1: 0.8522 | ROC-AUC: 0.8651\n",
      "Max val ROC-AUC: 0.9432\n",
      "Training with d_model=64, nhead=2, num_layers=6, dropout=0.1, lr=0.1\n"
     ]
    },
    {
     "data": {
      "application/vnd.jupyter.widget-view+json": {
       "model_id": "aa299151ee37488e9e879ff2c4d791c5",
       "version_major": 2,
       "version_minor": 0
      },
      "text/plain": [
       "  0%|          | 0/10 [00:00<?, ?it/s]"
      ]
     },
     "metadata": {},
     "output_type": "display_data"
    },
    {
     "name": "stdout",
     "output_type": "stream",
     "text": [
      "Epoch: 10 | Train Loss: 0.2229 | Acc: 0.9242 | Prec: 0.9507 | Recall: 0.8824 | F1: 0.9153 | ROC-AUC: 0.9549 || Test Loss: 0.5361 | Acc: 0.7977 | Prec: 0.9815 | Recall: 0.7970 | F1: 0.8797 | ROC-AUC: 0.8549\n",
      "Max val ROC-AUC: 0.9149\n",
      "Training with d_model=64, nhead=2, num_layers=6, dropout=0.1, lr=0.1\n"
     ]
    },
    {
     "data": {
      "application/vnd.jupyter.widget-view+json": {
       "model_id": "421154c681d245f0abedf9c80316732e",
       "version_major": 2,
       "version_minor": 0
      },
      "text/plain": [
       "  0%|          | 0/10 [00:00<?, ?it/s]"
      ]
     },
     "metadata": {},
     "output_type": "display_data"
    },
    {
     "name": "stdout",
     "output_type": "stream",
     "text": [
      "Epoch: 10 | Train Loss: 0.2966 | Acc: 0.8872 | Prec: 0.8633 | Recall: 0.8991 | F1: 0.8808 | ROC-AUC: 0.9498 || Test Loss: 0.4245 | Acc: 0.8070 | Prec: 0.9907 | Recall: 0.7995 | F1: 0.8849 | ROC-AUC: 0.9184\n",
      "Max val ROC-AUC: 0.9423\n",
      "Training with d_model=64, nhead=2, num_layers=6, dropout=0.1, lr=0.1\n"
     ]
    },
    {
     "data": {
      "application/vnd.jupyter.widget-view+json": {
       "model_id": "0f87f81d3f1d490f9e581c14a092ab8c",
       "version_major": 2,
       "version_minor": 0
      },
      "text/plain": [
       "  0%|          | 0/10 [00:00<?, ?it/s]"
      ]
     },
     "metadata": {},
     "output_type": "display_data"
    },
    {
     "name": "stdout",
     "output_type": "stream",
     "text": [
      "Epoch: 10 | Train Loss: 0.2806 | Acc: 0.8969 | Prec: 0.9393 | Recall: 0.8315 | F1: 0.8821 | ROC-AUC: 0.9533 || Test Loss: 0.3713 | Acc: 0.8674 | Prec: 0.9914 | Recall: 0.8647 | F1: 0.9237 | ROC-AUC: 0.9203\n",
      "Max val ROC-AUC: 0.9428\n",
      "Training with d_model=64, nhead=2, num_layers=6, dropout=0.1, lr=0.1\n"
     ]
    },
    {
     "data": {
      "application/vnd.jupyter.widget-view+json": {
       "model_id": "dfedc2431107403dbdef45620fdebd95",
       "version_major": 2,
       "version_minor": 0
      },
      "text/plain": [
       "  0%|          | 0/10 [00:00<?, ?it/s]"
      ]
     },
     "metadata": {},
     "output_type": "display_data"
    },
    {
     "name": "stdout",
     "output_type": "stream",
     "text": [
      "Epoch: 10 | Train Loss: 0.3891 | Acc: 0.8454 | Prec: 0.8110 | Recall: 0.8693 | F1: 0.8391 | ROC-AUC: 0.9110 || Test Loss: 0.5925 | Acc: 0.7814 | Prec: 0.9781 | Recall: 0.7820 | F1: 0.8691 | ROC-AUC: 0.7818\n",
      "Max val ROC-AUC: 0.9360\n",
      "Training with d_model=64, nhead=2, num_layers=6, dropout=0.1, lr=0.1\n"
     ]
    },
    {
     "data": {
      "application/vnd.jupyter.widget-view+json": {
       "model_id": "0d0e597d20af4084a6d8aa1cf77288cb",
       "version_major": 2,
       "version_minor": 0
      },
      "text/plain": [
       "  0%|          | 0/10 [00:00<?, ?it/s]"
      ]
     },
     "metadata": {},
     "output_type": "display_data"
    },
    {
     "name": "stdout",
     "output_type": "stream",
     "text": [
      "Epoch: 10 | Train Loss: 0.2837 | Acc: 0.8973 | Prec: 0.9073 | Recall: 0.8671 | F1: 0.8867 | ROC-AUC: 0.9524 || Test Loss: 0.7166 | Acc: 0.8581 | Prec: 0.9884 | Recall: 0.8571 | F1: 0.9181 | ROC-AUC: 0.9329\n",
      "Max val ROC-AUC: 0.9391\n",
      "Training with d_model=64, nhead=2, num_layers=6, dropout=0.1, lr=0.1\n"
     ]
    },
    {
     "data": {
      "application/vnd.jupyter.widget-view+json": {
       "model_id": "82d48e8326f84d6baac606fca7bef7e3",
       "version_major": 2,
       "version_minor": 0
      },
      "text/plain": [
       "  0%|          | 0/10 [00:00<?, ?it/s]"
      ]
     },
     "metadata": {},
     "output_type": "display_data"
    },
    {
     "name": "stdout",
     "output_type": "stream",
     "text": [
      "Epoch: 10 | Train Loss: 0.2414 | Acc: 0.9165 | Prec: 0.9477 | Recall: 0.8678 | F1: 0.9060 | ROC-AUC: 0.9568 || Test Loss: 1.1752 | Acc: 0.8744 | Prec: 0.9832 | Recall: 0.8797 | F1: 0.9286 | ROC-AUC: 0.9171\n",
      "Max val ROC-AUC: 0.9471\n",
      "Training with d_model=64, nhead=2, num_layers=6, dropout=0.1, lr=0.1\n"
     ]
    },
    {
     "data": {
      "application/vnd.jupyter.widget-view+json": {
       "model_id": "10dbc47f882148ac82ec66572a10db3a",
       "version_major": 2,
       "version_minor": 0
      },
      "text/plain": [
       "  0%|          | 0/10 [00:00<?, ?it/s]"
      ]
     },
     "metadata": {},
     "output_type": "display_data"
    },
    {
     "name": "stdout",
     "output_type": "stream",
     "text": [
      "Epoch: 10 | Train Loss: 0.2854 | Acc: 0.9155 | Prec: 0.9351 | Recall: 0.8787 | F1: 0.9060 | ROC-AUC: 0.9438 || Test Loss: 0.2865 | Acc: 0.9302 | Prec: 0.9792 | Recall: 0.9449 | F1: 0.9617 | ROC-AUC: 0.9453\n",
      "Max val ROC-AUC: 0.9453\n",
      "Training with d_model=64, nhead=2, num_layers=6, dropout=0.1, lr=0.1\n"
     ]
    },
    {
     "data": {
      "application/vnd.jupyter.widget-view+json": {
       "model_id": "7a2346d47c124b50aef284293e5b82b2",
       "version_major": 2,
       "version_minor": 0
      },
      "text/plain": [
       "  0%|          | 0/10 [00:00<?, ?it/s]"
      ]
     },
     "metadata": {},
     "output_type": "display_data"
    },
    {
     "name": "stdout",
     "output_type": "stream",
     "text": [
      "Epoch: 10 | Train Loss: 0.3230 | Acc: 0.8963 | Prec: 0.8751 | Recall: 0.9056 | F1: 0.8901 | ROC-AUC: 0.9357 || Test Loss: 0.5817 | Acc: 0.9209 | Prec: 0.9867 | Recall: 0.9273 | F1: 0.9561 | ROC-AUC: 0.8959\n",
      "Max val ROC-AUC: 0.9641\n",
      "Training with d_model=64, nhead=2, num_layers=6, dropout=0.1, lr=0.01\n"
     ]
    },
    {
     "data": {
      "application/vnd.jupyter.widget-view+json": {
       "model_id": "f46a66d564ce471fb20c809e34472fc6",
       "version_major": 2,
       "version_minor": 0
      },
      "text/plain": [
       "  0%|          | 0/10 [00:00<?, ?it/s]"
      ]
     },
     "metadata": {},
     "output_type": "display_data"
    },
    {
     "name": "stdout",
     "output_type": "stream",
     "text": [
      "Epoch: 10 | Train Loss: 0.1431 | Acc: 0.9512 | Prec: 0.9646 | Recall: 0.9288 | F1: 0.9464 | ROC-AUC: 0.9841 || Test Loss: 0.3265 | Acc: 0.9000 | Prec: 0.9863 | Recall: 0.9048 | F1: 0.9438 | ROC-AUC: 0.8940\n",
      "Max val ROC-AUC: 0.9572\n",
      "Training with d_model=64, nhead=2, num_layers=6, dropout=0.1, lr=0.01\n"
     ]
    },
    {
     "data": {
      "application/vnd.jupyter.widget-view+json": {
       "model_id": "a5522ee285764d5aa56fb19abd2186e3",
       "version_major": 2,
       "version_minor": 0
      },
      "text/plain": [
       "  0%|          | 0/10 [00:00<?, ?it/s]"
      ]
     },
     "metadata": {},
     "output_type": "display_data"
    },
    {
     "name": "stdout",
     "output_type": "stream",
     "text": [
      "Epoch: 10 | Train Loss: 0.0612 | Acc: 0.9828 | Prec: 0.9918 | Recall: 0.9710 | F1: 0.9813 | ROC-AUC: 0.9956 || Test Loss: 0.7141 | Acc: 0.8767 | Prec: 0.9860 | Recall: 0.8797 | F1: 0.9298 | ROC-AUC: 0.9474\n",
      "Max val ROC-AUC: 0.9474\n",
      "Training with d_model=64, nhead=2, num_layers=6, dropout=0.1, lr=0.01\n"
     ]
    },
    {
     "data": {
      "application/vnd.jupyter.widget-view+json": {
       "model_id": "9d21db4506d544b5aba37780f028737b",
       "version_major": 2,
       "version_minor": 0
      },
      "text/plain": [
       "  0%|          | 0/10 [00:00<?, ?it/s]"
      ]
     },
     "metadata": {},
     "output_type": "display_data"
    },
    {
     "name": "stdout",
     "output_type": "stream",
     "text": [
      "Epoch: 10 | Train Loss: 0.1392 | Acc: 0.9663 | Prec: 0.9776 | Recall: 0.9492 | F1: 0.9632 | ROC-AUC: 0.9815 || Test Loss: 0.2426 | Acc: 0.9140 | Prec: 0.9918 | Recall: 0.9148 | F1: 0.9518 | ROC-AUC: 0.9535\n",
      "Max val ROC-AUC: 0.9535\n",
      "Training with d_model=64, nhead=2, num_layers=6, dropout=0.1, lr=0.01\n"
     ]
    },
    {
     "data": {
      "application/vnd.jupyter.widget-view+json": {
       "model_id": "4593d9f54bf4451ca8efffcbededddfd",
       "version_major": 2,
       "version_minor": 0
      },
      "text/plain": [
       "  0%|          | 0/10 [00:00<?, ?it/s]"
      ]
     },
     "metadata": {},
     "output_type": "display_data"
    },
    {
     "name": "stdout",
     "output_type": "stream",
     "text": [
      "Epoch: 10 | Train Loss: 0.1071 | Acc: 0.9579 | Prec: 0.9707 | Recall: 0.9375 | F1: 0.9538 | ROC-AUC: 0.9917 || Test Loss: 0.3111 | Acc: 0.9093 | Prec: 0.9787 | Recall: 0.9223 | F1: 0.9497 | ROC-AUC: 0.8869\n",
      "Max val ROC-AUC: 0.9419\n",
      "Training with d_model=64, nhead=2, num_layers=6, dropout=0.1, lr=0.01\n"
     ]
    },
    {
     "data": {
      "application/vnd.jupyter.widget-view+json": {
       "model_id": "1ddfcf0540824e209fa1e99017b8b976",
       "version_major": 2,
       "version_minor": 0
      },
      "text/plain": [
       "  0%|          | 0/10 [00:00<?, ?it/s]"
      ]
     },
     "metadata": {},
     "output_type": "display_data"
    },
    {
     "name": "stdout",
     "output_type": "stream",
     "text": [
      "Epoch: 10 | Train Loss: 0.1455 | Acc: 0.9478 | Prec: 0.9700 | Recall: 0.9158 | F1: 0.9421 | ROC-AUC: 0.9837 || Test Loss: 0.3123 | Acc: 0.8628 | Prec: 0.9942 | Recall: 0.8571 | F1: 0.9206 | ROC-AUC: 0.9584\n",
      "Max val ROC-AUC: 0.9584\n",
      "Training with d_model=64, nhead=2, num_layers=6, dropout=0.1, lr=0.01\n"
     ]
    },
    {
     "data": {
      "application/vnd.jupyter.widget-view+json": {
       "model_id": "c41120c57d024b30adc78740d841f572",
       "version_major": 2,
       "version_minor": 0
      },
      "text/plain": [
       "  0%|          | 0/10 [00:00<?, ?it/s]"
      ]
     },
     "metadata": {},
     "output_type": "display_data"
    },
    {
     "name": "stdout",
     "output_type": "stream",
     "text": [
      "Epoch: 10 | Train Loss: 0.0895 | Acc: 0.9737 | Prec: 0.9858 | Recall: 0.9572 | F1: 0.9713 | ROC-AUC: 0.9930 || Test Loss: 0.3923 | Acc: 0.8884 | Prec: 0.9861 | Recall: 0.8922 | F1: 0.9368 | ROC-AUC: 0.9332\n",
      "Max val ROC-AUC: 0.9539\n",
      "Training with d_model=64, nhead=2, num_layers=6, dropout=0.1, lr=0.01\n"
     ]
    },
    {
     "data": {
      "application/vnd.jupyter.widget-view+json": {
       "model_id": "4ecfe61983864cfc9d7672affb4a6226",
       "version_major": 2,
       "version_minor": 0
      },
      "text/plain": [
       "  0%|          | 0/10 [00:00<?, ?it/s]"
      ]
     },
     "metadata": {},
     "output_type": "display_data"
    },
    {
     "name": "stdout",
     "output_type": "stream",
     "text": [
      "Epoch: 10 | Train Loss: 0.1223 | Acc: 0.9619 | Prec: 0.9862 | Recall: 0.9310 | F1: 0.9578 | ROC-AUC: 0.9852 || Test Loss: 0.4649 | Acc: 0.8628 | Prec: 0.9802 | Recall: 0.8697 | F1: 0.9216 | ROC-AUC: 0.9091\n",
      "Max val ROC-AUC: 0.9269\n",
      "Training with d_model=64, nhead=2, num_layers=6, dropout=0.1, lr=0.01\n"
     ]
    },
    {
     "data": {
      "application/vnd.jupyter.widget-view+json": {
       "model_id": "0a126e70398842fcbd837e2c4b0ee27a",
       "version_major": 2,
       "version_minor": 0
      },
      "text/plain": [
       "  0%|          | 0/10 [00:00<?, ?it/s]"
      ]
     },
     "metadata": {},
     "output_type": "display_data"
    },
    {
     "name": "stdout",
     "output_type": "stream",
     "text": [
      "Epoch: 10 | Train Loss: 0.0705 | Acc: 0.9798 | Prec: 0.9889 | Recall: 0.9673 | F1: 0.9780 | ROC-AUC: 0.9947 || Test Loss: 0.4873 | Acc: 0.9023 | Prec: 0.9890 | Recall: 0.9048 | F1: 0.9450 | ROC-AUC: 0.9479\n",
      "Max val ROC-AUC: 0.9507\n",
      "Training with d_model=64, nhead=2, num_layers=6, dropout=0.1, lr=0.01\n"
     ]
    },
    {
     "data": {
      "application/vnd.jupyter.widget-view+json": {
       "model_id": "f1704e33e88b402498a66fe67ad86441",
       "version_major": 2,
       "version_minor": 0
      },
      "text/plain": [
       "  0%|          | 0/10 [00:00<?, ?it/s]"
      ]
     },
     "metadata": {},
     "output_type": "display_data"
    },
    {
     "name": "stdout",
     "output_type": "stream",
     "text": [
      "Epoch: 10 | Train Loss: 0.1000 | Acc: 0.9707 | Prec: 0.9835 | Recall: 0.9528 | F1: 0.9679 | ROC-AUC: 0.9903 || Test Loss: 0.3466 | Acc: 0.8953 | Prec: 0.9836 | Recall: 0.9023 | F1: 0.9412 | ROC-AUC: 0.9138\n",
      "Max val ROC-AUC: 0.9462\n",
      "Training with d_model=64, nhead=2, num_layers=6, dropout=0.1, lr=0.01\n"
     ]
    },
    {
     "data": {
      "application/vnd.jupyter.widget-view+json": {
       "model_id": "d0869b1efab741939fc81f76ad282f14",
       "version_major": 2,
       "version_minor": 0
      },
      "text/plain": [
       "  0%|          | 0/10 [00:00<?, ?it/s]"
      ]
     },
     "metadata": {},
     "output_type": "display_data"
    },
    {
     "name": "stdout",
     "output_type": "stream",
     "text": [
      "Epoch: 10 | Train Loss: 0.1086 | Acc: 0.9670 | Prec: 0.9797 | Recall: 0.9484 | F1: 0.9638 | ROC-AUC: 0.9905 || Test Loss: 0.5162 | Acc: 0.9000 | Prec: 0.9837 | Recall: 0.9073 | F1: 0.9439 | ROC-AUC: 0.9248\n",
      "Max val ROC-AUC: 0.9701\n",
      "Training with d_model=64, nhead=2, num_layers=6, dropout=0.1, lr=0.001\n"
     ]
    },
    {
     "data": {
      "application/vnd.jupyter.widget-view+json": {
       "model_id": "f995c0ba04434dcc9f2ba56b49ef6b3c",
       "version_major": 2,
       "version_minor": 0
      },
      "text/plain": [
       "  0%|          | 0/10 [00:00<?, ?it/s]"
      ]
     },
     "metadata": {},
     "output_type": "display_data"
    },
    {
     "name": "stdout",
     "output_type": "stream",
     "text": [
      "Epoch: 10 | Train Loss: 0.0092 | Acc: 0.9970 | Prec: 0.9978 | Recall: 0.9956 | F1: 0.9967 | ROC-AUC: 0.9999 || Test Loss: 0.4643 | Acc: 0.9326 | Prec: 0.9818 | Recall: 0.9449 | F1: 0.9630 | ROC-AUC: 0.9452\n",
      "Max val ROC-AUC: 0.9586\n",
      "Training with d_model=64, nhead=2, num_layers=6, dropout=0.1, lr=0.001\n"
     ]
    },
    {
     "data": {
      "application/vnd.jupyter.widget-view+json": {
       "model_id": "8d278f34547e49c78bc1512219fd1534",
       "version_major": 2,
       "version_minor": 0
      },
      "text/plain": [
       "  0%|          | 0/10 [00:00<?, ?it/s]"
      ]
     },
     "metadata": {},
     "output_type": "display_data"
    },
    {
     "name": "stdout",
     "output_type": "stream",
     "text": [
      "Epoch: 10 | Train Loss: 0.0221 | Acc: 0.9933 | Prec: 0.9920 | Recall: 0.9935 | F1: 0.9927 | ROC-AUC: 0.9991 || Test Loss: 0.4093 | Acc: 0.9233 | Prec: 0.9741 | Recall: 0.9424 | F1: 0.9580 | ROC-AUC: 0.9304\n",
      "Max val ROC-AUC: 0.9631\n",
      "Training with d_model=64, nhead=2, num_layers=6, dropout=0.1, lr=0.001\n"
     ]
    },
    {
     "data": {
      "application/vnd.jupyter.widget-view+json": {
       "model_id": "d3181a7473bd40eb9ad873738c798b12",
       "version_major": 2,
       "version_minor": 0
      },
      "text/plain": [
       "  0%|          | 0/10 [00:00<?, ?it/s]"
      ]
     },
     "metadata": {},
     "output_type": "display_data"
    },
    {
     "name": "stdout",
     "output_type": "stream",
     "text": [
      "Epoch: 10 | Train Loss: 0.0344 | Acc: 0.9919 | Prec: 0.9942 | Recall: 0.9884 | F1: 0.9913 | ROC-AUC: 0.9977 || Test Loss: 0.3117 | Acc: 0.9419 | Prec: 0.9870 | Recall: 0.9499 | F1: 0.9681 | ROC-AUC: 0.9594\n",
      "Max val ROC-AUC: 0.9594\n",
      "Training with d_model=64, nhead=2, num_layers=6, dropout=0.1, lr=0.001\n"
     ]
    },
    {
     "data": {
      "application/vnd.jupyter.widget-view+json": {
       "model_id": "2842ee7ece034346b966c6b11102044f",
       "version_major": 2,
       "version_minor": 0
      },
      "text/plain": [
       "  0%|          | 0/10 [00:00<?, ?it/s]"
      ]
     },
     "metadata": {},
     "output_type": "display_data"
    },
    {
     "name": "stdout",
     "output_type": "stream",
     "text": [
      "Epoch: 10 | Train Loss: 0.0175 | Acc: 0.9949 | Prec: 0.9964 | Recall: 0.9927 | F1: 0.9945 | ROC-AUC: 0.9996 || Test Loss: 0.3754 | Acc: 0.9209 | Prec: 0.9841 | Recall: 0.9298 | F1: 0.9562 | ROC-AUC: 0.9149\n",
      "Max val ROC-AUC: 0.9540\n",
      "Training with d_model=64, nhead=2, num_layers=6, dropout=0.1, lr=0.001\n"
     ]
    },
    {
     "data": {
      "application/vnd.jupyter.widget-view+json": {
       "model_id": "d1e87b8b57344c0abf4e37142a0ebd11",
       "version_major": 2,
       "version_minor": 0
      },
      "text/plain": [
       "  0%|          | 0/10 [00:00<?, ?it/s]"
      ]
     },
     "metadata": {},
     "output_type": "display_data"
    },
    {
     "name": "stdout",
     "output_type": "stream",
     "text": [
      "Epoch: 10 | Train Loss: 0.0253 | Acc: 0.9916 | Prec: 0.9963 | Recall: 0.9855 | F1: 0.9909 | ROC-AUC: 0.9992 || Test Loss: 0.3899 | Acc: 0.9372 | Prec: 0.9869 | Recall: 0.9449 | F1: 0.9654 | ROC-AUC: 0.9643\n",
      "Max val ROC-AUC: 0.9643\n",
      "Training with d_model=64, nhead=2, num_layers=6, dropout=0.1, lr=0.001\n"
     ]
    },
    {
     "data": {
      "application/vnd.jupyter.widget-view+json": {
       "model_id": "1f28270701314cab9753b157fc641b17",
       "version_major": 2,
       "version_minor": 0
      },
      "text/plain": [
       "  0%|          | 0/10 [00:00<?, ?it/s]"
      ]
     },
     "metadata": {},
     "output_type": "display_data"
    },
    {
     "name": "stdout",
     "output_type": "stream",
     "text": [
      "Epoch: 10 | Train Loss: 0.0275 | Acc: 0.9943 | Prec: 0.9964 | Recall: 0.9913 | F1: 0.9938 | ROC-AUC: 0.9987 || Test Loss: 0.3270 | Acc: 0.9186 | Prec: 0.9815 | Recall: 0.9298 | F1: 0.9550 | ROC-AUC: 0.9654\n",
      "Max val ROC-AUC: 0.9654\n",
      "Training with d_model=64, nhead=2, num_layers=6, dropout=0.1, lr=0.001\n"
     ]
    },
    {
     "data": {
      "application/vnd.jupyter.widget-view+json": {
       "model_id": "7f5a71980e574e13b22e86484a938b54",
       "version_major": 2,
       "version_minor": 0
      },
      "text/plain": [
       "  0%|          | 0/10 [00:00<?, ?it/s]"
      ]
     },
     "metadata": {},
     "output_type": "display_data"
    },
    {
     "name": "stdout",
     "output_type": "stream",
     "text": [
      "Epoch: 10 | Train Loss: 0.0203 | Acc: 0.9939 | Prec: 0.9963 | Recall: 0.9906 | F1: 0.9934 | ROC-AUC: 0.9992 || Test Loss: 0.4466 | Acc: 0.9326 | Prec: 0.9843 | Recall: 0.9424 | F1: 0.9629 | ROC-AUC: 0.9318\n",
      "Max val ROC-AUC: 0.9517\n",
      "Training with d_model=64, nhead=2, num_layers=6, dropout=0.1, lr=0.001\n"
     ]
    },
    {
     "data": {
      "application/vnd.jupyter.widget-view+json": {
       "model_id": "c26fc079512b4573bd5db560bb99f27c",
       "version_major": 2,
       "version_minor": 0
      },
      "text/plain": [
       "  0%|          | 0/10 [00:00<?, ?it/s]"
      ]
     },
     "metadata": {},
     "output_type": "display_data"
    },
    {
     "name": "stdout",
     "output_type": "stream",
     "text": [
      "Epoch: 10 | Train Loss: 0.0527 | Acc: 0.9859 | Prec: 0.9904 | Recall: 0.9789 | F1: 0.9847 | ROC-AUC: 0.9970 || Test Loss: 0.3253 | Acc: 0.9372 | Prec: 0.9819 | Recall: 0.9499 | F1: 0.9656 | ROC-AUC: 0.9217\n",
      "Max val ROC-AUC: 0.9398\n",
      "Training with d_model=64, nhead=2, num_layers=6, dropout=0.1, lr=0.001\n"
     ]
    },
    {
     "data": {
      "application/vnd.jupyter.widget-view+json": {
       "model_id": "bb5ee2211f4148fd94b1ea3520b80132",
       "version_major": 2,
       "version_minor": 0
      },
      "text/plain": [
       "  0%|          | 0/10 [00:00<?, ?it/s]"
      ]
     },
     "metadata": {},
     "output_type": "display_data"
    },
    {
     "name": "stdout",
     "output_type": "stream",
     "text": [
      "Epoch: 10 | Train Loss: 0.0513 | Acc: 0.9865 | Prec: 0.9934 | Recall: 0.9775 | F1: 0.9854 | ROC-AUC: 0.9956 || Test Loss: 0.3061 | Acc: 0.9302 | Prec: 0.9894 | Recall: 0.9348 | F1: 0.9613 | ROC-AUC: 0.9458\n",
      "Max val ROC-AUC: 0.9538\n",
      "Training with d_model=64, nhead=2, num_layers=6, dropout=0.1, lr=0.001\n"
     ]
    },
    {
     "data": {
      "application/vnd.jupyter.widget-view+json": {
       "model_id": "5a3906cbd0e447c5ad462271d98f8fd7",
       "version_major": 2,
       "version_minor": 0
      },
      "text/plain": [
       "  0%|          | 0/10 [00:00<?, ?it/s]"
      ]
     },
     "metadata": {},
     "output_type": "display_data"
    },
    {
     "name": "stdout",
     "output_type": "stream",
     "text": [
      "Epoch: 10 | Train Loss: 0.0370 | Acc: 0.9896 | Prec: 0.9934 | Recall: 0.9840 | F1: 0.9887 | ROC-AUC: 0.9984 || Test Loss: 0.4459 | Acc: 0.8884 | Prec: 0.9861 | Recall: 0.8922 | F1: 0.9368 | ROC-AUC: 0.9490\n",
      "Max val ROC-AUC: 0.9519\n",
      "Training with d_model=64, nhead=2, num_layers=6, dropout=0.3, lr=0.1\n"
     ]
    },
    {
     "data": {
      "application/vnd.jupyter.widget-view+json": {
       "model_id": "1e7f7d6f22384487a15729ec1f4d0f35",
       "version_major": 2,
       "version_minor": 0
      },
      "text/plain": [
       "  0%|          | 0/10 [00:00<?, ?it/s]"
      ]
     },
     "metadata": {},
     "output_type": "display_data"
    },
    {
     "name": "stdout",
     "output_type": "stream",
     "text": [
      "Epoch: 10 | Train Loss: 0.6973 | Acc: 0.5133 | Prec: 0.4482 | Recall: 0.2135 | F1: 0.2892 | ROC-AUC: 0.4918 || Test Loss: 0.9272 | Acc: 0.0721 | Prec: 0.0000 | Recall: 0.0000 | F1: 0.0000 | ROC-AUC: 0.5000\n",
      "Max val ROC-AUC: 0.5078\n",
      "Training with d_model=64, nhead=2, num_layers=6, dropout=0.3, lr=0.1\n"
     ]
    },
    {
     "data": {
      "application/vnd.jupyter.widget-view+json": {
       "model_id": "6303c6a0812e484481adc2999ecf595d",
       "version_major": 2,
       "version_minor": 0
      },
      "text/plain": [
       "  0%|          | 0/10 [00:00<?, ?it/s]"
      ]
     },
     "metadata": {},
     "output_type": "display_data"
    },
    {
     "name": "stdout",
     "output_type": "stream",
     "text": [
      "Epoch: 10 | Train Loss: 0.5606 | Acc: 0.7444 | Prec: 0.8705 | Recall: 0.5272 | F1: 0.6567 | ROC-AUC: 0.7826 || Test Loss: 0.3990 | Acc: 0.7605 | Prec: 0.9966 | Recall: 0.7444 | F1: 0.8522 | ROC-AUC: 0.8665\n",
      "Max val ROC-AUC: 0.9359\n",
      "Training with d_model=64, nhead=2, num_layers=6, dropout=0.3, lr=0.1\n"
     ]
    },
    {
     "data": {
      "application/vnd.jupyter.widget-view+json": {
       "model_id": "99eaef9061f340bca9eb9c04ce316511",
       "version_major": 2,
       "version_minor": 0
      },
      "text/plain": [
       "  0%|          | 0/10 [00:00<?, ?it/s]"
      ]
     },
     "metadata": {},
     "output_type": "display_data"
    },
    {
     "name": "stdout",
     "output_type": "stream",
     "text": [
      "Epoch: 10 | Train Loss: 0.4421 | Acc: 0.8235 | Prec: 0.7555 | Recall: 0.9158 | F1: 0.8280 | ROC-AUC: 0.8751 || Test Loss: 0.3655 | Acc: 0.9488 | Prec: 0.9724 | Recall: 0.9724 | F1: 0.9724 | ROC-AUC: 0.9165\n",
      "Max val ROC-AUC: 0.9647\n",
      "Training with d_model=64, nhead=2, num_layers=6, dropout=0.3, lr=0.1\n"
     ]
    },
    {
     "data": {
      "application/vnd.jupyter.widget-view+json": {
       "model_id": "0abc25fd59d34bafafac82d48adb7e5c",
       "version_major": 2,
       "version_minor": 0
      },
      "text/plain": [
       "  0%|          | 0/10 [00:00<?, ?it/s]"
      ]
     },
     "metadata": {},
     "output_type": "display_data"
    },
    {
     "name": "stdout",
     "output_type": "stream",
     "text": [
      "Epoch: 10 | Train Loss: 0.6471 | Acc: 0.5904 | Prec: 0.5548 | Recall: 0.5919 | F1: 0.5727 | ROC-AUC: 0.6499 || Test Loss: 0.6812 | Acc: 0.6698 | Prec: 0.9886 | Recall: 0.6516 | F1: 0.7855 | ROC-AUC: 0.8897\n",
      "Max val ROC-AUC: 0.9526\n",
      "Training with d_model=64, nhead=2, num_layers=6, dropout=0.3, lr=0.1\n"
     ]
    },
    {
     "data": {
      "application/vnd.jupyter.widget-view+json": {
       "model_id": "8c9879e398684f50bccbbe9cdd2e4143",
       "version_major": 2,
       "version_minor": 0
      },
      "text/plain": [
       "  0%|          | 0/10 [00:00<?, ?it/s]"
      ]
     },
     "metadata": {},
     "output_type": "display_data"
    },
    {
     "name": "stdout",
     "output_type": "stream",
     "text": [
      "Epoch: 10 | Train Loss: 0.5726 | Acc: 0.7460 | Prec: 0.8442 | Recall: 0.5548 | F1: 0.6696 | ROC-AUC: 0.7845 || Test Loss: 0.3760 | Acc: 0.7256 | Prec: 0.9862 | Recall: 0.7143 | F1: 0.8285 | ROC-AUC: 0.8374\n",
      "Max val ROC-AUC: 0.9507\n",
      "Training with d_model=64, nhead=2, num_layers=6, dropout=0.3, lr=0.1\n"
     ]
    },
    {
     "data": {
      "application/vnd.jupyter.widget-view+json": {
       "model_id": "245b3654a54b47e2a93f57c88b0da2c7",
       "version_major": 2,
       "version_minor": 0
      },
      "text/plain": [
       "  0%|          | 0/10 [00:00<?, ?it/s]"
      ]
     },
     "metadata": {},
     "output_type": "display_data"
    },
    {
     "name": "stdout",
     "output_type": "stream",
     "text": [
      "Epoch: 10 | Train Loss: 0.6948 | Acc: 0.5244 | Prec: 0.4721 | Recall: 0.2150 | F1: 0.2954 | ROC-AUC: 0.5047 || Test Loss: 0.8155 | Acc: 0.0721 | Prec: 0.0000 | Recall: 0.0000 | F1: 0.0000 | ROC-AUC: 0.5000\n",
      "Max val ROC-AUC: 0.7946\n",
      "Training with d_model=64, nhead=2, num_layers=6, dropout=0.3, lr=0.1\n"
     ]
    },
    {
     "data": {
      "application/vnd.jupyter.widget-view+json": {
       "model_id": "46cb3e3b0d61405ab4e1a6e531646281",
       "version_major": 2,
       "version_minor": 0
      },
      "text/plain": [
       "  0%|          | 0/10 [00:00<?, ?it/s]"
      ]
     },
     "metadata": {},
     "output_type": "display_data"
    },
    {
     "name": "stdout",
     "output_type": "stream",
     "text": [
      "Epoch: 10 | Train Loss: 0.4839 | Acc: 0.7949 | Prec: 0.7310 | Recall: 0.8824 | F1: 0.7996 | ROC-AUC: 0.8616 || Test Loss: 0.9900 | Acc: 0.9419 | Prec: 0.9845 | Recall: 0.9524 | F1: 0.9682 | ROC-AUC: 0.8957\n",
      "Max val ROC-AUC: 0.9525\n",
      "Training with d_model=64, nhead=2, num_layers=6, dropout=0.3, lr=0.1\n"
     ]
    },
    {
     "data": {
      "application/vnd.jupyter.widget-view+json": {
       "model_id": "8e4536d283dd4f59b19ec9c418713ff8",
       "version_major": 2,
       "version_minor": 0
      },
      "text/plain": [
       "  0%|          | 0/10 [00:00<?, ?it/s]"
      ]
     },
     "metadata": {},
     "output_type": "display_data"
    },
    {
     "name": "stdout",
     "output_type": "stream",
     "text": [
      "Epoch: 10 | Train Loss: 0.6942 | Acc: 0.5147 | Prec: 0.4661 | Recall: 0.3195 | F1: 0.3791 | ROC-AUC: 0.5030 || Test Loss: 0.7902 | Acc: 0.0721 | Prec: 0.0000 | Recall: 0.0000 | F1: 0.0000 | ROC-AUC: 0.5000\n",
      "Max val ROC-AUC: 0.5000\n",
      "Training with d_model=64, nhead=2, num_layers=6, dropout=0.3, lr=0.1\n"
     ]
    },
    {
     "data": {
      "application/vnd.jupyter.widget-view+json": {
       "model_id": "f3e7c16bc2bc4cd1b646715c5bee2734",
       "version_major": 2,
       "version_minor": 0
      },
      "text/plain": [
       "  0%|          | 0/10 [00:00<?, ?it/s]"
      ]
     },
     "metadata": {},
     "output_type": "display_data"
    },
    {
     "name": "stdout",
     "output_type": "stream",
     "text": [
      "Epoch: 10 | Train Loss: 0.6658 | Acc: 0.5810 | Prec: 0.6418 | Recall: 0.2186 | F1: 0.3261 | ROC-AUC: 0.5813 || Test Loss: 0.5803 | Acc: 0.3233 | Prec: 1.0000 | Recall: 0.2707 | F1: 0.4260 | ROC-AUC: 0.6366\n",
      "Max val ROC-AUC: 0.9671\n",
      "Training with d_model=64, nhead=2, num_layers=6, dropout=0.3, lr=0.1\n"
     ]
    },
    {
     "data": {
      "application/vnd.jupyter.widget-view+json": {
       "model_id": "903cb3b4d17541d98ce94a1adb4a4e3c",
       "version_major": 2,
       "version_minor": 0
      },
      "text/plain": [
       "  0%|          | 0/10 [00:00<?, ?it/s]"
      ]
     },
     "metadata": {},
     "output_type": "display_data"
    },
    {
     "name": "stdout",
     "output_type": "stream",
     "text": [
      "Epoch: 10 | Train Loss: 0.5128 | Acc: 0.7922 | Prec: 0.7207 | Recall: 0.9012 | F1: 0.8009 | ROC-AUC: 0.8203 || Test Loss: 0.5417 | Acc: 0.6628 | Prec: 0.9961 | Recall: 0.6391 | F1: 0.7786 | ROC-AUC: 0.8149\n",
      "Max val ROC-AUC: 0.9377\n",
      "Training with d_model=64, nhead=2, num_layers=6, dropout=0.3, lr=0.01\n"
     ]
    },
    {
     "data": {
      "application/vnd.jupyter.widget-view+json": {
       "model_id": "c4154d550d664e098e58657feb10c68b",
       "version_major": 2,
       "version_minor": 0
      },
      "text/plain": [
       "  0%|          | 0/10 [00:00<?, ?it/s]"
      ]
     },
     "metadata": {},
     "output_type": "display_data"
    },
    {
     "name": "stdout",
     "output_type": "stream",
     "text": [
      "Epoch: 10 | Train Loss: 0.1538 | Acc: 0.9505 | Prec: 0.9753 | Recall: 0.9165 | F1: 0.9450 | ROC-AUC: 0.9823 || Test Loss: 0.4702 | Acc: 0.8837 | Prec: 0.9807 | Recall: 0.8922 | F1: 0.9344 | ROC-AUC: 0.9225\n",
      "Max val ROC-AUC: 0.9550\n",
      "Training with d_model=64, nhead=2, num_layers=6, dropout=0.3, lr=0.01\n"
     ]
    },
    {
     "data": {
      "application/vnd.jupyter.widget-view+json": {
       "model_id": "4320742c3ac94cd2b2e09bbc9c578ac9",
       "version_major": 2,
       "version_minor": 0
      },
      "text/plain": [
       "  0%|          | 0/10 [00:00<?, ?it/s]"
      ]
     },
     "metadata": {},
     "output_type": "display_data"
    },
    {
     "name": "stdout",
     "output_type": "stream",
     "text": [
      "Epoch: 10 | Train Loss: 0.1338 | Acc: 0.9603 | Prec: 0.9809 | Recall: 0.9325 | F1: 0.9561 | ROC-AUC: 0.9798 || Test Loss: 0.5352 | Acc: 0.8558 | Prec: 0.9884 | Recall: 0.8546 | F1: 0.9167 | ROC-AUC: 0.9241\n",
      "Max val ROC-AUC: 0.9532\n",
      "Training with d_model=64, nhead=2, num_layers=6, dropout=0.3, lr=0.01\n"
     ]
    },
    {
     "data": {
      "application/vnd.jupyter.widget-view+json": {
       "model_id": "d20fbc466f3540d4bef9810201a1a20b",
       "version_major": 2,
       "version_minor": 0
      },
      "text/plain": [
       "  0%|          | 0/10 [00:00<?, ?it/s]"
      ]
     },
     "metadata": {},
     "output_type": "display_data"
    },
    {
     "name": "stdout",
     "output_type": "stream",
     "text": [
      "Epoch: 10 | Train Loss: 0.1120 | Acc: 0.9656 | Prec: 0.9819 | Recall: 0.9434 | F1: 0.9622 | ROC-AUC: 0.9898 || Test Loss: 0.3391 | Acc: 0.9093 | Prec: 0.9891 | Recall: 0.9123 | F1: 0.9492 | ROC-AUC: 0.9472\n",
      "Max val ROC-AUC: 0.9556\n",
      "Training with d_model=64, nhead=2, num_layers=6, dropout=0.3, lr=0.01\n"
     ]
    },
    {
     "data": {
      "application/vnd.jupyter.widget-view+json": {
       "model_id": "e0283437f0cb4c3f865a7d31aa741ebf",
       "version_major": 2,
       "version_minor": 0
      },
      "text/plain": [
       "  0%|          | 0/10 [00:00<?, ?it/s]"
      ]
     },
     "metadata": {},
     "output_type": "display_data"
    },
    {
     "name": "stdout",
     "output_type": "stream",
     "text": [
      "Epoch: 10 | Train Loss: 0.1084 | Acc: 0.9714 | Prec: 0.9807 | Recall: 0.9572 | F1: 0.9688 | ROC-AUC: 0.9880 || Test Loss: 0.2779 | Acc: 0.9326 | Prec: 0.9719 | Recall: 0.9549 | F1: 0.9633 | ROC-AUC: 0.8978\n",
      "Max val ROC-AUC: 0.9609\n",
      "Training with d_model=64, nhead=2, num_layers=6, dropout=0.3, lr=0.01\n"
     ]
    },
    {
     "data": {
      "application/vnd.jupyter.widget-view+json": {
       "model_id": "ec3c395cabf9432ab32d59e2d07c9c5e",
       "version_major": 2,
       "version_minor": 0
      },
      "text/plain": [
       "  0%|          | 0/10 [00:00<?, ?it/s]"
      ]
     },
     "metadata": {},
     "output_type": "display_data"
    },
    {
     "name": "stdout",
     "output_type": "stream",
     "text": [
      "Epoch: 10 | Train Loss: 0.1466 | Acc: 0.9603 | Prec: 0.9680 | Recall: 0.9455 | F1: 0.9566 | ROC-AUC: 0.9837 || Test Loss: 0.3083 | Acc: 0.9279 | Prec: 0.9842 | Recall: 0.9373 | F1: 0.9602 | ROC-AUC: 0.9358\n",
      "Max val ROC-AUC: 0.9426\n",
      "Training with d_model=64, nhead=2, num_layers=6, dropout=0.3, lr=0.01\n"
     ]
    },
    {
     "data": {
      "application/vnd.jupyter.widget-view+json": {
       "model_id": "00f76e7e61984d028865741db353af28",
       "version_major": 2,
       "version_minor": 0
      },
      "text/plain": [
       "  0%|          | 0/10 [00:00<?, ?it/s]"
      ]
     },
     "metadata": {},
     "output_type": "display_data"
    },
    {
     "name": "stdout",
     "output_type": "stream",
     "text": [
      "Epoch: 10 | Train Loss: 0.1401 | Acc: 0.9623 | Prec: 0.9781 | Recall: 0.9397 | F1: 0.9585 | ROC-AUC: 0.9827 || Test Loss: 0.5837 | Acc: 0.8674 | Prec: 0.9858 | Recall: 0.8697 | F1: 0.9241 | ROC-AUC: 0.9380\n",
      "Max val ROC-AUC: 0.9601\n",
      "Training with d_model=64, nhead=2, num_layers=6, dropout=0.3, lr=0.01\n"
     ]
    },
    {
     "data": {
      "application/vnd.jupyter.widget-view+json": {
       "model_id": "d8d7450864734d7c84267b52fc82105f",
       "version_major": 2,
       "version_minor": 0
      },
      "text/plain": [
       "  0%|          | 0/10 [00:00<?, ?it/s]"
      ]
     },
     "metadata": {},
     "output_type": "display_data"
    },
    {
     "name": "stdout",
     "output_type": "stream",
     "text": [
      "Epoch: 10 | Train Loss: 0.1163 | Acc: 0.9640 | Prec: 0.9833 | Recall: 0.9383 | F1: 0.9602 | ROC-AUC: 0.9885 || Test Loss: 0.4286 | Acc: 0.9000 | Prec: 0.9863 | Recall: 0.9048 | F1: 0.9438 | ROC-AUC: 0.9530\n",
      "Max val ROC-AUC: 0.9530\n",
      "Training with d_model=64, nhead=2, num_layers=6, dropout=0.3, lr=0.01\n"
     ]
    },
    {
     "data": {
      "application/vnd.jupyter.widget-view+json": {
       "model_id": "9a267d607c2a4559b3edfa614ce88b36",
       "version_major": 2,
       "version_minor": 0
      },
      "text/plain": [
       "  0%|          | 0/10 [00:00<?, ?it/s]"
      ]
     },
     "metadata": {},
     "output_type": "display_data"
    },
    {
     "name": "stdout",
     "output_type": "stream",
     "text": [
      "Epoch: 10 | Train Loss: 0.1308 | Acc: 0.9552 | Prec: 0.9763 | Recall: 0.9259 | F1: 0.9504 | ROC-AUC: 0.9861 || Test Loss: 0.3374 | Acc: 0.8744 | Prec: 0.9859 | Recall: 0.8772 | F1: 0.9284 | ROC-AUC: 0.9297\n",
      "Max val ROC-AUC: 0.9641\n",
      "Training with d_model=64, nhead=2, num_layers=6, dropout=0.3, lr=0.01\n"
     ]
    },
    {
     "data": {
      "application/vnd.jupyter.widget-view+json": {
       "model_id": "77816c0995ff420d99e86b95c0dd5072",
       "version_major": 2,
       "version_minor": 0
      },
      "text/plain": [
       "  0%|          | 0/10 [00:00<?, ?it/s]"
      ]
     },
     "metadata": {},
     "output_type": "display_data"
    },
    {
     "name": "stdout",
     "output_type": "stream",
     "text": [
      "Epoch: 10 | Train Loss: 0.1383 | Acc: 0.9579 | Prec: 0.9815 | Recall: 0.9267 | F1: 0.9533 | ROC-AUC: 0.9842 || Test Loss: 0.3474 | Acc: 0.8977 | Prec: 0.9837 | Recall: 0.9048 | F1: 0.9426 | ROC-AUC: 0.8909\n",
      "Max val ROC-AUC: 0.9413\n",
      "Training with d_model=64, nhead=2, num_layers=6, dropout=0.3, lr=0.01\n"
     ]
    },
    {
     "data": {
      "application/vnd.jupyter.widget-view+json": {
       "model_id": "54e996c408fa49ad8db43f94e0434fad",
       "version_major": 2,
       "version_minor": 0
      },
      "text/plain": [
       "  0%|          | 0/10 [00:00<?, ?it/s]"
      ]
     },
     "metadata": {},
     "output_type": "display_data"
    },
    {
     "name": "stdout",
     "output_type": "stream",
     "text": [
      "Epoch: 10 | Train Loss: 0.1550 | Acc: 0.9535 | Prec: 0.9620 | Recall: 0.9368 | F1: 0.9492 | ROC-AUC: 0.9822 || Test Loss: 0.6743 | Acc: 0.8395 | Prec: 0.9911 | Recall: 0.8346 | F1: 0.9061 | ROC-AUC: 0.8989\n",
      "Max val ROC-AUC: 0.9585\n",
      "Training with d_model=64, nhead=2, num_layers=6, dropout=0.3, lr=0.001\n"
     ]
    },
    {
     "data": {
      "application/vnd.jupyter.widget-view+json": {
       "model_id": "ab6313a64e5b485eba2f1c0260fb5693",
       "version_major": 2,
       "version_minor": 0
      },
      "text/plain": [
       "  0%|          | 0/10 [00:00<?, ?it/s]"
      ]
     },
     "metadata": {},
     "output_type": "display_data"
    },
    {
     "name": "stdout",
     "output_type": "stream",
     "text": [
      "Epoch: 10 | Train Loss: 0.0444 | Acc: 0.9869 | Prec: 0.9905 | Recall: 0.9811 | F1: 0.9858 | ROC-AUC: 0.9980 || Test Loss: 0.4402 | Acc: 0.9093 | Prec: 0.9865 | Recall: 0.9148 | F1: 0.9493 | ROC-AUC: 0.9487\n",
      "Max val ROC-AUC: 0.9487\n",
      "Training with d_model=64, nhead=2, num_layers=6, dropout=0.3, lr=0.001\n"
     ]
    },
    {
     "data": {
      "application/vnd.jupyter.widget-view+json": {
       "model_id": "5aa339d063db45b68131425b0063e472",
       "version_major": 2,
       "version_minor": 0
      },
      "text/plain": [
       "  0%|          | 0/10 [00:00<?, ?it/s]"
      ]
     },
     "metadata": {},
     "output_type": "display_data"
    },
    {
     "name": "stdout",
     "output_type": "stream",
     "text": [
      "Epoch: 10 | Train Loss: 0.0502 | Acc: 0.9852 | Prec: 0.9904 | Recall: 0.9775 | F1: 0.9839 | ROC-AUC: 0.9971 || Test Loss: 0.3982 | Acc: 0.9209 | Prec: 0.9740 | Recall: 0.9398 | F1: 0.9566 | ROC-AUC: 0.9436\n",
      "Max val ROC-AUC: 0.9752\n",
      "Training with d_model=64, nhead=2, num_layers=6, dropout=0.3, lr=0.001\n"
     ]
    },
    {
     "data": {
      "application/vnd.jupyter.widget-view+json": {
       "model_id": "29a3b7d6df0f41fa8c4fe3c187e5e822",
       "version_major": 2,
       "version_minor": 0
      },
      "text/plain": [
       "  0%|          | 0/10 [00:00<?, ?it/s]"
      ]
     },
     "metadata": {},
     "output_type": "display_data"
    },
    {
     "name": "stdout",
     "output_type": "stream",
     "text": [
      "Epoch: 10 | Train Loss: 0.0475 | Acc: 0.9862 | Prec: 0.9890 | Recall: 0.9811 | F1: 0.9851 | ROC-AUC: 0.9976 || Test Loss: 0.3619 | Acc: 0.9233 | Prec: 0.9841 | Recall: 0.9323 | F1: 0.9575 | ROC-AUC: 0.9238\n",
      "Max val ROC-AUC: 0.9244\n",
      "Training with d_model=64, nhead=2, num_layers=6, dropout=0.3, lr=0.001\n"
     ]
    },
    {
     "data": {
      "application/vnd.jupyter.widget-view+json": {
       "model_id": "87c183c1956b4b508e6e933837fd7402",
       "version_major": 2,
       "version_minor": 0
      },
      "text/plain": [
       "  0%|          | 0/10 [00:00<?, ?it/s]"
      ]
     },
     "metadata": {},
     "output_type": "display_data"
    },
    {
     "name": "stdout",
     "output_type": "stream",
     "text": [
      "Epoch: 10 | Train Loss: 0.0370 | Acc: 0.9909 | Prec: 0.9920 | Recall: 0.9884 | F1: 0.9902 | ROC-AUC: 0.9981 || Test Loss: 0.3810 | Acc: 0.9326 | Prec: 0.9744 | Recall: 0.9524 | F1: 0.9632 | ROC-AUC: 0.9273\n",
      "Max val ROC-AUC: 0.9665\n",
      "Training with d_model=64, nhead=2, num_layers=6, dropout=0.3, lr=0.001\n"
     ]
    },
    {
     "data": {
      "application/vnd.jupyter.widget-view+json": {
       "model_id": "16dd1ab5eaf646f9b2d06e58c5265a9d",
       "version_major": 2,
       "version_minor": 0
      },
      "text/plain": [
       "  0%|          | 0/10 [00:00<?, ?it/s]"
      ]
     },
     "metadata": {},
     "output_type": "display_data"
    },
    {
     "name": "stdout",
     "output_type": "stream",
     "text": [
      "Epoch: 10 | Train Loss: 0.0417 | Acc: 0.9902 | Prec: 0.9956 | Recall: 0.9833 | F1: 0.9894 | ROC-AUC: 0.9970 || Test Loss: 0.3381 | Acc: 0.9233 | Prec: 0.9816 | Recall: 0.9348 | F1: 0.9576 | ROC-AUC: 0.9462\n",
      "Max val ROC-AUC: 0.9600\n",
      "Training with d_model=64, nhead=2, num_layers=6, dropout=0.3, lr=0.001\n"
     ]
    },
    {
     "data": {
      "application/vnd.jupyter.widget-view+json": {
       "model_id": "14a0351977ac46ddbd7b5af8c9facb9f",
       "version_major": 2,
       "version_minor": 0
      },
      "text/plain": [
       "  0%|          | 0/10 [00:00<?, ?it/s]"
      ]
     },
     "metadata": {},
     "output_type": "display_data"
    },
    {
     "name": "stdout",
     "output_type": "stream",
     "text": [
      "Epoch: 10 | Train Loss: 0.0255 | Acc: 0.9929 | Prec: 0.9963 | Recall: 0.9884 | F1: 0.9923 | ROC-AUC: 0.9992 || Test Loss: 0.5755 | Acc: 0.9116 | Prec: 0.9839 | Recall: 0.9198 | F1: 0.9508 | ROC-AUC: 0.9530\n",
      "Max val ROC-AUC: 0.9599\n",
      "Training with d_model=64, nhead=2, num_layers=6, dropout=0.3, lr=0.001\n"
     ]
    },
    {
     "data": {
      "application/vnd.jupyter.widget-view+json": {
       "model_id": "e53d42a14d964d22b8943d574212ee2e",
       "version_major": 2,
       "version_minor": 0
      },
      "text/plain": [
       "  0%|          | 0/10 [00:00<?, ?it/s]"
      ]
     },
     "metadata": {},
     "output_type": "display_data"
    },
    {
     "name": "stdout",
     "output_type": "stream",
     "text": [
      "Epoch: 10 | Train Loss: 0.0219 | Acc: 0.9939 | Prec: 0.9949 | Recall: 0.9920 | F1: 0.9935 | ROC-AUC: 0.9995 || Test Loss: 0.4620 | Acc: 0.9279 | Prec: 0.9817 | Recall: 0.9398 | F1: 0.9603 | ROC-AUC: 0.9327\n",
      "Max val ROC-AUC: 0.9506\n",
      "Training with d_model=64, nhead=2, num_layers=6, dropout=0.3, lr=0.001\n"
     ]
    },
    {
     "data": {
      "application/vnd.jupyter.widget-view+json": {
       "model_id": "3808951c3d62499a97b418b89e0488d6",
       "version_major": 2,
       "version_minor": 0
      },
      "text/plain": [
       "  0%|          | 0/10 [00:00<?, ?it/s]"
      ]
     },
     "metadata": {},
     "output_type": "display_data"
    },
    {
     "name": "stdout",
     "output_type": "stream",
     "text": [
      "Epoch: 10 | Train Loss: 0.0398 | Acc: 0.9838 | Prec: 0.9926 | Recall: 0.9724 | F1: 0.9824 | ROC-AUC: 0.9989 || Test Loss: 0.4634 | Acc: 0.9140 | Prec: 0.9840 | Recall: 0.9223 | F1: 0.9521 | ROC-AUC: 0.9441\n",
      "Max val ROC-AUC: 0.9673\n",
      "Training with d_model=64, nhead=2, num_layers=6, dropout=0.3, lr=0.001\n"
     ]
    },
    {
     "data": {
      "application/vnd.jupyter.widget-view+json": {
       "model_id": "167cbf5b6ead4c0db24bca9703d75cee",
       "version_major": 2,
       "version_minor": 0
      },
      "text/plain": [
       "  0%|          | 0/10 [00:00<?, ?it/s]"
      ]
     },
     "metadata": {},
     "output_type": "display_data"
    },
    {
     "name": "stdout",
     "output_type": "stream",
     "text": [
      "Epoch: 10 | Train Loss: 0.0648 | Acc: 0.9811 | Prec: 0.9839 | Recall: 0.9753 | F1: 0.9796 | ROC-AUC: 0.9963 || Test Loss: 0.3238 | Acc: 0.9279 | Prec: 0.9792 | Recall: 0.9424 | F1: 0.9604 | ROC-AUC: 0.9329\n",
      "Max val ROC-AUC: 0.9508\n",
      "Training with d_model=64, nhead=2, num_layers=6, dropout=0.3, lr=0.001\n"
     ]
    },
    {
     "data": {
      "application/vnd.jupyter.widget-view+json": {
       "model_id": "0bf431bea7a64b8fbc8b0a9bd19ffaf1",
       "version_major": 2,
       "version_minor": 0
      },
      "text/plain": [
       "  0%|          | 0/10 [00:00<?, ?it/s]"
      ]
     },
     "metadata": {},
     "output_type": "display_data"
    },
    {
     "name": "stdout",
     "output_type": "stream",
     "text": [
      "Epoch: 10 | Train Loss: 0.0458 | Acc: 0.9855 | Prec: 0.9926 | Recall: 0.9760 | F1: 0.9843 | ROC-AUC: 0.9980 || Test Loss: 0.5609 | Acc: 0.9047 | Prec: 0.9864 | Recall: 0.9098 | F1: 0.9465 | ROC-AUC: 0.9521\n",
      "Max val ROC-AUC: 0.9521\n",
      "Training with d_model=64, nhead=2, num_layers=6, dropout=0.5, lr=0.1\n"
     ]
    },
    {
     "data": {
      "application/vnd.jupyter.widget-view+json": {
       "model_id": "b0f56721175a4cd18b3796a31bbdd0bd",
       "version_major": 2,
       "version_minor": 0
      },
      "text/plain": [
       "  0%|          | 0/10 [00:00<?, ?it/s]"
      ]
     },
     "metadata": {},
     "output_type": "display_data"
    },
    {
     "name": "stdout",
     "output_type": "stream",
     "text": [
      "Epoch: 10 | Train Loss: 0.6951 | Acc: 0.5140 | Prec: 0.4588 | Recall: 0.2665 | F1: 0.3372 | ROC-AUC: 0.4934 || Test Loss: 0.7692 | Acc: 0.0721 | Prec: 0.0000 | Recall: 0.0000 | F1: 0.0000 | ROC-AUC: 0.5000\n",
      "Max val ROC-AUC: 0.5000\n",
      "Training with d_model=64, nhead=2, num_layers=6, dropout=0.5, lr=0.1\n"
     ]
    },
    {
     "data": {
      "application/vnd.jupyter.widget-view+json": {
       "model_id": "20579da3b4634f1486aebd0011cb0c12",
       "version_major": 2,
       "version_minor": 0
      },
      "text/plain": [
       "  0%|          | 0/10 [00:00<?, ?it/s]"
      ]
     },
     "metadata": {},
     "output_type": "display_data"
    },
    {
     "name": "stdout",
     "output_type": "stream",
     "text": [
      "Epoch: 10 | Train Loss: 0.6975 | Acc: 0.5291 | Prec: 0.4851 | Recall: 0.2491 | F1: 0.3292 | ROC-AUC: 0.5095 || Test Loss: 0.8195 | Acc: 0.0721 | Prec: 0.0000 | Recall: 0.0000 | F1: 0.0000 | ROC-AUC: 0.5000\n",
      "Max val ROC-AUC: 0.5000\n",
      "Training with d_model=64, nhead=2, num_layers=6, dropout=0.5, lr=0.1\n"
     ]
    },
    {
     "data": {
      "application/vnd.jupyter.widget-view+json": {
       "model_id": "81b5d2a177b1431a8500514a650a1d8e",
       "version_major": 2,
       "version_minor": 0
      },
      "text/plain": [
       "  0%|          | 0/10 [00:00<?, ?it/s]"
      ]
     },
     "metadata": {},
     "output_type": "display_data"
    },
    {
     "name": "stdout",
     "output_type": "stream",
     "text": [
      "Epoch: 10 | Train Loss: 0.6957 | Acc: 0.5167 | Prec: 0.4658 | Recall: 0.2869 | F1: 0.3551 | ROC-AUC: 0.4987 || Test Loss: 0.7504 | Acc: 0.0721 | Prec: 0.0000 | Recall: 0.0000 | F1: 0.0000 | ROC-AUC: 0.5000\n",
      "Max val ROC-AUC: 0.5000\n",
      "Training with d_model=64, nhead=2, num_layers=6, dropout=0.5, lr=0.1\n"
     ]
    },
    {
     "data": {
      "application/vnd.jupyter.widget-view+json": {
       "model_id": "bf7ffa52c95445539f0d83228d8f8405",
       "version_major": 2,
       "version_minor": 0
      },
      "text/plain": [
       "  0%|          | 0/10 [00:00<?, ?it/s]"
      ]
     },
     "metadata": {},
     "output_type": "display_data"
    },
    {
     "name": "stdout",
     "output_type": "stream",
     "text": [
      "Epoch: 10 | Train Loss: 0.6931 | Acc: 0.5301 | Prec: 0.4713 | Recall: 0.1075 | F1: 0.1750 | ROC-AUC: 0.4995 || Test Loss: 0.6710 | Acc: 0.9279 | Prec: 0.9279 | Recall: 1.0000 | F1: 0.9626 | ROC-AUC: 0.5000\n",
      "Max val ROC-AUC: 0.5000\n",
      "Training with d_model=64, nhead=2, num_layers=6, dropout=0.5, lr=0.1\n"
     ]
    },
    {
     "data": {
      "application/vnd.jupyter.widget-view+json": {
       "model_id": "57a863d4bf514fb591701b926d21128f",
       "version_major": 2,
       "version_minor": 0
      },
      "text/plain": [
       "  0%|          | 0/10 [00:00<?, ?it/s]"
      ]
     },
     "metadata": {},
     "output_type": "display_data"
    },
    {
     "name": "stdout",
     "output_type": "stream",
     "text": [
      "Epoch: 10 | Train Loss: 0.6938 | Acc: 0.5241 | Prec: 0.4719 | Recall: 0.2193 | F1: 0.2995 | ROC-AUC: 0.5125 || Test Loss: 0.7379 | Acc: 0.0721 | Prec: 0.0000 | Recall: 0.0000 | F1: 0.0000 | ROC-AUC: 0.5000\n",
      "Max val ROC-AUC: 0.8487\n",
      "Training with d_model=64, nhead=2, num_layers=6, dropout=0.5, lr=0.1\n"
     ]
    },
    {
     "data": {
      "application/vnd.jupyter.widget-view+json": {
       "model_id": "7b7bc0b021e74e3c963ac25ef8481da1",
       "version_major": 2,
       "version_minor": 0
      },
      "text/plain": [
       "  0%|          | 0/10 [00:00<?, ?it/s]"
      ]
     },
     "metadata": {},
     "output_type": "display_data"
    },
    {
     "name": "stdout",
     "output_type": "stream",
     "text": [
      "Epoch: 10 | Train Loss: 0.6924 | Acc: 0.5288 | Prec: 0.3854 | Recall: 0.0269 | F1: 0.0502 | ROC-AUC: 0.4928 || Test Loss: 0.7273 | Acc: 0.0721 | Prec: 0.0000 | Recall: 0.0000 | F1: 0.0000 | ROC-AUC: 0.5000\n",
      "Max val ROC-AUC: 0.5002\n",
      "Training with d_model=64, nhead=2, num_layers=6, dropout=0.5, lr=0.1\n"
     ]
    },
    {
     "data": {
      "application/vnd.jupyter.widget-view+json": {
       "model_id": "2e641d23b4dd425e8e6379812c5f3974",
       "version_major": 2,
       "version_minor": 0
      },
      "text/plain": [
       "  0%|          | 0/10 [00:00<?, ?it/s]"
      ]
     },
     "metadata": {},
     "output_type": "display_data"
    },
    {
     "name": "stdout",
     "output_type": "stream",
     "text": [
      "Epoch: 10 | Train Loss: 0.7027 | Acc: 0.5251 | Prec: 0.4688 | Recall: 0.1801 | F1: 0.2602 | ROC-AUC: 0.4985 || Test Loss: 0.7667 | Acc: 0.0721 | Prec: 0.0000 | Recall: 0.0000 | F1: 0.0000 | ROC-AUC: 0.5000\n",
      "Max val ROC-AUC: 0.5000\n",
      "Training with d_model=64, nhead=2, num_layers=6, dropout=0.5, lr=0.1\n"
     ]
    },
    {
     "data": {
      "application/vnd.jupyter.widget-view+json": {
       "model_id": "7ec57219d8ff4a358f67cc7d7297f3f6",
       "version_major": 2,
       "version_minor": 0
      },
      "text/plain": [
       "  0%|          | 0/10 [00:00<?, ?it/s]"
      ]
     },
     "metadata": {},
     "output_type": "display_data"
    },
    {
     "name": "stdout",
     "output_type": "stream",
     "text": [
      "Epoch: 10 | Train Loss: 0.6946 | Acc: 0.5258 | Prec: 0.4750 | Recall: 0.2142 | F1: 0.2953 | ROC-AUC: 0.4996 || Test Loss: 0.7928 | Acc: 0.0721 | Prec: 0.0000 | Recall: 0.0000 | F1: 0.0000 | ROC-AUC: 0.5000\n",
      "Max val ROC-AUC: 0.6210\n",
      "Training with d_model=64, nhead=2, num_layers=6, dropout=0.5, lr=0.1\n"
     ]
    },
    {
     "data": {
      "application/vnd.jupyter.widget-view+json": {
       "model_id": "f41bb47333164d89a58d0e0c91271fb5",
       "version_major": 2,
       "version_minor": 0
      },
      "text/plain": [
       "  0%|          | 0/10 [00:00<?, ?it/s]"
      ]
     },
     "metadata": {},
     "output_type": "display_data"
    },
    {
     "name": "stdout",
     "output_type": "stream",
     "text": [
      "Epoch: 10 | Train Loss: 0.6954 | Acc: 0.5355 | Prec: 0.4972 | Recall: 0.1300 | F1: 0.2061 | ROC-AUC: 0.5162 || Test Loss: 0.8865 | Acc: 0.0721 | Prec: 0.0000 | Recall: 0.0000 | F1: 0.0000 | ROC-AUC: 0.5000\n",
      "Max val ROC-AUC: 0.5954\n",
      "Training with d_model=64, nhead=2, num_layers=6, dropout=0.5, lr=0.1\n"
     ]
    },
    {
     "data": {
      "application/vnd.jupyter.widget-view+json": {
       "model_id": "3b5dc2dd08164725a9e090eb51d76622",
       "version_major": 2,
       "version_minor": 0
      },
      "text/plain": [
       "  0%|          | 0/10 [00:00<?, ?it/s]"
      ]
     },
     "metadata": {},
     "output_type": "display_data"
    },
    {
     "name": "stdout",
     "output_type": "stream",
     "text": [
      "Epoch: 10 | Train Loss: 0.6956 | Acc: 0.5140 | Prec: 0.4461 | Recall: 0.1983 | F1: 0.2745 | ROC-AUC: 0.4812 || Test Loss: 0.8244 | Acc: 0.0721 | Prec: 0.0000 | Recall: 0.0000 | F1: 0.0000 | ROC-AUC: 0.5000\n",
      "Max val ROC-AUC: 0.7133\n",
      "Training with d_model=64, nhead=2, num_layers=6, dropout=0.5, lr=0.01\n"
     ]
    },
    {
     "data": {
      "application/vnd.jupyter.widget-view+json": {
       "model_id": "6c01b584967c466dafd6753851fd62e5",
       "version_major": 2,
       "version_minor": 0
      },
      "text/plain": [
       "  0%|          | 0/10 [00:00<?, ?it/s]"
      ]
     },
     "metadata": {},
     "output_type": "display_data"
    },
    {
     "name": "stdout",
     "output_type": "stream",
     "text": [
      "Epoch: 10 | Train Loss: 0.1879 | Acc: 0.9417 | Prec: 0.9740 | Recall: 0.8983 | F1: 0.9346 | ROC-AUC: 0.9723 || Test Loss: 0.3451 | Acc: 0.8721 | Prec: 0.9914 | Recall: 0.8697 | F1: 0.9266 | ROC-AUC: 0.9327\n",
      "Max val ROC-AUC: 0.9533\n",
      "Training with d_model=64, nhead=2, num_layers=6, dropout=0.5, lr=0.01\n"
     ]
    },
    {
     "data": {
      "application/vnd.jupyter.widget-view+json": {
       "model_id": "cc48a4c73f9a4196b092c8f046e58d1a",
       "version_major": 2,
       "version_minor": 0
      },
      "text/plain": [
       "  0%|          | 0/10 [00:00<?, ?it/s]"
      ]
     },
     "metadata": {},
     "output_type": "display_data"
    },
    {
     "name": "stdout",
     "output_type": "stream",
     "text": [
      "Epoch: 10 | Train Loss: 0.1374 | Acc: 0.9643 | Prec: 0.9789 | Recall: 0.9434 | F1: 0.9608 | ROC-AUC: 0.9822 || Test Loss: 0.4606 | Acc: 0.8698 | Prec: 0.9858 | Recall: 0.8722 | F1: 0.9255 | ROC-AUC: 0.9390\n",
      "Max val ROC-AUC: 0.9603\n",
      "Training with d_model=64, nhead=2, num_layers=6, dropout=0.5, lr=0.01\n"
     ]
    },
    {
     "data": {
      "application/vnd.jupyter.widget-view+json": {
       "model_id": "78bca162690440119388be918972d2b7",
       "version_major": 2,
       "version_minor": 0
      },
      "text/plain": [
       "  0%|          | 0/10 [00:00<?, ?it/s]"
      ]
     },
     "metadata": {},
     "output_type": "display_data"
    },
    {
     "name": "stdout",
     "output_type": "stream",
     "text": [
      "Epoch: 10 | Train Loss: 0.2039 | Acc: 0.9316 | Prec: 0.9688 | Recall: 0.8809 | F1: 0.9228 | ROC-AUC: 0.9681 || Test Loss: 0.3360 | Acc: 0.7581 | Prec: 0.9966 | Recall: 0.7419 | F1: 0.8506 | ROC-AUC: 0.9490\n",
      "Max val ROC-AUC: 0.9561\n",
      "Training with d_model=64, nhead=2, num_layers=6, dropout=0.5, lr=0.01\n"
     ]
    },
    {
     "data": {
      "application/vnd.jupyter.widget-view+json": {
       "model_id": "fcceac8a24a4477f95dcb719bbc78ff9",
       "version_major": 2,
       "version_minor": 0
      },
      "text/plain": [
       "  0%|          | 0/10 [00:00<?, ?it/s]"
      ]
     },
     "metadata": {},
     "output_type": "display_data"
    },
    {
     "name": "stdout",
     "output_type": "stream",
     "text": [
      "Epoch: 10 | Train Loss: 0.1548 | Acc: 0.9562 | Prec: 0.9763 | Recall: 0.9281 | F1: 0.9516 | ROC-AUC: 0.9816 || Test Loss: 0.4049 | Acc: 0.8628 | Prec: 0.9857 | Recall: 0.8647 | F1: 0.9212 | ROC-AUC: 0.9390\n",
      "Max val ROC-AUC: 0.9485\n",
      "Training with d_model=64, nhead=2, num_layers=6, dropout=0.5, lr=0.01\n"
     ]
    },
    {
     "data": {
      "application/vnd.jupyter.widget-view+json": {
       "model_id": "fa2826f17b034e7295aa1629ebc4eae7",
       "version_major": 2,
       "version_minor": 0
      },
      "text/plain": [
       "  0%|          | 0/10 [00:00<?, ?it/s]"
      ]
     },
     "metadata": {},
     "output_type": "display_data"
    },
    {
     "name": "stdout",
     "output_type": "stream",
     "text": [
      "Epoch: 10 | Train Loss: 0.1849 | Acc: 0.9431 | Prec: 0.9734 | Recall: 0.9020 | F1: 0.9363 | ROC-AUC: 0.9721 || Test Loss: 0.5733 | Acc: 0.7651 | Prec: 0.9869 | Recall: 0.7569 | F1: 0.8567 | ROC-AUC: 0.9253\n",
      "Max val ROC-AUC: 0.9580\n",
      "Training with d_model=64, nhead=2, num_layers=6, dropout=0.5, lr=0.01\n"
     ]
    },
    {
     "data": {
      "application/vnd.jupyter.widget-view+json": {
       "model_id": "39fa4923a7e9464a9a53b66c0956651a",
       "version_major": 2,
       "version_minor": 0
      },
      "text/plain": [
       "  0%|          | 0/10 [00:00<?, ?it/s]"
      ]
     },
     "metadata": {},
     "output_type": "display_data"
    },
    {
     "name": "stdout",
     "output_type": "stream",
     "text": [
      "Epoch: 10 | Train Loss: 0.1423 | Acc: 0.9552 | Prec: 0.9777 | Recall: 0.9245 | F1: 0.9504 | ROC-AUC: 0.9809 || Test Loss: 0.5355 | Acc: 0.8930 | Prec: 0.9836 | Recall: 0.8997 | F1: 0.9398 | ROC-AUC: 0.9035\n",
      "Max val ROC-AUC: 0.9573\n",
      "Training with d_model=64, nhead=2, num_layers=6, dropout=0.5, lr=0.01\n"
     ]
    },
    {
     "data": {
      "application/vnd.jupyter.widget-view+json": {
       "model_id": "d3f339dae8da43dfb86f6d93e46e14a0",
       "version_major": 2,
       "version_minor": 0
      },
      "text/plain": [
       "  0%|          | 0/10 [00:00<?, ?it/s]"
      ]
     },
     "metadata": {},
     "output_type": "display_data"
    },
    {
     "name": "stdout",
     "output_type": "stream",
     "text": [
      "Epoch: 10 | Train Loss: 0.1559 | Acc: 0.9569 | Prec: 0.9742 | Recall: 0.9317 | F1: 0.9525 | ROC-AUC: 0.9808 || Test Loss: 0.4233 | Acc: 0.8791 | Prec: 0.9860 | Recall: 0.8822 | F1: 0.9312 | ROC-AUC: 0.9478\n",
      "Max val ROC-AUC: 0.9499\n",
      "Training with d_model=64, nhead=2, num_layers=6, dropout=0.5, lr=0.01\n"
     ]
    },
    {
     "data": {
      "application/vnd.jupyter.widget-view+json": {
       "model_id": "c757e261acdf4d0d87884131162a80cf",
       "version_major": 2,
       "version_minor": 0
      },
      "text/plain": [
       "  0%|          | 0/10 [00:00<?, ?it/s]"
      ]
     },
     "metadata": {},
     "output_type": "display_data"
    },
    {
     "name": "stdout",
     "output_type": "stream",
     "text": [
      "Epoch: 10 | Train Loss: 0.1322 | Acc: 0.9623 | Prec: 0.9788 | Recall: 0.9390 | F1: 0.9585 | ROC-AUC: 0.9828 || Test Loss: 0.5218 | Acc: 0.8419 | Prec: 0.9940 | Recall: 0.8346 | F1: 0.9074 | ROC-AUC: 0.9482\n",
      "Max val ROC-AUC: 0.9487\n",
      "Training with d_model=64, nhead=2, num_layers=6, dropout=0.5, lr=0.01\n"
     ]
    },
    {
     "data": {
      "application/vnd.jupyter.widget-view+json": {
       "model_id": "c6b6073b11a446d0b685473b01d68f0f",
       "version_major": 2,
       "version_minor": 0
      },
      "text/plain": [
       "  0%|          | 0/10 [00:00<?, ?it/s]"
      ]
     },
     "metadata": {},
     "output_type": "display_data"
    },
    {
     "name": "stdout",
     "output_type": "stream",
     "text": [
      "Epoch: 10 | Train Loss: 0.1421 | Acc: 0.9586 | Prec: 0.9794 | Recall: 0.9303 | F1: 0.9542 | ROC-AUC: 0.9842 || Test Loss: 0.5798 | Acc: 0.8465 | Prec: 0.9854 | Recall: 0.8471 | F1: 0.9111 | ROC-AUC: 0.9370\n",
      "Max val ROC-AUC: 0.9524\n",
      "Training with d_model=64, nhead=2, num_layers=6, dropout=0.5, lr=0.01\n"
     ]
    },
    {
     "data": {
      "application/vnd.jupyter.widget-view+json": {
       "model_id": "ef096b18d241415395f70e5dc9bef288",
       "version_major": 2,
       "version_minor": 0
      },
      "text/plain": [
       "  0%|          | 0/10 [00:00<?, ?it/s]"
      ]
     },
     "metadata": {},
     "output_type": "display_data"
    },
    {
     "name": "stdout",
     "output_type": "stream",
     "text": [
      "Epoch: 10 | Train Loss: 0.1942 | Acc: 0.9400 | Prec: 0.9559 | Recall: 0.9129 | F1: 0.9339 | ROC-AUC: 0.9752 || Test Loss: 0.3860 | Acc: 0.8814 | Prec: 0.9833 | Recall: 0.8872 | F1: 0.9328 | ROC-AUC: 0.9435\n",
      "Max val ROC-AUC: 0.9500\n",
      "Training with d_model=64, nhead=2, num_layers=6, dropout=0.5, lr=0.001\n"
     ]
    },
    {
     "data": {
      "application/vnd.jupyter.widget-view+json": {
       "model_id": "03e630d78fc646c59757532627e5a2fd",
       "version_major": 2,
       "version_minor": 0
      },
      "text/plain": [
       "  0%|          | 0/10 [00:00<?, ?it/s]"
      ]
     },
     "metadata": {},
     "output_type": "display_data"
    },
    {
     "name": "stdout",
     "output_type": "stream",
     "text": [
      "Epoch: 10 | Train Loss: 0.0595 | Acc: 0.9855 | Prec: 0.9941 | Recall: 0.9746 | F1: 0.9842 | ROC-AUC: 0.9960 || Test Loss: 0.4363 | Acc: 0.9186 | Prec: 0.9840 | Recall: 0.9273 | F1: 0.9548 | ROC-AUC: 0.9350\n",
      "Max val ROC-AUC: 0.9512\n",
      "Training with d_model=64, nhead=2, num_layers=6, dropout=0.5, lr=0.001\n"
     ]
    },
    {
     "data": {
      "application/vnd.jupyter.widget-view+json": {
       "model_id": "bcbd4eedad0e4ce0ba9444fa553ef344",
       "version_major": 2,
       "version_minor": 0
      },
      "text/plain": [
       "  0%|          | 0/10 [00:00<?, ?it/s]"
      ]
     },
     "metadata": {},
     "output_type": "display_data"
    },
    {
     "name": "stdout",
     "output_type": "stream",
     "text": [
      "Epoch: 10 | Train Loss: 0.0919 | Acc: 0.9720 | Prec: 0.9836 | Recall: 0.9557 | F1: 0.9694 | ROC-AUC: 0.9932 || Test Loss: 0.3818 | Acc: 0.9047 | Prec: 0.9812 | Recall: 0.9148 | F1: 0.9468 | ROC-AUC: 0.9326\n",
      "Max val ROC-AUC: 0.9357\n",
      "Training with d_model=64, nhead=2, num_layers=6, dropout=0.5, lr=0.001\n"
     ]
    },
    {
     "data": {
      "application/vnd.jupyter.widget-view+json": {
       "model_id": "f41fd33497e24a8f97a947c431ccfda6",
       "version_major": 2,
       "version_minor": 0
      },
      "text/plain": [
       "  0%|          | 0/10 [00:00<?, ?it/s]"
      ]
     },
     "metadata": {},
     "output_type": "display_data"
    },
    {
     "name": "stdout",
     "output_type": "stream",
     "text": [
      "Epoch: 10 | Train Loss: 0.0837 | Acc: 0.9741 | Prec: 0.9873 | Recall: 0.9564 | F1: 0.9716 | ROC-AUC: 0.9937 || Test Loss: 0.4234 | Acc: 0.8837 | Prec: 0.9834 | Recall: 0.8897 | F1: 0.9342 | ROC-AUC: 0.9280\n",
      "Max val ROC-AUC: 0.9563\n",
      "Training with d_model=64, nhead=2, num_layers=6, dropout=0.5, lr=0.001\n"
     ]
    },
    {
     "data": {
      "application/vnd.jupyter.widget-view+json": {
       "model_id": "bf7fcb88565048e1a35bd4632dd2e000",
       "version_major": 2,
       "version_minor": 0
      },
      "text/plain": [
       "  0%|          | 0/10 [00:00<?, ?it/s]"
      ]
     },
     "metadata": {},
     "output_type": "display_data"
    },
    {
     "name": "stdout",
     "output_type": "stream",
     "text": [
      "Epoch: 10 | Train Loss: 0.0720 | Acc: 0.9801 | Prec: 0.9860 | Recall: 0.9710 | F1: 0.9784 | ROC-AUC: 0.9953 || Test Loss: 0.4222 | Acc: 0.9116 | Prec: 0.9788 | Recall: 0.9248 | F1: 0.9510 | ROC-AUC: 0.9205\n",
      "Max val ROC-AUC: 0.9565\n",
      "Training with d_model=64, nhead=2, num_layers=6, dropout=0.5, lr=0.001\n"
     ]
    },
    {
     "data": {
      "application/vnd.jupyter.widget-view+json": {
       "model_id": "8b1f8dac6cc34770b7242ddf317aa148",
       "version_major": 2,
       "version_minor": 0
      },
      "text/plain": [
       "  0%|          | 0/10 [00:00<?, ?it/s]"
      ]
     },
     "metadata": {},
     "output_type": "display_data"
    },
    {
     "name": "stdout",
     "output_type": "stream",
     "text": [
      "Epoch: 10 | Train Loss: 0.0907 | Acc: 0.9754 | Prec: 0.9858 | Recall: 0.9608 | F1: 0.9732 | ROC-AUC: 0.9934 || Test Loss: 0.6236 | Acc: 0.8535 | Prec: 0.9855 | Recall: 0.8546 | F1: 0.9154 | ROC-AUC: 0.9256\n",
      "Max val ROC-AUC: 0.9584\n",
      "Training with d_model=64, nhead=2, num_layers=6, dropout=0.5, lr=0.001\n"
     ]
    },
    {
     "data": {
      "application/vnd.jupyter.widget-view+json": {
       "model_id": "c1bac28c2a9f4f7a9377f0da3cf49320",
       "version_major": 2,
       "version_minor": 0
      },
      "text/plain": [
       "  0%|          | 0/10 [00:00<?, ?it/s]"
      ]
     },
     "metadata": {},
     "output_type": "display_data"
    },
    {
     "name": "stdout",
     "output_type": "stream",
     "text": [
      "Epoch: 10 | Train Loss: 0.0601 | Acc: 0.9845 | Prec: 0.9919 | Recall: 0.9746 | F1: 0.9832 | ROC-AUC: 0.9954 || Test Loss: 0.4003 | Acc: 0.9372 | Prec: 0.9844 | Recall: 0.9474 | F1: 0.9655 | ROC-AUC: 0.9447\n",
      "Max val ROC-AUC: 0.9613\n",
      "Training with d_model=64, nhead=2, num_layers=6, dropout=0.5, lr=0.001\n"
     ]
    },
    {
     "data": {
      "application/vnd.jupyter.widget-view+json": {
       "model_id": "e7a77d0a538a43c4ae4919374d85a161",
       "version_major": 2,
       "version_minor": 0
      },
      "text/plain": [
       "  0%|          | 0/10 [00:00<?, ?it/s]"
      ]
     },
     "metadata": {},
     "output_type": "display_data"
    },
    {
     "name": "stdout",
     "output_type": "stream",
     "text": [
      "Epoch: 10 | Train Loss: 0.0679 | Acc: 0.9781 | Prec: 0.9874 | Recall: 0.9651 | F1: 0.9761 | ROC-AUC: 0.9961 || Test Loss: 0.4509 | Acc: 0.9140 | Prec: 0.9738 | Recall: 0.9323 | F1: 0.9526 | ROC-AUC: 0.8995\n",
      "Max val ROC-AUC: 0.9487\n",
      "Training with d_model=64, nhead=2, num_layers=6, dropout=0.5, lr=0.001\n"
     ]
    },
    {
     "data": {
      "application/vnd.jupyter.widget-view+json": {
       "model_id": "793b32ced1d24c7688b3b11bd13c5e8d",
       "version_major": 2,
       "version_minor": 0
      },
      "text/plain": [
       "  0%|          | 0/10 [00:00<?, ?it/s]"
      ]
     },
     "metadata": {},
     "output_type": "display_data"
    },
    {
     "name": "stdout",
     "output_type": "stream",
     "text": [
      "Epoch: 10 | Train Loss: 0.0736 | Acc: 0.9781 | Prec: 0.9874 | Recall: 0.9651 | F1: 0.9761 | ROC-AUC: 0.9952 || Test Loss: 0.5435 | Acc: 0.8721 | Prec: 0.9831 | Recall: 0.8772 | F1: 0.9272 | ROC-AUC: 0.9102\n",
      "Max val ROC-AUC: 0.9483\n",
      "Training with d_model=64, nhead=2, num_layers=6, dropout=0.5, lr=0.001\n"
     ]
    },
    {
     "data": {
      "application/vnd.jupyter.widget-view+json": {
       "model_id": "c1b8b465de6745cfbf1e1cef8793e6d6",
       "version_major": 2,
       "version_minor": 0
      },
      "text/plain": [
       "  0%|          | 0/10 [00:00<?, ?it/s]"
      ]
     },
     "metadata": {},
     "output_type": "display_data"
    },
    {
     "name": "stdout",
     "output_type": "stream",
     "text": [
      "Epoch: 10 | Train Loss: 0.0794 | Acc: 0.9754 | Prec: 0.9895 | Recall: 0.9572 | F1: 0.9731 | ROC-AUC: 0.9947 || Test Loss: 0.5642 | Acc: 0.8791 | Prec: 0.9833 | Recall: 0.8847 | F1: 0.9314 | ROC-AUC: 0.9183\n",
      "Max val ROC-AUC: 0.9344\n",
      "Training with d_model=64, nhead=2, num_layers=6, dropout=0.5, lr=0.001\n"
     ]
    },
    {
     "data": {
      "application/vnd.jupyter.widget-view+json": {
       "model_id": "0663450033a4437b814559695b2b77a8",
       "version_major": 2,
       "version_minor": 0
      },
      "text/plain": [
       "  0%|          | 0/10 [00:00<?, ?it/s]"
      ]
     },
     "metadata": {},
     "output_type": "display_data"
    },
    {
     "name": "stdout",
     "output_type": "stream",
     "text": [
      "Epoch: 10 | Train Loss: 0.0913 | Acc: 0.9727 | Prec: 0.9865 | Recall: 0.9542 | F1: 0.9701 | ROC-AUC: 0.9924 || Test Loss: 0.3082 | Acc: 0.9279 | Prec: 0.9767 | Recall: 0.9449 | F1: 0.9605 | ROC-AUC: 0.9391\n",
      "Max val ROC-AUC: 0.9392\n",
      "Training with d_model=64, nhead=2, num_layers=8, dropout=0.0, lr=0.1\n"
     ]
    },
    {
     "data": {
      "application/vnd.jupyter.widget-view+json": {
       "model_id": "ffd010375fcf4b6c902340174ffaba2a",
       "version_major": 2,
       "version_minor": 0
      },
      "text/plain": [
       "  0%|          | 0/10 [00:00<?, ?it/s]"
      ]
     },
     "metadata": {},
     "output_type": "display_data"
    },
    {
     "name": "stdout",
     "output_type": "stream",
     "text": [
      "Epoch: 10 | Train Loss: 0.1619 | Acc: 0.9444 | Prec: 0.9536 | Recall: 0.9252 | F1: 0.9392 | ROC-AUC: 0.9769 || Test Loss: 0.1990 | Acc: 0.9326 | Prec: 0.9843 | Recall: 0.9424 | F1: 0.9629 | ROC-AUC: 0.9606\n",
      "Max val ROC-AUC: 0.9606\n",
      "Training with d_model=64, nhead=2, num_layers=8, dropout=0.0, lr=0.1\n"
     ]
    },
    {
     "data": {
      "application/vnd.jupyter.widget-view+json": {
       "model_id": "3c016522ee1d4a66b19a62bb676edbeb",
       "version_major": 2,
       "version_minor": 0
      },
      "text/plain": [
       "  0%|          | 0/10 [00:00<?, ?it/s]"
      ]
     },
     "metadata": {},
     "output_type": "display_data"
    },
    {
     "name": "stdout",
     "output_type": "stream",
     "text": [
      "Epoch: 10 | Train Loss: 0.2162 | Acc: 0.9289 | Prec: 0.9212 | Recall: 0.9259 | F1: 0.9236 | ROC-AUC: 0.9718 || Test Loss: 0.4367 | Acc: 0.8767 | Prec: 0.9240 | Recall: 0.9449 | F1: 0.9343 | ROC-AUC: 0.2473\n",
      "Max val ROC-AUC: 0.9373\n",
      "Training with d_model=64, nhead=2, num_layers=8, dropout=0.0, lr=0.1\n"
     ]
    },
    {
     "data": {
      "application/vnd.jupyter.widget-view+json": {
       "model_id": "8e27d9c5f55d4db9b119260b7ab05754",
       "version_major": 2,
       "version_minor": 0
      },
      "text/plain": [
       "  0%|          | 0/10 [00:00<?, ?it/s]"
      ]
     },
     "metadata": {},
     "output_type": "display_data"
    },
    {
     "name": "stdout",
     "output_type": "stream",
     "text": [
      "Epoch: 10 | Train Loss: 0.2479 | Acc: 0.9195 | Prec: 0.9619 | Recall: 0.8606 | F1: 0.9084 | ROC-AUC: 0.9735 || Test Loss: 0.6982 | Acc: 0.8116 | Prec: 0.9907 | Recall: 0.8045 | F1: 0.8880 | ROC-AUC: 0.8954\n",
      "Max val ROC-AUC: 0.9498\n",
      "Training with d_model=64, nhead=2, num_layers=8, dropout=0.0, lr=0.1\n"
     ]
    },
    {
     "data": {
      "application/vnd.jupyter.widget-view+json": {
       "model_id": "fa3f3e7c72ac483a898448393675dcc1",
       "version_major": 2,
       "version_minor": 0
      },
      "text/plain": [
       "  0%|          | 0/10 [00:00<?, ?it/s]"
      ]
     },
     "metadata": {},
     "output_type": "display_data"
    },
    {
     "name": "stdout",
     "output_type": "stream",
     "text": [
      "Epoch: 10 | Train Loss: 0.1801 | Acc: 0.9421 | Prec: 0.9527 | Recall: 0.9208 | F1: 0.9365 | ROC-AUC: 0.9778 || Test Loss: 0.2232 | Acc: 0.9023 | Prec: 0.9890 | Recall: 0.9048 | F1: 0.9450 | ROC-AUC: 0.9292\n",
      "Max val ROC-AUC: 0.9593\n",
      "Training with d_model=64, nhead=2, num_layers=8, dropout=0.0, lr=0.1\n"
     ]
    },
    {
     "data": {
      "application/vnd.jupyter.widget-view+json": {
       "model_id": "bb587a2bb0494824bb3364ad43d1b4fd",
       "version_major": 2,
       "version_minor": 0
      },
      "text/plain": [
       "  0%|          | 0/10 [00:00<?, ?it/s]"
      ]
     },
     "metadata": {},
     "output_type": "display_data"
    },
    {
     "name": "stdout",
     "output_type": "stream",
     "text": [
      "Epoch: 10 | Train Loss: 0.2891 | Acc: 0.9128 | Prec: 0.9582 | Recall: 0.8489 | F1: 0.9003 | ROC-AUC: 0.9101 || Test Loss: 0.2612 | Acc: 0.9070 | Prec: 0.9687 | Recall: 0.9298 | F1: 0.9488 | ROC-AUC: 0.8381\n",
      "Max val ROC-AUC: 0.9358\n",
      "Training with d_model=64, nhead=2, num_layers=8, dropout=0.0, lr=0.1\n"
     ]
    },
    {
     "data": {
      "application/vnd.jupyter.widget-view+json": {
       "model_id": "6052b28371c7487f837a38698f15408c",
       "version_major": 2,
       "version_minor": 0
      },
      "text/plain": [
       "  0%|          | 0/10 [00:00<?, ?it/s]"
      ]
     },
     "metadata": {},
     "output_type": "display_data"
    },
    {
     "name": "stdout",
     "output_type": "stream",
     "text": [
      "Epoch: 10 | Train Loss: 0.1768 | Acc: 0.9508 | Prec: 0.9438 | Recall: 0.9506 | F1: 0.9472 | ROC-AUC: 0.9752 || Test Loss: 0.2973 | Acc: 0.9023 | Prec: 0.9837 | Recall: 0.9098 | F1: 0.9453 | ROC-AUC: 0.9363\n",
      "Max val ROC-AUC: 0.9527\n",
      "Training with d_model=64, nhead=2, num_layers=8, dropout=0.0, lr=0.1\n"
     ]
    },
    {
     "data": {
      "application/vnd.jupyter.widget-view+json": {
       "model_id": "275c3d5fe7b04e76b4fb9757f871fb43",
       "version_major": 2,
       "version_minor": 0
      },
      "text/plain": [
       "  0%|          | 0/10 [00:00<?, ?it/s]"
      ]
     },
     "metadata": {},
     "output_type": "display_data"
    },
    {
     "name": "stdout",
     "output_type": "stream",
     "text": [
      "Epoch: 10 | Train Loss: 0.1600 | Acc: 0.9478 | Prec: 0.9650 | Recall: 0.9208 | F1: 0.9424 | ROC-AUC: 0.9824 || Test Loss: 0.1549 | Acc: 0.9395 | Prec: 0.9844 | Recall: 0.9499 | F1: 0.9668 | ROC-AUC: 0.9592\n",
      "Max val ROC-AUC: 0.9619\n",
      "Training with d_model=64, nhead=2, num_layers=8, dropout=0.0, lr=0.1\n"
     ]
    },
    {
     "data": {
      "application/vnd.jupyter.widget-view+json": {
       "model_id": "db9794659ff74fbcbf673f4086a7a1ad",
       "version_major": 2,
       "version_minor": 0
      },
      "text/plain": [
       "  0%|          | 0/10 [00:00<?, ?it/s]"
      ]
     },
     "metadata": {},
     "output_type": "display_data"
    },
    {
     "name": "stdout",
     "output_type": "stream",
     "text": [
      "Epoch: 10 | Train Loss: 0.1338 | Acc: 0.9566 | Prec: 0.9615 | Recall: 0.9441 | F1: 0.9527 | ROC-AUC: 0.9881 || Test Loss: 0.2224 | Acc: 0.9326 | Prec: 0.9894 | Recall: 0.9373 | F1: 0.9627 | ROC-AUC: 0.9457\n",
      "Max val ROC-AUC: 0.9615\n",
      "Training with d_model=64, nhead=2, num_layers=8, dropout=0.0, lr=0.1\n"
     ]
    },
    {
     "data": {
      "application/vnd.jupyter.widget-view+json": {
       "model_id": "7e39f8cb28304788b057d6430ce83cb1",
       "version_major": 2,
       "version_minor": 0
      },
      "text/plain": [
       "  0%|          | 0/10 [00:00<?, ?it/s]"
      ]
     },
     "metadata": {},
     "output_type": "display_data"
    },
    {
     "name": "stdout",
     "output_type": "stream",
     "text": [
      "Epoch: 10 | Train Loss: 0.1385 | Acc: 0.9552 | Prec: 0.9663 | Recall: 0.9361 | F1: 0.9509 | ROC-AUC: 0.9849 || Test Loss: 0.2705 | Acc: 0.8860 | Prec: 0.9834 | Recall: 0.8922 | F1: 0.9356 | ROC-AUC: 0.9386\n",
      "Max val ROC-AUC: 0.9666\n",
      "Training with d_model=64, nhead=2, num_layers=8, dropout=0.0, lr=0.1\n"
     ]
    },
    {
     "data": {
      "application/vnd.jupyter.widget-view+json": {
       "model_id": "054381149a31407cbc80764c32b6c7e5",
       "version_major": 2,
       "version_minor": 0
      },
      "text/plain": [
       "  0%|          | 0/10 [00:00<?, ?it/s]"
      ]
     },
     "metadata": {},
     "output_type": "display_data"
    },
    {
     "name": "stdout",
     "output_type": "stream",
     "text": [
      "Epoch: 10 | Train Loss: 0.1380 | Acc: 0.9582 | Prec: 0.9523 | Recall: 0.9579 | F1: 0.9551 | ROC-AUC: 0.9865 || Test Loss: 0.4929 | Acc: 0.9186 | Prec: 0.9973 | Recall: 0.9148 | F1: 0.9542 | ROC-AUC: 0.9602\n",
      "Max val ROC-AUC: 0.9602\n",
      "Training with d_model=64, nhead=2, num_layers=8, dropout=0.0, lr=0.01\n"
     ]
    },
    {
     "data": {
      "application/vnd.jupyter.widget-view+json": {
       "model_id": "aa4ee957ff97482a8e41959617484604",
       "version_major": 2,
       "version_minor": 0
      },
      "text/plain": [
       "  0%|          | 0/10 [00:00<?, ?it/s]"
      ]
     },
     "metadata": {},
     "output_type": "display_data"
    },
    {
     "name": "stdout",
     "output_type": "stream",
     "text": [
      "Epoch: 10 | Train Loss: 0.0454 | Acc: 0.9848 | Prec: 0.9868 | Recall: 0.9804 | F1: 0.9836 | ROC-AUC: 0.9979 || Test Loss: 0.2866 | Acc: 0.9302 | Prec: 0.9743 | Recall: 0.9499 | F1: 0.9619 | ROC-AUC: 0.9420\n",
      "Max val ROC-AUC: 0.9426\n",
      "Training with d_model=64, nhead=2, num_layers=8, dropout=0.0, lr=0.01\n"
     ]
    },
    {
     "data": {
      "application/vnd.jupyter.widget-view+json": {
       "model_id": "0d1fa7712cb6487092457c124ec109e7",
       "version_major": 2,
       "version_minor": 0
      },
      "text/plain": [
       "  0%|          | 0/10 [00:00<?, ?it/s]"
      ]
     },
     "metadata": {},
     "output_type": "display_data"
    },
    {
     "name": "stdout",
     "output_type": "stream",
     "text": [
      "Epoch: 10 | Train Loss: 0.0699 | Acc: 0.9788 | Prec: 0.9881 | Recall: 0.9659 | F1: 0.9769 | ROC-AUC: 0.9956 || Test Loss: 0.3553 | Acc: 0.9093 | Prec: 0.9839 | Recall: 0.9173 | F1: 0.9494 | ROC-AUC: 0.9603\n",
      "Max val ROC-AUC: 0.9603\n",
      "Training with d_model=64, nhead=2, num_layers=8, dropout=0.0, lr=0.01\n"
     ]
    },
    {
     "data": {
      "application/vnd.jupyter.widget-view+json": {
       "model_id": "2114af3ee0934919ae2b9d05427bb19e",
       "version_major": 2,
       "version_minor": 0
      },
      "text/plain": [
       "  0%|          | 0/10 [00:00<?, ?it/s]"
      ]
     },
     "metadata": {},
     "output_type": "display_data"
    },
    {
     "name": "stdout",
     "output_type": "stream",
     "text": [
      "Epoch: 10 | Train Loss: 0.0441 | Acc: 0.9848 | Prec: 0.9868 | Recall: 0.9804 | F1: 0.9836 | ROC-AUC: 0.9982 || Test Loss: 0.4128 | Acc: 0.9256 | Prec: 0.9920 | Recall: 0.9273 | F1: 0.9585 | ROC-AUC: 0.9656\n",
      "Max val ROC-AUC: 0.9712\n",
      "Training with d_model=64, nhead=2, num_layers=8, dropout=0.0, lr=0.01\n"
     ]
    },
    {
     "data": {
      "application/vnd.jupyter.widget-view+json": {
       "model_id": "afbd50d5790549a78ae179d170808e43",
       "version_major": 2,
       "version_minor": 0
      },
      "text/plain": [
       "  0%|          | 0/10 [00:00<?, ?it/s]"
      ]
     },
     "metadata": {},
     "output_type": "display_data"
    },
    {
     "name": "stdout",
     "output_type": "stream",
     "text": [
      "Epoch: 10 | Train Loss: 0.0468 | Acc: 0.9842 | Prec: 0.9833 | Recall: 0.9826 | F1: 0.9829 | ROC-AUC: 0.9980 || Test Loss: 0.3485 | Acc: 0.9186 | Prec: 0.9840 | Recall: 0.9273 | F1: 0.9548 | ROC-AUC: 0.9590\n",
      "Max val ROC-AUC: 0.9702\n",
      "Training with d_model=64, nhead=2, num_layers=8, dropout=0.0, lr=0.01\n"
     ]
    },
    {
     "data": {
      "application/vnd.jupyter.widget-view+json": {
       "model_id": "6aaabc4397734f28beb1690c59317716",
       "version_major": 2,
       "version_minor": 0
      },
      "text/plain": [
       "  0%|          | 0/10 [00:00<?, ?it/s]"
      ]
     },
     "metadata": {},
     "output_type": "display_data"
    },
    {
     "name": "stdout",
     "output_type": "stream",
     "text": [
      "Epoch: 10 | Train Loss: 0.0331 | Acc: 0.9906 | Prec: 0.9905 | Recall: 0.9891 | F1: 0.9898 | ROC-AUC: 0.9989 || Test Loss: 0.3492 | Acc: 0.9233 | Prec: 0.9816 | Recall: 0.9348 | F1: 0.9576 | ROC-AUC: 0.9225\n",
      "Max val ROC-AUC: 0.9439\n",
      "Training with d_model=64, nhead=2, num_layers=8, dropout=0.0, lr=0.01\n"
     ]
    },
    {
     "data": {
      "application/vnd.jupyter.widget-view+json": {
       "model_id": "974e1404299f447b8f3d1d593c0257e0",
       "version_major": 2,
       "version_minor": 0
      },
      "text/plain": [
       "  0%|          | 0/10 [00:00<?, ?it/s]"
      ]
     },
     "metadata": {},
     "output_type": "display_data"
    },
    {
     "name": "stdout",
     "output_type": "stream",
     "text": [
      "Epoch: 10 | Train Loss: 0.0494 | Acc: 0.9838 | Prec: 0.9861 | Recall: 0.9789 | F1: 0.9825 | ROC-AUC: 0.9980 || Test Loss: 0.6713 | Acc: 0.8349 | Prec: 0.9970 | Recall: 0.8246 | F1: 0.9026 | ROC-AUC: 0.9580\n",
      "Max val ROC-AUC: 0.9655\n",
      "Training with d_model=64, nhead=2, num_layers=8, dropout=0.0, lr=0.01\n"
     ]
    },
    {
     "data": {
      "application/vnd.jupyter.widget-view+json": {
       "model_id": "b877f434849048c9a9c29a92a1eeb187",
       "version_major": 2,
       "version_minor": 0
      },
      "text/plain": [
       "  0%|          | 0/10 [00:00<?, ?it/s]"
      ]
     },
     "metadata": {},
     "output_type": "display_data"
    },
    {
     "name": "stdout",
     "output_type": "stream",
     "text": [
      "Epoch: 10 | Train Loss: 0.0571 | Acc: 0.9832 | Prec: 0.9818 | Recall: 0.9818 | F1: 0.9818 | ROC-AUC: 0.9968 || Test Loss: 0.3159 | Acc: 0.9140 | Prec: 0.9892 | Recall: 0.9173 | F1: 0.9519 | ROC-AUC: 0.9687\n",
      "Max val ROC-AUC: 0.9714\n",
      "Training with d_model=64, nhead=2, num_layers=8, dropout=0.0, lr=0.01\n"
     ]
    },
    {
     "data": {
      "application/vnd.jupyter.widget-view+json": {
       "model_id": "d6d6462bb53f43eab071627021b90245",
       "version_major": 2,
       "version_minor": 0
      },
      "text/plain": [
       "  0%|          | 0/10 [00:00<?, ?it/s]"
      ]
     },
     "metadata": {},
     "output_type": "display_data"
    },
    {
     "name": "stdout",
     "output_type": "stream",
     "text": [
      "Epoch: 10 | Train Loss: 0.0488 | Acc: 0.9862 | Prec: 0.9883 | Recall: 0.9818 | F1: 0.9851 | ROC-AUC: 0.9974 || Test Loss: 0.4157 | Acc: 0.9000 | Prec: 0.9917 | Recall: 0.8997 | F1: 0.9435 | ROC-AUC: 0.9694\n",
      "Max val ROC-AUC: 0.9729\n",
      "Training with d_model=64, nhead=2, num_layers=8, dropout=0.0, lr=0.01\n"
     ]
    },
    {
     "data": {
      "application/vnd.jupyter.widget-view+json": {
       "model_id": "efc379a7386d4adca22a84c379c60897",
       "version_major": 2,
       "version_minor": 0
      },
      "text/plain": [
       "  0%|          | 0/10 [00:00<?, ?it/s]"
      ]
     },
     "metadata": {},
     "output_type": "display_data"
    },
    {
     "name": "stdout",
     "output_type": "stream",
     "text": [
      "Epoch: 10 | Train Loss: 0.0296 | Acc: 0.9929 | Prec: 0.9949 | Recall: 0.9898 | F1: 0.9924 | ROC-AUC: 0.9985 || Test Loss: 0.2203 | Acc: 0.9372 | Prec: 0.9697 | Recall: 0.9624 | F1: 0.9660 | ROC-AUC: 0.9306\n",
      "Max val ROC-AUC: 0.9466\n",
      "Training with d_model=64, nhead=2, num_layers=8, dropout=0.0, lr=0.01\n"
     ]
    },
    {
     "data": {
      "application/vnd.jupyter.widget-view+json": {
       "model_id": "450caf1e290c401893736516b2c3c4ae",
       "version_major": 2,
       "version_minor": 0
      },
      "text/plain": [
       "  0%|          | 0/10 [00:00<?, ?it/s]"
      ]
     },
     "metadata": {},
     "output_type": "display_data"
    },
    {
     "name": "stdout",
     "output_type": "stream",
     "text": [
      "Epoch: 10 | Train Loss: 0.0494 | Acc: 0.9818 | Prec: 0.9846 | Recall: 0.9760 | F1: 0.9803 | ROC-AUC: 0.9980 || Test Loss: 0.3487 | Acc: 0.9326 | Prec: 0.9894 | Recall: 0.9373 | F1: 0.9627 | ROC-AUC: 0.9423\n",
      "Max val ROC-AUC: 0.9683\n",
      "Training with d_model=64, nhead=2, num_layers=8, dropout=0.0, lr=0.001\n"
     ]
    },
    {
     "data": {
      "application/vnd.jupyter.widget-view+json": {
       "model_id": "482af67dc7c842d088f4cf5e21d8d9e6",
       "version_major": 2,
       "version_minor": 0
      },
      "text/plain": [
       "  0%|          | 0/10 [00:00<?, ?it/s]"
      ]
     },
     "metadata": {},
     "output_type": "display_data"
    },
    {
     "name": "stdout",
     "output_type": "stream",
     "text": [
      "Epoch: 10 | Train Loss: 0.0093 | Acc: 0.9973 | Prec: 0.9978 | Recall: 0.9964 | F1: 0.9971 | ROC-AUC: 1.0000 || Test Loss: 0.4502 | Acc: 0.9256 | Prec: 0.9867 | Recall: 0.9323 | F1: 0.9588 | ROC-AUC: 0.8921\n",
      "Max val ROC-AUC: 0.9517\n",
      "Training with d_model=64, nhead=2, num_layers=8, dropout=0.0, lr=0.001\n"
     ]
    },
    {
     "data": {
      "application/vnd.jupyter.widget-view+json": {
       "model_id": "06f6701020694bda9648792edfa5b469",
       "version_major": 2,
       "version_minor": 0
      },
      "text/plain": [
       "  0%|          | 0/10 [00:00<?, ?it/s]"
      ]
     },
     "metadata": {},
     "output_type": "display_data"
    },
    {
     "name": "stdout",
     "output_type": "stream",
     "text": [
      "Epoch: 10 | Train Loss: 0.0385 | Acc: 0.9889 | Prec: 0.9898 | Recall: 0.9862 | F1: 0.9880 | ROC-AUC: 0.9983 || Test Loss: 0.4659 | Acc: 0.8953 | Prec: 0.9863 | Recall: 0.8997 | F1: 0.9410 | ROC-AUC: 0.9459\n",
      "Max val ROC-AUC: 0.9720\n",
      "Training with d_model=64, nhead=2, num_layers=8, dropout=0.0, lr=0.001\n"
     ]
    },
    {
     "data": {
      "application/vnd.jupyter.widget-view+json": {
       "model_id": "bb480d63e8914a3aa7f3b00ad904a8fa",
       "version_major": 2,
       "version_minor": 0
      },
      "text/plain": [
       "  0%|          | 0/10 [00:00<?, ?it/s]"
      ]
     },
     "metadata": {},
     "output_type": "display_data"
    },
    {
     "name": "stdout",
     "output_type": "stream",
     "text": [
      "Epoch: 10 | Train Loss: 0.0293 | Acc: 0.9916 | Prec: 0.9942 | Recall: 0.9877 | F1: 0.9909 | ROC-AUC: 0.9984 || Test Loss: 0.3456 | Acc: 0.9209 | Prec: 0.9790 | Recall: 0.9348 | F1: 0.9564 | ROC-AUC: 0.9411\n",
      "Max val ROC-AUC: 0.9570\n",
      "Training with d_model=64, nhead=2, num_layers=8, dropout=0.0, lr=0.001\n"
     ]
    },
    {
     "data": {
      "application/vnd.jupyter.widget-view+json": {
       "model_id": "72911b80e2ab4d84b15659110f1d0da2",
       "version_major": 2,
       "version_minor": 0
      },
      "text/plain": [
       "  0%|          | 0/10 [00:00<?, ?it/s]"
      ]
     },
     "metadata": {},
     "output_type": "display_data"
    },
    {
     "name": "stdout",
     "output_type": "stream",
     "text": [
      "Epoch: 10 | Train Loss: 0.0357 | Acc: 0.9919 | Prec: 0.9949 | Recall: 0.9877 | F1: 0.9913 | ROC-AUC: 0.9983 || Test Loss: 0.3336 | Acc: 0.9256 | Prec: 0.9816 | Recall: 0.9373 | F1: 0.9590 | ROC-AUC: 0.9467\n",
      "Max val ROC-AUC: 0.9537\n",
      "Training with d_model=64, nhead=2, num_layers=8, dropout=0.0, lr=0.001\n"
     ]
    },
    {
     "data": {
      "application/vnd.jupyter.widget-view+json": {
       "model_id": "bd9a3493f0a34a6e80f629650df1b806",
       "version_major": 2,
       "version_minor": 0
      },
      "text/plain": [
       "  0%|          | 0/10 [00:00<?, ?it/s]"
      ]
     },
     "metadata": {},
     "output_type": "display_data"
    },
    {
     "name": "stdout",
     "output_type": "stream",
     "text": [
      "Epoch: 10 | Train Loss: 0.0376 | Acc: 0.9909 | Prec: 0.9913 | Recall: 0.9891 | F1: 0.9902 | ROC-AUC: 0.9981 || Test Loss: 0.3238 | Acc: 0.9233 | Prec: 0.9766 | Recall: 0.9398 | F1: 0.9579 | ROC-AUC: 0.9455\n",
      "Max val ROC-AUC: 0.9559\n",
      "Training with d_model=64, nhead=2, num_layers=8, dropout=0.0, lr=0.001\n"
     ]
    },
    {
     "data": {
      "application/vnd.jupyter.widget-view+json": {
       "model_id": "edae3d585a8945df955c5a3ca850e5f9",
       "version_major": 2,
       "version_minor": 0
      },
      "text/plain": [
       "  0%|          | 0/10 [00:00<?, ?it/s]"
      ]
     },
     "metadata": {},
     "output_type": "display_data"
    },
    {
     "name": "stdout",
     "output_type": "stream",
     "text": [
      "Epoch: 10 | Train Loss: 0.0251 | Acc: 0.9906 | Prec: 0.9927 | Recall: 0.9869 | F1: 0.9898 | ROC-AUC: 0.9995 || Test Loss: 0.3561 | Acc: 0.9326 | Prec: 0.9868 | Recall: 0.9398 | F1: 0.9628 | ROC-AUC: 0.9272\n",
      "Max val ROC-AUC: 0.9516\n",
      "Training with d_model=64, nhead=2, num_layers=8, dropout=0.0, lr=0.001\n"
     ]
    },
    {
     "data": {
      "application/vnd.jupyter.widget-view+json": {
       "model_id": "8a8c52e3cb544002bc21a10f45acdfdc",
       "version_major": 2,
       "version_minor": 0
      },
      "text/plain": [
       "  0%|          | 0/10 [00:00<?, ?it/s]"
      ]
     },
     "metadata": {},
     "output_type": "display_data"
    },
    {
     "name": "stdout",
     "output_type": "stream",
     "text": [
      "Epoch: 10 | Train Loss: 0.0147 | Acc: 0.9970 | Prec: 0.9985 | Recall: 0.9949 | F1: 0.9967 | ROC-AUC: 0.9994 || Test Loss: 0.3059 | Acc: 0.9465 | Prec: 0.9796 | Recall: 0.9624 | F1: 0.9709 | ROC-AUC: 0.9153\n",
      "Max val ROC-AUC: 0.9303\n",
      "Training with d_model=64, nhead=2, num_layers=8, dropout=0.0, lr=0.001\n"
     ]
    },
    {
     "data": {
      "application/vnd.jupyter.widget-view+json": {
       "model_id": "843c99e329a945a497e8e7d292df4007",
       "version_major": 2,
       "version_minor": 0
      },
      "text/plain": [
       "  0%|          | 0/10 [00:00<?, ?it/s]"
      ]
     },
     "metadata": {},
     "output_type": "display_data"
    },
    {
     "name": "stdout",
     "output_type": "stream",
     "text": [
      "Epoch: 10 | Train Loss: 0.0291 | Acc: 0.9899 | Prec: 0.9905 | Recall: 0.9877 | F1: 0.9891 | ROC-AUC: 0.9990 || Test Loss: 0.3671 | Acc: 0.9326 | Prec: 0.9818 | Recall: 0.9449 | F1: 0.9630 | ROC-AUC: 0.9648\n",
      "Max val ROC-AUC: 0.9648\n",
      "Training with d_model=64, nhead=2, num_layers=8, dropout=0.0, lr=0.001\n"
     ]
    },
    {
     "data": {
      "application/vnd.jupyter.widget-view+json": {
       "model_id": "8f96563ffbca472085ea71359f73f907",
       "version_major": 2,
       "version_minor": 0
      },
      "text/plain": [
       "  0%|          | 0/10 [00:00<?, ?it/s]"
      ]
     },
     "metadata": {},
     "output_type": "display_data"
    },
    {
     "name": "stdout",
     "output_type": "stream",
     "text": [
      "Epoch: 10 | Train Loss: 0.0188 | Acc: 0.9953 | Prec: 0.9921 | Recall: 0.9978 | F1: 0.9949 | ROC-AUC: 0.9998 || Test Loss: 0.3931 | Acc: 0.9326 | Prec: 0.9768 | Recall: 0.9499 | F1: 0.9632 | ROC-AUC: 0.9447\n",
      "Max val ROC-AUC: 0.9574\n",
      "Training with d_model=64, nhead=2, num_layers=8, dropout=0.0, lr=0.001\n"
     ]
    },
    {
     "data": {
      "application/vnd.jupyter.widget-view+json": {
       "model_id": "0797c5420388483493e53b93b9f5253a",
       "version_major": 2,
       "version_minor": 0
      },
      "text/plain": [
       "  0%|          | 0/10 [00:00<?, ?it/s]"
      ]
     },
     "metadata": {},
     "output_type": "display_data"
    },
    {
     "name": "stdout",
     "output_type": "stream",
     "text": [
      "Epoch: 10 | Train Loss: 0.0069 | Acc: 0.9980 | Prec: 0.9993 | Recall: 0.9964 | F1: 0.9978 | ROC-AUC: 1.0000 || Test Loss: 0.4473 | Acc: 0.9279 | Prec: 0.9767 | Recall: 0.9449 | F1: 0.9605 | ROC-AUC: 0.9120\n",
      "Max val ROC-AUC: 0.9591\n",
      "Training with d_model=64, nhead=2, num_layers=8, dropout=0.1, lr=0.1\n"
     ]
    },
    {
     "data": {
      "application/vnd.jupyter.widget-view+json": {
       "model_id": "2716af5e145d44fa880c43f3e4467be2",
       "version_major": 2,
       "version_minor": 0
      },
      "text/plain": [
       "  0%|          | 0/10 [00:00<?, ?it/s]"
      ]
     },
     "metadata": {},
     "output_type": "display_data"
    },
    {
     "name": "stdout",
     "output_type": "stream",
     "text": [
      "Epoch: 10 | Train Loss: 0.3314 | Acc: 0.8750 | Prec: 0.9137 | Recall: 0.8068 | F1: 0.8569 | ROC-AUC: 0.9243 || Test Loss: 0.4776 | Acc: 0.7116 | Prec: 0.9893 | Recall: 0.6967 | F1: 0.8176 | ROC-AUC: 0.8740\n",
      "Max val ROC-AUC: 0.9571\n",
      "Training with d_model=64, nhead=2, num_layers=8, dropout=0.1, lr=0.1\n"
     ]
    },
    {
     "data": {
      "application/vnd.jupyter.widget-view+json": {
       "model_id": "bb7ee1fd7dae483db855bdbc89368d6a",
       "version_major": 2,
       "version_minor": 0
      },
      "text/plain": [
       "  0%|          | 0/10 [00:00<?, ?it/s]"
      ]
     },
     "metadata": {},
     "output_type": "display_data"
    },
    {
     "name": "stdout",
     "output_type": "stream",
     "text": [
      "Epoch: 10 | Train Loss: 0.3074 | Acc: 0.8956 | Prec: 0.9548 | Recall: 0.8134 | F1: 0.8784 | ROC-AUC: 0.9065 || Test Loss: 0.4870 | Acc: 0.8163 | Prec: 0.9908 | Recall: 0.8095 | F1: 0.8910 | ROC-AUC: 0.8784\n",
      "Max val ROC-AUC: 0.9521\n",
      "Training with d_model=64, nhead=2, num_layers=8, dropout=0.1, lr=0.1\n"
     ]
    },
    {
     "data": {
      "application/vnd.jupyter.widget-view+json": {
       "model_id": "0450992c893847a985bb34802163d23f",
       "version_major": 2,
       "version_minor": 0
      },
      "text/plain": [
       "  0%|          | 0/10 [00:00<?, ?it/s]"
      ]
     },
     "metadata": {},
     "output_type": "display_data"
    },
    {
     "name": "stdout",
     "output_type": "stream",
     "text": [
      "Epoch: 10 | Train Loss: 0.2597 | Acc: 0.9171 | Prec: 0.9060 | Recall: 0.9165 | F1: 0.9112 | ROC-AUC: 0.9604 || Test Loss: 0.3130 | Acc: 0.9186 | Prec: 0.9866 | Recall: 0.9248 | F1: 0.9547 | ROC-AUC: 0.9117\n",
      "Max val ROC-AUC: 0.9536\n",
      "Training with d_model=64, nhead=2, num_layers=8, dropout=0.1, lr=0.1\n"
     ]
    },
    {
     "data": {
      "application/vnd.jupyter.widget-view+json": {
       "model_id": "d82c559f24d245359caba781ab37dfcd",
       "version_major": 2,
       "version_minor": 0
      },
      "text/plain": [
       "  0%|          | 0/10 [00:00<?, ?it/s]"
      ]
     },
     "metadata": {},
     "output_type": "display_data"
    },
    {
     "name": "stdout",
     "output_type": "stream",
     "text": [
      "Epoch: 10 | Train Loss: 0.2954 | Acc: 0.8912 | Prec: 0.8892 | Recall: 0.8744 | F1: 0.8817 | ROC-AUC: 0.9512 || Test Loss: 0.5597 | Acc: 0.8140 | Prec: 0.9908 | Recall: 0.8070 | F1: 0.8895 | ROC-AUC: 0.9310\n",
      "Max val ROC-AUC: 0.9410\n",
      "Training with d_model=64, nhead=2, num_layers=8, dropout=0.1, lr=0.1\n"
     ]
    },
    {
     "data": {
      "application/vnd.jupyter.widget-view+json": {
       "model_id": "8388eb7a7dd2444485de4089a157af6e",
       "version_major": 2,
       "version_minor": 0
      },
      "text/plain": [
       "  0%|          | 0/10 [00:00<?, ?it/s]"
      ]
     },
     "metadata": {},
     "output_type": "display_data"
    },
    {
     "name": "stdout",
     "output_type": "stream",
     "text": [
      "Epoch: 10 | Train Loss: 0.2496 | Acc: 0.9202 | Prec: 0.9488 | Recall: 0.8751 | F1: 0.9105 | ROC-AUC: 0.9604 || Test Loss: 0.2943 | Acc: 0.9047 | Prec: 0.9864 | Recall: 0.9098 | F1: 0.9465 | ROC-AUC: 0.9327\n",
      "Max val ROC-AUC: 0.9424\n",
      "Training with d_model=64, nhead=2, num_layers=8, dropout=0.1, lr=0.1\n"
     ]
    },
    {
     "data": {
      "application/vnd.jupyter.widget-view+json": {
       "model_id": "e7b01ff70c424b39aa7402046e789115",
       "version_major": 2,
       "version_minor": 0
      },
      "text/plain": [
       "  0%|          | 0/10 [00:00<?, ?it/s]"
      ]
     },
     "metadata": {},
     "output_type": "display_data"
    },
    {
     "name": "stdout",
     "output_type": "stream",
     "text": [
      "Epoch: 10 | Train Loss: 0.3016 | Acc: 0.8990 | Prec: 0.9454 | Recall: 0.8301 | F1: 0.8840 | ROC-AUC: 0.9464 || Test Loss: 0.4952 | Acc: 0.7814 | Prec: 0.9872 | Recall: 0.7744 | F1: 0.8680 | ROC-AUC: 0.8849\n",
      "Max val ROC-AUC: 0.9517\n",
      "Training with d_model=64, nhead=2, num_layers=8, dropout=0.1, lr=0.1\n"
     ]
    },
    {
     "data": {
      "application/vnd.jupyter.widget-view+json": {
       "model_id": "faaddf9d0f0a45b08f36d0a632b41796",
       "version_major": 2,
       "version_minor": 0
      },
      "text/plain": [
       "  0%|          | 0/10 [00:00<?, ?it/s]"
      ]
     },
     "metadata": {},
     "output_type": "display_data"
    },
    {
     "name": "stdout",
     "output_type": "stream",
     "text": [
      "Epoch: 10 | Train Loss: 0.3381 | Acc: 0.8720 | Prec: 0.8352 | Recall: 0.9020 | F1: 0.8673 | ROC-AUC: 0.9455 || Test Loss: 0.3974 | Acc: 0.9349 | Prec: 0.9696 | Recall: 0.9599 | F1: 0.9647 | ROC-AUC: 0.9032\n",
      "Max val ROC-AUC: 0.9546\n",
      "Training with d_model=64, nhead=2, num_layers=8, dropout=0.1, lr=0.1\n"
     ]
    },
    {
     "data": {
      "application/vnd.jupyter.widget-view+json": {
       "model_id": "5a8246a500e346039b31ca2965ef32a0",
       "version_major": 2,
       "version_minor": 0
      },
      "text/plain": [
       "  0%|          | 0/10 [00:00<?, ?it/s]"
      ]
     },
     "metadata": {},
     "output_type": "display_data"
    },
    {
     "name": "stdout",
     "output_type": "stream",
     "text": [
      "Epoch: 10 | Train Loss: 0.2624 | Acc: 0.9114 | Prec: 0.9358 | Recall: 0.8686 | F1: 0.9009 | ROC-AUC: 0.9547 || Test Loss: 0.8322 | Acc: 0.7442 | Prec: 0.9898 | Recall: 0.7318 | F1: 0.8415 | ROC-AUC: 0.9299\n",
      "Max val ROC-AUC: 0.9318\n",
      "Training with d_model=64, nhead=2, num_layers=8, dropout=0.1, lr=0.1\n"
     ]
    },
    {
     "data": {
      "application/vnd.jupyter.widget-view+json": {
       "model_id": "fbe497101ca749bc900105094247750e",
       "version_major": 2,
       "version_minor": 0
      },
      "text/plain": [
       "  0%|          | 0/10 [00:00<?, ?it/s]"
      ]
     },
     "metadata": {},
     "output_type": "display_data"
    },
    {
     "name": "stdout",
     "output_type": "stream",
     "text": [
      "Epoch: 10 | Train Loss: 0.3254 | Acc: 0.8942 | Prec: 0.8513 | Recall: 0.9354 | F1: 0.8913 | ROC-AUC: 0.9156 || Test Loss: 0.3788 | Acc: 0.9186 | Prec: 0.9815 | Recall: 0.9298 | F1: 0.9550 | ROC-AUC: 0.8686\n",
      "Max val ROC-AUC: 0.9434\n",
      "Training with d_model=64, nhead=2, num_layers=8, dropout=0.1, lr=0.1\n"
     ]
    },
    {
     "data": {
      "application/vnd.jupyter.widget-view+json": {
       "model_id": "c43a4bf49c344d318c3d261e3f6d1e3e",
       "version_major": 2,
       "version_minor": 0
      },
      "text/plain": [
       "  0%|          | 0/10 [00:00<?, ?it/s]"
      ]
     },
     "metadata": {},
     "output_type": "display_data"
    },
    {
     "name": "stdout",
     "output_type": "stream",
     "text": [
      "Epoch: 10 | Train Loss: 0.2576 | Acc: 0.9171 | Prec: 0.9149 | Recall: 0.9056 | F1: 0.9102 | ROC-AUC: 0.9609 || Test Loss: 0.2641 | Acc: 0.9349 | Prec: 0.9769 | Recall: 0.9524 | F1: 0.9645 | ROC-AUC: 0.8947\n",
      "Max val ROC-AUC: 0.9599\n",
      "Training with d_model=64, nhead=2, num_layers=8, dropout=0.1, lr=0.01\n"
     ]
    },
    {
     "data": {
      "application/vnd.jupyter.widget-view+json": {
       "model_id": "3ca6af02c6e246f6a943f22db52ee1c9",
       "version_major": 2,
       "version_minor": 0
      },
      "text/plain": [
       "  0%|          | 0/10 [00:00<?, ?it/s]"
      ]
     },
     "metadata": {},
     "output_type": "display_data"
    },
    {
     "name": "stdout",
     "output_type": "stream",
     "text": [
      "Epoch: 10 | Train Loss: 0.1324 | Acc: 0.9522 | Prec: 0.9725 | Recall: 0.9230 | F1: 0.9471 | ROC-AUC: 0.9868 || Test Loss: 0.3400 | Acc: 0.8767 | Prec: 0.9779 | Recall: 0.8872 | F1: 0.9304 | ROC-AUC: 0.9310\n",
      "Max val ROC-AUC: 0.9496\n",
      "Training with d_model=64, nhead=2, num_layers=8, dropout=0.1, lr=0.01\n"
     ]
    },
    {
     "data": {
      "application/vnd.jupyter.widget-view+json": {
       "model_id": "fae4abd380e04f93b3915a018d8db4ba",
       "version_major": 2,
       "version_minor": 0
      },
      "text/plain": [
       "  0%|          | 0/10 [00:00<?, ?it/s]"
      ]
     },
     "metadata": {},
     "output_type": "display_data"
    },
    {
     "name": "stdout",
     "output_type": "stream",
     "text": [
      "Epoch: 10 | Train Loss: 0.1215 | Acc: 0.9656 | Prec: 0.9797 | Recall: 0.9455 | F1: 0.9623 | ROC-AUC: 0.9862 || Test Loss: 0.3811 | Acc: 0.9233 | Prec: 0.9841 | Recall: 0.9323 | F1: 0.9575 | ROC-AUC: 0.9463\n",
      "Max val ROC-AUC: 0.9620\n",
      "Training with d_model=64, nhead=2, num_layers=8, dropout=0.1, lr=0.01\n"
     ]
    },
    {
     "data": {
      "application/vnd.jupyter.widget-view+json": {
       "model_id": "b628108b053d4c47b336dace94df8d7d",
       "version_major": 2,
       "version_minor": 0
      },
      "text/plain": [
       "  0%|          | 0/10 [00:00<?, ?it/s]"
      ]
     },
     "metadata": {},
     "output_type": "display_data"
    },
    {
     "name": "stdout",
     "output_type": "stream",
     "text": [
      "Epoch: 10 | Train Loss: 0.1023 | Acc: 0.9741 | Prec: 0.9822 | Recall: 0.9615 | F1: 0.9717 | ROC-AUC: 0.9896 || Test Loss: 0.4008 | Acc: 0.8930 | Prec: 0.9809 | Recall: 0.9023 | F1: 0.9399 | ROC-AUC: 0.9443\n",
      "Max val ROC-AUC: 0.9573\n",
      "Training with d_model=64, nhead=2, num_layers=8, dropout=0.1, lr=0.01\n"
     ]
    },
    {
     "data": {
      "application/vnd.jupyter.widget-view+json": {
       "model_id": "b3f619feaa6b40d9a535c2e5068e5baf",
       "version_major": 2,
       "version_minor": 0
      },
      "text/plain": [
       "  0%|          | 0/10 [00:00<?, ?it/s]"
      ]
     },
     "metadata": {},
     "output_type": "display_data"
    },
    {
     "name": "stdout",
     "output_type": "stream",
     "text": [
      "Epoch: 10 | Train Loss: 0.0954 | Acc: 0.9737 | Prec: 0.9829 | Recall: 0.9601 | F1: 0.9713 | ROC-AUC: 0.9890 || Test Loss: 0.3512 | Acc: 0.9209 | Prec: 0.9867 | Recall: 0.9273 | F1: 0.9561 | ROC-AUC: 0.9367\n",
      "Max val ROC-AUC: 0.9593\n",
      "Training with d_model=64, nhead=2, num_layers=8, dropout=0.1, lr=0.01\n"
     ]
    },
    {
     "data": {
      "application/vnd.jupyter.widget-view+json": {
       "model_id": "78eb4751683447ada3262513171bdac9",
       "version_major": 2,
       "version_minor": 0
      },
      "text/plain": [
       "  0%|          | 0/10 [00:00<?, ?it/s]"
      ]
     },
     "metadata": {},
     "output_type": "display_data"
    },
    {
     "name": "stdout",
     "output_type": "stream",
     "text": [
      "Epoch: 10 | Train Loss: 0.1048 | Acc: 0.9663 | Prec: 0.9841 | Recall: 0.9426 | F1: 0.9629 | ROC-AUC: 0.9904 || Test Loss: 0.4675 | Acc: 0.8233 | Prec: 0.9850 | Recall: 0.8221 | F1: 0.8962 | ROC-AUC: 0.8841\n",
      "Max val ROC-AUC: 0.9534\n",
      "Training with d_model=64, nhead=2, num_layers=8, dropout=0.1, lr=0.01\n"
     ]
    },
    {
     "data": {
      "application/vnd.jupyter.widget-view+json": {
       "model_id": "80f9b071ad8c472ab164de159f9f219d",
       "version_major": 2,
       "version_minor": 0
      },
      "text/plain": [
       "  0%|          | 0/10 [00:00<?, ?it/s]"
      ]
     },
     "metadata": {},
     "output_type": "display_data"
    },
    {
     "name": "stdout",
     "output_type": "stream",
     "text": [
      "Epoch: 10 | Train Loss: 0.1546 | Acc: 0.9363 | Prec: 0.9707 | Recall: 0.8896 | F1: 0.9284 | ROC-AUC: 0.9825 || Test Loss: 0.2480 | Acc: 0.9023 | Prec: 0.9864 | Recall: 0.9073 | F1: 0.9452 | ROC-AUC: 0.9237\n",
      "Max val ROC-AUC: 0.9654\n",
      "Training with d_model=64, nhead=2, num_layers=8, dropout=0.1, lr=0.01\n"
     ]
    },
    {
     "data": {
      "application/vnd.jupyter.widget-view+json": {
       "model_id": "af29840bd7fe40bf9fe8b07665ca87d7",
       "version_major": 2,
       "version_minor": 0
      },
      "text/plain": [
       "  0%|          | 0/10 [00:00<?, ?it/s]"
      ]
     },
     "metadata": {},
     "output_type": "display_data"
    },
    {
     "name": "stdout",
     "output_type": "stream",
     "text": [
      "Epoch: 10 | Train Loss: 0.1640 | Acc: 0.9353 | Prec: 0.9373 | Recall: 0.9223 | F1: 0.9297 | ROC-AUC: 0.9831 || Test Loss: 0.3895 | Acc: 0.9023 | Prec: 0.9864 | Recall: 0.9073 | F1: 0.9452 | ROC-AUC: 0.9076\n",
      "Max val ROC-AUC: 0.9558\n",
      "Training with d_model=64, nhead=2, num_layers=8, dropout=0.1, lr=0.01\n"
     ]
    },
    {
     "data": {
      "application/vnd.jupyter.widget-view+json": {
       "model_id": "e303b596f6a947c582930db2de5130d3",
       "version_major": 2,
       "version_minor": 0
      },
      "text/plain": [
       "  0%|          | 0/10 [00:00<?, ?it/s]"
      ]
     },
     "metadata": {},
     "output_type": "display_data"
    },
    {
     "name": "stdout",
     "output_type": "stream",
     "text": [
      "Epoch: 10 | Train Loss: 0.1457 | Acc: 0.9562 | Prec: 0.9727 | Recall: 0.9317 | F1: 0.9518 | ROC-AUC: 0.9826 || Test Loss: 0.5764 | Acc: 0.7721 | Prec: 0.9902 | Recall: 0.7619 | F1: 0.8612 | ROC-AUC: 0.9150\n",
      "Max val ROC-AUC: 0.9453\n",
      "Training with d_model=64, nhead=2, num_layers=8, dropout=0.1, lr=0.01\n"
     ]
    },
    {
     "data": {
      "application/vnd.jupyter.widget-view+json": {
       "model_id": "dc3886784a104845b5236245bcf361d2",
       "version_major": 2,
       "version_minor": 0
      },
      "text/plain": [
       "  0%|          | 0/10 [00:00<?, ?it/s]"
      ]
     },
     "metadata": {},
     "output_type": "display_data"
    },
    {
     "name": "stdout",
     "output_type": "stream",
     "text": [
      "Epoch: 10 | Train Loss: 0.1205 | Acc: 0.9603 | Prec: 0.9802 | Recall: 0.9332 | F1: 0.9561 | ROC-AUC: 0.9879 || Test Loss: 0.2573 | Acc: 0.8953 | Prec: 0.9890 | Recall: 0.8972 | F1: 0.9409 | ROC-AUC: 0.9024\n",
      "Max val ROC-AUC: 0.9428\n",
      "Training with d_model=64, nhead=2, num_layers=8, dropout=0.1, lr=0.01\n"
     ]
    },
    {
     "data": {
      "application/vnd.jupyter.widget-view+json": {
       "model_id": "eae6a03cfe86420f947b48739089e16f",
       "version_major": 2,
       "version_minor": 0
      },
      "text/plain": [
       "  0%|          | 0/10 [00:00<?, ?it/s]"
      ]
     },
     "metadata": {},
     "output_type": "display_data"
    },
    {
     "name": "stdout",
     "output_type": "stream",
     "text": [
      "Epoch: 10 | Train Loss: 0.1176 | Acc: 0.9599 | Prec: 0.9729 | Recall: 0.9397 | F1: 0.9560 | ROC-AUC: 0.9887 || Test Loss: 0.3981 | Acc: 0.7628 | Prec: 0.9967 | Recall: 0.7469 | F1: 0.8539 | ROC-AUC: 0.9527\n",
      "Max val ROC-AUC: 0.9527\n",
      "Training with d_model=64, nhead=2, num_layers=8, dropout=0.1, lr=0.001\n"
     ]
    },
    {
     "data": {
      "application/vnd.jupyter.widget-view+json": {
       "model_id": "3a446a75c96b4f0f835ee2ce303b561c",
       "version_major": 2,
       "version_minor": 0
      },
      "text/plain": [
       "  0%|          | 0/10 [00:00<?, ?it/s]"
      ]
     },
     "metadata": {},
     "output_type": "display_data"
    },
    {
     "name": "stdout",
     "output_type": "stream",
     "text": [
      "Epoch: 10 | Train Loss: 0.0249 | Acc: 0.9919 | Prec: 0.9971 | Recall: 0.9855 | F1: 0.9912 | ROC-AUC: 0.9994 || Test Loss: 0.5187 | Acc: 0.9093 | Prec: 0.9839 | Recall: 0.9173 | F1: 0.9494 | ROC-AUC: 0.9404\n",
      "Max val ROC-AUC: 0.9404\n",
      "Training with d_model=64, nhead=2, num_layers=8, dropout=0.1, lr=0.001\n"
     ]
    },
    {
     "data": {
      "application/vnd.jupyter.widget-view+json": {
       "model_id": "3c90102051bd486bae4b41b4d926d5e6",
       "version_major": 2,
       "version_minor": 0
      },
      "text/plain": [
       "  0%|          | 0/10 [00:00<?, ?it/s]"
      ]
     },
     "metadata": {},
     "output_type": "display_data"
    },
    {
     "name": "stdout",
     "output_type": "stream",
     "text": [
      "Epoch: 10 | Train Loss: 0.0208 | Acc: 0.9933 | Prec: 0.9956 | Recall: 0.9898 | F1: 0.9927 | ROC-AUC: 0.9995 || Test Loss: 0.3667 | Acc: 0.9233 | Prec: 0.9816 | Recall: 0.9348 | F1: 0.9576 | ROC-AUC: 0.9493\n",
      "Max val ROC-AUC: 0.9655\n",
      "Training with d_model=64, nhead=2, num_layers=8, dropout=0.1, lr=0.001\n"
     ]
    },
    {
     "data": {
      "application/vnd.jupyter.widget-view+json": {
       "model_id": "d538980dda7448149cd6957869cc71f6",
       "version_major": 2,
       "version_minor": 0
      },
      "text/plain": [
       "  0%|          | 0/10 [00:00<?, ?it/s]"
      ]
     },
     "metadata": {},
     "output_type": "display_data"
    },
    {
     "name": "stdout",
     "output_type": "stream",
     "text": [
      "Epoch: 10 | Train Loss: 0.0351 | Acc: 0.9889 | Prec: 0.9898 | Recall: 0.9862 | F1: 0.9880 | ROC-AUC: 0.9983 || Test Loss: 0.3393 | Acc: 0.9302 | Prec: 0.9792 | Recall: 0.9449 | F1: 0.9617 | ROC-AUC: 0.9304\n",
      "Max val ROC-AUC: 0.9504\n",
      "Training with d_model=64, nhead=2, num_layers=8, dropout=0.1, lr=0.001\n"
     ]
    },
    {
     "data": {
      "application/vnd.jupyter.widget-view+json": {
       "model_id": "8549a86d517e4ae1b7736c7b538facfd",
       "version_major": 2,
       "version_minor": 0
      },
      "text/plain": [
       "  0%|          | 0/10 [00:00<?, ?it/s]"
      ]
     },
     "metadata": {},
     "output_type": "display_data"
    },
    {
     "name": "stdout",
     "output_type": "stream",
     "text": [
      "Epoch: 10 | Train Loss: 0.0306 | Acc: 0.9929 | Prec: 0.9956 | Recall: 0.9891 | F1: 0.9923 | ROC-AUC: 0.9986 || Test Loss: 0.5718 | Acc: 0.8442 | Prec: 0.9882 | Recall: 0.8421 | F1: 0.9093 | ROC-AUC: 0.9409\n",
      "Max val ROC-AUC: 0.9505\n",
      "Training with d_model=64, nhead=2, num_layers=8, dropout=0.1, lr=0.001\n"
     ]
    },
    {
     "data": {
      "application/vnd.jupyter.widget-view+json": {
       "model_id": "3798ffbce9f04e0b80dae09dc3d16228",
       "version_major": 2,
       "version_minor": 0
      },
      "text/plain": [
       "  0%|          | 0/10 [00:00<?, ?it/s]"
      ]
     },
     "metadata": {},
     "output_type": "display_data"
    },
    {
     "name": "stdout",
     "output_type": "stream",
     "text": [
      "Epoch: 10 | Train Loss: 0.0428 | Acc: 0.9869 | Prec: 0.9948 | Recall: 0.9768 | F1: 0.9857 | ROC-AUC: 0.9980 || Test Loss: 0.3530 | Acc: 0.9209 | Prec: 0.9841 | Recall: 0.9298 | F1: 0.9562 | ROC-AUC: 0.9633\n",
      "Max val ROC-AUC: 0.9633\n",
      "Training with d_model=64, nhead=2, num_layers=8, dropout=0.1, lr=0.001\n"
     ]
    },
    {
     "data": {
      "application/vnd.jupyter.widget-view+json": {
       "model_id": "687cacb650a34d89975138eab4fcf6b8",
       "version_major": 2,
       "version_minor": 0
      },
      "text/plain": [
       "  0%|          | 0/10 [00:00<?, ?it/s]"
      ]
     },
     "metadata": {},
     "output_type": "display_data"
    },
    {
     "name": "stdout",
     "output_type": "stream",
     "text": [
      "Epoch: 10 | Train Loss: 0.0163 | Acc: 0.9963 | Prec: 0.9971 | Recall: 0.9949 | F1: 0.9960 | ROC-AUC: 0.9995 || Test Loss: 0.3902 | Acc: 0.9279 | Prec: 0.9742 | Recall: 0.9474 | F1: 0.9606 | ROC-AUC: 0.9097\n",
      "Max val ROC-AUC: 0.9464\n",
      "Training with d_model=64, nhead=2, num_layers=8, dropout=0.1, lr=0.001\n"
     ]
    },
    {
     "data": {
      "application/vnd.jupyter.widget-view+json": {
       "model_id": "029f0b1876c84758b32818363ddfd41c",
       "version_major": 2,
       "version_minor": 0
      },
      "text/plain": [
       "  0%|          | 0/10 [00:00<?, ?it/s]"
      ]
     },
     "metadata": {},
     "output_type": "display_data"
    },
    {
     "name": "stdout",
     "output_type": "stream",
     "text": [
      "Epoch: 10 | Train Loss: 0.0283 | Acc: 0.9919 | Prec: 0.9949 | Recall: 0.9877 | F1: 0.9913 | ROC-AUC: 0.9987 || Test Loss: 0.4523 | Acc: 0.9140 | Prec: 0.9840 | Recall: 0.9223 | F1: 0.9521 | ROC-AUC: 0.9462\n",
      "Max val ROC-AUC: 0.9462\n",
      "Training with d_model=64, nhead=2, num_layers=8, dropout=0.1, lr=0.001\n"
     ]
    },
    {
     "data": {
      "application/vnd.jupyter.widget-view+json": {
       "model_id": "04486050a5294c4b80071cfce7cb74d2",
       "version_major": 2,
       "version_minor": 0
      },
      "text/plain": [
       "  0%|          | 0/10 [00:00<?, ?it/s]"
      ]
     },
     "metadata": {},
     "output_type": "display_data"
    },
    {
     "name": "stdout",
     "output_type": "stream",
     "text": [
      "Epoch: 10 | Train Loss: 0.0351 | Acc: 0.9896 | Prec: 0.9927 | Recall: 0.9847 | F1: 0.9887 | ROC-AUC: 0.9983 || Test Loss: 0.3714 | Acc: 0.9302 | Prec: 0.9817 | Recall: 0.9424 | F1: 0.9616 | ROC-AUC: 0.9353\n",
      "Max val ROC-AUC: 0.9615\n",
      "Training with d_model=64, nhead=2, num_layers=8, dropout=0.1, lr=0.001\n"
     ]
    },
    {
     "data": {
      "application/vnd.jupyter.widget-view+json": {
       "model_id": "77c15620cf4f4d1783c66a44af09e996",
       "version_major": 2,
       "version_minor": 0
      },
      "text/plain": [
       "  0%|          | 0/10 [00:00<?, ?it/s]"
      ]
     },
     "metadata": {},
     "output_type": "display_data"
    },
    {
     "name": "stdout",
     "output_type": "stream",
     "text": [
      "Epoch: 10 | Train Loss: 0.0421 | Acc: 0.9912 | Prec: 0.9956 | Recall: 0.9855 | F1: 0.9905 | ROC-AUC: 0.9967 || Test Loss: 0.4353 | Acc: 0.9186 | Prec: 0.9764 | Recall: 0.9348 | F1: 0.9552 | ROC-AUC: 0.9007\n",
      "Max val ROC-AUC: 0.9523\n",
      "Training with d_model=64, nhead=2, num_layers=8, dropout=0.1, lr=0.001\n"
     ]
    },
    {
     "data": {
      "application/vnd.jupyter.widget-view+json": {
       "model_id": "851476daf78446c08b82f8e450f82bec",
       "version_major": 2,
       "version_minor": 0
      },
      "text/plain": [
       "  0%|          | 0/10 [00:00<?, ?it/s]"
      ]
     },
     "metadata": {},
     "output_type": "display_data"
    },
    {
     "name": "stdout",
     "output_type": "stream",
     "text": [
      "Epoch: 10 | Train Loss: 0.0337 | Acc: 0.9892 | Prec: 0.9920 | Recall: 0.9847 | F1: 0.9883 | ROC-AUC: 0.9988 || Test Loss: 0.3545 | Acc: 0.9326 | Prec: 0.9843 | Recall: 0.9424 | F1: 0.9629 | ROC-AUC: 0.9192\n",
      "Max val ROC-AUC: 0.9504\n",
      "Training with d_model=64, nhead=2, num_layers=8, dropout=0.3, lr=0.1\n"
     ]
    },
    {
     "data": {
      "application/vnd.jupyter.widget-view+json": {
       "model_id": "2a5db6c54a5643518193599b7403f44d",
       "version_major": 2,
       "version_minor": 0
      },
      "text/plain": [
       "  0%|          | 0/10 [00:00<?, ?it/s]"
      ]
     },
     "metadata": {},
     "output_type": "display_data"
    },
    {
     "name": "stdout",
     "output_type": "stream",
     "text": [
      "Epoch: 10 | Train Loss: 0.6935 | Acc: 0.5221 | Prec: 0.4715 | Recall: 0.2520 | F1: 0.3284 | ROC-AUC: 0.4989 || Test Loss: 0.8245 | Acc: 0.0721 | Prec: 0.0000 | Recall: 0.0000 | F1: 0.0000 | ROC-AUC: 0.5000\n",
      "Max val ROC-AUC: 0.8327\n",
      "Training with d_model=64, nhead=2, num_layers=8, dropout=0.3, lr=0.1\n"
     ]
    },
    {
     "data": {
      "application/vnd.jupyter.widget-view+json": {
       "model_id": "07df69922bef48ad92610dbc58cc698b",
       "version_major": 2,
       "version_minor": 0
      },
      "text/plain": [
       "  0%|          | 0/10 [00:00<?, ?it/s]"
      ]
     },
     "metadata": {},
     "output_type": "display_data"
    },
    {
     "name": "stdout",
     "output_type": "stream",
     "text": [
      "Epoch: 10 | Train Loss: 0.6938 | Acc: 0.5234 | Prec: 0.4679 | Recall: 0.2012 | F1: 0.2814 | ROC-AUC: 0.4936 || Test Loss: 0.7311 | Acc: 0.0721 | Prec: 0.0000 | Recall: 0.0000 | F1: 0.0000 | ROC-AUC: 0.5000\n",
      "Max val ROC-AUC: 0.6678\n",
      "Training with d_model=64, nhead=2, num_layers=8, dropout=0.3, lr=0.1\n"
     ]
    },
    {
     "data": {
      "application/vnd.jupyter.widget-view+json": {
       "model_id": "d3649c050b0c4256837caa565d04b946",
       "version_major": 2,
       "version_minor": 0
      },
      "text/plain": [
       "  0%|          | 0/10 [00:00<?, ?it/s]"
      ]
     },
     "metadata": {},
     "output_type": "display_data"
    },
    {
     "name": "stdout",
     "output_type": "stream",
     "text": [
      "Epoch: 10 | Train Loss: 0.4684 | Acc: 0.8212 | Prec: 0.9147 | Recall: 0.6776 | F1: 0.7785 | ROC-AUC: 0.8459 || Test Loss: 0.4520 | Acc: 0.8070 | Prec: 0.9788 | Recall: 0.8095 | F1: 0.8861 | ROC-AUC: 0.7820\n",
      "Max val ROC-AUC: 0.9473\n",
      "Training with d_model=64, nhead=2, num_layers=8, dropout=0.3, lr=0.1\n"
     ]
    },
    {
     "data": {
      "application/vnd.jupyter.widget-view+json": {
       "model_id": "9f40e5560720464695fd2cac0e8974d9",
       "version_major": 2,
       "version_minor": 0
      },
      "text/plain": [
       "  0%|          | 0/10 [00:00<?, ?it/s]"
      ]
     },
     "metadata": {},
     "output_type": "display_data"
    },
    {
     "name": "stdout",
     "output_type": "stream",
     "text": [
      "Epoch: 10 | Train Loss: 0.4827 | Acc: 0.8107 | Prec: 0.7447 | Recall: 0.9005 | F1: 0.8153 | ROC-AUC: 0.8540 || Test Loss: 0.3437 | Acc: 0.8744 | Prec: 0.9915 | Recall: 0.8722 | F1: 0.9280 | ROC-AUC: 0.8881\n",
      "Max val ROC-AUC: 0.8902\n",
      "Training with d_model=64, nhead=2, num_layers=8, dropout=0.3, lr=0.1\n"
     ]
    },
    {
     "data": {
      "application/vnd.jupyter.widget-view+json": {
       "model_id": "788a7ad41ce9498eb8273328d7b2b033",
       "version_major": 2,
       "version_minor": 0
      },
      "text/plain": [
       "  0%|          | 0/10 [00:00<?, ?it/s]"
      ]
     },
     "metadata": {},
     "output_type": "display_data"
    },
    {
     "name": "stdout",
     "output_type": "stream",
     "text": [
      "Epoch: 10 | Train Loss: 0.7307 | Acc: 0.5153 | Prec: 0.4555 | Recall: 0.2302 | F1: 0.3058 | ROC-AUC: 0.5021 || Test Loss: 0.7901 | Acc: 0.0721 | Prec: 0.0000 | Recall: 0.0000 | F1: 0.0000 | ROC-AUC: 0.5000\n",
      "Max val ROC-AUC: 0.8016\n",
      "Training with d_model=64, nhead=2, num_layers=8, dropout=0.3, lr=0.1\n"
     ]
    },
    {
     "data": {
      "application/vnd.jupyter.widget-view+json": {
       "model_id": "b7b139f393474b14a10c402b8c868c74",
       "version_major": 2,
       "version_minor": 0
      },
      "text/plain": [
       "  0%|          | 0/10 [00:00<?, ?it/s]"
      ]
     },
     "metadata": {},
     "output_type": "display_data"
    },
    {
     "name": "stdout",
     "output_type": "stream",
     "text": [
      "Epoch: 10 | Train Loss: 0.6623 | Acc: 0.6100 | Prec: 0.5919 | Recall: 0.5120 | F1: 0.5491 | ROC-AUC: 0.6760 || Test Loss: 0.5814 | Acc: 0.9279 | Prec: 0.9792 | Recall: 0.9424 | F1: 0.9604 | ROC-AUC: 0.8470\n",
      "Max val ROC-AUC: 0.9540\n",
      "Training with d_model=64, nhead=2, num_layers=8, dropout=0.3, lr=0.1\n"
     ]
    },
    {
     "data": {
      "application/vnd.jupyter.widget-view+json": {
       "model_id": "97b80255389842a1acca930b638f11fd",
       "version_major": 2,
       "version_minor": 0
      },
      "text/plain": [
       "  0%|          | 0/10 [00:00<?, ?it/s]"
      ]
     },
     "metadata": {},
     "output_type": "display_data"
    },
    {
     "name": "stdout",
     "output_type": "stream",
     "text": [
      "Epoch: 10 | Train Loss: 0.4940 | Acc: 0.7791 | Prec: 0.7052 | Recall: 0.8998 | F1: 0.7907 | ROC-AUC: 0.8324 || Test Loss: 0.5784 | Acc: 0.9349 | Prec: 0.9793 | Recall: 0.9499 | F1: 0.9644 | ROC-AUC: 0.9260\n",
      "Max val ROC-AUC: 0.9474\n",
      "Training with d_model=64, nhead=2, num_layers=8, dropout=0.3, lr=0.1\n"
     ]
    },
    {
     "data": {
      "application/vnd.jupyter.widget-view+json": {
       "model_id": "58dbd9933441413e942f77659e0a8dbf",
       "version_major": 2,
       "version_minor": 0
      },
      "text/plain": [
       "  0%|          | 0/10 [00:00<?, ?it/s]"
      ]
     },
     "metadata": {},
     "output_type": "display_data"
    },
    {
     "name": "stdout",
     "output_type": "stream",
     "text": [
      "Epoch: 10 | Train Loss: 0.4360 | Acc: 0.8286 | Prec: 0.7544 | Recall: 0.9346 | F1: 0.8349 | ROC-AUC: 0.8578 || Test Loss: 0.4849 | Acc: 0.8930 | Prec: 0.9862 | Recall: 0.8972 | F1: 0.9396 | ROC-AUC: 0.8722\n",
      "Max val ROC-AUC: 0.9615\n",
      "Training with d_model=64, nhead=2, num_layers=8, dropout=0.3, lr=0.1\n"
     ]
    },
    {
     "data": {
      "application/vnd.jupyter.widget-view+json": {
       "model_id": "40028b751fe548b9a60ab88dcd4545f5",
       "version_major": 2,
       "version_minor": 0
      },
      "text/plain": [
       "  0%|          | 0/10 [00:00<?, ?it/s]"
      ]
     },
     "metadata": {},
     "output_type": "display_data"
    },
    {
     "name": "stdout",
     "output_type": "stream",
     "text": [
      "Epoch: 10 | Train Loss: 0.6972 | Acc: 0.5369 | Prec: 0.5027 | Recall: 0.1329 | F1: 0.2102 | ROC-AUC: 0.4954 || Test Loss: 0.6077 | Acc: 0.9279 | Prec: 0.9279 | Recall: 1.0000 | F1: 0.9626 | ROC-AUC: 0.5000\n",
      "Max val ROC-AUC: 0.8066\n",
      "Training with d_model=64, nhead=2, num_layers=8, dropout=0.3, lr=0.1\n"
     ]
    },
    {
     "data": {
      "application/vnd.jupyter.widget-view+json": {
       "model_id": "cd24797cffbd445886e29da5fb7c9f5e",
       "version_major": 2,
       "version_minor": 0
      },
      "text/plain": [
       "  0%|          | 0/10 [00:00<?, ?it/s]"
      ]
     },
     "metadata": {},
     "output_type": "display_data"
    },
    {
     "name": "stdout",
     "output_type": "stream",
     "text": [
      "Epoch: 10 | Train Loss: 0.6959 | Acc: 0.5207 | Prec: 0.4553 | Recall: 0.1699 | F1: 0.2475 | ROC-AUC: 0.4917 || Test Loss: 0.6804 | Acc: 0.9279 | Prec: 0.9279 | Recall: 1.0000 | F1: 0.9626 | ROC-AUC: 0.4975\n",
      "Max val ROC-AUC: 0.7056\n",
      "Training with d_model=64, nhead=2, num_layers=8, dropout=0.3, lr=0.01\n"
     ]
    },
    {
     "data": {
      "application/vnd.jupyter.widget-view+json": {
       "model_id": "b871816979034def97f4bcccb0ee8442",
       "version_major": 2,
       "version_minor": 0
      },
      "text/plain": [
       "  0%|          | 0/10 [00:00<?, ?it/s]"
      ]
     },
     "metadata": {},
     "output_type": "display_data"
    },
    {
     "name": "stdout",
     "output_type": "stream",
     "text": [
      "Epoch: 10 | Train Loss: 0.1239 | Acc: 0.9609 | Prec: 0.9795 | Recall: 0.9354 | F1: 0.9569 | ROC-AUC: 0.9874 || Test Loss: 0.4361 | Acc: 0.8628 | Prec: 0.9913 | Recall: 0.8596 | F1: 0.9208 | ROC-AUC: 0.9529\n",
      "Max val ROC-AUC: 0.9529\n",
      "Training with d_model=64, nhead=2, num_layers=8, dropout=0.3, lr=0.01\n"
     ]
    },
    {
     "data": {
      "application/vnd.jupyter.widget-view+json": {
       "model_id": "4c3a1256f5254ad1891217f5750493f4",
       "version_major": 2,
       "version_minor": 0
      },
      "text/plain": [
       "  0%|          | 0/10 [00:00<?, ?it/s]"
      ]
     },
     "metadata": {},
     "output_type": "display_data"
    },
    {
     "name": "stdout",
     "output_type": "stream",
     "text": [
      "Epoch: 10 | Train Loss: 0.1263 | Acc: 0.9640 | Prec: 0.9774 | Recall: 0.9441 | F1: 0.9605 | ROC-AUC: 0.9855 || Test Loss: 0.4925 | Acc: 0.9093 | Prec: 0.9865 | Recall: 0.9148 | F1: 0.9493 | ROC-AUC: 0.9348\n",
      "Max val ROC-AUC: 0.9584\n",
      "Training with d_model=64, nhead=2, num_layers=8, dropout=0.3, lr=0.01\n"
     ]
    },
    {
     "data": {
      "application/vnd.jupyter.widget-view+json": {
       "model_id": "484b610ba72548d29d0051496eb02c41",
       "version_major": 2,
       "version_minor": 0
      },
      "text/plain": [
       "  0%|          | 0/10 [00:00<?, ?it/s]"
      ]
     },
     "metadata": {},
     "output_type": "display_data"
    },
    {
     "name": "stdout",
     "output_type": "stream",
     "text": [
      "Epoch: 10 | Train Loss: 0.1252 | Acc: 0.9616 | Prec: 0.9824 | Recall: 0.9339 | F1: 0.9576 | ROC-AUC: 0.9845 || Test Loss: 0.4546 | Acc: 0.8698 | Prec: 0.9831 | Recall: 0.8747 | F1: 0.9257 | ROC-AUC: 0.9243\n",
      "Max val ROC-AUC: 0.9373\n",
      "Training with d_model=64, nhead=2, num_layers=8, dropout=0.3, lr=0.01\n"
     ]
    },
    {
     "data": {
      "application/vnd.jupyter.widget-view+json": {
       "model_id": "39a363af20994aab98de41a84ea9e6c0",
       "version_major": 2,
       "version_minor": 0
      },
      "text/plain": [
       "  0%|          | 0/10 [00:00<?, ?it/s]"
      ]
     },
     "metadata": {},
     "output_type": "display_data"
    },
    {
     "name": "stdout",
     "output_type": "stream",
     "text": [
      "Epoch: 10 | Train Loss: 0.1196 | Acc: 0.9569 | Prec: 0.9808 | Recall: 0.9252 | F1: 0.9522 | ROC-AUC: 0.9884 || Test Loss: 0.4318 | Acc: 0.8535 | Prec: 0.9773 | Recall: 0.8622 | F1: 0.9161 | ROC-AUC: 0.8555\n",
      "Max val ROC-AUC: 0.9448\n",
      "Training with d_model=64, nhead=2, num_layers=8, dropout=0.3, lr=0.01\n"
     ]
    },
    {
     "data": {
      "application/vnd.jupyter.widget-view+json": {
       "model_id": "2964762edef548d18c4b895cc7b4e4c4",
       "version_major": 2,
       "version_minor": 0
      },
      "text/plain": [
       "  0%|          | 0/10 [00:00<?, ?it/s]"
      ]
     },
     "metadata": {},
     "output_type": "display_data"
    },
    {
     "name": "stdout",
     "output_type": "stream",
     "text": [
      "Epoch: 10 | Train Loss: 0.1534 | Acc: 0.9491 | Prec: 0.9774 | Recall: 0.9114 | F1: 0.9433 | ROC-AUC: 0.9803 || Test Loss: 0.4389 | Acc: 0.8395 | Prec: 0.9853 | Recall: 0.8396 | F1: 0.9066 | ROC-AUC: 0.9388\n",
      "Max val ROC-AUC: 0.9390\n",
      "Training with d_model=64, nhead=2, num_layers=8, dropout=0.3, lr=0.01\n"
     ]
    },
    {
     "data": {
      "application/vnd.jupyter.widget-view+json": {
       "model_id": "1722f1b3afac45599e4334fb132102d4",
       "version_major": 2,
       "version_minor": 0
      },
      "text/plain": [
       "  0%|          | 0/10 [00:00<?, ?it/s]"
      ]
     },
     "metadata": {},
     "output_type": "display_data"
    },
    {
     "name": "stdout",
     "output_type": "stream",
     "text": [
      "Epoch: 10 | Train Loss: 0.1678 | Acc: 0.9488 | Prec: 0.9693 | Recall: 0.9187 | F1: 0.9433 | ROC-AUC: 0.9782 || Test Loss: 0.4163 | Acc: 0.8884 | Prec: 0.9835 | Recall: 0.8947 | F1: 0.9370 | ROC-AUC: 0.9356\n",
      "Max val ROC-AUC: 0.9571\n",
      "Training with d_model=64, nhead=2, num_layers=8, dropout=0.3, lr=0.01\n"
     ]
    },
    {
     "data": {
      "application/vnd.jupyter.widget-view+json": {
       "model_id": "035a9bd1619f4759b18d470e542e67a4",
       "version_major": 2,
       "version_minor": 0
      },
      "text/plain": [
       "  0%|          | 0/10 [00:00<?, ?it/s]"
      ]
     },
     "metadata": {},
     "output_type": "display_data"
    },
    {
     "name": "stdout",
     "output_type": "stream",
     "text": [
      "Epoch: 10 | Train Loss: 0.1526 | Acc: 0.9512 | Prec: 0.9688 | Recall: 0.9245 | F1: 0.9461 | ROC-AUC: 0.9831 || Test Loss: 0.3756 | Acc: 0.9093 | Prec: 0.9813 | Recall: 0.9198 | F1: 0.9495 | ROC-AUC: 0.9044\n",
      "Max val ROC-AUC: 0.9445\n",
      "Training with d_model=64, nhead=2, num_layers=8, dropout=0.3, lr=0.01\n"
     ]
    },
    {
     "data": {
      "application/vnd.jupyter.widget-view+json": {
       "model_id": "534c4ee6de2d493a992a44942fe27194",
       "version_major": 2,
       "version_minor": 0
      },
      "text/plain": [
       "  0%|          | 0/10 [00:00<?, ?it/s]"
      ]
     },
     "metadata": {},
     "output_type": "display_data"
    },
    {
     "name": "stdout",
     "output_type": "stream",
     "text": [
      "Epoch: 10 | Train Loss: 0.1447 | Acc: 0.9508 | Prec: 0.9702 | Recall: 0.9223 | F1: 0.9456 | ROC-AUC: 0.9856 || Test Loss: 0.3579 | Acc: 0.8721 | Prec: 0.9831 | Recall: 0.8772 | F1: 0.9272 | ROC-AUC: 0.9270\n",
      "Max val ROC-AUC: 0.9595\n",
      "Training with d_model=64, nhead=2, num_layers=8, dropout=0.3, lr=0.01\n"
     ]
    },
    {
     "data": {
      "application/vnd.jupyter.widget-view+json": {
       "model_id": "bd97e42b1416484db004a56158edeb85",
       "version_major": 2,
       "version_minor": 0
      },
      "text/plain": [
       "  0%|          | 0/10 [00:00<?, ?it/s]"
      ]
     },
     "metadata": {},
     "output_type": "display_data"
    },
    {
     "name": "stdout",
     "output_type": "stream",
     "text": [
      "Epoch: 10 | Train Loss: 0.1629 | Acc: 0.9505 | Prec: 0.9680 | Recall: 0.9237 | F1: 0.9454 | ROC-AUC: 0.9803 || Test Loss: 0.3997 | Acc: 0.8488 | Prec: 0.9883 | Recall: 0.8471 | F1: 0.9123 | ROC-AUC: 0.9500\n",
      "Max val ROC-AUC: 0.9634\n",
      "Training with d_model=64, nhead=2, num_layers=8, dropout=0.3, lr=0.01\n"
     ]
    },
    {
     "data": {
      "application/vnd.jupyter.widget-view+json": {
       "model_id": "57fc9a8ea7b84de3b11112e83cac057d",
       "version_major": 2,
       "version_minor": 0
      },
      "text/plain": [
       "  0%|          | 0/10 [00:00<?, ?it/s]"
      ]
     },
     "metadata": {},
     "output_type": "display_data"
    },
    {
     "name": "stdout",
     "output_type": "stream",
     "text": [
      "Epoch: 10 | Train Loss: 0.1015 | Acc: 0.9724 | Prec: 0.9909 | Recall: 0.9492 | F1: 0.9696 | ROC-AUC: 0.9886 || Test Loss: 0.3924 | Acc: 0.9023 | Prec: 0.9786 | Recall: 0.9148 | F1: 0.9456 | ROC-AUC: 0.9048\n",
      "Max val ROC-AUC: 0.9564\n",
      "Training with d_model=64, nhead=2, num_layers=8, dropout=0.3, lr=0.001\n"
     ]
    },
    {
     "data": {
      "application/vnd.jupyter.widget-view+json": {
       "model_id": "53bce58bacc645719c3197e9d96a1e20",
       "version_major": 2,
       "version_minor": 0
      },
      "text/plain": [
       "  0%|          | 0/10 [00:00<?, ?it/s]"
      ]
     },
     "metadata": {},
     "output_type": "display_data"
    },
    {
     "name": "stdout",
     "output_type": "stream",
     "text": [
      "Epoch: 10 | Train Loss: 0.0455 | Acc: 0.9882 | Prec: 0.9934 | Recall: 0.9811 | F1: 0.9872 | ROC-AUC: 0.9976 || Test Loss: 0.4097 | Acc: 0.9186 | Prec: 0.9866 | Recall: 0.9248 | F1: 0.9547 | ROC-AUC: 0.9535\n",
      "Max val ROC-AUC: 0.9535\n",
      "Training with d_model=64, nhead=2, num_layers=8, dropout=0.3, lr=0.001\n"
     ]
    },
    {
     "data": {
      "application/vnd.jupyter.widget-view+json": {
       "model_id": "2b6ae0842964423bb60323604478acc7",
       "version_major": 2,
       "version_minor": 0
      },
      "text/plain": [
       "  0%|          | 0/10 [00:00<?, ?it/s]"
      ]
     },
     "metadata": {},
     "output_type": "display_data"
    },
    {
     "name": "stdout",
     "output_type": "stream",
     "text": [
      "Epoch: 10 | Train Loss: 0.0451 | Acc: 0.9869 | Prec: 0.9898 | Recall: 0.9818 | F1: 0.9858 | ROC-AUC: 0.9975 || Test Loss: 0.2899 | Acc: 0.9256 | Prec: 0.9766 | Recall: 0.9424 | F1: 0.9592 | ROC-AUC: 0.9228\n",
      "Max val ROC-AUC: 0.9436\n",
      "Training with d_model=64, nhead=2, num_layers=8, dropout=0.3, lr=0.001\n"
     ]
    },
    {
     "data": {
      "application/vnd.jupyter.widget-view+json": {
       "model_id": "f01babb02ac54c4593bc186d6206d6d0",
       "version_major": 2,
       "version_minor": 0
      },
      "text/plain": [
       "  0%|          | 0/10 [00:00<?, ?it/s]"
      ]
     },
     "metadata": {},
     "output_type": "display_data"
    },
    {
     "name": "stdout",
     "output_type": "stream",
     "text": [
      "Epoch: 10 | Train Loss: 0.0482 | Acc: 0.9859 | Prec: 0.9912 | Recall: 0.9782 | F1: 0.9846 | ROC-AUC: 0.9980 || Test Loss: 0.5456 | Acc: 0.8860 | Prec: 0.9834 | Recall: 0.8922 | F1: 0.9356 | ROC-AUC: 0.9212\n",
      "Max val ROC-AUC: 0.9358\n",
      "Training with d_model=64, nhead=2, num_layers=8, dropout=0.3, lr=0.001\n"
     ]
    },
    {
     "data": {
      "application/vnd.jupyter.widget-view+json": {
       "model_id": "849d285367574b7280e8d6981220dd4d",
       "version_major": 2,
       "version_minor": 0
      },
      "text/plain": [
       "  0%|          | 0/10 [00:00<?, ?it/s]"
      ]
     },
     "metadata": {},
     "output_type": "display_data"
    },
    {
     "name": "stdout",
     "output_type": "stream",
     "text": [
      "Epoch: 10 | Train Loss: 0.0429 | Acc: 0.9885 | Prec: 0.9927 | Recall: 0.9826 | F1: 0.9876 | ROC-AUC: 0.9980 || Test Loss: 0.4396 | Acc: 0.9163 | Prec: 0.9789 | Recall: 0.9298 | F1: 0.9537 | ROC-AUC: 0.9252\n",
      "Max val ROC-AUC: 0.9440\n",
      "Training with d_model=64, nhead=2, num_layers=8, dropout=0.3, lr=0.001\n"
     ]
    },
    {
     "data": {
      "application/vnd.jupyter.widget-view+json": {
       "model_id": "cd6835d78de44f02bb37a599b1052497",
       "version_major": 2,
       "version_minor": 0
      },
      "text/plain": [
       "  0%|          | 0/10 [00:00<?, ?it/s]"
      ]
     },
     "metadata": {},
     "output_type": "display_data"
    },
    {
     "name": "stdout",
     "output_type": "stream",
     "text": [
      "Epoch: 10 | Train Loss: 0.0638 | Acc: 0.9805 | Prec: 0.9817 | Recall: 0.9760 | F1: 0.9789 | ROC-AUC: 0.9962 || Test Loss: 0.3200 | Acc: 0.9372 | Prec: 0.9794 | Recall: 0.9524 | F1: 0.9657 | ROC-AUC: 0.9419\n",
      "Max val ROC-AUC: 0.9463\n",
      "Training with d_model=64, nhead=2, num_layers=8, dropout=0.3, lr=0.001\n"
     ]
    },
    {
     "data": {
      "application/vnd.jupyter.widget-view+json": {
       "model_id": "faa2415a01444226958aced5054be19e",
       "version_major": 2,
       "version_minor": 0
      },
      "text/plain": [
       "  0%|          | 0/10 [00:00<?, ?it/s]"
      ]
     },
     "metadata": {},
     "output_type": "display_data"
    },
    {
     "name": "stdout",
     "output_type": "stream",
     "text": [
      "Epoch: 10 | Train Loss: 0.0393 | Acc: 0.9896 | Prec: 0.9927 | Recall: 0.9847 | F1: 0.9887 | ROC-AUC: 0.9986 || Test Loss: 0.3415 | Acc: 0.9233 | Prec: 0.9791 | Recall: 0.9373 | F1: 0.9577 | ROC-AUC: 0.9339\n",
      "Max val ROC-AUC: 0.9451\n",
      "Training with d_model=64, nhead=2, num_layers=8, dropout=0.3, lr=0.001\n"
     ]
    },
    {
     "data": {
      "application/vnd.jupyter.widget-view+json": {
       "model_id": "276f96c76fc44fffac200e51374b70fc",
       "version_major": 2,
       "version_minor": 0
      },
      "text/plain": [
       "  0%|          | 0/10 [00:00<?, ?it/s]"
      ]
     },
     "metadata": {},
     "output_type": "display_data"
    },
    {
     "name": "stdout",
     "output_type": "stream",
     "text": [
      "Epoch: 10 | Train Loss: 0.0417 | Acc: 0.9872 | Prec: 0.9926 | Recall: 0.9797 | F1: 0.9861 | ROC-AUC: 0.9978 || Test Loss: 0.3874 | Acc: 0.9233 | Prec: 0.9816 | Recall: 0.9348 | F1: 0.9576 | ROC-AUC: 0.9316\n",
      "Max val ROC-AUC: 0.9459\n",
      "Training with d_model=64, nhead=2, num_layers=8, dropout=0.3, lr=0.001\n"
     ]
    },
    {
     "data": {
      "application/vnd.jupyter.widget-view+json": {
       "model_id": "47de7681203f46f9a9fedcc3e0799b08",
       "version_major": 2,
       "version_minor": 0
      },
      "text/plain": [
       "  0%|          | 0/10 [00:00<?, ?it/s]"
      ]
     },
     "metadata": {},
     "output_type": "display_data"
    },
    {
     "name": "stdout",
     "output_type": "stream",
     "text": [
      "Epoch: 10 | Train Loss: 0.0498 | Acc: 0.9848 | Prec: 0.9904 | Recall: 0.9768 | F1: 0.9835 | ROC-AUC: 0.9970 || Test Loss: 0.3850 | Acc: 0.9233 | Prec: 0.9791 | Recall: 0.9373 | F1: 0.9577 | ROC-AUC: 0.9429\n",
      "Max val ROC-AUC: 0.9507\n",
      "Training with d_model=64, nhead=2, num_layers=8, dropout=0.3, lr=0.001\n"
     ]
    },
    {
     "data": {
      "application/vnd.jupyter.widget-view+json": {
       "model_id": "6426573ae4d44c52bb3382dd588f0cfd",
       "version_major": 2,
       "version_minor": 0
      },
      "text/plain": [
       "  0%|          | 0/10 [00:00<?, ?it/s]"
      ]
     },
     "metadata": {},
     "output_type": "display_data"
    },
    {
     "name": "stdout",
     "output_type": "stream",
     "text": [
      "Epoch: 10 | Train Loss: 0.0484 | Acc: 0.9835 | Prec: 0.9911 | Recall: 0.9731 | F1: 0.9820 | ROC-AUC: 0.9976 || Test Loss: 0.5128 | Acc: 0.8721 | Prec: 0.9859 | Recall: 0.8747 | F1: 0.9270 | ROC-AUC: 0.9192\n",
      "Max val ROC-AUC: 0.9441\n",
      "Training with d_model=64, nhead=2, num_layers=8, dropout=0.3, lr=0.001\n"
     ]
    },
    {
     "data": {
      "application/vnd.jupyter.widget-view+json": {
       "model_id": "bd7538685b8e404e8cdd07633956f3a0",
       "version_major": 2,
       "version_minor": 0
      },
      "text/plain": [
       "  0%|          | 0/10 [00:00<?, ?it/s]"
      ]
     },
     "metadata": {},
     "output_type": "display_data"
    },
    {
     "name": "stdout",
     "output_type": "stream",
     "text": [
      "Epoch: 10 | Train Loss: 0.0411 | Acc: 0.9882 | Prec: 0.9956 | Recall: 0.9789 | F1: 0.9872 | ROC-AUC: 0.9984 || Test Loss: 0.3798 | Acc: 0.9116 | Prec: 0.9813 | Recall: 0.9223 | F1: 0.9509 | ROC-AUC: 0.8733\n",
      "Max val ROC-AUC: 0.9453\n",
      "Training with d_model=64, nhead=2, num_layers=8, dropout=0.5, lr=0.1\n"
     ]
    },
    {
     "data": {
      "application/vnd.jupyter.widget-view+json": {
       "model_id": "5924a7862a654574bd9b2fd6a9dc1b5f",
       "version_major": 2,
       "version_minor": 0
      },
      "text/plain": [
       "  0%|          | 0/10 [00:00<?, ?it/s]"
      ]
     },
     "metadata": {},
     "output_type": "display_data"
    },
    {
     "name": "stdout",
     "output_type": "stream",
     "text": [
      "Epoch: 10 | Train Loss: 0.6955 | Acc: 0.5180 | Prec: 0.4504 | Recall: 0.1779 | F1: 0.2551 | ROC-AUC: 0.5016 || Test Loss: 0.8196 | Acc: 0.0721 | Prec: 0.0000 | Recall: 0.0000 | F1: 0.0000 | ROC-AUC: 0.5000\n",
      "Max val ROC-AUC: 0.5705\n",
      "Training with d_model=64, nhead=2, num_layers=8, dropout=0.5, lr=0.1\n"
     ]
    },
    {
     "data": {
      "application/vnd.jupyter.widget-view+json": {
       "model_id": "4f620c5fd2d94a4d864528c4744d54cb",
       "version_major": 2,
       "version_minor": 0
      },
      "text/plain": [
       "  0%|          | 0/10 [00:00<?, ?it/s]"
      ]
     },
     "metadata": {},
     "output_type": "display_data"
    },
    {
     "name": "stdout",
     "output_type": "stream",
     "text": [
      "Epoch: 10 | Train Loss: 0.7260 | Acc: 0.5197 | Prec: 0.4583 | Recall: 0.1954 | F1: 0.2739 | ROC-AUC: 0.4946 || Test Loss: 0.8587 | Acc: 0.0721 | Prec: 0.0000 | Recall: 0.0000 | F1: 0.0000 | ROC-AUC: 0.5000\n",
      "Max val ROC-AUC: 0.5000\n",
      "Training with d_model=64, nhead=2, num_layers=8, dropout=0.5, lr=0.1\n"
     ]
    },
    {
     "data": {
      "application/vnd.jupyter.widget-view+json": {
       "model_id": "47a0cb0a205a4b5a97d4b14aea8b6662",
       "version_major": 2,
       "version_minor": 0
      },
      "text/plain": [
       "  0%|          | 0/10 [00:00<?, ?it/s]"
      ]
     },
     "metadata": {},
     "output_type": "display_data"
    },
    {
     "name": "stdout",
     "output_type": "stream",
     "text": [
      "Epoch: 10 | Train Loss: 0.6925 | Acc: 0.5264 | Prec: 0.4716 | Recall: 0.1750 | F1: 0.2553 | ROC-AUC: 0.5066 || Test Loss: 0.7366 | Acc: 0.0721 | Prec: 0.0000 | Recall: 0.0000 | F1: 0.0000 | ROC-AUC: 0.5000\n",
      "Max val ROC-AUC: 0.5000\n",
      "Training with d_model=64, nhead=2, num_layers=8, dropout=0.5, lr=0.1\n"
     ]
    },
    {
     "data": {
      "application/vnd.jupyter.widget-view+json": {
       "model_id": "80ef1de0479d4206b5218c316764a88b",
       "version_major": 2,
       "version_minor": 0
      },
      "text/plain": [
       "  0%|          | 0/10 [00:00<?, ?it/s]"
      ]
     },
     "metadata": {},
     "output_type": "display_data"
    },
    {
     "name": "stdout",
     "output_type": "stream",
     "text": [
      "Epoch: 10 | Train Loss: 0.7046 | Acc: 0.5207 | Prec: 0.4706 | Recall: 0.2672 | F1: 0.3409 | ROC-AUC: 0.4995 || Test Loss: 0.8288 | Acc: 0.0721 | Prec: 0.0000 | Recall: 0.0000 | F1: 0.0000 | ROC-AUC: 0.5000\n",
      "Max val ROC-AUC: 0.5000\n",
      "Training with d_model=64, nhead=2, num_layers=8, dropout=0.5, lr=0.1\n"
     ]
    },
    {
     "data": {
      "application/vnd.jupyter.widget-view+json": {
       "model_id": "28961dd44b76470b99c39a2460a8f107",
       "version_major": 2,
       "version_minor": 0
      },
      "text/plain": [
       "  0%|          | 0/10 [00:00<?, ?it/s]"
      ]
     },
     "metadata": {},
     "output_type": "display_data"
    }
   ],
   "source": [
    "from itertools import product\n",
    "NUM_EPOCHS = 10\n",
    "\n",
    "\n",
    "param_grid = {\n",
    "    \"d_model\": [64, 128, 25],\n",
    "    \"nhead\": [2, 4, 8, 16],\n",
    "    \"num_layers\": [i * 2 for i in range(1,51)],\n",
    "    \"dropout\": [0.0, 0.1 , 0.3 , 0.5],\n",
    "    \"lr\": [0.1, 0.01, 0.001],\n",
    "    \"weight_decay\": [0, 1e-4],\n",
    "    \"batch_size\": [4, 8, 16, 32, 64]\n",
    "}\n",
    "\n",
    "param_grid = [\n",
    "    dict(zip(param_grid.keys(), values))\n",
    "    for values in product(*param_grid.values())\n",
    "]\n",
    "best_params, best_results = hyperparameter_tuning(\n",
    "    param_grid,\n",
    "    train_dataloader=train_dataloader,\n",
    "    test_dataloader=test_dataloader,\n",
    "    device=device,\n",
    "    epochs=NUM_EPOCHS\n",
    ")"
   ]
  },
  {
   "cell_type": "code",
   "execution_count": null,
   "id": "e5e3b4b0-5f37-4767-909d-e7b970307657",
   "metadata": {},
   "outputs": [],
   "source": [
    "# Attention Weights\n",
    "import torch\n",
    "import torch.nn as nn\n",
    "\n",
    "class CustomTransformerEncoderLayer(nn.Module):\n",
    "    def __init__(self, d_model, nhead, dim_feedforward=256, dropout=0.5):\n",
    "        super(CustomTransformerEncoderLayer, self).__init__()\n",
    "        self.self_attn = nn.MultiheadAttention(d_model, nhead, dropout=dropout, batch_first=True)\n",
    "        self.linear1 = nn.Linear(d_model, dim_feedforward)\n",
    "        self.dropout = nn.Dropout(dropout)\n",
    "        self.linear2 = nn.Linear(dim_feedforward, d_model)\n",
    "\n",
    "        self.norm1 = nn.LayerNorm(d_model)\n",
    "        self.norm2 = nn.LayerNorm(d_model)\n",
    "        self.dropout1 = nn.Dropout(dropout)\n",
    "        self.dropout2 = nn.Dropout(dropout)\n",
    "\n",
    "        self.activation = nn.GELU()\n",
    "\n",
    "    def forward(self, src):\n",
    "        # Self-attention with weights\n",
    "        attn_output, attn_weights = self.self_attn(src, src, src, need_weights=True)\n",
    "        src = src + self.dropout1(attn_output)\n",
    "        src = self.norm1(src)\n",
    "\n",
    "        ff_output = self.linear2(self.dropout(self.activation(self.linear1(src))))\n",
    "        src = src + self.dropout2(ff_output)\n",
    "        src = self.norm2(src)\n",
    "\n",
    "        return src, attn_weights  # Return both output and attention\n",
    "        \n",
    "\n",
    "class TabTransformerWithAttention(nn.Module):\n",
    "    def __init__(self, input_dim,\n",
    "                 d_model=128,\n",
    "                 nhead=8,\n",
    "                 num_layers=4,\n",
    "                 dim_feedforward=256,\n",
    "                 dropout=0.5):\n",
    "        super(TabTransformerWithAttention, self).__init__()\n",
    "\n",
    "        self.embedding = nn.Linear(input_dim, d_model)\n",
    "        self.norm = nn.LayerNorm(d_model)\n",
    "\n",
    "        # Stack custom encoder layers\n",
    "        self.encoder_layers = nn.ModuleList([\n",
    "            CustomTransformerEncoderLayer(d_model, nhead, dim_feedforward, dropout)\n",
    "            for _ in range(num_layers)\n",
    "        ])\n",
    "\n",
    "        self.classifier = nn.Sequential(\n",
    "            nn.Linear(d_model, 128),\n",
    "            nn.BatchNorm1d(128),\n",
    "            nn.ReLU(),\n",
    "            nn.Dropout(dropout),\n",
    "            nn.Linear(128, 64),\n",
    "            nn.ReLU(),\n",
    "            nn.Dropout(dropout),\n",
    "            nn.Linear(64, 1)\n",
    "        )\n",
    "\n",
    "    def forward(self, x):\n",
    "        x = x.unsqueeze(1)  # (batch_size, seq_len=1, input_dim)\n",
    "        x = self.embedding(x)\n",
    "        x = self.norm(x)\n",
    "\n",
    "        all_attn_weights = []\n",
    "        for layer in self.encoder_layers:\n",
    "            x, attn_weights = layer(x)\n",
    "            all_attn_weights.append(attn_weights)  # store attention maps\n",
    "\n",
    "        x = x.mean(dim=1)\n",
    "        logits = self.classifier(x)\n",
    "        return logits, all_attn_weights  # return both predictions and attention maps\n"
   ]
  }
 ],
 "metadata": {
  "kernelspec": {
   "display_name": "Python 3 (ipykernel)",
   "language": "python",
   "name": "python3"
  },
  "language_info": {
   "codemirror_mode": {
    "name": "ipython",
    "version": 3
   },
   "file_extension": ".py",
   "mimetype": "text/x-python",
   "name": "python",
   "nbconvert_exporter": "python",
   "pygments_lexer": "ipython3",
   "version": "3.13.5"
  }
 },
 "nbformat": 4,
 "nbformat_minor": 5
}
