{
 "cells": [
  {
   "cell_type": "markdown",
   "id": "4a8bf354-2f9c-4c00-8100-9b8921da431f",
   "metadata": {},
   "source": [
    "# Import Libraries"
   ]
  },
  {
   "cell_type": "code",
   "execution_count": 1,
   "id": "6800612c-420a-4a96-b407-0fc1b7e0e91e",
   "metadata": {},
   "outputs": [],
   "source": [
    "import pandas as pd\n",
    "import numpy as np\n",
    "import os\n",
    "import matplotlib.pyplot as plt\n",
    "import seaborn as sns\n",
    "\n",
    "import torch\n",
    "from torch import nn\n",
    "from torch.utils.data import DataLoader, TensorDataset\n",
    "from torchvision import datasets, transforms\n",
    "from typing import Union\n",
    "import random\n",
    "from pathlib import Path"
   ]
  },
  {
   "cell_type": "code",
   "execution_count": 2,
   "id": "017c4cb6-9416-43e1-a28a-0f0c8b33c2b1",
   "metadata": {},
   "outputs": [],
   "source": [
    "from Return_dataloader import pass_dataloader\n",
    "from Transformer_model import TabTransformer\n",
    "from Plot_Accuracies import plot_loss_curves\n",
    "from engine import train"
   ]
  },
  {
   "cell_type": "markdown",
   "id": "baac225a-5130-4aae-bf38-20298c6b53b8",
   "metadata": {},
   "source": [
    "## Device Agnostic"
   ]
  },
  {
   "cell_type": "code",
   "execution_count": 3,
   "id": "3d08af2e-c91c-474e-9d2a-4d9e23910b1d",
   "metadata": {},
   "outputs": [
    {
     "name": "stdout",
     "output_type": "stream",
     "text": [
      "Available device is: cpu\n"
     ]
    }
   ],
   "source": [
    "# Clear Cache\n",
    "torch.cuda.empty_cache()\n",
    "\n",
    "device = torch.device(\"cuda\" if torch.cuda.is_available() else \"cpu\")\n",
    "print(f\"Available device is: {device}\")"
   ]
  },
  {
   "cell_type": "markdown",
   "id": "bebb853e-043f-41db-98f8-21014fb03442",
   "metadata": {},
   "source": [
    "## Dataloader"
   ]
  },
  {
   "cell_type": "code",
   "execution_count": 4,
   "id": "3b3ffb37-9e99-487f-9216-1f7047f2fe26",
   "metadata": {},
   "outputs": [],
   "source": [
    "train_dataloader, test_dataloader = pass_dataloader()"
   ]
  },
  {
   "cell_type": "markdown",
   "id": "9f3a0613-8b91-4eae-adcc-5f7ab33572e2",
   "metadata": {},
   "source": [
    "# Hyperparameter Training"
   ]
  },
  {
   "cell_type": "code",
   "execution_count": 5,
   "id": "82c1b78c-b7b2-414b-b569-2c09ea6cfb4c",
   "metadata": {},
   "outputs": [],
   "source": [
    "from copy import deepcopy\n",
    "\n",
    "def hyperparameter_tuning(param_grid,\n",
    "                          train_dataloader,\n",
    "                          test_dataloader,\n",
    "                          device,\n",
    "                          epochs=50):\n",
    "\n",
    "    best_val_score = -float('inf')\n",
    "    best_params = None\n",
    "    best_results = None\n",
    "\n",
    "    for params in param_grid:\n",
    "        print(f\"Training with d_model={params['d_model']}, nhead={params['nhead']}, \"\n",
    "              f\"num_layers={params['num_layers']}, dropout={params['dropout']}, lr={params['lr']}\")\n",
    "\n",
    "        # Create model with given hyperparameters\n",
    "        model = TabTransformer(input_dim=100,\n",
    "                               d_model=params['d_model'],\n",
    "                               nhead=params['nhead'],\n",
    "                               num_layers=params['num_layers'],\n",
    "                               dropout=params['dropout']).to(device)\n",
    "\n",
    "        loss_fn = nn.BCEWithLogitsLoss()\n",
    "        optimizer = torch.optim.Adam(model.parameters(),\n",
    "                                     lr=params['lr'],\n",
    "                                     weight_decay=1e-4)\n",
    "\n",
    "        # Train model and get results dictionary\n",
    "        results = train(model=model,\n",
    "                        train_dataloader=train_dataloader,\n",
    "                        test_dataloader=test_dataloader,\n",
    "                        optimizer=optimizer,\n",
    "                        loss_fn=loss_fn,\n",
    "                        device=device,\n",
    "                        epochs=epochs)\n",
    "\n",
    "        # Pick best validation score (ROC-AUC here) from all epochs\n",
    "        max_val_roc_auc = max(results['test_roc_auc'])\n",
    "\n",
    "        print(f\"Max val ROC-AUC: {max_val_roc_auc:.4f}\")\n",
    "\n",
    "        if max_val_roc_auc > best_val_score:\n",
    "            best_val_score = max_val_roc_auc\n",
    "            best_params = params\n",
    "            best_results = deepcopy(results)\n",
    "\n",
    "    print(f\"\\nBest params: {best_params}\")\n",
    "    print(f\"Best validation ROC-AUC: {best_val_score:.4f}\")\n",
    "\n",
    "    return best_params, best_results\n"
   ]
  },
  {
   "cell_type": "code",
   "execution_count": 6,
   "id": "f7d61ea7-2050-46e7-9f00-7723df3f3594",
   "metadata": {
    "scrolled": true
   },
   "outputs": [
    {
     "name": "stdout",
     "output_type": "stream",
     "text": [
      "Training with d_model=64, nhead=2, num_layers=2, dropout=0.1, lr=0.001\n"
     ]
    },
    {
     "name": "stderr",
     "output_type": "stream",
     "text": [
      "G:\\M.Sc_Neaz\\08_TCGA_Prostate_Data\\Prostate_Cancer_Challenge\\Python Scripts\\pcvenv\\Lib\\site-packages\\torch\\nn\\modules\\transformer.py:382: UserWarning: enable_nested_tensor is True, but self.use_nested_tensor is False because encoder_layer.norm_first was True\n",
      "  warnings.warn(\n"
     ]
    },
    {
     "data": {
      "application/vnd.jupyter.widget-view+json": {
       "model_id": "4935712488fd496380ffb875be664307",
       "version_major": 2,
       "version_minor": 0
      },
      "text/plain": [
       "  0%|          | 0/10 [00:00<?, ?it/s]"
      ]
     },
     "metadata": {},
     "output_type": "display_data"
    },
    {
     "name": "stdout",
     "output_type": "stream",
     "text": [
      "Epoch: 10 | Train Loss: 0.0311 | Acc: 0.9899 | Prec: 0.9898 | Recall: 0.9884 | F1: 0.9891 | ROC-AUC: 0.9993 || Test Loss: 0.3068 | Acc: 0.9349 | Prec: 0.9769 | Recall: 0.9524 | F1: 0.9645 | ROC-AUC: 0.9320\n",
      "Max val ROC-AUC: 0.9563\n",
      "Training with d_model=64, nhead=2, num_layers=2, dropout=0.1, lr=0.001\n"
     ]
    },
    {
     "data": {
      "application/vnd.jupyter.widget-view+json": {
       "model_id": "ebd507dc67a64fac96468a817c62a837",
       "version_major": 2,
       "version_minor": 0
      },
      "text/plain": [
       "  0%|          | 0/10 [00:00<?, ?it/s]"
      ]
     },
     "metadata": {},
     "output_type": "display_data"
    },
    {
     "name": "stdout",
     "output_type": "stream",
     "text": [
      "Epoch: 10 | Train Loss: 0.0168 | Acc: 0.9963 | Prec: 0.9964 | Recall: 0.9956 | F1: 0.9960 | ROC-AUC: 0.9993 || Test Loss: 0.3794 | Acc: 0.9372 | Prec: 0.9794 | Recall: 0.9524 | F1: 0.9657 | ROC-AUC: 0.9188\n",
      "Max val ROC-AUC: 0.9715\n",
      "Training with d_model=64, nhead=2, num_layers=2, dropout=0.1, lr=0.001\n"
     ]
    },
    {
     "data": {
      "application/vnd.jupyter.widget-view+json": {
       "model_id": "12dfee019b6941499813a026740be3b3",
       "version_major": 2,
       "version_minor": 0
      },
      "text/plain": [
       "  0%|          | 0/10 [00:00<?, ?it/s]"
      ]
     },
     "metadata": {},
     "output_type": "display_data"
    },
    {
     "name": "stdout",
     "output_type": "stream",
     "text": [
      "Epoch: 10 | Train Loss: 0.0168 | Acc: 0.9943 | Prec: 0.9956 | Recall: 0.9920 | F1: 0.9938 | ROC-AUC: 0.9998 || Test Loss: 0.3226 | Acc: 0.9279 | Prec: 0.9718 | Recall: 0.9499 | F1: 0.9607 | ROC-AUC: 0.9425\n",
      "Max val ROC-AUC: 0.9533\n",
      "Training with d_model=64, nhead=2, num_layers=2, dropout=0.1, lr=0.001\n"
     ]
    },
    {
     "data": {
      "application/vnd.jupyter.widget-view+json": {
       "model_id": "44fe4167d4d0466da5a2a6abcdceb583",
       "version_major": 2,
       "version_minor": 0
      },
      "text/plain": [
       "  0%|          | 0/10 [00:00<?, ?it/s]"
      ]
     },
     "metadata": {},
     "output_type": "display_data"
    },
    {
     "name": "stdout",
     "output_type": "stream",
     "text": [
      "Epoch: 10 | Train Loss: 0.0300 | Acc: 0.9919 | Prec: 0.9934 | Recall: 0.9891 | F1: 0.9913 | ROC-AUC: 0.9988 || Test Loss: 0.3569 | Acc: 0.9419 | Prec: 0.9795 | Recall: 0.9574 | F1: 0.9683 | ROC-AUC: 0.9445\n",
      "Max val ROC-AUC: 0.9559\n",
      "Training with d_model=64, nhead=2, num_layers=2, dropout=0.1, lr=0.0001\n"
     ]
    },
    {
     "data": {
      "application/vnd.jupyter.widget-view+json": {
       "model_id": "6394b9a247ba47448c40cdf7ae1526a3",
       "version_major": 2,
       "version_minor": 0
      },
      "text/plain": [
       "  0%|          | 0/10 [00:00<?, ?it/s]"
      ]
     },
     "metadata": {},
     "output_type": "display_data"
    },
    {
     "name": "stdout",
     "output_type": "stream",
     "text": [
      "Epoch: 10 | Train Loss: 0.0312 | Acc: 0.9923 | Prec: 0.9949 | Recall: 0.9884 | F1: 0.9916 | ROC-AUC: 0.9987 || Test Loss: 0.3355 | Acc: 0.9209 | Prec: 0.9765 | Recall: 0.9373 | F1: 0.9565 | ROC-AUC: 0.9142\n",
      "Max val ROC-AUC: 0.9498\n",
      "Training with d_model=64, nhead=2, num_layers=2, dropout=0.1, lr=0.0001\n"
     ]
    },
    {
     "data": {
      "application/vnd.jupyter.widget-view+json": {
       "model_id": "55149063e6184114a872fca5a30183f0",
       "version_major": 2,
       "version_minor": 0
      },
      "text/plain": [
       "  0%|          | 0/10 [00:00<?, ?it/s]"
      ]
     },
     "metadata": {},
     "output_type": "display_data"
    },
    {
     "name": "stdout",
     "output_type": "stream",
     "text": [
      "Epoch: 10 | Train Loss: 0.0276 | Acc: 0.9929 | Prec: 0.9942 | Recall: 0.9906 | F1: 0.9924 | ROC-AUC: 0.9993 || Test Loss: 0.2423 | Acc: 0.9419 | Prec: 0.9845 | Recall: 0.9524 | F1: 0.9682 | ROC-AUC: 0.9436\n",
      "Max val ROC-AUC: 0.9585\n",
      "Training with d_model=64, nhead=2, num_layers=2, dropout=0.1, lr=0.0001\n"
     ]
    },
    {
     "data": {
      "application/vnd.jupyter.widget-view+json": {
       "model_id": "0cc6e2b9af714dbb8da1c1b88c6887a0",
       "version_major": 2,
       "version_minor": 0
      },
      "text/plain": [
       "  0%|          | 0/10 [00:00<?, ?it/s]"
      ]
     },
     "metadata": {},
     "output_type": "display_data"
    },
    {
     "name": "stdout",
     "output_type": "stream",
     "text": [
      "Epoch: 10 | Train Loss: 0.0357 | Acc: 0.9902 | Prec: 0.9905 | Recall: 0.9884 | F1: 0.9895 | ROC-AUC: 0.9991 || Test Loss: 0.2262 | Acc: 0.9395 | Prec: 0.9844 | Recall: 0.9499 | F1: 0.9668 | ROC-AUC: 0.9649\n",
      "Max val ROC-AUC: 0.9649\n",
      "Training with d_model=64, nhead=2, num_layers=2, dropout=0.1, lr=0.0001\n"
     ]
    },
    {
     "data": {
      "application/vnd.jupyter.widget-view+json": {
       "model_id": "24e276022dbf4851b6b838e44b321b56",
       "version_major": 2,
       "version_minor": 0
      },
      "text/plain": [
       "  0%|          | 0/10 [00:00<?, ?it/s]"
      ]
     },
     "metadata": {},
     "output_type": "display_data"
    },
    {
     "name": "stdout",
     "output_type": "stream",
     "text": [
      "Epoch: 10 | Train Loss: 0.0218 | Acc: 0.9949 | Prec: 0.9971 | Recall: 0.9920 | F1: 0.9945 | ROC-AUC: 0.9994 || Test Loss: 0.2362 | Acc: 0.9372 | Prec: 0.9794 | Recall: 0.9524 | F1: 0.9657 | ROC-AUC: 0.9496\n",
      "Max val ROC-AUC: 0.9510\n",
      "Training with d_model=64, nhead=2, num_layers=2, dropout=0.3, lr=0.001\n"
     ]
    },
    {
     "data": {
      "application/vnd.jupyter.widget-view+json": {
       "model_id": "bcb3e097770344e79b41137c7c1b9e89",
       "version_major": 2,
       "version_minor": 0
      },
      "text/plain": [
       "  0%|          | 0/10 [00:00<?, ?it/s]"
      ]
     },
     "metadata": {},
     "output_type": "display_data"
    },
    {
     "name": "stdout",
     "output_type": "stream",
     "text": [
      "Epoch: 10 | Train Loss: 0.0448 | Acc: 0.9882 | Prec: 0.9934 | Recall: 0.9811 | F1: 0.9872 | ROC-AUC: 0.9972 || Test Loss: 0.4506 | Acc: 0.9349 | Prec: 0.9720 | Recall: 0.9574 | F1: 0.9646 | ROC-AUC: 0.8998\n",
      "Max val ROC-AUC: 0.9503\n",
      "Training with d_model=64, nhead=2, num_layers=2, dropout=0.3, lr=0.001\n"
     ]
    },
    {
     "data": {
      "application/vnd.jupyter.widget-view+json": {
       "model_id": "eac6db505dff48edbfbb5a5ce2b64ca6",
       "version_major": 2,
       "version_minor": 0
      },
      "text/plain": [
       "  0%|          | 0/10 [00:00<?, ?it/s]"
      ]
     },
     "metadata": {},
     "output_type": "display_data"
    },
    {
     "name": "stdout",
     "output_type": "stream",
     "text": [
      "Epoch: 10 | Train Loss: 0.0445 | Acc: 0.9892 | Prec: 0.9927 | Recall: 0.9840 | F1: 0.9883 | ROC-AUC: 0.9979 || Test Loss: 0.3500 | Acc: 0.9163 | Prec: 0.9789 | Recall: 0.9298 | F1: 0.9537 | ROC-AUC: 0.9458\n",
      "Max val ROC-AUC: 0.9531\n",
      "Training with d_model=64, nhead=2, num_layers=2, dropout=0.3, lr=0.001\n"
     ]
    },
    {
     "data": {
      "application/vnd.jupyter.widget-view+json": {
       "model_id": "4a051f5bcc8c4693a4c493e2b4a12dda",
       "version_major": 2,
       "version_minor": 0
      },
      "text/plain": [
       "  0%|          | 0/10 [00:00<?, ?it/s]"
      ]
     },
     "metadata": {},
     "output_type": "display_data"
    },
    {
     "name": "stdout",
     "output_type": "stream",
     "text": [
      "Epoch: 10 | Train Loss: 0.0334 | Acc: 0.9892 | Prec: 0.9884 | Recall: 0.9884 | F1: 0.9884 | ROC-AUC: 0.9991 || Test Loss: 0.4569 | Acc: 0.9256 | Prec: 0.9791 | Recall: 0.9398 | F1: 0.9591 | ROC-AUC: 0.9169\n",
      "Max val ROC-AUC: 0.9567\n",
      "Training with d_model=64, nhead=2, num_layers=2, dropout=0.3, lr=0.001\n"
     ]
    },
    {
     "data": {
      "application/vnd.jupyter.widget-view+json": {
       "model_id": "e4a885a3acb340a78db4a2bfd0d67f2f",
       "version_major": 2,
       "version_minor": 0
      },
      "text/plain": [
       "  0%|          | 0/10 [00:00<?, ?it/s]"
      ]
     },
     "metadata": {},
     "output_type": "display_data"
    },
    {
     "name": "stdout",
     "output_type": "stream",
     "text": [
      "Epoch: 10 | Train Loss: 0.0274 | Acc: 0.9902 | Prec: 0.9934 | Recall: 0.9855 | F1: 0.9894 | ROC-AUC: 0.9992 || Test Loss: 0.4240 | Acc: 0.9372 | Prec: 0.9844 | Recall: 0.9474 | F1: 0.9655 | ROC-AUC: 0.9209\n",
      "Max val ROC-AUC: 0.9469\n",
      "Training with d_model=64, nhead=2, num_layers=2, dropout=0.3, lr=0.0001\n"
     ]
    },
    {
     "data": {
      "application/vnd.jupyter.widget-view+json": {
       "model_id": "5e8dfdb7233e4d4d8e11513e04429443",
       "version_major": 2,
       "version_minor": 0
      },
      "text/plain": [
       "  0%|          | 0/10 [00:00<?, ?it/s]"
      ]
     },
     "metadata": {},
     "output_type": "display_data"
    },
    {
     "name": "stdout",
     "output_type": "stream",
     "text": [
      "Epoch: 10 | Train Loss: 0.0806 | Acc: 0.9734 | Prec: 0.9779 | Recall: 0.9644 | F1: 0.9711 | ROC-AUC: 0.9946 || Test Loss: 0.3007 | Acc: 0.9163 | Prec: 0.9866 | Recall: 0.9223 | F1: 0.9534 | ROC-AUC: 0.9371\n",
      "Max val ROC-AUC: 0.9475\n",
      "Training with d_model=64, nhead=2, num_layers=2, dropout=0.3, lr=0.0001\n"
     ]
    },
    {
     "data": {
      "application/vnd.jupyter.widget-view+json": {
       "model_id": "484ab06c476944f2a13720cb6948a7a7",
       "version_major": 2,
       "version_minor": 0
      },
      "text/plain": [
       "  0%|          | 0/10 [00:00<?, ?it/s]"
      ]
     },
     "metadata": {},
     "output_type": "display_data"
    },
    {
     "name": "stdout",
     "output_type": "stream",
     "text": [
      "Epoch: 10 | Train Loss: 0.0650 | Acc: 0.9788 | Prec: 0.9761 | Recall: 0.9782 | F1: 0.9771 | ROC-AUC: 0.9969 || Test Loss: 0.2933 | Acc: 0.9233 | Prec: 0.9841 | Recall: 0.9323 | F1: 0.9575 | ROC-AUC: 0.9288\n",
      "Max val ROC-AUC: 0.9501\n",
      "Training with d_model=64, nhead=2, num_layers=2, dropout=0.3, lr=0.0001\n"
     ]
    },
    {
     "data": {
      "application/vnd.jupyter.widget-view+json": {
       "model_id": "f9a671a575724ff8a317414181a33c98",
       "version_major": 2,
       "version_minor": 0
      },
      "text/plain": [
       "  0%|          | 0/10 [00:00<?, ?it/s]"
      ]
     },
     "metadata": {},
     "output_type": "display_data"
    },
    {
     "name": "stdout",
     "output_type": "stream",
     "text": [
      "Epoch: 10 | Train Loss: 0.0905 | Acc: 0.9704 | Prec: 0.9701 | Recall: 0.9659 | F1: 0.9680 | ROC-AUC: 0.9933 || Test Loss: 0.2862 | Acc: 0.9209 | Prec: 0.9841 | Recall: 0.9298 | F1: 0.9562 | ROC-AUC: 0.9305\n",
      "Max val ROC-AUC: 0.9416\n",
      "Training with d_model=64, nhead=2, num_layers=2, dropout=0.3, lr=0.0001\n"
     ]
    },
    {
     "data": {
      "application/vnd.jupyter.widget-view+json": {
       "model_id": "e2a38ca79b914846a5869bbe835a32a9",
       "version_major": 2,
       "version_minor": 0
      },
      "text/plain": [
       "  0%|          | 0/10 [00:00<?, ?it/s]"
      ]
     },
     "metadata": {},
     "output_type": "display_data"
    },
    {
     "name": "stdout",
     "output_type": "stream",
     "text": [
      "Epoch: 10 | Train Loss: 0.0791 | Acc: 0.9724 | Prec: 0.9772 | Recall: 0.9630 | F1: 0.9700 | ROC-AUC: 0.9959 || Test Loss: 0.3170 | Acc: 0.9093 | Prec: 0.9839 | Recall: 0.9173 | F1: 0.9494 | ROC-AUC: 0.9392\n",
      "Max val ROC-AUC: 0.9618\n",
      "Training with d_model=64, nhead=2, num_layers=4, dropout=0.1, lr=0.001\n"
     ]
    },
    {
     "data": {
      "application/vnd.jupyter.widget-view+json": {
       "model_id": "9f490f95180a44b6b6c64a76990452b4",
       "version_major": 2,
       "version_minor": 0
      },
      "text/plain": [
       "  0%|          | 0/10 [00:00<?, ?it/s]"
      ]
     },
     "metadata": {},
     "output_type": "display_data"
    },
    {
     "name": "stdout",
     "output_type": "stream",
     "text": [
      "Epoch: 10 | Train Loss: 0.0274 | Acc: 0.9912 | Prec: 0.9913 | Recall: 0.9898 | F1: 0.9906 | ROC-AUC: 0.9994 || Test Loss: 0.4652 | Acc: 0.9000 | Prec: 0.9759 | Recall: 0.9148 | F1: 0.9444 | ROC-AUC: 0.9366\n",
      "Max val ROC-AUC: 0.9583\n",
      "Training with d_model=64, nhead=2, num_layers=4, dropout=0.1, lr=0.001\n"
     ]
    },
    {
     "data": {
      "application/vnd.jupyter.widget-view+json": {
       "model_id": "32ae87a91fa44699b9c909de8e5c6e3c",
       "version_major": 2,
       "version_minor": 0
      },
      "text/plain": [
       "  0%|          | 0/10 [00:00<?, ?it/s]"
      ]
     },
     "metadata": {},
     "output_type": "display_data"
    },
    {
     "name": "stdout",
     "output_type": "stream",
     "text": [
      "Epoch: 10 | Train Loss: 0.0312 | Acc: 0.9879 | Prec: 0.9891 | Recall: 0.9847 | F1: 0.9869 | ROC-AUC: 0.9989 || Test Loss: 0.4762 | Acc: 0.9279 | Prec: 0.9742 | Recall: 0.9474 | F1: 0.9606 | ROC-AUC: 0.9341\n",
      "Max val ROC-AUC: 0.9520\n",
      "Training with d_model=64, nhead=2, num_layers=4, dropout=0.1, lr=0.001\n"
     ]
    },
    {
     "data": {
      "application/vnd.jupyter.widget-view+json": {
       "model_id": "704bc1541428421486e240cbed1916d3",
       "version_major": 2,
       "version_minor": 0
      },
      "text/plain": [
       "  0%|          | 0/10 [00:00<?, ?it/s]"
      ]
     },
     "metadata": {},
     "output_type": "display_data"
    },
    {
     "name": "stdout",
     "output_type": "stream",
     "text": [
      "Epoch: 10 | Train Loss: 0.0269 | Acc: 0.9912 | Prec: 0.9927 | Recall: 0.9884 | F1: 0.9905 | ROC-AUC: 0.9994 || Test Loss: 0.3524 | Acc: 0.9302 | Prec: 0.9767 | Recall: 0.9474 | F1: 0.9618 | ROC-AUC: 0.8938\n",
      "Max val ROC-AUC: 0.9484\n",
      "Training with d_model=64, nhead=2, num_layers=4, dropout=0.1, lr=0.001\n"
     ]
    },
    {
     "data": {
      "application/vnd.jupyter.widget-view+json": {
       "model_id": "ba8d3a588607489db88486c273cc54aa",
       "version_major": 2,
       "version_minor": 0
      },
      "text/plain": [
       "  0%|          | 0/10 [00:00<?, ?it/s]"
      ]
     },
     "metadata": {},
     "output_type": "display_data"
    },
    {
     "name": "stdout",
     "output_type": "stream",
     "text": [
      "Epoch: 10 | Train Loss: 0.0448 | Acc: 0.9855 | Prec: 0.9904 | Recall: 0.9782 | F1: 0.9843 | ROC-AUC: 0.9983 || Test Loss: 0.3533 | Acc: 0.9302 | Prec: 0.9767 | Recall: 0.9474 | F1: 0.9618 | ROC-AUC: 0.9333\n",
      "Max val ROC-AUC: 0.9550\n",
      "Training with d_model=64, nhead=2, num_layers=4, dropout=0.1, lr=0.0001\n"
     ]
    },
    {
     "data": {
      "application/vnd.jupyter.widget-view+json": {
       "model_id": "953e55af4ef142eb9cc3a5e2c5380374",
       "version_major": 2,
       "version_minor": 0
      },
      "text/plain": [
       "  0%|          | 0/10 [00:00<?, ?it/s]"
      ]
     },
     "metadata": {},
     "output_type": "display_data"
    },
    {
     "name": "stdout",
     "output_type": "stream",
     "text": [
      "Epoch: 10 | Train Loss: 0.0244 | Acc: 0.9933 | Prec: 0.9949 | Recall: 0.9906 | F1: 0.9927 | ROC-AUC: 0.9994 || Test Loss: 0.2798 | Acc: 0.9326 | Prec: 0.9768 | Recall: 0.9499 | F1: 0.9632 | ROC-AUC: 0.9057\n",
      "Max val ROC-AUC: 0.9398\n",
      "Training with d_model=64, nhead=2, num_layers=4, dropout=0.1, lr=0.0001\n"
     ]
    },
    {
     "data": {
      "application/vnd.jupyter.widget-view+json": {
       "model_id": "93292201a3be49fc9ea87c4428a64cd3",
       "version_major": 2,
       "version_minor": 0
      },
      "text/plain": [
       "  0%|          | 0/10 [00:00<?, ?it/s]"
      ]
     },
     "metadata": {},
     "output_type": "display_data"
    },
    {
     "name": "stdout",
     "output_type": "stream",
     "text": [
      "Epoch: 10 | Train Loss: 0.0235 | Acc: 0.9949 | Prec: 0.9978 | Recall: 0.9913 | F1: 0.9945 | ROC-AUC: 0.9993 || Test Loss: 0.2960 | Acc: 0.9372 | Prec: 0.9769 | Recall: 0.9549 | F1: 0.9658 | ROC-AUC: 0.9313\n",
      "Max val ROC-AUC: 0.9539\n",
      "Training with d_model=64, nhead=2, num_layers=4, dropout=0.1, lr=0.0001\n"
     ]
    },
    {
     "data": {
      "application/vnd.jupyter.widget-view+json": {
       "model_id": "bbf7a9969ad448a0b96104a21cf7c706",
       "version_major": 2,
       "version_minor": 0
      },
      "text/plain": [
       "  0%|          | 0/10 [00:00<?, ?it/s]"
      ]
     },
     "metadata": {},
     "output_type": "display_data"
    },
    {
     "name": "stdout",
     "output_type": "stream",
     "text": [
      "Epoch: 10 | Train Loss: 0.0327 | Acc: 0.9916 | Prec: 0.9927 | Recall: 0.9891 | F1: 0.9909 | ROC-AUC: 0.9982 || Test Loss: 0.3715 | Acc: 0.9186 | Prec: 0.9789 | Recall: 0.9323 | F1: 0.9551 | ROC-AUC: 0.9372\n",
      "Max val ROC-AUC: 0.9617\n",
      "Training with d_model=64, nhead=2, num_layers=4, dropout=0.1, lr=0.0001\n"
     ]
    },
    {
     "data": {
      "application/vnd.jupyter.widget-view+json": {
       "model_id": "c97bf4124f4e41eaa958f5587eedb944",
       "version_major": 2,
       "version_minor": 0
      },
      "text/plain": [
       "  0%|          | 0/10 [00:00<?, ?it/s]"
      ]
     },
     "metadata": {},
     "output_type": "display_data"
    },
    {
     "name": "stdout",
     "output_type": "stream",
     "text": [
      "Epoch: 10 | Train Loss: 0.0348 | Acc: 0.9902 | Prec: 0.9927 | Recall: 0.9862 | F1: 0.9894 | ROC-AUC: 0.9985 || Test Loss: 0.3542 | Acc: 0.9302 | Prec: 0.9743 | Recall: 0.9499 | F1: 0.9619 | ROC-AUC: 0.9140\n",
      "Max val ROC-AUC: 0.9454\n",
      "Training with d_model=64, nhead=2, num_layers=4, dropout=0.3, lr=0.001\n"
     ]
    },
    {
     "data": {
      "application/vnd.jupyter.widget-view+json": {
       "model_id": "2214687a06244f0198709adde5d0a535",
       "version_major": 2,
       "version_minor": 0
      },
      "text/plain": [
       "  0%|          | 0/10 [00:00<?, ?it/s]"
      ]
     },
     "metadata": {},
     "output_type": "display_data"
    },
    {
     "name": "stdout",
     "output_type": "stream",
     "text": [
      "Epoch: 10 | Train Loss: 0.0504 | Acc: 0.9855 | Prec: 0.9876 | Recall: 0.9811 | F1: 0.9843 | ROC-AUC: 0.9972 || Test Loss: 0.4677 | Acc: 0.9070 | Prec: 0.9787 | Recall: 0.9198 | F1: 0.9483 | ROC-AUC: 0.9389\n",
      "Max val ROC-AUC: 0.9425\n",
      "Training with d_model=64, nhead=2, num_layers=4, dropout=0.3, lr=0.001\n"
     ]
    },
    {
     "data": {
      "application/vnd.jupyter.widget-view+json": {
       "model_id": "e16e396bca034c8bae2fdf7c14b9b06d",
       "version_major": 2,
       "version_minor": 0
      },
      "text/plain": [
       "  0%|          | 0/10 [00:00<?, ?it/s]"
      ]
     },
     "metadata": {},
     "output_type": "display_data"
    },
    {
     "name": "stdout",
     "output_type": "stream",
     "text": [
      "Epoch: 10 | Train Loss: 0.0515 | Acc: 0.9828 | Prec: 0.9797 | Recall: 0.9833 | F1: 0.9815 | ROC-AUC: 0.9976 || Test Loss: 0.4192 | Acc: 0.9302 | Prec: 0.9719 | Recall: 0.9524 | F1: 0.9620 | ROC-AUC: 0.9168\n",
      "Max val ROC-AUC: 0.9479\n",
      "Training with d_model=64, nhead=2, num_layers=4, dropout=0.3, lr=0.001\n"
     ]
    },
    {
     "data": {
      "application/vnd.jupyter.widget-view+json": {
       "model_id": "e30a35a7daef417682a9fbfa1b0f3680",
       "version_major": 2,
       "version_minor": 0
      },
      "text/plain": [
       "  0%|          | 0/10 [00:00<?, ?it/s]"
      ]
     },
     "metadata": {},
     "output_type": "display_data"
    },
    {
     "name": "stdout",
     "output_type": "stream",
     "text": [
      "Epoch: 10 | Train Loss: 0.0467 | Acc: 0.9892 | Prec: 0.9934 | Recall: 0.9833 | F1: 0.9883 | ROC-AUC: 0.9974 || Test Loss: 0.3354 | Acc: 0.9256 | Prec: 0.9791 | Recall: 0.9398 | F1: 0.9591 | ROC-AUC: 0.9173\n",
      "Max val ROC-AUC: 0.9470\n",
      "Training with d_model=64, nhead=2, num_layers=4, dropout=0.3, lr=0.001\n"
     ]
    },
    {
     "data": {
      "application/vnd.jupyter.widget-view+json": {
       "model_id": "f913111e15ce48ec8ec83d8635da7e08",
       "version_major": 2,
       "version_minor": 0
      },
      "text/plain": [
       "  0%|          | 0/10 [00:00<?, ?it/s]"
      ]
     },
     "metadata": {},
     "output_type": "display_data"
    },
    {
     "name": "stdout",
     "output_type": "stream",
     "text": [
      "Epoch: 10 | Train Loss: 0.0367 | Acc: 0.9892 | Prec: 0.9956 | Recall: 0.9811 | F1: 0.9883 | ROC-AUC: 0.9987 || Test Loss: 0.4207 | Acc: 0.9023 | Prec: 0.9837 | Recall: 0.9098 | F1: 0.9453 | ROC-AUC: 0.9377\n",
      "Max val ROC-AUC: 0.9528\n",
      "Training with d_model=64, nhead=2, num_layers=4, dropout=0.3, lr=0.0001\n"
     ]
    },
    {
     "data": {
      "application/vnd.jupyter.widget-view+json": {
       "model_id": "659dc16a3ae149aa8fa1798252f03c56",
       "version_major": 2,
       "version_minor": 0
      },
      "text/plain": [
       "  0%|          | 0/10 [00:00<?, ?it/s]"
      ]
     },
     "metadata": {},
     "output_type": "display_data"
    },
    {
     "name": "stdout",
     "output_type": "stream",
     "text": [
      "Epoch: 10 | Train Loss: 0.0684 | Acc: 0.9811 | Prec: 0.9846 | Recall: 0.9746 | F1: 0.9796 | ROC-AUC: 0.9946 || Test Loss: 0.2961 | Acc: 0.9302 | Prec: 0.9843 | Recall: 0.9398 | F1: 0.9615 | ROC-AUC: 0.9111\n",
      "Max val ROC-AUC: 0.9439\n",
      "Training with d_model=64, nhead=2, num_layers=4, dropout=0.3, lr=0.0001\n"
     ]
    },
    {
     "data": {
      "application/vnd.jupyter.widget-view+json": {
       "model_id": "e299a66888d04241834ed29c7105100d",
       "version_major": 2,
       "version_minor": 0
      },
      "text/plain": [
       "  0%|          | 0/10 [00:00<?, ?it/s]"
      ]
     },
     "metadata": {},
     "output_type": "display_data"
    },
    {
     "name": "stdout",
     "output_type": "stream",
     "text": [
      "Epoch: 10 | Train Loss: 0.0687 | Acc: 0.9798 | Prec: 0.9853 | Recall: 0.9710 | F1: 0.9781 | ROC-AUC: 0.9955 || Test Loss: 0.3181 | Acc: 0.9186 | Prec: 0.9815 | Recall: 0.9298 | F1: 0.9550 | ROC-AUC: 0.9149\n",
      "Max val ROC-AUC: 0.9523\n",
      "Training with d_model=64, nhead=2, num_layers=4, dropout=0.3, lr=0.0001\n"
     ]
    },
    {
     "data": {
      "application/vnd.jupyter.widget-view+json": {
       "model_id": "43646a1e75144f43b43d67a1d2e38934",
       "version_major": 2,
       "version_minor": 0
      },
      "text/plain": [
       "  0%|          | 0/10 [00:00<?, ?it/s]"
      ]
     },
     "metadata": {},
     "output_type": "display_data"
    },
    {
     "name": "stdout",
     "output_type": "stream",
     "text": [
      "Epoch: 10 | Train Loss: 0.0738 | Acc: 0.9761 | Prec: 0.9794 | Recall: 0.9688 | F1: 0.9741 | ROC-AUC: 0.9951 || Test Loss: 0.3145 | Acc: 0.9186 | Prec: 0.9840 | Recall: 0.9273 | F1: 0.9548 | ROC-AUC: 0.9187\n",
      "Max val ROC-AUC: 0.9456\n",
      "Training with d_model=64, nhead=2, num_layers=4, dropout=0.3, lr=0.0001\n"
     ]
    },
    {
     "data": {
      "application/vnd.jupyter.widget-view+json": {
       "model_id": "9ad3cf2f68df4cb09c9c324b0be85b52",
       "version_major": 2,
       "version_minor": 0
      },
      "text/plain": [
       "  0%|          | 0/10 [00:00<?, ?it/s]"
      ]
     },
     "metadata": {},
     "output_type": "display_data"
    },
    {
     "name": "stdout",
     "output_type": "stream",
     "text": [
      "Epoch: 10 | Train Loss: 0.0625 | Acc: 0.9801 | Prec: 0.9838 | Recall: 0.9731 | F1: 0.9785 | ROC-AUC: 0.9962 || Test Loss: 0.3231 | Acc: 0.9023 | Prec: 0.9864 | Recall: 0.9073 | F1: 0.9452 | ROC-AUC: 0.9343\n",
      "Max val ROC-AUC: 0.9521\n",
      "Training with d_model=64, nhead=2, num_layers=6, dropout=0.1, lr=0.001\n"
     ]
    },
    {
     "data": {
      "application/vnd.jupyter.widget-view+json": {
       "model_id": "4498a0c922ef433b9bd874898590b094",
       "version_major": 2,
       "version_minor": 0
      },
      "text/plain": [
       "  0%|          | 0/10 [00:00<?, ?it/s]"
      ]
     },
     "metadata": {},
     "output_type": "display_data"
    },
    {
     "name": "stdout",
     "output_type": "stream",
     "text": [
      "Epoch: 10 | Train Loss: 0.0431 | Acc: 0.9885 | Prec: 0.9877 | Recall: 0.9877 | F1: 0.9877 | ROC-AUC: 0.9973 || Test Loss: 0.3835 | Acc: 0.9163 | Prec: 0.9840 | Recall: 0.9248 | F1: 0.9535 | ROC-AUC: 0.9486\n",
      "Max val ROC-AUC: 0.9515\n",
      "Training with d_model=64, nhead=2, num_layers=6, dropout=0.1, lr=0.001\n"
     ]
    },
    {
     "data": {
      "application/vnd.jupyter.widget-view+json": {
       "model_id": "853705552b7e4d4b86d2368acf4f8577",
       "version_major": 2,
       "version_minor": 0
      },
      "text/plain": [
       "  0%|          | 0/10 [00:00<?, ?it/s]"
      ]
     },
     "metadata": {},
     "output_type": "display_data"
    },
    {
     "name": "stdout",
     "output_type": "stream",
     "text": [
      "Epoch: 10 | Train Loss: 0.0408 | Acc: 0.9882 | Prec: 0.9912 | Recall: 0.9833 | F1: 0.9872 | ROC-AUC: 0.9982 || Test Loss: 0.3718 | Acc: 0.9233 | Prec: 0.9791 | Recall: 0.9373 | F1: 0.9577 | ROC-AUC: 0.9386\n",
      "Max val ROC-AUC: 0.9671\n",
      "Training with d_model=64, nhead=2, num_layers=6, dropout=0.1, lr=0.001\n"
     ]
    },
    {
     "data": {
      "application/vnd.jupyter.widget-view+json": {
       "model_id": "4adfde7cf60343faa4526c856ad379fa",
       "version_major": 2,
       "version_minor": 0
      },
      "text/plain": [
       "  0%|          | 0/10 [00:00<?, ?it/s]"
      ]
     },
     "metadata": {},
     "output_type": "display_data"
    },
    {
     "name": "stdout",
     "output_type": "stream",
     "text": [
      "Epoch: 10 | Train Loss: 0.0215 | Acc: 0.9936 | Prec: 0.9956 | Recall: 0.9906 | F1: 0.9931 | ROC-AUC: 0.9997 || Test Loss: 0.3266 | Acc: 0.8814 | Prec: 0.9807 | Recall: 0.8897 | F1: 0.9330 | ROC-AUC: 0.9014\n",
      "Max val ROC-AUC: 0.9394\n",
      "Training with d_model=64, nhead=2, num_layers=6, dropout=0.1, lr=0.001\n"
     ]
    },
    {
     "data": {
      "application/vnd.jupyter.widget-view+json": {
       "model_id": "0584cd8a74964c0baec485edac9a6f2c",
       "version_major": 2,
       "version_minor": 0
      },
      "text/plain": [
       "  0%|          | 0/10 [00:00<?, ?it/s]"
      ]
     },
     "metadata": {},
     "output_type": "display_data"
    },
    {
     "name": "stdout",
     "output_type": "stream",
     "text": [
      "Epoch: 10 | Train Loss: 0.0120 | Acc: 0.9970 | Prec: 0.9971 | Recall: 0.9964 | F1: 0.9967 | ROC-AUC: 0.9999 || Test Loss: 0.3364 | Acc: 0.9326 | Prec: 0.9768 | Recall: 0.9499 | F1: 0.9632 | ROC-AUC: 0.9587\n",
      "Max val ROC-AUC: 0.9588\n",
      "Training with d_model=64, nhead=2, num_layers=6, dropout=0.1, lr=0.0001\n"
     ]
    },
    {
     "data": {
      "application/vnd.jupyter.widget-view+json": {
       "model_id": "26f5a056085e42ee97a3a76880b56c83",
       "version_major": 2,
       "version_minor": 0
      },
      "text/plain": [
       "  0%|          | 0/10 [00:00<?, ?it/s]"
      ]
     },
     "metadata": {},
     "output_type": "display_data"
    },
    {
     "name": "stdout",
     "output_type": "stream",
     "text": [
      "Epoch: 10 | Train Loss: 0.0333 | Acc: 0.9892 | Prec: 0.9884 | Recall: 0.9884 | F1: 0.9884 | ROC-AUC: 0.9988 || Test Loss: 0.2579 | Acc: 0.9465 | Prec: 0.9870 | Recall: 0.9549 | F1: 0.9707 | ROC-AUC: 0.9624\n",
      "Max val ROC-AUC: 0.9687\n",
      "Training with d_model=64, nhead=2, num_layers=6, dropout=0.1, lr=0.0001\n"
     ]
    },
    {
     "data": {
      "application/vnd.jupyter.widget-view+json": {
       "model_id": "c683be2340744185938f82e1ed969bf8",
       "version_major": 2,
       "version_minor": 0
      },
      "text/plain": [
       "  0%|          | 0/10 [00:00<?, ?it/s]"
      ]
     },
     "metadata": {},
     "output_type": "display_data"
    },
    {
     "name": "stdout",
     "output_type": "stream",
     "text": [
      "Epoch: 10 | Train Loss: 0.0246 | Acc: 0.9929 | Prec: 0.9934 | Recall: 0.9913 | F1: 0.9924 | ROC-AUC: 0.9992 || Test Loss: 0.3161 | Acc: 0.9209 | Prec: 0.9841 | Recall: 0.9298 | F1: 0.9562 | ROC-AUC: 0.9390\n",
      "Max val ROC-AUC: 0.9468\n",
      "Training with d_model=64, nhead=2, num_layers=6, dropout=0.1, lr=0.0001\n"
     ]
    },
    {
     "data": {
      "application/vnd.jupyter.widget-view+json": {
       "model_id": "29ef9f57e4744135b7772d59c558e85e",
       "version_major": 2,
       "version_minor": 0
      },
      "text/plain": [
       "  0%|          | 0/10 [00:00<?, ?it/s]"
      ]
     },
     "metadata": {},
     "output_type": "display_data"
    },
    {
     "name": "stdout",
     "output_type": "stream",
     "text": [
      "Epoch: 10 | Train Loss: 0.0173 | Acc: 0.9949 | Prec: 0.9956 | Recall: 0.9935 | F1: 0.9945 | ROC-AUC: 0.9999 || Test Loss: 0.3638 | Acc: 0.9279 | Prec: 0.9767 | Recall: 0.9449 | F1: 0.9605 | ROC-AUC: 0.9236\n",
      "Max val ROC-AUC: 0.9500\n",
      "Training with d_model=64, nhead=2, num_layers=6, dropout=0.1, lr=0.0001\n"
     ]
    },
    {
     "data": {
      "application/vnd.jupyter.widget-view+json": {
       "model_id": "1be15b00e31d4fa0aae0edf595acc1db",
       "version_major": 2,
       "version_minor": 0
      },
      "text/plain": [
       "  0%|          | 0/10 [00:00<?, ?it/s]"
      ]
     },
     "metadata": {},
     "output_type": "display_data"
    },
    {
     "name": "stdout",
     "output_type": "stream",
     "text": [
      "Epoch: 10 | Train Loss: 0.0228 | Acc: 0.9929 | Prec: 0.9934 | Recall: 0.9913 | F1: 0.9924 | ROC-AUC: 0.9993 || Test Loss: 0.2536 | Acc: 0.9442 | Prec: 0.9820 | Recall: 0.9574 | F1: 0.9695 | ROC-AUC: 0.9067\n",
      "Max val ROC-AUC: 0.9610\n",
      "Training with d_model=64, nhead=2, num_layers=6, dropout=0.3, lr=0.001\n"
     ]
    },
    {
     "data": {
      "application/vnd.jupyter.widget-view+json": {
       "model_id": "50570763704b44a8a5a1c272790d8faf",
       "version_major": 2,
       "version_minor": 0
      },
      "text/plain": [
       "  0%|          | 0/10 [00:00<?, ?it/s]"
      ]
     },
     "metadata": {},
     "output_type": "display_data"
    },
    {
     "name": "stdout",
     "output_type": "stream",
     "text": [
      "Epoch: 10 | Train Loss: 0.0301 | Acc: 0.9926 | Prec: 0.9949 | Recall: 0.9891 | F1: 0.9920 | ROC-AUC: 0.9989 || Test Loss: 0.5762 | Acc: 0.9209 | Prec: 0.9740 | Recall: 0.9398 | F1: 0.9566 | ROC-AUC: 0.9195\n",
      "Max val ROC-AUC: 0.9552\n",
      "Training with d_model=64, nhead=2, num_layers=6, dropout=0.3, lr=0.001\n"
     ]
    },
    {
     "data": {
      "application/vnd.jupyter.widget-view+json": {
       "model_id": "e3fbf5bbc3c34b8398f0960623b2c06b",
       "version_major": 2,
       "version_minor": 0
      },
      "text/plain": [
       "  0%|          | 0/10 [00:00<?, ?it/s]"
      ]
     },
     "metadata": {},
     "output_type": "display_data"
    },
    {
     "name": "stdout",
     "output_type": "stream",
     "text": [
      "Epoch: 10 | Train Loss: 0.0430 | Acc: 0.9885 | Prec: 0.9891 | Recall: 0.9862 | F1: 0.9876 | ROC-AUC: 0.9976 || Test Loss: 0.3863 | Acc: 0.9256 | Prec: 0.9842 | Recall: 0.9348 | F1: 0.9589 | ROC-AUC: 0.9235\n",
      "Max val ROC-AUC: 0.9625\n",
      "Training with d_model=64, nhead=2, num_layers=6, dropout=0.3, lr=0.001\n"
     ]
    },
    {
     "data": {
      "application/vnd.jupyter.widget-view+json": {
       "model_id": "609c6dc1890f4861b3044ca6d506d830",
       "version_major": 2,
       "version_minor": 0
      },
      "text/plain": [
       "  0%|          | 0/10 [00:00<?, ?it/s]"
      ]
     },
     "metadata": {},
     "output_type": "display_data"
    },
    {
     "name": "stdout",
     "output_type": "stream",
     "text": [
      "Epoch: 10 | Train Loss: 0.0390 | Acc: 0.9902 | Prec: 0.9963 | Recall: 0.9826 | F1: 0.9894 | ROC-AUC: 0.9977 || Test Loss: 0.4673 | Acc: 0.9209 | Prec: 0.9790 | Recall: 0.9348 | F1: 0.9564 | ROC-AUC: 0.9216\n",
      "Max val ROC-AUC: 0.9478\n",
      "Training with d_model=64, nhead=2, num_layers=6, dropout=0.3, lr=0.001\n"
     ]
    },
    {
     "data": {
      "application/vnd.jupyter.widget-view+json": {
       "model_id": "f3c86d2897d84dfb904a577e82d3fddf",
       "version_major": 2,
       "version_minor": 0
      },
      "text/plain": [
       "  0%|          | 0/10 [00:00<?, ?it/s]"
      ]
     },
     "metadata": {},
     "output_type": "display_data"
    },
    {
     "name": "stdout",
     "output_type": "stream",
     "text": [
      "Epoch: 10 | Train Loss: 0.0401 | Acc: 0.9889 | Prec: 0.9905 | Recall: 0.9855 | F1: 0.9880 | ROC-AUC: 0.9978 || Test Loss: 0.4250 | Acc: 0.9256 | Prec: 0.9766 | Recall: 0.9424 | F1: 0.9592 | ROC-AUC: 0.9193\n",
      "Max val ROC-AUC: 0.9413\n",
      "Training with d_model=64, nhead=2, num_layers=6, dropout=0.3, lr=0.0001\n"
     ]
    },
    {
     "data": {
      "application/vnd.jupyter.widget-view+json": {
       "model_id": "ceb5f3dcf0344de1996046eaf80728a2",
       "version_major": 2,
       "version_minor": 0
      },
      "text/plain": [
       "  0%|          | 0/10 [00:00<?, ?it/s]"
      ]
     },
     "metadata": {},
     "output_type": "display_data"
    },
    {
     "name": "stdout",
     "output_type": "stream",
     "text": [
      "Epoch: 10 | Train Loss: 0.0652 | Acc: 0.9798 | Prec: 0.9845 | Recall: 0.9717 | F1: 0.9781 | ROC-AUC: 0.9962 || Test Loss: 0.3349 | Acc: 0.9256 | Prec: 0.9816 | Recall: 0.9373 | F1: 0.9590 | ROC-AUC: 0.9107\n",
      "Max val ROC-AUC: 0.9552\n",
      "Training with d_model=64, nhead=2, num_layers=6, dropout=0.3, lr=0.0001\n"
     ]
    },
    {
     "data": {
      "application/vnd.jupyter.widget-view+json": {
       "model_id": "71fd1a306a03495995841e40c69787f0",
       "version_major": 2,
       "version_minor": 0
      },
      "text/plain": [
       "  0%|          | 0/10 [00:00<?, ?it/s]"
      ]
     },
     "metadata": {},
     "output_type": "display_data"
    },
    {
     "name": "stdout",
     "output_type": "stream",
     "text": [
      "Epoch: 10 | Train Loss: 0.0750 | Acc: 0.9811 | Prec: 0.9889 | Recall: 0.9702 | F1: 0.9795 | ROC-AUC: 0.9937 || Test Loss: 0.3071 | Acc: 0.9256 | Prec: 0.9867 | Recall: 0.9323 | F1: 0.9588 | ROC-AUC: 0.9369\n",
      "Max val ROC-AUC: 0.9663\n",
      "Training with d_model=64, nhead=2, num_layers=6, dropout=0.3, lr=0.0001\n"
     ]
    },
    {
     "data": {
      "application/vnd.jupyter.widget-view+json": {
       "model_id": "10acd23ccea64efabe34f88e67bb41d7",
       "version_major": 2,
       "version_minor": 0
      },
      "text/plain": [
       "  0%|          | 0/10 [00:00<?, ?it/s]"
      ]
     },
     "metadata": {},
     "output_type": "display_data"
    },
    {
     "name": "stdout",
     "output_type": "stream",
     "text": [
      "Epoch: 10 | Train Loss: 0.0598 | Acc: 0.9825 | Prec: 0.9861 | Recall: 0.9760 | F1: 0.9810 | ROC-AUC: 0.9971 || Test Loss: 0.3553 | Acc: 0.9186 | Prec: 0.9815 | Recall: 0.9298 | F1: 0.9550 | ROC-AUC: 0.9125\n",
      "Max val ROC-AUC: 0.9456\n",
      "Training with d_model=64, nhead=2, num_layers=6, dropout=0.3, lr=0.0001\n"
     ]
    },
    {
     "data": {
      "application/vnd.jupyter.widget-view+json": {
       "model_id": "aafc0d7f4fba4453b563352ebc8a1048",
       "version_major": 2,
       "version_minor": 0
      },
      "text/plain": [
       "  0%|          | 0/10 [00:00<?, ?it/s]"
      ]
     },
     "metadata": {},
     "output_type": "display_data"
    },
    {
     "name": "stdout",
     "output_type": "stream",
     "text": [
      "Epoch: 10 | Train Loss: 0.0622 | Acc: 0.9791 | Prec: 0.9817 | Recall: 0.9731 | F1: 0.9774 | ROC-AUC: 0.9967 || Test Loss: 0.3522 | Acc: 0.9209 | Prec: 0.9790 | Recall: 0.9348 | F1: 0.9564 | ROC-AUC: 0.9238\n",
      "Max val ROC-AUC: 0.9550\n",
      "Training with d_model=64, nhead=4, num_layers=2, dropout=0.1, lr=0.001\n"
     ]
    },
    {
     "data": {
      "application/vnd.jupyter.widget-view+json": {
       "model_id": "4c0f6f309d134d85a4d20fd8ce6da6f9",
       "version_major": 2,
       "version_minor": 0
      },
      "text/plain": [
       "  0%|          | 0/10 [00:00<?, ?it/s]"
      ]
     },
     "metadata": {},
     "output_type": "display_data"
    },
    {
     "name": "stdout",
     "output_type": "stream",
     "text": [
      "Epoch: 10 | Train Loss: 0.0345 | Acc: 0.9916 | Prec: 0.9942 | Recall: 0.9877 | F1: 0.9909 | ROC-AUC: 0.9988 || Test Loss: 0.2325 | Acc: 0.9326 | Prec: 0.9818 | Recall: 0.9449 | F1: 0.9630 | ROC-AUC: 0.9365\n",
      "Max val ROC-AUC: 0.9532\n",
      "Training with d_model=64, nhead=4, num_layers=2, dropout=0.1, lr=0.001\n"
     ]
    },
    {
     "data": {
      "application/vnd.jupyter.widget-view+json": {
       "model_id": "a49f0207236040da9a8b5ec39224ab66",
       "version_major": 2,
       "version_minor": 0
      },
      "text/plain": [
       "  0%|          | 0/10 [00:00<?, ?it/s]"
      ]
     },
     "metadata": {},
     "output_type": "display_data"
    },
    {
     "name": "stdout",
     "output_type": "stream",
     "text": [
      "Epoch: 10 | Train Loss: 0.0264 | Acc: 0.9943 | Prec: 0.9935 | Recall: 0.9942 | F1: 0.9938 | ROC-AUC: 0.9990 || Test Loss: 0.4738 | Acc: 0.9372 | Prec: 0.9769 | Recall: 0.9549 | F1: 0.9658 | ROC-AUC: 0.9162\n",
      "Max val ROC-AUC: 0.9475\n",
      "Training with d_model=64, nhead=4, num_layers=2, dropout=0.1, lr=0.001\n"
     ]
    },
    {
     "data": {
      "application/vnd.jupyter.widget-view+json": {
       "model_id": "e4ef505bda32410bb49ceebfc2410270",
       "version_major": 2,
       "version_minor": 0
      },
      "text/plain": [
       "  0%|          | 0/10 [00:00<?, ?it/s]"
      ]
     },
     "metadata": {},
     "output_type": "display_data"
    },
    {
     "name": "stdout",
     "output_type": "stream",
     "text": [
      "Epoch: 10 | Train Loss: 0.0339 | Acc: 0.9899 | Prec: 0.9927 | Recall: 0.9855 | F1: 0.9891 | ROC-AUC: 0.9986 || Test Loss: 0.3318 | Acc: 0.9372 | Prec: 0.9794 | Recall: 0.9524 | F1: 0.9657 | ROC-AUC: 0.9235\n",
      "Max val ROC-AUC: 0.9572\n",
      "Training with d_model=64, nhead=4, num_layers=2, dropout=0.1, lr=0.001\n"
     ]
    },
    {
     "data": {
      "application/vnd.jupyter.widget-view+json": {
       "model_id": "f764c4678c32485bb5627bc90ca5f1de",
       "version_major": 2,
       "version_minor": 0
      },
      "text/plain": [
       "  0%|          | 0/10 [00:00<?, ?it/s]"
      ]
     },
     "metadata": {},
     "output_type": "display_data"
    },
    {
     "name": "stdout",
     "output_type": "stream",
     "text": [
      "Epoch: 10 | Train Loss: 0.0115 | Acc: 0.9993 | Prec: 0.9993 | Recall: 0.9993 | F1: 0.9993 | ROC-AUC: 0.9995 || Test Loss: 0.4184 | Acc: 0.9372 | Prec: 0.9769 | Recall: 0.9549 | F1: 0.9658 | ROC-AUC: 0.9453\n",
      "Max val ROC-AUC: 0.9646\n",
      "Training with d_model=64, nhead=4, num_layers=2, dropout=0.1, lr=0.0001\n"
     ]
    },
    {
     "data": {
      "application/vnd.jupyter.widget-view+json": {
       "model_id": "30d3e14749594f068cbc147fedfe308e",
       "version_major": 2,
       "version_minor": 0
      },
      "text/plain": [
       "  0%|          | 0/10 [00:00<?, ?it/s]"
      ]
     },
     "metadata": {},
     "output_type": "display_data"
    },
    {
     "name": "stdout",
     "output_type": "stream",
     "text": [
      "Epoch: 10 | Train Loss: 0.0319 | Acc: 0.9906 | Prec: 0.9913 | Recall: 0.9884 | F1: 0.9898 | ROC-AUC: 0.9991 || Test Loss: 0.2923 | Acc: 0.9256 | Prec: 0.9791 | Recall: 0.9398 | F1: 0.9591 | ROC-AUC: 0.9289\n",
      "Max val ROC-AUC: 0.9594\n",
      "Training with d_model=64, nhead=4, num_layers=2, dropout=0.1, lr=0.0001\n"
     ]
    },
    {
     "data": {
      "application/vnd.jupyter.widget-view+json": {
       "model_id": "9d5cc744a37c420086fdf61569ff78f6",
       "version_major": 2,
       "version_minor": 0
      },
      "text/plain": [
       "  0%|          | 0/10 [00:00<?, ?it/s]"
      ]
     },
     "metadata": {},
     "output_type": "display_data"
    },
    {
     "name": "stdout",
     "output_type": "stream",
     "text": [
      "Epoch: 10 | Train Loss: 0.0308 | Acc: 0.9916 | Prec: 0.9906 | Recall: 0.9913 | F1: 0.9909 | ROC-AUC: 0.9994 || Test Loss: 0.2720 | Acc: 0.9326 | Prec: 0.9843 | Recall: 0.9424 | F1: 0.9629 | ROC-AUC: 0.9445\n",
      "Max val ROC-AUC: 0.9544\n",
      "Training with d_model=64, nhead=4, num_layers=2, dropout=0.1, lr=0.0001\n"
     ]
    },
    {
     "data": {
      "application/vnd.jupyter.widget-view+json": {
       "model_id": "5fa3a3654c6c4f8b9dc817cf7515750e",
       "version_major": 2,
       "version_minor": 0
      },
      "text/plain": [
       "  0%|          | 0/10 [00:00<?, ?it/s]"
      ]
     },
     "metadata": {},
     "output_type": "display_data"
    },
    {
     "name": "stdout",
     "output_type": "stream",
     "text": [
      "Epoch: 10 | Train Loss: 0.0348 | Acc: 0.9892 | Prec: 0.9877 | Recall: 0.9891 | F1: 0.9884 | ROC-AUC: 0.9990 || Test Loss: 0.2849 | Acc: 0.9395 | Prec: 0.9819 | Recall: 0.9524 | F1: 0.9669 | ROC-AUC: 0.9476\n",
      "Max val ROC-AUC: 0.9615\n",
      "Training with d_model=64, nhead=4, num_layers=2, dropout=0.1, lr=0.0001\n"
     ]
    },
    {
     "data": {
      "application/vnd.jupyter.widget-view+json": {
       "model_id": "9d32b4c07aaa46a1be2be156a3489313",
       "version_major": 2,
       "version_minor": 0
      },
      "text/plain": [
       "  0%|          | 0/10 [00:00<?, ?it/s]"
      ]
     },
     "metadata": {},
     "output_type": "display_data"
    },
    {
     "name": "stdout",
     "output_type": "stream",
     "text": [
      "Epoch: 10 | Train Loss: 0.0242 | Acc: 0.9929 | Prec: 0.9927 | Recall: 0.9920 | F1: 0.9924 | ROC-AUC: 0.9996 || Test Loss: 0.2731 | Acc: 0.9372 | Prec: 0.9769 | Recall: 0.9549 | F1: 0.9658 | ROC-AUC: 0.9521\n",
      "Max val ROC-AUC: 0.9521\n",
      "Training with d_model=64, nhead=4, num_layers=2, dropout=0.3, lr=0.001\n"
     ]
    },
    {
     "data": {
      "application/vnd.jupyter.widget-view+json": {
       "model_id": "5f7ff4271103481a9cb4999ddbada22e",
       "version_major": 2,
       "version_minor": 0
      },
      "text/plain": [
       "  0%|          | 0/10 [00:00<?, ?it/s]"
      ]
     },
     "metadata": {},
     "output_type": "display_data"
    },
    {
     "name": "stdout",
     "output_type": "stream",
     "text": [
      "Epoch: 10 | Train Loss: 0.0245 | Acc: 0.9912 | Prec: 0.9963 | Recall: 0.9847 | F1: 0.9905 | ROC-AUC: 0.9996 || Test Loss: 0.4600 | Acc: 0.9093 | Prec: 0.9787 | Recall: 0.9223 | F1: 0.9497 | ROC-AUC: 0.9175\n",
      "Max val ROC-AUC: 0.9569\n",
      "Training with d_model=64, nhead=4, num_layers=2, dropout=0.3, lr=0.001\n"
     ]
    },
    {
     "data": {
      "application/vnd.jupyter.widget-view+json": {
       "model_id": "5d0c10b1346f4fa19e063a60693fae16",
       "version_major": 2,
       "version_minor": 0
      },
      "text/plain": [
       "  0%|          | 0/10 [00:00<?, ?it/s]"
      ]
     },
     "metadata": {},
     "output_type": "display_data"
    },
    {
     "name": "stdout",
     "output_type": "stream",
     "text": [
      "Epoch: 10 | Train Loss: 0.0328 | Acc: 0.9912 | Prec: 0.9956 | Recall: 0.9855 | F1: 0.9905 | ROC-AUC: 0.9989 || Test Loss: 0.6615 | Acc: 0.9000 | Prec: 0.9785 | Recall: 0.9123 | F1: 0.9442 | ROC-AUC: 0.9034\n",
      "Max val ROC-AUC: 0.9507\n",
      "Training with d_model=64, nhead=4, num_layers=2, dropout=0.3, lr=0.001\n"
     ]
    },
    {
     "data": {
      "application/vnd.jupyter.widget-view+json": {
       "model_id": "114b95324fbb41a6bb5f39145cbb6448",
       "version_major": 2,
       "version_minor": 0
      },
      "text/plain": [
       "  0%|          | 0/10 [00:00<?, ?it/s]"
      ]
     },
     "metadata": {},
     "output_type": "display_data"
    },
    {
     "name": "stdout",
     "output_type": "stream",
     "text": [
      "Epoch: 10 | Train Loss: 0.0406 | Acc: 0.9899 | Prec: 0.9884 | Recall: 0.9898 | F1: 0.9891 | ROC-AUC: 0.9981 || Test Loss: 0.4017 | Acc: 0.9279 | Prec: 0.9767 | Recall: 0.9449 | F1: 0.9605 | ROC-AUC: 0.9305\n",
      "Max val ROC-AUC: 0.9542\n",
      "Training with d_model=64, nhead=4, num_layers=2, dropout=0.3, lr=0.001\n"
     ]
    },
    {
     "data": {
      "application/vnd.jupyter.widget-view+json": {
       "model_id": "5aef4974cb2646f89ec7bf92c89b610a",
       "version_major": 2,
       "version_minor": 0
      },
      "text/plain": [
       "  0%|          | 0/10 [00:00<?, ?it/s]"
      ]
     },
     "metadata": {},
     "output_type": "display_data"
    },
    {
     "name": "stdout",
     "output_type": "stream",
     "text": [
      "Epoch: 10 | Train Loss: 0.0278 | Acc: 0.9919 | Prec: 0.9934 | Recall: 0.9891 | F1: 0.9913 | ROC-AUC: 0.9993 || Test Loss: 0.4765 | Acc: 0.9442 | Prec: 0.9771 | Recall: 0.9624 | F1: 0.9697 | ROC-AUC: 0.9207\n",
      "Max val ROC-AUC: 0.9584\n",
      "Training with d_model=64, nhead=4, num_layers=2, dropout=0.3, lr=0.0001\n"
     ]
    },
    {
     "data": {
      "application/vnd.jupyter.widget-view+json": {
       "model_id": "3df9ad3447e3401db577f46e8fad440b",
       "version_major": 2,
       "version_minor": 0
      },
      "text/plain": [
       "  0%|          | 0/10 [00:00<?, ?it/s]"
      ]
     },
     "metadata": {},
     "output_type": "display_data"
    },
    {
     "name": "stdout",
     "output_type": "stream",
     "text": [
      "Epoch: 10 | Train Loss: 0.0813 | Acc: 0.9724 | Prec: 0.9765 | Recall: 0.9637 | F1: 0.9700 | ROC-AUC: 0.9952 || Test Loss: 0.2487 | Acc: 0.9279 | Prec: 0.9842 | Recall: 0.9373 | F1: 0.9602 | ROC-AUC: 0.9410\n",
      "Max val ROC-AUC: 0.9719\n",
      "Training with d_model=64, nhead=4, num_layers=2, dropout=0.3, lr=0.0001\n"
     ]
    },
    {
     "data": {
      "application/vnd.jupyter.widget-view+json": {
       "model_id": "c1753c2a469242d398bc4d3e69dd7e17",
       "version_major": 2,
       "version_minor": 0
      },
      "text/plain": [
       "  0%|          | 0/10 [00:00<?, ?it/s]"
      ]
     },
     "metadata": {},
     "output_type": "display_data"
    },
    {
     "name": "stdout",
     "output_type": "stream",
     "text": [
      "Epoch: 10 | Train Loss: 0.0713 | Acc: 0.9761 | Prec: 0.9801 | Recall: 0.9680 | F1: 0.9741 | ROC-AUC: 0.9964 || Test Loss: 0.3068 | Acc: 0.8953 | Prec: 0.9836 | Recall: 0.9023 | F1: 0.9412 | ROC-AUC: 0.9378\n",
      "Max val ROC-AUC: 0.9591\n",
      "Training with d_model=64, nhead=4, num_layers=2, dropout=0.3, lr=0.0001\n"
     ]
    },
    {
     "data": {
      "application/vnd.jupyter.widget-view+json": {
       "model_id": "071f6ad288304c46bccd13b3701b595e",
       "version_major": 2,
       "version_minor": 0
      },
      "text/plain": [
       "  0%|          | 0/10 [00:00<?, ?it/s]"
      ]
     },
     "metadata": {},
     "output_type": "display_data"
    },
    {
     "name": "stdout",
     "output_type": "stream",
     "text": [
      "Epoch: 10 | Train Loss: 0.0858 | Acc: 0.9734 | Prec: 0.9758 | Recall: 0.9666 | F1: 0.9712 | ROC-AUC: 0.9936 || Test Loss: 0.2764 | Acc: 0.9209 | Prec: 0.9867 | Recall: 0.9273 | F1: 0.9561 | ROC-AUC: 0.9394\n",
      "Max val ROC-AUC: 0.9581\n",
      "Training with d_model=64, nhead=4, num_layers=2, dropout=0.3, lr=0.0001\n"
     ]
    },
    {
     "data": {
      "application/vnd.jupyter.widget-view+json": {
       "model_id": "09f177345ca1433891c51218b8a5315a",
       "version_major": 2,
       "version_minor": 0
      },
      "text/plain": [
       "  0%|          | 0/10 [00:00<?, ?it/s]"
      ]
     },
     "metadata": {},
     "output_type": "display_data"
    },
    {
     "name": "stdout",
     "output_type": "stream",
     "text": [
      "Epoch: 10 | Train Loss: 0.0657 | Acc: 0.9805 | Prec: 0.9860 | Recall: 0.9717 | F1: 0.9788 | ROC-AUC: 0.9964 || Test Loss: 0.3075 | Acc: 0.9093 | Prec: 0.9813 | Recall: 0.9198 | F1: 0.9495 | ROC-AUC: 0.9406\n",
      "Max val ROC-AUC: 0.9610\n",
      "Training with d_model=64, nhead=4, num_layers=4, dropout=0.1, lr=0.001\n"
     ]
    },
    {
     "data": {
      "application/vnd.jupyter.widget-view+json": {
       "model_id": "b6278309014746b29786ddced86035c0",
       "version_major": 2,
       "version_minor": 0
      },
      "text/plain": [
       "  0%|          | 0/10 [00:00<?, ?it/s]"
      ]
     },
     "metadata": {},
     "output_type": "display_data"
    },
    {
     "name": "stdout",
     "output_type": "stream",
     "text": [
      "Epoch: 10 | Train Loss: 0.0140 | Acc: 0.9956 | Prec: 0.9964 | Recall: 0.9942 | F1: 0.9953 | ROC-AUC: 0.9999 || Test Loss: 0.4644 | Acc: 0.9419 | Prec: 0.9746 | Recall: 0.9624 | F1: 0.9685 | ROC-AUC: 0.9086\n",
      "Max val ROC-AUC: 0.9432\n",
      "Training with d_model=64, nhead=4, num_layers=4, dropout=0.1, lr=0.001\n"
     ]
    },
    {
     "data": {
      "application/vnd.jupyter.widget-view+json": {
       "model_id": "ebbcdb4b87d148d3b6d4f48117531bcf",
       "version_major": 2,
       "version_minor": 0
      },
      "text/plain": [
       "  0%|          | 0/10 [00:00<?, ?it/s]"
      ]
     },
     "metadata": {},
     "output_type": "display_data"
    },
    {
     "name": "stdout",
     "output_type": "stream",
     "text": [
      "Epoch: 10 | Train Loss: 0.0217 | Acc: 0.9939 | Prec: 0.9949 | Recall: 0.9920 | F1: 0.9935 | ROC-AUC: 0.9995 || Test Loss: 0.3783 | Acc: 0.9279 | Prec: 0.9817 | Recall: 0.9398 | F1: 0.9603 | ROC-AUC: 0.9252\n",
      "Max val ROC-AUC: 0.9343\n",
      "Training with d_model=64, nhead=4, num_layers=4, dropout=0.1, lr=0.001\n"
     ]
    },
    {
     "data": {
      "application/vnd.jupyter.widget-view+json": {
       "model_id": "53673f23b959483093ae5cc490965594",
       "version_major": 2,
       "version_minor": 0
      },
      "text/plain": [
       "  0%|          | 0/10 [00:00<?, ?it/s]"
      ]
     },
     "metadata": {},
     "output_type": "display_data"
    },
    {
     "name": "stdout",
     "output_type": "stream",
     "text": [
      "Epoch: 10 | Train Loss: 0.0469 | Acc: 0.9855 | Prec: 0.9854 | Recall: 0.9833 | F1: 0.9844 | ROC-AUC: 0.9979 || Test Loss: 0.2029 | Acc: 0.9372 | Prec: 0.9721 | Recall: 0.9599 | F1: 0.9660 | ROC-AUC: 0.9442\n",
      "Max val ROC-AUC: 0.9572\n",
      "Training with d_model=64, nhead=4, num_layers=4, dropout=0.1, lr=0.001\n"
     ]
    },
    {
     "data": {
      "application/vnd.jupyter.widget-view+json": {
       "model_id": "ef6f7b79eb4f4da8a5e9720bfa6ed8f2",
       "version_major": 2,
       "version_minor": 0
      },
      "text/plain": [
       "  0%|          | 0/10 [00:00<?, ?it/s]"
      ]
     },
     "metadata": {},
     "output_type": "display_data"
    },
    {
     "name": "stdout",
     "output_type": "stream",
     "text": [
      "Epoch: 10 | Train Loss: 0.0362 | Acc: 0.9892 | Prec: 0.9927 | Recall: 0.9840 | F1: 0.9883 | ROC-AUC: 0.9988 || Test Loss: 0.3750 | Acc: 0.9163 | Prec: 0.9866 | Recall: 0.9223 | F1: 0.9534 | ROC-AUC: 0.9390\n",
      "Max val ROC-AUC: 0.9566\n",
      "Training with d_model=64, nhead=4, num_layers=4, dropout=0.1, lr=0.0001\n"
     ]
    },
    {
     "data": {
      "application/vnd.jupyter.widget-view+json": {
       "model_id": "9d8c8aec6b4c4d7d827df489e9e350a4",
       "version_major": 2,
       "version_minor": 0
      },
      "text/plain": [
       "  0%|          | 0/10 [00:00<?, ?it/s]"
      ]
     },
     "metadata": {},
     "output_type": "display_data"
    },
    {
     "name": "stdout",
     "output_type": "stream",
     "text": [
      "Epoch: 10 | Train Loss: 0.0329 | Acc: 0.9906 | Prec: 0.9934 | Recall: 0.9862 | F1: 0.9898 | ROC-AUC: 0.9986 || Test Loss: 0.3489 | Acc: 0.9256 | Prec: 0.9791 | Recall: 0.9398 | F1: 0.9591 | ROC-AUC: 0.9317\n",
      "Max val ROC-AUC: 0.9637\n",
      "Training with d_model=64, nhead=4, num_layers=4, dropout=0.1, lr=0.0001\n"
     ]
    },
    {
     "data": {
      "application/vnd.jupyter.widget-view+json": {
       "model_id": "3ec301987ff842b4a646f13f2b1db920",
       "version_major": 2,
       "version_minor": 0
      },
      "text/plain": [
       "  0%|          | 0/10 [00:00<?, ?it/s]"
      ]
     },
     "metadata": {},
     "output_type": "display_data"
    },
    {
     "name": "stdout",
     "output_type": "stream",
     "text": [
      "Epoch: 10 | Train Loss: 0.0231 | Acc: 0.9929 | Prec: 0.9927 | Recall: 0.9920 | F1: 0.9924 | ROC-AUC: 0.9997 || Test Loss: 0.3174 | Acc: 0.9372 | Prec: 0.9819 | Recall: 0.9499 | F1: 0.9656 | ROC-AUC: 0.9232\n",
      "Max val ROC-AUC: 0.9569\n",
      "Training with d_model=64, nhead=4, num_layers=4, dropout=0.1, lr=0.0001\n"
     ]
    },
    {
     "data": {
      "application/vnd.jupyter.widget-view+json": {
       "model_id": "eea00a577ac14102857debe71bbd3fce",
       "version_major": 2,
       "version_minor": 0
      },
      "text/plain": [
       "  0%|          | 0/10 [00:00<?, ?it/s]"
      ]
     },
     "metadata": {},
     "output_type": "display_data"
    },
    {
     "name": "stdout",
     "output_type": "stream",
     "text": [
      "Epoch: 10 | Train Loss: 0.0279 | Acc: 0.9916 | Prec: 0.9927 | Recall: 0.9891 | F1: 0.9909 | ROC-AUC: 0.9989 || Test Loss: 0.2973 | Acc: 0.9326 | Prec: 0.9818 | Recall: 0.9449 | F1: 0.9630 | ROC-AUC: 0.9508\n",
      "Max val ROC-AUC: 0.9605\n",
      "Training with d_model=64, nhead=4, num_layers=4, dropout=0.1, lr=0.0001\n"
     ]
    },
    {
     "data": {
      "application/vnd.jupyter.widget-view+json": {
       "model_id": "46ed26f135884112aacfb30cb5b943f0",
       "version_major": 2,
       "version_minor": 0
      },
      "text/plain": [
       "  0%|          | 0/10 [00:00<?, ?it/s]"
      ]
     },
     "metadata": {},
     "output_type": "display_data"
    },
    {
     "name": "stdout",
     "output_type": "stream",
     "text": [
      "Epoch: 10 | Train Loss: 0.0169 | Acc: 0.9970 | Prec: 0.9985 | Recall: 0.9949 | F1: 0.9967 | ROC-AUC: 0.9995 || Test Loss: 0.2858 | Acc: 0.9349 | Prec: 0.9744 | Recall: 0.9549 | F1: 0.9646 | ROC-AUC: 0.9190\n",
      "Max val ROC-AUC: 0.9631\n",
      "Training with d_model=64, nhead=4, num_layers=4, dropout=0.3, lr=0.001\n"
     ]
    },
    {
     "data": {
      "application/vnd.jupyter.widget-view+json": {
       "model_id": "3096c2a98a2e4be68991a38cd9c36c0a",
       "version_major": 2,
       "version_minor": 0
      },
      "text/plain": [
       "  0%|          | 0/10 [00:00<?, ?it/s]"
      ]
     },
     "metadata": {},
     "output_type": "display_data"
    },
    {
     "name": "stdout",
     "output_type": "stream",
     "text": [
      "Epoch: 10 | Train Loss: 0.0422 | Acc: 0.9862 | Prec: 0.9926 | Recall: 0.9775 | F1: 0.9850 | ROC-AUC: 0.9984 || Test Loss: 0.4622 | Acc: 0.9163 | Prec: 0.9866 | Recall: 0.9223 | F1: 0.9534 | ROC-AUC: 0.9341\n",
      "Max val ROC-AUC: 0.9377\n",
      "Training with d_model=64, nhead=4, num_layers=4, dropout=0.3, lr=0.001\n"
     ]
    },
    {
     "data": {
      "application/vnd.jupyter.widget-view+json": {
       "model_id": "3c6fc1da32484ae58a1d023804faedbf",
       "version_major": 2,
       "version_minor": 0
      },
      "text/plain": [
       "  0%|          | 0/10 [00:00<?, ?it/s]"
      ]
     },
     "metadata": {},
     "output_type": "display_data"
    },
    {
     "name": "stdout",
     "output_type": "stream",
     "text": [
      "Epoch: 10 | Train Loss: 0.0396 | Acc: 0.9899 | Prec: 0.9920 | Recall: 0.9862 | F1: 0.9891 | ROC-AUC: 0.9981 || Test Loss: 0.4954 | Acc: 0.9186 | Prec: 0.9840 | Recall: 0.9273 | F1: 0.9548 | ROC-AUC: 0.9299\n",
      "Max val ROC-AUC: 0.9534\n",
      "Training with d_model=64, nhead=4, num_layers=4, dropout=0.3, lr=0.001\n"
     ]
    },
    {
     "data": {
      "application/vnd.jupyter.widget-view+json": {
       "model_id": "f214022ee52b4cb8b6eb35596ebee68a",
       "version_major": 2,
       "version_minor": 0
      },
      "text/plain": [
       "  0%|          | 0/10 [00:00<?, ?it/s]"
      ]
     },
     "metadata": {},
     "output_type": "display_data"
    },
    {
     "name": "stdout",
     "output_type": "stream",
     "text": [
      "Epoch: 10 | Train Loss: 0.0471 | Acc: 0.9859 | Prec: 0.9855 | Recall: 0.9840 | F1: 0.9847 | ROC-AUC: 0.9979 || Test Loss: 0.3903 | Acc: 0.9163 | Prec: 0.9764 | Recall: 0.9323 | F1: 0.9538 | ROC-AUC: 0.9063\n",
      "Max val ROC-AUC: 0.9501\n",
      "Training with d_model=64, nhead=4, num_layers=4, dropout=0.3, lr=0.001\n"
     ]
    },
    {
     "data": {
      "application/vnd.jupyter.widget-view+json": {
       "model_id": "6ca428dffbbb4c1e895863a711794ad2",
       "version_major": 2,
       "version_minor": 0
      },
      "text/plain": [
       "  0%|          | 0/10 [00:00<?, ?it/s]"
      ]
     },
     "metadata": {},
     "output_type": "display_data"
    },
    {
     "name": "stdout",
     "output_type": "stream",
     "text": [
      "Epoch: 10 | Train Loss: 0.0547 | Acc: 0.9791 | Prec: 0.9874 | Recall: 0.9673 | F1: 0.9773 | ROC-AUC: 0.9976 || Test Loss: 0.5390 | Acc: 0.8930 | Prec: 0.9862 | Recall: 0.8972 | F1: 0.9396 | ROC-AUC: 0.9118\n",
      "Max val ROC-AUC: 0.9443\n",
      "Training with d_model=64, nhead=4, num_layers=4, dropout=0.3, lr=0.0001\n"
     ]
    },
    {
     "data": {
      "application/vnd.jupyter.widget-view+json": {
       "model_id": "aa815020eda84fa296bc2a780a070cec",
       "version_major": 2,
       "version_minor": 0
      },
      "text/plain": [
       "  0%|          | 0/10 [00:00<?, ?it/s]"
      ]
     },
     "metadata": {},
     "output_type": "display_data"
    },
    {
     "name": "stdout",
     "output_type": "stream",
     "text": [
      "Epoch: 10 | Train Loss: 0.0677 | Acc: 0.9781 | Prec: 0.9838 | Recall: 0.9688 | F1: 0.9762 | ROC-AUC: 0.9955 || Test Loss: 0.3284 | Acc: 0.9093 | Prec: 0.9839 | Recall: 0.9173 | F1: 0.9494 | ROC-AUC: 0.9329\n",
      "Max val ROC-AUC: 0.9489\n",
      "Training with d_model=64, nhead=4, num_layers=4, dropout=0.3, lr=0.0001\n"
     ]
    },
    {
     "data": {
      "application/vnd.jupyter.widget-view+json": {
       "model_id": "6a558218ad024ef18d2cf80ad84e99d4",
       "version_major": 2,
       "version_minor": 0
      },
      "text/plain": [
       "  0%|          | 0/10 [00:00<?, ?it/s]"
      ]
     },
     "metadata": {},
     "output_type": "display_data"
    },
    {
     "name": "stdout",
     "output_type": "stream",
     "text": [
      "Epoch: 10 | Train Loss: 0.0700 | Acc: 0.9815 | Prec: 0.9867 | Recall: 0.9731 | F1: 0.9799 | ROC-AUC: 0.9939 || Test Loss: 0.3136 | Acc: 0.9116 | Prec: 0.9839 | Recall: 0.9198 | F1: 0.9508 | ROC-AUC: 0.9293\n",
      "Max val ROC-AUC: 0.9547\n",
      "Training with d_model=64, nhead=4, num_layers=4, dropout=0.3, lr=0.0001\n"
     ]
    },
    {
     "data": {
      "application/vnd.jupyter.widget-view+json": {
       "model_id": "558c8658d6c549e3b6bdf0b2b671d7bd",
       "version_major": 2,
       "version_minor": 0
      },
      "text/plain": [
       "  0%|          | 0/10 [00:00<?, ?it/s]"
      ]
     },
     "metadata": {},
     "output_type": "display_data"
    },
    {
     "name": "stdout",
     "output_type": "stream",
     "text": [
      "Epoch: 10 | Train Loss: 0.0701 | Acc: 0.9788 | Prec: 0.9874 | Recall: 0.9666 | F1: 0.9769 | ROC-AUC: 0.9947 || Test Loss: 0.2947 | Acc: 0.9186 | Prec: 0.9789 | Recall: 0.9323 | F1: 0.9551 | ROC-AUC: 0.9306\n",
      "Max val ROC-AUC: 0.9569\n",
      "Training with d_model=64, nhead=4, num_layers=4, dropout=0.3, lr=0.0001\n"
     ]
    },
    {
     "data": {
      "application/vnd.jupyter.widget-view+json": {
       "model_id": "614f957ecd80450e9b6ab7ee7f5e4e9e",
       "version_major": 2,
       "version_minor": 0
      },
      "text/plain": [
       "  0%|          | 0/10 [00:00<?, ?it/s]"
      ]
     },
     "metadata": {},
     "output_type": "display_data"
    },
    {
     "name": "stdout",
     "output_type": "stream",
     "text": [
      "Epoch: 10 | Train Loss: 0.0628 | Acc: 0.9821 | Prec: 0.9889 | Recall: 0.9724 | F1: 0.9806 | ROC-AUC: 0.9957 || Test Loss: 0.4006 | Acc: 0.8953 | Prec: 0.9836 | Recall: 0.9023 | F1: 0.9412 | ROC-AUC: 0.9286\n",
      "Max val ROC-AUC: 0.9325\n",
      "Training with d_model=64, nhead=4, num_layers=6, dropout=0.1, lr=0.001\n"
     ]
    },
    {
     "data": {
      "application/vnd.jupyter.widget-view+json": {
       "model_id": "6d8793e0c2be4822a8b5c0a15818cdb2",
       "version_major": 2,
       "version_minor": 0
      },
      "text/plain": [
       "  0%|          | 0/10 [00:00<?, ?it/s]"
      ]
     },
     "metadata": {},
     "output_type": "display_data"
    },
    {
     "name": "stdout",
     "output_type": "stream",
     "text": [
      "Epoch: 10 | Train Loss: 0.0255 | Acc: 0.9912 | Prec: 0.9927 | Recall: 0.9884 | F1: 0.9905 | ROC-AUC: 0.9988 || Test Loss: 0.4251 | Acc: 0.9326 | Prec: 0.9818 | Recall: 0.9449 | F1: 0.9630 | ROC-AUC: 0.9268\n",
      "Max val ROC-AUC: 0.9485\n",
      "Training with d_model=64, nhead=4, num_layers=6, dropout=0.1, lr=0.001\n"
     ]
    },
    {
     "data": {
      "application/vnd.jupyter.widget-view+json": {
       "model_id": "2ce28e622ec8430482be767d19af1d63",
       "version_major": 2,
       "version_minor": 0
      },
      "text/plain": [
       "  0%|          | 0/10 [00:00<?, ?it/s]"
      ]
     },
     "metadata": {},
     "output_type": "display_data"
    },
    {
     "name": "stdout",
     "output_type": "stream",
     "text": [
      "Epoch: 10 | Train Loss: 0.0360 | Acc: 0.9882 | Prec: 0.9912 | Recall: 0.9833 | F1: 0.9872 | ROC-AUC: 0.9984 || Test Loss: 0.3731 | Acc: 0.9279 | Prec: 0.9792 | Recall: 0.9424 | F1: 0.9604 | ROC-AUC: 0.9259\n",
      "Max val ROC-AUC: 0.9534\n",
      "Training with d_model=64, nhead=4, num_layers=6, dropout=0.1, lr=0.001\n"
     ]
    },
    {
     "data": {
      "application/vnd.jupyter.widget-view+json": {
       "model_id": "8b9711803bac47cf8483699006b3fb7d",
       "version_major": 2,
       "version_minor": 0
      },
      "text/plain": [
       "  0%|          | 0/10 [00:00<?, ?it/s]"
      ]
     },
     "metadata": {},
     "output_type": "display_data"
    },
    {
     "name": "stdout",
     "output_type": "stream",
     "text": [
      "Epoch: 10 | Train Loss: 0.0373 | Acc: 0.9882 | Prec: 0.9948 | Recall: 0.9797 | F1: 0.9872 | ROC-AUC: 0.9988 || Test Loss: 0.3736 | Acc: 0.9256 | Prec: 0.9766 | Recall: 0.9424 | F1: 0.9592 | ROC-AUC: 0.9344\n",
      "Max val ROC-AUC: 0.9590\n",
      "Training with d_model=64, nhead=4, num_layers=6, dropout=0.1, lr=0.001\n"
     ]
    },
    {
     "data": {
      "application/vnd.jupyter.widget-view+json": {
       "model_id": "e78c7112870541cb8f5ac83aedc90fb3",
       "version_major": 2,
       "version_minor": 0
      },
      "text/plain": [
       "  0%|          | 0/10 [00:00<?, ?it/s]"
      ]
     },
     "metadata": {},
     "output_type": "display_data"
    },
    {
     "name": "stdout",
     "output_type": "stream",
     "text": [
      "Epoch: 10 | Train Loss: 0.0519 | Acc: 0.9832 | Prec: 0.9875 | Recall: 0.9760 | F1: 0.9817 | ROC-AUC: 0.9972 || Test Loss: 0.2363 | Acc: 0.9395 | Prec: 0.9746 | Recall: 0.9599 | F1: 0.9672 | ROC-AUC: 0.9251\n",
      "Max val ROC-AUC: 0.9457\n",
      "Training with d_model=64, nhead=4, num_layers=6, dropout=0.1, lr=0.0001\n"
     ]
    },
    {
     "data": {
      "application/vnd.jupyter.widget-view+json": {
       "model_id": "8c455079d3514d59a1f30ef91240c807",
       "version_major": 2,
       "version_minor": 0
      },
      "text/plain": [
       "  0%|          | 0/10 [00:00<?, ?it/s]"
      ]
     },
     "metadata": {},
     "output_type": "display_data"
    },
    {
     "name": "stdout",
     "output_type": "stream",
     "text": [
      "Epoch: 10 | Train Loss: 0.0440 | Acc: 0.9882 | Prec: 0.9919 | Recall: 0.9826 | F1: 0.9872 | ROC-AUC: 0.9977 || Test Loss: 0.2796 | Acc: 0.9349 | Prec: 0.9793 | Recall: 0.9499 | F1: 0.9644 | ROC-AUC: 0.9274\n",
      "Max val ROC-AUC: 0.9592\n",
      "Training with d_model=64, nhead=4, num_layers=6, dropout=0.1, lr=0.0001\n"
     ]
    },
    {
     "data": {
      "application/vnd.jupyter.widget-view+json": {
       "model_id": "3541c6170c724d1b91b93ee3ce0282bd",
       "version_major": 2,
       "version_minor": 0
      },
      "text/plain": [
       "  0%|          | 0/10 [00:00<?, ?it/s]"
      ]
     },
     "metadata": {},
     "output_type": "display_data"
    },
    {
     "name": "stdout",
     "output_type": "stream",
     "text": [
      "Epoch: 10 | Train Loss: 0.0323 | Acc: 0.9926 | Prec: 0.9927 | Recall: 0.9913 | F1: 0.9920 | ROC-AUC: 0.9984 || Test Loss: 0.2715 | Acc: 0.9442 | Prec: 0.9795 | Recall: 0.9599 | F1: 0.9696 | ROC-AUC: 0.9092\n",
      "Max val ROC-AUC: 0.9661\n",
      "Training with d_model=64, nhead=4, num_layers=6, dropout=0.1, lr=0.0001\n"
     ]
    },
    {
     "data": {
      "application/vnd.jupyter.widget-view+json": {
       "model_id": "b005048932624c0f910441c2f4252d38",
       "version_major": 2,
       "version_minor": 0
      },
      "text/plain": [
       "  0%|          | 0/10 [00:00<?, ?it/s]"
      ]
     },
     "metadata": {},
     "output_type": "display_data"
    },
    {
     "name": "stdout",
     "output_type": "stream",
     "text": [
      "Epoch: 10 | Train Loss: 0.0281 | Acc: 0.9929 | Prec: 0.9956 | Recall: 0.9891 | F1: 0.9923 | ROC-AUC: 0.9987 || Test Loss: 0.3640 | Acc: 0.9140 | Prec: 0.9840 | Recall: 0.9223 | F1: 0.9521 | ROC-AUC: 0.8767\n",
      "Max val ROC-AUC: 0.9531\n",
      "Training with d_model=64, nhead=4, num_layers=6, dropout=0.1, lr=0.0001\n"
     ]
    },
    {
     "data": {
      "application/vnd.jupyter.widget-view+json": {
       "model_id": "d437bb7bd1ce48758c4b074a20989364",
       "version_major": 2,
       "version_minor": 0
      },
      "text/plain": [
       "  0%|          | 0/10 [00:00<?, ?it/s]"
      ]
     },
     "metadata": {},
     "output_type": "display_data"
    },
    {
     "name": "stdout",
     "output_type": "stream",
     "text": [
      "Epoch: 10 | Train Loss: 0.0236 | Acc: 0.9943 | Prec: 0.9949 | Recall: 0.9927 | F1: 0.9938 | ROC-AUC: 0.9992 || Test Loss: 0.3406 | Acc: 0.9279 | Prec: 0.9767 | Recall: 0.9449 | F1: 0.9605 | ROC-AUC: 0.9314\n",
      "Max val ROC-AUC: 0.9447\n",
      "Training with d_model=64, nhead=4, num_layers=6, dropout=0.3, lr=0.001\n"
     ]
    },
    {
     "data": {
      "application/vnd.jupyter.widget-view+json": {
       "model_id": "31f23d59d8224d8c8f4d23bf01bf69bc",
       "version_major": 2,
       "version_minor": 0
      },
      "text/plain": [
       "  0%|          | 0/10 [00:00<?, ?it/s]"
      ]
     },
     "metadata": {},
     "output_type": "display_data"
    },
    {
     "name": "stdout",
     "output_type": "stream",
     "text": [
      "Epoch: 10 | Train Loss: 0.0472 | Acc: 0.9872 | Prec: 0.9898 | Recall: 0.9826 | F1: 0.9862 | ROC-AUC: 0.9978 || Test Loss: 0.4267 | Acc: 0.9279 | Prec: 0.9817 | Recall: 0.9398 | F1: 0.9603 | ROC-AUC: 0.9439\n",
      "Max val ROC-AUC: 0.9531\n",
      "Training with d_model=64, nhead=4, num_layers=6, dropout=0.3, lr=0.001\n"
     ]
    },
    {
     "data": {
      "application/vnd.jupyter.widget-view+json": {
       "model_id": "eaef12cd4f514dc28c11ed46c6b4d826",
       "version_major": 2,
       "version_minor": 0
      },
      "text/plain": [
       "  0%|          | 0/10 [00:00<?, ?it/s]"
      ]
     },
     "metadata": {},
     "output_type": "display_data"
    },
    {
     "name": "stdout",
     "output_type": "stream",
     "text": [
      "Epoch: 10 | Train Loss: 0.0289 | Acc: 0.9916 | Prec: 0.9942 | Recall: 0.9877 | F1: 0.9909 | ROC-AUC: 0.9988 || Test Loss: 0.5687 | Acc: 0.9209 | Prec: 0.9790 | Recall: 0.9348 | F1: 0.9564 | ROC-AUC: 0.9426\n",
      "Max val ROC-AUC: 0.9663\n",
      "Training with d_model=64, nhead=4, num_layers=6, dropout=0.3, lr=0.001\n"
     ]
    },
    {
     "data": {
      "application/vnd.jupyter.widget-view+json": {
       "model_id": "a4aaf167e4a84b3a940e28ae3eebef34",
       "version_major": 2,
       "version_minor": 0
      },
      "text/plain": [
       "  0%|          | 0/10 [00:00<?, ?it/s]"
      ]
     },
     "metadata": {},
     "output_type": "display_data"
    },
    {
     "name": "stdout",
     "output_type": "stream",
     "text": [
      "Epoch: 10 | Train Loss: 0.0385 | Acc: 0.9919 | Prec: 0.9942 | Recall: 0.9884 | F1: 0.9913 | ROC-AUC: 0.9979 || Test Loss: 0.3421 | Acc: 0.9233 | Prec: 0.9766 | Recall: 0.9398 | F1: 0.9579 | ROC-AUC: 0.9381\n",
      "Max val ROC-AUC: 0.9487\n",
      "Training with d_model=64, nhead=4, num_layers=6, dropout=0.3, lr=0.001\n"
     ]
    },
    {
     "data": {
      "application/vnd.jupyter.widget-view+json": {
       "model_id": "bf0e71bac9704f61a2fec184d28d1e96",
       "version_major": 2,
       "version_minor": 0
      },
      "text/plain": [
       "  0%|          | 0/10 [00:00<?, ?it/s]"
      ]
     },
     "metadata": {},
     "output_type": "display_data"
    },
    {
     "name": "stdout",
     "output_type": "stream",
     "text": [
      "Epoch: 10 | Train Loss: 0.0444 | Acc: 0.9869 | Prec: 0.9905 | Recall: 0.9811 | F1: 0.9858 | ROC-AUC: 0.9978 || Test Loss: 0.4390 | Acc: 0.9093 | Prec: 0.9762 | Recall: 0.9248 | F1: 0.9498 | ROC-AUC: 0.9057\n",
      "Max val ROC-AUC: 0.9574\n",
      "Training with d_model=64, nhead=4, num_layers=6, dropout=0.3, lr=0.0001\n"
     ]
    },
    {
     "data": {
      "application/vnd.jupyter.widget-view+json": {
       "model_id": "b3ff6208013f4bd594b70968e31a6816",
       "version_major": 2,
       "version_minor": 0
      },
      "text/plain": [
       "  0%|          | 0/10 [00:00<?, ?it/s]"
      ]
     },
     "metadata": {},
     "output_type": "display_data"
    },
    {
     "name": "stdout",
     "output_type": "stream",
     "text": [
      "Epoch: 10 | Train Loss: 0.0589 | Acc: 0.9845 | Prec: 0.9911 | Recall: 0.9753 | F1: 0.9832 | ROC-AUC: 0.9953 || Test Loss: 0.3403 | Acc: 0.9163 | Prec: 0.9840 | Recall: 0.9248 | F1: 0.9535 | ROC-AUC: 0.9376\n",
      "Max val ROC-AUC: 0.9508\n",
      "Training with d_model=64, nhead=4, num_layers=6, dropout=0.3, lr=0.0001\n"
     ]
    },
    {
     "data": {
      "application/vnd.jupyter.widget-view+json": {
       "model_id": "3a9258888f414020bf4040b8100d5afd",
       "version_major": 2,
       "version_minor": 0
      },
      "text/plain": [
       "  0%|          | 0/10 [00:00<?, ?it/s]"
      ]
     },
     "metadata": {},
     "output_type": "display_data"
    },
    {
     "name": "stdout",
     "output_type": "stream",
     "text": [
      "Epoch: 10 | Train Loss: 0.0762 | Acc: 0.9788 | Prec: 0.9838 | Recall: 0.9702 | F1: 0.9770 | ROC-AUC: 0.9938 || Test Loss: 0.3902 | Acc: 0.8930 | Prec: 0.9809 | Recall: 0.9023 | F1: 0.9399 | ROC-AUC: 0.9270\n",
      "Max val ROC-AUC: 0.9428\n",
      "Training with d_model=64, nhead=4, num_layers=6, dropout=0.3, lr=0.0001\n"
     ]
    },
    {
     "data": {
      "application/vnd.jupyter.widget-view+json": {
       "model_id": "310056300bc846dcb20cb346022da01b",
       "version_major": 2,
       "version_minor": 0
      },
      "text/plain": [
       "  0%|          | 0/10 [00:00<?, ?it/s]"
      ]
     },
     "metadata": {},
     "output_type": "display_data"
    },
    {
     "name": "stdout",
     "output_type": "stream",
     "text": [
      "Epoch: 10 | Train Loss: 0.0779 | Acc: 0.9771 | Prec: 0.9788 | Recall: 0.9717 | F1: 0.9752 | ROC-AUC: 0.9945 || Test Loss: 0.3509 | Acc: 0.9186 | Prec: 0.9840 | Recall: 0.9273 | F1: 0.9548 | ROC-AUC: 0.8852\n",
      "Max val ROC-AUC: 0.9592\n",
      "Training with d_model=64, nhead=4, num_layers=6, dropout=0.3, lr=0.0001\n"
     ]
    },
    {
     "data": {
      "application/vnd.jupyter.widget-view+json": {
       "model_id": "9084d488aa2e4c249cd1bb1178f94736",
       "version_major": 2,
       "version_minor": 0
      },
      "text/plain": [
       "  0%|          | 0/10 [00:00<?, ?it/s]"
      ]
     },
     "metadata": {},
     "output_type": "display_data"
    },
    {
     "name": "stdout",
     "output_type": "stream",
     "text": [
      "Epoch: 10 | Train Loss: 0.0653 | Acc: 0.9815 | Prec: 0.9846 | Recall: 0.9753 | F1: 0.9799 | ROC-AUC: 0.9960 || Test Loss: 0.3643 | Acc: 0.9186 | Prec: 0.9866 | Recall: 0.9248 | F1: 0.9547 | ROC-AUC: 0.9205\n",
      "Max val ROC-AUC: 0.9605\n",
      "Training with d_model=128, nhead=2, num_layers=2, dropout=0.1, lr=0.001\n"
     ]
    },
    {
     "data": {
      "application/vnd.jupyter.widget-view+json": {
       "model_id": "27cce8ff41914f1ebb5b65418fa5d527",
       "version_major": 2,
       "version_minor": 0
      },
      "text/plain": [
       "  0%|          | 0/10 [00:00<?, ?it/s]"
      ]
     },
     "metadata": {},
     "output_type": "display_data"
    },
    {
     "name": "stdout",
     "output_type": "stream",
     "text": [
      "Epoch: 10 | Train Loss: 0.0402 | Acc: 0.9875 | Prec: 0.9912 | Recall: 0.9818 | F1: 0.9865 | ROC-AUC: 0.9983 || Test Loss: 0.4128 | Acc: 0.9209 | Prec: 0.9716 | Recall: 0.9424 | F1: 0.9567 | ROC-AUC: 0.9100\n",
      "Max val ROC-AUC: 0.9541\n",
      "Training with d_model=128, nhead=2, num_layers=2, dropout=0.1, lr=0.001\n"
     ]
    },
    {
     "data": {
      "application/vnd.jupyter.widget-view+json": {
       "model_id": "82cda7eb87ec4973b1e2c38f62e604bc",
       "version_major": 2,
       "version_minor": 0
      },
      "text/plain": [
       "  0%|          | 0/10 [00:00<?, ?it/s]"
      ]
     },
     "metadata": {},
     "output_type": "display_data"
    },
    {
     "name": "stdout",
     "output_type": "stream",
     "text": [
      "Epoch: 10 | Train Loss: 0.0350 | Acc: 0.9923 | Prec: 0.9934 | Recall: 0.9898 | F1: 0.9916 | ROC-AUC: 0.9982 || Test Loss: 0.3666 | Acc: 0.9302 | Prec: 0.9792 | Recall: 0.9449 | F1: 0.9617 | ROC-AUC: 0.9258\n",
      "Max val ROC-AUC: 0.9567\n",
      "Training with d_model=128, nhead=2, num_layers=2, dropout=0.1, lr=0.001\n"
     ]
    },
    {
     "data": {
      "application/vnd.jupyter.widget-view+json": {
       "model_id": "c9fbe4828b3748b0968efa2490e1a5e0",
       "version_major": 2,
       "version_minor": 0
      },
      "text/plain": [
       "  0%|          | 0/10 [00:00<?, ?it/s]"
      ]
     },
     "metadata": {},
     "output_type": "display_data"
    },
    {
     "name": "stdout",
     "output_type": "stream",
     "text": [
      "Epoch: 10 | Train Loss: 0.0644 | Acc: 0.9811 | Prec: 0.9875 | Recall: 0.9717 | F1: 0.9795 | ROC-AUC: 0.9959 || Test Loss: 0.2949 | Acc: 0.9372 | Prec: 0.9819 | Recall: 0.9499 | F1: 0.9656 | ROC-AUC: 0.9431\n",
      "Max val ROC-AUC: 0.9592\n",
      "Training with d_model=128, nhead=2, num_layers=2, dropout=0.1, lr=0.001\n"
     ]
    },
    {
     "data": {
      "application/vnd.jupyter.widget-view+json": {
       "model_id": "b74e71bef234404380d12aff886ceac6",
       "version_major": 2,
       "version_minor": 0
      },
      "text/plain": [
       "  0%|          | 0/10 [00:00<?, ?it/s]"
      ]
     },
     "metadata": {},
     "output_type": "display_data"
    },
    {
     "name": "stdout",
     "output_type": "stream",
     "text": [
      "Epoch: 10 | Train Loss: 0.0429 | Acc: 0.9848 | Prec: 0.9890 | Recall: 0.9782 | F1: 0.9836 | ROC-AUC: 0.9988 || Test Loss: 0.3200 | Acc: 0.9302 | Prec: 0.9817 | Recall: 0.9424 | F1: 0.9616 | ROC-AUC: 0.9415\n",
      "Max val ROC-AUC: 0.9671\n",
      "Training with d_model=128, nhead=2, num_layers=2, dropout=0.1, lr=0.0001\n"
     ]
    },
    {
     "data": {
      "application/vnd.jupyter.widget-view+json": {
       "model_id": "6c3168e08f5a4340a6727faf8ed2d021",
       "version_major": 2,
       "version_minor": 0
      },
      "text/plain": [
       "  0%|          | 0/10 [00:00<?, ?it/s]"
      ]
     },
     "metadata": {},
     "output_type": "display_data"
    },
    {
     "name": "stdout",
     "output_type": "stream",
     "text": [
      "Epoch: 10 | Train Loss: 0.0226 | Acc: 0.9936 | Prec: 0.9942 | Recall: 0.9920 | F1: 0.9931 | ROC-AUC: 0.9996 || Test Loss: 0.2628 | Acc: 0.9372 | Prec: 0.9844 | Recall: 0.9474 | F1: 0.9655 | ROC-AUC: 0.9213\n",
      "Max val ROC-AUC: 0.9671\n",
      "Training with d_model=128, nhead=2, num_layers=2, dropout=0.1, lr=0.0001\n"
     ]
    },
    {
     "data": {
      "application/vnd.jupyter.widget-view+json": {
       "model_id": "b2441bc152ef4a7cb130287acc1de45d",
       "version_major": 2,
       "version_minor": 0
      },
      "text/plain": [
       "  0%|          | 0/10 [00:00<?, ?it/s]"
      ]
     },
     "metadata": {},
     "output_type": "display_data"
    },
    {
     "name": "stdout",
     "output_type": "stream",
     "text": [
      "Epoch: 10 | Train Loss: 0.0182 | Acc: 0.9949 | Prec: 0.9956 | Recall: 0.9935 | F1: 0.9945 | ROC-AUC: 0.9996 || Test Loss: 0.2799 | Acc: 0.9349 | Prec: 0.9720 | Recall: 0.9574 | F1: 0.9646 | ROC-AUC: 0.9310\n",
      "Max val ROC-AUC: 0.9576\n",
      "Training with d_model=128, nhead=2, num_layers=2, dropout=0.1, lr=0.0001\n"
     ]
    },
    {
     "data": {
      "application/vnd.jupyter.widget-view+json": {
       "model_id": "6b27d754f9be46a59eb361b6610686d8",
       "version_major": 2,
       "version_minor": 0
      },
      "text/plain": [
       "  0%|          | 0/10 [00:00<?, ?it/s]"
      ]
     },
     "metadata": {},
     "output_type": "display_data"
    },
    {
     "name": "stdout",
     "output_type": "stream",
     "text": [
      "Epoch: 10 | Train Loss: 0.0173 | Acc: 0.9963 | Prec: 0.9971 | Recall: 0.9949 | F1: 0.9960 | ROC-AUC: 0.9999 || Test Loss: 0.2583 | Acc: 0.9488 | Prec: 0.9796 | Recall: 0.9649 | F1: 0.9722 | ROC-AUC: 0.9116\n",
      "Max val ROC-AUC: 0.9544\n",
      "Training with d_model=128, nhead=2, num_layers=2, dropout=0.1, lr=0.0001\n"
     ]
    },
    {
     "data": {
      "application/vnd.jupyter.widget-view+json": {
       "model_id": "c0702d96f96d4105a1533af447ab1b5b",
       "version_major": 2,
       "version_minor": 0
      },
      "text/plain": [
       "  0%|          | 0/10 [00:00<?, ?it/s]"
      ]
     },
     "metadata": {},
     "output_type": "display_data"
    },
    {
     "name": "stdout",
     "output_type": "stream",
     "text": [
      "Epoch: 10 | Train Loss: 0.0242 | Acc: 0.9939 | Prec: 0.9949 | Recall: 0.9920 | F1: 0.9935 | ROC-AUC: 0.9994 || Test Loss: 0.2438 | Acc: 0.9512 | Prec: 0.9821 | Recall: 0.9649 | F1: 0.9735 | ROC-AUC: 0.9172\n",
      "Max val ROC-AUC: 0.9627\n",
      "Training with d_model=128, nhead=2, num_layers=2, dropout=0.3, lr=0.001\n"
     ]
    },
    {
     "data": {
      "application/vnd.jupyter.widget-view+json": {
       "model_id": "658f4439ab7d4e2594039484f7e0b920",
       "version_major": 2,
       "version_minor": 0
      },
      "text/plain": [
       "  0%|          | 0/10 [00:00<?, ?it/s]"
      ]
     },
     "metadata": {},
     "output_type": "display_data"
    },
    {
     "name": "stdout",
     "output_type": "stream",
     "text": [
      "Epoch: 10 | Train Loss: 0.0322 | Acc: 0.9896 | Prec: 0.9898 | Recall: 0.9877 | F1: 0.9887 | ROC-AUC: 0.9991 || Test Loss: 0.6610 | Acc: 0.9070 | Prec: 0.9838 | Recall: 0.9148 | F1: 0.9481 | ROC-AUC: 0.9164\n",
      "Max val ROC-AUC: 0.9480\n",
      "Training with d_model=128, nhead=2, num_layers=2, dropout=0.3, lr=0.001\n"
     ]
    },
    {
     "data": {
      "application/vnd.jupyter.widget-view+json": {
       "model_id": "b9c228f2c2514212b11d67fffdc00119",
       "version_major": 2,
       "version_minor": 0
      },
      "text/plain": [
       "  0%|          | 0/10 [00:00<?, ?it/s]"
      ]
     },
     "metadata": {},
     "output_type": "display_data"
    },
    {
     "name": "stdout",
     "output_type": "stream",
     "text": [
      "Epoch: 10 | Train Loss: 0.0344 | Acc: 0.9889 | Prec: 0.9934 | Recall: 0.9826 | F1: 0.9880 | ROC-AUC: 0.9987 || Test Loss: 0.5257 | Acc: 0.9070 | Prec: 0.9761 | Recall: 0.9223 | F1: 0.9485 | ROC-AUC: 0.9318\n",
      "Max val ROC-AUC: 0.9504\n",
      "Training with d_model=128, nhead=2, num_layers=2, dropout=0.3, lr=0.001\n"
     ]
    },
    {
     "data": {
      "application/vnd.jupyter.widget-view+json": {
       "model_id": "9a17959280f1483f8f86ff46b9657157",
       "version_major": 2,
       "version_minor": 0
      },
      "text/plain": [
       "  0%|          | 0/10 [00:00<?, ?it/s]"
      ]
     },
     "metadata": {},
     "output_type": "display_data"
    },
    {
     "name": "stdout",
     "output_type": "stream",
     "text": [
      "Epoch: 10 | Train Loss: 0.0302 | Acc: 0.9909 | Prec: 0.9941 | Recall: 0.9862 | F1: 0.9902 | ROC-AUC: 0.9988 || Test Loss: 0.5130 | Acc: 0.9209 | Prec: 0.9740 | Recall: 0.9398 | F1: 0.9566 | ROC-AUC: 0.9000\n",
      "Max val ROC-AUC: 0.9584\n",
      "Training with d_model=128, nhead=2, num_layers=2, dropout=0.3, lr=0.001\n"
     ]
    },
    {
     "data": {
      "application/vnd.jupyter.widget-view+json": {
       "model_id": "459b191ac9ed48d8b268fd94fcc08fcb",
       "version_major": 2,
       "version_minor": 0
      },
      "text/plain": [
       "  0%|          | 0/10 [00:00<?, ?it/s]"
      ]
     },
     "metadata": {},
     "output_type": "display_data"
    },
    {
     "name": "stdout",
     "output_type": "stream",
     "text": [
      "Epoch: 10 | Train Loss: 0.0634 | Acc: 0.9821 | Prec: 0.9926 | Recall: 0.9688 | F1: 0.9805 | ROC-AUC: 0.9960 || Test Loss: 0.4168 | Acc: 0.9070 | Prec: 0.9864 | Recall: 0.9123 | F1: 0.9479 | ROC-AUC: 0.9521\n",
      "Max val ROC-AUC: 0.9609\n",
      "Training with d_model=128, nhead=2, num_layers=2, dropout=0.3, lr=0.0001\n"
     ]
    },
    {
     "data": {
      "application/vnd.jupyter.widget-view+json": {
       "model_id": "eadd84aa328f49dcabb3e2a886e53a0a",
       "version_major": 2,
       "version_minor": 0
      },
      "text/plain": [
       "  0%|          | 0/10 [00:00<?, ?it/s]"
      ]
     },
     "metadata": {},
     "output_type": "display_data"
    },
    {
     "name": "stdout",
     "output_type": "stream",
     "text": [
      "Epoch: 10 | Train Loss: 0.0489 | Acc: 0.9838 | Prec: 0.9854 | Recall: 0.9797 | F1: 0.9825 | ROC-AUC: 0.9981 || Test Loss: 0.2706 | Acc: 0.9395 | Prec: 0.9819 | Recall: 0.9524 | F1: 0.9669 | ROC-AUC: 0.9403\n",
      "Max val ROC-AUC: 0.9660\n",
      "Training with d_model=128, nhead=2, num_layers=2, dropout=0.3, lr=0.0001\n"
     ]
    },
    {
     "data": {
      "application/vnd.jupyter.widget-view+json": {
       "model_id": "b66472ae61774a3ba59daee8d06d62d4",
       "version_major": 2,
       "version_minor": 0
      },
      "text/plain": [
       "  0%|          | 0/10 [00:00<?, ?it/s]"
      ]
     },
     "metadata": {},
     "output_type": "display_data"
    },
    {
     "name": "stdout",
     "output_type": "stream",
     "text": [
      "Epoch: 10 | Train Loss: 0.0440 | Acc: 0.9869 | Prec: 0.9876 | Recall: 0.9840 | F1: 0.9858 | ROC-AUC: 0.9982 || Test Loss: 0.2543 | Acc: 0.9395 | Prec: 0.9819 | Recall: 0.9524 | F1: 0.9669 | ROC-AUC: 0.9374\n",
      "Max val ROC-AUC: 0.9640\n",
      "Training with d_model=128, nhead=2, num_layers=2, dropout=0.3, lr=0.0001\n"
     ]
    },
    {
     "data": {
      "application/vnd.jupyter.widget-view+json": {
       "model_id": "8ad7ce7bc0e841eeb3305e7370ccac7c",
       "version_major": 2,
       "version_minor": 0
      },
      "text/plain": [
       "  0%|          | 0/10 [00:00<?, ?it/s]"
      ]
     },
     "metadata": {},
     "output_type": "display_data"
    },
    {
     "name": "stdout",
     "output_type": "stream",
     "text": [
      "Epoch: 10 | Train Loss: 0.0453 | Acc: 0.9879 | Prec: 0.9912 | Recall: 0.9826 | F1: 0.9869 | ROC-AUC: 0.9982 || Test Loss: 0.3223 | Acc: 0.9279 | Prec: 0.9792 | Recall: 0.9424 | F1: 0.9604 | ROC-AUC: 0.9045\n",
      "Max val ROC-AUC: 0.9516\n",
      "Training with d_model=128, nhead=2, num_layers=2, dropout=0.3, lr=0.0001\n"
     ]
    },
    {
     "data": {
      "application/vnd.jupyter.widget-view+json": {
       "model_id": "f3ce53fea5724ef297dc02a76d3eb8c9",
       "version_major": 2,
       "version_minor": 0
      },
      "text/plain": [
       "  0%|          | 0/10 [00:00<?, ?it/s]"
      ]
     },
     "metadata": {},
     "output_type": "display_data"
    },
    {
     "name": "stdout",
     "output_type": "stream",
     "text": [
      "Epoch: 10 | Train Loss: 0.0588 | Acc: 0.9805 | Prec: 0.9839 | Recall: 0.9739 | F1: 0.9788 | ROC-AUC: 0.9974 || Test Loss: 0.3099 | Acc: 0.9233 | Prec: 0.9816 | Recall: 0.9348 | F1: 0.9576 | ROC-AUC: 0.9156\n",
      "Max val ROC-AUC: 0.9550\n",
      "Training with d_model=128, nhead=2, num_layers=4, dropout=0.1, lr=0.001\n"
     ]
    },
    {
     "data": {
      "application/vnd.jupyter.widget-view+json": {
       "model_id": "ce5fa64c32f340c5a4b5c454e4c1e39f",
       "version_major": 2,
       "version_minor": 0
      },
      "text/plain": [
       "  0%|          | 0/10 [00:00<?, ?it/s]"
      ]
     },
     "metadata": {},
     "output_type": "display_data"
    },
    {
     "name": "stdout",
     "output_type": "stream",
     "text": [
      "Epoch: 10 | Train Loss: 0.0267 | Acc: 0.9929 | Prec: 0.9956 | Recall: 0.9891 | F1: 0.9923 | ROC-AUC: 0.9988 || Test Loss: 0.3983 | Acc: 0.9256 | Prec: 0.9816 | Recall: 0.9373 | F1: 0.9590 | ROC-AUC: 0.9286\n",
      "Max val ROC-AUC: 0.9441\n",
      "Training with d_model=128, nhead=2, num_layers=4, dropout=0.1, lr=0.001\n"
     ]
    },
    {
     "data": {
      "application/vnd.jupyter.widget-view+json": {
       "model_id": "f27ed56ca59d4f6e82ee82206576cb58",
       "version_major": 2,
       "version_minor": 0
      },
      "text/plain": [
       "  0%|          | 0/10 [00:00<?, ?it/s]"
      ]
     },
     "metadata": {},
     "output_type": "display_data"
    },
    {
     "name": "stdout",
     "output_type": "stream",
     "text": [
      "Epoch: 10 | Train Loss: 0.0346 | Acc: 0.9896 | Prec: 0.9912 | Recall: 0.9862 | F1: 0.9887 | ROC-AUC: 0.9988 || Test Loss: 0.4051 | Acc: 0.9326 | Prec: 0.9744 | Recall: 0.9524 | F1: 0.9632 | ROC-AUC: 0.9201\n",
      "Max val ROC-AUC: 0.9326\n",
      "Training with d_model=128, nhead=2, num_layers=4, dropout=0.1, lr=0.001\n"
     ]
    },
    {
     "data": {
      "application/vnd.jupyter.widget-view+json": {
       "model_id": "bf276992f27d4c9bb7e95a5e3fe2e8a0",
       "version_major": 2,
       "version_minor": 0
      },
      "text/plain": [
       "  0%|          | 0/10 [00:00<?, ?it/s]"
      ]
     },
     "metadata": {},
     "output_type": "display_data"
    },
    {
     "name": "stdout",
     "output_type": "stream",
     "text": [
      "Epoch: 10 | Train Loss: 0.0288 | Acc: 0.9943 | Prec: 0.9956 | Recall: 0.9920 | F1: 0.9938 | ROC-AUC: 0.9985 || Test Loss: 0.2958 | Acc: 0.9395 | Prec: 0.9794 | Recall: 0.9549 | F1: 0.9670 | ROC-AUC: 0.9059\n",
      "Max val ROC-AUC: 0.9614\n",
      "Training with d_model=128, nhead=2, num_layers=4, dropout=0.1, lr=0.001\n"
     ]
    },
    {
     "data": {
      "application/vnd.jupyter.widget-view+json": {
       "model_id": "bc41953f15fa477998cf769adee2af50",
       "version_major": 2,
       "version_minor": 0
      },
      "text/plain": [
       "  0%|          | 0/10 [00:00<?, ?it/s]"
      ]
     },
     "metadata": {},
     "output_type": "display_data"
    },
    {
     "name": "stdout",
     "output_type": "stream",
     "text": [
      "Epoch: 10 | Train Loss: 0.0182 | Acc: 0.9936 | Prec: 0.9927 | Recall: 0.9935 | F1: 0.9931 | ROC-AUC: 0.9998 || Test Loss: 0.3560 | Acc: 0.9349 | Prec: 0.9793 | Recall: 0.9499 | F1: 0.9644 | ROC-AUC: 0.9180\n",
      "Max val ROC-AUC: 0.9481\n",
      "Training with d_model=128, nhead=2, num_layers=4, dropout=0.1, lr=0.0001\n"
     ]
    },
    {
     "data": {
      "application/vnd.jupyter.widget-view+json": {
       "model_id": "6ef37f5d4b2546c58f75fbde36e24457",
       "version_major": 2,
       "version_minor": 0
      },
      "text/plain": [
       "  0%|          | 0/10 [00:00<?, ?it/s]"
      ]
     },
     "metadata": {},
     "output_type": "display_data"
    },
    {
     "name": "stdout",
     "output_type": "stream",
     "text": [
      "Epoch: 10 | Train Loss: 0.0158 | Acc: 0.9976 | Prec: 0.9993 | Recall: 0.9956 | F1: 0.9975 | ROC-AUC: 0.9996 || Test Loss: 0.2800 | Acc: 0.9395 | Prec: 0.9819 | Recall: 0.9524 | F1: 0.9669 | ROC-AUC: 0.9294\n",
      "Max val ROC-AUC: 0.9605\n",
      "Training with d_model=128, nhead=2, num_layers=4, dropout=0.1, lr=0.0001\n"
     ]
    },
    {
     "data": {
      "application/vnd.jupyter.widget-view+json": {
       "model_id": "d6ec374b12234e3c96c4236803167c44",
       "version_major": 2,
       "version_minor": 0
      },
      "text/plain": [
       "  0%|          | 0/10 [00:00<?, ?it/s]"
      ]
     },
     "metadata": {},
     "output_type": "display_data"
    },
    {
     "name": "stdout",
     "output_type": "stream",
     "text": [
      "Epoch: 10 | Train Loss: 0.0212 | Acc: 0.9943 | Prec: 0.9949 | Recall: 0.9927 | F1: 0.9938 | ROC-AUC: 0.9996 || Test Loss: 0.4229 | Acc: 0.9163 | Prec: 0.9840 | Recall: 0.9248 | F1: 0.9535 | ROC-AUC: 0.9559\n",
      "Max val ROC-AUC: 0.9559\n",
      "Training with d_model=128, nhead=2, num_layers=4, dropout=0.1, lr=0.0001\n"
     ]
    },
    {
     "data": {
      "application/vnd.jupyter.widget-view+json": {
       "model_id": "d3118107424c4b4fa8efd89210a3e422",
       "version_major": 2,
       "version_minor": 0
      },
      "text/plain": [
       "  0%|          | 0/10 [00:00<?, ?it/s]"
      ]
     },
     "metadata": {},
     "output_type": "display_data"
    },
    {
     "name": "stdout",
     "output_type": "stream",
     "text": [
      "Epoch: 10 | Train Loss: 0.0213 | Acc: 0.9960 | Prec: 0.9978 | Recall: 0.9935 | F1: 0.9956 | ROC-AUC: 0.9989 || Test Loss: 0.3487 | Acc: 0.9372 | Prec: 0.9819 | Recall: 0.9499 | F1: 0.9656 | ROC-AUC: 0.9269\n",
      "Max val ROC-AUC: 0.9399\n",
      "Training with d_model=128, nhead=2, num_layers=4, dropout=0.1, lr=0.0001\n"
     ]
    },
    {
     "data": {
      "application/vnd.jupyter.widget-view+json": {
       "model_id": "80d7af71e7154cca9bc1d30ab22feed7",
       "version_major": 2,
       "version_minor": 0
      },
      "text/plain": [
       "  0%|          | 0/10 [00:00<?, ?it/s]"
      ]
     },
     "metadata": {},
     "output_type": "display_data"
    },
    {
     "name": "stdout",
     "output_type": "stream",
     "text": [
      "Epoch: 10 | Train Loss: 0.0116 | Acc: 0.9976 | Prec: 0.9978 | Recall: 0.9971 | F1: 0.9975 | ROC-AUC: 0.9998 || Test Loss: 0.3230 | Acc: 0.9419 | Prec: 0.9770 | Recall: 0.9599 | F1: 0.9684 | ROC-AUC: 0.9229\n",
      "Max val ROC-AUC: 0.9500\n",
      "Training with d_model=128, nhead=2, num_layers=4, dropout=0.3, lr=0.001\n"
     ]
    },
    {
     "data": {
      "application/vnd.jupyter.widget-view+json": {
       "model_id": "7396a0095a994d818b426f708cfd4dd7",
       "version_major": 2,
       "version_minor": 0
      },
      "text/plain": [
       "  0%|          | 0/10 [00:00<?, ?it/s]"
      ]
     },
     "metadata": {},
     "output_type": "display_data"
    },
    {
     "name": "stdout",
     "output_type": "stream",
     "text": [
      "Epoch: 10 | Train Loss: 0.0512 | Acc: 0.9855 | Prec: 0.9876 | Recall: 0.9811 | F1: 0.9843 | ROC-AUC: 0.9979 || Test Loss: 0.5726 | Acc: 0.9070 | Prec: 0.9812 | Recall: 0.9173 | F1: 0.9482 | ROC-AUC: 0.9060\n",
      "Max val ROC-AUC: 0.9483\n",
      "Training with d_model=128, nhead=2, num_layers=4, dropout=0.3, lr=0.001\n"
     ]
    },
    {
     "data": {
      "application/vnd.jupyter.widget-view+json": {
       "model_id": "90c0c4c09ab4417490c87a298210896a",
       "version_major": 2,
       "version_minor": 0
      },
      "text/plain": [
       "  0%|          | 0/10 [00:00<?, ?it/s]"
      ]
     },
     "metadata": {},
     "output_type": "display_data"
    },
    {
     "name": "stdout",
     "output_type": "stream",
     "text": [
      "Epoch: 10 | Train Loss: 0.0594 | Acc: 0.9865 | Prec: 0.9876 | Recall: 0.9833 | F1: 0.9854 | ROC-AUC: 0.9964 || Test Loss: 0.6353 | Acc: 0.8930 | Prec: 0.9862 | Recall: 0.8972 | F1: 0.9396 | ROC-AUC: 0.9292\n",
      "Max val ROC-AUC: 0.9503\n",
      "Training with d_model=128, nhead=2, num_layers=4, dropout=0.3, lr=0.001\n"
     ]
    },
    {
     "data": {
      "application/vnd.jupyter.widget-view+json": {
       "model_id": "5a76f08f73d04caabca500573777a7d5",
       "version_major": 2,
       "version_minor": 0
      },
      "text/plain": [
       "  0%|          | 0/10 [00:00<?, ?it/s]"
      ]
     },
     "metadata": {},
     "output_type": "display_data"
    },
    {
     "name": "stdout",
     "output_type": "stream",
     "text": [
      "Epoch: 10 | Train Loss: 0.0784 | Acc: 0.9774 | Prec: 0.9859 | Recall: 0.9651 | F1: 0.9754 | ROC-AUC: 0.9946 || Test Loss: 0.5131 | Acc: 0.8930 | Prec: 0.9809 | Recall: 0.9023 | F1: 0.9399 | ROC-AUC: 0.9152\n",
      "Max val ROC-AUC: 0.9590\n",
      "Training with d_model=128, nhead=2, num_layers=4, dropout=0.3, lr=0.001\n"
     ]
    },
    {
     "data": {
      "application/vnd.jupyter.widget-view+json": {
       "model_id": "023f70bd5f5e435db840c1c996bc2c9e",
       "version_major": 2,
       "version_minor": 0
      },
      "text/plain": [
       "  0%|          | 0/10 [00:00<?, ?it/s]"
      ]
     },
     "metadata": {},
     "output_type": "display_data"
    },
    {
     "name": "stdout",
     "output_type": "stream",
     "text": [
      "Epoch: 10 | Train Loss: 0.0418 | Acc: 0.9889 | Prec: 0.9905 | Recall: 0.9855 | F1: 0.9880 | ROC-AUC: 0.9971 || Test Loss: 0.4623 | Acc: 0.9070 | Prec: 0.9761 | Recall: 0.9223 | F1: 0.9485 | ROC-AUC: 0.9180\n",
      "Max val ROC-AUC: 0.9450\n",
      "Training with d_model=128, nhead=2, num_layers=4, dropout=0.3, lr=0.0001\n"
     ]
    },
    {
     "data": {
      "application/vnd.jupyter.widget-view+json": {
       "model_id": "d3790ff9a6e04ab39342d15c244b6257",
       "version_major": 2,
       "version_minor": 0
      },
      "text/plain": [
       "  0%|          | 0/10 [00:00<?, ?it/s]"
      ]
     },
     "metadata": {},
     "output_type": "display_data"
    },
    {
     "name": "stdout",
     "output_type": "stream",
     "text": [
      "Epoch: 10 | Train Loss: 0.0466 | Acc: 0.9865 | Prec: 0.9912 | Recall: 0.9797 | F1: 0.9854 | ROC-AUC: 0.9973 || Test Loss: 0.3441 | Acc: 0.9140 | Prec: 0.9840 | Recall: 0.9223 | F1: 0.9521 | ROC-AUC: 0.9433\n",
      "Max val ROC-AUC: 0.9588\n",
      "Training with d_model=128, nhead=2, num_layers=4, dropout=0.3, lr=0.0001\n"
     ]
    },
    {
     "data": {
      "application/vnd.jupyter.widget-view+json": {
       "model_id": "719c8b9e1edf4646a02a37fa29662560",
       "version_major": 2,
       "version_minor": 0
      },
      "text/plain": [
       "  0%|          | 0/10 [00:00<?, ?it/s]"
      ]
     },
     "metadata": {},
     "output_type": "display_data"
    },
    {
     "name": "stdout",
     "output_type": "stream",
     "text": [
      "Epoch: 10 | Train Loss: 0.0511 | Acc: 0.9835 | Prec: 0.9890 | Recall: 0.9753 | F1: 0.9821 | ROC-AUC: 0.9978 || Test Loss: 0.3085 | Acc: 0.9372 | Prec: 0.9819 | Recall: 0.9499 | F1: 0.9656 | ROC-AUC: 0.9317\n",
      "Max val ROC-AUC: 0.9390\n",
      "Training with d_model=128, nhead=2, num_layers=4, dropout=0.3, lr=0.0001\n"
     ]
    },
    {
     "data": {
      "application/vnd.jupyter.widget-view+json": {
       "model_id": "83ec930203e14efe82e6975b9ed582b3",
       "version_major": 2,
       "version_minor": 0
      },
      "text/plain": [
       "  0%|          | 0/10 [00:00<?, ?it/s]"
      ]
     },
     "metadata": {},
     "output_type": "display_data"
    },
    {
     "name": "stdout",
     "output_type": "stream",
     "text": [
      "Epoch: 10 | Train Loss: 0.0453 | Acc: 0.9885 | Prec: 0.9891 | Recall: 0.9862 | F1: 0.9876 | ROC-AUC: 0.9971 || Test Loss: 0.2894 | Acc: 0.9442 | Prec: 0.9845 | Recall: 0.9549 | F1: 0.9695 | ROC-AUC: 0.9187\n",
      "Max val ROC-AUC: 0.9647\n",
      "Training with d_model=128, nhead=2, num_layers=4, dropout=0.3, lr=0.0001\n"
     ]
    },
    {
     "data": {
      "application/vnd.jupyter.widget-view+json": {
       "model_id": "68dca1fb1dba456ab2d53a851fe2c01b",
       "version_major": 2,
       "version_minor": 0
      },
      "text/plain": [
       "  0%|          | 0/10 [00:00<?, ?it/s]"
      ]
     },
     "metadata": {},
     "output_type": "display_data"
    },
    {
     "name": "stdout",
     "output_type": "stream",
     "text": [
      "Epoch: 10 | Train Loss: 0.0361 | Acc: 0.9906 | Prec: 0.9941 | Recall: 0.9855 | F1: 0.9898 | ROC-AUC: 0.9991 || Test Loss: 0.4087 | Acc: 0.9070 | Prec: 0.9838 | Recall: 0.9148 | F1: 0.9481 | ROC-AUC: 0.9459\n",
      "Max val ROC-AUC: 0.9521\n",
      "Training with d_model=128, nhead=2, num_layers=6, dropout=0.1, lr=0.001\n"
     ]
    },
    {
     "data": {
      "application/vnd.jupyter.widget-view+json": {
       "model_id": "bfd701097b0f4f69a678fd842e5800ec",
       "version_major": 2,
       "version_minor": 0
      },
      "text/plain": [
       "  0%|          | 0/10 [00:00<?, ?it/s]"
      ]
     },
     "metadata": {},
     "output_type": "display_data"
    },
    {
     "name": "stdout",
     "output_type": "stream",
     "text": [
      "Epoch: 10 | Train Loss: 0.0465 | Acc: 0.9879 | Prec: 0.9934 | Recall: 0.9804 | F1: 0.9868 | ROC-AUC: 0.9963 || Test Loss: 0.4500 | Acc: 0.9163 | Prec: 0.9814 | Recall: 0.9273 | F1: 0.9536 | ROC-AUC: 0.9087\n",
      "Max val ROC-AUC: 0.9527\n",
      "Training with d_model=128, nhead=2, num_layers=6, dropout=0.1, lr=0.001\n"
     ]
    },
    {
     "data": {
      "application/vnd.jupyter.widget-view+json": {
       "model_id": "b2a3f39af8754efdb70c9cb606e04235",
       "version_major": 2,
       "version_minor": 0
      },
      "text/plain": [
       "  0%|          | 0/10 [00:00<?, ?it/s]"
      ]
     },
     "metadata": {},
     "output_type": "display_data"
    },
    {
     "name": "stdout",
     "output_type": "stream",
     "text": [
      "Epoch: 10 | Train Loss: 0.0385 | Acc: 0.9875 | Prec: 0.9919 | Recall: 0.9811 | F1: 0.9865 | ROC-AUC: 0.9988 || Test Loss: 0.4035 | Acc: 0.9140 | Prec: 0.9866 | Recall: 0.9198 | F1: 0.9520 | ROC-AUC: 0.9365\n",
      "Max val ROC-AUC: 0.9677\n",
      "Training with d_model=128, nhead=2, num_layers=6, dropout=0.1, lr=0.001\n"
     ]
    },
    {
     "data": {
      "application/vnd.jupyter.widget-view+json": {
       "model_id": "7e636beb786946c08c2dabe9d7ca8bfd",
       "version_major": 2,
       "version_minor": 0
      },
      "text/plain": [
       "  0%|          | 0/10 [00:00<?, ?it/s]"
      ]
     },
     "metadata": {},
     "output_type": "display_data"
    },
    {
     "name": "stdout",
     "output_type": "stream",
     "text": [
      "Epoch: 10 | Train Loss: 0.0269 | Acc: 0.9923 | Prec: 0.9956 | Recall: 0.9877 | F1: 0.9916 | ROC-AUC: 0.9990 || Test Loss: 0.4073 | Acc: 0.9302 | Prec: 0.9817 | Recall: 0.9424 | F1: 0.9616 | ROC-AUC: 0.9031\n",
      "Max val ROC-AUC: 0.9500\n",
      "Training with d_model=128, nhead=2, num_layers=6, dropout=0.1, lr=0.001\n"
     ]
    },
    {
     "data": {
      "application/vnd.jupyter.widget-view+json": {
       "model_id": "add9ce721dfc498c93785ad67ae2a9ec",
       "version_major": 2,
       "version_minor": 0
      },
      "text/plain": [
       "  0%|          | 0/10 [00:00<?, ?it/s]"
      ]
     },
     "metadata": {},
     "output_type": "display_data"
    },
    {
     "name": "stdout",
     "output_type": "stream",
     "text": [
      "Epoch: 10 | Train Loss: 0.0412 | Acc: 0.9899 | Prec: 0.9920 | Recall: 0.9862 | F1: 0.9891 | ROC-AUC: 0.9975 || Test Loss: 0.2944 | Acc: 0.9256 | Prec: 0.9842 | Recall: 0.9348 | F1: 0.9589 | ROC-AUC: 0.9458\n",
      "Max val ROC-AUC: 0.9586\n",
      "Training with d_model=128, nhead=2, num_layers=6, dropout=0.1, lr=0.0001\n"
     ]
    },
    {
     "data": {
      "application/vnd.jupyter.widget-view+json": {
       "model_id": "a09259d8ca2a4fdc83f5ac00a73eec62",
       "version_major": 2,
       "version_minor": 0
      },
      "text/plain": [
       "  0%|          | 0/10 [00:00<?, ?it/s]"
      ]
     },
     "metadata": {},
     "output_type": "display_data"
    },
    {
     "name": "stdout",
     "output_type": "stream",
     "text": [
      "Epoch: 10 | Train Loss: 0.0120 | Acc: 0.9976 | Prec: 0.9971 | Recall: 0.9978 | F1: 0.9975 | ROC-AUC: 0.9999 || Test Loss: 0.3588 | Acc: 0.9279 | Prec: 0.9817 | Recall: 0.9398 | F1: 0.9603 | ROC-AUC: 0.9378\n",
      "Max val ROC-AUC: 0.9606\n",
      "Training with d_model=128, nhead=2, num_layers=6, dropout=0.1, lr=0.0001\n"
     ]
    },
    {
     "data": {
      "application/vnd.jupyter.widget-view+json": {
       "model_id": "32518a25f7be48909a53e0bb8c11988f",
       "version_major": 2,
       "version_minor": 0
      },
      "text/plain": [
       "  0%|          | 0/10 [00:00<?, ?it/s]"
      ]
     },
     "metadata": {},
     "output_type": "display_data"
    },
    {
     "name": "stdout",
     "output_type": "stream",
     "text": [
      "Epoch: 10 | Train Loss: 0.0195 | Acc: 0.9946 | Prec: 0.9964 | Recall: 0.9920 | F1: 0.9942 | ROC-AUC: 0.9995 || Test Loss: 0.3191 | Acc: 0.9302 | Prec: 0.9843 | Recall: 0.9398 | F1: 0.9615 | ROC-AUC: 0.9560\n",
      "Max val ROC-AUC: 0.9617\n",
      "Training with d_model=128, nhead=2, num_layers=6, dropout=0.1, lr=0.0001\n"
     ]
    },
    {
     "data": {
      "application/vnd.jupyter.widget-view+json": {
       "model_id": "5703a40c66294cf88d58a6a399c89a84",
       "version_major": 2,
       "version_minor": 0
      },
      "text/plain": [
       "  0%|          | 0/10 [00:00<?, ?it/s]"
      ]
     },
     "metadata": {},
     "output_type": "display_data"
    },
    {
     "name": "stdout",
     "output_type": "stream",
     "text": [
      "Epoch: 10 | Train Loss: 0.0171 | Acc: 0.9946 | Prec: 0.9956 | Recall: 0.9927 | F1: 0.9942 | ROC-AUC: 0.9994 || Test Loss: 0.4167 | Acc: 0.9186 | Prec: 0.9764 | Recall: 0.9348 | F1: 0.9552 | ROC-AUC: 0.9371\n",
      "Max val ROC-AUC: 0.9529\n",
      "Training with d_model=128, nhead=2, num_layers=6, dropout=0.1, lr=0.0001\n"
     ]
    },
    {
     "data": {
      "application/vnd.jupyter.widget-view+json": {
       "model_id": "778d2f9847ec4ac09251ac30c2c1ba9a",
       "version_major": 2,
       "version_minor": 0
      },
      "text/plain": [
       "  0%|          | 0/10 [00:00<?, ?it/s]"
      ]
     },
     "metadata": {},
     "output_type": "display_data"
    },
    {
     "name": "stdout",
     "output_type": "stream",
     "text": [
      "Epoch: 10 | Train Loss: 0.0122 | Acc: 0.9976 | Prec: 0.9985 | Recall: 0.9964 | F1: 0.9975 | ROC-AUC: 0.9997 || Test Loss: 0.2973 | Acc: 0.9442 | Prec: 0.9771 | Recall: 0.9624 | F1: 0.9697 | ROC-AUC: 0.9251\n",
      "Max val ROC-AUC: 0.9525\n",
      "Training with d_model=128, nhead=2, num_layers=6, dropout=0.3, lr=0.001\n"
     ]
    },
    {
     "data": {
      "application/vnd.jupyter.widget-view+json": {
       "model_id": "b5f8b646c5084e89a57f81bb43dce343",
       "version_major": 2,
       "version_minor": 0
      },
      "text/plain": [
       "  0%|          | 0/10 [00:00<?, ?it/s]"
      ]
     },
     "metadata": {},
     "output_type": "display_data"
    },
    {
     "name": "stdout",
     "output_type": "stream",
     "text": [
      "Epoch: 10 | Train Loss: 0.0556 | Acc: 0.9832 | Prec: 0.9904 | Recall: 0.9731 | F1: 0.9817 | ROC-AUC: 0.9967 || Test Loss: 0.5005 | Acc: 0.8907 | Prec: 0.9889 | Recall: 0.8922 | F1: 0.9381 | ROC-AUC: 0.9465\n",
      "Max val ROC-AUC: 0.9499\n",
      "Training with d_model=128, nhead=2, num_layers=6, dropout=0.3, lr=0.001\n"
     ]
    },
    {
     "data": {
      "application/vnd.jupyter.widget-view+json": {
       "model_id": "5127812d1f2e4789a29fb1f019227c00",
       "version_major": 2,
       "version_minor": 0
      },
      "text/plain": [
       "  0%|          | 0/10 [00:00<?, ?it/s]"
      ]
     },
     "metadata": {},
     "output_type": "display_data"
    },
    {
     "name": "stdout",
     "output_type": "stream",
     "text": [
      "Epoch: 10 | Train Loss: 0.0591 | Acc: 0.9859 | Prec: 0.9890 | Recall: 0.9804 | F1: 0.9847 | ROC-AUC: 0.9958 || Test Loss: 0.3998 | Acc: 0.9256 | Prec: 0.9791 | Recall: 0.9398 | F1: 0.9591 | ROC-AUC: 0.9375\n",
      "Max val ROC-AUC: 0.9538\n",
      "Training with d_model=128, nhead=2, num_layers=6, dropout=0.3, lr=0.001\n"
     ]
    },
    {
     "data": {
      "application/vnd.jupyter.widget-view+json": {
       "model_id": "a1165de1acd24953a1a3bea6aeba8340",
       "version_major": 2,
       "version_minor": 0
      },
      "text/plain": [
       "  0%|          | 0/10 [00:00<?, ?it/s]"
      ]
     },
     "metadata": {},
     "output_type": "display_data"
    },
    {
     "name": "stdout",
     "output_type": "stream",
     "text": [
      "Epoch: 10 | Train Loss: 0.0463 | Acc: 0.9852 | Prec: 0.9926 | Recall: 0.9753 | F1: 0.9839 | ROC-AUC: 0.9980 || Test Loss: 0.4756 | Acc: 0.9186 | Prec: 0.9840 | Recall: 0.9273 | F1: 0.9548 | ROC-AUC: 0.9225\n",
      "Max val ROC-AUC: 0.9492\n",
      "Training with d_model=128, nhead=2, num_layers=6, dropout=0.3, lr=0.001\n"
     ]
    },
    {
     "data": {
      "application/vnd.jupyter.widget-view+json": {
       "model_id": "dea2578329bf4f96a45c72b31d73cc81",
       "version_major": 2,
       "version_minor": 0
      },
      "text/plain": [
       "  0%|          | 0/10 [00:00<?, ?it/s]"
      ]
     },
     "metadata": {},
     "output_type": "display_data"
    },
    {
     "name": "stdout",
     "output_type": "stream",
     "text": [
      "Epoch: 10 | Train Loss: 0.0524 | Acc: 0.9862 | Prec: 0.9926 | Recall: 0.9775 | F1: 0.9850 | ROC-AUC: 0.9969 || Test Loss: 0.4230 | Acc: 0.9093 | Prec: 0.9865 | Recall: 0.9148 | F1: 0.9493 | ROC-AUC: 0.9250\n",
      "Max val ROC-AUC: 0.9610\n",
      "Training with d_model=128, nhead=2, num_layers=6, dropout=0.3, lr=0.0001\n"
     ]
    },
    {
     "data": {
      "application/vnd.jupyter.widget-view+json": {
       "model_id": "07ae49169a2448d6acfc4c11db9e46c7",
       "version_major": 2,
       "version_minor": 0
      },
      "text/plain": [
       "  0%|          | 0/10 [00:00<?, ?it/s]"
      ]
     },
     "metadata": {},
     "output_type": "display_data"
    },
    {
     "name": "stdout",
     "output_type": "stream",
     "text": [
      "Epoch: 10 | Train Loss: 0.0451 | Acc: 0.9879 | Prec: 0.9948 | Recall: 0.9789 | F1: 0.9868 | ROC-AUC: 0.9976 || Test Loss: 0.3167 | Acc: 0.9256 | Prec: 0.9816 | Recall: 0.9373 | F1: 0.9590 | ROC-AUC: 0.9141\n",
      "Max val ROC-AUC: 0.9515\n",
      "Training with d_model=128, nhead=2, num_layers=6, dropout=0.3, lr=0.0001\n"
     ]
    },
    {
     "data": {
      "application/vnd.jupyter.widget-view+json": {
       "model_id": "8a1b48807fc4429681eda77bc5cb86fa",
       "version_major": 2,
       "version_minor": 0
      },
      "text/plain": [
       "  0%|          | 0/10 [00:00<?, ?it/s]"
      ]
     },
     "metadata": {},
     "output_type": "display_data"
    },
    {
     "name": "stdout",
     "output_type": "stream",
     "text": [
      "Epoch: 10 | Train Loss: 0.0459 | Acc: 0.9879 | Prec: 0.9912 | Recall: 0.9826 | F1: 0.9869 | ROC-AUC: 0.9971 || Test Loss: 0.3029 | Acc: 0.9209 | Prec: 0.9815 | Recall: 0.9323 | F1: 0.9563 | ROC-AUC: 0.9407\n",
      "Max val ROC-AUC: 0.9477\n",
      "Training with d_model=128, nhead=2, num_layers=6, dropout=0.3, lr=0.0001\n"
     ]
    },
    {
     "data": {
      "application/vnd.jupyter.widget-view+json": {
       "model_id": "f2c46544ab1f4830864eb4b9d8c06089",
       "version_major": 2,
       "version_minor": 0
      },
      "text/plain": [
       "  0%|          | 0/10 [00:00<?, ?it/s]"
      ]
     },
     "metadata": {},
     "output_type": "display_data"
    },
    {
     "name": "stdout",
     "output_type": "stream",
     "text": [
      "Epoch: 10 | Train Loss: 0.0391 | Acc: 0.9885 | Prec: 0.9891 | Recall: 0.9862 | F1: 0.9876 | ROC-AUC: 0.9983 || Test Loss: 0.3572 | Acc: 0.9023 | Prec: 0.9837 | Recall: 0.9098 | F1: 0.9453 | ROC-AUC: 0.9357\n",
      "Max val ROC-AUC: 0.9525\n",
      "Training with d_model=128, nhead=2, num_layers=6, dropout=0.3, lr=0.0001\n"
     ]
    },
    {
     "data": {
      "application/vnd.jupyter.widget-view+json": {
       "model_id": "6dd74af754434a0d89eba92300d41e8d",
       "version_major": 2,
       "version_minor": 0
      },
      "text/plain": [
       "  0%|          | 0/10 [00:00<?, ?it/s]"
      ]
     },
     "metadata": {},
     "output_type": "display_data"
    },
    {
     "name": "stdout",
     "output_type": "stream",
     "text": [
      "Epoch: 10 | Train Loss: 0.0382 | Acc: 0.9912 | Prec: 0.9941 | Recall: 0.9869 | F1: 0.9905 | ROC-AUC: 0.9980 || Test Loss: 0.3492 | Acc: 0.9163 | Prec: 0.9866 | Recall: 0.9223 | F1: 0.9534 | ROC-AUC: 0.9457\n",
      "Max val ROC-AUC: 0.9544\n",
      "Training with d_model=128, nhead=4, num_layers=2, dropout=0.1, lr=0.001\n"
     ]
    },
    {
     "data": {
      "application/vnd.jupyter.widget-view+json": {
       "model_id": "8ad0fec96e6e4481804fbdbfe6b92401",
       "version_major": 2,
       "version_minor": 0
      },
      "text/plain": [
       "  0%|          | 0/10 [00:00<?, ?it/s]"
      ]
     },
     "metadata": {},
     "output_type": "display_data"
    },
    {
     "name": "stdout",
     "output_type": "stream",
     "text": [
      "Epoch: 10 | Train Loss: 0.0437 | Acc: 0.9848 | Prec: 0.9912 | Recall: 0.9760 | F1: 0.9835 | ROC-AUC: 0.9985 || Test Loss: 0.3892 | Acc: 0.9279 | Prec: 0.9817 | Recall: 0.9398 | F1: 0.9603 | ROC-AUC: 0.9097\n",
      "Max val ROC-AUC: 0.9455\n",
      "Training with d_model=128, nhead=4, num_layers=2, dropout=0.1, lr=0.001\n"
     ]
    },
    {
     "data": {
      "application/vnd.jupyter.widget-view+json": {
       "model_id": "9b4581069ce3426f998bb4276afd73ce",
       "version_major": 2,
       "version_minor": 0
      },
      "text/plain": [
       "  0%|          | 0/10 [00:00<?, ?it/s]"
      ]
     },
     "metadata": {},
     "output_type": "display_data"
    },
    {
     "name": "stdout",
     "output_type": "stream",
     "text": [
      "Epoch: 10 | Train Loss: 0.0310 | Acc: 0.9919 | Prec: 0.9956 | Recall: 0.9869 | F1: 0.9912 | ROC-AUC: 0.9987 || Test Loss: 0.3931 | Acc: 0.9349 | Prec: 0.9793 | Recall: 0.9499 | F1: 0.9644 | ROC-AUC: 0.9487\n",
      "Max val ROC-AUC: 0.9561\n",
      "Training with d_model=128, nhead=4, num_layers=2, dropout=0.1, lr=0.001\n"
     ]
    },
    {
     "data": {
      "application/vnd.jupyter.widget-view+json": {
       "model_id": "b562eea78f1340be8dfe25908d91d6f4",
       "version_major": 2,
       "version_minor": 0
      },
      "text/plain": [
       "  0%|          | 0/10 [00:00<?, ?it/s]"
      ]
     },
     "metadata": {},
     "output_type": "display_data"
    },
    {
     "name": "stdout",
     "output_type": "stream",
     "text": [
      "Epoch: 10 | Train Loss: 0.0238 | Acc: 0.9936 | Prec: 0.9963 | Recall: 0.9898 | F1: 0.9931 | ROC-AUC: 0.9993 || Test Loss: 0.3830 | Acc: 0.9233 | Prec: 0.9791 | Recall: 0.9373 | F1: 0.9577 | ROC-AUC: 0.9473\n",
      "Max val ROC-AUC: 0.9555\n",
      "Training with d_model=128, nhead=4, num_layers=2, dropout=0.1, lr=0.001\n"
     ]
    },
    {
     "data": {
      "application/vnd.jupyter.widget-view+json": {
       "model_id": "1459998aaaf34ba0a052f90402d98495",
       "version_major": 2,
       "version_minor": 0
      },
      "text/plain": [
       "  0%|          | 0/10 [00:00<?, ?it/s]"
      ]
     },
     "metadata": {},
     "output_type": "display_data"
    },
    {
     "name": "stdout",
     "output_type": "stream",
     "text": [
      "Epoch: 10 | Train Loss: 0.0367 | Acc: 0.9875 | Prec: 0.9912 | Recall: 0.9818 | F1: 0.9865 | ROC-AUC: 0.9988 || Test Loss: 0.3159 | Acc: 0.9279 | Prec: 0.9817 | Recall: 0.9398 | F1: 0.9603 | ROC-AUC: 0.9552\n",
      "Max val ROC-AUC: 0.9552\n",
      "Training with d_model=128, nhead=4, num_layers=2, dropout=0.1, lr=0.0001\n"
     ]
    },
    {
     "data": {
      "application/vnd.jupyter.widget-view+json": {
       "model_id": "f45704e1ed214e3e85e24a158309cfba",
       "version_major": 2,
       "version_minor": 0
      },
      "text/plain": [
       "  0%|          | 0/10 [00:00<?, ?it/s]"
      ]
     },
     "metadata": {},
     "output_type": "display_data"
    },
    {
     "name": "stdout",
     "output_type": "stream",
     "text": [
      "Epoch: 10 | Train Loss: 0.0215 | Acc: 0.9960 | Prec: 0.9971 | Recall: 0.9942 | F1: 0.9956 | ROC-AUC: 0.9989 || Test Loss: 0.2579 | Acc: 0.9395 | Prec: 0.9819 | Recall: 0.9524 | F1: 0.9669 | ROC-AUC: 0.9529\n",
      "Max val ROC-AUC: 0.9648\n",
      "Training with d_model=128, nhead=4, num_layers=2, dropout=0.1, lr=0.0001\n"
     ]
    },
    {
     "data": {
      "application/vnd.jupyter.widget-view+json": {
       "model_id": "8e6ef2a3d4d545c7ac4c4f8e06b7e2e1",
       "version_major": 2,
       "version_minor": 0
      },
      "text/plain": [
       "  0%|          | 0/10 [00:00<?, ?it/s]"
      ]
     },
     "metadata": {},
     "output_type": "display_data"
    },
    {
     "name": "stdout",
     "output_type": "stream",
     "text": [
      "Epoch: 10 | Train Loss: 0.0214 | Acc: 0.9933 | Prec: 0.9949 | Recall: 0.9906 | F1: 0.9927 | ROC-AUC: 0.9995 || Test Loss: 0.3007 | Acc: 0.9442 | Prec: 0.9795 | Recall: 0.9599 | F1: 0.9696 | ROC-AUC: 0.9116\n",
      "Max val ROC-AUC: 0.9567\n",
      "Training with d_model=128, nhead=4, num_layers=2, dropout=0.1, lr=0.0001\n"
     ]
    },
    {
     "data": {
      "application/vnd.jupyter.widget-view+json": {
       "model_id": "1bd044823a19465388a02ec358a13cd0",
       "version_major": 2,
       "version_minor": 0
      },
      "text/plain": [
       "  0%|          | 0/10 [00:00<?, ?it/s]"
      ]
     },
     "metadata": {},
     "output_type": "display_data"
    },
    {
     "name": "stdout",
     "output_type": "stream",
     "text": [
      "Epoch: 10 | Train Loss: 0.0188 | Acc: 0.9939 | Prec: 0.9942 | Recall: 0.9927 | F1: 0.9935 | ROC-AUC: 0.9997 || Test Loss: 0.2808 | Acc: 0.9349 | Prec: 0.9769 | Recall: 0.9524 | F1: 0.9645 | ROC-AUC: 0.9263\n",
      "Max val ROC-AUC: 0.9540\n",
      "Training with d_model=128, nhead=4, num_layers=2, dropout=0.1, lr=0.0001\n"
     ]
    },
    {
     "data": {
      "application/vnd.jupyter.widget-view+json": {
       "model_id": "e2d7904169974fe7b5f5471345da8d83",
       "version_major": 2,
       "version_minor": 0
      },
      "text/plain": [
       "  0%|          | 0/10 [00:00<?, ?it/s]"
      ]
     },
     "metadata": {},
     "output_type": "display_data"
    },
    {
     "name": "stdout",
     "output_type": "stream",
     "text": [
      "Epoch: 10 | Train Loss: 0.0163 | Acc: 0.9956 | Prec: 0.9971 | Recall: 0.9935 | F1: 0.9953 | ROC-AUC: 0.9994 || Test Loss: 0.2730 | Acc: 0.9372 | Prec: 0.9844 | Recall: 0.9474 | F1: 0.9655 | ROC-AUC: 0.9496\n",
      "Max val ROC-AUC: 0.9526\n",
      "Training with d_model=128, nhead=4, num_layers=2, dropout=0.3, lr=0.001\n"
     ]
    },
    {
     "data": {
      "application/vnd.jupyter.widget-view+json": {
       "model_id": "290f0945197c40cca8612e97caa1353f",
       "version_major": 2,
       "version_minor": 0
      },
      "text/plain": [
       "  0%|          | 0/10 [00:00<?, ?it/s]"
      ]
     },
     "metadata": {},
     "output_type": "display_data"
    },
    {
     "name": "stdout",
     "output_type": "stream",
     "text": [
      "Epoch: 10 | Train Loss: 0.0315 | Acc: 0.9902 | Prec: 0.9941 | Recall: 0.9847 | F1: 0.9894 | ROC-AUC: 0.9990 || Test Loss: 0.4867 | Acc: 0.9000 | Prec: 0.9785 | Recall: 0.9123 | F1: 0.9442 | ROC-AUC: 0.9499\n",
      "Max val ROC-AUC: 0.9583\n",
      "Training with d_model=128, nhead=4, num_layers=2, dropout=0.3, lr=0.001\n"
     ]
    },
    {
     "data": {
      "application/vnd.jupyter.widget-view+json": {
       "model_id": "18110e46883344348caa9f57b5ff905b",
       "version_major": 2,
       "version_minor": 0
      },
      "text/plain": [
       "  0%|          | 0/10 [00:00<?, ?it/s]"
      ]
     },
     "metadata": {},
     "output_type": "display_data"
    },
    {
     "name": "stdout",
     "output_type": "stream",
     "text": [
      "Epoch: 10 | Train Loss: 0.0408 | Acc: 0.9875 | Prec: 0.9926 | Recall: 0.9804 | F1: 0.9865 | ROC-AUC: 0.9987 || Test Loss: 0.4670 | Acc: 0.9186 | Prec: 0.9764 | Recall: 0.9348 | F1: 0.9552 | ROC-AUC: 0.9131\n",
      "Max val ROC-AUC: 0.9351\n",
      "Training with d_model=128, nhead=4, num_layers=2, dropout=0.3, lr=0.001\n"
     ]
    },
    {
     "data": {
      "application/vnd.jupyter.widget-view+json": {
       "model_id": "a68565824f634fc7b9abd71d7c234ecc",
       "version_major": 2,
       "version_minor": 0
      },
      "text/plain": [
       "  0%|          | 0/10 [00:00<?, ?it/s]"
      ]
     },
     "metadata": {},
     "output_type": "display_data"
    },
    {
     "name": "stdout",
     "output_type": "stream",
     "text": [
      "Epoch: 10 | Train Loss: 0.0276 | Acc: 0.9919 | Prec: 0.9942 | Recall: 0.9884 | F1: 0.9913 | ROC-AUC: 0.9993 || Test Loss: 0.5691 | Acc: 0.9047 | Prec: 0.9812 | Recall: 0.9148 | F1: 0.9468 | ROC-AUC: 0.9240\n",
      "Max val ROC-AUC: 0.9429\n",
      "Training with d_model=128, nhead=4, num_layers=2, dropout=0.3, lr=0.001\n"
     ]
    },
    {
     "data": {
      "application/vnd.jupyter.widget-view+json": {
       "model_id": "d36831d0160541bdb39a13f1b194f742",
       "version_major": 2,
       "version_minor": 0
      },
      "text/plain": [
       "  0%|          | 0/10 [00:00<?, ?it/s]"
      ]
     },
     "metadata": {},
     "output_type": "display_data"
    },
    {
     "name": "stdout",
     "output_type": "stream",
     "text": [
      "Epoch: 10 | Train Loss: 0.0458 | Acc: 0.9882 | Prec: 0.9891 | Recall: 0.9855 | F1: 0.9873 | ROC-AUC: 0.9974 || Test Loss: 0.4517 | Acc: 0.9093 | Prec: 0.9839 | Recall: 0.9173 | F1: 0.9494 | ROC-AUC: 0.9452\n",
      "Max val ROC-AUC: 0.9452\n",
      "Training with d_model=128, nhead=4, num_layers=2, dropout=0.3, lr=0.0001\n"
     ]
    },
    {
     "data": {
      "application/vnd.jupyter.widget-view+json": {
       "model_id": "83c910b1e1ce42869ca852654da9a0b8",
       "version_major": 2,
       "version_minor": 0
      },
      "text/plain": [
       "  0%|          | 0/10 [00:00<?, ?it/s]"
      ]
     },
     "metadata": {},
     "output_type": "display_data"
    },
    {
     "name": "stdout",
     "output_type": "stream",
     "text": [
      "Epoch: 10 | Train Loss: 0.0516 | Acc: 0.9859 | Prec: 0.9862 | Recall: 0.9833 | F1: 0.9847 | ROC-AUC: 0.9973 || Test Loss: 0.2636 | Acc: 0.9349 | Prec: 0.9818 | Recall: 0.9474 | F1: 0.9643 | ROC-AUC: 0.9130\n",
      "Max val ROC-AUC: 0.9634\n",
      "Training with d_model=128, nhead=4, num_layers=2, dropout=0.3, lr=0.0001\n"
     ]
    },
    {
     "data": {
      "application/vnd.jupyter.widget-view+json": {
       "model_id": "865fbdc472904d16890af8fd361b0796",
       "version_major": 2,
       "version_minor": 0
      },
      "text/plain": [
       "  0%|          | 0/10 [00:00<?, ?it/s]"
      ]
     },
     "metadata": {},
     "output_type": "display_data"
    },
    {
     "name": "stdout",
     "output_type": "stream",
     "text": [
      "Epoch: 10 | Train Loss: 0.0485 | Acc: 0.9848 | Prec: 0.9897 | Recall: 0.9775 | F1: 0.9836 | ROC-AUC: 0.9984 || Test Loss: 0.2761 | Acc: 0.9256 | Prec: 0.9842 | Recall: 0.9348 | F1: 0.9589 | ROC-AUC: 0.9462\n",
      "Max val ROC-AUC: 0.9561\n",
      "Training with d_model=128, nhead=4, num_layers=2, dropout=0.3, lr=0.0001\n"
     ]
    },
    {
     "data": {
      "application/vnd.jupyter.widget-view+json": {
       "model_id": "3d84031af6d94a0a9c575864f1e91d2a",
       "version_major": 2,
       "version_minor": 0
      },
      "text/plain": [
       "  0%|          | 0/10 [00:00<?, ?it/s]"
      ]
     },
     "metadata": {},
     "output_type": "display_data"
    },
    {
     "name": "stdout",
     "output_type": "stream",
     "text": [
      "Epoch: 10 | Train Loss: 0.0587 | Acc: 0.9805 | Prec: 0.9824 | Recall: 0.9753 | F1: 0.9789 | ROC-AUC: 0.9974 || Test Loss: 0.3102 | Acc: 0.9302 | Prec: 0.9843 | Recall: 0.9398 | F1: 0.9615 | ROC-AUC: 0.9317\n",
      "Max val ROC-AUC: 0.9611\n",
      "Training with d_model=128, nhead=4, num_layers=2, dropout=0.3, lr=0.0001\n"
     ]
    },
    {
     "data": {
      "application/vnd.jupyter.widget-view+json": {
       "model_id": "1f0ed01d69b942c6b48292ef90d6d227",
       "version_major": 2,
       "version_minor": 0
      },
      "text/plain": [
       "  0%|          | 0/10 [00:00<?, ?it/s]"
      ]
     },
     "metadata": {},
     "output_type": "display_data"
    },
    {
     "name": "stdout",
     "output_type": "stream",
     "text": [
      "Epoch: 10 | Train Loss: 0.0564 | Acc: 0.9818 | Prec: 0.9875 | Recall: 0.9731 | F1: 0.9802 | ROC-AUC: 0.9974 || Test Loss: 0.2622 | Acc: 0.9256 | Prec: 0.9816 | Recall: 0.9373 | F1: 0.9590 | ROC-AUC: 0.9267\n",
      "Max val ROC-AUC: 0.9645\n",
      "Training with d_model=128, nhead=4, num_layers=4, dropout=0.1, lr=0.001\n"
     ]
    },
    {
     "data": {
      "application/vnd.jupyter.widget-view+json": {
       "model_id": "956695c3fb554e21906429dabfeaf921",
       "version_major": 2,
       "version_minor": 0
      },
      "text/plain": [
       "  0%|          | 0/10 [00:00<?, ?it/s]"
      ]
     },
     "metadata": {},
     "output_type": "display_data"
    },
    {
     "name": "stdout",
     "output_type": "stream",
     "text": [
      "Epoch: 10 | Train Loss: 0.0317 | Acc: 0.9889 | Prec: 0.9891 | Recall: 0.9869 | F1: 0.9880 | ROC-AUC: 0.9989 || Test Loss: 0.5424 | Acc: 0.8930 | Prec: 0.9809 | Recall: 0.9023 | F1: 0.9399 | ROC-AUC: 0.9128\n",
      "Max val ROC-AUC: 0.9473\n",
      "Training with d_model=128, nhead=4, num_layers=4, dropout=0.1, lr=0.001\n"
     ]
    },
    {
     "data": {
      "application/vnd.jupyter.widget-view+json": {
       "model_id": "2888f6e5d02e445190ca73456c78b316",
       "version_major": 2,
       "version_minor": 0
      },
      "text/plain": [
       "  0%|          | 0/10 [00:00<?, ?it/s]"
      ]
     },
     "metadata": {},
     "output_type": "display_data"
    },
    {
     "name": "stdout",
     "output_type": "stream",
     "text": [
      "Epoch: 10 | Train Loss: 0.0309 | Acc: 0.9919 | Prec: 0.9942 | Recall: 0.9884 | F1: 0.9913 | ROC-AUC: 0.9983 || Test Loss: 0.2743 | Acc: 0.9349 | Prec: 0.9869 | Recall: 0.9424 | F1: 0.9641 | ROC-AUC: 0.9594\n",
      "Max val ROC-AUC: 0.9594\n",
      "Training with d_model=128, nhead=4, num_layers=4, dropout=0.1, lr=0.001\n"
     ]
    },
    {
     "data": {
      "application/vnd.jupyter.widget-view+json": {
       "model_id": "6b8e11222e6d41f292277bfe574452f4",
       "version_major": 2,
       "version_minor": 0
      },
      "text/plain": [
       "  0%|          | 0/10 [00:00<?, ?it/s]"
      ]
     },
     "metadata": {},
     "output_type": "display_data"
    },
    {
     "name": "stdout",
     "output_type": "stream",
     "text": [
      "Epoch: 10 | Train Loss: 0.0329 | Acc: 0.9912 | Prec: 0.9941 | Recall: 0.9869 | F1: 0.9905 | ROC-AUC: 0.9991 || Test Loss: 0.2915 | Acc: 0.9302 | Prec: 0.9743 | Recall: 0.9499 | F1: 0.9619 | ROC-AUC: 0.9341\n",
      "Max val ROC-AUC: 0.9513\n",
      "Training with d_model=128, nhead=4, num_layers=4, dropout=0.1, lr=0.001\n"
     ]
    },
    {
     "data": {
      "application/vnd.jupyter.widget-view+json": {
       "model_id": "f6dba4c1da86489ca22bb9a12bfd5149",
       "version_major": 2,
       "version_minor": 0
      },
      "text/plain": [
       "  0%|          | 0/10 [00:00<?, ?it/s]"
      ]
     },
     "metadata": {},
     "output_type": "display_data"
    },
    {
     "name": "stdout",
     "output_type": "stream",
     "text": [
      "Epoch: 10 | Train Loss: 0.0327 | Acc: 0.9923 | Prec: 0.9934 | Recall: 0.9898 | F1: 0.9916 | ROC-AUC: 0.9988 || Test Loss: 0.3717 | Acc: 0.9256 | Prec: 0.9842 | Recall: 0.9348 | F1: 0.9589 | ROC-AUC: 0.9339\n",
      "Max val ROC-AUC: 0.9543\n",
      "Training with d_model=128, nhead=4, num_layers=4, dropout=0.1, lr=0.0001\n"
     ]
    },
    {
     "data": {
      "application/vnd.jupyter.widget-view+json": {
       "model_id": "16e13e122e97425cb68685fa58ca2282",
       "version_major": 2,
       "version_minor": 0
      },
      "text/plain": [
       "  0%|          | 0/10 [00:00<?, ?it/s]"
      ]
     },
     "metadata": {},
     "output_type": "display_data"
    },
    {
     "name": "stdout",
     "output_type": "stream",
     "text": [
      "Epoch: 10 | Train Loss: 0.0213 | Acc: 0.9949 | Prec: 0.9964 | Recall: 0.9927 | F1: 0.9945 | ROC-AUC: 0.9989 || Test Loss: 0.3743 | Acc: 0.9140 | Prec: 0.9866 | Recall: 0.9198 | F1: 0.9520 | ROC-AUC: 0.9387\n",
      "Max val ROC-AUC: 0.9723\n",
      "Training with d_model=128, nhead=4, num_layers=4, dropout=0.1, lr=0.0001\n"
     ]
    },
    {
     "data": {
      "application/vnd.jupyter.widget-view+json": {
       "model_id": "c56321a34300460b870169a890c2fbe9",
       "version_major": 2,
       "version_minor": 0
      },
      "text/plain": [
       "  0%|          | 0/10 [00:00<?, ?it/s]"
      ]
     },
     "metadata": {},
     "output_type": "display_data"
    },
    {
     "name": "stdout",
     "output_type": "stream",
     "text": [
      "Epoch: 10 | Train Loss: 0.0286 | Acc: 0.9909 | Prec: 0.9920 | Recall: 0.9884 | F1: 0.9902 | ROC-AUC: 0.9993 || Test Loss: 0.4477 | Acc: 0.9070 | Prec: 0.9812 | Recall: 0.9173 | F1: 0.9482 | ROC-AUC: 0.9171\n",
      "Max val ROC-AUC: 0.9603\n",
      "Training with d_model=128, nhead=4, num_layers=4, dropout=0.1, lr=0.0001\n"
     ]
    },
    {
     "data": {
      "application/vnd.jupyter.widget-view+json": {
       "model_id": "cadb274ac8ab4a37a22554b00f82988f",
       "version_major": 2,
       "version_minor": 0
      },
      "text/plain": [
       "  0%|          | 0/10 [00:00<?, ?it/s]"
      ]
     },
     "metadata": {},
     "output_type": "display_data"
    },
    {
     "name": "stdout",
     "output_type": "stream",
     "text": [
      "Epoch: 10 | Train Loss: 0.0271 | Acc: 0.9919 | Prec: 0.9942 | Recall: 0.9884 | F1: 0.9913 | ROC-AUC: 0.9991 || Test Loss: 0.2943 | Acc: 0.9419 | Prec: 0.9795 | Recall: 0.9574 | F1: 0.9683 | ROC-AUC: 0.9084\n",
      "Max val ROC-AUC: 0.9542\n",
      "Training with d_model=128, nhead=4, num_layers=4, dropout=0.1, lr=0.0001\n"
     ]
    },
    {
     "data": {
      "application/vnd.jupyter.widget-view+json": {
       "model_id": "11d46f590c8048b58e5ccc71b423da7d",
       "version_major": 2,
       "version_minor": 0
      },
      "text/plain": [
       "  0%|          | 0/10 [00:00<?, ?it/s]"
      ]
     },
     "metadata": {},
     "output_type": "display_data"
    },
    {
     "name": "stdout",
     "output_type": "stream",
     "text": [
      "Epoch: 10 | Train Loss: 0.0181 | Acc: 0.9973 | Prec: 0.9978 | Recall: 0.9964 | F1: 0.9971 | ROC-AUC: 0.9996 || Test Loss: 0.3942 | Acc: 0.9279 | Prec: 0.9817 | Recall: 0.9398 | F1: 0.9603 | ROC-AUC: 0.9197\n",
      "Max val ROC-AUC: 0.9426\n",
      "Training with d_model=128, nhead=4, num_layers=4, dropout=0.3, lr=0.001\n"
     ]
    },
    {
     "data": {
      "application/vnd.jupyter.widget-view+json": {
       "model_id": "8e879abbdc6b40cba76c1f473dcaae00",
       "version_major": 2,
       "version_minor": 0
      },
      "text/plain": [
       "  0%|          | 0/10 [00:00<?, ?it/s]"
      ]
     },
     "metadata": {},
     "output_type": "display_data"
    },
    {
     "name": "stdout",
     "output_type": "stream",
     "text": [
      "Epoch: 10 | Train Loss: 0.0383 | Acc: 0.9892 | Prec: 0.9912 | Recall: 0.9855 | F1: 0.9883 | ROC-AUC: 0.9984 || Test Loss: 0.3635 | Acc: 0.9372 | Prec: 0.9794 | Recall: 0.9524 | F1: 0.9657 | ROC-AUC: 0.8984\n",
      "Max val ROC-AUC: 0.9567\n",
      "Training with d_model=128, nhead=4, num_layers=4, dropout=0.3, lr=0.001\n"
     ]
    },
    {
     "data": {
      "application/vnd.jupyter.widget-view+json": {
       "model_id": "998ddc9d3e3f40cd8c7008ff3c0abfed",
       "version_major": 2,
       "version_minor": 0
      },
      "text/plain": [
       "  0%|          | 0/10 [00:00<?, ?it/s]"
      ]
     },
     "metadata": {},
     "output_type": "display_data"
    },
    {
     "name": "stdout",
     "output_type": "stream",
     "text": [
      "Epoch: 10 | Train Loss: 0.0576 | Acc: 0.9811 | Prec: 0.9911 | Recall: 0.9680 | F1: 0.9794 | ROC-AUC: 0.9968 || Test Loss: 0.3227 | Acc: 0.9256 | Prec: 0.9867 | Recall: 0.9323 | F1: 0.9588 | ROC-AUC: 0.9599\n",
      "Max val ROC-AUC: 0.9599\n",
      "Training with d_model=128, nhead=4, num_layers=4, dropout=0.3, lr=0.001\n"
     ]
    },
    {
     "data": {
      "application/vnd.jupyter.widget-view+json": {
       "model_id": "de4e10bf0d6b4178b3a077554d9ed816",
       "version_major": 2,
       "version_minor": 0
      },
      "text/plain": [
       "  0%|          | 0/10 [00:00<?, ?it/s]"
      ]
     },
     "metadata": {},
     "output_type": "display_data"
    },
    {
     "name": "stdout",
     "output_type": "stream",
     "text": [
      "Epoch: 10 | Train Loss: 0.0530 | Acc: 0.9852 | Prec: 0.9926 | Recall: 0.9753 | F1: 0.9839 | ROC-AUC: 0.9971 || Test Loss: 0.4218 | Acc: 0.9116 | Prec: 0.9813 | Recall: 0.9223 | F1: 0.9509 | ROC-AUC: 0.9020\n",
      "Max val ROC-AUC: 0.9459\n",
      "Training with d_model=128, nhead=4, num_layers=4, dropout=0.3, lr=0.001\n"
     ]
    },
    {
     "data": {
      "application/vnd.jupyter.widget-view+json": {
       "model_id": "1da998cefd3c49ad97f4ed3bcdac6066",
       "version_major": 2,
       "version_minor": 0
      },
      "text/plain": [
       "  0%|          | 0/10 [00:00<?, ?it/s]"
      ]
     },
     "metadata": {},
     "output_type": "display_data"
    },
    {
     "name": "stdout",
     "output_type": "stream",
     "text": [
      "Epoch: 10 | Train Loss: 0.0430 | Acc: 0.9865 | Prec: 0.9848 | Recall: 0.9862 | F1: 0.9855 | ROC-AUC: 0.9983 || Test Loss: 0.4444 | Acc: 0.9233 | Prec: 0.9716 | Recall: 0.9449 | F1: 0.9581 | ROC-AUC: 0.9295\n",
      "Max val ROC-AUC: 0.9618\n",
      "Training with d_model=128, nhead=4, num_layers=4, dropout=0.3, lr=0.0001\n"
     ]
    },
    {
     "data": {
      "application/vnd.jupyter.widget-view+json": {
       "model_id": "376536c958e34aa89912f36a68044e82",
       "version_major": 2,
       "version_minor": 0
      },
      "text/plain": [
       "  0%|          | 0/10 [00:00<?, ?it/s]"
      ]
     },
     "metadata": {},
     "output_type": "display_data"
    },
    {
     "name": "stdout",
     "output_type": "stream",
     "text": [
      "Epoch: 10 | Train Loss: 0.0337 | Acc: 0.9906 | Prec: 0.9956 | Recall: 0.9840 | F1: 0.9898 | ROC-AUC: 0.9986 || Test Loss: 0.2816 | Acc: 0.9465 | Prec: 0.9821 | Recall: 0.9599 | F1: 0.9708 | ROC-AUC: 0.9297\n",
      "Max val ROC-AUC: 0.9540\n",
      "Training with d_model=128, nhead=4, num_layers=4, dropout=0.3, lr=0.0001\n"
     ]
    },
    {
     "data": {
      "application/vnd.jupyter.widget-view+json": {
       "model_id": "eea70178870d434285703c7afb000484",
       "version_major": 2,
       "version_minor": 0
      },
      "text/plain": [
       "  0%|          | 0/10 [00:00<?, ?it/s]"
      ]
     },
     "metadata": {},
     "output_type": "display_data"
    },
    {
     "name": "stdout",
     "output_type": "stream",
     "text": [
      "Epoch: 10 | Train Loss: 0.0509 | Acc: 0.9875 | Prec: 0.9934 | Recall: 0.9797 | F1: 0.9865 | ROC-AUC: 0.9965 || Test Loss: 0.3112 | Acc: 0.9349 | Prec: 0.9843 | Recall: 0.9449 | F1: 0.9642 | ROC-AUC: 0.9489\n",
      "Max val ROC-AUC: 0.9569\n",
      "Training with d_model=128, nhead=4, num_layers=4, dropout=0.3, lr=0.0001\n"
     ]
    },
    {
     "data": {
      "application/vnd.jupyter.widget-view+json": {
       "model_id": "f36d9715e43a4c109b0b2f742f956961",
       "version_major": 2,
       "version_minor": 0
      },
      "text/plain": [
       "  0%|          | 0/10 [00:00<?, ?it/s]"
      ]
     },
     "metadata": {},
     "output_type": "display_data"
    },
    {
     "name": "stdout",
     "output_type": "stream",
     "text": [
      "Epoch: 10 | Train Loss: 0.0447 | Acc: 0.9855 | Prec: 0.9904 | Recall: 0.9782 | F1: 0.9843 | ROC-AUC: 0.9982 || Test Loss: 0.3835 | Acc: 0.8977 | Prec: 0.9863 | Recall: 0.9023 | F1: 0.9424 | ROC-AUC: 0.9629\n",
      "Max val ROC-AUC: 0.9629\n",
      "Training with d_model=128, nhead=4, num_layers=4, dropout=0.3, lr=0.0001\n"
     ]
    },
    {
     "data": {
      "application/vnd.jupyter.widget-view+json": {
       "model_id": "26b07e37cd614d1cb677ea4adb4c0895",
       "version_major": 2,
       "version_minor": 0
      },
      "text/plain": [
       "  0%|          | 0/10 [00:00<?, ?it/s]"
      ]
     },
     "metadata": {},
     "output_type": "display_data"
    },
    {
     "name": "stdout",
     "output_type": "stream",
     "text": [
      "Epoch: 10 | Train Loss: 0.0379 | Acc: 0.9892 | Prec: 0.9912 | Recall: 0.9855 | F1: 0.9883 | ROC-AUC: 0.9989 || Test Loss: 0.3707 | Acc: 0.9116 | Prec: 0.9839 | Recall: 0.9198 | F1: 0.9508 | ROC-AUC: 0.9512\n",
      "Max val ROC-AUC: 0.9605\n",
      "Training with d_model=128, nhead=4, num_layers=6, dropout=0.1, lr=0.001\n"
     ]
    },
    {
     "data": {
      "application/vnd.jupyter.widget-view+json": {
       "model_id": "5f87a1e675cb4615a809100841881e1a",
       "version_major": 2,
       "version_minor": 0
      },
      "text/plain": [
       "  0%|          | 0/10 [00:00<?, ?it/s]"
      ]
     },
     "metadata": {},
     "output_type": "display_data"
    },
    {
     "name": "stdout",
     "output_type": "stream",
     "text": [
      "Epoch: 10 | Train Loss: 0.0242 | Acc: 0.9946 | Prec: 0.9949 | Recall: 0.9935 | F1: 0.9942 | ROC-AUC: 0.9993 || Test Loss: 0.4290 | Acc: 0.9279 | Prec: 0.9817 | Recall: 0.9398 | F1: 0.9603 | ROC-AUC: 0.9485\n",
      "Max val ROC-AUC: 0.9605\n",
      "Training with d_model=128, nhead=4, num_layers=6, dropout=0.1, lr=0.001\n"
     ]
    },
    {
     "data": {
      "application/vnd.jupyter.widget-view+json": {
       "model_id": "87cda60a2b8d43f086972677948f5b6d",
       "version_major": 2,
       "version_minor": 0
      },
      "text/plain": [
       "  0%|          | 0/10 [00:00<?, ?it/s]"
      ]
     },
     "metadata": {},
     "output_type": "display_data"
    },
    {
     "name": "stdout",
     "output_type": "stream",
     "text": [
      "Epoch: 10 | Train Loss: 0.0577 | Acc: 0.9848 | Prec: 0.9861 | Recall: 0.9811 | F1: 0.9836 | ROC-AUC: 0.9970 || Test Loss: 0.2622 | Acc: 0.9163 | Prec: 0.9764 | Recall: 0.9323 | F1: 0.9538 | ROC-AUC: 0.8935\n",
      "Max val ROC-AUC: 0.9572\n",
      "Training with d_model=128, nhead=4, num_layers=6, dropout=0.1, lr=0.001\n"
     ]
    },
    {
     "data": {
      "application/vnd.jupyter.widget-view+json": {
       "model_id": "8777022fe37044ffb2f22fdc14f3f10d",
       "version_major": 2,
       "version_minor": 0
      },
      "text/plain": [
       "  0%|          | 0/10 [00:00<?, ?it/s]"
      ]
     },
     "metadata": {},
     "output_type": "display_data"
    },
    {
     "name": "stdout",
     "output_type": "stream",
     "text": [
      "Epoch: 10 | Train Loss: 0.0421 | Acc: 0.9875 | Prec: 0.9912 | Recall: 0.9818 | F1: 0.9865 | ROC-AUC: 0.9982 || Test Loss: 0.3484 | Acc: 0.9140 | Prec: 0.9788 | Recall: 0.9273 | F1: 0.9524 | ROC-AUC: 0.9516\n",
      "Max val ROC-AUC: 0.9516\n",
      "Training with d_model=128, nhead=4, num_layers=6, dropout=0.1, lr=0.001\n"
     ]
    },
    {
     "data": {
      "application/vnd.jupyter.widget-view+json": {
       "model_id": "c6afc920e8d640cb9f926cff72e7bb86",
       "version_major": 2,
       "version_minor": 0
      },
      "text/plain": [
       "  0%|          | 0/10 [00:00<?, ?it/s]"
      ]
     },
     "metadata": {},
     "output_type": "display_data"
    },
    {
     "name": "stdout",
     "output_type": "stream",
     "text": [
      "Epoch: 10 | Train Loss: 0.0417 | Acc: 0.9885 | Prec: 0.9905 | Recall: 0.9847 | F1: 0.9876 | ROC-AUC: 0.9982 || Test Loss: 0.3654 | Acc: 0.8814 | Prec: 0.9833 | Recall: 0.8872 | F1: 0.9328 | ROC-AUC: 0.9310\n",
      "Max val ROC-AUC: 0.9491\n",
      "Training with d_model=128, nhead=4, num_layers=6, dropout=0.1, lr=0.0001\n"
     ]
    },
    {
     "data": {
      "application/vnd.jupyter.widget-view+json": {
       "model_id": "db912ae0a4734c91b09481e98edc6db1",
       "version_major": 2,
       "version_minor": 0
      },
      "text/plain": [
       "  0%|          | 0/10 [00:00<?, ?it/s]"
      ]
     },
     "metadata": {},
     "output_type": "display_data"
    },
    {
     "name": "stdout",
     "output_type": "stream",
     "text": [
      "Epoch: 10 | Train Loss: 0.0318 | Acc: 0.9912 | Prec: 0.9941 | Recall: 0.9869 | F1: 0.9905 | ROC-AUC: 0.9983 || Test Loss: 0.2870 | Acc: 0.9488 | Prec: 0.9772 | Recall: 0.9674 | F1: 0.9723 | ROC-AUC: 0.9488\n",
      "Max val ROC-AUC: 0.9628\n",
      "Training with d_model=128, nhead=4, num_layers=6, dropout=0.1, lr=0.0001\n"
     ]
    },
    {
     "data": {
      "application/vnd.jupyter.widget-view+json": {
       "model_id": "7ee41db5701a48988eeb4a3f6a8c5218",
       "version_major": 2,
       "version_minor": 0
      },
      "text/plain": [
       "  0%|          | 0/10 [00:00<?, ?it/s]"
      ]
     },
     "metadata": {},
     "output_type": "display_data"
    },
    {
     "name": "stdout",
     "output_type": "stream",
     "text": [
      "Epoch: 10 | Train Loss: 0.0136 | Acc: 0.9980 | Prec: 1.0000 | Recall: 0.9956 | F1: 0.9978 | ROC-AUC: 0.9996 || Test Loss: 0.2969 | Acc: 0.9465 | Prec: 0.9845 | Recall: 0.9574 | F1: 0.9708 | ROC-AUC: 0.9080\n",
      "Max val ROC-AUC: 0.9541\n",
      "Training with d_model=128, nhead=4, num_layers=6, dropout=0.1, lr=0.0001\n"
     ]
    },
    {
     "data": {
      "application/vnd.jupyter.widget-view+json": {
       "model_id": "efd85e3a60ea468f98f85a173cf179e8",
       "version_major": 2,
       "version_minor": 0
      },
      "text/plain": [
       "  0%|          | 0/10 [00:00<?, ?it/s]"
      ]
     },
     "metadata": {},
     "output_type": "display_data"
    },
    {
     "name": "stdout",
     "output_type": "stream",
     "text": [
      "Epoch: 10 | Train Loss: 0.0433 | Acc: 0.9872 | Prec: 0.9912 | Recall: 0.9811 | F1: 0.9861 | ROC-AUC: 0.9970 || Test Loss: 0.3435 | Acc: 0.9186 | Prec: 0.9840 | Recall: 0.9273 | F1: 0.9548 | ROC-AUC: 0.9390\n",
      "Max val ROC-AUC: 0.9576\n",
      "Training with d_model=128, nhead=4, num_layers=6, dropout=0.1, lr=0.0001\n"
     ]
    },
    {
     "data": {
      "application/vnd.jupyter.widget-view+json": {
       "model_id": "342f8f5e2df94c778ddd5e9b95820e08",
       "version_major": 2,
       "version_minor": 0
      },
      "text/plain": [
       "  0%|          | 0/10 [00:00<?, ?it/s]"
      ]
     },
     "metadata": {},
     "output_type": "display_data"
    },
    {
     "name": "stdout",
     "output_type": "stream",
     "text": [
      "Epoch: 10 | Train Loss: 0.0130 | Acc: 0.9973 | Prec: 0.9993 | Recall: 0.9949 | F1: 0.9971 | ROC-AUC: 0.9998 || Test Loss: 0.3459 | Acc: 0.9302 | Prec: 0.9817 | Recall: 0.9424 | F1: 0.9616 | ROC-AUC: 0.9522\n",
      "Max val ROC-AUC: 0.9586\n",
      "Training with d_model=128, nhead=4, num_layers=6, dropout=0.3, lr=0.001\n"
     ]
    },
    {
     "data": {
      "application/vnd.jupyter.widget-view+json": {
       "model_id": "67524032fc724adba9f7a991b8ffe1c3",
       "version_major": 2,
       "version_minor": 0
      },
      "text/plain": [
       "  0%|          | 0/10 [00:00<?, ?it/s]"
      ]
     },
     "metadata": {},
     "output_type": "display_data"
    },
    {
     "name": "stdout",
     "output_type": "stream",
     "text": [
      "Epoch: 10 | Train Loss: 0.0523 | Acc: 0.9852 | Prec: 0.9955 | Recall: 0.9724 | F1: 0.9838 | ROC-AUC: 0.9967 || Test Loss: 0.3325 | Acc: 0.9326 | Prec: 0.9868 | Recall: 0.9398 | F1: 0.9628 | ROC-AUC: 0.9428\n",
      "Max val ROC-AUC: 0.9480\n",
      "Training with d_model=128, nhead=4, num_layers=6, dropout=0.3, lr=0.001\n"
     ]
    },
    {
     "data": {
      "application/vnd.jupyter.widget-view+json": {
       "model_id": "ca36d9d344e247999c77b4e2e72b3a5a",
       "version_major": 2,
       "version_minor": 0
      },
      "text/plain": [
       "  0%|          | 0/10 [00:00<?, ?it/s]"
      ]
     },
     "metadata": {},
     "output_type": "display_data"
    },
    {
     "name": "stdout",
     "output_type": "stream",
     "text": [
      "Epoch: 10 | Train Loss: 0.0527 | Acc: 0.9855 | Prec: 0.9955 | Recall: 0.9731 | F1: 0.9842 | ROC-AUC: 0.9967 || Test Loss: 0.4291 | Acc: 0.9140 | Prec: 0.9814 | Recall: 0.9248 | F1: 0.9523 | ROC-AUC: 0.9323\n",
      "Max val ROC-AUC: 0.9396\n",
      "Training with d_model=128, nhead=4, num_layers=6, dropout=0.3, lr=0.001\n"
     ]
    },
    {
     "data": {
      "application/vnd.jupyter.widget-view+json": {
       "model_id": "ee9d4bd771744ddebecc1c1425f2ef1f",
       "version_major": 2,
       "version_minor": 0
      },
      "text/plain": [
       "  0%|          | 0/10 [00:00<?, ?it/s]"
      ]
     },
     "metadata": {},
     "output_type": "display_data"
    },
    {
     "name": "stdout",
     "output_type": "stream",
     "text": [
      "Epoch: 10 | Train Loss: 0.0523 | Acc: 0.9818 | Prec: 0.9846 | Recall: 0.9760 | F1: 0.9803 | ROC-AUC: 0.9976 || Test Loss: 0.3798 | Acc: 0.9209 | Prec: 0.9815 | Recall: 0.9323 | F1: 0.9563 | ROC-AUC: 0.9251\n",
      "Max val ROC-AUC: 0.9553\n",
      "Training with d_model=128, nhead=4, num_layers=6, dropout=0.3, lr=0.001\n"
     ]
    },
    {
     "data": {
      "application/vnd.jupyter.widget-view+json": {
       "model_id": "0c1569a91e9d4fd18dfc0b678fe33a77",
       "version_major": 2,
       "version_minor": 0
      },
      "text/plain": [
       "  0%|          | 0/10 [00:00<?, ?it/s]"
      ]
     },
     "metadata": {},
     "output_type": "display_data"
    },
    {
     "name": "stdout",
     "output_type": "stream",
     "text": [
      "Epoch: 10 | Train Loss: 0.0658 | Acc: 0.9774 | Prec: 0.9903 | Recall: 0.9608 | F1: 0.9753 | ROC-AUC: 0.9964 || Test Loss: 0.4778 | Acc: 0.8698 | Prec: 0.9886 | Recall: 0.8697 | F1: 0.9253 | ROC-AUC: 0.9238\n",
      "Max val ROC-AUC: 0.9436\n",
      "Training with d_model=128, nhead=4, num_layers=6, dropout=0.3, lr=0.0001\n"
     ]
    },
    {
     "data": {
      "application/vnd.jupyter.widget-view+json": {
       "model_id": "5e105b22154840efacfd32a7f21b8bb2",
       "version_major": 2,
       "version_minor": 0
      },
      "text/plain": [
       "  0%|          | 0/10 [00:00<?, ?it/s]"
      ]
     },
     "metadata": {},
     "output_type": "display_data"
    },
    {
     "name": "stdout",
     "output_type": "stream",
     "text": [
      "Epoch: 10 | Train Loss: 0.0565 | Acc: 0.9825 | Prec: 0.9882 | Recall: 0.9739 | F1: 0.9810 | ROC-AUC: 0.9975 || Test Loss: 0.3058 | Acc: 0.9302 | Prec: 0.9843 | Recall: 0.9398 | F1: 0.9615 | ROC-AUC: 0.9436\n",
      "Max val ROC-AUC: 0.9586\n",
      "Training with d_model=128, nhead=4, num_layers=6, dropout=0.3, lr=0.0001\n"
     ]
    },
    {
     "data": {
      "application/vnd.jupyter.widget-view+json": {
       "model_id": "ad76c40155e9487c8cf84c12abd8aa5d",
       "version_major": 2,
       "version_minor": 0
      },
      "text/plain": [
       "  0%|          | 0/10 [00:00<?, ?it/s]"
      ]
     },
     "metadata": {},
     "output_type": "display_data"
    },
    {
     "name": "stdout",
     "output_type": "stream",
     "text": [
      "Epoch: 10 | Train Loss: 0.0510 | Acc: 0.9848 | Prec: 0.9904 | Recall: 0.9768 | F1: 0.9835 | ROC-AUC: 0.9977 || Test Loss: 0.3717 | Acc: 0.9163 | Prec: 0.9840 | Recall: 0.9248 | F1: 0.9535 | ROC-AUC: 0.9365\n",
      "Max val ROC-AUC: 0.9698\n",
      "Training with d_model=128, nhead=4, num_layers=6, dropout=0.3, lr=0.0001\n"
     ]
    },
    {
     "data": {
      "application/vnd.jupyter.widget-view+json": {
       "model_id": "7adae6fbccb74e0194aa6c8770a13051",
       "version_major": 2,
       "version_minor": 0
      },
      "text/plain": [
       "  0%|          | 0/10 [00:00<?, ?it/s]"
      ]
     },
     "metadata": {},
     "output_type": "display_data"
    },
    {
     "name": "stdout",
     "output_type": "stream",
     "text": [
      "Epoch: 10 | Train Loss: 0.0571 | Acc: 0.9848 | Prec: 0.9868 | Recall: 0.9804 | F1: 0.9836 | ROC-AUC: 0.9958 || Test Loss: 0.3753 | Acc: 0.9186 | Prec: 0.9840 | Recall: 0.9273 | F1: 0.9548 | ROC-AUC: 0.9210\n",
      "Max val ROC-AUC: 0.9577\n",
      "Training with d_model=128, nhead=4, num_layers=6, dropout=0.3, lr=0.0001\n"
     ]
    },
    {
     "data": {
      "application/vnd.jupyter.widget-view+json": {
       "model_id": "a0184e248bb84104a4fb870ec47dfcf6",
       "version_major": 2,
       "version_minor": 0
      },
      "text/plain": [
       "  0%|          | 0/10 [00:00<?, ?it/s]"
      ]
     },
     "metadata": {},
     "output_type": "display_data"
    },
    {
     "name": "stdout",
     "output_type": "stream",
     "text": [
      "Epoch: 10 | Train Loss: 0.0337 | Acc: 0.9906 | Prec: 0.9941 | Recall: 0.9855 | F1: 0.9898 | ROC-AUC: 0.9985 || Test Loss: 0.3949 | Acc: 0.9186 | Prec: 0.9866 | Recall: 0.9248 | F1: 0.9547 | ROC-AUC: 0.9394\n",
      "Max val ROC-AUC: 0.9550\n",
      "\n",
      "Best params: {'d_model': 128, 'nhead': 4, 'num_layers': 4, 'dropout': 0.1, 'lr': 0.0001, 'weight_decay': 0, 'batch_size': 16}\n",
      "Best validation ROC-AUC: 0.9723\n"
     ]
    }
   ],
   "source": [
    "from itertools import product\n",
    "NUM_EPOCHS = 10\n",
    "\n",
    "\n",
    "# param_grid = {\n",
    "#     \"d_model\": [64, 128, 25],\n",
    "#     \"nhead\": [2, 4, 8, 16],\n",
    "#     \"num_layers\": [i * 2 for i in range(1,51)],\n",
    "#     \"dropout\": [0.0, 0.1 , 0.3 , 0.5],\n",
    "#     \"lr\": [0.1, 0.01, 0.001],\n",
    "#     \"weight_decay\": [0, 1e-4],\n",
    "#     \"batch_size\": [4, 8, 16, 32, 64]\n",
    "# }\n",
    "param_grid = {\n",
    "    \"d_model\": [64, 128],\n",
    "    \"nhead\": [2, 4],\n",
    "    \"num_layers\": [2, 4, 6],\n",
    "    \"dropout\": [0.1, 0.3],\n",
    "    \"lr\": [0.001, 0.0001],\n",
    "    \"weight_decay\": [0, 1e-4],\n",
    "    \"batch_size\": [16, 32]\n",
    "}\n",
    "\n",
    "\n",
    "param_grid = [\n",
    "    dict(zip(param_grid.keys(), values))\n",
    "    for values in product(*param_grid.values())\n",
    "]\n",
    "best_params, best_results = hyperparameter_tuning(\n",
    "    param_grid,\n",
    "    train_dataloader=train_dataloader,\n",
    "    test_dataloader=test_dataloader,\n",
    "    device=device,\n",
    "    epochs=NUM_EPOCHS\n",
    ")"
   ]
  },
  {
   "cell_type": "markdown",
   "id": "b9c42baa-dcd3-4365-b9b2-e54894c563fb",
   "metadata": {},
   "source": [
    "### Best params: \n",
    "Best params: {'d_model': 128, 'nhead': 4, 'num_layers': 4, 'dropout': 0.1, 'lr': 0.0001, 'weight_decay': 0, 'batch_size': 16}\n",
    "Best validation ROC-AUC: 0.9723"
   ]
  },
  {
   "cell_type": "code",
   "execution_count": null,
   "id": "ee0b4538-60b5-400a-872c-110111b5e617",
   "metadata": {},
   "outputs": [],
   "source": []
  }
 ],
 "metadata": {
  "kernelspec": {
   "display_name": "Python 3 (ipykernel)",
   "language": "python",
   "name": "python3"
  },
  "language_info": {
   "codemirror_mode": {
    "name": "ipython",
    "version": 3
   },
   "file_extension": ".py",
   "mimetype": "text/x-python",
   "name": "python",
   "nbconvert_exporter": "python",
   "pygments_lexer": "ipython3",
   "version": "3.13.5"
  }
 },
 "nbformat": 4,
 "nbformat_minor": 5
}
