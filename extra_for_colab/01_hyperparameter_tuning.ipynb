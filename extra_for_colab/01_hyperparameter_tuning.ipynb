{
 "cells": [
  {
   "cell_type": "markdown",
   "id": "7c5d34a1-7373-4024-b594-4ae1e0dbfa30",
   "metadata": {},
   "source": [
    "# Import Libraries"
   ]
  },
  {
   "cell_type": "code",
   "execution_count": 1,
   "id": "243f21fc-5535-40cf-8654-5eaeb23607c9",
   "metadata": {},
   "outputs": [],
   "source": [
    "import pandas as pd\n",
    "import numpy as np\n",
    "import os\n",
    "import matplotlib.pyplot as plt\n",
    "import seaborn as sns\n",
    "\n",
    "import torch\n",
    "from torch import nn\n",
    "from torch.utils.data import DataLoader, TensorDataset\n",
    "from torchvision import datasets, transforms\n",
    "from typing import Union\n",
    "import random\n",
    "from pathlib import Path"
   ]
  },
  {
   "cell_type": "markdown",
   "id": "d8df245b-1bca-4732-a652-9df2a9a543f3",
   "metadata": {},
   "source": [
    "## Import Models and Data Loaders"
   ]
  },
  {
   "cell_type": "code",
   "execution_count": 4,
   "id": "f0e05785-e9b7-49af-b003-6faa598914fd",
   "metadata": {},
   "outputs": [],
   "source": [
    "from Return_dataloader import pass_dataloader\n",
    "from Transformer_model import TabTransformer\n",
    "from Plot_Accuracies import plot_loss_curves\n",
    "from engine import train"
   ]
  },
  {
   "cell_type": "markdown",
   "id": "3c45adc4-48db-4efb-806a-b87db600d898",
   "metadata": {},
   "source": [
    "# Device Agnostics"
   ]
  },
  {
   "cell_type": "code",
   "execution_count": 5,
   "id": "cfda076a-e620-4160-aaf2-c113a484ca83",
   "metadata": {},
   "outputs": [
    {
     "name": "stdout",
     "output_type": "stream",
     "text": [
      "Available device is: cpu\n"
     ]
    }
   ],
   "source": [
    "# Clear Cache\n",
    "torch.cuda.empty_cache()\n",
    "\n",
    "device = torch.device(\"cuda\" if torch.cuda.is_available() else \"cpu\")\n",
    "print(f\"Available device is: {device}\")"
   ]
  },
  {
   "cell_type": "markdown",
   "id": "f6486c3e-1e1b-440f-838c-0faf48ff50bf",
   "metadata": {},
   "source": [
    "### Data Loader"
   ]
  },
  {
   "cell_type": "code",
   "execution_count": 6,
   "id": "62501939-4e5e-4ab1-949e-a38897032f54",
   "metadata": {},
   "outputs": [],
   "source": [
    "train_dataloader, test_dataloader = pass_dataloader()"
   ]
  },
  {
   "cell_type": "markdown",
   "id": "81127839-be94-4c7e-aa3e-85f7ec65dc2a",
   "metadata": {},
   "source": [
    "### Parameter Tune Function"
   ]
  },
  {
   "cell_type": "code",
   "execution_count": 7,
   "id": "31b1a850-72a8-43c9-9e07-31dd3a97fcf5",
   "metadata": {},
   "outputs": [],
   "source": [
    "from copy import deepcopy\n",
    "\n",
    "def hyperparameter_tuning(param_grid,\n",
    "                          train_dataloader,\n",
    "                          test_dataloader,\n",
    "                          device,\n",
    "                          epochs=50):\n",
    "\n",
    "    best_val_score = -float('inf')\n",
    "    best_params = None\n",
    "    best_results = None\n",
    "\n",
    "    for params in param_grid:\n",
    "        print(f\"Training with d_model={params['d_model']}, nhead={params['nhead']}, \"\n",
    "              f\"num_layers={params['num_layers']}, dropout={params['dropout']}, lr={params['lr']}\")\n",
    "\n",
    "        # Create model with given hyperparameters\n",
    "        model = TabTransformer(input_dim=100,\n",
    "                               d_model=params['d_model'],\n",
    "                               nhead=params['nhead'],\n",
    "                               num_layers=params['num_layers'],\n",
    "                               dropout=params['dropout']).to(device)\n",
    "\n",
    "        loss_fn = nn.BCEWithLogitsLoss()\n",
    "        optimizer = torch.optim.Adam(model.parameters(),\n",
    "                                     lr=params['lr'],\n",
    "                                     weight_decay=1e-4)\n",
    "\n",
    "        # Train model and get results dictionary\n",
    "        results = train(model=model,\n",
    "                        train_dataloader=train_dataloader,\n",
    "                        test_dataloader=test_dataloader,\n",
    "                        optimizer=optimizer,\n",
    "                        loss_fn=loss_fn,\n",
    "                        device=device,\n",
    "                        epochs=epochs)\n",
    "\n",
    "        # Pick best validation score (ROC-AUC here) from all epochs\n",
    "        max_val_roc_auc = max(results['test_roc_auc'])\n",
    "\n",
    "        print(f\"Max val ROC-AUC: {max_val_roc_auc:.4f}\")\n",
    "\n",
    "        if max_val_roc_auc > best_val_score:\n",
    "            best_val_score = max_val_roc_auc\n",
    "            best_params = params\n",
    "            best_results = deepcopy(results)\n",
    "\n",
    "    print(f\"\\nBest params: {best_params}\")\n",
    "    print(f\"Best validation ROC-AUC: {best_val_score:.4f}\")\n",
    "\n",
    "    return best_params, best_results\n"
   ]
  },
  {
   "cell_type": "markdown",
   "id": "d6a5d9a0-a4a4-4807-898f-4cadd8764799",
   "metadata": {},
   "source": [
    "## Hyperparameter Tuning"
   ]
  },
  {
   "cell_type": "code",
   "execution_count": null,
   "id": "409af98c-2c9d-4045-9875-7e23cfd0841e",
   "metadata": {
    "scrolled": true
   },
   "outputs": [
    {
     "name": "stdout",
     "output_type": "stream",
     "text": [
      "Training with d_model=64, nhead=2, num_layers=2, dropout=0.0, lr=0.1\n"
     ]
    },
    {
     "name": "stderr",
     "output_type": "stream",
     "text": [
      "G:\\M.Sc_Neaz\\08_TCGA_Prostate_Data\\Prostate_Cancer_Challenge\\Python Scripts\\pcvenv\\Lib\\site-packages\\torch\\nn\\modules\\transformer.py:382: UserWarning: enable_nested_tensor is True, but self.use_nested_tensor is False because encoder_layer.norm_first was True\n",
      "  warnings.warn(\n"
     ]
    },
    {
     "data": {
      "application/vnd.jupyter.widget-view+json": {
       "model_id": "5ece276cf2a14b989eb0ff1188958cf0",
       "version_major": 2,
       "version_minor": 0
      },
      "text/plain": [
       "  0%|          | 0/10 [00:00<?, ?it/s]"
      ]
     },
     "metadata": {},
     "output_type": "display_data"
    },
    {
     "name": "stdout",
     "output_type": "stream",
     "text": [
      "Epoch: 10 | Train Loss: 0.1590 | Acc: 0.9502 | Prec: 0.9652 | Recall: 0.9259 | F1: 0.9451 | ROC-AUC: 0.9762 || Test Loss: 0.3372 | Acc: 0.8884 | Prec: 0.9835 | Recall: 0.8947 | F1: 0.9370 | ROC-AUC: 0.9048\n",
      "Max val ROC-AUC: 0.9496\n",
      "Training with d_model=64, nhead=2, num_layers=2, dropout=0.0, lr=0.1\n"
     ]
    },
    {
     "data": {
      "application/vnd.jupyter.widget-view+json": {
       "model_id": "d5e77c9534df4f6185feac3e9b65f329",
       "version_major": 2,
       "version_minor": 0
      },
      "text/plain": [
       "  0%|          | 0/10 [00:00<?, ?it/s]"
      ]
     },
     "metadata": {},
     "output_type": "display_data"
    },
    {
     "name": "stdout",
     "output_type": "stream",
     "text": [
      "Epoch: 10 | Train Loss: 0.1203 | Acc: 0.9633 | Prec: 0.9789 | Recall: 0.9412 | F1: 0.9596 | ROC-AUC: 0.9807 || Test Loss: 0.3099 | Acc: 0.8860 | Prec: 0.9944 | Recall: 0.8822 | F1: 0.9349 | ROC-AUC: 0.9314\n",
      "Max val ROC-AUC: 0.9672\n",
      "Training with d_model=64, nhead=2, num_layers=2, dropout=0.0, lr=0.1\n"
     ]
    },
    {
     "data": {
      "application/vnd.jupyter.widget-view+json": {
       "model_id": "989d56eb880a466d9bfbbadaeb2dc455",
       "version_major": 2,
       "version_minor": 0
      },
      "text/plain": [
       "  0%|          | 0/10 [00:00<?, ?it/s]"
      ]
     },
     "metadata": {},
     "output_type": "display_data"
    },
    {
     "name": "stdout",
     "output_type": "stream",
     "text": [
      "Epoch: 10 | Train Loss: 0.1618 | Acc: 0.9468 | Prec: 0.9614 | Recall: 0.9223 | F1: 0.9414 | ROC-AUC: 0.9799 || Test Loss: 0.3460 | Acc: 0.8930 | Prec: 0.9836 | Recall: 0.8997 | F1: 0.9398 | ROC-AUC: 0.9324\n",
      "Max val ROC-AUC: 0.9561\n",
      "Training with d_model=64, nhead=2, num_layers=2, dropout=0.0, lr=0.1\n"
     ]
    },
    {
     "data": {
      "application/vnd.jupyter.widget-view+json": {
       "model_id": "e6d7573aae19497a9c5fba2eb3630267",
       "version_major": 2,
       "version_minor": 0
      },
      "text/plain": [
       "  0%|          | 0/10 [00:00<?, ?it/s]"
      ]
     },
     "metadata": {},
     "output_type": "display_data"
    },
    {
     "name": "stdout",
     "output_type": "stream",
     "text": [
      "Epoch: 10 | Train Loss: 0.1734 | Acc: 0.9421 | Prec: 0.9596 | Recall: 0.9136 | F1: 0.9360 | ROC-AUC: 0.9762 || Test Loss: 0.9477 | Acc: 0.6860 | Prec: 0.9889 | Recall: 0.6692 | F1: 0.7982 | ROC-AUC: 0.8765\n",
      "Max val ROC-AUC: 0.9517\n",
      "Training with d_model=64, nhead=2, num_layers=2, dropout=0.0, lr=0.1\n"
     ]
    },
    {
     "data": {
      "application/vnd.jupyter.widget-view+json": {
       "model_id": "ea4bdba196b84978b98159da39a861d7",
       "version_major": 2,
       "version_minor": 0
      },
      "text/plain": [
       "  0%|          | 0/10 [00:00<?, ?it/s]"
      ]
     },
     "metadata": {},
     "output_type": "display_data"
    },
    {
     "name": "stdout",
     "output_type": "stream",
     "text": [
      "Epoch: 10 | Train Loss: 0.1574 | Acc: 0.9512 | Prec: 0.9738 | Recall: 0.9194 | F1: 0.9458 | ROC-AUC: 0.9767 || Test Loss: 0.4545 | Acc: 0.8535 | Prec: 0.9828 | Recall: 0.8571 | F1: 0.9157 | ROC-AUC: 0.8874\n",
      "Max val ROC-AUC: 0.9280\n",
      "Training with d_model=64, nhead=2, num_layers=2, dropout=0.0, lr=0.1\n"
     ]
    },
    {
     "data": {
      "application/vnd.jupyter.widget-view+json": {
       "model_id": "e9fabdbd5b534c958a74a2942bf00c82",
       "version_major": 2,
       "version_minor": 0
      },
      "text/plain": [
       "  0%|          | 0/10 [00:00<?, ?it/s]"
      ]
     },
     "metadata": {},
     "output_type": "display_data"
    },
    {
     "name": "stdout",
     "output_type": "stream",
     "text": [
      "Epoch: 10 | Train Loss: 0.2263 | Acc: 0.9336 | Prec: 0.9638 | Recall: 0.8903 | F1: 0.9256 | ROC-AUC: 0.9548 || Test Loss: 0.1806 | Acc: 0.9465 | Prec: 0.9821 | Recall: 0.9599 | F1: 0.9708 | ROC-AUC: 0.9390\n",
      "Max val ROC-AUC: 0.9551\n",
      "Training with d_model=64, nhead=2, num_layers=2, dropout=0.0, lr=0.1\n"
     ]
    },
    {
     "data": {
      "application/vnd.jupyter.widget-view+json": {
       "model_id": "b56a4b6f11284f968d35d525ff2e8967",
       "version_major": 2,
       "version_minor": 0
      },
      "text/plain": [
       "  0%|          | 0/10 [00:00<?, ?it/s]"
      ]
     },
     "metadata": {},
     "output_type": "display_data"
    },
    {
     "name": "stdout",
     "output_type": "stream",
     "text": [
      "Epoch: 10 | Train Loss: 0.1942 | Acc: 0.9407 | Prec: 0.9616 | Recall: 0.9085 | F1: 0.9343 | ROC-AUC: 0.9706 || Test Loss: 0.2515 | Acc: 0.9047 | Prec: 0.9864 | Recall: 0.9098 | F1: 0.9465 | ROC-AUC: 0.9221\n",
      "Max val ROC-AUC: 0.9462\n",
      "Training with d_model=64, nhead=2, num_layers=2, dropout=0.0, lr=0.1\n"
     ]
    },
    {
     "data": {
      "application/vnd.jupyter.widget-view+json": {
       "model_id": "dd477df2dbdd4a57a59c9c2dd2633519",
       "version_major": 2,
       "version_minor": 0
      },
      "text/plain": [
       "  0%|          | 0/10 [00:00<?, ?it/s]"
      ]
     },
     "metadata": {},
     "output_type": "display_data"
    },
    {
     "name": "stdout",
     "output_type": "stream",
     "text": [
      "Epoch: 10 | Train Loss: 0.1396 | Acc: 0.9522 | Prec: 0.9682 | Recall: 0.9274 | F1: 0.9473 | ROC-AUC: 0.9811 || Test Loss: 0.1863 | Acc: 0.9256 | Prec: 0.9893 | Recall: 0.9298 | F1: 0.9587 | ROC-AUC: 0.9613\n",
      "Max val ROC-AUC: 0.9699\n",
      "Training with d_model=64, nhead=2, num_layers=2, dropout=0.0, lr=0.1\n"
     ]
    },
    {
     "data": {
      "application/vnd.jupyter.widget-view+json": {
       "model_id": "bd9ec72337f14f1e98b3d824b906a26f",
       "version_major": 2,
       "version_minor": 0
      },
      "text/plain": [
       "  0%|          | 0/10 [00:00<?, ?it/s]"
      ]
     },
     "metadata": {},
     "output_type": "display_data"
    },
    {
     "name": "stdout",
     "output_type": "stream",
     "text": [
      "Epoch: 10 | Train Loss: 0.3807 | Acc: 0.8882 | Prec: 0.9072 | Recall: 0.8453 | F1: 0.8752 | ROC-AUC: 0.9266 || Test Loss: 0.3588 | Acc: 0.9000 | Prec: 0.9837 | Recall: 0.9073 | F1: 0.9439 | ROC-AUC: 0.8995\n",
      "Max val ROC-AUC: 0.9513\n",
      "Training with d_model=64, nhead=2, num_layers=2, dropout=0.0, lr=0.1\n"
     ]
    },
    {
     "data": {
      "application/vnd.jupyter.widget-view+json": {
       "model_id": "b52f22ccc7db4c22851a8dae8283a9ef",
       "version_major": 2,
       "version_minor": 0
      },
      "text/plain": [
       "  0%|          | 0/10 [00:00<?, ?it/s]"
      ]
     },
     "metadata": {},
     "output_type": "display_data"
    },
    {
     "name": "stdout",
     "output_type": "stream",
     "text": [
      "Epoch: 10 | Train Loss: 0.1560 | Acc: 0.9549 | Prec: 0.9755 | Recall: 0.9259 | F1: 0.9501 | ROC-AUC: 0.9724 || Test Loss: 0.3379 | Acc: 0.8814 | Prec: 0.9888 | Recall: 0.8822 | F1: 0.9325 | ROC-AUC: 0.9104\n",
      "Max val ROC-AUC: 0.9424\n",
      "Training with d_model=64, nhead=2, num_layers=2, dropout=0.0, lr=0.01\n"
     ]
    },
    {
     "data": {
      "application/vnd.jupyter.widget-view+json": {
       "model_id": "f4dfe032b3b84c5891d998de5331c681",
       "version_major": 2,
       "version_minor": 0
      },
      "text/plain": [
       "  0%|          | 0/10 [00:00<?, ?it/s]"
      ]
     },
     "metadata": {},
     "output_type": "display_data"
    },
    {
     "name": "stdout",
     "output_type": "stream",
     "text": [
      "Epoch: 10 | Train Loss: 0.0509 | Acc: 0.9821 | Prec: 0.9839 | Recall: 0.9775 | F1: 0.9807 | ROC-AUC: 0.9976 || Test Loss: 0.4873 | Acc: 0.9023 | Prec: 0.9811 | Recall: 0.9123 | F1: 0.9455 | ROC-AUC: 0.9252\n",
      "Max val ROC-AUC: 0.9455\n",
      "Training with d_model=64, nhead=2, num_layers=2, dropout=0.0, lr=0.01\n"
     ]
    },
    {
     "data": {
      "application/vnd.jupyter.widget-view+json": {
       "model_id": "6cbc9781eb074d31b20e18cb54c5c4f6",
       "version_major": 2,
       "version_minor": 0
      },
      "text/plain": [
       "  0%|          | 0/10 [00:00<?, ?it/s]"
      ]
     },
     "metadata": {},
     "output_type": "display_data"
    },
    {
     "name": "stdout",
     "output_type": "stream",
     "text": [
      "Epoch: 10 | Train Loss: 0.0694 | Acc: 0.9791 | Prec: 0.9810 | Recall: 0.9739 | F1: 0.9774 | ROC-AUC: 0.9955 || Test Loss: 0.3274 | Acc: 0.9209 | Prec: 0.9867 | Recall: 0.9273 | F1: 0.9561 | ROC-AUC: 0.9417\n",
      "Max val ROC-AUC: 0.9591\n",
      "Training with d_model=64, nhead=2, num_layers=2, dropout=0.0, lr=0.01\n"
     ]
    },
    {
     "data": {
      "application/vnd.jupyter.widget-view+json": {
       "model_id": "86cc8b4862614db584373c30e63c75cb",
       "version_major": 2,
       "version_minor": 0
      },
      "text/plain": [
       "  0%|          | 0/10 [00:00<?, ?it/s]"
      ]
     },
     "metadata": {},
     "output_type": "display_data"
    },
    {
     "name": "stdout",
     "output_type": "stream",
     "text": [
      "Epoch: 10 | Train Loss: 0.0455 | Acc: 0.9855 | Prec: 0.9854 | Recall: 0.9833 | F1: 0.9844 | ROC-AUC: 0.9984 || Test Loss: 0.3073 | Acc: 0.9279 | Prec: 0.9868 | Recall: 0.9348 | F1: 0.9601 | ROC-AUC: 0.9568\n",
      "Max val ROC-AUC: 0.9583\n",
      "Training with d_model=64, nhead=2, num_layers=2, dropout=0.0, lr=0.01\n"
     ]
    },
    {
     "data": {
      "application/vnd.jupyter.widget-view+json": {
       "model_id": "c18565607d9d413db52ccb1ad9422be2",
       "version_major": 2,
       "version_minor": 0
      },
      "text/plain": [
       "  0%|          | 0/10 [00:00<?, ?it/s]"
      ]
     },
     "metadata": {},
     "output_type": "display_data"
    },
    {
     "name": "stdout",
     "output_type": "stream",
     "text": [
      "Epoch: 10 | Train Loss: 0.0393 | Acc: 0.9879 | Prec: 0.9862 | Recall: 0.9877 | F1: 0.9869 | ROC-AUC: 0.9985 || Test Loss: 0.4985 | Acc: 0.8977 | Prec: 0.9810 | Recall: 0.9073 | F1: 0.9427 | ROC-AUC: 0.9197\n",
      "Max val ROC-AUC: 0.9528\n",
      "Training with d_model=64, nhead=2, num_layers=2, dropout=0.0, lr=0.01\n"
     ]
    },
    {
     "data": {
      "application/vnd.jupyter.widget-view+json": {
       "model_id": "c503a43b2caa41f09adb632faba5f5b2",
       "version_major": 2,
       "version_minor": 0
      },
      "text/plain": [
       "  0%|          | 0/10 [00:00<?, ?it/s]"
      ]
     },
     "metadata": {},
     "output_type": "display_data"
    },
    {
     "name": "stdout",
     "output_type": "stream",
     "text": [
      "Epoch: 10 | Train Loss: 0.0441 | Acc: 0.9869 | Prec: 0.9869 | Recall: 0.9847 | F1: 0.9858 | ROC-AUC: 0.9976 || Test Loss: 0.2795 | Acc: 0.9372 | Prec: 0.9673 | Recall: 0.9649 | F1: 0.9661 | ROC-AUC: 0.9150\n",
      "Max val ROC-AUC: 0.9388\n",
      "Training with d_model=64, nhead=2, num_layers=2, dropout=0.0, lr=0.01\n"
     ]
    },
    {
     "data": {
      "application/vnd.jupyter.widget-view+json": {
       "model_id": "bc988a18f2164c42be7f4d96dbd3138a",
       "version_major": 2,
       "version_minor": 0
      },
      "text/plain": [
       "  0%|          | 0/10 [00:00<?, ?it/s]"
      ]
     },
     "metadata": {},
     "output_type": "display_data"
    },
    {
     "name": "stdout",
     "output_type": "stream",
     "text": [
      "Epoch: 10 | Train Loss: 0.0676 | Acc: 0.9781 | Prec: 0.9809 | Recall: 0.9717 | F1: 0.9763 | ROC-AUC: 0.9960 || Test Loss: 0.1767 | Acc: 0.9442 | Prec: 0.9947 | Recall: 0.9449 | F1: 0.9692 | ROC-AUC: 0.9708\n",
      "Max val ROC-AUC: 0.9744\n",
      "Training with d_model=64, nhead=2, num_layers=2, dropout=0.0, lr=0.01\n"
     ]
    },
    {
     "data": {
      "application/vnd.jupyter.widget-view+json": {
       "model_id": "fc7d319a2c9d4cc3b28d70a50efb920c",
       "version_major": 2,
       "version_minor": 0
      },
      "text/plain": [
       "  0%|          | 0/10 [00:00<?, ?it/s]"
      ]
     },
     "metadata": {},
     "output_type": "display_data"
    },
    {
     "name": "stdout",
     "output_type": "stream",
     "text": [
      "Epoch: 10 | Train Loss: 0.0655 | Acc: 0.9818 | Prec: 0.9832 | Recall: 0.9775 | F1: 0.9803 | ROC-AUC: 0.9955 || Test Loss: 0.3745 | Acc: 0.8884 | Prec: 0.9916 | Recall: 0.8872 | F1: 0.9365 | ROC-AUC: 0.9580\n",
      "Max val ROC-AUC: 0.9721\n",
      "Training with d_model=64, nhead=2, num_layers=2, dropout=0.0, lr=0.01\n"
     ]
    },
    {
     "data": {
      "application/vnd.jupyter.widget-view+json": {
       "model_id": "95242fabdd5c4692b3f6f34b717654fd",
       "version_major": 2,
       "version_minor": 0
      },
      "text/plain": [
       "  0%|          | 0/10 [00:00<?, ?it/s]"
      ]
     },
     "metadata": {},
     "output_type": "display_data"
    },
    {
     "name": "stdout",
     "output_type": "stream",
     "text": [
      "Epoch: 10 | Train Loss: 0.1009 | Acc: 0.9741 | Prec: 0.9710 | Recall: 0.9731 | F1: 0.9721 | ROC-AUC: 0.9933 || Test Loss: 0.4401 | Acc: 0.9070 | Prec: 0.9918 | Recall: 0.9073 | F1: 0.9476 | ROC-AUC: 0.9667\n",
      "Max val ROC-AUC: 0.9681\n",
      "Training with d_model=64, nhead=2, num_layers=2, dropout=0.0, lr=0.01\n"
     ]
    },
    {
     "data": {
      "application/vnd.jupyter.widget-view+json": {
       "model_id": "3c9a9988bee44fc4ba4770841888a1f3",
       "version_major": 2,
       "version_minor": 0
      },
      "text/plain": [
       "  0%|          | 0/10 [00:00<?, ?it/s]"
      ]
     },
     "metadata": {},
     "output_type": "display_data"
    },
    {
     "name": "stdout",
     "output_type": "stream",
     "text": [
      "Epoch: 10 | Train Loss: 0.0355 | Acc: 0.9885 | Prec: 0.9862 | Recall: 0.9891 | F1: 0.9877 | ROC-AUC: 0.9990 || Test Loss: 0.4163 | Acc: 0.9070 | Prec: 0.9891 | Recall: 0.9098 | F1: 0.9478 | ROC-AUC: 0.9581\n",
      "Max val ROC-AUC: 0.9712\n",
      "Training with d_model=64, nhead=2, num_layers=2, dropout=0.0, lr=0.01\n"
     ]
    },
    {
     "data": {
      "application/vnd.jupyter.widget-view+json": {
       "model_id": "4ddd3d5f5aa641e4aed2f320c2962824",
       "version_major": 2,
       "version_minor": 0
      },
      "text/plain": [
       "  0%|          | 0/10 [00:00<?, ?it/s]"
      ]
     },
     "metadata": {},
     "output_type": "display_data"
    },
    {
     "name": "stdout",
     "output_type": "stream",
     "text": [
      "Epoch: 10 | Train Loss: 0.0645 | Acc: 0.9788 | Prec: 0.9888 | Recall: 0.9651 | F1: 0.9768 | ROC-AUC: 0.9964 || Test Loss: 0.2850 | Acc: 0.9302 | Prec: 0.9767 | Recall: 0.9474 | F1: 0.9618 | ROC-AUC: 0.9368\n",
      "Max val ROC-AUC: 0.9368\n",
      "Training with d_model=64, nhead=2, num_layers=2, dropout=0.0, lr=0.001\n"
     ]
    },
    {
     "data": {
      "application/vnd.jupyter.widget-view+json": {
       "model_id": "5665863d5ef04f52af7f6e214435803f",
       "version_major": 2,
       "version_minor": 0
      },
      "text/plain": [
       "  0%|          | 0/10 [00:00<?, ?it/s]"
      ]
     },
     "metadata": {},
     "output_type": "display_data"
    },
    {
     "name": "stdout",
     "output_type": "stream",
     "text": [
      "Epoch: 10 | Train Loss: 0.0194 | Acc: 0.9953 | Prec: 0.9956 | Recall: 0.9942 | F1: 0.9949 | ROC-AUC: 0.9994 || Test Loss: 0.2608 | Acc: 0.9442 | Prec: 0.9795 | Recall: 0.9599 | F1: 0.9696 | ROC-AUC: 0.9442\n",
      "Max val ROC-AUC: 0.9442\n",
      "Training with d_model=64, nhead=2, num_layers=2, dropout=0.0, lr=0.001\n"
     ]
    },
    {
     "data": {
      "application/vnd.jupyter.widget-view+json": {
       "model_id": "275c385d7de04f0c95b750a57858a804",
       "version_major": 2,
       "version_minor": 0
      },
      "text/plain": [
       "  0%|          | 0/10 [00:00<?, ?it/s]"
      ]
     },
     "metadata": {},
     "output_type": "display_data"
    },
    {
     "name": "stdout",
     "output_type": "stream",
     "text": [
      "Epoch: 10 | Train Loss: 0.0183 | Acc: 0.9926 | Prec: 0.9956 | Recall: 0.9884 | F1: 0.9920 | ROC-AUC: 0.9997 || Test Loss: 0.4007 | Acc: 0.9279 | Prec: 0.9718 | Recall: 0.9499 | F1: 0.9607 | ROC-AUC: 0.9200\n",
      "Max val ROC-AUC: 0.9566\n",
      "Training with d_model=64, nhead=2, num_layers=2, dropout=0.0, lr=0.001\n"
     ]
    },
    {
     "data": {
      "application/vnd.jupyter.widget-view+json": {
       "model_id": "22c4f3fc9e4648e099c1b94ceb84ba85",
       "version_major": 2,
       "version_minor": 0
      },
      "text/plain": [
       "  0%|          | 0/10 [00:00<?, ?it/s]"
      ]
     },
     "metadata": {},
     "output_type": "display_data"
    },
    {
     "name": "stdout",
     "output_type": "stream",
     "text": [
      "Epoch: 10 | Train Loss: 0.0079 | Acc: 0.9970 | Prec: 0.9971 | Recall: 0.9964 | F1: 0.9967 | ROC-AUC: 1.0000 || Test Loss: 0.4040 | Acc: 0.9279 | Prec: 0.9792 | Recall: 0.9424 | F1: 0.9604 | ROC-AUC: 0.9432\n",
      "Max val ROC-AUC: 0.9554\n",
      "Training with d_model=64, nhead=2, num_layers=2, dropout=0.0, lr=0.001\n"
     ]
    },
    {
     "data": {
      "application/vnd.jupyter.widget-view+json": {
       "model_id": "af7194983e2f43468f9b0c2a138b48b8",
       "version_major": 2,
       "version_minor": 0
      },
      "text/plain": [
       "  0%|          | 0/10 [00:00<?, ?it/s]"
      ]
     },
     "metadata": {},
     "output_type": "display_data"
    },
    {
     "name": "stdout",
     "output_type": "stream",
     "text": [
      "Epoch: 10 | Train Loss: 0.0351 | Acc: 0.9902 | Prec: 0.9920 | Recall: 0.9869 | F1: 0.9894 | ROC-AUC: 0.9986 || Test Loss: 0.3938 | Acc: 0.9140 | Prec: 0.9840 | Recall: 0.9223 | F1: 0.9521 | ROC-AUC: 0.9182\n",
      "Max val ROC-AUC: 0.9498\n",
      "Training with d_model=64, nhead=2, num_layers=2, dropout=0.0, lr=0.001\n"
     ]
    },
    {
     "data": {
      "application/vnd.jupyter.widget-view+json": {
       "model_id": "a10ab77715934b6d93b25f73c52f4a84",
       "version_major": 2,
       "version_minor": 0
      },
      "text/plain": [
       "  0%|          | 0/10 [00:00<?, ?it/s]"
      ]
     },
     "metadata": {},
     "output_type": "display_data"
    },
    {
     "name": "stdout",
     "output_type": "stream",
     "text": [
      "Epoch: 10 | Train Loss: 0.0246 | Acc: 0.9936 | Prec: 0.9942 | Recall: 0.9920 | F1: 0.9931 | ROC-AUC: 0.9995 || Test Loss: 0.2915 | Acc: 0.9163 | Prec: 0.9892 | Recall: 0.9198 | F1: 0.9532 | ROC-AUC: 0.9566\n",
      "Max val ROC-AUC: 0.9566\n",
      "Training with d_model=64, nhead=2, num_layers=2, dropout=0.0, lr=0.001\n"
     ]
    },
    {
     "data": {
      "application/vnd.jupyter.widget-view+json": {
       "model_id": "2377ac779bc1406fb565e5108eac635e",
       "version_major": 2,
       "version_minor": 0
      },
      "text/plain": [
       "  0%|          | 0/10 [00:00<?, ?it/s]"
      ]
     },
     "metadata": {},
     "output_type": "display_data"
    },
    {
     "name": "stdout",
     "output_type": "stream",
     "text": [
      "Epoch: 10 | Train Loss: 0.0315 | Acc: 0.9912 | Prec: 0.9956 | Recall: 0.9855 | F1: 0.9905 | ROC-AUC: 0.9986 || Test Loss: 0.3656 | Acc: 0.9070 | Prec: 0.9736 | Recall: 0.9248 | F1: 0.9486 | ROC-AUC: 0.9002\n",
      "Max val ROC-AUC: 0.9570\n",
      "Training with d_model=64, nhead=2, num_layers=2, dropout=0.0, lr=0.001\n"
     ]
    },
    {
     "data": {
      "application/vnd.jupyter.widget-view+json": {
       "model_id": "768b9e4f84f04b2283053c326c4e3bef",
       "version_major": 2,
       "version_minor": 0
      },
      "text/plain": [
       "  0%|          | 0/10 [00:00<?, ?it/s]"
      ]
     },
     "metadata": {},
     "output_type": "display_data"
    },
    {
     "name": "stdout",
     "output_type": "stream",
     "text": [
      "Epoch: 10 | Train Loss: 0.0149 | Acc: 0.9963 | Prec: 0.9949 | Recall: 0.9971 | F1: 0.9960 | ROC-AUC: 0.9992 || Test Loss: 0.3642 | Acc: 0.9372 | Prec: 0.9794 | Recall: 0.9524 | F1: 0.9657 | ROC-AUC: 0.9534\n",
      "Max val ROC-AUC: 0.9537\n",
      "Training with d_model=64, nhead=2, num_layers=2, dropout=0.0, lr=0.001\n"
     ]
    },
    {
     "data": {
      "application/vnd.jupyter.widget-view+json": {
       "model_id": "f3e89295061547b8950bcb97118f975f",
       "version_major": 2,
       "version_minor": 0
      },
      "text/plain": [
       "  0%|          | 0/10 [00:00<?, ?it/s]"
      ]
     },
     "metadata": {},
     "output_type": "display_data"
    },
    {
     "name": "stdout",
     "output_type": "stream",
     "text": [
      "Epoch: 10 | Train Loss: 0.0118 | Acc: 0.9963 | Prec: 0.9978 | Recall: 0.9942 | F1: 0.9960 | ROC-AUC: 0.9999 || Test Loss: 0.4431 | Acc: 0.9279 | Prec: 0.9792 | Recall: 0.9424 | F1: 0.9604 | ROC-AUC: 0.9416\n",
      "Max val ROC-AUC: 0.9617\n",
      "Training with d_model=64, nhead=2, num_layers=2, dropout=0.0, lr=0.001\n"
     ]
    },
    {
     "data": {
      "application/vnd.jupyter.widget-view+json": {
       "model_id": "aae51f69882a45e1b8db76da9e2871c9",
       "version_major": 2,
       "version_minor": 0
      },
      "text/plain": [
       "  0%|          | 0/10 [00:00<?, ?it/s]"
      ]
     },
     "metadata": {},
     "output_type": "display_data"
    },
    {
     "name": "stdout",
     "output_type": "stream",
     "text": [
      "Epoch: 10 | Train Loss: 0.0380 | Acc: 0.9909 | Prec: 0.9898 | Recall: 0.9906 | F1: 0.9902 | ROC-AUC: 0.9975 || Test Loss: 0.3167 | Acc: 0.9233 | Prec: 0.9766 | Recall: 0.9398 | F1: 0.9579 | ROC-AUC: 0.9534\n",
      "Max val ROC-AUC: 0.9534\n",
      "Training with d_model=64, nhead=2, num_layers=2, dropout=0.0, lr=0.001\n"
     ]
    },
    {
     "data": {
      "application/vnd.jupyter.widget-view+json": {
       "model_id": "8bb9b80282774a21bf1ad5eb5e79d168",
       "version_major": 2,
       "version_minor": 0
      },
      "text/plain": [
       "  0%|          | 0/10 [00:00<?, ?it/s]"
      ]
     },
     "metadata": {},
     "output_type": "display_data"
    },
    {
     "name": "stdout",
     "output_type": "stream",
     "text": [
      "Epoch: 10 | Train Loss: 0.0321 | Acc: 0.9902 | Prec: 0.9934 | Recall: 0.9855 | F1: 0.9894 | ROC-AUC: 0.9986 || Test Loss: 0.3699 | Acc: 0.9326 | Prec: 0.9793 | Recall: 0.9474 | F1: 0.9631 | ROC-AUC: 0.9439\n",
      "Max val ROC-AUC: 0.9501\n",
      "Training with d_model=64, nhead=2, num_layers=2, dropout=0.1, lr=0.1\n"
     ]
    },
    {
     "data": {
      "application/vnd.jupyter.widget-view+json": {
       "model_id": "61d4f4a8da034c5ea7479618ac4ffc19",
       "version_major": 2,
       "version_minor": 0
      },
      "text/plain": [
       "  0%|          | 0/10 [00:00<?, ?it/s]"
      ]
     },
     "metadata": {},
     "output_type": "display_data"
    },
    {
     "name": "stdout",
     "output_type": "stream",
     "text": [
      "Epoch: 10 | Train Loss: 0.3402 | Acc: 0.8713 | Prec: 0.8732 | Recall: 0.8453 | F1: 0.8590 | ROC-AUC: 0.9338 || Test Loss: 0.2959 | Acc: 0.8442 | Prec: 0.9882 | Recall: 0.8421 | F1: 0.9093 | ROC-AUC: 0.9347\n",
      "Max val ROC-AUC: 0.9456\n",
      "Training with d_model=64, nhead=2, num_layers=2, dropout=0.1, lr=0.1\n"
     ]
    },
    {
     "data": {
      "application/vnd.jupyter.widget-view+json": {
       "model_id": "b8efd63bafdc43a0b8d22b911fd9f56d",
       "version_major": 2,
       "version_minor": 0
      },
      "text/plain": [
       "  0%|          | 0/10 [00:00<?, ?it/s]"
      ]
     },
     "metadata": {},
     "output_type": "display_data"
    },
    {
     "name": "stdout",
     "output_type": "stream",
     "text": [
      "Epoch: 10 | Train Loss: 0.3320 | Acc: 0.8683 | Prec: 0.8894 | Recall: 0.8177 | F1: 0.8521 | ROC-AUC: 0.9336 || Test Loss: 0.7172 | Acc: 0.8395 | Prec: 0.9911 | Recall: 0.8346 | F1: 0.9061 | ROC-AUC: 0.9008\n",
      "Max val ROC-AUC: 0.9335\n",
      "Training with d_model=64, nhead=2, num_layers=2, dropout=0.1, lr=0.1\n"
     ]
    },
    {
     "data": {
      "application/vnd.jupyter.widget-view+json": {
       "model_id": "21aef74706254903b9266b61531b95f1",
       "version_major": 2,
       "version_minor": 0
      },
      "text/plain": [
       "  0%|          | 0/10 [00:00<?, ?it/s]"
      ]
     },
     "metadata": {},
     "output_type": "display_data"
    },
    {
     "name": "stdout",
     "output_type": "stream",
     "text": [
      "Epoch: 10 | Train Loss: 0.2707 | Acc: 0.9131 | Prec: 0.9730 | Recall: 0.8359 | F1: 0.8992 | ROC-AUC: 0.9308 || Test Loss: 0.4905 | Acc: 0.8279 | Prec: 0.9880 | Recall: 0.8246 | F1: 0.8989 | ROC-AUC: 0.8632\n",
      "Max val ROC-AUC: 0.9559\n",
      "Training with d_model=64, nhead=2, num_layers=2, dropout=0.1, lr=0.1\n"
     ]
    },
    {
     "data": {
      "application/vnd.jupyter.widget-view+json": {
       "model_id": "693a6e76fc7a4045b43985e890ae1f9c",
       "version_major": 2,
       "version_minor": 0
      },
      "text/plain": [
       "  0%|          | 0/10 [00:00<?, ?it/s]"
      ]
     },
     "metadata": {},
     "output_type": "display_data"
    },
    {
     "name": "stdout",
     "output_type": "stream",
     "text": [
      "Epoch: 10 | Train Loss: 0.2915 | Acc: 0.8811 | Prec: 0.9038 | Recall: 0.8322 | F1: 0.8665 | ROC-AUC: 0.9527 || Test Loss: 0.3491 | Acc: 0.8953 | Prec: 0.9784 | Recall: 0.9073 | F1: 0.9415 | ROC-AUC: 0.9412\n",
      "Max val ROC-AUC: 0.9547\n",
      "Training with d_model=64, nhead=2, num_layers=2, dropout=0.1, lr=0.1\n"
     ]
    },
    {
     "data": {
      "application/vnd.jupyter.widget-view+json": {
       "model_id": "83d785605d8a4bb4bc7de64e450ea5d8",
       "version_major": 2,
       "version_minor": 0
      },
      "text/plain": [
       "  0%|          | 0/10 [00:00<?, ?it/s]"
      ]
     },
     "metadata": {},
     "output_type": "display_data"
    },
    {
     "name": "stdout",
     "output_type": "stream",
     "text": [
      "Epoch: 10 | Train Loss: 0.2454 | Acc: 0.9131 | Prec: 0.9437 | Recall: 0.8642 | F1: 0.9022 | ROC-AUC: 0.9632 || Test Loss: 0.4364 | Acc: 0.7884 | Prec: 0.9904 | Recall: 0.7794 | F1: 0.8724 | ROC-AUC: 0.9060\n",
      "Max val ROC-AUC: 0.9613\n",
      "Training with d_model=64, nhead=2, num_layers=2, dropout=0.1, lr=0.1\n"
     ]
    },
    {
     "data": {
      "application/vnd.jupyter.widget-view+json": {
       "model_id": "d22e441fffa44519938d60f327cccc6c",
       "version_major": 2,
       "version_minor": 0
      },
      "text/plain": [
       "  0%|          | 0/10 [00:00<?, ?it/s]"
      ]
     },
     "metadata": {},
     "output_type": "display_data"
    },
    {
     "name": "stdout",
     "output_type": "stream",
     "text": [
      "Epoch: 10 | Train Loss: 0.3231 | Acc: 0.8865 | Prec: 0.8741 | Recall: 0.8824 | F1: 0.8782 | ROC-AUC: 0.9405 || Test Loss: 0.4748 | Acc: 0.8698 | Prec: 0.9858 | Recall: 0.8722 | F1: 0.9255 | ROC-AUC: 0.8919\n",
      "Max val ROC-AUC: 0.9503\n",
      "Training with d_model=64, nhead=2, num_layers=2, dropout=0.1, lr=0.1\n"
     ]
    },
    {
     "data": {
      "application/vnd.jupyter.widget-view+json": {
       "model_id": "eb1ac5722c8f4ad6bb8eb899121582a5",
       "version_major": 2,
       "version_minor": 0
      },
      "text/plain": [
       "  0%|          | 0/10 [00:00<?, ?it/s]"
      ]
     },
     "metadata": {},
     "output_type": "display_data"
    },
    {
     "name": "stdout",
     "output_type": "stream",
     "text": [
      "Epoch: 10 | Train Loss: 0.3378 | Acc: 0.8764 | Prec: 0.9126 | Recall: 0.8112 | F1: 0.8589 | ROC-AUC: 0.9331 || Test Loss: 0.3726 | Acc: 0.7884 | Prec: 0.9936 | Recall: 0.7769 | F1: 0.8720 | ROC-AUC: 0.8976\n",
      "Max val ROC-AUC: 0.9503\n",
      "Training with d_model=64, nhead=2, num_layers=2, dropout=0.1, lr=0.1\n"
     ]
    },
    {
     "data": {
      "application/vnd.jupyter.widget-view+json": {
       "model_id": "64537c951ac0494f818b1b0291c4cc9c",
       "version_major": 2,
       "version_minor": 0
      },
      "text/plain": [
       "  0%|          | 0/10 [00:00<?, ?it/s]"
      ]
     },
     "metadata": {},
     "output_type": "display_data"
    },
    {
     "name": "stdout",
     "output_type": "stream",
     "text": [
      "Epoch: 10 | Train Loss: 0.4361 | Acc: 0.8387 | Prec: 0.9204 | Recall: 0.7139 | F1: 0.8041 | ROC-AUC: 0.8864 || Test Loss: 0.4050 | Acc: 0.7326 | Prec: 0.9863 | Recall: 0.7218 | F1: 0.8336 | ROC-AUC: 0.8873\n",
      "Max val ROC-AUC: 0.9452\n",
      "Training with d_model=64, nhead=2, num_layers=2, dropout=0.1, lr=0.1\n"
     ]
    },
    {
     "data": {
      "application/vnd.jupyter.widget-view+json": {
       "model_id": "dd49fb76f8654db6b07358f79c17d718",
       "version_major": 2,
       "version_minor": 0
      },
      "text/plain": [
       "  0%|          | 0/10 [00:00<?, ?it/s]"
      ]
     },
     "metadata": {},
     "output_type": "display_data"
    },
    {
     "name": "stdout",
     "output_type": "stream",
     "text": [
      "Epoch: 10 | Train Loss: 0.2258 | Acc: 0.9262 | Prec: 0.9276 | Recall: 0.9121 | F1: 0.9198 | ROC-AUC: 0.9684 || Test Loss: 1.4595 | Acc: 0.8047 | Prec: 0.9876 | Recall: 0.7995 | F1: 0.8837 | ROC-AUC: 0.8986\n",
      "Max val ROC-AUC: 0.9402\n",
      "Training with d_model=64, nhead=2, num_layers=2, dropout=0.1, lr=0.1\n"
     ]
    },
    {
     "data": {
      "application/vnd.jupyter.widget-view+json": {
       "model_id": "e5a442209889411c9626cbe30cecf4e6",
       "version_major": 2,
       "version_minor": 0
      },
      "text/plain": [
       "  0%|          | 0/10 [00:00<?, ?it/s]"
      ]
     },
     "metadata": {},
     "output_type": "display_data"
    },
    {
     "name": "stdout",
     "output_type": "stream",
     "text": [
      "Epoch: 10 | Train Loss: 0.3032 | Acc: 0.8915 | Prec: 0.9313 | Recall: 0.8272 | F1: 0.8762 | ROC-AUC: 0.9415 || Test Loss: 0.3827 | Acc: 0.8837 | Prec: 0.9861 | Recall: 0.8872 | F1: 0.9340 | ROC-AUC: 0.9063\n",
      "Max val ROC-AUC: 0.9482\n",
      "Training with d_model=64, nhead=2, num_layers=2, dropout=0.1, lr=0.01\n"
     ]
    },
    {
     "data": {
      "application/vnd.jupyter.widget-view+json": {
       "model_id": "e41ca76abc6b4d44a11a51c10153f41c",
       "version_major": 2,
       "version_minor": 0
      },
      "text/plain": [
       "  0%|          | 0/10 [00:00<?, ?it/s]"
      ]
     },
     "metadata": {},
     "output_type": "display_data"
    },
    {
     "name": "stdout",
     "output_type": "stream",
     "text": [
      "Epoch: 10 | Train Loss: 0.1057 | Acc: 0.9710 | Prec: 0.9857 | Recall: 0.9513 | F1: 0.9682 | ROC-AUC: 0.9899 || Test Loss: 0.6727 | Acc: 0.7000 | Prec: 0.9963 | Recall: 0.6792 | F1: 0.8077 | ROC-AUC: 0.9500\n",
      "Max val ROC-AUC: 0.9691\n",
      "Training with d_model=64, nhead=2, num_layers=2, dropout=0.1, lr=0.01\n"
     ]
    },
    {
     "data": {
      "application/vnd.jupyter.widget-view+json": {
       "model_id": "282cc288211048aa87665663e1de9fab",
       "version_major": 2,
       "version_minor": 0
      },
      "text/plain": [
       "  0%|          | 0/10 [00:00<?, ?it/s]"
      ]
     },
     "metadata": {},
     "output_type": "display_data"
    },
    {
     "name": "stdout",
     "output_type": "stream",
     "text": [
      "Epoch: 10 | Train Loss: 0.1010 | Acc: 0.9673 | Prec: 0.9856 | Recall: 0.9434 | F1: 0.9640 | ROC-AUC: 0.9912 || Test Loss: 0.4802 | Acc: 0.9047 | Prec: 0.9838 | Recall: 0.9123 | F1: 0.9467 | ROC-AUC: 0.9284\n",
      "Max val ROC-AUC: 0.9438\n",
      "Training with d_model=64, nhead=2, num_layers=2, dropout=0.1, lr=0.01\n"
     ]
    },
    {
     "data": {
      "application/vnd.jupyter.widget-view+json": {
       "model_id": "ffa63d0d0d9e436ea2b5850da3490bbb",
       "version_major": 2,
       "version_minor": 0
      },
      "text/plain": [
       "  0%|          | 0/10 [00:00<?, ?it/s]"
      ]
     },
     "metadata": {},
     "output_type": "display_data"
    },
    {
     "name": "stdout",
     "output_type": "stream",
     "text": [
      "Epoch: 10 | Train Loss: 0.1087 | Acc: 0.9630 | Prec: 0.9854 | Recall: 0.9339 | F1: 0.9590 | ROC-AUC: 0.9898 || Test Loss: 0.3723 | Acc: 0.9023 | Prec: 0.9890 | Recall: 0.9048 | F1: 0.9450 | ROC-AUC: 0.9317\n",
      "Max val ROC-AUC: 0.9484\n",
      "Training with d_model=64, nhead=2, num_layers=2, dropout=0.1, lr=0.01\n"
     ]
    },
    {
     "data": {
      "application/vnd.jupyter.widget-view+json": {
       "model_id": "cdc657d7a188433895fe6e5ecb696268",
       "version_major": 2,
       "version_minor": 0
      },
      "text/plain": [
       "  0%|          | 0/10 [00:00<?, ?it/s]"
      ]
     },
     "metadata": {},
     "output_type": "display_data"
    },
    {
     "name": "stdout",
     "output_type": "stream",
     "text": [
      "Epoch: 10 | Train Loss: 0.1109 | Acc: 0.9670 | Prec: 0.9762 | Recall: 0.9521 | F1: 0.9640 | ROC-AUC: 0.9884 || Test Loss: 0.5523 | Acc: 0.8721 | Prec: 0.9914 | Recall: 0.8697 | F1: 0.9266 | ROC-AUC: 0.9595\n",
      "Max val ROC-AUC: 0.9595\n",
      "Training with d_model=64, nhead=2, num_layers=2, dropout=0.1, lr=0.01\n"
     ]
    },
    {
     "data": {
      "application/vnd.jupyter.widget-view+json": {
       "model_id": "385043dafe93482f99c99268045236fa",
       "version_major": 2,
       "version_minor": 0
      },
      "text/plain": [
       "  0%|          | 0/10 [00:00<?, ?it/s]"
      ]
     },
     "metadata": {},
     "output_type": "display_data"
    },
    {
     "name": "stdout",
     "output_type": "stream",
     "text": [
      "Epoch: 10 | Train Loss: 0.0635 | Acc: 0.9808 | Prec: 0.9896 | Recall: 0.9688 | F1: 0.9791 | ROC-AUC: 0.9954 || Test Loss: 0.2904 | Acc: 0.9140 | Prec: 0.9866 | Recall: 0.9198 | F1: 0.9520 | ROC-AUC: 0.9510\n",
      "Max val ROC-AUC: 0.9715\n",
      "Training with d_model=64, nhead=2, num_layers=2, dropout=0.1, lr=0.01\n"
     ]
    },
    {
     "data": {
      "application/vnd.jupyter.widget-view+json": {
       "model_id": "30ebf5dcd703456193fd6715e7769fda",
       "version_major": 2,
       "version_minor": 0
      },
      "text/plain": [
       "  0%|          | 0/10 [00:00<?, ?it/s]"
      ]
     },
     "metadata": {},
     "output_type": "display_data"
    },
    {
     "name": "stdout",
     "output_type": "stream",
     "text": [
      "Epoch: 10 | Train Loss: 0.0974 | Acc: 0.9656 | Prec: 0.9761 | Recall: 0.9492 | F1: 0.9624 | ROC-AUC: 0.9918 || Test Loss: 0.2786 | Acc: 0.9023 | Prec: 0.9837 | Recall: 0.9098 | F1: 0.9453 | ROC-AUC: 0.9280\n",
      "Max val ROC-AUC: 0.9412\n",
      "Training with d_model=64, nhead=2, num_layers=2, dropout=0.1, lr=0.01\n"
     ]
    },
    {
     "data": {
      "application/vnd.jupyter.widget-view+json": {
       "model_id": "22974e78a5fb40baad4eaafc5b9330e9",
       "version_major": 2,
       "version_minor": 0
      },
      "text/plain": [
       "  0%|          | 0/10 [00:00<?, ?it/s]"
      ]
     },
     "metadata": {},
     "output_type": "display_data"
    },
    {
     "name": "stdout",
     "output_type": "stream",
     "text": [
      "Epoch: 10 | Train Loss: 0.1392 | Acc: 0.9549 | Prec: 0.9628 | Recall: 0.9390 | F1: 0.9507 | ROC-AUC: 0.9854 || Test Loss: 0.3109 | Acc: 0.9000 | Prec: 0.9917 | Recall: 0.8997 | F1: 0.9435 | ROC-AUC: 0.9325\n",
      "Max val ROC-AUC: 0.9374\n",
      "Training with d_model=64, nhead=2, num_layers=2, dropout=0.1, lr=0.01\n"
     ]
    },
    {
     "data": {
      "application/vnd.jupyter.widget-view+json": {
       "model_id": "32b30784099a476dbdebbe577dc004b4",
       "version_major": 2,
       "version_minor": 0
      },
      "text/plain": [
       "  0%|          | 0/10 [00:00<?, ?it/s]"
      ]
     },
     "metadata": {},
     "output_type": "display_data"
    },
    {
     "name": "stdout",
     "output_type": "stream",
     "text": [
      "Epoch: 10 | Train Loss: 0.1351 | Acc: 0.9579 | Prec: 0.9793 | Recall: 0.9288 | F1: 0.9534 | ROC-AUC: 0.9857 || Test Loss: 0.3230 | Acc: 0.8814 | Prec: 0.9888 | Recall: 0.8822 | F1: 0.9325 | ROC-AUC: 0.9491\n",
      "Max val ROC-AUC: 0.9491\n",
      "Training with d_model=64, nhead=2, num_layers=2, dropout=0.1, lr=0.01\n"
     ]
    },
    {
     "data": {
      "application/vnd.jupyter.widget-view+json": {
       "model_id": "39aa58e2b1fc48439c12641fcf76c1d5",
       "version_major": 2,
       "version_minor": 0
      },
      "text/plain": [
       "  0%|          | 0/10 [00:00<?, ?it/s]"
      ]
     },
     "metadata": {},
     "output_type": "display_data"
    },
    {
     "name": "stdout",
     "output_type": "stream",
     "text": [
      "Epoch: 10 | Train Loss: 0.1316 | Acc: 0.9555 | Prec: 0.9800 | Recall: 0.9230 | F1: 0.9506 | ROC-AUC: 0.9852 || Test Loss: 0.3230 | Acc: 0.9000 | Prec: 0.9837 | Recall: 0.9073 | F1: 0.9439 | ROC-AUC: 0.9329\n",
      "Max val ROC-AUC: 0.9550\n",
      "Training with d_model=64, nhead=2, num_layers=2, dropout=0.1, lr=0.01\n"
     ]
    },
    {
     "data": {
      "application/vnd.jupyter.widget-view+json": {
       "model_id": "79dd2a7410884c36871e8826190535f9",
       "version_major": 2,
       "version_minor": 0
      },
      "text/plain": [
       "  0%|          | 0/10 [00:00<?, ?it/s]"
      ]
     },
     "metadata": {},
     "output_type": "display_data"
    },
    {
     "name": "stdout",
     "output_type": "stream",
     "text": [
      "Epoch: 10 | Train Loss: 0.1491 | Acc: 0.9485 | Prec: 0.9715 | Recall: 0.9158 | F1: 0.9428 | ROC-AUC: 0.9815 || Test Loss: 0.4934 | Acc: 0.8721 | Prec: 0.9831 | Recall: 0.8772 | F1: 0.9272 | ROC-AUC: 0.9042\n",
      "Max val ROC-AUC: 0.9482\n",
      "Training with d_model=64, nhead=2, num_layers=2, dropout=0.1, lr=0.001\n"
     ]
    },
    {
     "data": {
      "application/vnd.jupyter.widget-view+json": {
       "model_id": "fd314aa0d98146d384285e8b74358abd",
       "version_major": 2,
       "version_minor": 0
      },
      "text/plain": [
       "  0%|          | 0/10 [00:00<?, ?it/s]"
      ]
     },
     "metadata": {},
     "output_type": "display_data"
    },
    {
     "name": "stdout",
     "output_type": "stream",
     "text": [
      "Epoch: 10 | Train Loss: 0.0361 | Acc: 0.9885 | Prec: 0.9919 | Recall: 0.9833 | F1: 0.9876 | ROC-AUC: 0.9988 || Test Loss: 0.3632 | Acc: 0.9302 | Prec: 0.9868 | Recall: 0.9373 | F1: 0.9614 | ROC-AUC: 0.9547\n",
      "Max val ROC-AUC: 0.9588\n",
      "Training with d_model=64, nhead=2, num_layers=2, dropout=0.1, lr=0.001\n"
     ]
    },
    {
     "data": {
      "application/vnd.jupyter.widget-view+json": {
       "model_id": "3a69fd40b4dc46508905032b4874f6b5",
       "version_major": 2,
       "version_minor": 0
      },
      "text/plain": [
       "  0%|          | 0/10 [00:00<?, ?it/s]"
      ]
     },
     "metadata": {},
     "output_type": "display_data"
    },
    {
     "name": "stdout",
     "output_type": "stream",
     "text": [
      "Epoch: 10 | Train Loss: 0.0221 | Acc: 0.9933 | Prec: 0.9963 | Recall: 0.9891 | F1: 0.9927 | ROC-AUC: 0.9996 || Test Loss: 0.4074 | Acc: 0.9302 | Prec: 0.9719 | Recall: 0.9524 | F1: 0.9620 | ROC-AUC: 0.9331\n",
      "Max val ROC-AUC: 0.9527\n",
      "Training with d_model=64, nhead=2, num_layers=2, dropout=0.1, lr=0.001\n"
     ]
    },
    {
     "data": {
      "application/vnd.jupyter.widget-view+json": {
       "model_id": "668ca1e846004f0386a9cd7b9561318c",
       "version_major": 2,
       "version_minor": 0
      },
      "text/plain": [
       "  0%|          | 0/10 [00:00<?, ?it/s]"
      ]
     },
     "metadata": {},
     "output_type": "display_data"
    },
    {
     "name": "stdout",
     "output_type": "stream",
     "text": [
      "Epoch: 10 | Train Loss: 0.0088 | Acc: 0.9980 | Prec: 0.9978 | Recall: 0.9978 | F1: 0.9978 | ROC-AUC: 0.9999 || Test Loss: 0.5241 | Acc: 0.9256 | Prec: 0.9842 | Recall: 0.9348 | F1: 0.9589 | ROC-AUC: 0.9496\n",
      "Max val ROC-AUC: 0.9496\n",
      "Training with d_model=64, nhead=2, num_layers=2, dropout=0.1, lr=0.001\n"
     ]
    },
    {
     "data": {
      "application/vnd.jupyter.widget-view+json": {
       "model_id": "81fe824236394456995edfabf064264d",
       "version_major": 2,
       "version_minor": 0
      },
      "text/plain": [
       "  0%|          | 0/10 [00:00<?, ?it/s]"
      ]
     },
     "metadata": {},
     "output_type": "display_data"
    },
    {
     "name": "stdout",
     "output_type": "stream",
     "text": [
      "Epoch: 10 | Train Loss: 0.0267 | Acc: 0.9923 | Prec: 0.9956 | Recall: 0.9877 | F1: 0.9916 | ROC-AUC: 0.9991 || Test Loss: 0.3514 | Acc: 0.9349 | Prec: 0.9843 | Recall: 0.9449 | F1: 0.9642 | ROC-AUC: 0.9469\n",
      "Max val ROC-AUC: 0.9469\n",
      "Training with d_model=64, nhead=2, num_layers=2, dropout=0.1, lr=0.001\n"
     ]
    },
    {
     "data": {
      "application/vnd.jupyter.widget-view+json": {
       "model_id": "29e8574f452f45a5947b60b652258a85",
       "version_major": 2,
       "version_minor": 0
      },
      "text/plain": [
       "  0%|          | 0/10 [00:00<?, ?it/s]"
      ]
     },
     "metadata": {},
     "output_type": "display_data"
    },
    {
     "name": "stdout",
     "output_type": "stream",
     "text": [
      "Epoch: 10 | Train Loss: 0.0332 | Acc: 0.9936 | Prec: 0.9913 | Recall: 0.9949 | F1: 0.9931 | ROC-AUC: 0.9982 || Test Loss: 0.3110 | Acc: 0.9349 | Prec: 0.9744 | Recall: 0.9549 | F1: 0.9646 | ROC-AUC: 0.9182\n",
      "Max val ROC-AUC: 0.9534\n",
      "Training with d_model=64, nhead=2, num_layers=2, dropout=0.1, lr=0.001\n"
     ]
    },
    {
     "data": {
      "application/vnd.jupyter.widget-view+json": {
       "model_id": "8e1cbdeffb594121b8e70afa3a7b17f5",
       "version_major": 2,
       "version_minor": 0
      },
      "text/plain": [
       "  0%|          | 0/10 [00:00<?, ?it/s]"
      ]
     },
     "metadata": {},
     "output_type": "display_data"
    },
    {
     "name": "stdout",
     "output_type": "stream",
     "text": [
      "Epoch: 10 | Train Loss: 0.0273 | Acc: 0.9939 | Prec: 0.9956 | Recall: 0.9913 | F1: 0.9934 | ROC-AUC: 0.9992 || Test Loss: 0.8456 | Acc: 0.8442 | Prec: 0.9911 | Recall: 0.8396 | F1: 0.9091 | ROC-AUC: 0.9468\n",
      "Max val ROC-AUC: 0.9480\n",
      "Training with d_model=64, nhead=2, num_layers=2, dropout=0.1, lr=0.001\n"
     ]
    },
    {
     "data": {
      "application/vnd.jupyter.widget-view+json": {
       "model_id": "3870069ed44e461f95ec71290cc58ace",
       "version_major": 2,
       "version_minor": 0
      },
      "text/plain": [
       "  0%|          | 0/10 [00:00<?, ?it/s]"
      ]
     },
     "metadata": {},
     "output_type": "display_data"
    },
    {
     "name": "stdout",
     "output_type": "stream",
     "text": [
      "Epoch: 10 | Train Loss: 0.0250 | Acc: 0.9929 | Prec: 0.9934 | Recall: 0.9913 | F1: 0.9924 | ROC-AUC: 0.9992 || Test Loss: 0.3635 | Acc: 0.9233 | Prec: 0.9867 | Recall: 0.9298 | F1: 0.9574 | ROC-AUC: 0.9411\n",
      "Max val ROC-AUC: 0.9513\n",
      "Training with d_model=64, nhead=2, num_layers=2, dropout=0.1, lr=0.001\n"
     ]
    },
    {
     "data": {
      "application/vnd.jupyter.widget-view+json": {
       "model_id": "168d9997caa545d98c47169af21c8684",
       "version_major": 2,
       "version_minor": 0
      },
      "text/plain": [
       "  0%|          | 0/10 [00:00<?, ?it/s]"
      ]
     },
     "metadata": {},
     "output_type": "display_data"
    },
    {
     "name": "stdout",
     "output_type": "stream",
     "text": [
      "Epoch: 10 | Train Loss: 0.0276 | Acc: 0.9923 | Prec: 0.9899 | Recall: 0.9935 | F1: 0.9917 | ROC-AUC: 0.9990 || Test Loss: 0.4170 | Acc: 0.9256 | Prec: 0.9791 | Recall: 0.9398 | F1: 0.9591 | ROC-AUC: 0.9420\n",
      "Max val ROC-AUC: 0.9505\n",
      "Training with d_model=64, nhead=2, num_layers=2, dropout=0.1, lr=0.001\n"
     ]
    },
    {
     "data": {
      "application/vnd.jupyter.widget-view+json": {
       "model_id": "d4c19201bda54ca387bb268ac26aeef8",
       "version_major": 2,
       "version_minor": 0
      },
      "text/plain": [
       "  0%|          | 0/10 [00:00<?, ?it/s]"
      ]
     },
     "metadata": {},
     "output_type": "display_data"
    },
    {
     "name": "stdout",
     "output_type": "stream",
     "text": [
      "Epoch: 10 | Train Loss: 0.0254 | Acc: 0.9936 | Prec: 0.9935 | Recall: 0.9927 | F1: 0.9931 | ROC-AUC: 0.9992 || Test Loss: 0.3657 | Acc: 0.9256 | Prec: 0.9816 | Recall: 0.9373 | F1: 0.9590 | ROC-AUC: 0.9462\n",
      "Max val ROC-AUC: 0.9462\n",
      "Training with d_model=64, nhead=2, num_layers=2, dropout=0.1, lr=0.001\n"
     ]
    },
    {
     "data": {
      "application/vnd.jupyter.widget-view+json": {
       "model_id": "b55636a2fbb24d3e96b9136e6b67f06a",
       "version_major": 2,
       "version_minor": 0
      },
      "text/plain": [
       "  0%|          | 0/10 [00:00<?, ?it/s]"
      ]
     },
     "metadata": {},
     "output_type": "display_data"
    },
    {
     "name": "stdout",
     "output_type": "stream",
     "text": [
      "Epoch: 10 | Train Loss: 0.0137 | Acc: 0.9960 | Prec: 0.9956 | Recall: 0.9956 | F1: 0.9956 | ROC-AUC: 0.9999 || Test Loss: 0.4671 | Acc: 0.9163 | Prec: 0.9814 | Recall: 0.9273 | F1: 0.9536 | ROC-AUC: 0.9357\n",
      "Max val ROC-AUC: 0.9560\n",
      "Training with d_model=64, nhead=2, num_layers=2, dropout=0.3, lr=0.1\n"
     ]
    },
    {
     "data": {
      "application/vnd.jupyter.widget-view+json": {
       "model_id": "f76e9102adb440be956cd107a8461e4c",
       "version_major": 2,
       "version_minor": 0
      },
      "text/plain": [
       "  0%|          | 0/10 [00:00<?, ?it/s]"
      ]
     },
     "metadata": {},
     "output_type": "display_data"
    },
    {
     "name": "stdout",
     "output_type": "stream",
     "text": [
      "Epoch: 10 | Train Loss: 0.4518 | Acc: 0.8306 | Prec: 0.8594 | Recall: 0.7589 | F1: 0.8060 | ROC-AUC: 0.8712 || Test Loss: 0.2837 | Acc: 0.8558 | Prec: 0.9913 | Recall: 0.8521 | F1: 0.9164 | ROC-AUC: 0.8895\n",
      "Max val ROC-AUC: 0.9616\n",
      "Training with d_model=64, nhead=2, num_layers=2, dropout=0.3, lr=0.1\n"
     ]
    },
    {
     "data": {
      "application/vnd.jupyter.widget-view+json": {
       "model_id": "478074d01185408593046304cc75c81c",
       "version_major": 2,
       "version_minor": 0
      },
      "text/plain": [
       "  0%|          | 0/10 [00:00<?, ?it/s]"
      ]
     },
     "metadata": {},
     "output_type": "display_data"
    },
    {
     "name": "stdout",
     "output_type": "stream",
     "text": [
      "Epoch: 10 | Train Loss: 0.4474 | Acc: 0.8286 | Prec: 0.9289 | Recall: 0.6826 | F1: 0.7869 | ROC-AUC: 0.8403 || Test Loss: 0.2742 | Acc: 0.8372 | Prec: 0.9910 | Recall: 0.8321 | F1: 0.9046 | ROC-AUC: 0.8845\n",
      "Max val ROC-AUC: 0.9304\n",
      "Training with d_model=64, nhead=2, num_layers=2, dropout=0.3, lr=0.1\n"
     ]
    },
    {
     "data": {
      "application/vnd.jupyter.widget-view+json": {
       "model_id": "53bfac91e4eb44568eb3831e9514f977",
       "version_major": 2,
       "version_minor": 0
      },
      "text/plain": [
       "  0%|          | 0/10 [00:00<?, ?it/s]"
      ]
     },
     "metadata": {},
     "output_type": "display_data"
    },
    {
     "name": "stdout",
     "output_type": "stream",
     "text": [
      "Epoch: 10 | Train Loss: 0.4734 | Acc: 0.7932 | Prec: 0.7622 | Recall: 0.8054 | F1: 0.7832 | ROC-AUC: 0.8738 || Test Loss: 0.4810 | Acc: 0.9256 | Prec: 0.9766 | Recall: 0.9424 | F1: 0.9592 | ROC-AUC: 0.8732\n",
      "Max val ROC-AUC: 0.9603\n",
      "Training with d_model=64, nhead=2, num_layers=2, dropout=0.3, lr=0.1\n"
     ]
    },
    {
     "data": {
      "application/vnd.jupyter.widget-view+json": {
       "model_id": "7bb9f29ccafe4ee89375eed2e5e9f90c",
       "version_major": 2,
       "version_minor": 0
      },
      "text/plain": [
       "  0%|          | 0/10 [00:00<?, ?it/s]"
      ]
     },
     "metadata": {},
     "output_type": "display_data"
    },
    {
     "name": "stdout",
     "output_type": "stream",
     "text": [
      "Epoch: 10 | Train Loss: 0.4219 | Acc: 0.8501 | Prec: 0.8923 | Recall: 0.7698 | F1: 0.8265 | ROC-AUC: 0.8846 || Test Loss: 1.3835 | Acc: 0.2628 | Prec: 1.0000 | Recall: 0.2055 | F1: 0.3410 | ROC-AUC: 0.9211\n",
      "Max val ROC-AUC: 0.9351\n",
      "Training with d_model=64, nhead=2, num_layers=2, dropout=0.3, lr=0.1\n"
     ]
    },
    {
     "data": {
      "application/vnd.jupyter.widget-view+json": {
       "model_id": "21db3fc900ae4feb8541972daab4d865",
       "version_major": 2,
       "version_minor": 0
      },
      "text/plain": [
       "  0%|          | 0/10 [00:00<?, ?it/s]"
      ]
     },
     "metadata": {},
     "output_type": "display_data"
    },
    {
     "name": "stdout",
     "output_type": "stream",
     "text": [
      "Epoch: 10 | Train Loss: 0.4517 | Acc: 0.8373 | Prec: 0.9154 | Recall: 0.7153 | F1: 0.8031 | ROC-AUC: 0.8622 || Test Loss: 0.7312 | Acc: 0.5047 | Prec: 0.9947 | Recall: 0.4687 | F1: 0.6371 | ROC-AUC: 0.7749\n",
      "Max val ROC-AUC: 0.9438\n",
      "Training with d_model=64, nhead=2, num_layers=2, dropout=0.3, lr=0.1\n"
     ]
    },
    {
     "data": {
      "application/vnd.jupyter.widget-view+json": {
       "model_id": "cdaa2cb717e640039a901bd5363209c7",
       "version_major": 2,
       "version_minor": 0
      },
      "text/plain": [
       "  0%|          | 0/10 [00:00<?, ?it/s]"
      ]
     },
     "metadata": {},
     "output_type": "display_data"
    },
    {
     "name": "stdout",
     "output_type": "stream",
     "text": [
      "Epoch: 10 | Train Loss: 0.4028 | Acc: 0.8582 | Prec: 0.9178 | Recall: 0.7625 | F1: 0.8330 | ROC-AUC: 0.8911 || Test Loss: 0.4723 | Acc: 0.7605 | Prec: 0.9901 | Recall: 0.7494 | F1: 0.8531 | ROC-AUC: 0.8517\n",
      "Max val ROC-AUC: 0.9580\n",
      "Training with d_model=64, nhead=2, num_layers=2, dropout=0.3, lr=0.1\n"
     ]
    },
    {
     "data": {
      "application/vnd.jupyter.widget-view+json": {
       "model_id": "1119c269f1c348adb8934db98012e5f4",
       "version_major": 2,
       "version_minor": 0
      },
      "text/plain": [
       "  0%|          | 0/10 [00:00<?, ?it/s]"
      ]
     },
     "metadata": {},
     "output_type": "display_data"
    },
    {
     "name": "stdout",
     "output_type": "stream",
     "text": [
      "Epoch: 10 | Train Loss: 0.6939 | Acc: 0.5234 | Prec: 0.4087 | Recall: 0.0617 | F1: 0.1073 | ROC-AUC: 0.4840 || Test Loss: 0.7483 | Acc: 0.0721 | Prec: 0.0000 | Recall: 0.0000 | F1: 0.0000 | ROC-AUC: 0.5000\n",
      "Max val ROC-AUC: 0.7638\n",
      "Training with d_model=64, nhead=2, num_layers=2, dropout=0.3, lr=0.1\n"
     ]
    },
    {
     "data": {
      "application/vnd.jupyter.widget-view+json": {
       "model_id": "63ffd626d70d48468a58805f0cf13dac",
       "version_major": 2,
       "version_minor": 0
      },
      "text/plain": [
       "  0%|          | 0/10 [00:00<?, ?it/s]"
      ]
     },
     "metadata": {},
     "output_type": "display_data"
    },
    {
     "name": "stdout",
     "output_type": "stream",
     "text": [
      "Epoch: 10 | Train Loss: 0.4725 | Acc: 0.7952 | Prec: 0.9605 | Recall: 0.5824 | F1: 0.7251 | ROC-AUC: 0.8226 || Test Loss: 0.4632 | Acc: 0.6698 | Prec: 0.9923 | Recall: 0.6491 | F1: 0.7848 | ROC-AUC: 0.7999\n",
      "Max val ROC-AUC: 0.9391\n",
      "Training with d_model=64, nhead=2, num_layers=2, dropout=0.3, lr=0.1\n"
     ]
    },
    {
     "data": {
      "application/vnd.jupyter.widget-view+json": {
       "model_id": "cda353fc9ae546b793c63ee119625d50",
       "version_major": 2,
       "version_minor": 0
      },
      "text/plain": [
       "  0%|          | 0/10 [00:00<?, ?it/s]"
      ]
     },
     "metadata": {},
     "output_type": "display_data"
    },
    {
     "name": "stdout",
     "output_type": "stream",
     "text": [
      "Epoch: 10 | Train Loss: 0.4867 | Acc: 0.7811 | Prec: 0.8668 | Recall: 0.6238 | F1: 0.7255 | ROC-AUC: 0.8369 || Test Loss: 0.2586 | Acc: 0.8512 | Prec: 0.9912 | Recall: 0.8471 | F1: 0.9135 | ROC-AUC: 0.8982\n",
      "Max val ROC-AUC: 0.9707\n",
      "Training with d_model=64, nhead=2, num_layers=2, dropout=0.3, lr=0.1\n"
     ]
    },
    {
     "data": {
      "application/vnd.jupyter.widget-view+json": {
       "model_id": "d71e6e77d7e8477194793e97acb622de",
       "version_major": 2,
       "version_minor": 0
      },
      "text/plain": [
       "  0%|          | 0/10 [00:00<?, ?it/s]"
      ]
     },
     "metadata": {},
     "output_type": "display_data"
    },
    {
     "name": "stdout",
     "output_type": "stream",
     "text": [
      "Epoch: 10 | Train Loss: 0.6953 | Acc: 0.5237 | Prec: 0.4657 | Recall: 0.1823 | F1: 0.2620 | ROC-AUC: 0.5024 || Test Loss: 0.7221 | Acc: 0.0721 | Prec: 0.0000 | Recall: 0.0000 | F1: 0.0000 | ROC-AUC: 0.5000\n",
      "Max val ROC-AUC: 0.9505\n",
      "Training with d_model=64, nhead=2, num_layers=2, dropout=0.3, lr=0.01\n"
     ]
    },
    {
     "data": {
      "application/vnd.jupyter.widget-view+json": {
       "model_id": "bbf1f3d7bbfd467780502cde9db28f60",
       "version_major": 2,
       "version_minor": 0
      },
      "text/plain": [
       "  0%|          | 0/10 [00:00<?, ?it/s]"
      ]
     },
     "metadata": {},
     "output_type": "display_data"
    },
    {
     "name": "stdout",
     "output_type": "stream",
     "text": [
      "Epoch: 10 | Train Loss: 0.1554 | Acc: 0.9532 | Prec: 0.9747 | Recall: 0.9230 | F1: 0.9482 | ROC-AUC: 0.9798 || Test Loss: 0.3946 | Acc: 0.8581 | Prec: 0.9856 | Recall: 0.8596 | F1: 0.9183 | ROC-AUC: 0.9211\n",
      "Max val ROC-AUC: 0.9545\n",
      "Training with d_model=64, nhead=2, num_layers=2, dropout=0.3, lr=0.01\n"
     ]
    },
    {
     "data": {
      "application/vnd.jupyter.widget-view+json": {
       "model_id": "6f6b392f2a4141d58796ca80e7077526",
       "version_major": 2,
       "version_minor": 0
      },
      "text/plain": [
       "  0%|          | 0/10 [00:00<?, ?it/s]"
      ]
     },
     "metadata": {},
     "output_type": "display_data"
    },
    {
     "name": "stdout",
     "output_type": "stream",
     "text": [
      "Epoch: 10 | Train Loss: 0.1746 | Acc: 0.9488 | Prec: 0.9658 | Recall: 0.9223 | F1: 0.9435 | ROC-AUC: 0.9766 || Test Loss: 0.4164 | Acc: 0.8907 | Prec: 0.9916 | Recall: 0.8897 | F1: 0.9379 | ROC-AUC: 0.9566\n",
      "Max val ROC-AUC: 0.9611\n",
      "Training with d_model=64, nhead=2, num_layers=2, dropout=0.3, lr=0.01\n"
     ]
    },
    {
     "data": {
      "application/vnd.jupyter.widget-view+json": {
       "model_id": "7de250dcaf6a4fe994100803d933af49",
       "version_major": 2,
       "version_minor": 0
      },
      "text/plain": [
       "  0%|          | 0/10 [00:00<?, ?it/s]"
      ]
     },
     "metadata": {},
     "output_type": "display_data"
    },
    {
     "name": "stdout",
     "output_type": "stream",
     "text": [
      "Epoch: 10 | Train Loss: 0.1139 | Acc: 0.9690 | Prec: 0.9856 | Recall: 0.9470 | F1: 0.9659 | ROC-AUC: 0.9874 || Test Loss: 0.3450 | Acc: 0.8814 | Prec: 0.9915 | Recall: 0.8797 | F1: 0.9323 | ROC-AUC: 0.9626\n",
      "Max val ROC-AUC: 0.9626\n",
      "Training with d_model=64, nhead=2, num_layers=2, dropout=0.3, lr=0.01\n"
     ]
    },
    {
     "data": {
      "application/vnd.jupyter.widget-view+json": {
       "model_id": "f66b9906b627450fa7c3f8557b727736",
       "version_major": 2,
       "version_minor": 0
      },
      "text/plain": [
       "  0%|          | 0/10 [00:00<?, ?it/s]"
      ]
     },
     "metadata": {},
     "output_type": "display_data"
    },
    {
     "name": "stdout",
     "output_type": "stream",
     "text": [
      "Epoch: 10 | Train Loss: 0.1583 | Acc: 0.9461 | Prec: 0.9551 | Recall: 0.9274 | F1: 0.9410 | ROC-AUC: 0.9834 || Test Loss: 0.3700 | Acc: 0.8953 | Prec: 0.9863 | Recall: 0.8997 | F1: 0.9410 | ROC-AUC: 0.9244\n",
      "Max val ROC-AUC: 0.9436\n",
      "Training with d_model=64, nhead=2, num_layers=2, dropout=0.3, lr=0.01\n"
     ]
    },
    {
     "data": {
      "application/vnd.jupyter.widget-view+json": {
       "model_id": "5c2af307db694d19b2936cf63d40aaf4",
       "version_major": 2,
       "version_minor": 0
      },
      "text/plain": [
       "  0%|          | 0/10 [00:00<?, ?it/s]"
      ]
     },
     "metadata": {},
     "output_type": "display_data"
    },
    {
     "name": "stdout",
     "output_type": "stream",
     "text": [
      "Epoch: 10 | Train Loss: 0.1068 | Acc: 0.9707 | Prec: 0.9806 | Recall: 0.9557 | F1: 0.9680 | ROC-AUC: 0.9888 || Test Loss: 0.4240 | Acc: 0.8721 | Prec: 0.9859 | Recall: 0.8747 | F1: 0.9270 | ROC-AUC: 0.9231\n",
      "Max val ROC-AUC: 0.9438\n",
      "Training with d_model=64, nhead=2, num_layers=2, dropout=0.3, lr=0.01\n"
     ]
    },
    {
     "data": {
      "application/vnd.jupyter.widget-view+json": {
       "model_id": "921d4dd89fb34c17a68bbe30637e5c44",
       "version_major": 2,
       "version_minor": 0
      },
      "text/plain": [
       "  0%|          | 0/10 [00:00<?, ?it/s]"
      ]
     },
     "metadata": {},
     "output_type": "display_data"
    },
    {
     "name": "stdout",
     "output_type": "stream",
     "text": [
      "Epoch: 10 | Train Loss: 0.1312 | Acc: 0.9586 | Prec: 0.9845 | Recall: 0.9252 | F1: 0.9539 | ROC-AUC: 0.9861 || Test Loss: 0.4065 | Acc: 0.8372 | Prec: 0.9910 | Recall: 0.8321 | F1: 0.9046 | ROC-AUC: 0.9184\n",
      "Max val ROC-AUC: 0.9543\n",
      "Training with d_model=64, nhead=2, num_layers=2, dropout=0.3, lr=0.01\n"
     ]
    },
    {
     "data": {
      "application/vnd.jupyter.widget-view+json": {
       "model_id": "0c0a2c5dd20e46418d5a154a4821c86a",
       "version_major": 2,
       "version_minor": 0
      },
      "text/plain": [
       "  0%|          | 0/10 [00:00<?, ?it/s]"
      ]
     },
     "metadata": {},
     "output_type": "display_data"
    },
    {
     "name": "stdout",
     "output_type": "stream",
     "text": [
      "Epoch: 10 | Train Loss: 0.1529 | Acc: 0.9572 | Prec: 0.9721 | Recall: 0.9346 | F1: 0.9530 | ROC-AUC: 0.9813 || Test Loss: 0.3487 | Acc: 0.8837 | Prec: 0.9861 | Recall: 0.8872 | F1: 0.9340 | ROC-AUC: 0.9417\n",
      "Max val ROC-AUC: 0.9536\n",
      "Training with d_model=64, nhead=2, num_layers=2, dropout=0.3, lr=0.01\n"
     ]
    },
    {
     "data": {
      "application/vnd.jupyter.widget-view+json": {
       "model_id": "cf6294b9e7f44c86adefed865711e2c5",
       "version_major": 2,
       "version_minor": 0
      },
      "text/plain": [
       "  0%|          | 0/10 [00:00<?, ?it/s]"
      ]
     },
     "metadata": {},
     "output_type": "display_data"
    },
    {
     "name": "stdout",
     "output_type": "stream",
     "text": [
      "Epoch: 10 | Train Loss: 0.1173 | Acc: 0.9636 | Prec: 0.9789 | Recall: 0.9419 | F1: 0.9600 | ROC-AUC: 0.9887 || Test Loss: 0.4123 | Acc: 0.8628 | Prec: 0.9885 | Recall: 0.8622 | F1: 0.9210 | ROC-AUC: 0.9466\n",
      "Max val ROC-AUC: 0.9527\n",
      "Training with d_model=64, nhead=2, num_layers=2, dropout=0.3, lr=0.01\n"
     ]
    },
    {
     "data": {
      "application/vnd.jupyter.widget-view+json": {
       "model_id": "cc707436119a416d9d2be426b74190ac",
       "version_major": 2,
       "version_minor": 0
      },
      "text/plain": [
       "  0%|          | 0/10 [00:00<?, ?it/s]"
      ]
     },
     "metadata": {},
     "output_type": "display_data"
    },
    {
     "name": "stdout",
     "output_type": "stream",
     "text": [
      "Epoch: 10 | Train Loss: 0.1835 | Acc: 0.9468 | Prec: 0.9728 | Recall: 0.9107 | F1: 0.9407 | ROC-AUC: 0.9715 || Test Loss: 0.6289 | Acc: 0.8349 | Prec: 0.9910 | Recall: 0.8296 | F1: 0.9031 | ROC-AUC: 0.9341\n",
      "Max val ROC-AUC: 0.9679\n",
      "Training with d_model=64, nhead=2, num_layers=2, dropout=0.3, lr=0.01\n"
     ]
    },
    {
     "data": {
      "application/vnd.jupyter.widget-view+json": {
       "model_id": "8452777fa0a54b1f9dc188ccc54847eb",
       "version_major": 2,
       "version_minor": 0
      },
      "text/plain": [
       "  0%|          | 0/10 [00:00<?, ?it/s]"
      ]
     },
     "metadata": {},
     "output_type": "display_data"
    },
    {
     "name": "stdout",
     "output_type": "stream",
     "text": [
      "Epoch: 10 | Train Loss: 0.1689 | Acc: 0.9451 | Prec: 0.9742 | Recall: 0.9056 | F1: 0.9387 | ROC-AUC: 0.9763 || Test Loss: 0.3125 | Acc: 0.9209 | Prec: 0.9815 | Recall: 0.9323 | F1: 0.9563 | ROC-AUC: 0.9442\n",
      "Max val ROC-AUC: 0.9517\n",
      "Training with d_model=64, nhead=2, num_layers=2, dropout=0.3, lr=0.001\n"
     ]
    },
    {
     "data": {
      "application/vnd.jupyter.widget-view+json": {
       "model_id": "884a72afad9b46e8a899ff3ce8090eb5",
       "version_major": 2,
       "version_minor": 0
      },
      "text/plain": [
       "  0%|          | 0/10 [00:00<?, ?it/s]"
      ]
     },
     "metadata": {},
     "output_type": "display_data"
    },
    {
     "name": "stdout",
     "output_type": "stream",
     "text": [
      "Epoch: 10 | Train Loss: 0.0620 | Acc: 0.9842 | Prec: 0.9897 | Recall: 0.9760 | F1: 0.9828 | ROC-AUC: 0.9958 || Test Loss: 0.2356 | Acc: 0.9419 | Prec: 0.9795 | Recall: 0.9574 | F1: 0.9683 | ROC-AUC: 0.9451\n",
      "Max val ROC-AUC: 0.9451\n",
      "Training with d_model=64, nhead=2, num_layers=2, dropout=0.3, lr=0.001\n"
     ]
    },
    {
     "data": {
      "application/vnd.jupyter.widget-view+json": {
       "model_id": "f25fabcb2d574bc7abb6256871bf0194",
       "version_major": 2,
       "version_minor": 0
      },
      "text/plain": [
       "  0%|          | 0/10 [00:00<?, ?it/s]"
      ]
     },
     "metadata": {},
     "output_type": "display_data"
    },
    {
     "name": "stdout",
     "output_type": "stream",
     "text": [
      "Epoch: 10 | Train Loss: 0.0331 | Acc: 0.9899 | Prec: 0.9905 | Recall: 0.9877 | F1: 0.9891 | ROC-AUC: 0.9992 || Test Loss: 0.4784 | Acc: 0.8814 | Prec: 0.9915 | Recall: 0.8797 | F1: 0.9323 | ROC-AUC: 0.9419\n",
      "Max val ROC-AUC: 0.9671\n",
      "Training with d_model=64, nhead=2, num_layers=2, dropout=0.3, lr=0.001\n"
     ]
    },
    {
     "data": {
      "application/vnd.jupyter.widget-view+json": {
       "model_id": "5c56639aedfc4b5894f325f1dd09cc9e",
       "version_major": 2,
       "version_minor": 0
      },
      "text/plain": [
       "  0%|          | 0/10 [00:00<?, ?it/s]"
      ]
     },
     "metadata": {},
     "output_type": "display_data"
    },
    {
     "name": "stdout",
     "output_type": "stream",
     "text": [
      "Epoch: 10 | Train Loss: 0.0350 | Acc: 0.9892 | Prec: 0.9912 | Recall: 0.9855 | F1: 0.9883 | ROC-AUC: 0.9989 || Test Loss: 0.4010 | Acc: 0.9233 | Prec: 0.9791 | Recall: 0.9373 | F1: 0.9577 | ROC-AUC: 0.9351\n",
      "Max val ROC-AUC: 0.9589\n",
      "Training with d_model=64, nhead=2, num_layers=2, dropout=0.3, lr=0.001\n"
     ]
    },
    {
     "data": {
      "application/vnd.jupyter.widget-view+json": {
       "model_id": "61e5756a864b4d2db0010e615b81e7db",
       "version_major": 2,
       "version_minor": 0
      },
      "text/plain": [
       "  0%|          | 0/10 [00:00<?, ?it/s]"
      ]
     },
     "metadata": {},
     "output_type": "display_data"
    },
    {
     "name": "stdout",
     "output_type": "stream",
     "text": [
      "Epoch: 10 | Train Loss: 0.0218 | Acc: 0.9936 | Prec: 0.9935 | Recall: 0.9927 | F1: 0.9931 | ROC-AUC: 0.9993 || Test Loss: 0.4598 | Acc: 0.9209 | Prec: 0.9815 | Recall: 0.9323 | F1: 0.9563 | ROC-AUC: 0.9472\n",
      "Max val ROC-AUC: 0.9560\n",
      "Training with d_model=64, nhead=2, num_layers=2, dropout=0.3, lr=0.001\n"
     ]
    },
    {
     "data": {
      "application/vnd.jupyter.widget-view+json": {
       "model_id": "6ec4f50833c04469b63957e65cd5ccfb",
       "version_major": 2,
       "version_minor": 0
      },
      "text/plain": [
       "  0%|          | 0/10 [00:00<?, ?it/s]"
      ]
     },
     "metadata": {},
     "output_type": "display_data"
    },
    {
     "name": "stdout",
     "output_type": "stream",
     "text": [
      "Epoch: 10 | Train Loss: 0.0368 | Acc: 0.9889 | Prec: 0.9912 | Recall: 0.9847 | F1: 0.9880 | ROC-AUC: 0.9988 || Test Loss: 0.6094 | Acc: 0.9116 | Prec: 0.9839 | Recall: 0.9198 | F1: 0.9508 | ROC-AUC: 0.9442\n",
      "Max val ROC-AUC: 0.9542\n",
      "Training with d_model=64, nhead=2, num_layers=2, dropout=0.3, lr=0.001\n"
     ]
    },
    {
     "data": {
      "application/vnd.jupyter.widget-view+json": {
       "model_id": "642ea9fb34304bd894bd7ec9fcda85ba",
       "version_major": 2,
       "version_minor": 0
      },
      "text/plain": [
       "  0%|          | 0/10 [00:00<?, ?it/s]"
      ]
     },
     "metadata": {},
     "output_type": "display_data"
    },
    {
     "name": "stdout",
     "output_type": "stream",
     "text": [
      "Epoch: 10 | Train Loss: 0.0445 | Acc: 0.9859 | Prec: 0.9912 | Recall: 0.9782 | F1: 0.9846 | ROC-AUC: 0.9984 || Test Loss: 0.3084 | Acc: 0.9256 | Prec: 0.9816 | Recall: 0.9373 | F1: 0.9590 | ROC-AUC: 0.9459\n",
      "Max val ROC-AUC: 0.9589\n",
      "Training with d_model=64, nhead=2, num_layers=2, dropout=0.3, lr=0.001\n"
     ]
    },
    {
     "data": {
      "application/vnd.jupyter.widget-view+json": {
       "model_id": "1beabd73d6364b269361a7b0fa5e08ce",
       "version_major": 2,
       "version_minor": 0
      },
      "text/plain": [
       "  0%|          | 0/10 [00:00<?, ?it/s]"
      ]
     },
     "metadata": {},
     "output_type": "display_data"
    },
    {
     "name": "stdout",
     "output_type": "stream",
     "text": [
      "Epoch: 10 | Train Loss: 0.0226 | Acc: 0.9926 | Prec: 0.9927 | Recall: 0.9913 | F1: 0.9920 | ROC-AUC: 0.9996 || Test Loss: 0.4131 | Acc: 0.9233 | Prec: 0.9867 | Recall: 0.9298 | F1: 0.9574 | ROC-AUC: 0.9561\n",
      "Max val ROC-AUC: 0.9563\n",
      "Training with d_model=64, nhead=2, num_layers=2, dropout=0.3, lr=0.001\n"
     ]
    },
    {
     "data": {
      "application/vnd.jupyter.widget-view+json": {
       "model_id": "ed21d892938944eb8b94da820b83a7b1",
       "version_major": 2,
       "version_minor": 0
      },
      "text/plain": [
       "  0%|          | 0/10 [00:00<?, ?it/s]"
      ]
     },
     "metadata": {},
     "output_type": "display_data"
    },
    {
     "name": "stdout",
     "output_type": "stream",
     "text": [
      "Epoch: 10 | Train Loss: 0.0378 | Acc: 0.9885 | Prec: 0.9905 | Recall: 0.9847 | F1: 0.9876 | ROC-AUC: 0.9989 || Test Loss: 0.4159 | Acc: 0.9186 | Prec: 0.9840 | Recall: 0.9273 | F1: 0.9548 | ROC-AUC: 0.9345\n",
      "Max val ROC-AUC: 0.9446\n",
      "Training with d_model=64, nhead=2, num_layers=2, dropout=0.3, lr=0.001\n"
     ]
    },
    {
     "data": {
      "application/vnd.jupyter.widget-view+json": {
       "model_id": "2648486475964515a47c392539f2cb0a",
       "version_major": 2,
       "version_minor": 0
      },
      "text/plain": [
       "  0%|          | 0/10 [00:00<?, ?it/s]"
      ]
     },
     "metadata": {},
     "output_type": "display_data"
    },
    {
     "name": "stdout",
     "output_type": "stream",
     "text": [
      "Epoch: 10 | Train Loss: 0.0146 | Acc: 0.9963 | Prec: 0.9971 | Recall: 0.9949 | F1: 0.9960 | ROC-AUC: 0.9998 || Test Loss: 0.4502 | Acc: 0.9326 | Prec: 0.9793 | Recall: 0.9474 | F1: 0.9631 | ROC-AUC: 0.9349\n",
      "Max val ROC-AUC: 0.9440\n",
      "Training with d_model=64, nhead=2, num_layers=2, dropout=0.3, lr=0.001\n"
     ]
    },
    {
     "data": {
      "application/vnd.jupyter.widget-view+json": {
       "model_id": "0f4e8a7e46b8465ea9034d3bee8682fb",
       "version_major": 2,
       "version_minor": 0
      },
      "text/plain": [
       "  0%|          | 0/10 [00:00<?, ?it/s]"
      ]
     },
     "metadata": {},
     "output_type": "display_data"
    },
    {
     "name": "stdout",
     "output_type": "stream",
     "text": [
      "Epoch: 10 | Train Loss: 0.0314 | Acc: 0.9926 | Prec: 0.9934 | Recall: 0.9906 | F1: 0.9920 | ROC-AUC: 0.9987 || Test Loss: 0.6231 | Acc: 0.8907 | Prec: 0.9862 | Recall: 0.8947 | F1: 0.9382 | ROC-AUC: 0.9324\n",
      "Max val ROC-AUC: 0.9659\n",
      "Training with d_model=64, nhead=2, num_layers=2, dropout=0.5, lr=0.1\n"
     ]
    },
    {
     "data": {
      "application/vnd.jupyter.widget-view+json": {
       "model_id": "48becb4b76d4406190ecdb48c3c520f9",
       "version_major": 2,
       "version_minor": 0
      },
      "text/plain": [
       "  0%|          | 0/10 [00:00<?, ?it/s]"
      ]
     },
     "metadata": {},
     "output_type": "display_data"
    },
    {
     "name": "stdout",
     "output_type": "stream",
     "text": [
      "Epoch: 10 | Train Loss: 0.7114 | Acc: 0.5298 | Prec: 0.4691 | Recall: 0.1046 | F1: 0.1710 | ROC-AUC: 0.4902 || Test Loss: 0.7292 | Acc: 0.0721 | Prec: 0.0000 | Recall: 0.0000 | F1: 0.0000 | ROC-AUC: 0.5000\n",
      "Max val ROC-AUC: 0.5000\n",
      "Training with d_model=64, nhead=2, num_layers=2, dropout=0.5, lr=0.1\n"
     ]
    },
    {
     "data": {
      "application/vnd.jupyter.widget-view+json": {
       "model_id": "cd6f808a831240a2878a2c812bf881c0",
       "version_major": 2,
       "version_minor": 0
      },
      "text/plain": [
       "  0%|          | 0/10 [00:00<?, ?it/s]"
      ]
     },
     "metadata": {},
     "output_type": "display_data"
    },
    {
     "name": "stdout",
     "output_type": "stream",
     "text": [
      "Epoch: 10 | Train Loss: 0.7308 | Acc: 0.5261 | Prec: 0.4705 | Recall: 0.1736 | F1: 0.2536 | ROC-AUC: 0.4930 || Test Loss: 0.7557 | Acc: 0.0721 | Prec: 0.0000 | Recall: 0.0000 | F1: 0.0000 | ROC-AUC: 0.5000\n",
      "Max val ROC-AUC: 0.5000\n",
      "Training with d_model=64, nhead=2, num_layers=2, dropout=0.5, lr=0.1\n"
     ]
    },
    {
     "data": {
      "application/vnd.jupyter.widget-view+json": {
       "model_id": "9593975e8b7d4794aac528f8ffcb2796",
       "version_major": 2,
       "version_minor": 0
      },
      "text/plain": [
       "  0%|          | 0/10 [00:00<?, ?it/s]"
      ]
     },
     "metadata": {},
     "output_type": "display_data"
    },
    {
     "name": "stdout",
     "output_type": "stream",
     "text": [
      "Epoch: 10 | Train Loss: 0.7902 | Acc: 0.5338 | Prec: 0.4951 | Recall: 0.2578 | F1: 0.3391 | ROC-AUC: 0.5187 || Test Loss: 0.8585 | Acc: 0.0721 | Prec: 0.0000 | Recall: 0.0000 | F1: 0.0000 | ROC-AUC: 0.5000\n",
      "Max val ROC-AUC: 0.9595\n",
      "Training with d_model=64, nhead=2, num_layers=2, dropout=0.5, lr=0.1\n"
     ]
    },
    {
     "data": {
      "application/vnd.jupyter.widget-view+json": {
       "model_id": "244a378f468f4bb484ef179f52e2b949",
       "version_major": 2,
       "version_minor": 0
      },
      "text/plain": [
       "  0%|          | 0/10 [00:00<?, ?it/s]"
      ]
     },
     "metadata": {},
     "output_type": "display_data"
    },
    {
     "name": "stdout",
     "output_type": "stream",
     "text": [
      "Epoch: 10 | Train Loss: 0.7003 | Acc: 0.5197 | Prec: 0.4701 | Recall: 0.2796 | F1: 0.3506 | ROC-AUC: 0.5026 || Test Loss: 0.7384 | Acc: 0.0721 | Prec: 0.0000 | Recall: 0.0000 | F1: 0.0000 | ROC-AUC: 0.5000\n",
      "Max val ROC-AUC: 0.5000\n",
      "Training with d_model=64, nhead=2, num_layers=2, dropout=0.5, lr=0.1\n"
     ]
    },
    {
     "data": {
      "application/vnd.jupyter.widget-view+json": {
       "model_id": "39ea7b4f385c4b509f5dd2ef5b7c3906",
       "version_major": 2,
       "version_minor": 0
      },
      "text/plain": [
       "  0%|          | 0/10 [00:00<?, ?it/s]"
      ]
     },
     "metadata": {},
     "output_type": "display_data"
    },
    {
     "name": "stdout",
     "output_type": "stream",
     "text": [
      "Epoch: 10 | Train Loss: 0.6944 | Acc: 0.5197 | Prec: 0.4482 | Recall: 0.1540 | F1: 0.2292 | ROC-AUC: 0.4853 || Test Loss: 0.6955 | Acc: 0.0721 | Prec: 0.0000 | Recall: 0.0000 | F1: 0.0000 | ROC-AUC: 0.5000\n",
      "Max val ROC-AUC: 0.5000\n",
      "Training with d_model=64, nhead=2, num_layers=2, dropout=0.5, lr=0.1\n"
     ]
    },
    {
     "data": {
      "application/vnd.jupyter.widget-view+json": {
       "model_id": "2402309e38744356bbfed0d2f7d55ed4",
       "version_major": 2,
       "version_minor": 0
      },
      "text/plain": [
       "  0%|          | 0/10 [00:00<?, ?it/s]"
      ]
     },
     "metadata": {},
     "output_type": "display_data"
    },
    {
     "name": "stdout",
     "output_type": "stream",
     "text": [
      "Epoch: 10 | Train Loss: 0.7206 | Acc: 0.5298 | Prec: 0.4869 | Recall: 0.2556 | F1: 0.3352 | ROC-AUC: 0.5155 || Test Loss: 0.8701 | Acc: 0.0721 | Prec: 0.0000 | Recall: 0.0000 | F1: 0.0000 | ROC-AUC: 0.5002\n",
      "Max val ROC-AUC: 0.5002\n",
      "Training with d_model=64, nhead=2, num_layers=2, dropout=0.5, lr=0.1\n"
     ]
    },
    {
     "data": {
      "application/vnd.jupyter.widget-view+json": {
       "model_id": "4019aa5fe6a84710ac7a2a2f85efdfd1",
       "version_major": 2,
       "version_minor": 0
      },
      "text/plain": [
       "  0%|          | 0/10 [00:00<?, ?it/s]"
      ]
     },
     "metadata": {},
     "output_type": "display_data"
    },
    {
     "name": "stdout",
     "output_type": "stream",
     "text": [
      "Epoch: 10 | Train Loss: 0.6942 | Acc: 0.5315 | Prec: 0.4711 | Recall: 0.0828 | F1: 0.1408 | ROC-AUC: 0.4822 || Test Loss: 0.7911 | Acc: 0.0721 | Prec: 0.0000 | Recall: 0.0000 | F1: 0.0000 | ROC-AUC: 0.5000\n",
      "Max val ROC-AUC: 0.5000\n",
      "Training with d_model=64, nhead=2, num_layers=2, dropout=0.5, lr=0.1\n"
     ]
    },
    {
     "data": {
      "application/vnd.jupyter.widget-view+json": {
       "model_id": "b9862da884a043b1803d08f62544c56a",
       "version_major": 2,
       "version_minor": 0
      },
      "text/plain": [
       "  0%|          | 0/10 [00:00<?, ?it/s]"
      ]
     },
     "metadata": {},
     "output_type": "display_data"
    },
    {
     "name": "stdout",
     "output_type": "stream",
     "text": [
      "Epoch: 10 | Train Loss: 0.6992 | Acc: 0.5153 | Prec: 0.4526 | Recall: 0.2150 | F1: 0.2915 | ROC-AUC: 0.4796 || Test Loss: 0.8260 | Acc: 0.0721 | Prec: 0.0000 | Recall: 0.0000 | F1: 0.0000 | ROC-AUC: 0.5000\n",
      "Max val ROC-AUC: 0.5000\n",
      "Training with d_model=64, nhead=2, num_layers=2, dropout=0.5, lr=0.1\n"
     ]
    },
    {
     "data": {
      "application/vnd.jupyter.widget-view+json": {
       "model_id": "e8f21a4f728247149124a7c2a9a6206b",
       "version_major": 2,
       "version_minor": 0
      },
      "text/plain": [
       "  0%|          | 0/10 [00:00<?, ?it/s]"
      ]
     },
     "metadata": {},
     "output_type": "display_data"
    },
    {
     "name": "stdout",
     "output_type": "stream",
     "text": [
      "Epoch: 10 | Train Loss: 0.7115 | Acc: 0.5386 | Prec: 0.5069 | Recall: 0.1859 | F1: 0.2721 | ROC-AUC: 0.5122 || Test Loss: 0.7750 | Acc: 0.0721 | Prec: 0.0000 | Recall: 0.0000 | F1: 0.0000 | ROC-AUC: 0.5000\n",
      "Max val ROC-AUC: 0.9000\n",
      "Training with d_model=64, nhead=2, num_layers=2, dropout=0.5, lr=0.1\n"
     ]
    },
    {
     "data": {
      "application/vnd.jupyter.widget-view+json": {
       "model_id": "e28ccc4a21a24c8f81c2132689426071",
       "version_major": 2,
       "version_minor": 0
      },
      "text/plain": [
       "  0%|          | 0/10 [00:00<?, ?it/s]"
      ]
     },
     "metadata": {},
     "output_type": "display_data"
    },
    {
     "name": "stdout",
     "output_type": "stream",
     "text": [
      "Epoch: 10 | Train Loss: 0.7315 | Acc: 0.5153 | Prec: 0.4460 | Recall: 0.1859 | F1: 0.2624 | ROC-AUC: 0.4871 || Test Loss: 0.7441 | Acc: 0.0721 | Prec: 0.0000 | Recall: 0.0000 | F1: 0.0000 | ROC-AUC: 0.5000\n",
      "Max val ROC-AUC: 0.5855\n",
      "Training with d_model=64, nhead=2, num_layers=2, dropout=0.5, lr=0.01\n"
     ]
    },
    {
     "data": {
      "application/vnd.jupyter.widget-view+json": {
       "model_id": "341688b900404a639122b14ecadef0e2",
       "version_major": 2,
       "version_minor": 0
      },
      "text/plain": [
       "  0%|          | 0/10 [00:00<?, ?it/s]"
      ]
     },
     "metadata": {},
     "output_type": "display_data"
    },
    {
     "name": "stdout",
     "output_type": "stream",
     "text": [
      "Epoch: 10 | Train Loss: 0.1927 | Acc: 0.9407 | Prec: 0.9659 | Recall: 0.9041 | F1: 0.9340 | ROC-AUC: 0.9714 || Test Loss: 0.3245 | Acc: 0.8884 | Prec: 0.9889 | Recall: 0.8897 | F1: 0.9367 | ROC-AUC: 0.9211\n",
      "Max val ROC-AUC: 0.9448\n",
      "Training with d_model=64, nhead=2, num_layers=2, dropout=0.5, lr=0.01\n"
     ]
    },
    {
     "data": {
      "application/vnd.jupyter.widget-view+json": {
       "model_id": "69116e6ae3984e6c8d5a7bd4fd37205a",
       "version_major": 2,
       "version_minor": 0
      },
      "text/plain": [
       "  0%|          | 0/10 [00:00<?, ?it/s]"
      ]
     },
     "metadata": {},
     "output_type": "display_data"
    },
    {
     "name": "stdout",
     "output_type": "stream",
     "text": [
      "Epoch: 10 | Train Loss: 0.1468 | Acc: 0.9589 | Prec: 0.9736 | Recall: 0.9368 | F1: 0.9548 | ROC-AUC: 0.9826 || Test Loss: 0.3290 | Acc: 0.9093 | Prec: 0.9918 | Recall: 0.9098 | F1: 0.9490 | ROC-AUC: 0.9590\n",
      "Max val ROC-AUC: 0.9590\n",
      "Training with d_model=64, nhead=2, num_layers=2, dropout=0.5, lr=0.01\n"
     ]
    },
    {
     "data": {
      "application/vnd.jupyter.widget-view+json": {
       "model_id": "82f6eb724c294ba28cf848ba848e0e21",
       "version_major": 2,
       "version_minor": 0
      },
      "text/plain": [
       "  0%|          | 0/10 [00:00<?, ?it/s]"
      ]
     },
     "metadata": {},
     "output_type": "display_data"
    },
    {
     "name": "stdout",
     "output_type": "stream",
     "text": [
      "Epoch: 10 | Train Loss: 0.1281 | Acc: 0.9633 | Prec: 0.9862 | Recall: 0.9339 | F1: 0.9593 | ROC-AUC: 0.9851 || Test Loss: 0.5738 | Acc: 0.8674 | Prec: 0.9803 | Recall: 0.8747 | F1: 0.9245 | ROC-AUC: 0.9359\n",
      "Max val ROC-AUC: 0.9490\n",
      "Training with d_model=64, nhead=2, num_layers=2, dropout=0.5, lr=0.01\n"
     ]
    },
    {
     "data": {
      "application/vnd.jupyter.widget-view+json": {
       "model_id": "de3e2d23a580425293d10ce7a41a7bb8",
       "version_major": 2,
       "version_minor": 0
      },
      "text/plain": [
       "  0%|          | 0/10 [00:00<?, ?it/s]"
      ]
     },
     "metadata": {},
     "output_type": "display_data"
    },
    {
     "name": "stdout",
     "output_type": "stream",
     "text": [
      "Epoch: 10 | Train Loss: 0.1332 | Acc: 0.9592 | Prec: 0.9816 | Recall: 0.9296 | F1: 0.9549 | ROC-AUC: 0.9845 || Test Loss: 0.4251 | Acc: 0.9070 | Prec: 0.9891 | Recall: 0.9098 | F1: 0.9478 | ROC-AUC: 0.9006\n",
      "Max val ROC-AUC: 0.9457\n",
      "Training with d_model=64, nhead=2, num_layers=2, dropout=0.5, lr=0.01\n"
     ]
    },
    {
     "data": {
      "application/vnd.jupyter.widget-view+json": {
       "model_id": "3fcb00ea120f40b898d2ac7d28648342",
       "version_major": 2,
       "version_minor": 0
      },
      "text/plain": [
       "  0%|          | 0/10 [00:00<?, ?it/s]"
      ]
     },
     "metadata": {},
     "output_type": "display_data"
    },
    {
     "name": "stdout",
     "output_type": "stream",
     "text": [
      "Epoch: 10 | Train Loss: 0.1522 | Acc: 0.9535 | Prec: 0.9725 | Recall: 0.9259 | F1: 0.9487 | ROC-AUC: 0.9837 || Test Loss: 0.4159 | Acc: 0.8698 | Prec: 0.9914 | Recall: 0.8672 | F1: 0.9251 | ROC-AUC: 0.9500\n",
      "Max val ROC-AUC: 0.9520\n",
      "Training with d_model=64, nhead=2, num_layers=2, dropout=0.5, lr=0.01\n"
     ]
    },
    {
     "data": {
      "application/vnd.jupyter.widget-view+json": {
       "model_id": "8c259caf306340699902cdf31fe77a8e",
       "version_major": 2,
       "version_minor": 0
      },
      "text/plain": [
       "  0%|          | 0/10 [00:00<?, ?it/s]"
      ]
     },
     "metadata": {},
     "output_type": "display_data"
    },
    {
     "name": "stdout",
     "output_type": "stream",
     "text": [
      "Epoch: 10 | Train Loss: 0.1241 | Acc: 0.9599 | Prec: 0.9831 | Recall: 0.9296 | F1: 0.9556 | ROC-AUC: 0.9877 || Test Loss: 0.4631 | Acc: 0.9186 | Prec: 0.9815 | Recall: 0.9298 | F1: 0.9550 | ROC-AUC: 0.8741\n",
      "Max val ROC-AUC: 0.9504\n",
      "Training with d_model=64, nhead=2, num_layers=2, dropout=0.5, lr=0.01\n"
     ]
    },
    {
     "data": {
      "application/vnd.jupyter.widget-view+json": {
       "model_id": "64a014f6be294f7da5094244f629970f",
       "version_major": 2,
       "version_minor": 0
      },
      "text/plain": [
       "  0%|          | 0/10 [00:00<?, ?it/s]"
      ]
     },
     "metadata": {},
     "output_type": "display_data"
    },
    {
     "name": "stdout",
     "output_type": "stream",
     "text": [
      "Epoch: 10 | Train Loss: 0.1676 | Acc: 0.9552 | Prec: 0.9777 | Recall: 0.9245 | F1: 0.9504 | ROC-AUC: 0.9775 || Test Loss: 0.2328 | Acc: 0.9256 | Prec: 0.9867 | Recall: 0.9323 | F1: 0.9588 | ROC-AUC: 0.9555\n",
      "Max val ROC-AUC: 0.9555\n",
      "Training with d_model=64, nhead=2, num_layers=2, dropout=0.5, lr=0.01\n"
     ]
    },
    {
     "data": {
      "application/vnd.jupyter.widget-view+json": {
       "model_id": "91a34fc967b245289bd03638a00bde20",
       "version_major": 2,
       "version_minor": 0
      },
      "text/plain": [
       "  0%|          | 0/10 [00:00<?, ?it/s]"
      ]
     },
     "metadata": {},
     "output_type": "display_data"
    },
    {
     "name": "stdout",
     "output_type": "stream",
     "text": [
      "Epoch: 10 | Train Loss: 0.1099 | Acc: 0.9704 | Prec: 0.9879 | Recall: 0.9477 | F1: 0.9674 | ROC-AUC: 0.9885 || Test Loss: 0.5763 | Acc: 0.8837 | Prec: 0.9861 | Recall: 0.8872 | F1: 0.9340 | ROC-AUC: 0.9318\n",
      "Max val ROC-AUC: 0.9501\n",
      "Training with d_model=64, nhead=2, num_layers=2, dropout=0.5, lr=0.01\n"
     ]
    },
    {
     "data": {
      "application/vnd.jupyter.widget-view+json": {
       "model_id": "4c22d6beacf64e7e9aa8cc1a2cbf2d88",
       "version_major": 2,
       "version_minor": 0
      },
      "text/plain": [
       "  0%|          | 0/10 [00:00<?, ?it/s]"
      ]
     },
     "metadata": {},
     "output_type": "display_data"
    },
    {
     "name": "stdout",
     "output_type": "stream",
     "text": [
      "Epoch: 10 | Train Loss: 0.1538 | Acc: 0.9552 | Prec: 0.9719 | Recall: 0.9303 | F1: 0.9506 | ROC-AUC: 0.9819 || Test Loss: 0.2982 | Acc: 0.8814 | Prec: 0.9860 | Recall: 0.8847 | F1: 0.9326 | ROC-AUC: 0.9288\n",
      "Max val ROC-AUC: 0.9457\n",
      "Training with d_model=64, nhead=2, num_layers=2, dropout=0.5, lr=0.01\n"
     ]
    },
    {
     "data": {
      "application/vnd.jupyter.widget-view+json": {
       "model_id": "b2534c77a0074f2588fc4267c254fac6",
       "version_major": 2,
       "version_minor": 0
      },
      "text/plain": [
       "  0%|          | 0/10 [00:00<?, ?it/s]"
      ]
     },
     "metadata": {},
     "output_type": "display_data"
    },
    {
     "name": "stdout",
     "output_type": "stream",
     "text": [
      "Epoch: 10 | Train Loss: 0.1419 | Acc: 0.9559 | Prec: 0.9756 | Recall: 0.9281 | F1: 0.9512 | ROC-AUC: 0.9850 || Test Loss: 0.3956 | Acc: 0.8907 | Prec: 0.9862 | Recall: 0.8947 | F1: 0.9382 | ROC-AUC: 0.9062\n",
      "Max val ROC-AUC: 0.9462\n",
      "Training with d_model=64, nhead=2, num_layers=2, dropout=0.5, lr=0.001\n"
     ]
    },
    {
     "data": {
      "application/vnd.jupyter.widget-view+json": {
       "model_id": "8a96383cbd13401db75193f9b6d881aa",
       "version_major": 2,
       "version_minor": 0
      },
      "text/plain": [
       "  0%|          | 0/10 [00:00<?, ?it/s]"
      ]
     },
     "metadata": {},
     "output_type": "display_data"
    },
    {
     "name": "stdout",
     "output_type": "stream",
     "text": [
      "Epoch: 10 | Train Loss: 0.0548 | Acc: 0.9805 | Prec: 0.9889 | Recall: 0.9688 | F1: 0.9787 | ROC-AUC: 0.9977 || Test Loss: 0.4909 | Acc: 0.9163 | Prec: 0.9789 | Recall: 0.9298 | F1: 0.9537 | ROC-AUC: 0.9121\n",
      "Max val ROC-AUC: 0.9479\n",
      "Training with d_model=64, nhead=2, num_layers=2, dropout=0.5, lr=0.001\n"
     ]
    },
    {
     "data": {
      "application/vnd.jupyter.widget-view+json": {
       "model_id": "037073bd75364408a21b98ce0bbdf480",
       "version_major": 2,
       "version_minor": 0
      },
      "text/plain": [
       "  0%|          | 0/10 [00:00<?, ?it/s]"
      ]
     },
     "metadata": {},
     "output_type": "display_data"
    },
    {
     "name": "stdout",
     "output_type": "stream",
     "text": [
      "Epoch: 10 | Train Loss: 0.0759 | Acc: 0.9771 | Prec: 0.9873 | Recall: 0.9630 | F1: 0.9750 | ROC-AUC: 0.9954 || Test Loss: 0.5309 | Acc: 0.8860 | Prec: 0.9861 | Recall: 0.8897 | F1: 0.9354 | ROC-AUC: 0.9181\n",
      "Max val ROC-AUC: 0.9438\n",
      "Training with d_model=64, nhead=2, num_layers=2, dropout=0.5, lr=0.001\n"
     ]
    },
    {
     "data": {
      "application/vnd.jupyter.widget-view+json": {
       "model_id": "1520135a9fd84a6ca85d0167448bc465",
       "version_major": 2,
       "version_minor": 0
      },
      "text/plain": [
       "  0%|          | 0/10 [00:00<?, ?it/s]"
      ]
     },
     "metadata": {},
     "output_type": "display_data"
    },
    {
     "name": "stdout",
     "output_type": "stream",
     "text": [
      "Epoch: 10 | Train Loss: 0.0632 | Acc: 0.9818 | Prec: 0.9896 | Recall: 0.9710 | F1: 0.9802 | ROC-AUC: 0.9966 || Test Loss: 0.4441 | Acc: 0.9070 | Prec: 0.9864 | Recall: 0.9123 | F1: 0.9479 | ROC-AUC: 0.9341\n",
      "Max val ROC-AUC: 0.9561\n",
      "Training with d_model=64, nhead=2, num_layers=2, dropout=0.5, lr=0.001\n"
     ]
    },
    {
     "data": {
      "application/vnd.jupyter.widget-view+json": {
       "model_id": "0fb6e319c7444d70ad1526be69d529a2",
       "version_major": 2,
       "version_minor": 0
      },
      "text/plain": [
       "  0%|          | 0/10 [00:00<?, ?it/s]"
      ]
     },
     "metadata": {},
     "output_type": "display_data"
    },
    {
     "name": "stdout",
     "output_type": "stream",
     "text": [
      "Epoch: 10 | Train Loss: 0.0451 | Acc: 0.9855 | Prec: 0.9890 | Recall: 0.9797 | F1: 0.9843 | ROC-AUC: 0.9984 || Test Loss: 0.5510 | Acc: 0.9163 | Prec: 0.9814 | Recall: 0.9273 | F1: 0.9536 | ROC-AUC: 0.9086\n",
      "Max val ROC-AUC: 0.9351\n",
      "Training with d_model=64, nhead=2, num_layers=2, dropout=0.5, lr=0.001\n"
     ]
    },
    {
     "data": {
      "application/vnd.jupyter.widget-view+json": {
       "model_id": "c4840de7ada440f582276b0b2fcda8fc",
       "version_major": 2,
       "version_minor": 0
      },
      "text/plain": [
       "  0%|          | 0/10 [00:00<?, ?it/s]"
      ]
     },
     "metadata": {},
     "output_type": "display_data"
    },
    {
     "name": "stdout",
     "output_type": "stream",
     "text": [
      "Epoch: 10 | Train Loss: 0.0445 | Acc: 0.9845 | Prec: 0.9897 | Recall: 0.9768 | F1: 0.9832 | ROC-AUC: 0.9982 || Test Loss: 0.5274 | Acc: 0.8953 | Prec: 0.9784 | Recall: 0.9073 | F1: 0.9415 | ROC-AUC: 0.9010\n",
      "Max val ROC-AUC: 0.9449\n",
      "Training with d_model=64, nhead=2, num_layers=2, dropout=0.5, lr=0.001\n"
     ]
    },
    {
     "data": {
      "application/vnd.jupyter.widget-view+json": {
       "model_id": "00d7582f44c54fcdb5a7342ffe4e3872",
       "version_major": 2,
       "version_minor": 0
      },
      "text/plain": [
       "  0%|          | 0/10 [00:00<?, ?it/s]"
      ]
     },
     "metadata": {},
     "output_type": "display_data"
    },
    {
     "name": "stdout",
     "output_type": "stream",
     "text": [
      "Epoch: 10 | Train Loss: 0.0471 | Acc: 0.9848 | Prec: 0.9890 | Recall: 0.9782 | F1: 0.9836 | ROC-AUC: 0.9980 || Test Loss: 0.5581 | Acc: 0.9070 | Prec: 0.9838 | Recall: 0.9148 | F1: 0.9481 | ROC-AUC: 0.9143\n",
      "Max val ROC-AUC: 0.9508\n",
      "Training with d_model=64, nhead=2, num_layers=2, dropout=0.5, lr=0.001\n"
     ]
    },
    {
     "data": {
      "application/vnd.jupyter.widget-view+json": {
       "model_id": "6b68af3168a14eafa1f4006431b7a2c5",
       "version_major": 2,
       "version_minor": 0
      },
      "text/plain": [
       "  0%|          | 0/10 [00:00<?, ?it/s]"
      ]
     },
     "metadata": {},
     "output_type": "display_data"
    },
    {
     "name": "stdout",
     "output_type": "stream",
     "text": [
      "Epoch: 10 | Train Loss: 0.0535 | Acc: 0.9838 | Prec: 0.9875 | Recall: 0.9775 | F1: 0.9825 | ROC-AUC: 0.9976 || Test Loss: 0.4163 | Acc: 0.9372 | Prec: 0.9769 | Recall: 0.9549 | F1: 0.9658 | ROC-AUC: 0.9215\n",
      "Max val ROC-AUC: 0.9472\n",
      "Training with d_model=64, nhead=2, num_layers=2, dropout=0.5, lr=0.001\n"
     ]
    },
    {
     "data": {
      "application/vnd.jupyter.widget-view+json": {
       "model_id": "6772a55556e449179925477ccf8b0d9c",
       "version_major": 2,
       "version_minor": 0
      },
      "text/plain": [
       "  0%|          | 0/10 [00:00<?, ?it/s]"
      ]
     },
     "metadata": {},
     "output_type": "display_data"
    },
    {
     "name": "stdout",
     "output_type": "stream",
     "text": [
      "Epoch: 10 | Train Loss: 0.0563 | Acc: 0.9815 | Prec: 0.9867 | Recall: 0.9731 | F1: 0.9799 | ROC-AUC: 0.9973 || Test Loss: 0.3389 | Acc: 0.9349 | Prec: 0.9818 | Recall: 0.9474 | F1: 0.9643 | ROC-AUC: 0.9441\n",
      "Max val ROC-AUC: 0.9441\n",
      "Training with d_model=64, nhead=2, num_layers=2, dropout=0.5, lr=0.001\n"
     ]
    },
    {
     "data": {
      "application/vnd.jupyter.widget-view+json": {
       "model_id": "2885323df7c04e588365e83affc02b8b",
       "version_major": 2,
       "version_minor": 0
      },
      "text/plain": [
       "  0%|          | 0/10 [00:00<?, ?it/s]"
      ]
     },
     "metadata": {},
     "output_type": "display_data"
    },
    {
     "name": "stdout",
     "output_type": "stream",
     "text": [
      "Epoch: 10 | Train Loss: 0.0696 | Acc: 0.9791 | Prec: 0.9867 | Recall: 0.9680 | F1: 0.9773 | ROC-AUC: 0.9957 || Test Loss: 0.4229 | Acc: 0.9233 | Prec: 0.9841 | Recall: 0.9323 | F1: 0.9575 | ROC-AUC: 0.9322\n",
      "Max val ROC-AUC: 0.9462\n",
      "Training with d_model=64, nhead=2, num_layers=2, dropout=0.5, lr=0.001\n"
     ]
    },
    {
     "data": {
      "application/vnd.jupyter.widget-view+json": {
       "model_id": "261045785e7a43d8a7ce688111c8d40a",
       "version_major": 2,
       "version_minor": 0
      },
      "text/plain": [
       "  0%|          | 0/10 [00:00<?, ?it/s]"
      ]
     },
     "metadata": {},
     "output_type": "display_data"
    },
    {
     "name": "stdout",
     "output_type": "stream",
     "text": [
      "Epoch: 10 | Train Loss: 0.0632 | Acc: 0.9798 | Prec: 0.9911 | Recall: 0.9651 | F1: 0.9779 | ROC-AUC: 0.9966 || Test Loss: 0.4467 | Acc: 0.9279 | Prec: 0.9842 | Recall: 0.9373 | F1: 0.9602 | ROC-AUC: 0.9346\n",
      "Max val ROC-AUC: 0.9356\n",
      "Training with d_model=64, nhead=2, num_layers=4, dropout=0.0, lr=0.1\n"
     ]
    },
    {
     "data": {
      "application/vnd.jupyter.widget-view+json": {
       "model_id": "a4cbf36ed3874cbbb98ea2c8ac38dc84",
       "version_major": 2,
       "version_minor": 0
      },
      "text/plain": [
       "  0%|          | 0/10 [00:00<?, ?it/s]"
      ]
     },
     "metadata": {},
     "output_type": "display_data"
    },
    {
     "name": "stdout",
     "output_type": "stream",
     "text": [
      "Epoch: 10 | Train Loss: 0.2346 | Acc: 0.9212 | Prec: 0.9688 | Recall: 0.8577 | F1: 0.9099 | ROC-AUC: 0.9480 || Test Loss: 0.6498 | Acc: 0.8465 | Prec: 0.9883 | Recall: 0.8446 | F1: 0.9108 | ROC-AUC: 0.8779\n",
      "Max val ROC-AUC: 0.9425\n",
      "Training with d_model=64, nhead=2, num_layers=4, dropout=0.0, lr=0.1\n"
     ]
    },
    {
     "data": {
      "application/vnd.jupyter.widget-view+json": {
       "model_id": "ef0e5d61188542c18107ba1b27210d89",
       "version_major": 2,
       "version_minor": 0
      },
      "text/plain": [
       "  0%|          | 0/10 [00:00<?, ?it/s]"
      ]
     },
     "metadata": {},
     "output_type": "display_data"
    },
    {
     "name": "stdout",
     "output_type": "stream",
     "text": [
      "Epoch: 10 | Train Loss: 0.1608 | Acc: 0.9528 | Prec: 0.9434 | Recall: 0.9557 | F1: 0.9495 | ROC-AUC: 0.9783 || Test Loss: 0.3037 | Acc: 0.9186 | Prec: 0.9789 | Recall: 0.9323 | F1: 0.9551 | ROC-AUC: 0.8897\n",
      "Max val ROC-AUC: 0.9581\n",
      "Training with d_model=64, nhead=2, num_layers=4, dropout=0.0, lr=0.1\n"
     ]
    },
    {
     "data": {
      "application/vnd.jupyter.widget-view+json": {
       "model_id": "20761f4a89dc48cb9b6c25935a9a4856",
       "version_major": 2,
       "version_minor": 0
      },
      "text/plain": [
       "  0%|          | 0/10 [00:00<?, ?it/s]"
      ]
     },
     "metadata": {},
     "output_type": "display_data"
    },
    {
     "name": "stdout",
     "output_type": "stream",
     "text": [
      "Epoch: 10 | Train Loss: 0.1501 | Acc: 0.9559 | Prec: 0.9615 | Recall: 0.9426 | F1: 0.9520 | ROC-AUC: 0.9822 || Test Loss: 0.3981 | Acc: 0.9163 | Prec: 0.9840 | Recall: 0.9248 | F1: 0.9535 | ROC-AUC: 0.9377\n",
      "Max val ROC-AUC: 0.9681\n",
      "Training with d_model=64, nhead=2, num_layers=4, dropout=0.0, lr=0.1\n"
     ]
    },
    {
     "data": {
      "application/vnd.jupyter.widget-view+json": {
       "model_id": "232256e0795545c1bdded0799e4ba1f6",
       "version_major": 2,
       "version_minor": 0
      },
      "text/plain": [
       "  0%|          | 0/10 [00:00<?, ?it/s]"
      ]
     },
     "metadata": {},
     "output_type": "display_data"
    },
    {
     "name": "stdout",
     "output_type": "stream",
     "text": [
      "Epoch: 10 | Train Loss: 0.2077 | Acc: 0.9336 | Prec: 0.9307 | Recall: 0.9259 | F1: 0.9283 | ROC-AUC: 0.9709 || Test Loss: 0.2073 | Acc: 0.9279 | Prec: 0.9868 | Recall: 0.9348 | F1: 0.9601 | ROC-AUC: 0.9368\n",
      "Max val ROC-AUC: 0.9548\n",
      "Training with d_model=64, nhead=2, num_layers=4, dropout=0.0, lr=0.1\n"
     ]
    },
    {
     "data": {
      "application/vnd.jupyter.widget-view+json": {
       "model_id": "31e0ceb1a36f458c95675c337e50c669",
       "version_major": 2,
       "version_minor": 0
      },
      "text/plain": [
       "  0%|          | 0/10 [00:00<?, ?it/s]"
      ]
     },
     "metadata": {},
     "output_type": "display_data"
    },
    {
     "name": "stdout",
     "output_type": "stream",
     "text": [
      "Epoch: 10 | Train Loss: 0.2813 | Acc: 0.9121 | Prec: 0.9529 | Recall: 0.8526 | F1: 0.9000 | ROC-AUC: 0.9520 || Test Loss: 0.3590 | Acc: 0.8070 | Prec: 0.9937 | Recall: 0.7970 | F1: 0.8846 | ROC-AUC: 0.9571\n",
      "Max val ROC-AUC: 0.9580\n",
      "Training with d_model=64, nhead=2, num_layers=4, dropout=0.0, lr=0.1\n"
     ]
    },
    {
     "data": {
      "application/vnd.jupyter.widget-view+json": {
       "model_id": "2bb269a38ee04af7a7dfe89a1240ad83",
       "version_major": 2,
       "version_minor": 0
      },
      "text/plain": [
       "  0%|          | 0/10 [00:00<?, ?it/s]"
      ]
     },
     "metadata": {},
     "output_type": "display_data"
    },
    {
     "name": "stdout",
     "output_type": "stream",
     "text": [
      "Epoch: 10 | Train Loss: 0.1496 | Acc: 0.9542 | Prec: 0.9607 | Recall: 0.9397 | F1: 0.9501 | ROC-AUC: 0.9816 || Test Loss: 0.4287 | Acc: 0.8605 | Prec: 0.9857 | Recall: 0.8622 | F1: 0.9198 | ROC-AUC: 0.9166\n",
      "Max val ROC-AUC: 0.9483\n",
      "Training with d_model=64, nhead=2, num_layers=4, dropout=0.0, lr=0.1\n"
     ]
    },
    {
     "data": {
      "application/vnd.jupyter.widget-view+json": {
       "model_id": "2f69729a8da94d0c8eb863db0ab9c61e",
       "version_major": 2,
       "version_minor": 0
      },
      "text/plain": [
       "  0%|          | 0/10 [00:00<?, ?it/s]"
      ]
     },
     "metadata": {},
     "output_type": "display_data"
    },
    {
     "name": "stdout",
     "output_type": "stream",
     "text": [
      "Epoch: 10 | Train Loss: 0.1662 | Acc: 0.9444 | Prec: 0.9640 | Recall: 0.9143 | F1: 0.9385 | ROC-AUC: 0.9780 || Test Loss: 0.2224 | Acc: 0.9023 | Prec: 0.9890 | Recall: 0.9048 | F1: 0.9450 | ROC-AUC: 0.9319\n",
      "Max val ROC-AUC: 0.9375\n",
      "Training with d_model=64, nhead=2, num_layers=4, dropout=0.0, lr=0.1\n"
     ]
    },
    {
     "data": {
      "application/vnd.jupyter.widget-view+json": {
       "model_id": "4ff9ca4a19b84b3c88d660aac674f7de",
       "version_major": 2,
       "version_minor": 0
      },
      "text/plain": [
       "  0%|          | 0/10 [00:00<?, ?it/s]"
      ]
     },
     "metadata": {},
     "output_type": "display_data"
    },
    {
     "name": "stdout",
     "output_type": "stream",
     "text": [
      "Epoch: 10 | Train Loss: 0.1620 | Acc: 0.9491 | Prec: 0.9391 | Recall: 0.9521 | F1: 0.9455 | ROC-AUC: 0.9796 || Test Loss: 0.2087 | Acc: 0.9395 | Prec: 0.9844 | Recall: 0.9499 | F1: 0.9668 | ROC-AUC: 0.8898\n",
      "Max val ROC-AUC: 0.9428\n",
      "Training with d_model=64, nhead=2, num_layers=4, dropout=0.0, lr=0.1\n"
     ]
    },
    {
     "data": {
      "application/vnd.jupyter.widget-view+json": {
       "model_id": "7f115beedebc4cea82603fbacbaa8e33",
       "version_major": 2,
       "version_minor": 0
      },
      "text/plain": [
       "  0%|          | 0/10 [00:00<?, ?it/s]"
      ]
     },
     "metadata": {},
     "output_type": "display_data"
    },
    {
     "name": "stdout",
     "output_type": "stream",
     "text": [
      "Epoch: 10 | Train Loss: 0.1328 | Acc: 0.9599 | Prec: 0.9765 | Recall: 0.9361 | F1: 0.9559 | ROC-AUC: 0.9859 || Test Loss: 0.2770 | Acc: 0.8488 | Prec: 0.9941 | Recall: 0.8421 | F1: 0.9118 | ROC-AUC: 0.9555\n",
      "Max val ROC-AUC: 0.9619\n",
      "Training with d_model=64, nhead=2, num_layers=4, dropout=0.0, lr=0.1\n"
     ]
    },
    {
     "data": {
      "application/vnd.jupyter.widget-view+json": {
       "model_id": "4683173e2843420cb991aab34ff73374",
       "version_major": 2,
       "version_minor": 0
      },
      "text/plain": [
       "  0%|          | 0/10 [00:00<?, ?it/s]"
      ]
     },
     "metadata": {},
     "output_type": "display_data"
    },
    {
     "name": "stdout",
     "output_type": "stream",
     "text": [
      "Epoch: 10 | Train Loss: 0.2121 | Acc: 0.9350 | Prec: 0.9611 | Recall: 0.8962 | F1: 0.9275 | ROC-AUC: 0.9573 || Test Loss: 0.3125 | Acc: 0.8907 | Prec: 0.9835 | Recall: 0.8972 | F1: 0.9384 | ROC-AUC: 0.9095\n",
      "Max val ROC-AUC: 0.9473\n",
      "Training with d_model=64, nhead=2, num_layers=4, dropout=0.0, lr=0.01\n"
     ]
    },
    {
     "data": {
      "application/vnd.jupyter.widget-view+json": {
       "model_id": "a0fc17a9e8a44eee880c4a35c3918422",
       "version_major": 2,
       "version_minor": 0
      },
      "text/plain": [
       "  0%|          | 0/10 [00:00<?, ?it/s]"
      ]
     },
     "metadata": {},
     "output_type": "display_data"
    },
    {
     "name": "stdout",
     "output_type": "stream",
     "text": [
      "Epoch: 10 | Train Loss: 0.0829 | Acc: 0.9764 | Prec: 0.9746 | Recall: 0.9746 | F1: 0.9746 | ROC-AUC: 0.9944 || Test Loss: 0.5044 | Acc: 0.8651 | Prec: 0.9942 | Recall: 0.8596 | F1: 0.9220 | ROC-AUC: 0.9704\n",
      "Max val ROC-AUC: 0.9709\n",
      "Training with d_model=64, nhead=2, num_layers=4, dropout=0.0, lr=0.01\n"
     ]
    },
    {
     "data": {
      "application/vnd.jupyter.widget-view+json": {
       "model_id": "b1139942267e4806b3ad7a239e983f76",
       "version_major": 2,
       "version_minor": 0
      },
      "text/plain": [
       "  0%|          | 0/10 [00:00<?, ?it/s]"
      ]
     },
     "metadata": {},
     "output_type": "display_data"
    },
    {
     "name": "stdout",
     "output_type": "stream",
     "text": [
      "Epoch: 10 | Train Loss: 0.0420 | Acc: 0.9848 | Prec: 0.9840 | Recall: 0.9833 | F1: 0.9837 | ROC-AUC: 0.9986 || Test Loss: 0.4851 | Acc: 0.9140 | Prec: 0.9918 | Recall: 0.9148 | F1: 0.9518 | ROC-AUC: 0.9740\n",
      "Max val ROC-AUC: 0.9740\n",
      "Training with d_model=64, nhead=2, num_layers=4, dropout=0.0, lr=0.01\n"
     ]
    },
    {
     "data": {
      "application/vnd.jupyter.widget-view+json": {
       "model_id": "64dfcbc81b1848a8b5ab09b283c4281c",
       "version_major": 2,
       "version_minor": 0
      },
      "text/plain": [
       "  0%|          | 0/10 [00:00<?, ?it/s]"
      ]
     },
     "metadata": {},
     "output_type": "display_data"
    },
    {
     "name": "stdout",
     "output_type": "stream",
     "text": [
      "Epoch: 10 | Train Loss: 0.1227 | Acc: 0.9693 | Prec: 0.9791 | Recall: 0.9542 | F1: 0.9665 | ROC-AUC: 0.9876 || Test Loss: 0.3449 | Acc: 0.9047 | Prec: 0.9812 | Recall: 0.9148 | F1: 0.9468 | ROC-AUC: 0.9276\n",
      "Max val ROC-AUC: 0.9571\n",
      "Training with d_model=64, nhead=2, num_layers=4, dropout=0.0, lr=0.01\n"
     ]
    },
    {
     "data": {
      "application/vnd.jupyter.widget-view+json": {
       "model_id": "7524b66deffe48e28675b063247a0156",
       "version_major": 2,
       "version_minor": 0
      },
      "text/plain": [
       "  0%|          | 0/10 [00:00<?, ?it/s]"
      ]
     },
     "metadata": {},
     "output_type": "display_data"
    },
    {
     "name": "stdout",
     "output_type": "stream",
     "text": [
      "Epoch: 10 | Train Loss: 0.0565 | Acc: 0.9855 | Prec: 0.9890 | Recall: 0.9797 | F1: 0.9843 | ROC-AUC: 0.9972 || Test Loss: 0.1532 | Acc: 0.9535 | Prec: 0.9897 | Recall: 0.9599 | F1: 0.9746 | ROC-AUC: 0.9742\n",
      "Max val ROC-AUC: 0.9742\n",
      "Training with d_model=64, nhead=2, num_layers=4, dropout=0.0, lr=0.01\n"
     ]
    },
    {
     "data": {
      "application/vnd.jupyter.widget-view+json": {
       "model_id": "bc333310b71e464db8445b8f3bbd0fd3",
       "version_major": 2,
       "version_minor": 0
      },
      "text/plain": [
       "  0%|          | 0/10 [00:00<?, ?it/s]"
      ]
     },
     "metadata": {},
     "output_type": "display_data"
    },
    {
     "name": "stdout",
     "output_type": "stream",
     "text": [
      "Epoch: 10 | Train Loss: 0.0575 | Acc: 0.9821 | Prec: 0.9832 | Recall: 0.9782 | F1: 0.9807 | ROC-AUC: 0.9969 || Test Loss: 0.6792 | Acc: 0.8837 | Prec: 0.9915 | Recall: 0.8822 | F1: 0.9337 | ROC-AUC: 0.9563\n",
      "Max val ROC-AUC: 0.9643\n",
      "Training with d_model=64, nhead=2, num_layers=4, dropout=0.0, lr=0.01\n"
     ]
    },
    {
     "data": {
      "application/vnd.jupyter.widget-view+json": {
       "model_id": "93e03098c7564346922ec8b842ca602d",
       "version_major": 2,
       "version_minor": 0
      },
      "text/plain": [
       "  0%|          | 0/10 [00:00<?, ?it/s]"
      ]
     },
     "metadata": {},
     "output_type": "display_data"
    },
    {
     "name": "stdout",
     "output_type": "stream",
     "text": [
      "Epoch: 10 | Train Loss: 0.1357 | Acc: 0.9491 | Prec: 0.9404 | Recall: 0.9506 | F1: 0.9455 | ROC-AUC: 0.9881 || Test Loss: 0.3352 | Acc: 0.9047 | Prec: 0.9864 | Recall: 0.9098 | F1: 0.9465 | ROC-AUC: 0.8972\n",
      "Max val ROC-AUC: 0.9320\n",
      "Training with d_model=64, nhead=2, num_layers=4, dropout=0.0, lr=0.01\n"
     ]
    },
    {
     "data": {
      "application/vnd.jupyter.widget-view+json": {
       "model_id": "d950a298dda1407183493479c498948c",
       "version_major": 2,
       "version_minor": 0
      },
      "text/plain": [
       "  0%|          | 0/10 [00:00<?, ?it/s]"
      ]
     },
     "metadata": {},
     "output_type": "display_data"
    },
    {
     "name": "stdout",
     "output_type": "stream",
     "text": [
      "Epoch: 10 | Train Loss: 0.0545 | Acc: 0.9848 | Prec: 0.9861 | Recall: 0.9811 | F1: 0.9836 | ROC-AUC: 0.9973 || Test Loss: 0.2376 | Acc: 0.9326 | Prec: 0.9920 | Recall: 0.9348 | F1: 0.9626 | ROC-AUC: 0.9525\n",
      "Max val ROC-AUC: 0.9657\n",
      "Training with d_model=64, nhead=2, num_layers=4, dropout=0.0, lr=0.01\n"
     ]
    },
    {
     "data": {
      "application/vnd.jupyter.widget-view+json": {
       "model_id": "3415d17f7b45443b94b9bf99cc644ba2",
       "version_major": 2,
       "version_minor": 0
      },
      "text/plain": [
       "  0%|          | 0/10 [00:00<?, ?it/s]"
      ]
     },
     "metadata": {},
     "output_type": "display_data"
    },
    {
     "name": "stdout",
     "output_type": "stream",
     "text": [
      "Epoch: 10 | Train Loss: 0.0558 | Acc: 0.9842 | Prec: 0.9861 | Recall: 0.9797 | F1: 0.9829 | ROC-AUC: 0.9971 || Test Loss: 0.3177 | Acc: 0.9093 | Prec: 0.9891 | Recall: 0.9123 | F1: 0.9492 | ROC-AUC: 0.9611\n",
      "Max val ROC-AUC: 0.9611\n",
      "Training with d_model=64, nhead=2, num_layers=4, dropout=0.0, lr=0.01\n"
     ]
    },
    {
     "data": {
      "application/vnd.jupyter.widget-view+json": {
       "model_id": "054eef695b0248e5ba10a67492e518e7",
       "version_major": 2,
       "version_minor": 0
      },
      "text/plain": [
       "  0%|          | 0/10 [00:00<?, ?it/s]"
      ]
     },
     "metadata": {},
     "output_type": "display_data"
    },
    {
     "name": "stdout",
     "output_type": "stream",
     "text": [
      "Epoch: 10 | Train Loss: 0.0667 | Acc: 0.9784 | Prec: 0.9782 | Recall: 0.9753 | F1: 0.9767 | ROC-AUC: 0.9967 || Test Loss: 0.3585 | Acc: 0.9419 | Prec: 0.9675 | Recall: 0.9699 | F1: 0.9687 | ROC-AUC: 0.9295\n",
      "Max val ROC-AUC: 0.9426\n",
      "Training with d_model=64, nhead=2, num_layers=4, dropout=0.0, lr=0.01\n"
     ]
    },
    {
     "data": {
      "application/vnd.jupyter.widget-view+json": {
       "model_id": "49116bd6cb1b4cd0a6868af2cc2276e3",
       "version_major": 2,
       "version_minor": 0
      },
      "text/plain": [
       "  0%|          | 0/10 [00:00<?, ?it/s]"
      ]
     },
     "metadata": {},
     "output_type": "display_data"
    },
    {
     "name": "stdout",
     "output_type": "stream",
     "text": [
      "Epoch: 10 | Train Loss: 0.0353 | Acc: 0.9906 | Prec: 0.9920 | Recall: 0.9877 | F1: 0.9898 | ROC-AUC: 0.9987 || Test Loss: 0.4191 | Acc: 0.9302 | Prec: 0.9792 | Recall: 0.9449 | F1: 0.9617 | ROC-AUC: 0.8996\n",
      "Max val ROC-AUC: 0.9426\n",
      "Training with d_model=64, nhead=2, num_layers=4, dropout=0.0, lr=0.001\n"
     ]
    },
    {
     "data": {
      "application/vnd.jupyter.widget-view+json": {
       "model_id": "1e80f3462a96486bbf338cae35c888ba",
       "version_major": 2,
       "version_minor": 0
      },
      "text/plain": [
       "  0%|          | 0/10 [00:00<?, ?it/s]"
      ]
     },
     "metadata": {},
     "output_type": "display_data"
    },
    {
     "name": "stdout",
     "output_type": "stream",
     "text": [
      "Epoch: 10 | Train Loss: 0.0081 | Acc: 0.9987 | Prec: 0.9993 | Recall: 0.9978 | F1: 0.9985 | ROC-AUC: 0.9998 || Test Loss: 0.4426 | Acc: 0.9326 | Prec: 0.9818 | Recall: 0.9449 | F1: 0.9630 | ROC-AUC: 0.9420\n",
      "Max val ROC-AUC: 0.9604\n",
      "Training with d_model=64, nhead=2, num_layers=4, dropout=0.0, lr=0.001\n"
     ]
    },
    {
     "data": {
      "application/vnd.jupyter.widget-view+json": {
       "model_id": "4fab1d35fc4a47a4aa306e5fa5dc9f54",
       "version_major": 2,
       "version_minor": 0
      },
      "text/plain": [
       "  0%|          | 0/10 [00:00<?, ?it/s]"
      ]
     },
     "metadata": {},
     "output_type": "display_data"
    },
    {
     "name": "stdout",
     "output_type": "stream",
     "text": [
      "Epoch: 10 | Train Loss: 0.0240 | Acc: 0.9949 | Prec: 0.9928 | Recall: 0.9964 | F1: 0.9946 | ROC-AUC: 0.9989 || Test Loss: 0.4944 | Acc: 0.9233 | Prec: 0.9791 | Recall: 0.9373 | F1: 0.9577 | ROC-AUC: 0.9223\n",
      "Max val ROC-AUC: 0.9466\n",
      "Training with d_model=64, nhead=2, num_layers=4, dropout=0.0, lr=0.001\n"
     ]
    },
    {
     "data": {
      "application/vnd.jupyter.widget-view+json": {
       "model_id": "f2557603e7944c169369571a20387247",
       "version_major": 2,
       "version_minor": 0
      },
      "text/plain": [
       "  0%|          | 0/10 [00:00<?, ?it/s]"
      ]
     },
     "metadata": {},
     "output_type": "display_data"
    },
    {
     "name": "stdout",
     "output_type": "stream",
     "text": [
      "Epoch: 10 | Train Loss: 0.0265 | Acc: 0.9929 | Prec: 0.9942 | Recall: 0.9906 | F1: 0.9924 | ROC-AUC: 0.9991 || Test Loss: 0.3236 | Acc: 0.9372 | Prec: 0.9819 | Recall: 0.9499 | F1: 0.9656 | ROC-AUC: 0.9439\n",
      "Max val ROC-AUC: 0.9550\n",
      "Training with d_model=64, nhead=2, num_layers=4, dropout=0.0, lr=0.001\n"
     ]
    },
    {
     "data": {
      "application/vnd.jupyter.widget-view+json": {
       "model_id": "32517d967fb9473b9fa11765f36d72b2",
       "version_major": 2,
       "version_minor": 0
      },
      "text/plain": [
       "  0%|          | 0/10 [00:00<?, ?it/s]"
      ]
     },
     "metadata": {},
     "output_type": "display_data"
    },
    {
     "name": "stdout",
     "output_type": "stream",
     "text": [
      "Epoch: 10 | Train Loss: 0.0415 | Acc: 0.9889 | Prec: 0.9891 | Recall: 0.9869 | F1: 0.9880 | ROC-AUC: 0.9984 || Test Loss: 0.2400 | Acc: 0.9395 | Prec: 0.9582 | Recall: 0.9774 | F1: 0.9677 | ROC-AUC: 0.8901\n",
      "Max val ROC-AUC: 0.9572\n",
      "Training with d_model=64, nhead=2, num_layers=4, dropout=0.0, lr=0.001\n"
     ]
    },
    {
     "data": {
      "application/vnd.jupyter.widget-view+json": {
       "model_id": "cfb58a699c7447e7a2d6686612058b98",
       "version_major": 2,
       "version_minor": 0
      },
      "text/plain": [
       "  0%|          | 0/10 [00:00<?, ?it/s]"
      ]
     },
     "metadata": {},
     "output_type": "display_data"
    },
    {
     "name": "stdout",
     "output_type": "stream",
     "text": [
      "Epoch: 10 | Train Loss: 0.0210 | Acc: 0.9939 | Prec: 0.9971 | Recall: 0.9898 | F1: 0.9934 | ROC-AUC: 0.9997 || Test Loss: 0.3534 | Acc: 0.9372 | Prec: 0.9819 | Recall: 0.9499 | F1: 0.9656 | ROC-AUC: 0.9394\n",
      "Max val ROC-AUC: 0.9457\n",
      "Training with d_model=64, nhead=2, num_layers=4, dropout=0.0, lr=0.001\n"
     ]
    },
    {
     "data": {
      "application/vnd.jupyter.widget-view+json": {
       "model_id": "69f72d95e2e349c5a6e585d98dc746e7",
       "version_major": 2,
       "version_minor": 0
      },
      "text/plain": [
       "  0%|          | 0/10 [00:00<?, ?it/s]"
      ]
     },
     "metadata": {},
     "output_type": "display_data"
    },
    {
     "name": "stdout",
     "output_type": "stream",
     "text": [
      "Epoch: 10 | Train Loss: 0.0150 | Acc: 0.9963 | Prec: 0.9971 | Recall: 0.9949 | F1: 0.9960 | ROC-AUC: 0.9993 || Test Loss: 0.4596 | Acc: 0.9186 | Prec: 0.9815 | Recall: 0.9298 | F1: 0.9550 | ROC-AUC: 0.9186\n",
      "Max val ROC-AUC: 0.9570\n",
      "Training with d_model=64, nhead=2, num_layers=4, dropout=0.0, lr=0.001\n"
     ]
    },
    {
     "data": {
      "application/vnd.jupyter.widget-view+json": {
       "model_id": "81105191959246b69f6067e8b93608fc",
       "version_major": 2,
       "version_minor": 0
      },
      "text/plain": [
       "  0%|          | 0/10 [00:00<?, ?it/s]"
      ]
     },
     "metadata": {},
     "output_type": "display_data"
    },
    {
     "name": "stdout",
     "output_type": "stream",
     "text": [
      "Epoch: 10 | Train Loss: 0.0518 | Acc: 0.9872 | Prec: 0.9876 | Recall: 0.9847 | F1: 0.9862 | ROC-AUC: 0.9971 || Test Loss: 0.2613 | Acc: 0.9256 | Prec: 0.9717 | Recall: 0.9474 | F1: 0.9594 | ROC-AUC: 0.9535\n",
      "Max val ROC-AUC: 0.9591\n",
      "Training with d_model=64, nhead=2, num_layers=4, dropout=0.0, lr=0.001\n"
     ]
    },
    {
     "data": {
      "application/vnd.jupyter.widget-view+json": {
       "model_id": "7c66dc73e9434e819860bcc183bcfe8d",
       "version_major": 2,
       "version_minor": 0
      },
      "text/plain": [
       "  0%|          | 0/10 [00:00<?, ?it/s]"
      ]
     },
     "metadata": {},
     "output_type": "display_data"
    },
    {
     "name": "stdout",
     "output_type": "stream",
     "text": [
      "Epoch: 10 | Train Loss: 0.0145 | Acc: 0.9946 | Prec: 0.9964 | Recall: 0.9920 | F1: 0.9942 | ROC-AUC: 0.9999 || Test Loss: 0.4097 | Acc: 0.9163 | Prec: 0.9814 | Recall: 0.9273 | F1: 0.9536 | ROC-AUC: 0.9551\n",
      "Max val ROC-AUC: 0.9575\n",
      "Training with d_model=64, nhead=2, num_layers=4, dropout=0.0, lr=0.001\n"
     ]
    },
    {
     "data": {
      "application/vnd.jupyter.widget-view+json": {
       "model_id": "f5a1f5d126304a01927b7faedb012969",
       "version_major": 2,
       "version_minor": 0
      },
      "text/plain": [
       "  0%|          | 0/10 [00:00<?, ?it/s]"
      ]
     },
     "metadata": {},
     "output_type": "display_data"
    },
    {
     "name": "stdout",
     "output_type": "stream",
     "text": [
      "Epoch: 10 | Train Loss: 0.0219 | Acc: 0.9936 | Prec: 0.9963 | Recall: 0.9898 | F1: 0.9931 | ROC-AUC: 0.9994 || Test Loss: 0.4014 | Acc: 0.9465 | Prec: 0.9870 | Recall: 0.9549 | F1: 0.9707 | ROC-AUC: 0.9106\n",
      "Max val ROC-AUC: 0.9409\n",
      "Training with d_model=64, nhead=2, num_layers=4, dropout=0.0, lr=0.001\n"
     ]
    },
    {
     "data": {
      "application/vnd.jupyter.widget-view+json": {
       "model_id": "88bd0fecc7e14f4b89b3654f01174397",
       "version_major": 2,
       "version_minor": 0
      },
      "text/plain": [
       "  0%|          | 0/10 [00:00<?, ?it/s]"
      ]
     },
     "metadata": {},
     "output_type": "display_data"
    },
    {
     "name": "stdout",
     "output_type": "stream",
     "text": [
      "Epoch: 10 | Train Loss: 0.0308 | Acc: 0.9926 | Prec: 0.9956 | Recall: 0.9884 | F1: 0.9920 | ROC-AUC: 0.9983 || Test Loss: 0.3208 | Acc: 0.9302 | Prec: 0.9743 | Recall: 0.9499 | F1: 0.9619 | ROC-AUC: 0.9479\n",
      "Max val ROC-AUC: 0.9587\n",
      "Training with d_model=64, nhead=2, num_layers=4, dropout=0.1, lr=0.1\n"
     ]
    },
    {
     "data": {
      "application/vnd.jupyter.widget-view+json": {
       "model_id": "64ac0875803d41dc845de47f0c6d9fa6",
       "version_major": 2,
       "version_minor": 0
      },
      "text/plain": [
       "  0%|          | 0/10 [00:00<?, ?it/s]"
      ]
     },
     "metadata": {},
     "output_type": "display_data"
    },
    {
     "name": "stdout",
     "output_type": "stream",
     "text": [
      "Epoch: 10 | Train Loss: 0.2500 | Acc: 0.9077 | Prec: 0.9332 | Recall: 0.8627 | F1: 0.8966 | ROC-AUC: 0.9636 || Test Loss: 0.3235 | Acc: 0.9070 | Prec: 0.9838 | Recall: 0.9148 | F1: 0.9481 | ROC-AUC: 0.9214\n",
      "Max val ROC-AUC: 0.9518\n",
      "Training with d_model=64, nhead=2, num_layers=4, dropout=0.1, lr=0.1\n"
     ]
    },
    {
     "data": {
      "application/vnd.jupyter.widget-view+json": {
       "model_id": "2eea0dc2b6204b01a916e7e2c847efa2",
       "version_major": 2,
       "version_minor": 0
      },
      "text/plain": [
       "  0%|          | 0/10 [00:00<?, ?it/s]"
      ]
     },
     "metadata": {},
     "output_type": "display_data"
    },
    {
     "name": "stdout",
     "output_type": "stream",
     "text": [
      "Epoch: 10 | Train Loss: 0.2555 | Acc: 0.8872 | Prec: 0.8929 | Recall: 0.8598 | F1: 0.8761 | ROC-AUC: 0.9592 || Test Loss: 0.3183 | Acc: 0.8674 | Prec: 0.9942 | Recall: 0.8622 | F1: 0.9235 | ROC-AUC: 0.9340\n",
      "Max val ROC-AUC: 0.9606\n",
      "Training with d_model=64, nhead=2, num_layers=4, dropout=0.1, lr=0.1\n"
     ]
    },
    {
     "data": {
      "application/vnd.jupyter.widget-view+json": {
       "model_id": "915de854d6d1438fa496b629afbb3961",
       "version_major": 2,
       "version_minor": 0
      },
      "text/plain": [
       "  0%|          | 0/10 [00:00<?, ?it/s]"
      ]
     },
     "metadata": {},
     "output_type": "display_data"
    },
    {
     "name": "stdout",
     "output_type": "stream",
     "text": [
      "Epoch: 10 | Train Loss: 0.3143 | Acc: 0.8821 | Prec: 0.9092 | Recall: 0.8286 | F1: 0.8670 | ROC-AUC: 0.9213 || Test Loss: 0.3047 | Acc: 0.8814 | Prec: 0.9833 | Recall: 0.8872 | F1: 0.9328 | ROC-AUC: 0.9110\n",
      "Max val ROC-AUC: 0.9110\n",
      "Training with d_model=64, nhead=2, num_layers=4, dropout=0.1, lr=0.1\n"
     ]
    },
    {
     "data": {
      "application/vnd.jupyter.widget-view+json": {
       "model_id": "91915c2299064592916cb35b9a69724d",
       "version_major": 2,
       "version_minor": 0
      },
      "text/plain": [
       "  0%|          | 0/10 [00:00<?, ?it/s]"
      ]
     },
     "metadata": {},
     "output_type": "display_data"
    },
    {
     "name": "stdout",
     "output_type": "stream",
     "text": [
      "Epoch: 10 | Train Loss: 0.3853 | Acc: 0.8646 | Prec: 0.8587 | Recall: 0.8475 | F1: 0.8531 | ROC-AUC: 0.9006 || Test Loss: 0.4123 | Acc: 0.9233 | Prec: 0.9841 | Recall: 0.9323 | F1: 0.9575 | ROC-AUC: 0.8956\n",
      "Max val ROC-AUC: 0.9533\n",
      "Training with d_model=64, nhead=2, num_layers=4, dropout=0.1, lr=0.1\n"
     ]
    },
    {
     "data": {
      "application/vnd.jupyter.widget-view+json": {
       "model_id": "20158d8943ff49cab90de9c3dad0fae9",
       "version_major": 2,
       "version_minor": 0
      },
      "text/plain": [
       "  0%|          | 0/10 [00:00<?, ?it/s]"
      ]
     },
     "metadata": {},
     "output_type": "display_data"
    },
    {
     "name": "stdout",
     "output_type": "stream",
     "text": [
      "Epoch: 10 | Train Loss: 0.2671 | Acc: 0.9175 | Prec: 0.9572 | Recall: 0.8606 | F1: 0.9063 | ROC-AUC: 0.9408 || Test Loss: 0.3597 | Acc: 0.8791 | Prec: 0.9887 | Recall: 0.8797 | F1: 0.9310 | ROC-AUC: 0.8994\n",
      "Max val ROC-AUC: 0.9409\n",
      "Training with d_model=64, nhead=2, num_layers=4, dropout=0.1, lr=0.1\n"
     ]
    },
    {
     "data": {
      "application/vnd.jupyter.widget-view+json": {
       "model_id": "d07b1ec9305f4b51a1b27aac8a015893",
       "version_major": 2,
       "version_minor": 0
      },
      "text/plain": [
       "  0%|          | 0/10 [00:00<?, ?it/s]"
      ]
     },
     "metadata": {},
     "output_type": "display_data"
    },
    {
     "name": "stdout",
     "output_type": "stream",
     "text": [
      "Epoch: 10 | Train Loss: 0.2707 | Acc: 0.9013 | Prec: 0.9532 | Recall: 0.8279 | F1: 0.8861 | ROC-AUC: 0.9539 || Test Loss: 0.3464 | Acc: 0.8349 | Prec: 0.9881 | Recall: 0.8321 | F1: 0.9034 | ROC-AUC: 0.9342\n",
      "Max val ROC-AUC: 0.9480\n",
      "Training with d_model=64, nhead=2, num_layers=4, dropout=0.1, lr=0.1\n"
     ]
    },
    {
     "data": {
      "application/vnd.jupyter.widget-view+json": {
       "model_id": "525f6aa61c8747828fcfb8f688965902",
       "version_major": 2,
       "version_minor": 0
      },
      "text/plain": [
       "  0%|          | 0/10 [00:00<?, ?it/s]"
      ]
     },
     "metadata": {},
     "output_type": "display_data"
    },
    {
     "name": "stdout",
     "output_type": "stream",
     "text": [
      "Epoch: 10 | Train Loss: 0.2839 | Acc: 0.8996 | Prec: 0.9147 | Recall: 0.8642 | F1: 0.8887 | ROC-AUC: 0.9540 || Test Loss: 0.4118 | Acc: 0.7581 | Prec: 0.9933 | Recall: 0.7444 | F1: 0.8510 | ROC-AUC: 0.9142\n",
      "Max val ROC-AUC: 0.9445\n",
      "Training with d_model=64, nhead=2, num_layers=4, dropout=0.1, lr=0.1\n"
     ]
    },
    {
     "data": {
      "application/vnd.jupyter.widget-view+json": {
       "model_id": "b89af9836ee64e44ba76bc524301d95d",
       "version_major": 2,
       "version_minor": 0
      },
      "text/plain": [
       "  0%|          | 0/10 [00:00<?, ?it/s]"
      ]
     },
     "metadata": {},
     "output_type": "display_data"
    },
    {
     "name": "stdout",
     "output_type": "stream",
     "text": [
      "Epoch: 10 | Train Loss: 0.2761 | Acc: 0.8966 | Prec: 0.9301 | Recall: 0.8402 | F1: 0.8829 | ROC-AUC: 0.9382 || Test Loss: 0.4469 | Acc: 0.8186 | Prec: 0.9938 | Recall: 0.8095 | F1: 0.8923 | ROC-AUC: 0.8797\n",
      "Max val ROC-AUC: 0.9335\n",
      "Training with d_model=64, nhead=2, num_layers=4, dropout=0.1, lr=0.1\n"
     ]
    },
    {
     "data": {
      "application/vnd.jupyter.widget-view+json": {
       "model_id": "0cc49f27d5b441b0b8864ddb9b882bc3",
       "version_major": 2,
       "version_minor": 0
      },
      "text/plain": [
       "  0%|          | 0/10 [00:00<?, ?it/s]"
      ]
     },
     "metadata": {},
     "output_type": "display_data"
    },
    {
     "name": "stdout",
     "output_type": "stream",
     "text": [
      "Epoch: 10 | Train Loss: 0.2770 | Acc: 0.9033 | Prec: 0.9445 | Recall: 0.8410 | F1: 0.8897 | ROC-AUC: 0.9519 || Test Loss: 0.3167 | Acc: 0.8442 | Prec: 0.9911 | Recall: 0.8396 | F1: 0.9091 | ROC-AUC: 0.9192\n",
      "Max val ROC-AUC: 0.9353\n",
      "Training with d_model=64, nhead=2, num_layers=4, dropout=0.1, lr=0.1\n"
     ]
    },
    {
     "data": {
      "application/vnd.jupyter.widget-view+json": {
       "model_id": "a280987c59f44e48bbe3d9549fc471fb",
       "version_major": 2,
       "version_minor": 0
      },
      "text/plain": [
       "  0%|          | 0/10 [00:00<?, ?it/s]"
      ]
     },
     "metadata": {},
     "output_type": "display_data"
    },
    {
     "name": "stdout",
     "output_type": "stream",
     "text": [
      "Epoch: 10 | Train Loss: 0.3634 | Acc: 0.8794 | Prec: 0.8239 | Recall: 0.9412 | F1: 0.8786 | ROC-AUC: 0.9063 || Test Loss: 0.3520 | Acc: 0.9465 | Prec: 0.9845 | Recall: 0.9574 | F1: 0.9708 | ROC-AUC: 0.8866\n",
      "Max val ROC-AUC: 0.9409\n",
      "Training with d_model=64, nhead=2, num_layers=4, dropout=0.1, lr=0.01\n"
     ]
    },
    {
     "data": {
      "application/vnd.jupyter.widget-view+json": {
       "model_id": "a5c47635e3154e5f9416224ec09847cb",
       "version_major": 2,
       "version_minor": 0
      },
      "text/plain": [
       "  0%|          | 0/10 [00:00<?, ?it/s]"
      ]
     },
     "metadata": {},
     "output_type": "display_data"
    },
    {
     "name": "stdout",
     "output_type": "stream",
     "text": [
      "Epoch: 10 | Train Loss: 0.1493 | Acc: 0.9481 | Prec: 0.9581 | Recall: 0.9288 | F1: 0.9432 | ROC-AUC: 0.9842 || Test Loss: 0.3757 | Acc: 0.8256 | Prec: 0.9909 | Recall: 0.8195 | F1: 0.8971 | ROC-AUC: 0.9422\n",
      "Max val ROC-AUC: 0.9462\n",
      "Training with d_model=64, nhead=2, num_layers=4, dropout=0.1, lr=0.01\n"
     ]
    },
    {
     "data": {
      "application/vnd.jupyter.widget-view+json": {
       "model_id": "dd16b8e1b90d4d5684b5c51d49f3c0e3",
       "version_major": 2,
       "version_minor": 0
      },
      "text/plain": [
       "  0%|          | 0/10 [00:00<?, ?it/s]"
      ]
     },
     "metadata": {},
     "output_type": "display_data"
    },
    {
     "name": "stdout",
     "output_type": "stream",
     "text": [
      "Epoch: 10 | Train Loss: 0.1430 | Acc: 0.9552 | Prec: 0.9829 | Recall: 0.9194 | F1: 0.9501 | ROC-AUC: 0.9828 || Test Loss: 0.3053 | Acc: 0.9186 | Prec: 0.9892 | Recall: 0.9223 | F1: 0.9546 | ROC-AUC: 0.9479\n",
      "Max val ROC-AUC: 0.9479\n",
      "Training with d_model=64, nhead=2, num_layers=4, dropout=0.1, lr=0.01\n"
     ]
    },
    {
     "data": {
      "application/vnd.jupyter.widget-view+json": {
       "model_id": "a4ec708deb084a6aa96be57a2d9bed7c",
       "version_major": 2,
       "version_minor": 0
      },
      "text/plain": [
       "  0%|          | 0/10 [00:00<?, ?it/s]"
      ]
     },
     "metadata": {},
     "output_type": "display_data"
    },
    {
     "name": "stdout",
     "output_type": "stream",
     "text": [
      "Epoch: 10 | Train Loss: 0.1257 | Acc: 0.9596 | Prec: 0.9823 | Recall: 0.9296 | F1: 0.9552 | ROC-AUC: 0.9863 || Test Loss: 0.4090 | Acc: 0.8093 | Prec: 0.9847 | Recall: 0.8070 | F1: 0.8871 | ROC-AUC: 0.9223\n",
      "Max val ROC-AUC: 0.9420\n",
      "Training with d_model=64, nhead=2, num_layers=4, dropout=0.1, lr=0.01\n"
     ]
    },
    {
     "data": {
      "application/vnd.jupyter.widget-view+json": {
       "model_id": "421a765adccf4204b0d1453ae34036c7",
       "version_major": 2,
       "version_minor": 0
      },
      "text/plain": [
       "  0%|          | 0/10 [00:00<?, ?it/s]"
      ]
     },
     "metadata": {},
     "output_type": "display_data"
    },
    {
     "name": "stdout",
     "output_type": "stream",
     "text": [
      "Epoch: 10 | Train Loss: 0.1137 | Acc: 0.9626 | Prec: 0.9745 | Recall: 0.9441 | F1: 0.9591 | ROC-AUC: 0.9893 || Test Loss: 0.5551 | Acc: 0.8326 | Prec: 0.9852 | Recall: 0.8321 | F1: 0.9022 | ROC-AUC: 0.9237\n",
      "Max val ROC-AUC: 0.9449\n",
      "Training with d_model=64, nhead=2, num_layers=4, dropout=0.1, lr=0.01\n"
     ]
    },
    {
     "data": {
      "application/vnd.jupyter.widget-view+json": {
       "model_id": "cc192443939942c4ae6bcd0359f05ae4",
       "version_major": 2,
       "version_minor": 0
      },
      "text/plain": [
       "  0%|          | 0/10 [00:00<?, ?it/s]"
      ]
     },
     "metadata": {},
     "output_type": "display_data"
    },
    {
     "name": "stdout",
     "output_type": "stream",
     "text": [
      "Epoch: 10 | Train Loss: 0.1400 | Acc: 0.9512 | Prec: 0.9702 | Recall: 0.9230 | F1: 0.9460 | ROC-AUC: 0.9851 || Test Loss: 0.6352 | Acc: 0.8140 | Prec: 0.9908 | Recall: 0.8070 | F1: 0.8895 | ROC-AUC: 0.9366\n",
      "Max val ROC-AUC: 0.9556\n",
      "Training with d_model=64, nhead=2, num_layers=4, dropout=0.1, lr=0.01\n"
     ]
    },
    {
     "data": {
      "application/vnd.jupyter.widget-view+json": {
       "model_id": "b6eefce12b5d4a05a7d6ac37264d398e",
       "version_major": 2,
       "version_minor": 0
      },
      "text/plain": [
       "  0%|          | 0/10 [00:00<?, ?it/s]"
      ]
     },
     "metadata": {},
     "output_type": "display_data"
    },
    {
     "name": "stdout",
     "output_type": "stream",
     "text": [
      "Epoch: 10 | Train Loss: 0.1358 | Acc: 0.9528 | Prec: 0.9640 | Recall: 0.9332 | F1: 0.9483 | ROC-AUC: 0.9861 || Test Loss: 0.2574 | Acc: 0.8907 | Prec: 0.9835 | Recall: 0.8972 | F1: 0.9384 | ROC-AUC: 0.9027\n",
      "Max val ROC-AUC: 0.9494\n",
      "Training with d_model=64, nhead=2, num_layers=4, dropout=0.1, lr=0.01\n"
     ]
    },
    {
     "data": {
      "application/vnd.jupyter.widget-view+json": {
       "model_id": "608948b0cff649dcaa34d99c9740aac9",
       "version_major": 2,
       "version_minor": 0
      },
      "text/plain": [
       "  0%|          | 0/10 [00:00<?, ?it/s]"
      ]
     },
     "metadata": {},
     "output_type": "display_data"
    },
    {
     "name": "stdout",
     "output_type": "stream",
     "text": [
      "Epoch: 10 | Train Loss: 0.1512 | Acc: 0.9458 | Prec: 0.9484 | Recall: 0.9339 | F1: 0.9411 | ROC-AUC: 0.9851 || Test Loss: 0.4326 | Acc: 0.8698 | Prec: 0.9858 | Recall: 0.8722 | F1: 0.9255 | ROC-AUC: 0.9320\n",
      "Max val ROC-AUC: 0.9561\n",
      "Training with d_model=64, nhead=2, num_layers=4, dropout=0.1, lr=0.01\n"
     ]
    },
    {
     "data": {
      "application/vnd.jupyter.widget-view+json": {
       "model_id": "5b2e3f363c3e45c59d1ef901fcfd0a85",
       "version_major": 2,
       "version_minor": 0
      },
      "text/plain": [
       "  0%|          | 0/10 [00:00<?, ?it/s]"
      ]
     },
     "metadata": {},
     "output_type": "display_data"
    },
    {
     "name": "stdout",
     "output_type": "stream",
     "text": [
      "Epoch: 10 | Train Loss: 0.1307 | Acc: 0.9559 | Prec: 0.9829 | Recall: 0.9208 | F1: 0.9509 | ROC-AUC: 0.9864 || Test Loss: 0.6062 | Acc: 0.6605 | Prec: 0.9884 | Recall: 0.6416 | F1: 0.7781 | ROC-AUC: 0.9244\n",
      "Max val ROC-AUC: 0.9479\n",
      "Training with d_model=64, nhead=2, num_layers=4, dropout=0.1, lr=0.01\n"
     ]
    },
    {
     "data": {
      "application/vnd.jupyter.widget-view+json": {
       "model_id": "a215d4c27eea47418c6b76ca28a9731a",
       "version_major": 2,
       "version_minor": 0
      },
      "text/plain": [
       "  0%|          | 0/10 [00:00<?, ?it/s]"
      ]
     },
     "metadata": {},
     "output_type": "display_data"
    },
    {
     "name": "stdout",
     "output_type": "stream",
     "text": [
      "Epoch: 10 | Train Loss: 0.1006 | Acc: 0.9653 | Prec: 0.9840 | Recall: 0.9405 | F1: 0.9618 | ROC-AUC: 0.9891 || Test Loss: 0.5646 | Acc: 0.7791 | Prec: 0.9967 | Recall: 0.7644 | F1: 0.8652 | ROC-AUC: 0.9555\n",
      "Max val ROC-AUC: 0.9555\n",
      "Training with d_model=64, nhead=2, num_layers=4, dropout=0.1, lr=0.01\n"
     ]
    },
    {
     "data": {
      "application/vnd.jupyter.widget-view+json": {
       "model_id": "e91df1607fb6447f91ee148c1c08a5f3",
       "version_major": 2,
       "version_minor": 0
      },
      "text/plain": [
       "  0%|          | 0/10 [00:00<?, ?it/s]"
      ]
     },
     "metadata": {},
     "output_type": "display_data"
    },
    {
     "name": "stdout",
     "output_type": "stream",
     "text": [
      "Epoch: 10 | Train Loss: 0.1427 | Acc: 0.9528 | Prec: 0.9725 | Recall: 0.9245 | F1: 0.9479 | ROC-AUC: 0.9847 || Test Loss: 0.4650 | Acc: 0.8837 | Prec: 0.9888 | Recall: 0.8847 | F1: 0.9339 | ROC-AUC: 0.9400\n",
      "Max val ROC-AUC: 0.9436\n",
      "Training with d_model=64, nhead=2, num_layers=4, dropout=0.1, lr=0.001\n"
     ]
    },
    {
     "data": {
      "application/vnd.jupyter.widget-view+json": {
       "model_id": "f92daf995131429eb859408b5372e0a5",
       "version_major": 2,
       "version_minor": 0
      },
      "text/plain": [
       "  0%|          | 0/10 [00:00<?, ?it/s]"
      ]
     },
     "metadata": {},
     "output_type": "display_data"
    },
    {
     "name": "stdout",
     "output_type": "stream",
     "text": [
      "Epoch: 10 | Train Loss: 0.0064 | Acc: 0.9980 | Prec: 0.9985 | Recall: 0.9971 | F1: 0.9978 | ROC-AUC: 1.0000 || Test Loss: 0.4565 | Acc: 0.9326 | Prec: 0.9818 | Recall: 0.9449 | F1: 0.9630 | ROC-AUC: 0.9306\n",
      "Max val ROC-AUC: 0.9686\n",
      "Training with d_model=64, nhead=2, num_layers=4, dropout=0.1, lr=0.001\n"
     ]
    },
    {
     "data": {
      "application/vnd.jupyter.widget-view+json": {
       "model_id": "6045c255db0046e29dde2a70c7f2484a",
       "version_major": 2,
       "version_minor": 0
      },
      "text/plain": [
       "  0%|          | 0/10 [00:00<?, ?it/s]"
      ]
     },
     "metadata": {},
     "output_type": "display_data"
    },
    {
     "name": "stdout",
     "output_type": "stream",
     "text": [
      "Epoch: 10 | Train Loss: 0.0061 | Acc: 0.9987 | Prec: 1.0000 | Recall: 0.9971 | F1: 0.9985 | ROC-AUC: 1.0000 || Test Loss: 0.3883 | Acc: 0.9442 | Prec: 0.9896 | Recall: 0.9499 | F1: 0.9693 | ROC-AUC: 0.9536\n",
      "Max val ROC-AUC: 0.9598\n",
      "Training with d_model=64, nhead=2, num_layers=4, dropout=0.1, lr=0.001\n"
     ]
    },
    {
     "data": {
      "application/vnd.jupyter.widget-view+json": {
       "model_id": "2b600479716b4b5181c86a2c52116676",
       "version_major": 2,
       "version_minor": 0
      },
      "text/plain": [
       "  0%|          | 0/10 [00:00<?, ?it/s]"
      ]
     },
     "metadata": {},
     "output_type": "display_data"
    },
    {
     "name": "stdout",
     "output_type": "stream",
     "text": [
      "Epoch: 10 | Train Loss: 0.0232 | Acc: 0.9936 | Prec: 0.9956 | Recall: 0.9906 | F1: 0.9931 | ROC-AUC: 0.9993 || Test Loss: 0.3645 | Acc: 0.9279 | Prec: 0.9792 | Recall: 0.9424 | F1: 0.9604 | ROC-AUC: 0.9249\n",
      "Max val ROC-AUC: 0.9564\n",
      "Training with d_model=64, nhead=2, num_layers=4, dropout=0.1, lr=0.001\n"
     ]
    },
    {
     "data": {
      "application/vnd.jupyter.widget-view+json": {
       "model_id": "9ca95ecaac2b4c22b7e571729e9d308b",
       "version_major": 2,
       "version_minor": 0
      },
      "text/plain": [
       "  0%|          | 0/10 [00:00<?, ?it/s]"
      ]
     },
     "metadata": {},
     "output_type": "display_data"
    },
    {
     "name": "stdout",
     "output_type": "stream",
     "text": [
      "Epoch: 10 | Train Loss: 0.0517 | Acc: 0.9838 | Prec: 0.9875 | Recall: 0.9775 | F1: 0.9825 | ROC-AUC: 0.9975 || Test Loss: 0.3123 | Acc: 0.9279 | Prec: 0.9742 | Recall: 0.9474 | F1: 0.9606 | ROC-AUC: 0.8991\n",
      "Max val ROC-AUC: 0.9488\n",
      "Training with d_model=64, nhead=2, num_layers=4, dropout=0.1, lr=0.001\n"
     ]
    },
    {
     "data": {
      "application/vnd.jupyter.widget-view+json": {
       "model_id": "3a93f51647174a5aa5cf2bb692de7996",
       "version_major": 2,
       "version_minor": 0
      },
      "text/plain": [
       "  0%|          | 0/10 [00:00<?, ?it/s]"
      ]
     },
     "metadata": {},
     "output_type": "display_data"
    },
    {
     "name": "stdout",
     "output_type": "stream",
     "text": [
      "Epoch: 10 | Train Loss: 0.0393 | Acc: 0.9896 | Prec: 0.9956 | Recall: 0.9818 | F1: 0.9887 | ROC-AUC: 0.9981 || Test Loss: 0.3343 | Acc: 0.9233 | Prec: 0.9791 | Recall: 0.9373 | F1: 0.9577 | ROC-AUC: 0.9447\n",
      "Max val ROC-AUC: 0.9636\n",
      "Training with d_model=64, nhead=2, num_layers=4, dropout=0.1, lr=0.001\n"
     ]
    },
    {
     "data": {
      "application/vnd.jupyter.widget-view+json": {
       "model_id": "04a88f10c9e84857804515d4d8f4a260",
       "version_major": 2,
       "version_minor": 0
      },
      "text/plain": [
       "  0%|          | 0/10 [00:00<?, ?it/s]"
      ]
     },
     "metadata": {},
     "output_type": "display_data"
    },
    {
     "name": "stdout",
     "output_type": "stream",
     "text": [
      "Epoch: 10 | Train Loss: 0.0331 | Acc: 0.9899 | Prec: 0.9905 | Recall: 0.9877 | F1: 0.9891 | ROC-AUC: 0.9986 || Test Loss: 0.4010 | Acc: 0.9070 | Prec: 0.9864 | Recall: 0.9123 | F1: 0.9479 | ROC-AUC: 0.9414\n",
      "Max val ROC-AUC: 0.9508\n",
      "Training with d_model=64, nhead=2, num_layers=4, dropout=0.1, lr=0.001\n"
     ]
    },
    {
     "data": {
      "application/vnd.jupyter.widget-view+json": {
       "model_id": "88eae7f4ba104a4f80a5cb960c1313a7",
       "version_major": 2,
       "version_minor": 0
      },
      "text/plain": [
       "  0%|          | 0/10 [00:00<?, ?it/s]"
      ]
     },
     "metadata": {},
     "output_type": "display_data"
    },
    {
     "name": "stdout",
     "output_type": "stream",
     "text": [
      "Epoch: 10 | Train Loss: 0.0261 | Acc: 0.9929 | Prec: 0.9934 | Recall: 0.9913 | F1: 0.9924 | ROC-AUC: 0.9990 || Test Loss: 0.4494 | Acc: 0.9163 | Prec: 0.9814 | Recall: 0.9273 | F1: 0.9536 | ROC-AUC: 0.9296\n",
      "Max val ROC-AUC: 0.9449\n",
      "Training with d_model=64, nhead=2, num_layers=4, dropout=0.1, lr=0.001\n"
     ]
    },
    {
     "data": {
      "application/vnd.jupyter.widget-view+json": {
       "model_id": "5a8363df90a64e4eb1a387f3587a1976",
       "version_major": 2,
       "version_minor": 0
      },
      "text/plain": [
       "  0%|          | 0/10 [00:00<?, ?it/s]"
      ]
     },
     "metadata": {},
     "output_type": "display_data"
    },
    {
     "name": "stdout",
     "output_type": "stream",
     "text": [
      "Epoch: 10 | Train Loss: 0.0262 | Acc: 0.9933 | Prec: 0.9971 | Recall: 0.9884 | F1: 0.9927 | ROC-AUC: 0.9988 || Test Loss: 0.3968 | Acc: 0.9326 | Prec: 0.9744 | Recall: 0.9524 | F1: 0.9632 | ROC-AUC: 0.9350\n",
      "Max val ROC-AUC: 0.9530\n",
      "Training with d_model=64, nhead=2, num_layers=4, dropout=0.1, lr=0.001\n"
     ]
    },
    {
     "data": {
      "application/vnd.jupyter.widget-view+json": {
       "model_id": "9cbd9b9cea5e4065b8b7247db4988c84",
       "version_major": 2,
       "version_minor": 0
      },
      "text/plain": [
       "  0%|          | 0/10 [00:00<?, ?it/s]"
      ]
     },
     "metadata": {},
     "output_type": "display_data"
    },
    {
     "name": "stdout",
     "output_type": "stream",
     "text": [
      "Epoch: 10 | Train Loss: 0.0378 | Acc: 0.9892 | Prec: 0.9905 | Recall: 0.9862 | F1: 0.9884 | ROC-AUC: 0.9984 || Test Loss: 0.3849 | Acc: 0.9140 | Prec: 0.9763 | Recall: 0.9298 | F1: 0.9525 | ROC-AUC: 0.9128\n",
      "Max val ROC-AUC: 0.9532\n",
      "Training with d_model=64, nhead=2, num_layers=4, dropout=0.1, lr=0.001\n"
     ]
    },
    {
     "data": {
      "application/vnd.jupyter.widget-view+json": {
       "model_id": "ebc8589db47a4091a97918a71dd65165",
       "version_major": 2,
       "version_minor": 0
      },
      "text/plain": [
       "  0%|          | 0/10 [00:00<?, ?it/s]"
      ]
     },
     "metadata": {},
     "output_type": "display_data"
    },
    {
     "name": "stdout",
     "output_type": "stream",
     "text": [
      "Epoch: 10 | Train Loss: 0.0426 | Acc: 0.9882 | Prec: 0.9927 | Recall: 0.9818 | F1: 0.9872 | ROC-AUC: 0.9981 || Test Loss: 0.4115 | Acc: 0.8907 | Prec: 0.9862 | Recall: 0.8947 | F1: 0.9382 | ROC-AUC: 0.9335\n",
      "Max val ROC-AUC: 0.9565\n",
      "Training with d_model=64, nhead=2, num_layers=4, dropout=0.3, lr=0.1\n"
     ]
    },
    {
     "data": {
      "application/vnd.jupyter.widget-view+json": {
       "model_id": "c48432ae3314462d897b54cb38e0e9bf",
       "version_major": 2,
       "version_minor": 0
      },
      "text/plain": [
       "  0%|          | 0/10 [00:00<?, ?it/s]"
      ]
     },
     "metadata": {},
     "output_type": "display_data"
    },
    {
     "name": "stdout",
     "output_type": "stream",
     "text": [
      "Epoch: 10 | Train Loss: 0.5264 | Acc: 0.7767 | Prec: 0.8742 | Recall: 0.6057 | F1: 0.7156 | ROC-AUC: 0.8325 || Test Loss: 0.4164 | Acc: 0.8023 | Prec: 0.9876 | Recall: 0.7970 | F1: 0.8821 | ROC-AUC: 0.8656\n",
      "Max val ROC-AUC: 0.9456\n",
      "Training with d_model=64, nhead=2, num_layers=4, dropout=0.3, lr=0.1\n"
     ]
    },
    {
     "data": {
      "application/vnd.jupyter.widget-view+json": {
       "model_id": "164a829c747b49e39211875237c2ba04",
       "version_major": 2,
       "version_minor": 0
      },
      "text/plain": [
       "  0%|          | 0/10 [00:00<?, ?it/s]"
      ]
     },
     "metadata": {},
     "output_type": "display_data"
    },
    {
     "name": "stdout",
     "output_type": "stream",
     "text": [
      "Epoch: 10 | Train Loss: 0.6961 | Acc: 0.5173 | Prec: 0.4514 | Recall: 0.1888 | F1: 0.2663 | ROC-AUC: 0.4812 || Test Loss: 0.8609 | Acc: 0.0721 | Prec: 0.0000 | Recall: 0.0000 | F1: 0.0000 | ROC-AUC: 0.4998\n",
      "Max val ROC-AUC: 0.5002\n",
      "Training with d_model=64, nhead=2, num_layers=4, dropout=0.3, lr=0.1\n"
     ]
    },
    {
     "data": {
      "application/vnd.jupyter.widget-view+json": {
       "model_id": "506e1f7822da48f6860a9db0b51bb575",
       "version_major": 2,
       "version_minor": 0
      },
      "text/plain": [
       "  0%|          | 0/10 [00:00<?, ?it/s]"
      ]
     },
     "metadata": {},
     "output_type": "display_data"
    },
    {
     "name": "stdout",
     "output_type": "stream",
     "text": [
      "Epoch: 10 | Train Loss: 0.6975 | Acc: 0.5291 | Prec: 0.4875 | Recall: 0.2963 | F1: 0.3686 | ROC-AUC: 0.5167 || Test Loss: 0.7924 | Acc: 0.0721 | Prec: 0.0000 | Recall: 0.0000 | F1: 0.0000 | ROC-AUC: 0.5000\n",
      "Max val ROC-AUC: 0.9319\n",
      "Training with d_model=64, nhead=2, num_layers=4, dropout=0.3, lr=0.1\n"
     ]
    },
    {
     "data": {
      "application/vnd.jupyter.widget-view+json": {
       "model_id": "48e27662051d48dca4f220a3dd0dcf97",
       "version_major": 2,
       "version_minor": 0
      },
      "text/plain": [
       "  0%|          | 0/10 [00:00<?, ?it/s]"
      ]
     },
     "metadata": {},
     "output_type": "display_data"
    },
    {
     "name": "stdout",
     "output_type": "stream",
     "text": [
      "Epoch: 10 | Train Loss: 0.4706 | Acc: 0.8259 | Prec: 0.9064 | Recall: 0.6964 | F1: 0.7877 | ROC-AUC: 0.8794 || Test Loss: 0.6487 | Acc: 0.6140 | Prec: 0.9874 | Recall: 0.5915 | F1: 0.7398 | ROC-AUC: 0.8735\n",
      "Max val ROC-AUC: 0.9411\n",
      "Training with d_model=64, nhead=2, num_layers=4, dropout=0.3, lr=0.1\n"
     ]
    },
    {
     "data": {
      "application/vnd.jupyter.widget-view+json": {
       "model_id": "3b9aba3bd0c34098bffd1edbf93f252d",
       "version_major": 2,
       "version_minor": 0
      },
      "text/plain": [
       "  0%|          | 0/10 [00:00<?, ?it/s]"
      ]
     },
     "metadata": {},
     "output_type": "display_data"
    },
    {
     "name": "stdout",
     "output_type": "stream",
     "text": [
      "Epoch: 10 | Train Loss: 0.6945 | Acc: 0.5194 | Prec: 0.4349 | Recall: 0.1213 | F1: 0.1897 | ROC-AUC: 0.4868 || Test Loss: 0.7620 | Acc: 0.0721 | Prec: 0.0000 | Recall: 0.0000 | F1: 0.0000 | ROC-AUC: 0.5000\n",
      "Max val ROC-AUC: 0.5959\n",
      "Training with d_model=64, nhead=2, num_layers=4, dropout=0.3, lr=0.1\n"
     ]
    },
    {
     "data": {
      "application/vnd.jupyter.widget-view+json": {
       "model_id": "c6bc31b84cfa4a2c8905e2c0692bdcd1",
       "version_major": 2,
       "version_minor": 0
      },
      "text/plain": [
       "  0%|          | 0/10 [00:00<?, ?it/s]"
      ]
     },
     "metadata": {},
     "output_type": "display_data"
    },
    {
     "name": "stdout",
     "output_type": "stream",
     "text": [
      "Epoch: 10 | Train Loss: 0.6939 | Acc: 0.5359 | Prec: 0.0000 | Recall: 0.0000 | F1: 0.0000 | ROC-AUC: 0.4853 || Test Loss: 0.7019 | Acc: 0.0721 | Prec: 0.0000 | Recall: 0.0000 | F1: 0.0000 | ROC-AUC: 0.5000\n",
      "Max val ROC-AUC: 0.6378\n",
      "Training with d_model=64, nhead=2, num_layers=4, dropout=0.3, lr=0.1\n"
     ]
    },
    {
     "data": {
      "application/vnd.jupyter.widget-view+json": {
       "model_id": "b5789d502e5048e19b081637eb0348c7",
       "version_major": 2,
       "version_minor": 0
      },
      "text/plain": [
       "  0%|          | 0/10 [00:00<?, ?it/s]"
      ]
     },
     "metadata": {},
     "output_type": "display_data"
    },
    {
     "name": "stdout",
     "output_type": "stream",
     "text": [
      "Epoch: 10 | Train Loss: 0.4635 | Acc: 0.8464 | Prec: 0.7916 | Recall: 0.9078 | F1: 0.8457 | ROC-AUC: 0.8780 || Test Loss: 0.4867 | Acc: 0.8791 | Prec: 0.9833 | Recall: 0.8847 | F1: 0.9314 | ROC-AUC: 0.8466\n",
      "Max val ROC-AUC: 0.9569\n",
      "Training with d_model=64, nhead=2, num_layers=4, dropout=0.3, lr=0.1\n"
     ]
    },
    {
     "data": {
      "application/vnd.jupyter.widget-view+json": {
       "model_id": "1cca21ff0f9c4bcaa9b87d7dd1862ae8",
       "version_major": 2,
       "version_minor": 0
      },
      "text/plain": [
       "  0%|          | 0/10 [00:00<?, ?it/s]"
      ]
     },
     "metadata": {},
     "output_type": "display_data"
    },
    {
     "name": "stdout",
     "output_type": "stream",
     "text": [
      "Epoch: 10 | Train Loss: 0.4306 | Acc: 0.8259 | Prec: 0.8015 | Recall: 0.8301 | F1: 0.8156 | ROC-AUC: 0.8895 || Test Loss: 0.2410 | Acc: 0.9233 | Prec: 0.9841 | Recall: 0.9323 | F1: 0.9575 | ROC-AUC: 0.9111\n",
      "Max val ROC-AUC: 0.9540\n",
      "Training with d_model=64, nhead=2, num_layers=4, dropout=0.3, lr=0.1\n"
     ]
    },
    {
     "data": {
      "application/vnd.jupyter.widget-view+json": {
       "model_id": "71cb488be40340aa9f65cb03d6e5f770",
       "version_major": 2,
       "version_minor": 0
      },
      "text/plain": [
       "  0%|          | 0/10 [00:00<?, ?it/s]"
      ]
     },
     "metadata": {},
     "output_type": "display_data"
    },
    {
     "name": "stdout",
     "output_type": "stream",
     "text": [
      "Epoch: 10 | Train Loss: 0.6942 | Acc: 0.5200 | Prec: 0.4674 | Recall: 0.2498 | F1: 0.3256 | ROC-AUC: 0.5081 || Test Loss: 0.6803 | Acc: 0.9279 | Prec: 0.9279 | Recall: 1.0000 | F1: 0.9626 | ROC-AUC: 0.5000\n",
      "Max val ROC-AUC: 0.5002\n",
      "Training with d_model=64, nhead=2, num_layers=4, dropout=0.3, lr=0.1\n"
     ]
    },
    {
     "data": {
      "application/vnd.jupyter.widget-view+json": {
       "model_id": "774e152040cb42c8b6cbb9150936fb05",
       "version_major": 2,
       "version_minor": 0
      },
      "text/plain": [
       "  0%|          | 0/10 [00:00<?, ?it/s]"
      ]
     },
     "metadata": {},
     "output_type": "display_data"
    },
    {
     "name": "stdout",
     "output_type": "stream",
     "text": [
      "Epoch: 10 | Train Loss: 0.6954 | Acc: 0.5227 | Prec: 0.4664 | Recall: 0.2019 | F1: 0.2818 | ROC-AUC: 0.4985 || Test Loss: 0.8375 | Acc: 0.0721 | Prec: 0.0000 | Recall: 0.0000 | F1: 0.0000 | ROC-AUC: 0.5000\n",
      "Max val ROC-AUC: 0.6583\n",
      "Training with d_model=64, nhead=2, num_layers=4, dropout=0.3, lr=0.01\n"
     ]
    },
    {
     "data": {
      "application/vnd.jupyter.widget-view+json": {
       "model_id": "c1f53936798247aea5d8512ae054725a",
       "version_major": 2,
       "version_minor": 0
      },
      "text/plain": [
       "  0%|          | 0/10 [00:00<?, ?it/s]"
      ]
     },
     "metadata": {},
     "output_type": "display_data"
    },
    {
     "name": "stdout",
     "output_type": "stream",
     "text": [
      "Epoch: 10 | Train Loss: 0.1560 | Acc: 0.9596 | Prec: 0.9831 | Recall: 0.9288 | F1: 0.9552 | ROC-AUC: 0.9769 || Test Loss: 0.2951 | Acc: 0.8953 | Prec: 0.9863 | Recall: 0.8997 | F1: 0.9410 | ROC-AUC: 0.9514\n",
      "Max val ROC-AUC: 0.9541\n",
      "Training with d_model=64, nhead=2, num_layers=4, dropout=0.3, lr=0.01\n"
     ]
    },
    {
     "data": {
      "application/vnd.jupyter.widget-view+json": {
       "model_id": "c82cc53114044f7f8f5ac23cdf231a32",
       "version_major": 2,
       "version_minor": 0
      },
      "text/plain": [
       "  0%|          | 0/10 [00:00<?, ?it/s]"
      ]
     },
     "metadata": {},
     "output_type": "display_data"
    },
    {
     "name": "stdout",
     "output_type": "stream",
     "text": [
      "Epoch: 10 | Train Loss: 0.0998 | Acc: 0.9734 | Prec: 0.9843 | Recall: 0.9579 | F1: 0.9709 | ROC-AUC: 0.9880 || Test Loss: 0.4021 | Acc: 0.8977 | Prec: 0.9863 | Recall: 0.9023 | F1: 0.9424 | ROC-AUC: 0.9530\n",
      "Max val ROC-AUC: 0.9530\n",
      "Training with d_model=64, nhead=2, num_layers=4, dropout=0.3, lr=0.01\n"
     ]
    },
    {
     "data": {
      "application/vnd.jupyter.widget-view+json": {
       "model_id": "77796c3504fd4b9d95cbc3abd2932902",
       "version_major": 2,
       "version_minor": 0
      },
      "text/plain": [
       "  0%|          | 0/10 [00:00<?, ?it/s]"
      ]
     },
     "metadata": {},
     "output_type": "display_data"
    },
    {
     "name": "stdout",
     "output_type": "stream",
     "text": [
      "Epoch: 10 | Train Loss: 0.1265 | Acc: 0.9572 | Prec: 0.9742 | Recall: 0.9325 | F1: 0.9529 | ROC-AUC: 0.9869 || Test Loss: 0.3422 | Acc: 0.9140 | Prec: 0.9918 | Recall: 0.9148 | F1: 0.9518 | ROC-AUC: 0.9136\n",
      "Max val ROC-AUC: 0.9517\n",
      "Training with d_model=64, nhead=2, num_layers=4, dropout=0.3, lr=0.01\n"
     ]
    },
    {
     "data": {
      "application/vnd.jupyter.widget-view+json": {
       "model_id": "4a712abfd99a4fee8dd9b3401c94adf3",
       "version_major": 2,
       "version_minor": 0
      },
      "text/plain": [
       "  0%|          | 0/10 [00:00<?, ?it/s]"
      ]
     },
     "metadata": {},
     "output_type": "display_data"
    },
    {
     "name": "stdout",
     "output_type": "stream",
     "text": [
      "Epoch: 10 | Train Loss: 0.1470 | Acc: 0.9549 | Prec: 0.9726 | Recall: 0.9288 | F1: 0.9502 | ROC-AUC: 0.9837 || Test Loss: 0.4201 | Acc: 0.8721 | Prec: 0.9886 | Recall: 0.8722 | F1: 0.9268 | ROC-AUC: 0.9247\n",
      "Max val ROC-AUC: 0.9546\n",
      "Training with d_model=64, nhead=2, num_layers=4, dropout=0.3, lr=0.01\n"
     ]
    },
    {
     "data": {
      "application/vnd.jupyter.widget-view+json": {
       "model_id": "2ccb74bcba24483f98ec8cbf9ce840d6",
       "version_major": 2,
       "version_minor": 0
      },
      "text/plain": [
       "  0%|          | 0/10 [00:00<?, ?it/s]"
      ]
     },
     "metadata": {},
     "output_type": "display_data"
    },
    {
     "name": "stdout",
     "output_type": "stream",
     "text": [
      "Epoch: 10 | Train Loss: 0.1376 | Acc: 0.9566 | Prec: 0.9749 | Recall: 0.9303 | F1: 0.9521 | ROC-AUC: 0.9831 || Test Loss: 0.3664 | Acc: 0.9116 | Prec: 0.9839 | Recall: 0.9198 | F1: 0.9508 | ROC-AUC: 0.9099\n",
      "Max val ROC-AUC: 0.9500\n",
      "Training with d_model=64, nhead=2, num_layers=4, dropout=0.3, lr=0.01\n"
     ]
    },
    {
     "data": {
      "application/vnd.jupyter.widget-view+json": {
       "model_id": "44eaf956d9534a83b1178fbd0df16fe1",
       "version_major": 2,
       "version_minor": 0
      },
      "text/plain": [
       "  0%|          | 0/10 [00:00<?, ?it/s]"
      ]
     },
     "metadata": {},
     "output_type": "display_data"
    },
    {
     "name": "stdout",
     "output_type": "stream",
     "text": [
      "Epoch: 10 | Train Loss: 0.1394 | Acc: 0.9535 | Prec: 0.9806 | Recall: 0.9179 | F1: 0.9482 | ROC-AUC: 0.9829 || Test Loss: 0.3764 | Acc: 0.8930 | Prec: 0.9862 | Recall: 0.8972 | F1: 0.9396 | ROC-AUC: 0.9426\n",
      "Max val ROC-AUC: 0.9452\n",
      "Training with d_model=64, nhead=2, num_layers=4, dropout=0.3, lr=0.01\n"
     ]
    },
    {
     "data": {
      "application/vnd.jupyter.widget-view+json": {
       "model_id": "cc36b41d476d43d8bab5f430134216e5",
       "version_major": 2,
       "version_minor": 0
      },
      "text/plain": [
       "  0%|          | 0/10 [00:00<?, ?it/s]"
      ]
     },
     "metadata": {},
     "output_type": "display_data"
    },
    {
     "name": "stdout",
     "output_type": "stream",
     "text": [
      "Epoch: 10 | Train Loss: 0.1649 | Acc: 0.9495 | Prec: 0.9609 | Recall: 0.9288 | F1: 0.9446 | ROC-AUC: 0.9813 || Test Loss: 0.2267 | Acc: 0.9163 | Prec: 0.9946 | Recall: 0.9148 | F1: 0.9530 | ROC-AUC: 0.9624\n",
      "Max val ROC-AUC: 0.9624\n",
      "Training with d_model=64, nhead=2, num_layers=4, dropout=0.3, lr=0.01\n"
     ]
    },
    {
     "data": {
      "application/vnd.jupyter.widget-view+json": {
       "model_id": "5ec7cf56376446bcaeb9874540017962",
       "version_major": 2,
       "version_minor": 0
      },
      "text/plain": [
       "  0%|          | 0/10 [00:00<?, ?it/s]"
      ]
     },
     "metadata": {},
     "output_type": "display_data"
    },
    {
     "name": "stdout",
     "output_type": "stream",
     "text": [
      "Epoch: 10 | Train Loss: 0.1349 | Acc: 0.9572 | Prec: 0.9756 | Recall: 0.9310 | F1: 0.9528 | ROC-AUC: 0.9839 || Test Loss: 0.4657 | Acc: 0.8814 | Prec: 0.9888 | Recall: 0.8822 | F1: 0.9325 | ROC-AUC: 0.9328\n",
      "Max val ROC-AUC: 0.9622\n",
      "Training with d_model=64, nhead=2, num_layers=4, dropout=0.3, lr=0.01\n"
     ]
    },
    {
     "data": {
      "application/vnd.jupyter.widget-view+json": {
       "model_id": "27192943e2b54c68a7899f32dd0a9d34",
       "version_major": 2,
       "version_minor": 0
      },
      "text/plain": [
       "  0%|          | 0/10 [00:00<?, ?it/s]"
      ]
     },
     "metadata": {},
     "output_type": "display_data"
    },
    {
     "name": "stdout",
     "output_type": "stream",
     "text": [
      "Epoch: 10 | Train Loss: 0.1665 | Acc: 0.9579 | Prec: 0.9793 | Recall: 0.9288 | F1: 0.9534 | ROC-AUC: 0.9776 || Test Loss: 0.2432 | Acc: 0.8837 | Prec: 0.9861 | Recall: 0.8872 | F1: 0.9340 | ROC-AUC: 0.9394\n",
      "Max val ROC-AUC: 0.9539\n",
      "Training with d_model=64, nhead=2, num_layers=4, dropout=0.3, lr=0.01\n"
     ]
    },
    {
     "data": {
      "application/vnd.jupyter.widget-view+json": {
       "model_id": "150b5da97cab4595a16348d4729c49c6",
       "version_major": 2,
       "version_minor": 0
      },
      "text/plain": [
       "  0%|          | 0/10 [00:00<?, ?it/s]"
      ]
     },
     "metadata": {},
     "output_type": "display_data"
    },
    {
     "name": "stdout",
     "output_type": "stream",
     "text": [
      "Epoch: 10 | Train Loss: 0.1590 | Acc: 0.9512 | Prec: 0.9717 | Recall: 0.9216 | F1: 0.9460 | ROC-AUC: 0.9778 || Test Loss: 0.3022 | Acc: 0.9163 | Prec: 0.9840 | Recall: 0.9248 | F1: 0.9535 | ROC-AUC: 0.9273\n",
      "Max val ROC-AUC: 0.9608\n",
      "Training with d_model=64, nhead=2, num_layers=4, dropout=0.3, lr=0.001\n"
     ]
    },
    {
     "data": {
      "application/vnd.jupyter.widget-view+json": {
       "model_id": "f032a937889f408cb4e0d68ac7de5803",
       "version_major": 2,
       "version_minor": 0
      },
      "text/plain": [
       "  0%|          | 0/10 [00:00<?, ?it/s]"
      ]
     },
     "metadata": {},
     "output_type": "display_data"
    },
    {
     "name": "stdout",
     "output_type": "stream",
     "text": [
      "Epoch: 10 | Train Loss: 0.0485 | Acc: 0.9879 | Prec: 0.9912 | Recall: 0.9826 | F1: 0.9869 | ROC-AUC: 0.9972 || Test Loss: 0.5365 | Acc: 0.9047 | Prec: 0.9812 | Recall: 0.9148 | F1: 0.9468 | ROC-AUC: 0.9423\n",
      "Max val ROC-AUC: 0.9459\n",
      "Training with d_model=64, nhead=2, num_layers=4, dropout=0.3, lr=0.001\n"
     ]
    },
    {
     "data": {
      "application/vnd.jupyter.widget-view+json": {
       "model_id": "f82a6060cf8f4fbe8c35aec0909c5ce8",
       "version_major": 2,
       "version_minor": 0
      },
      "text/plain": [
       "  0%|          | 0/10 [00:00<?, ?it/s]"
      ]
     },
     "metadata": {},
     "output_type": "display_data"
    },
    {
     "name": "stdout",
     "output_type": "stream",
     "text": [
      "Epoch: 10 | Train Loss: 0.0587 | Acc: 0.9865 | Prec: 0.9934 | Recall: 0.9775 | F1: 0.9854 | ROC-AUC: 0.9950 || Test Loss: 0.4624 | Acc: 0.9209 | Prec: 0.9841 | Recall: 0.9298 | F1: 0.9562 | ROC-AUC: 0.9254\n",
      "Max val ROC-AUC: 0.9361\n",
      "Training with d_model=64, nhead=2, num_layers=4, dropout=0.3, lr=0.001\n"
     ]
    },
    {
     "data": {
      "application/vnd.jupyter.widget-view+json": {
       "model_id": "fbe754744dd344f492146bcd47758ca0",
       "version_major": 2,
       "version_minor": 0
      },
      "text/plain": [
       "  0%|          | 0/10 [00:00<?, ?it/s]"
      ]
     },
     "metadata": {},
     "output_type": "display_data"
    },
    {
     "name": "stdout",
     "output_type": "stream",
     "text": [
      "Epoch: 10 | Train Loss: 0.0379 | Acc: 0.9919 | Prec: 0.9942 | Recall: 0.9884 | F1: 0.9913 | ROC-AUC: 0.9974 || Test Loss: 0.4411 | Acc: 0.9209 | Prec: 0.9841 | Recall: 0.9298 | F1: 0.9562 | ROC-AUC: 0.9120\n",
      "Max val ROC-AUC: 0.9580\n",
      "Training with d_model=64, nhead=2, num_layers=4, dropout=0.3, lr=0.001\n"
     ]
    },
    {
     "data": {
      "application/vnd.jupyter.widget-view+json": {
       "model_id": "f743834298ee414caf4e7816b4d63924",
       "version_major": 2,
       "version_minor": 0
      },
      "text/plain": [
       "  0%|          | 0/10 [00:00<?, ?it/s]"
      ]
     },
     "metadata": {},
     "output_type": "display_data"
    },
    {
     "name": "stdout",
     "output_type": "stream",
     "text": [
      "Epoch: 10 | Train Loss: 0.0415 | Acc: 0.9862 | Prec: 0.9883 | Recall: 0.9818 | F1: 0.9851 | ROC-AUC: 0.9980 || Test Loss: 0.5093 | Acc: 0.9140 | Prec: 0.9788 | Recall: 0.9273 | F1: 0.9524 | ROC-AUC: 0.9388\n",
      "Max val ROC-AUC: 0.9558\n",
      "Training with d_model=64, nhead=2, num_layers=4, dropout=0.3, lr=0.001\n"
     ]
    },
    {
     "data": {
      "application/vnd.jupyter.widget-view+json": {
       "model_id": "9c95438b4099487d8f1813355c71ec93",
       "version_major": 2,
       "version_minor": 0
      },
      "text/plain": [
       "  0%|          | 0/10 [00:00<?, ?it/s]"
      ]
     },
     "metadata": {},
     "output_type": "display_data"
    },
    {
     "name": "stdout",
     "output_type": "stream",
     "text": [
      "Epoch: 10 | Train Loss: 0.0291 | Acc: 0.9906 | Prec: 0.9949 | Recall: 0.9847 | F1: 0.9898 | ROC-AUC: 0.9991 || Test Loss: 0.5049 | Acc: 0.9279 | Prec: 0.9742 | Recall: 0.9474 | F1: 0.9606 | ROC-AUC: 0.9244\n",
      "Max val ROC-AUC: 0.9512\n",
      "Training with d_model=64, nhead=2, num_layers=4, dropout=0.3, lr=0.001\n"
     ]
    },
    {
     "data": {
      "application/vnd.jupyter.widget-view+json": {
       "model_id": "437a7b6965aa4eaba65adde9c83ac840",
       "version_major": 2,
       "version_minor": 0
      },
      "text/plain": [
       "  0%|          | 0/10 [00:00<?, ?it/s]"
      ]
     },
     "metadata": {},
     "output_type": "display_data"
    },
    {
     "name": "stdout",
     "output_type": "stream",
     "text": [
      "Epoch: 10 | Train Loss: 0.0414 | Acc: 0.9879 | Prec: 0.9919 | Recall: 0.9818 | F1: 0.9869 | ROC-AUC: 0.9981 || Test Loss: 0.4499 | Acc: 0.9326 | Prec: 0.9868 | Recall: 0.9398 | F1: 0.9628 | ROC-AUC: 0.9482\n",
      "Max val ROC-AUC: 0.9528\n",
      "Training with d_model=64, nhead=2, num_layers=4, dropout=0.3, lr=0.001\n"
     ]
    },
    {
     "data": {
      "application/vnd.jupyter.widget-view+json": {
       "model_id": "fa10d4ea637844eabadd137c56d20289",
       "version_major": 2,
       "version_minor": 0
      },
      "text/plain": [
       "  0%|          | 0/10 [00:00<?, ?it/s]"
      ]
     },
     "metadata": {},
     "output_type": "display_data"
    },
    {
     "name": "stdout",
     "output_type": "stream",
     "text": [
      "Epoch: 10 | Train Loss: 0.0508 | Acc: 0.9859 | Prec: 0.9919 | Recall: 0.9775 | F1: 0.9846 | ROC-AUC: 0.9975 || Test Loss: 0.4740 | Acc: 0.8930 | Prec: 0.9809 | Recall: 0.9023 | F1: 0.9399 | ROC-AUC: 0.9374\n",
      "Max val ROC-AUC: 0.9507\n",
      "Training with d_model=64, nhead=2, num_layers=4, dropout=0.3, lr=0.001\n"
     ]
    },
    {
     "data": {
      "application/vnd.jupyter.widget-view+json": {
       "model_id": "bb5bf9d9d273497d94becd4fc7f959ce",
       "version_major": 2,
       "version_minor": 0
      },
      "text/plain": [
       "  0%|          | 0/10 [00:00<?, ?it/s]"
      ]
     },
     "metadata": {},
     "output_type": "display_data"
    },
    {
     "name": "stdout",
     "output_type": "stream",
     "text": [
      "Epoch: 10 | Train Loss: 0.0489 | Acc: 0.9848 | Prec: 0.9890 | Recall: 0.9782 | F1: 0.9836 | ROC-AUC: 0.9979 || Test Loss: 0.5057 | Acc: 0.9093 | Prec: 0.9865 | Recall: 0.9148 | F1: 0.9493 | ROC-AUC: 0.9382\n",
      "Max val ROC-AUC: 0.9616\n",
      "Training with d_model=64, nhead=2, num_layers=4, dropout=0.3, lr=0.001\n"
     ]
    },
    {
     "data": {
      "application/vnd.jupyter.widget-view+json": {
       "model_id": "164524ea01414dd2a43b02f8849272b1",
       "version_major": 2,
       "version_minor": 0
      },
      "text/plain": [
       "  0%|          | 0/10 [00:00<?, ?it/s]"
      ]
     },
     "metadata": {},
     "output_type": "display_data"
    },
    {
     "name": "stdout",
     "output_type": "stream",
     "text": [
      "Epoch: 10 | Train Loss: 0.0445 | Acc: 0.9902 | Prec: 0.9941 | Recall: 0.9847 | F1: 0.9894 | ROC-AUC: 0.9971 || Test Loss: 0.3330 | Acc: 0.9256 | Prec: 0.9842 | Recall: 0.9348 | F1: 0.9589 | ROC-AUC: 0.9385\n",
      "Max val ROC-AUC: 0.9704\n",
      "Training with d_model=64, nhead=2, num_layers=4, dropout=0.3, lr=0.001\n"
     ]
    },
    {
     "data": {
      "application/vnd.jupyter.widget-view+json": {
       "model_id": "d927220cbccb4fe29e1e6f83a7fb9344",
       "version_major": 2,
       "version_minor": 0
      },
      "text/plain": [
       "  0%|          | 0/10 [00:00<?, ?it/s]"
      ]
     },
     "metadata": {},
     "output_type": "display_data"
    },
    {
     "name": "stdout",
     "output_type": "stream",
     "text": [
      "Epoch: 10 | Train Loss: 0.0257 | Acc: 0.9926 | Prec: 0.9956 | Recall: 0.9884 | F1: 0.9920 | ROC-AUC: 0.9994 || Test Loss: 0.3338 | Acc: 0.9279 | Prec: 0.9767 | Recall: 0.9449 | F1: 0.9605 | ROC-AUC: 0.9215\n",
      "Max val ROC-AUC: 0.9572\n",
      "Training with d_model=64, nhead=2, num_layers=4, dropout=0.5, lr=0.1\n"
     ]
    },
    {
     "data": {
      "application/vnd.jupyter.widget-view+json": {
       "model_id": "f5dcf4513a2e4a639966978718b12465",
       "version_major": 2,
       "version_minor": 0
      },
      "text/plain": [
       "  0%|          | 0/10 [00:00<?, ?it/s]"
      ]
     },
     "metadata": {},
     "output_type": "display_data"
    },
    {
     "name": "stdout",
     "output_type": "stream",
     "text": [
      "Epoch: 10 | Train Loss: 0.6925 | Acc: 0.5281 | Prec: 0.4790 | Recall: 0.1990 | F1: 0.2812 | ROC-AUC: 0.5155 || Test Loss: 0.7245 | Acc: 0.0721 | Prec: 0.0000 | Recall: 0.0000 | F1: 0.0000 | ROC-AUC: 0.5000\n",
      "Max val ROC-AUC: 0.5000\n",
      "Training with d_model=64, nhead=2, num_layers=4, dropout=0.5, lr=0.1\n"
     ]
    },
    {
     "data": {
      "application/vnd.jupyter.widget-view+json": {
       "model_id": "d6c9cb25c25f4759878589a2169c0852",
       "version_major": 2,
       "version_minor": 0
      },
      "text/plain": [
       "  0%|          | 0/10 [00:00<?, ?it/s]"
      ]
     },
     "metadata": {},
     "output_type": "display_data"
    },
    {
     "name": "stdout",
     "output_type": "stream",
     "text": [
      "Epoch: 10 | Train Loss: 0.6945 | Acc: 0.5153 | Prec: 0.4579 | Recall: 0.2447 | F1: 0.3190 | ROC-AUC: 0.4954 || Test Loss: 0.8182 | Acc: 0.0721 | Prec: 0.0000 | Recall: 0.0000 | F1: 0.0000 | ROC-AUC: 0.5000\n",
      "Max val ROC-AUC: 0.5000\n",
      "Training with d_model=64, nhead=2, num_layers=4, dropout=0.5, lr=0.1\n"
     ]
    },
    {
     "data": {
      "application/vnd.jupyter.widget-view+json": {
       "model_id": "33ee5b1f3f7f4e21b69b90d2cd8cf350",
       "version_major": 2,
       "version_minor": 0
      },
      "text/plain": [
       "  0%|          | 0/10 [00:00<?, ?it/s]"
      ]
     },
     "metadata": {},
     "output_type": "display_data"
    },
    {
     "name": "stdout",
     "output_type": "stream",
     "text": [
      "Epoch: 10 | Train Loss: 0.7277 | Acc: 0.5231 | Prec: 0.4774 | Recall: 0.2992 | F1: 0.3679 | ROC-AUC: 0.5013 || Test Loss: 0.8052 | Acc: 0.0721 | Prec: 0.0000 | Recall: 0.0000 | F1: 0.0000 | ROC-AUC: 0.5000\n",
      "Max val ROC-AUC: 0.5155\n",
      "Training with d_model=64, nhead=2, num_layers=4, dropout=0.5, lr=0.1\n"
     ]
    },
    {
     "data": {
      "application/vnd.jupyter.widget-view+json": {
       "model_id": "01bc1b8514764e85a9b76a6556b8b3fb",
       "version_major": 2,
       "version_minor": 0
      },
      "text/plain": [
       "  0%|          | 0/10 [00:00<?, ?it/s]"
      ]
     },
     "metadata": {},
     "output_type": "display_data"
    },
    {
     "name": "stdout",
     "output_type": "stream",
     "text": [
      "Epoch: 10 | Train Loss: 0.6962 | Acc: 0.5285 | Prec: 0.4739 | Recall: 0.1518 | F1: 0.2299 | ROC-AUC: 0.4870 || Test Loss: 0.6750 | Acc: 0.9279 | Prec: 0.9279 | Recall: 1.0000 | F1: 0.9626 | ROC-AUC: 0.5000\n",
      "Max val ROC-AUC: 0.5794\n",
      "Training with d_model=64, nhead=2, num_layers=4, dropout=0.5, lr=0.1\n"
     ]
    },
    {
     "data": {
      "application/vnd.jupyter.widget-view+json": {
       "model_id": "5e8ea6e431b946d9a9c14dbab4c1bb1a",
       "version_major": 2,
       "version_minor": 0
      },
      "text/plain": [
       "  0%|          | 0/10 [00:00<?, ?it/s]"
      ]
     },
     "metadata": {},
     "output_type": "display_data"
    },
    {
     "name": "stdout",
     "output_type": "stream",
     "text": [
      "Epoch: 10 | Train Loss: 0.7130 | Acc: 0.5217 | Prec: 0.4404 | Recall: 0.1155 | F1: 0.1830 | ROC-AUC: 0.5025 || Test Loss: 0.6701 | Acc: 0.9279 | Prec: 0.9279 | Recall: 1.0000 | F1: 0.9626 | ROC-AUC: 0.5000\n",
      "Max val ROC-AUC: 0.5245\n",
      "Training with d_model=64, nhead=2, num_layers=4, dropout=0.5, lr=0.1\n"
     ]
    },
    {
     "data": {
      "application/vnd.jupyter.widget-view+json": {
       "model_id": "eddc8a992c5c4ea3a22898e33aed33fc",
       "version_major": 2,
       "version_minor": 0
      },
      "text/plain": [
       "  0%|          | 0/10 [00:00<?, ?it/s]"
      ]
     },
     "metadata": {},
     "output_type": "display_data"
    },
    {
     "name": "stdout",
     "output_type": "stream",
     "text": [
      "Epoch: 10 | Train Loss: 0.7126 | Acc: 0.5083 | Prec: 0.4459 | Recall: 0.2484 | F1: 0.3190 | ROC-AUC: 0.4780 || Test Loss: 0.6876 | Acc: 0.9279 | Prec: 0.9279 | Recall: 1.0000 | F1: 0.9626 | ROC-AUC: 0.5000\n",
      "Max val ROC-AUC: 0.5000\n",
      "Training with d_model=64, nhead=2, num_layers=4, dropout=0.5, lr=0.1\n"
     ]
    },
    {
     "data": {
      "application/vnd.jupyter.widget-view+json": {
       "model_id": "7c0e73fa29da44dab064809739ce1f86",
       "version_major": 2,
       "version_minor": 0
      },
      "text/plain": [
       "  0%|          | 0/10 [00:00<?, ?it/s]"
      ]
     },
     "metadata": {},
     "output_type": "display_data"
    },
    {
     "name": "stdout",
     "output_type": "stream",
     "text": [
      "Epoch: 10 | Train Loss: 0.6939 | Acc: 0.5227 | Prec: 0.4695 | Recall: 0.2237 | F1: 0.3030 | ROC-AUC: 0.5097 || Test Loss: 0.9156 | Acc: 0.0721 | Prec: 0.0000 | Recall: 0.0000 | F1: 0.0000 | ROC-AUC: 0.5000\n",
      "Max val ROC-AUC: 0.5000\n",
      "Training with d_model=64, nhead=2, num_layers=4, dropout=0.5, lr=0.1\n"
     ]
    },
    {
     "data": {
      "application/vnd.jupyter.widget-view+json": {
       "model_id": "44d8e751e2ec429c9c43714c6387cfa1",
       "version_major": 2,
       "version_minor": 0
      },
      "text/plain": [
       "  0%|          | 0/10 [00:00<?, ?it/s]"
      ]
     },
     "metadata": {},
     "output_type": "display_data"
    },
    {
     "name": "stdout",
     "output_type": "stream",
     "text": [
      "Epoch: 10 | Train Loss: 0.7070 | Acc: 0.5184 | Prec: 0.4430 | Recall: 0.1496 | F1: 0.2237 | ROC-AUC: 0.4911 || Test Loss: 0.6570 | Acc: 0.9279 | Prec: 0.9279 | Recall: 1.0000 | F1: 0.9626 | ROC-AUC: 0.5070\n",
      "Max val ROC-AUC: 0.5070\n",
      "Training with d_model=64, nhead=2, num_layers=4, dropout=0.5, lr=0.1\n"
     ]
    },
    {
     "data": {
      "application/vnd.jupyter.widget-view+json": {
       "model_id": "9390cf41282847c5af6a10ba4ee1dc5b",
       "version_major": 2,
       "version_minor": 0
      },
      "text/plain": [
       "  0%|          | 0/10 [00:00<?, ?it/s]"
      ]
     },
     "metadata": {},
     "output_type": "display_data"
    },
    {
     "name": "stdout",
     "output_type": "stream",
     "text": [
      "Epoch: 10 | Train Loss: 0.7312 | Acc: 0.5291 | Prec: 0.4769 | Recall: 0.1576 | F1: 0.2369 | ROC-AUC: 0.5057 || Test Loss: 0.9040 | Acc: 0.0721 | Prec: 0.0000 | Recall: 0.0000 | F1: 0.0000 | ROC-AUC: 0.5000\n",
      "Max val ROC-AUC: 0.6779\n",
      "Training with d_model=64, nhead=2, num_layers=4, dropout=0.5, lr=0.1\n"
     ]
    },
    {
     "data": {
      "application/vnd.jupyter.widget-view+json": {
       "model_id": "c68fe21ab49c40f2a79629bbbde713d7",
       "version_major": 2,
       "version_minor": 0
      },
      "text/plain": [
       "  0%|          | 0/10 [00:00<?, ?it/s]"
      ]
     },
     "metadata": {},
     "output_type": "display_data"
    },
    {
     "name": "stdout",
     "output_type": "stream",
     "text": [
      "Epoch: 10 | Train Loss: 0.6935 | Acc: 0.5241 | Prec: 0.4735 | Recall: 0.2331 | F1: 0.3124 | ROC-AUC: 0.5009 || Test Loss: 0.3211 | Acc: 0.9279 | Prec: 0.9279 | Recall: 1.0000 | F1: 0.9626 | ROC-AUC: 0.8028\n",
      "Max val ROC-AUC: 0.9660\n",
      "Training with d_model=64, nhead=2, num_layers=4, dropout=0.5, lr=0.01\n"
     ]
    },
    {
     "data": {
      "application/vnd.jupyter.widget-view+json": {
       "model_id": "6bf5813865f34255967d71d800d2de93",
       "version_major": 2,
       "version_minor": 0
      },
      "text/plain": [
       "  0%|          | 0/10 [00:00<?, ?it/s]"
      ]
     },
     "metadata": {},
     "output_type": "display_data"
    },
    {
     "name": "stdout",
     "output_type": "stream",
     "text": [
      "Epoch: 10 | Train Loss: 0.1546 | Acc: 0.9515 | Prec: 0.9790 | Recall: 0.9150 | F1: 0.9459 | ROC-AUC: 0.9794 || Test Loss: 0.5153 | Acc: 0.7721 | Prec: 0.9902 | Recall: 0.7619 | F1: 0.8612 | ROC-AUC: 0.9254\n",
      "Max val ROC-AUC: 0.9471\n",
      "Training with d_model=64, nhead=2, num_layers=4, dropout=0.5, lr=0.01\n"
     ]
    },
    {
     "data": {
      "application/vnd.jupyter.widget-view+json": {
       "model_id": "f5b67edbba2948738f80e1d07febac70",
       "version_major": 2,
       "version_minor": 0
      },
      "text/plain": [
       "  0%|          | 0/10 [00:00<?, ?it/s]"
      ]
     },
     "metadata": {},
     "output_type": "display_data"
    },
    {
     "name": "stdout",
     "output_type": "stream",
     "text": [
      "Epoch: 10 | Train Loss: 0.1617 | Acc: 0.9498 | Prec: 0.9782 | Recall: 0.9121 | F1: 0.9440 | ROC-AUC: 0.9802 || Test Loss: 0.4649 | Acc: 0.8442 | Prec: 0.9882 | Recall: 0.8421 | F1: 0.9093 | ROC-AUC: 0.9253\n",
      "Max val ROC-AUC: 0.9533\n",
      "Training with d_model=64, nhead=2, num_layers=4, dropout=0.5, lr=0.01\n"
     ]
    },
    {
     "data": {
      "application/vnd.jupyter.widget-view+json": {
       "model_id": "8934e14f83dd4ac1b5367bcd3bf5d318",
       "version_major": 2,
       "version_minor": 0
      },
      "text/plain": [
       "  0%|          | 0/10 [00:00<?, ?it/s]"
      ]
     },
     "metadata": {},
     "output_type": "display_data"
    },
    {
     "name": "stdout",
     "output_type": "stream",
     "text": [
      "Epoch: 10 | Train Loss: 0.1200 | Acc: 0.9680 | Prec: 0.9849 | Recall: 0.9455 | F1: 0.9648 | ROC-AUC: 0.9861 || Test Loss: 0.3722 | Acc: 0.9000 | Prec: 0.9863 | Recall: 0.9048 | F1: 0.9438 | ROC-AUC: 0.9496\n",
      "Max val ROC-AUC: 0.9565\n",
      "Training with d_model=64, nhead=2, num_layers=4, dropout=0.5, lr=0.01\n"
     ]
    },
    {
     "data": {
      "application/vnd.jupyter.widget-view+json": {
       "model_id": "f33ec275a5854bef981e02609ab6c87d",
       "version_major": 2,
       "version_minor": 0
      },
      "text/plain": [
       "  0%|          | 0/10 [00:00<?, ?it/s]"
      ]
     },
     "metadata": {},
     "output_type": "display_data"
    },
    {
     "name": "stdout",
     "output_type": "stream",
     "text": [
      "Epoch: 10 | Train Loss: 0.1980 | Acc: 0.9404 | Prec: 0.9580 | Recall: 0.9114 | F1: 0.9341 | ROC-AUC: 0.9748 || Test Loss: 0.3806 | Acc: 0.8977 | Prec: 0.9863 | Recall: 0.9023 | F1: 0.9424 | ROC-AUC: 0.9259\n",
      "Max val ROC-AUC: 0.9462\n",
      "Training with d_model=64, nhead=2, num_layers=4, dropout=0.5, lr=0.01\n"
     ]
    },
    {
     "data": {
      "application/vnd.jupyter.widget-view+json": {
       "model_id": "68d746016f144183818c033a99a2a011",
       "version_major": 2,
       "version_minor": 0
      },
      "text/plain": [
       "  0%|          | 0/10 [00:00<?, ?it/s]"
      ]
     },
     "metadata": {},
     "output_type": "display_data"
    },
    {
     "name": "stdout",
     "output_type": "stream",
     "text": [
      "Epoch: 10 | Train Loss: 0.1449 | Acc: 0.9626 | Prec: 0.9862 | Recall: 0.9325 | F1: 0.9586 | ROC-AUC: 0.9828 || Test Loss: 0.4575 | Acc: 0.8884 | Prec: 0.9861 | Recall: 0.8922 | F1: 0.9368 | ROC-AUC: 0.9095\n",
      "Max val ROC-AUC: 0.9449\n",
      "Training with d_model=64, nhead=2, num_layers=4, dropout=0.5, lr=0.01\n"
     ]
    },
    {
     "data": {
      "application/vnd.jupyter.widget-view+json": {
       "model_id": "671b358072714dc8b739669409dbb3c7",
       "version_major": 2,
       "version_minor": 0
      },
      "text/plain": [
       "  0%|          | 0/10 [00:00<?, ?it/s]"
      ]
     },
     "metadata": {},
     "output_type": "display_data"
    },
    {
     "name": "stdout",
     "output_type": "stream",
     "text": [
      "Epoch: 10 | Train Loss: 0.1771 | Acc: 0.9438 | Prec: 0.9802 | Recall: 0.8969 | F1: 0.9367 | ROC-AUC: 0.9732 || Test Loss: 0.4610 | Acc: 0.8977 | Prec: 0.9863 | Recall: 0.9023 | F1: 0.9424 | ROC-AUC: 0.9407\n",
      "Max val ROC-AUC: 0.9658\n",
      "Training with d_model=64, nhead=2, num_layers=4, dropout=0.5, lr=0.01\n"
     ]
    },
    {
     "data": {
      "application/vnd.jupyter.widget-view+json": {
       "model_id": "913adc3c9f56459e9f7e84d5db53a6d1",
       "version_major": 2,
       "version_minor": 0
      },
      "text/plain": [
       "  0%|          | 0/10 [00:00<?, ?it/s]"
      ]
     },
     "metadata": {},
     "output_type": "display_data"
    },
    {
     "name": "stdout",
     "output_type": "stream",
     "text": [
      "Epoch: 10 | Train Loss: 0.1529 | Acc: 0.9562 | Prec: 0.9807 | Recall: 0.9237 | F1: 0.9514 | ROC-AUC: 0.9799 || Test Loss: 0.7389 | Acc: 0.7209 | Prec: 0.9929 | Recall: 0.7043 | F1: 0.8240 | ROC-AUC: 0.9431\n",
      "Max val ROC-AUC: 0.9431\n",
      "Training with d_model=64, nhead=2, num_layers=4, dropout=0.5, lr=0.01\n"
     ]
    },
    {
     "data": {
      "application/vnd.jupyter.widget-view+json": {
       "model_id": "e6ed940dfb6a410d882d45d14419998e",
       "version_major": 2,
       "version_minor": 0
      },
      "text/plain": [
       "  0%|          | 0/10 [00:00<?, ?it/s]"
      ]
     },
     "metadata": {},
     "output_type": "display_data"
    },
    {
     "name": "stdout",
     "output_type": "stream",
     "text": [
      "Epoch: 10 | Train Loss: 0.1545 | Acc: 0.9522 | Prec: 0.9717 | Recall: 0.9237 | F1: 0.9471 | ROC-AUC: 0.9809 || Test Loss: 0.4307 | Acc: 0.8907 | Prec: 0.9862 | Recall: 0.8947 | F1: 0.9382 | ROC-AUC: 0.9043\n",
      "Max val ROC-AUC: 0.9452\n",
      "Training with d_model=64, nhead=2, num_layers=4, dropout=0.5, lr=0.01\n"
     ]
    },
    {
     "data": {
      "application/vnd.jupyter.widget-view+json": {
       "model_id": "08e582ee1a24401bb1e20f4735a4dda7",
       "version_major": 2,
       "version_minor": 0
      },
      "text/plain": [
       "  0%|          | 0/10 [00:00<?, ?it/s]"
      ]
     },
     "metadata": {},
     "output_type": "display_data"
    },
    {
     "name": "stdout",
     "output_type": "stream",
     "text": [
      "Epoch: 10 | Train Loss: 0.1367 | Acc: 0.9656 | Prec: 0.9826 | Recall: 0.9426 | F1: 0.9622 | ROC-AUC: 0.9861 || Test Loss: 0.3503 | Acc: 0.9395 | Prec: 0.9869 | Recall: 0.9474 | F1: 0.9668 | ROC-AUC: 0.9621\n",
      "Max val ROC-AUC: 0.9667\n",
      "Training with d_model=64, nhead=2, num_layers=4, dropout=0.5, lr=0.01\n"
     ]
    },
    {
     "data": {
      "application/vnd.jupyter.widget-view+json": {
       "model_id": "cee2ea997dcf40d9b0140dc8dd2e246e",
       "version_major": 2,
       "version_minor": 0
      },
      "text/plain": [
       "  0%|          | 0/10 [00:00<?, ?it/s]"
      ]
     },
     "metadata": {},
     "output_type": "display_data"
    },
    {
     "name": "stdout",
     "output_type": "stream",
     "text": [
      "Epoch: 10 | Train Loss: 0.1749 | Acc: 0.9461 | Prec: 0.9684 | Recall: 0.9136 | F1: 0.9402 | ROC-AUC: 0.9765 || Test Loss: 0.3476 | Acc: 0.9023 | Prec: 0.9837 | Recall: 0.9098 | F1: 0.9453 | ROC-AUC: 0.9394\n",
      "Max val ROC-AUC: 0.9504\n",
      "Training with d_model=64, nhead=2, num_layers=4, dropout=0.5, lr=0.001\n"
     ]
    },
    {
     "data": {
      "application/vnd.jupyter.widget-view+json": {
       "model_id": "d7e6f2f61b8b40f5a55e9f412209759a",
       "version_major": 2,
       "version_minor": 0
      },
      "text/plain": [
       "  0%|          | 0/10 [00:00<?, ?it/s]"
      ]
     },
     "metadata": {},
     "output_type": "display_data"
    },
    {
     "name": "stdout",
     "output_type": "stream",
     "text": [
      "Epoch: 10 | Train Loss: 0.0768 | Acc: 0.9788 | Prec: 0.9918 | Recall: 0.9622 | F1: 0.9768 | ROC-AUC: 0.9946 || Test Loss: 0.4353 | Acc: 0.9163 | Prec: 0.9814 | Recall: 0.9273 | F1: 0.9536 | ROC-AUC: 0.9147\n",
      "Max val ROC-AUC: 0.9382\n",
      "Training with d_model=64, nhead=2, num_layers=4, dropout=0.5, lr=0.001\n"
     ]
    },
    {
     "data": {
      "application/vnd.jupyter.widget-view+json": {
       "model_id": "693017e660c0474a893af8910e43d77d",
       "version_major": 2,
       "version_minor": 0
      },
      "text/plain": [
       "  0%|          | 0/10 [00:00<?, ?it/s]"
      ]
     },
     "metadata": {},
     "output_type": "display_data"
    },
    {
     "name": "stdout",
     "output_type": "stream",
     "text": [
      "Epoch: 10 | Train Loss: 0.0776 | Acc: 0.9734 | Prec: 0.9829 | Recall: 0.9593 | F1: 0.9710 | ROC-AUC: 0.9953 || Test Loss: 0.6299 | Acc: 0.8628 | Prec: 0.9857 | Recall: 0.8647 | F1: 0.9212 | ROC-AUC: 0.9118\n",
      "Max val ROC-AUC: 0.9424\n",
      "Training with d_model=64, nhead=2, num_layers=4, dropout=0.5, lr=0.001\n"
     ]
    },
    {
     "data": {
      "application/vnd.jupyter.widget-view+json": {
       "model_id": "49f8fbb66e6b48f987a95c53d504ee72",
       "version_major": 2,
       "version_minor": 0
      },
      "text/plain": [
       "  0%|          | 0/10 [00:00<?, ?it/s]"
      ]
     },
     "metadata": {},
     "output_type": "display_data"
    },
    {
     "name": "stdout",
     "output_type": "stream",
     "text": [
      "Epoch: 10 | Train Loss: 0.0643 | Acc: 0.9825 | Prec: 0.9889 | Recall: 0.9731 | F1: 0.9810 | ROC-AUC: 0.9961 || Test Loss: 0.4488 | Acc: 0.9023 | Prec: 0.9811 | Recall: 0.9123 | F1: 0.9455 | ROC-AUC: 0.9350\n",
      "Max val ROC-AUC: 0.9616\n",
      "Training with d_model=64, nhead=2, num_layers=4, dropout=0.5, lr=0.001\n"
     ]
    },
    {
     "data": {
      "application/vnd.jupyter.widget-view+json": {
       "model_id": "4df587828f19457baa0e34c0f31981fe",
       "version_major": 2,
       "version_minor": 0
      },
      "text/plain": [
       "  0%|          | 0/10 [00:00<?, ?it/s]"
      ]
     },
     "metadata": {},
     "output_type": "display_data"
    },
    {
     "name": "stdout",
     "output_type": "stream",
     "text": [
      "Epoch: 10 | Train Loss: 0.0825 | Acc: 0.9764 | Prec: 0.9888 | Recall: 0.9601 | F1: 0.9742 | ROC-AUC: 0.9940 || Test Loss: 0.4914 | Acc: 0.9093 | Prec: 0.9813 | Recall: 0.9198 | F1: 0.9495 | ROC-AUC: 0.9017\n",
      "Max val ROC-AUC: 0.9579\n",
      "Training with d_model=64, nhead=2, num_layers=4, dropout=0.5, lr=0.001\n"
     ]
    },
    {
     "data": {
      "application/vnd.jupyter.widget-view+json": {
       "model_id": "aa0e476006ab41c89a9db71692aa778b",
       "version_major": 2,
       "version_minor": 0
      },
      "text/plain": [
       "  0%|          | 0/10 [00:00<?, ?it/s]"
      ]
     },
     "metadata": {},
     "output_type": "display_data"
    },
    {
     "name": "stdout",
     "output_type": "stream",
     "text": [
      "Epoch: 10 | Train Loss: 0.0544 | Acc: 0.9869 | Prec: 0.9934 | Recall: 0.9782 | F1: 0.9857 | ROC-AUC: 0.9957 || Test Loss: 0.4728 | Acc: 0.9140 | Prec: 0.9788 | Recall: 0.9273 | F1: 0.9524 | ROC-AUC: 0.9322\n",
      "Max val ROC-AUC: 0.9429\n",
      "Training with d_model=64, nhead=2, num_layers=4, dropout=0.5, lr=0.001\n"
     ]
    },
    {
     "data": {
      "application/vnd.jupyter.widget-view+json": {
       "model_id": "cf1fde93d1f948069a5a180d8962df1d",
       "version_major": 2,
       "version_minor": 0
      },
      "text/plain": [
       "  0%|          | 0/10 [00:00<?, ?it/s]"
      ]
     },
     "metadata": {},
     "output_type": "display_data"
    },
    {
     "name": "stdout",
     "output_type": "stream",
     "text": [
      "Epoch: 10 | Train Loss: 0.0659 | Acc: 0.9821 | Prec: 0.9896 | Recall: 0.9717 | F1: 0.9806 | ROC-AUC: 0.9960 || Test Loss: 0.5057 | Acc: 0.9209 | Prec: 0.9815 | Recall: 0.9323 | F1: 0.9563 | ROC-AUC: 0.8997\n",
      "Max val ROC-AUC: 0.9501\n",
      "Training with d_model=64, nhead=2, num_layers=4, dropout=0.5, lr=0.001\n"
     ]
    },
    {
     "data": {
      "application/vnd.jupyter.widget-view+json": {
       "model_id": "d38fa4076f7742b59b5d922141992c06",
       "version_major": 2,
       "version_minor": 0
      },
      "text/plain": [
       "  0%|          | 0/10 [00:00<?, ?it/s]"
      ]
     },
     "metadata": {},
     "output_type": "display_data"
    },
    {
     "name": "stdout",
     "output_type": "stream",
     "text": [
      "Epoch: 10 | Train Loss: 0.0912 | Acc: 0.9761 | Prec: 0.9873 | Recall: 0.9608 | F1: 0.9739 | ROC-AUC: 0.9935 || Test Loss: 0.4129 | Acc: 0.9023 | Prec: 0.9837 | Recall: 0.9098 | F1: 0.9453 | ROC-AUC: 0.9142\n",
      "Max val ROC-AUC: 0.9400\n",
      "Training with d_model=64, nhead=2, num_layers=4, dropout=0.5, lr=0.001\n"
     ]
    },
    {
     "data": {
      "application/vnd.jupyter.widget-view+json": {
       "model_id": "4d1e4b6e491d4b8b951be8770c439fdc",
       "version_major": 2,
       "version_minor": 0
      },
      "text/plain": [
       "  0%|          | 0/10 [00:00<?, ?it/s]"
      ]
     },
     "metadata": {},
     "output_type": "display_data"
    },
    {
     "name": "stdout",
     "output_type": "stream",
     "text": [
      "Epoch: 10 | Train Loss: 0.0621 | Acc: 0.9811 | Prec: 0.9903 | Recall: 0.9688 | F1: 0.9794 | ROC-AUC: 0.9964 || Test Loss: 0.5766 | Acc: 0.8884 | Prec: 0.9861 | Recall: 0.8922 | F1: 0.9368 | ROC-AUC: 0.9404\n",
      "Max val ROC-AUC: 0.9463\n",
      "Training with d_model=64, nhead=2, num_layers=4, dropout=0.5, lr=0.001\n"
     ]
    },
    {
     "data": {
      "application/vnd.jupyter.widget-view+json": {
       "model_id": "66c7f5b19de9466c912b5acf9ca96ae9",
       "version_major": 2,
       "version_minor": 0
      },
      "text/plain": [
       "  0%|          | 0/10 [00:00<?, ?it/s]"
      ]
     },
     "metadata": {},
     "output_type": "display_data"
    },
    {
     "name": "stdout",
     "output_type": "stream",
     "text": [
      "Epoch: 10 | Train Loss: 0.0674 | Acc: 0.9805 | Prec: 0.9874 | Recall: 0.9702 | F1: 0.9788 | ROC-AUC: 0.9958 || Test Loss: 0.4325 | Acc: 0.9070 | Prec: 0.9812 | Recall: 0.9173 | F1: 0.9482 | ROC-AUC: 0.9177\n",
      "Max val ROC-AUC: 0.9473\n",
      "Training with d_model=64, nhead=2, num_layers=4, dropout=0.5, lr=0.001\n"
     ]
    },
    {
     "data": {
      "application/vnd.jupyter.widget-view+json": {
       "model_id": "f361db3582874f4eacfdd5fe3771ef8c",
       "version_major": 2,
       "version_minor": 0
      },
      "text/plain": [
       "  0%|          | 0/10 [00:00<?, ?it/s]"
      ]
     },
     "metadata": {},
     "output_type": "display_data"
    },
    {
     "name": "stdout",
     "output_type": "stream",
     "text": [
      "Epoch: 10 | Train Loss: 0.0748 | Acc: 0.9764 | Prec: 0.9881 | Recall: 0.9608 | F1: 0.9742 | ROC-AUC: 0.9950 || Test Loss: 0.4836 | Acc: 0.8884 | Prec: 0.9808 | Recall: 0.8972 | F1: 0.9372 | ROC-AUC: 0.9247\n",
      "Max val ROC-AUC: 0.9363\n",
      "Training with d_model=64, nhead=2, num_layers=6, dropout=0.0, lr=0.1\n"
     ]
    },
    {
     "data": {
      "application/vnd.jupyter.widget-view+json": {
       "model_id": "005d50aefe0f4d48a8c4a9b901d1a844",
       "version_major": 2,
       "version_minor": 0
      },
      "text/plain": [
       "  0%|          | 0/10 [00:00<?, ?it/s]"
      ]
     },
     "metadata": {},
     "output_type": "display_data"
    },
    {
     "name": "stdout",
     "output_type": "stream",
     "text": [
      "Epoch: 10 | Train Loss: 0.1858 | Acc: 0.9485 | Prec: 0.9588 | Recall: 0.9288 | F1: 0.9436 | ROC-AUC: 0.9720 || Test Loss: 0.4187 | Acc: 0.8326 | Prec: 0.9910 | Recall: 0.8271 | F1: 0.9016 | ROC-AUC: 0.9121\n",
      "Max val ROC-AUC: 0.9386\n",
      "Training with d_model=64, nhead=2, num_layers=6, dropout=0.0, lr=0.1\n"
     ]
    },
    {
     "data": {
      "application/vnd.jupyter.widget-view+json": {
       "model_id": "ff9b3781b6af492daa8e92fbdbe0a113",
       "version_major": 2,
       "version_minor": 0
      },
      "text/plain": [
       "  0%|          | 0/10 [00:00<?, ?it/s]"
      ]
     },
     "metadata": {},
     "output_type": "display_data"
    },
    {
     "name": "stdout",
     "output_type": "stream",
     "text": [
      "Epoch: 10 | Train Loss: 0.1328 | Acc: 0.9515 | Prec: 0.9570 | Recall: 0.9375 | F1: 0.9472 | ROC-AUC: 0.9888 || Test Loss: 0.2863 | Acc: 0.9140 | Prec: 0.9866 | Recall: 0.9198 | F1: 0.9520 | ROC-AUC: 0.9584\n",
      "Max val ROC-AUC: 0.9635\n",
      "Training with d_model=64, nhead=2, num_layers=6, dropout=0.0, lr=0.1\n"
     ]
    },
    {
     "data": {
      "application/vnd.jupyter.widget-view+json": {
       "model_id": "1691397f4fee4a37adc1dc0e87f11333",
       "version_major": 2,
       "version_minor": 0
      },
      "text/plain": [
       "  0%|          | 0/10 [00:00<?, ?it/s]"
      ]
     },
     "metadata": {},
     "output_type": "display_data"
    },
    {
     "name": "stdout",
     "output_type": "stream",
     "text": [
      "Epoch: 10 | Train Loss: 0.1418 | Acc: 0.9518 | Prec: 0.9591 | Recall: 0.9361 | F1: 0.9474 | ROC-AUC: 0.9853 || Test Loss: 0.3230 | Acc: 0.9326 | Prec: 0.9744 | Recall: 0.9524 | F1: 0.9632 | ROC-AUC: 0.9489\n",
      "Max val ROC-AUC: 0.9707\n",
      "Training with d_model=64, nhead=2, num_layers=6, dropout=0.0, lr=0.1\n"
     ]
    },
    {
     "data": {
      "application/vnd.jupyter.widget-view+json": {
       "model_id": "5831bd5af5ac4ac097920a6973e66b80",
       "version_major": 2,
       "version_minor": 0
      },
      "text/plain": [
       "  0%|          | 0/10 [00:00<?, ?it/s]"
      ]
     },
     "metadata": {},
     "output_type": "display_data"
    },
    {
     "name": "stdout",
     "output_type": "stream",
     "text": [
      "Epoch: 10 | Train Loss: 0.2134 | Acc: 0.9390 | Prec: 0.9523 | Recall: 0.9143 | F1: 0.9329 | ROC-AUC: 0.9662 || Test Loss: 0.4275 | Acc: 0.8163 | Prec: 0.9908 | Recall: 0.8095 | F1: 0.8910 | ROC-AUC: 0.9246\n",
      "Max val ROC-AUC: 0.9601\n",
      "Training with d_model=64, nhead=2, num_layers=6, dropout=0.0, lr=0.1\n"
     ]
    },
    {
     "data": {
      "application/vnd.jupyter.widget-view+json": {
       "model_id": "d36f1912ed3b4e28b7675ddb717736b3",
       "version_major": 2,
       "version_minor": 0
      },
      "text/plain": [
       "  0%|          | 0/10 [00:00<?, ?it/s]"
      ]
     },
     "metadata": {},
     "output_type": "display_data"
    },
    {
     "name": "stdout",
     "output_type": "stream",
     "text": [
      "Epoch: 10 | Train Loss: 0.2188 | Acc: 0.9330 | Prec: 0.9510 | Recall: 0.9020 | F1: 0.9258 | ROC-AUC: 0.9479 || Test Loss: 0.2809 | Acc: 0.9000 | Prec: 0.9811 | Recall: 0.9098 | F1: 0.9441 | ROC-AUC: 0.9052\n",
      "Max val ROC-AUC: 0.9305\n",
      "Training with d_model=64, nhead=2, num_layers=6, dropout=0.0, lr=0.1\n"
     ]
    },
    {
     "data": {
      "application/vnd.jupyter.widget-view+json": {
       "model_id": "4416548ed51744b19eb53cfae7a20039",
       "version_major": 2,
       "version_minor": 0
      },
      "text/plain": [
       "  0%|          | 0/10 [00:00<?, ?it/s]"
      ]
     },
     "metadata": {},
     "output_type": "display_data"
    },
    {
     "name": "stdout",
     "output_type": "stream",
     "text": [
      "Epoch: 10 | Train Loss: 0.1491 | Acc: 0.9528 | Prec: 0.9675 | Recall: 0.9296 | F1: 0.9481 | ROC-AUC: 0.9816 || Test Loss: 0.5151 | Acc: 0.7884 | Prec: 0.9904 | Recall: 0.7794 | F1: 0.8724 | ROC-AUC: 0.9210\n",
      "Max val ROC-AUC: 0.9635\n",
      "Training with d_model=64, nhead=2, num_layers=6, dropout=0.0, lr=0.1\n"
     ]
    },
    {
     "data": {
      "application/vnd.jupyter.widget-view+json": {
       "model_id": "fa9bcc67e9c84fc68ee3c8f3ae8e906f",
       "version_major": 2,
       "version_minor": 0
      },
      "text/plain": [
       "  0%|          | 0/10 [00:00<?, ?it/s]"
      ]
     },
     "metadata": {},
     "output_type": "display_data"
    },
    {
     "name": "stdout",
     "output_type": "stream",
     "text": [
      "Epoch: 10 | Train Loss: 0.4082 | Acc: 0.8673 | Prec: 0.9212 | Recall: 0.7807 | F1: 0.8451 | ROC-AUC: 0.9174 || Test Loss: 0.7674 | Acc: 0.5837 | Prec: 0.9911 | Recall: 0.5564 | F1: 0.7127 | ROC-AUC: 0.7503\n",
      "Max val ROC-AUC: 0.9621\n",
      "Training with d_model=64, nhead=2, num_layers=6, dropout=0.0, lr=0.1\n"
     ]
    },
    {
     "data": {
      "application/vnd.jupyter.widget-view+json": {
       "model_id": "39633eddba25486e8e4638ac77c136fa",
       "version_major": 2,
       "version_minor": 0
      },
      "text/plain": [
       "  0%|          | 0/10 [00:00<?, ?it/s]"
      ]
     },
     "metadata": {},
     "output_type": "display_data"
    },
    {
     "name": "stdout",
     "output_type": "stream",
     "text": [
      "Epoch: 10 | Train Loss: 0.1505 | Acc: 0.9522 | Prec: 0.9598 | Recall: 0.9361 | F1: 0.9478 | ROC-AUC: 0.9785 || Test Loss: 0.2584 | Acc: 0.9116 | Prec: 0.9865 | Recall: 0.9173 | F1: 0.9506 | ROC-AUC: 0.9394\n",
      "Max val ROC-AUC: 0.9573\n",
      "Training with d_model=64, nhead=2, num_layers=6, dropout=0.0, lr=0.1\n"
     ]
    },
    {
     "data": {
      "application/vnd.jupyter.widget-view+json": {
       "model_id": "c4ccd657d757491d80d07c586ce25487",
       "version_major": 2,
       "version_minor": 0
      },
      "text/plain": [
       "  0%|          | 0/10 [00:00<?, ?it/s]"
      ]
     },
     "metadata": {},
     "output_type": "display_data"
    },
    {
     "name": "stdout",
     "output_type": "stream",
     "text": [
      "Epoch: 10 | Train Loss: 0.2146 | Acc: 0.9323 | Prec: 0.9727 | Recall: 0.8787 | F1: 0.9233 | ROC-AUC: 0.9582 || Test Loss: 1.0904 | Acc: 0.8233 | Prec: 0.9879 | Recall: 0.8195 | F1: 0.8959 | ROC-AUC: 0.8721\n",
      "Max val ROC-AUC: 0.9506\n",
      "Training with d_model=64, nhead=2, num_layers=6, dropout=0.0, lr=0.1\n"
     ]
    },
    {
     "data": {
      "application/vnd.jupyter.widget-view+json": {
       "model_id": "d54f00cb9e9840c18807e1fc6fac6b51",
       "version_major": 2,
       "version_minor": 0
      },
      "text/plain": [
       "  0%|          | 0/10 [00:00<?, ?it/s]"
      ]
     },
     "metadata": {},
     "output_type": "display_data"
    },
    {
     "name": "stdout",
     "output_type": "stream",
     "text": [
      "Epoch: 10 | Train Loss: 0.1257 | Acc: 0.9579 | Prec: 0.9596 | Recall: 0.9492 | F1: 0.9544 | ROC-AUC: 0.9887 || Test Loss: 0.2680 | Acc: 0.9209 | Prec: 0.9893 | Recall: 0.9248 | F1: 0.9560 | ROC-AUC: 0.9508\n",
      "Max val ROC-AUC: 0.9575\n",
      "Training with d_model=64, nhead=2, num_layers=6, dropout=0.0, lr=0.01\n"
     ]
    },
    {
     "data": {
      "application/vnd.jupyter.widget-view+json": {
       "model_id": "45681e61bfdb47c9a6195cddc49bb21b",
       "version_major": 2,
       "version_minor": 0
      },
      "text/plain": [
       "  0%|          | 0/10 [00:00<?, ?it/s]"
      ]
     },
     "metadata": {},
     "output_type": "display_data"
    },
    {
     "name": "stdout",
     "output_type": "stream",
     "text": [
      "Epoch: 10 | Train Loss: 0.0614 | Acc: 0.9808 | Prec: 0.9818 | Recall: 0.9768 | F1: 0.9793 | ROC-AUC: 0.9969 || Test Loss: 0.3565 | Acc: 0.9233 | Prec: 0.9766 | Recall: 0.9398 | F1: 0.9579 | ROC-AUC: 0.9314\n",
      "Max val ROC-AUC: 0.9516\n",
      "Training with d_model=64, nhead=2, num_layers=6, dropout=0.0, lr=0.01\n"
     ]
    },
    {
     "data": {
      "application/vnd.jupyter.widget-view+json": {
       "model_id": "8999c06015ff4858961561b856de5d26",
       "version_major": 2,
       "version_minor": 0
      },
      "text/plain": [
       "  0%|          | 0/10 [00:00<?, ?it/s]"
      ]
     },
     "metadata": {},
     "output_type": "display_data"
    },
    {
     "name": "stdout",
     "output_type": "stream",
     "text": [
      "Epoch: 10 | Train Loss: 0.0996 | Acc: 0.9690 | Prec: 0.9842 | Recall: 0.9484 | F1: 0.9660 | ROC-AUC: 0.9909 || Test Loss: 0.5065 | Acc: 0.8605 | Prec: 0.9885 | Recall: 0.8596 | F1: 0.9196 | ROC-AUC: 0.9493\n",
      "Max val ROC-AUC: 0.9493\n",
      "Training with d_model=64, nhead=2, num_layers=6, dropout=0.0, lr=0.01\n"
     ]
    },
    {
     "data": {
      "application/vnd.jupyter.widget-view+json": {
       "model_id": "2cac194af37f4479992f18fb6da83156",
       "version_major": 2,
       "version_minor": 0
      },
      "text/plain": [
       "  0%|          | 0/10 [00:00<?, ?it/s]"
      ]
     },
     "metadata": {},
     "output_type": "display_data"
    },
    {
     "name": "stdout",
     "output_type": "stream",
     "text": [
      "Epoch: 10 | Train Loss: 0.0449 | Acc: 0.9875 | Prec: 0.9891 | Recall: 0.9840 | F1: 0.9865 | ROC-AUC: 0.9984 || Test Loss: 0.4305 | Acc: 0.9000 | Prec: 0.9917 | Recall: 0.8997 | F1: 0.9435 | ROC-AUC: 0.9562\n",
      "Max val ROC-AUC: 0.9565\n",
      "Training with d_model=64, nhead=2, num_layers=6, dropout=0.0, lr=0.01\n"
     ]
    },
    {
     "data": {
      "application/vnd.jupyter.widget-view+json": {
       "model_id": "ca844ba021bd4cfeb2ede8c89368ed0a",
       "version_major": 2,
       "version_minor": 0
      },
      "text/plain": [
       "  0%|          | 0/10 [00:00<?, ?it/s]"
      ]
     },
     "metadata": {},
     "output_type": "display_data"
    },
    {
     "name": "stdout",
     "output_type": "stream",
     "text": [
      "Epoch: 10 | Train Loss: 0.0397 | Acc: 0.9872 | Prec: 0.9876 | Recall: 0.9847 | F1: 0.9862 | ROC-AUC: 0.9989 || Test Loss: 0.2320 | Acc: 0.9465 | Prec: 0.9896 | Recall: 0.9524 | F1: 0.9706 | ROC-AUC: 0.9726\n",
      "Max val ROC-AUC: 0.9726\n",
      "Training with d_model=64, nhead=2, num_layers=6, dropout=0.0, lr=0.01\n"
     ]
    },
    {
     "data": {
      "application/vnd.jupyter.widget-view+json": {
       "model_id": "400f527ba1134c6fbbbdd5f2b8b01348",
       "version_major": 2,
       "version_minor": 0
      },
      "text/plain": [
       "  0%|          | 0/10 [00:00<?, ?it/s]"
      ]
     },
     "metadata": {},
     "output_type": "display_data"
    },
    {
     "name": "stdout",
     "output_type": "stream",
     "text": [
      "Epoch: 10 | Train Loss: 0.0482 | Acc: 0.9848 | Prec: 0.9876 | Recall: 0.9797 | F1: 0.9836 | ROC-AUC: 0.9983 || Test Loss: 0.3293 | Acc: 0.9419 | Prec: 0.9895 | Recall: 0.9474 | F1: 0.9680 | ROC-AUC: 0.9522\n",
      "Max val ROC-AUC: 0.9581\n",
      "Training with d_model=64, nhead=2, num_layers=6, dropout=0.0, lr=0.01\n"
     ]
    },
    {
     "data": {
      "application/vnd.jupyter.widget-view+json": {
       "model_id": "d4d40ebae11245738ef638b690149917",
       "version_major": 2,
       "version_minor": 0
      },
      "text/plain": [
       "  0%|          | 0/10 [00:00<?, ?it/s]"
      ]
     },
     "metadata": {},
     "output_type": "display_data"
    },
    {
     "name": "stdout",
     "output_type": "stream",
     "text": [
      "Epoch: 10 | Train Loss: 0.0323 | Acc: 0.9892 | Prec: 0.9891 | Recall: 0.9877 | F1: 0.9884 | ROC-AUC: 0.9991 || Test Loss: 0.2657 | Acc: 0.9395 | Prec: 0.9746 | Recall: 0.9599 | F1: 0.9672 | ROC-AUC: 0.9506\n",
      "Max val ROC-AUC: 0.9576\n",
      "Training with d_model=64, nhead=2, num_layers=6, dropout=0.0, lr=0.01\n"
     ]
    },
    {
     "data": {
      "application/vnd.jupyter.widget-view+json": {
       "model_id": "0fa5cb256ea24d23a0a927f5174aff86",
       "version_major": 2,
       "version_minor": 0
      },
      "text/plain": [
       "  0%|          | 0/10 [00:00<?, ?it/s]"
      ]
     },
     "metadata": {},
     "output_type": "display_data"
    },
    {
     "name": "stdout",
     "output_type": "stream",
     "text": [
      "Epoch: 10 | Train Loss: 0.0625 | Acc: 0.9795 | Prec: 0.9741 | Recall: 0.9818 | F1: 0.9779 | ROC-AUC: 0.9968 || Test Loss: 0.3301 | Acc: 0.9209 | Prec: 0.9841 | Recall: 0.9298 | F1: 0.9562 | ROC-AUC: 0.9232\n",
      "Max val ROC-AUC: 0.9357\n",
      "Training with d_model=64, nhead=2, num_layers=6, dropout=0.0, lr=0.01\n"
     ]
    },
    {
     "data": {
      "application/vnd.jupyter.widget-view+json": {
       "model_id": "689a16af33b94af5ae4ba11e61b1c8fc",
       "version_major": 2,
       "version_minor": 0
      },
      "text/plain": [
       "  0%|          | 0/10 [00:00<?, ?it/s]"
      ]
     },
     "metadata": {},
     "output_type": "display_data"
    },
    {
     "name": "stdout",
     "output_type": "stream",
     "text": [
      "Epoch: 10 | Train Loss: 0.0389 | Acc: 0.9835 | Prec: 0.9812 | Recall: 0.9833 | F1: 0.9822 | ROC-AUC: 0.9991 || Test Loss: 0.2445 | Acc: 0.9395 | Prec: 0.9819 | Recall: 0.9524 | F1: 0.9669 | ROC-AUC: 0.9664\n",
      "Max val ROC-AUC: 0.9664\n",
      "Training with d_model=64, nhead=2, num_layers=6, dropout=0.0, lr=0.01\n"
     ]
    },
    {
     "data": {
      "application/vnd.jupyter.widget-view+json": {
       "model_id": "c7c60a5a106b4eef895799d3c150ae34",
       "version_major": 2,
       "version_minor": 0
      },
      "text/plain": [
       "  0%|          | 0/10 [00:00<?, ?it/s]"
      ]
     },
     "metadata": {},
     "output_type": "display_data"
    },
    {
     "name": "stdout",
     "output_type": "stream",
     "text": [
      "Epoch: 10 | Train Loss: 0.0443 | Acc: 0.9872 | Prec: 0.9890 | Recall: 0.9833 | F1: 0.9862 | ROC-AUC: 0.9975 || Test Loss: 0.2019 | Acc: 0.9419 | Prec: 0.9770 | Recall: 0.9599 | F1: 0.9684 | ROC-AUC: 0.9521\n",
      "Max val ROC-AUC: 0.9521\n",
      "Training with d_model=64, nhead=2, num_layers=6, dropout=0.0, lr=0.01\n"
     ]
    },
    {
     "data": {
      "application/vnd.jupyter.widget-view+json": {
       "model_id": "fc35c3826eaf4f7c9206c869e11824e0",
       "version_major": 2,
       "version_minor": 0
      },
      "text/plain": [
       "  0%|          | 0/10 [00:00<?, ?it/s]"
      ]
     },
     "metadata": {},
     "output_type": "display_data"
    },
    {
     "name": "stdout",
     "output_type": "stream",
     "text": [
      "Epoch: 10 | Train Loss: 0.0585 | Acc: 0.9808 | Prec: 0.9783 | Recall: 0.9804 | F1: 0.9793 | ROC-AUC: 0.9965 || Test Loss: 0.3430 | Acc: 0.9186 | Prec: 0.9789 | Recall: 0.9323 | F1: 0.9551 | ROC-AUC: 0.9276\n",
      "Max val ROC-AUC: 0.9440\n",
      "Training with d_model=64, nhead=2, num_layers=6, dropout=0.0, lr=0.001\n"
     ]
    },
    {
     "data": {
      "application/vnd.jupyter.widget-view+json": {
       "model_id": "925f1aa80ac04a7a9c86dc61bfb252e3",
       "version_major": 2,
       "version_minor": 0
      },
      "text/plain": [
       "  0%|          | 0/10 [00:00<?, ?it/s]"
      ]
     },
     "metadata": {},
     "output_type": "display_data"
    },
    {
     "name": "stdout",
     "output_type": "stream",
     "text": [
      "Epoch: 10 | Train Loss: 0.0344 | Acc: 0.9872 | Prec: 0.9848 | Recall: 0.9877 | F1: 0.9862 | ROC-AUC: 0.9990 || Test Loss: 0.3316 | Acc: 0.9349 | Prec: 0.9818 | Recall: 0.9474 | F1: 0.9643 | ROC-AUC: 0.9362\n",
      "Max val ROC-AUC: 0.9362\n",
      "Training with d_model=64, nhead=2, num_layers=6, dropout=0.0, lr=0.001\n"
     ]
    },
    {
     "data": {
      "application/vnd.jupyter.widget-view+json": {
       "model_id": "ed014791f330435fbea5a99bcfe7b499",
       "version_major": 2,
       "version_minor": 0
      },
      "text/plain": [
       "  0%|          | 0/10 [00:00<?, ?it/s]"
      ]
     },
     "metadata": {},
     "output_type": "display_data"
    },
    {
     "name": "stdout",
     "output_type": "stream",
     "text": [
      "Epoch: 10 | Train Loss: 0.0303 | Acc: 0.9923 | Prec: 0.9956 | Recall: 0.9877 | F1: 0.9916 | ROC-AUC: 0.9988 || Test Loss: 0.3588 | Acc: 0.9302 | Prec: 0.9792 | Recall: 0.9449 | F1: 0.9617 | ROC-AUC: 0.9229\n",
      "Max val ROC-AUC: 0.9391\n",
      "Training with d_model=64, nhead=2, num_layers=6, dropout=0.0, lr=0.001\n"
     ]
    },
    {
     "data": {
      "application/vnd.jupyter.widget-view+json": {
       "model_id": "b560d2927bf8469e936b957d5ad5da56",
       "version_major": 2,
       "version_minor": 0
      },
      "text/plain": [
       "  0%|          | 0/10 [00:00<?, ?it/s]"
      ]
     },
     "metadata": {},
     "output_type": "display_data"
    },
    {
     "name": "stdout",
     "output_type": "stream",
     "text": [
      "Epoch: 10 | Train Loss: 0.0416 | Acc: 0.9872 | Prec: 0.9869 | Recall: 0.9855 | F1: 0.9862 | ROC-AUC: 0.9978 || Test Loss: 0.4050 | Acc: 0.9256 | Prec: 0.9791 | Recall: 0.9398 | F1: 0.9591 | ROC-AUC: 0.9379\n",
      "Max val ROC-AUC: 0.9632\n",
      "Training with d_model=64, nhead=2, num_layers=6, dropout=0.0, lr=0.001\n"
     ]
    },
    {
     "data": {
      "application/vnd.jupyter.widget-view+json": {
       "model_id": "ddd4a173f81f430286a414a444039554",
       "version_major": 2,
       "version_minor": 0
      },
      "text/plain": [
       "  0%|          | 0/10 [00:00<?, ?it/s]"
      ]
     },
     "metadata": {},
     "output_type": "display_data"
    },
    {
     "name": "stdout",
     "output_type": "stream",
     "text": [
      "Epoch: 10 | Train Loss: 0.0308 | Acc: 0.9912 | Prec: 0.9898 | Recall: 0.9913 | F1: 0.9906 | ROC-AUC: 0.9988 || Test Loss: 0.5642 | Acc: 0.8953 | Prec: 0.9836 | Recall: 0.9023 | F1: 0.9412 | ROC-AUC: 0.9446\n",
      "Max val ROC-AUC: 0.9639\n",
      "Training with d_model=64, nhead=2, num_layers=6, dropout=0.0, lr=0.001\n"
     ]
    },
    {
     "data": {
      "application/vnd.jupyter.widget-view+json": {
       "model_id": "acaadba41c724270a8003e9da7d283a3",
       "version_major": 2,
       "version_minor": 0
      },
      "text/plain": [
       "  0%|          | 0/10 [00:00<?, ?it/s]"
      ]
     },
     "metadata": {},
     "output_type": "display_data"
    },
    {
     "name": "stdout",
     "output_type": "stream",
     "text": [
      "Epoch: 10 | Train Loss: 0.0247 | Acc: 0.9909 | Prec: 0.9898 | Recall: 0.9906 | F1: 0.9902 | ROC-AUC: 0.9996 || Test Loss: 0.3358 | Acc: 0.9395 | Prec: 0.9746 | Recall: 0.9599 | F1: 0.9672 | ROC-AUC: 0.9250\n",
      "Max val ROC-AUC: 0.9419\n",
      "Training with d_model=64, nhead=2, num_layers=6, dropout=0.0, lr=0.001\n"
     ]
    },
    {
     "data": {
      "application/vnd.jupyter.widget-view+json": {
       "model_id": "cbc9ce4f980845b5a881f7ef2b18c085",
       "version_major": 2,
       "version_minor": 0
      },
      "text/plain": [
       "  0%|          | 0/10 [00:00<?, ?it/s]"
      ]
     },
     "metadata": {},
     "output_type": "display_data"
    },
    {
     "name": "stdout",
     "output_type": "stream",
     "text": [
      "Epoch: 10 | Train Loss: 0.0119 | Acc: 0.9966 | Prec: 0.9978 | Recall: 0.9949 | F1: 0.9964 | ROC-AUC: 0.9997 || Test Loss: 0.4507 | Acc: 0.9209 | Prec: 0.9740 | Recall: 0.9398 | F1: 0.9566 | ROC-AUC: 0.9451\n",
      "Max val ROC-AUC: 0.9526\n",
      "Training with d_model=64, nhead=2, num_layers=6, dropout=0.0, lr=0.001\n"
     ]
    },
    {
     "data": {
      "application/vnd.jupyter.widget-view+json": {
       "model_id": "4afaf2ffc5994d03857999f2a0e955c1",
       "version_major": 2,
       "version_minor": 0
      },
      "text/plain": [
       "  0%|          | 0/10 [00:00<?, ?it/s]"
      ]
     },
     "metadata": {},
     "output_type": "display_data"
    },
    {
     "name": "stdout",
     "output_type": "stream",
     "text": [
      "Epoch: 10 | Train Loss: 0.0122 | Acc: 0.9963 | Prec: 0.9964 | Recall: 0.9956 | F1: 0.9960 | ROC-AUC: 0.9999 || Test Loss: 0.4276 | Acc: 0.9372 | Prec: 0.9869 | Recall: 0.9449 | F1: 0.9654 | ROC-AUC: 0.9211\n",
      "Max val ROC-AUC: 0.9714\n",
      "Training with d_model=64, nhead=2, num_layers=6, dropout=0.0, lr=0.001\n"
     ]
    },
    {
     "data": {
      "application/vnd.jupyter.widget-view+json": {
       "model_id": "44075731b3e646cd9edaa9b293e8545e",
       "version_major": 2,
       "version_minor": 0
      },
      "text/plain": [
       "  0%|          | 0/10 [00:00<?, ?it/s]"
      ]
     },
     "metadata": {},
     "output_type": "display_data"
    },
    {
     "name": "stdout",
     "output_type": "stream",
     "text": [
      "Epoch: 10 | Train Loss: 0.0166 | Acc: 0.9933 | Prec: 0.9935 | Recall: 0.9920 | F1: 0.9927 | ROC-AUC: 0.9998 || Test Loss: 0.3728 | Acc: 0.9302 | Prec: 0.9792 | Recall: 0.9449 | F1: 0.9617 | ROC-AUC: 0.9524\n",
      "Max val ROC-AUC: 0.9655\n",
      "Training with d_model=64, nhead=2, num_layers=6, dropout=0.0, lr=0.001\n"
     ]
    },
    {
     "data": {
      "application/vnd.jupyter.widget-view+json": {
       "model_id": "1e80bb2fdd374f2aa28440e555c703d7",
       "version_major": 2,
       "version_minor": 0
      },
      "text/plain": [
       "  0%|          | 0/10 [00:00<?, ?it/s]"
      ]
     },
     "metadata": {},
     "output_type": "display_data"
    },
    {
     "name": "stdout",
     "output_type": "stream",
     "text": [
      "Epoch: 10 | Train Loss: 0.0422 | Acc: 0.9872 | Prec: 0.9890 | Recall: 0.9833 | F1: 0.9862 | ROC-AUC: 0.9978 || Test Loss: 0.3791 | Acc: 0.9256 | Prec: 0.9816 | Recall: 0.9373 | F1: 0.9590 | ROC-AUC: 0.9248\n",
      "Max val ROC-AUC: 0.9491\n",
      "Training with d_model=64, nhead=2, num_layers=6, dropout=0.0, lr=0.001\n"
     ]
    },
    {
     "data": {
      "application/vnd.jupyter.widget-view+json": {
       "model_id": "c6957f2cb4f441028854280c71b326fe",
       "version_major": 2,
       "version_minor": 0
      },
      "text/plain": [
       "  0%|          | 0/10 [00:00<?, ?it/s]"
      ]
     },
     "metadata": {},
     "output_type": "display_data"
    },
    {
     "name": "stdout",
     "output_type": "stream",
     "text": [
      "Epoch: 10 | Train Loss: 0.0039 | Acc: 0.9993 | Prec: 0.9993 | Recall: 0.9993 | F1: 0.9993 | ROC-AUC: 0.9999 || Test Loss: 0.4845 | Acc: 0.9256 | Prec: 0.9717 | Recall: 0.9474 | F1: 0.9594 | ROC-AUC: 0.9180\n",
      "Max val ROC-AUC: 0.9665\n",
      "Training with d_model=64, nhead=2, num_layers=6, dropout=0.1, lr=0.1\n"
     ]
    },
    {
     "data": {
      "application/vnd.jupyter.widget-view+json": {
       "model_id": "6455d400ac384ede9c436b266041fe44",
       "version_major": 2,
       "version_minor": 0
      },
      "text/plain": [
       "  0%|          | 0/10 [00:00<?, ?it/s]"
      ]
     },
     "metadata": {},
     "output_type": "display_data"
    },
    {
     "name": "stdout",
     "output_type": "stream",
     "text": [
      "Epoch: 10 | Train Loss: 0.2407 | Acc: 0.9020 | Prec: 0.9393 | Recall: 0.8431 | F1: 0.8886 | ROC-AUC: 0.9678 || Test Loss: 0.5144 | Acc: 0.4977 | Prec: 1.0000 | Recall: 0.4586 | F1: 0.6289 | ROC-AUC: 0.9430\n",
      "Max val ROC-AUC: 0.9634\n",
      "Training with d_model=64, nhead=2, num_layers=6, dropout=0.1, lr=0.1\n"
     ]
    },
    {
     "data": {
      "application/vnd.jupyter.widget-view+json": {
       "model_id": "a382d569361f4d15abc68bb8aa205f1b",
       "version_major": 2,
       "version_minor": 0
      },
      "text/plain": [
       "  0%|          | 0/10 [00:00<?, ?it/s]"
      ]
     },
     "metadata": {},
     "output_type": "display_data"
    },
    {
     "name": "stdout",
     "output_type": "stream",
     "text": [
      "Epoch: 10 | Train Loss: 0.3446 | Acc: 0.8659 | Prec: 0.9166 | Recall: 0.7821 | F1: 0.8440 | ROC-AUC: 0.9150 || Test Loss: 0.3021 | Acc: 0.8558 | Prec: 0.9941 | Recall: 0.8496 | F1: 0.9162 | ROC-AUC: 0.9147\n",
      "Max val ROC-AUC: 0.9529\n",
      "Training with d_model=64, nhead=2, num_layers=6, dropout=0.1, lr=0.1\n"
     ]
    },
    {
     "data": {
      "application/vnd.jupyter.widget-view+json": {
       "model_id": "6205e38c2e694c019f8dc7a6c89c5522",
       "version_major": 2,
       "version_minor": 0
      },
      "text/plain": [
       "  0%|          | 0/10 [00:00<?, ?it/s]"
      ]
     },
     "metadata": {},
     "output_type": "display_data"
    },
    {
     "name": "stdout",
     "output_type": "stream",
     "text": [
      "Epoch: 10 | Train Loss: 0.3069 | Acc: 0.8845 | Prec: 0.8641 | Recall: 0.8911 | F1: 0.8774 | ROC-AUC: 0.9443 || Test Loss: 0.3656 | Acc: 0.9372 | Prec: 0.9844 | Recall: 0.9474 | F1: 0.9655 | ROC-AUC: 0.8971\n",
      "Max val ROC-AUC: 0.9563\n",
      "Training with d_model=64, nhead=2, num_layers=6, dropout=0.1, lr=0.1\n"
     ]
    },
    {
     "data": {
      "application/vnd.jupyter.widget-view+json": {
       "model_id": "db03cdfc6bc842fcad3e21d8c578bf22",
       "version_major": 2,
       "version_minor": 0
      },
      "text/plain": [
       "  0%|          | 0/10 [00:00<?, ?it/s]"
      ]
     },
     "metadata": {},
     "output_type": "display_data"
    },
    {
     "name": "stdout",
     "output_type": "stream",
     "text": [
      "Epoch: 10 | Train Loss: 0.2964 | Acc: 0.9043 | Prec: 0.8857 | Recall: 0.9114 | F1: 0.8984 | ROC-AUC: 0.9482 || Test Loss: 0.4109 | Acc: 0.9233 | Prec: 0.9867 | Recall: 0.9298 | F1: 0.9574 | ROC-AUC: 0.9553\n",
      "Max val ROC-AUC: 0.9553\n",
      "Training with d_model=64, nhead=2, num_layers=6, dropout=0.1, lr=0.1\n"
     ]
    },
    {
     "data": {
      "application/vnd.jupyter.widget-view+json": {
       "model_id": "d19342d8492f4907a2e9d2647297105e",
       "version_major": 2,
       "version_minor": 0
      },
      "text/plain": [
       "  0%|          | 0/10 [00:00<?, ?it/s]"
      ]
     },
     "metadata": {},
     "output_type": "display_data"
    },
    {
     "name": "stdout",
     "output_type": "stream",
     "text": [
      "Epoch: 10 | Train Loss: 0.2484 | Acc: 0.9212 | Prec: 0.9420 | Recall: 0.8845 | F1: 0.9124 | ROC-AUC: 0.9558 || Test Loss: 0.2730 | Acc: 0.9023 | Prec: 0.9917 | Recall: 0.9023 | F1: 0.9449 | ROC-AUC: 0.9400\n",
      "Max val ROC-AUC: 0.9736\n",
      "Training with d_model=64, nhead=2, num_layers=6, dropout=0.1, lr=0.1\n"
     ]
    },
    {
     "data": {
      "application/vnd.jupyter.widget-view+json": {
       "model_id": "8796f68c34484346a20616d7b19dadab",
       "version_major": 2,
       "version_minor": 0
      },
      "text/plain": [
       "  0%|          | 0/10 [00:00<?, ?it/s]"
      ]
     },
     "metadata": {},
     "output_type": "display_data"
    },
    {
     "name": "stdout",
     "output_type": "stream",
     "text": [
      "Epoch: 10 | Train Loss: 0.3059 | Acc: 0.8959 | Prec: 0.9619 | Recall: 0.8076 | F1: 0.8780 | ROC-AUC: 0.9247 || Test Loss: 0.6361 | Acc: 0.6233 | Prec: 0.9958 | Recall: 0.5965 | F1: 0.7461 | ROC-AUC: 0.9132\n",
      "Max val ROC-AUC: 0.9449\n",
      "Training with d_model=64, nhead=2, num_layers=6, dropout=0.1, lr=0.1\n"
     ]
    },
    {
     "data": {
      "application/vnd.jupyter.widget-view+json": {
       "model_id": "f8de385740774eb49cb6f3354b9bd5d7",
       "version_major": 2,
       "version_minor": 0
      },
      "text/plain": [
       "  0%|          | 0/10 [00:00<?, ?it/s]"
      ]
     },
     "metadata": {},
     "output_type": "display_data"
    },
    {
     "name": "stdout",
     "output_type": "stream",
     "text": [
      "Epoch: 10 | Train Loss: 0.2730 | Acc: 0.9047 | Prec: 0.9506 | Recall: 0.8381 | F1: 0.8908 | ROC-AUC: 0.9417 || Test Loss: 1.0358 | Acc: 0.7860 | Prec: 0.9873 | Recall: 0.7794 | F1: 0.8711 | ROC-AUC: 0.8302\n",
      "Max val ROC-AUC: 0.9360\n",
      "Training with d_model=64, nhead=2, num_layers=6, dropout=0.1, lr=0.1\n"
     ]
    },
    {
     "data": {
      "application/vnd.jupyter.widget-view+json": {
       "model_id": "70001e687e0c45298bd7f58a8ce63cce",
       "version_major": 2,
       "version_minor": 0
      },
      "text/plain": [
       "  0%|          | 0/10 [00:00<?, ?it/s]"
      ]
     },
     "metadata": {},
     "output_type": "display_data"
    },
    {
     "name": "stdout",
     "output_type": "stream",
     "text": [
      "Epoch: 10 | Train Loss: 0.3029 | Acc: 0.8936 | Prec: 0.8915 | Recall: 0.8773 | F1: 0.8843 | ROC-AUC: 0.9528 || Test Loss: 0.6575 | Acc: 0.9256 | Prec: 0.9766 | Recall: 0.9424 | F1: 0.9592 | ROC-AUC: 0.8971\n",
      "Max val ROC-AUC: 0.9293\n",
      "Training with d_model=64, nhead=2, num_layers=6, dropout=0.1, lr=0.1\n"
     ]
    },
    {
     "data": {
      "application/vnd.jupyter.widget-view+json": {
       "model_id": "fb665614b5a44b00982140ad5776fafb",
       "version_major": 2,
       "version_minor": 0
      },
      "text/plain": [
       "  0%|          | 0/10 [00:00<?, ?it/s]"
      ]
     },
     "metadata": {},
     "output_type": "display_data"
    },
    {
     "name": "stdout",
     "output_type": "stream",
     "text": [
      "Epoch: 10 | Train Loss: 0.3605 | Acc: 0.8717 | Prec: 0.9228 | Recall: 0.7894 | F1: 0.8509 | ROC-AUC: 0.9214 || Test Loss: 0.3159 | Acc: 0.8698 | Prec: 0.9831 | Recall: 0.8747 | F1: 0.9257 | ROC-AUC: 0.9120\n",
      "Max val ROC-AUC: 0.9607\n",
      "Training with d_model=64, nhead=2, num_layers=6, dropout=0.1, lr=0.1\n"
     ]
    },
    {
     "data": {
      "application/vnd.jupyter.widget-view+json": {
       "model_id": "e0eb3d7095c74f89a0d92a20220dbbed",
       "version_major": 2,
       "version_minor": 0
      },
      "text/plain": [
       "  0%|          | 0/10 [00:00<?, ?it/s]"
      ]
     },
     "metadata": {},
     "output_type": "display_data"
    },
    {
     "name": "stdout",
     "output_type": "stream",
     "text": [
      "Epoch: 10 | Train Loss: 0.2558 | Acc: 0.9064 | Prec: 0.9428 | Recall: 0.8497 | F1: 0.8938 | ROC-AUC: 0.9587 || Test Loss: 0.4906 | Acc: 0.8047 | Prec: 0.9876 | Recall: 0.7995 | F1: 0.8837 | ROC-AUC: 0.9000\n",
      "Max val ROC-AUC: 0.9495\n",
      "Training with d_model=64, nhead=2, num_layers=6, dropout=0.1, lr=0.01\n"
     ]
    },
    {
     "data": {
      "application/vnd.jupyter.widget-view+json": {
       "model_id": "a2adb595297b4649bbbaa7debe5b162f",
       "version_major": 2,
       "version_minor": 0
      },
      "text/plain": [
       "  0%|          | 0/10 [00:00<?, ?it/s]"
      ]
     },
     "metadata": {},
     "output_type": "display_data"
    },
    {
     "name": "stdout",
     "output_type": "stream",
     "text": [
      "Epoch: 10 | Train Loss: 0.0884 | Acc: 0.9737 | Prec: 0.9800 | Recall: 0.9630 | F1: 0.9714 | ROC-AUC: 0.9933 || Test Loss: 0.4171 | Acc: 0.9000 | Prec: 0.9837 | Recall: 0.9073 | F1: 0.9439 | ROC-AUC: 0.9047\n",
      "Max val ROC-AUC: 0.9360\n",
      "Training with d_model=64, nhead=2, num_layers=6, dropout=0.1, lr=0.01\n"
     ]
    },
    {
     "data": {
      "application/vnd.jupyter.widget-view+json": {
       "model_id": "309a8ec0cb61422da4c8fc92ef37798d",
       "version_major": 2,
       "version_minor": 0
      },
      "text/plain": [
       "  0%|          | 0/10 [00:00<?, ?it/s]"
      ]
     },
     "metadata": {},
     "output_type": "display_data"
    },
    {
     "name": "stdout",
     "output_type": "stream",
     "text": [
      "Epoch: 10 | Train Loss: 0.1296 | Acc: 0.9532 | Prec: 0.9704 | Recall: 0.9274 | F1: 0.9484 | ROC-AUC: 0.9884 || Test Loss: 0.2855 | Acc: 0.9047 | Prec: 0.9891 | Recall: 0.9073 | F1: 0.9464 | ROC-AUC: 0.9183\n",
      "Max val ROC-AUC: 0.9521\n",
      "Training with d_model=64, nhead=2, num_layers=6, dropout=0.1, lr=0.01\n"
     ]
    },
    {
     "data": {
      "application/vnd.jupyter.widget-view+json": {
       "model_id": "b46b6e46f2464ab989929f2d2c7598b8",
       "version_major": 2,
       "version_minor": 0
      },
      "text/plain": [
       "  0%|          | 0/10 [00:00<?, ?it/s]"
      ]
     },
     "metadata": {},
     "output_type": "display_data"
    },
    {
     "name": "stdout",
     "output_type": "stream",
     "text": [
      "Epoch: 10 | Train Loss: 0.1061 | Acc: 0.9687 | Prec: 0.9805 | Recall: 0.9513 | F1: 0.9657 | ROC-AUC: 0.9899 || Test Loss: 0.3625 | Acc: 0.9140 | Prec: 0.9892 | Recall: 0.9173 | F1: 0.9519 | ROC-AUC: 0.9635\n",
      "Max val ROC-AUC: 0.9635\n",
      "Training with d_model=64, nhead=2, num_layers=6, dropout=0.1, lr=0.01\n"
     ]
    },
    {
     "data": {
      "application/vnd.jupyter.widget-view+json": {
       "model_id": "2826a34c5f34435fbc172f5f78cfeb72",
       "version_major": 2,
       "version_minor": 0
      },
      "text/plain": [
       "  0%|          | 0/10 [00:00<?, ?it/s]"
      ]
     },
     "metadata": {},
     "output_type": "display_data"
    },
    {
     "name": "stdout",
     "output_type": "stream",
     "text": [
      "Epoch: 10 | Train Loss: 0.1247 | Acc: 0.9603 | Prec: 0.9809 | Recall: 0.9325 | F1: 0.9561 | ROC-AUC: 0.9844 || Test Loss: 0.2616 | Acc: 0.8977 | Prec: 0.9890 | Recall: 0.8997 | F1: 0.9423 | ROC-AUC: 0.9444\n",
      "Max val ROC-AUC: 0.9592\n",
      "Training with d_model=64, nhead=2, num_layers=6, dropout=0.1, lr=0.01\n"
     ]
    },
    {
     "data": {
      "application/vnd.jupyter.widget-view+json": {
       "model_id": "595af892ec90444da85399f8308a3188",
       "version_major": 2,
       "version_minor": 0
      },
      "text/plain": [
       "  0%|          | 0/10 [00:00<?, ?it/s]"
      ]
     },
     "metadata": {},
     "output_type": "display_data"
    },
    {
     "name": "stdout",
     "output_type": "stream",
     "text": [
      "Epoch: 10 | Train Loss: 0.0842 | Acc: 0.9771 | Prec: 0.9881 | Recall: 0.9622 | F1: 0.9750 | ROC-AUC: 0.9920 || Test Loss: 0.3869 | Acc: 0.9000 | Prec: 0.9863 | Recall: 0.9048 | F1: 0.9438 | ROC-AUC: 0.9332\n",
      "Max val ROC-AUC: 0.9562\n",
      "Training with d_model=64, nhead=2, num_layers=6, dropout=0.1, lr=0.01\n"
     ]
    },
    {
     "data": {
      "application/vnd.jupyter.widget-view+json": {
       "model_id": "353bfec7fa234061ad363f12b6f68249",
       "version_major": 2,
       "version_minor": 0
      },
      "text/plain": [
       "  0%|          | 0/10 [00:00<?, ?it/s]"
      ]
     },
     "metadata": {},
     "output_type": "display_data"
    },
    {
     "name": "stdout",
     "output_type": "stream",
     "text": [
      "Epoch: 10 | Train Loss: 0.1087 | Acc: 0.9626 | Prec: 0.9795 | Recall: 0.9390 | F1: 0.9588 | ROC-AUC: 0.9895 || Test Loss: 0.3857 | Acc: 0.8884 | Prec: 0.9861 | Recall: 0.8922 | F1: 0.9368 | ROC-AUC: 0.9292\n",
      "Max val ROC-AUC: 0.9385\n",
      "Training with d_model=64, nhead=2, num_layers=6, dropout=0.1, lr=0.01\n"
     ]
    },
    {
     "data": {
      "application/vnd.jupyter.widget-view+json": {
       "model_id": "0078d37d44a84c9c87f7e75be3d5de03",
       "version_major": 2,
       "version_minor": 0
      },
      "text/plain": [
       "  0%|          | 0/10 [00:00<?, ?it/s]"
      ]
     },
     "metadata": {},
     "output_type": "display_data"
    },
    {
     "name": "stdout",
     "output_type": "stream",
     "text": [
      "Epoch: 10 | Train Loss: 0.1114 | Acc: 0.9643 | Prec: 0.9818 | Recall: 0.9405 | F1: 0.9607 | ROC-AUC: 0.9896 || Test Loss: 0.4261 | Acc: 0.8884 | Prec: 0.9835 | Recall: 0.8947 | F1: 0.9370 | ROC-AUC: 0.9241\n",
      "Max val ROC-AUC: 0.9431\n",
      "Training with d_model=64, nhead=2, num_layers=6, dropout=0.1, lr=0.01\n"
     ]
    },
    {
     "data": {
      "application/vnd.jupyter.widget-view+json": {
       "model_id": "522000a77b4e490c8f9206a8498f55ba",
       "version_major": 2,
       "version_minor": 0
      },
      "text/plain": [
       "  0%|          | 0/10 [00:00<?, ?it/s]"
      ]
     },
     "metadata": {},
     "output_type": "display_data"
    },
    {
     "name": "stdout",
     "output_type": "stream",
     "text": [
      "Epoch: 10 | Train Loss: 0.1194 | Acc: 0.9633 | Prec: 0.9738 | Recall: 0.9463 | F1: 0.9599 | ROC-AUC: 0.9898 || Test Loss: 0.5471 | Acc: 0.7372 | Prec: 0.9965 | Recall: 0.7193 | F1: 0.8355 | ROC-AUC: 0.9552\n",
      "Max val ROC-AUC: 0.9609\n",
      "Training with d_model=64, nhead=2, num_layers=6, dropout=0.1, lr=0.01\n"
     ]
    },
    {
     "data": {
      "application/vnd.jupyter.widget-view+json": {
       "model_id": "ecc26ab5c0ef4ef0b9354960d325f70b",
       "version_major": 2,
       "version_minor": 0
      },
      "text/plain": [
       "  0%|          | 0/10 [00:00<?, ?it/s]"
      ]
     },
     "metadata": {},
     "output_type": "display_data"
    },
    {
     "name": "stdout",
     "output_type": "stream",
     "text": [
      "Epoch: 10 | Train Loss: 0.0657 | Acc: 0.9832 | Prec: 0.9897 | Recall: 0.9739 | F1: 0.9817 | ROC-AUC: 0.9953 || Test Loss: 0.3099 | Acc: 0.9163 | Prec: 0.9840 | Recall: 0.9248 | F1: 0.9535 | ROC-AUC: 0.9424\n",
      "Max val ROC-AUC: 0.9642\n",
      "Training with d_model=64, nhead=2, num_layers=6, dropout=0.1, lr=0.01\n"
     ]
    },
    {
     "data": {
      "application/vnd.jupyter.widget-view+json": {
       "model_id": "f78a04eaf0e84277a0633ff133726faf",
       "version_major": 2,
       "version_minor": 0
      },
      "text/plain": [
       "  0%|          | 0/10 [00:00<?, ?it/s]"
      ]
     },
     "metadata": {},
     "output_type": "display_data"
    },
    {
     "name": "stdout",
     "output_type": "stream",
     "text": [
      "Epoch: 10 | Train Loss: 0.1289 | Acc: 0.9586 | Prec: 0.9816 | Recall: 0.9281 | F1: 0.9541 | ROC-AUC: 0.9860 || Test Loss: 0.2633 | Acc: 0.8837 | Prec: 0.9915 | Recall: 0.8822 | F1: 0.9337 | ROC-AUC: 0.9449\n",
      "Max val ROC-AUC: 0.9629\n",
      "Training with d_model=64, nhead=2, num_layers=6, dropout=0.1, lr=0.001\n"
     ]
    },
    {
     "data": {
      "application/vnd.jupyter.widget-view+json": {
       "model_id": "9d699a80d0cb45dfbe026af56e4f30d6",
       "version_major": 2,
       "version_minor": 0
      },
      "text/plain": [
       "  0%|          | 0/10 [00:00<?, ?it/s]"
      ]
     },
     "metadata": {},
     "output_type": "display_data"
    },
    {
     "name": "stdout",
     "output_type": "stream",
     "text": [
      "Epoch: 10 | Train Loss: 0.0328 | Acc: 0.9906 | Prec: 0.9898 | Recall: 0.9898 | F1: 0.9898 | ROC-AUC: 0.9986 || Test Loss: 0.4336 | Acc: 0.9279 | Prec: 0.9767 | Recall: 0.9449 | F1: 0.9605 | ROC-AUC: 0.9007\n",
      "Max val ROC-AUC: 0.9474\n",
      "Training with d_model=64, nhead=2, num_layers=6, dropout=0.1, lr=0.001\n"
     ]
    },
    {
     "data": {
      "application/vnd.jupyter.widget-view+json": {
       "model_id": "ab2d22f67306427e8cb99c4b17be88d6",
       "version_major": 2,
       "version_minor": 0
      },
      "text/plain": [
       "  0%|          | 0/10 [00:00<?, ?it/s]"
      ]
     },
     "metadata": {},
     "output_type": "display_data"
    }
   ],
   "source": [
    "from itertools import product\n",
    "NUM_EPOCHS = 10\n",
    "\n",
    "\n",
    "param_grid = {\n",
    "    \"d_model\": [64, 128, 25],\n",
    "    \"nhead\": [2, 4, 8, 16],\n",
    "    \"num_layers\": [i * 2 for i in range(1,51)],\n",
    "    \"dropout\": [0.0, 0.1 , 0.3 , 0.5],\n",
    "    \"lr\": [0.1, 0.01, 0.001],\n",
    "    \"weight_decay\": [0, 1e-4],\n",
    "    \"batch_size\": [4, 8, 16, 32, 64]\n",
    "}\n",
    "\n",
    "param_grid = [\n",
    "    dict(zip(param_grid.keys(), values))\n",
    "    for values in product(*param_grid.values())\n",
    "]\n",
    "best_params, best_results = hyperparameter_tuning(\n",
    "    param_grid,\n",
    "    train_dataloader=train_dataloader,\n",
    "    test_dataloader=test_dataloader,\n",
    "    device=device,\n",
    "    epochs=NUM_EPOCHS\n",
    ")"
   ]
  },
  {
   "cell_type": "code",
   "execution_count": null,
   "id": "e5e3b4b0-5f37-4767-909d-e7b970307657",
   "metadata": {},
   "outputs": [],
   "source": [
    "# Attention Weights\n",
    "import torch\n",
    "import torch.nn as nn\n",
    "\n",
    "class CustomTransformerEncoderLayer(nn.Module):\n",
    "    def __init__(self, d_model, nhead, dim_feedforward=256, dropout=0.5):\n",
    "        super(CustomTransformerEncoderLayer, self).__init__()\n",
    "        self.self_attn = nn.MultiheadAttention(d_model, nhead, dropout=dropout, batch_first=True)\n",
    "        self.linear1 = nn.Linear(d_model, dim_feedforward)\n",
    "        self.dropout = nn.Dropout(dropout)\n",
    "        self.linear2 = nn.Linear(dim_feedforward, d_model)\n",
    "\n",
    "        self.norm1 = nn.LayerNorm(d_model)\n",
    "        self.norm2 = nn.LayerNorm(d_model)\n",
    "        self.dropout1 = nn.Dropout(dropout)\n",
    "        self.dropout2 = nn.Dropout(dropout)\n",
    "\n",
    "        self.activation = nn.GELU()\n",
    "\n",
    "    def forward(self, src):\n",
    "        # Self-attention with weights\n",
    "        attn_output, attn_weights = self.self_attn(src, src, src, need_weights=True)\n",
    "        src = src + self.dropout1(attn_output)\n",
    "        src = self.norm1(src)\n",
    "\n",
    "        ff_output = self.linear2(self.dropout(self.activation(self.linear1(src))))\n",
    "        src = src + self.dropout2(ff_output)\n",
    "        src = self.norm2(src)\n",
    "\n",
    "        return src, attn_weights  # Return both output and attention\n",
    "        \n",
    "\n",
    "class TabTransformerWithAttention(nn.Module):\n",
    "    def __init__(self, input_dim,\n",
    "                 d_model=128,\n",
    "                 nhead=8,\n",
    "                 num_layers=4,\n",
    "                 dim_feedforward=256,\n",
    "                 dropout=0.5):\n",
    "        super(TabTransformerWithAttention, self).__init__()\n",
    "\n",
    "        self.embedding = nn.Linear(input_dim, d_model)\n",
    "        self.norm = nn.LayerNorm(d_model)\n",
    "\n",
    "        # Stack custom encoder layers\n",
    "        self.encoder_layers = nn.ModuleList([\n",
    "            CustomTransformerEncoderLayer(d_model, nhead, dim_feedforward, dropout)\n",
    "            for _ in range(num_layers)\n",
    "        ])\n",
    "\n",
    "        self.classifier = nn.Sequential(\n",
    "            nn.Linear(d_model, 128),\n",
    "            nn.BatchNorm1d(128),\n",
    "            nn.ReLU(),\n",
    "            nn.Dropout(dropout),\n",
    "            nn.Linear(128, 64),\n",
    "            nn.ReLU(),\n",
    "            nn.Dropout(dropout),\n",
    "            nn.Linear(64, 1)\n",
    "        )\n",
    "\n",
    "    def forward(self, x):\n",
    "        x = x.unsqueeze(1)  # (batch_size, seq_len=1, input_dim)\n",
    "        x = self.embedding(x)\n",
    "        x = self.norm(x)\n",
    "\n",
    "        all_attn_weights = []\n",
    "        for layer in self.encoder_layers:\n",
    "            x, attn_weights = layer(x)\n",
    "            all_attn_weights.append(attn_weights)  # store attention maps\n",
    "\n",
    "        x = x.mean(dim=1)\n",
    "        logits = self.classifier(x)\n",
    "        return logits, all_attn_weights  # return both predictions and attention maps\n"
   ]
  }
 ],
 "metadata": {
  "kernelspec": {
   "display_name": "Python 3 (ipykernel)",
   "language": "python",
   "name": "python3"
  },
  "language_info": {
   "codemirror_mode": {
    "name": "ipython",
    "version": 3
   },
   "file_extension": ".py",
   "mimetype": "text/x-python",
   "name": "python",
   "nbconvert_exporter": "python",
   "pygments_lexer": "ipython3",
   "version": "3.13.5"
  }
 },
 "nbformat": 4,
 "nbformat_minor": 5
}
